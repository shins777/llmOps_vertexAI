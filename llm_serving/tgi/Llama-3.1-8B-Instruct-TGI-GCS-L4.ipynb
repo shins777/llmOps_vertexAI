{
 "cells": [
  {
   "cell_type": "code",
   "execution_count": null,
   "metadata": {
    "id": "rpOViEv6--Np"
   },
   "outputs": [],
   "source": [
    "# Copyright 2024 Forusone\n",
    "#\n",
    "# Licensed under the Apache License, Version 2.0 (the \"License\");\n",
    "# you may not use this file except in compliance with the License.\n",
    "# You may obtain a copy of the License at\n",
    "#\n",
    "#     https://www.apache.org/licenses/LICENSE-2.0\n",
    "#\n",
    "# Unless required by applicable law or agreed to in writing, software\n",
    "# distributed under the License is distributed on an \"AS IS\" BASIS,\n",
    "# WITHOUT WARRANTIES OR CONDITIONS OF ANY KIND, either express or implied.\n",
    "# See the License for the specific language governing permissions and\n",
    "# limitations under the License."
   ]
  },
  {
   "cell_type": "markdown",
   "metadata": {
    "id": "qPAqXsyPrNhg"
   },
   "source": [
    "# Serving-meta-llama/Llama-3.1-8B-Instruct-TGI-GCS-Vertex AI-L4\n"
   ]
  },
  {
   "cell_type": "code",
   "execution_count": 1,
   "metadata": {
    "colab": {
     "base_uri": "https://localhost:8080/"
    },
    "executionInfo": {
     "elapsed": 38647,
     "status": "ok",
     "timestamp": 1736997593691,
     "user": {
      "displayName": "Hangsik Shin",
      "userId": "04632555686962088332"
     },
     "user_tz": -540
    },
    "id": "8zUvStkFrNhi",
    "outputId": "e8160cea-93d6-4582-e2aa-d972b8c582ba"
   },
   "outputs": [
    {
     "name": "stdout",
     "output_type": "stream",
     "text": [
      "\u001b[33m  WARNING: The script transformers-cli is installed in '/home/jupyter/.local/bin' which is not on PATH.\n",
      "  Consider adding this directory to PATH or, if you prefer to suppress this warning, use --no-warn-script-location.\u001b[0m\u001b[33m\n",
      "Note: you may need to restart the kernel to use updated packages.\n"
     ]
    }
   ],
   "source": [
    "# @title Install Vertex AI SDK and other required packages\n",
    "%pip install --upgrade --user --quiet google-cloud-aiplatform \\\n",
    "                                      huggingface_hub[hf_transfer] \\\n",
    "                                      transformers"
   ]
  },
  {
   "cell_type": "code",
   "execution_count": 5,
   "metadata": {
    "cellView": "form",
    "id": "_k0ZYpYQrNhj"
   },
   "outputs": [],
   "source": [
    "# @title Define constants\n",
    "import datetime\n",
    "now = datetime.datetime.now()\n",
    "\n",
    "PROJECT_ID=\"ai-hangsik\" # @param {type:\"string\"}\n",
    "LOCATION=\"us-central1\" # @param {type:\"string\"}\n",
    "BUCKET_URI=\"gs://sllm_0104\" # @param {type:\"string\"}\n",
    "ARTIFACT_URI=\"gs://sllm_0104/llama3.1_8b_inst\" # @param {type:\"string\"}\n",
    "\n",
    "MODEL_ID = \"TGI-Meta-Llama-3.1-8B-Instruct\" # @param {type:\"string\"}\n",
    "MODEL_DISPLAY_NAME = f\"{MODEL_ID}-{now}\"\n",
    "\n",
    "CONTAINER_URI=\"us-docker.pkg.dev/deeplearning-platform-release/gcr.io/huggingface-text-generation-inference-cu124.2-3.ubuntu2204.py311\" # @param {type:\"string\"}"
   ]
  },
  {
   "cell_type": "code",
   "execution_count": 6,
   "metadata": {
    "id": "wFyHm-k-8qL9"
   },
   "outputs": [],
   "source": [
    "# @title GCP Authentication\n",
    "\n",
    "# Use OAuth to access the GCP environment.\n",
    "import sys\n",
    "if \"google.colab\" in sys.modules:\n",
    "    from google.colab import auth\n",
    "    auth.authenticate_user(project_id=PROJECT_ID)"
   ]
  },
  {
   "cell_type": "markdown",
   "metadata": {
    "id": "TOWfBJis-grC"
   },
   "source": [
    "## Model upload and deploy"
   ]
  },
  {
   "cell_type": "code",
   "execution_count": 7,
   "metadata": {
    "id": "OIpqvWUIrNhk"
   },
   "outputs": [],
   "source": [
    "# @title Initialize on Vertex AI\n",
    "import os\n",
    "from google.cloud import aiplatform\n",
    "\n",
    "aiplatform.init(\n",
    "    project=PROJECT_ID,\n",
    "    location=LOCATION,\n",
    "    staging_bucket=BUCKET_URI,\n",
    ")"
   ]
  },
  {
   "cell_type": "code",
   "execution_count": 8,
   "metadata": {
    "colab": {
     "base_uri": "https://localhost:8080/"
    },
    "executionInfo": {
     "elapsed": 15028,
     "status": "ok",
     "timestamp": 1736998329308,
     "user": {
      "displayName": "Hangsik Shin",
      "userId": "04632555686962088332"
     },
     "user_tz": -540
    },
    "id": "Kqf0FT5rrNhk",
    "outputId": "f5882dcb-e9e8-41aa-ee1f-dd130f75e404"
   },
   "outputs": [
    {
     "name": "stdout",
     "output_type": "stream",
     "text": [
      "Creating Model\n",
      "Create Model backing LRO: projects/721521243942/locations/us-central1/models/2125355976491008/operations/7706720987584135168\n",
      "Model created. Resource name: projects/721521243942/locations/us-central1/models/2125355976491008@1\n",
      "To use this Model in another session:\n",
      "model = aiplatform.Model('projects/721521243942/locations/us-central1/models/2125355976491008@1')\n"
     ]
    }
   ],
   "source": [
    "# @title Upload a model\n",
    "model = aiplatform.Model.upload(\n",
    "    display_name= MODEL_DISPLAY_NAME,\n",
    "    artifact_uri=ARTIFACT_URI,\n",
    "    serving_container_image_uri=CONTAINER_URI,\n",
    "    serving_container_environment_variables={\n",
    "        \"NUM_SHARD\": \"1\",\n",
    "        \"MAX_INPUT_TOKENS\": \"512\",\n",
    "        \"MAX_TOTAL_TOKENS\": \"1024\",\n",
    "        \"MAX_BATCH_PREFILL_TOKENS\": \"1512\",\n",
    "    },\n",
    "    serving_container_ports=[8080],\n",
    ")\n",
    "model.wait()"
   ]
  },
  {
   "cell_type": "code",
   "execution_count": 9,
   "metadata": {
    "id": "MglJoe3rrNho"
   },
   "outputs": [
    {
     "name": "stdout",
     "output_type": "stream",
     "text": [
      "Creating Endpoint\n",
      "Create Endpoint backing LRO: projects/721521243942/locations/us-central1/endpoints/5904422521133858816/operations/2433005823933284352\n",
      "Endpoint created. Resource name: projects/721521243942/locations/us-central1/endpoints/5904422521133858816\n",
      "To use this Endpoint in another session:\n",
      "endpoint = aiplatform.Endpoint('projects/721521243942/locations/us-central1/endpoints/5904422521133858816')\n"
     ]
    }
   ],
   "source": [
    "# @title Create an endpoint\n",
    "endpoint = aiplatform.Endpoint.create(display_name=f\"{MODEL_DISPLAY_NAME}-endpoint\")"
   ]
  },
  {
   "cell_type": "code",
   "execution_count": 10,
   "metadata": {
    "id": "733jmfnIrNho"
   },
   "outputs": [
    {
     "name": "stdout",
     "output_type": "stream",
     "text": [
      "Deploying model to Endpoint : projects/721521243942/locations/us-central1/endpoints/5904422521133858816\n",
      "Deploy Endpoint model backing LRO: projects/721521243942/locations/us-central1/endpoints/5904422521133858816/operations/6738447067699478528\n",
      "Endpoint model deployed. Resource name: projects/721521243942/locations/us-central1/endpoints/5904422521133858816\n"
     ]
    }
   ],
   "source": [
    "# @title Deploy model\n",
    "\n",
    "# https://cloud.google.com/vertex-ai/docs/general/deployment\n",
    "\n",
    "deployed_model = model.deploy(\n",
    "    endpoint=endpoint,\n",
    "    machine_type=\"g2-standard-4\",\n",
    "    accelerator_type=\"NVIDIA_L4\",\n",
    "    accelerator_count=1,\n",
    ")"
   ]
  },
  {
   "cell_type": "markdown",
   "metadata": {
    "id": "_OkEx5iWrNho"
   },
   "source": [
    "## Online predictions on Vertex AI"
   ]
  },
  {
   "cell_type": "code",
   "execution_count": 23,
   "metadata": {
    "colab": {
     "base_uri": "https://localhost:8080/"
    },
    "executionInfo": {
     "elapsed": 16748,
     "status": "ok",
     "timestamp": 1736089711255,
     "user": {
      "displayName": "",
      "userId": ""
     },
     "user_tz": -540
    },
    "id": "Q2TZcFRNrNho",
    "outputId": "367a3664-ce81-4757-89e9-9d35ce318f3f"
   },
   "outputs": [
    {
     "name": "stdout",
     "output_type": "stream",
     "text": [
      " And how does it work?\n",
      "In this course, I'll introduce you to the foundations of machine learning, a subfield of artificial intelligence (AI). You'll learn about the fundamental concepts, the typical machine learning workflow, and key techniques and algorithms. \n",
      "Upon completing this course, you'll be able to:\n",
      "1. Define machine learning and explain its role in AI\n",
      "2. Identify the main types of machine learning (supervised, unsupervised, and reinforcement learning)\n",
      "3. Explain the machine learning workflow, from problem formulation to model deployment\n",
      "4. Define key machine learning concepts (e.g., bias, variance, overfitting, underfitting)\n",
      "5. Understand the advantages and challenges of machine learning\n",
      "6. Familiarize yourself with common machine learning algorithms and techniques (e.g., linear regression, decision trees, clustering)\n",
      "7. Develop a basic understanding of evaluation metrics (e.g., accuracy, precision, recall, F1 score)\n",
      "\n",
      "By the end of this course, you'll have a solid grasp of the fundamental principles of machine learning and its applications. You'll be well-prepared to explore more advanced machine learning topics, such as deep learning, natural language processing, and computer vision.\n",
      "So, let's get started!\n",
      "\n",
      "Welcome to the world of machine\n"
     ]
    }
   ],
   "source": [
    "# @title Within the same session\n",
    "inputs =  \"What's machine learning?\"\n",
    "\n",
    "output = deployed_model.predict(\n",
    "    instances=[\n",
    "        {\n",
    "            \"inputs\": inputs,\n",
    "            \"parameters\": {\n",
    "                \"max_new_tokens\": 256, \n",
    "                \"do_sample\": True,\n",
    "                \"top_p\": 0.95, \n",
    "                \"temperature\": 0.0,\n",
    "            },\n",
    "        },\n",
    "    ]\n",
    ")\n",
    "print(output.predictions[0])"
   ]
  },
  {
   "cell_type": "code",
   "execution_count": 22,
   "metadata": {
    "colab": {
     "base_uri": "https://localhost:8080/"
    },
    "executionInfo": {
     "elapsed": 8714,
     "status": "ok",
     "timestamp": 1736089775147,
     "user": {
      "displayName": "",
      "userId": ""
     },
     "user_tz": -540
    },
    "id": "qKAmmD9UrNho",
    "outputId": "9c0f6ec3-3b01-4a99-8b58-f039eee8d4be"
   },
   "outputs": [
    {
     "name": "stdout",
     "output_type": "stream",
     "text": [
      " [2/4]\n",
      "What is machine learning?\n",
      "Simply put, machine learning is a type of artificial intelligence (AI) that enables computers to learn from experience without being explicitly programmed.\n",
      "Imagine you're trying to learn how to ride a bike. At first, you don't know how, and you might even have trouble staying on. But with practice, you get better and better, making adjustments as you go along. Eventually, you can ride a bike with ease!\n",
      "Machine learning works in a similar way. It's a type of learning where the computer system gets better at a task through experience, and this experience comes in the form of data\n"
     ]
    }
   ],
   "source": [
    "# @title From a different session\n",
    "import os\n",
    "from google.cloud import aiplatform\n",
    "\n",
    "aiplatform.init(project=PROJECT_ID, location=LOCATION)\n",
    "endpoint_display_name = f\"{MODEL_DISPLAY_NAME}-endpoint\"  # TODO: change to your endpoint display name\n",
    "\n",
    "# Iterates over all the Vertex AI Endpoints within the current project and keeps the first match (if any), otherwise set to None\n",
    "ENDPOINT_ID = next(\n",
    "    (endpoint.name for endpoint in aiplatform.Endpoint.list()\n",
    "     if endpoint.display_name == endpoint_display_name),\n",
    "    None\n",
    ")\n",
    "assert ENDPOINT_ID, (\n",
    "    \"`ENDPOINT_ID` is not set, please make sure that the `endpoint_display_name` is correct at \"\\\n",
    "    f\"https://console.cloud.google.com/vertex-ai/online-prediction/endpoints?project={os.getenv('PROJECT_ID')}\"\n",
    ")\n",
    "\n",
    "endpoint = aiplatform.Endpoint(f\"projects/{PROJECT_ID}/locations/{LOCATION}/endpoints/{ENDPOINT_ID}\")\n",
    "output = endpoint.predict(\n",
    "    instances=[\n",
    "        {\n",
    "            \"inputs\": \"What's machine learning?\",\n",
    "            \"parameters\": {\n",
    "                \"max_new_tokens\": 128,\n",
    "                \"do_sample\": True,\n",
    "                \"top_p\": 0.95,\n",
    "                \"temperature\": 0.7,\n",
    "            },\n",
    "        },\n",
    "    ],\n",
    ")\n",
    "print(output.predictions[0])"
   ]
  },
  {
   "cell_type": "code",
   "execution_count": null,
   "metadata": {
    "id": "XXvQx2yWrNhp"
   },
   "outputs": [],
   "source": [
    "# @title Resource clean-up\n",
    "deployed_model.undeploy_all()\n",
    "deployed_model.delete()\n",
    "model.delete()"
   ]
  },
  {
   "cell_type": "code",
   "execution_count": null,
   "metadata": {
    "id": "t4ByjcOjrNhp"
   },
   "outputs": [],
   "source": [
    "!gcloud storage rm -r $BUCKET_URI"
   ]
  }
 ],
 "metadata": {
  "colab": {
   "provenance": [
    {
     "file_id": "1yky3lSDqrIT6U4-iqayuZjEgNK1CP-tC",
     "timestamp": 1736821180428
    }
   ],
   "toc_visible": true
  },
  "environment": {
   "kernel": "conda-base-py",
   "name": "workbench-notebooks.m127",
   "type": "gcloud",
   "uri": "us-docker.pkg.dev/deeplearning-platform-release/gcr.io/workbench-notebooks:m127"
  },
  "kernelspec": {
   "display_name": "Python 3 (ipykernel)",
   "language": "python",
   "name": "conda-base-py"
  },
  "language_info": {
   "codemirror_mode": {
    "name": "ipython",
    "version": 3
   },
   "file_extension": ".py",
   "mimetype": "text/x-python",
   "name": "python",
   "nbconvert_exporter": "python",
   "pygments_lexer": "ipython3",
   "version": "3.10.16"
  }
 },
 "nbformat": 4,
 "nbformat_minor": 4
}
