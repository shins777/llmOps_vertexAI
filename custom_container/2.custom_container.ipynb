{
 "cells": [
  {
   "cell_type": "code",
   "execution_count": null,
   "id": "ac78fc0e-a66e-4488-8755-36c9dd637404",
   "metadata": {},
   "outputs": [],
   "source": [
    "# Copyright 2024 Forusone\n",
    "#\n",
    "# Licensed under the Apache License, Version 2.0 (the \"License\");\n",
    "# you may not use this file except in compliance with the License.\n",
    "# You may obtain a copy of the License at\n",
    "#\n",
    "#     https://www.apache.org/licenses/LICENSE-2.0\n",
    "#\n",
    "# Unless required by applicable law or agreed to in writing, software\n",
    "# distributed under the License is distributed on an \"AS IS\" BASIS,\n",
    "# WITHOUT WARRANTIES OR CONDITIONS OF ANY KIND, either express or implied.\n",
    "# See the License for the specific language governing permissions and\n",
    "# limitations under the License."
   ]
  },
  {
   "cell_type": "markdown",
   "id": "00351be8-9ac0-4b5f-bce9-44c51c42c225",
   "metadata": {},
   "source": [
    "## Customer Container for prediction"
   ]
  },
  {
   "cell_type": "markdown",
   "id": "06d4779b-4442-4223-87c9-563c42858b34",
   "metadata": {},
   "source": [
    "### Configuration"
   ]
  },
  {
   "cell_type": "code",
   "execution_count": 290,
   "id": "f14acad4-8b27-4122-9b5f-1bcd3198dcdd",
   "metadata": {},
   "outputs": [],
   "source": [
    "! pip install --upgrade --quiet  google-cloud-aiplatform \\\n",
    "                                 google-cloud-storage"
   ]
  },
  {
   "cell_type": "code",
   "execution_count": 392,
   "id": "cf3990db-fa11-4b75-82df-68962232be09",
   "metadata": {},
   "outputs": [],
   "source": [
    "PROJECT_ID = \"ai-hangsik\" \n",
    "LOCATION = \"us-central1\" \n",
    "BUCKET_URI = f\"gs://sllm_0116\" \n",
    "\n",
    "MODEL_ARTIFACT_DIR = \"custom-container-prediction\"\n",
    "REPOSITORY = \"custom-container-repo\"\n",
    "IMAGE = \"sklearn-fastapi-server\"\n",
    "MODEL_DISPLAY_NAME = \"sklearn-fastapi-model\"\n",
    "\n",
    "SRC_DIR = \"app\""
   ]
  },
  {
   "cell_type": "code",
   "execution_count": 292,
   "id": "dae00014-ddc5-4f44-ab73-7200631bb85b",
   "metadata": {},
   "outputs": [],
   "source": [
    "import os\n",
    "import sys\n",
    "from google.cloud import aiplatform\n",
    "\n",
    "aiplatform.init(project=PROJECT_ID, location=LOCATION, staging_bucket=BUCKET_URI)"
   ]
  },
  {
   "cell_type": "markdown",
   "id": "9aa6d595-8f86-4f4f-816d-4a0a201f1d7e",
   "metadata": {},
   "source": [
    "### Build customer container"
   ]
  },
  {
   "cell_type": "code",
   "execution_count": 293,
   "id": "89422b4c-8e74-43e8-b252-45c37c58f183",
   "metadata": {},
   "outputs": [
    {
     "name": "stdout",
     "output_type": "stream",
     "text": [
      "/home/jupyter/llmOps_vertexAI/custom_container\n",
      "total 148\n",
      "drwxr-xr-x 4 jupyter jupyter  4096 Feb  5 07:23 .\n",
      "drwxr-xr-x 6 jupyter jupyter  4096 Feb  3 09:54 ..\n",
      "drwxr-xr-x 2 jupyter jupyter  4096 Feb  5 05:10 .ipynb_checkpoints\n",
      "-rw-r--r-- 1 jupyter jupyter 34441 Feb  5 07:23 1.model_build.ipynb\n",
      "-rw-r--r-- 1 jupyter jupyter 54405 Feb  5 07:23 2.custom_container.ipynb\n",
      "-rw-r--r-- 1 jupyter jupyter 25964 Feb  3 09:42 3.deploy_model_vertexai.ipynb\n",
      "-rw-r--r-- 1 jupyter jupyter   220 Feb  5 07:14 Dockerfile\n",
      "drwxr-xr-x 2 jupyter jupyter  4096 Feb  5 07:21 app\n",
      "-rw-r--r-- 1 jupyter jupyter    88 Feb  5 07:16 instances.json\n",
      "-rw-r--r-- 1 jupyter jupyter    80 Feb  5 06:23 requirements.txt\n"
     ]
    }
   ],
   "source": [
    "!pwd\n",
    "!ls -al"
   ]
  },
  {
   "cell_type": "code",
   "execution_count": 393,
   "id": "c3d3967d-d5cc-4785-b68a-235283be73bc",
   "metadata": {},
   "outputs": [
    {
     "name": "stdout",
     "output_type": "stream",
     "text": [
      "mkdir: cannot create directory ‘app’: File exists\n"
     ]
    }
   ],
   "source": [
    "%mkdir $SRC_DIR"
   ]
  },
  {
   "cell_type": "code",
   "execution_count": 295,
   "id": "a6bf7755-6a6b-4436-a975-71540e881ae9",
   "metadata": {},
   "outputs": [
    {
     "name": "stdout",
     "output_type": "stream",
     "text": [
      "Copying file://app/model.pkl [Content-Type=application/octet-stream]...\n",
      "/ [1 files][  2.6 KiB/  2.6 KiB]                                                \n",
      "Operation completed over 1 objects/2.6 KiB.                                      \n"
     ]
    }
   ],
   "source": [
    "# Copy model to GCS\n",
    "!gsutil cp app/model.pkl {BUCKET_URI}/{MODEL_ARTIFACT_DIR}/"
   ]
  },
  {
   "cell_type": "markdown",
   "id": "5ff8dd03-1f08-420b-90f8-e24113bc75a4",
   "metadata": {},
   "source": [
    "#### Write application for HTTP Webserver using FastAPI()"
   ]
  },
  {
   "cell_type": "code",
   "execution_count": 394,
   "id": "06da9729-ea50-4219-bdf1-86b68020ea77",
   "metadata": {},
   "outputs": [
    {
     "name": "stdout",
     "output_type": "stream",
     "text": [
      "Writing app/main.py\n"
     ]
    }
   ],
   "source": [
    "%%writefile $SRC_DIR/main.py\n",
    "from fastapi import FastAPI, Request\n",
    "\n",
    "import joblib\n",
    "import json\n",
    "import numpy as np\n",
    "import pickle\n",
    "import os\n",
    "\n",
    "from google.cloud import storage\n",
    "from sklearn.datasets import load_iris\n",
    "\n",
    "app = FastAPI()\n",
    "gcs_client = storage.Client()\n",
    "\n",
    "print(f\"---------[ Environment ] --------------\")\n",
    "print(f\"PORT:{os.environ['AIP_HTTP_PORT']}\")\n",
    "print(f\"AIP_STORAGE_URI:{os.environ['AIP_STORAGE_URI']}\")\n",
    "print(f\"AIP_HEALTH_ROUTE:{os.environ['AIP_HEALTH_ROUTE']}\")\n",
    "print(f\"AIP_PREDICT_ROUTE:{os.environ['AIP_PREDICT_ROUTE']}\")\n",
    "\n",
    "# Download model file from GCS\n",
    "with open(\"model.pkl\", 'wb') as model_f:\n",
    "    gcs_client.download_blob_to_file(\n",
    "        f\"{os.environ['AIP_STORAGE_URI']}/model.pkl\", model_f\n",
    "    )\n",
    "\n",
    "# Load model file stored in local was downloaded from GCS\n",
    "with open(\"model.pkl\", \"rb\") as f:\n",
    "    model = pickle.load(f)\n",
    "\n",
    "_class_names = load_iris().target_names\n",
    "_model = model\n",
    "\n",
    "@app.get(os.environ['AIP_HEALTH_ROUTE'], status_code=200)\n",
    "def health():\n",
    "    print(f\"Health Check : OK !!\")\n",
    "\n",
    "    return {\"status\":\"OK\"}\n",
    "\n",
    "@app.post(os.environ['AIP_PREDICT_ROUTE'])\n",
    "async def predict(request: Request):\n",
    "    body = await request.json()\n",
    "    print(f\"Prediction request body : {body}\")\n",
    "\n",
    "    instances = body[\"instances\"]\n",
    "    inputs = np.asarray(instances)\n",
    "    outputs = _model.predict(inputs)\n",
    "\n",
    "    return {\"predictions\": [_class_names[class_num] for class_num in outputs]}\n"
   ]
  },
  {
   "cell_type": "code",
   "execution_count": 395,
   "id": "b9379fcf-84f1-4f8c-b948-24cc800c0bf2",
   "metadata": {},
   "outputs": [
    {
     "name": "stdout",
     "output_type": "stream",
     "text": [
      "Overwriting app/prestart.sh\n"
     ]
    }
   ],
   "source": [
    "# %%writefile app/prestart.sh\n",
    "# #!/bin/bash\n",
    "# export PORT=$AIP_HTTP_PORT\n",
    "# export WORKER_THREADS=$WORKER_THREADS"
   ]
  },
  {
   "cell_type": "code",
   "execution_count": 518,
   "id": "8267027a-e9ee-45fb-b02c-4a766e458f43",
   "metadata": {},
   "outputs": [
    {
     "name": "stdout",
     "output_type": "stream",
     "text": [
      "Overwriting app/entrypoint.sh\n"
     ]
    }
   ],
   "source": [
    "%%writefile app/entrypoint.sh\n",
    "#!/bin/bash\n",
    "\n",
    "export HOST=$AIP_HTTP_HOST\n",
    "export PORT=$AIP_HTTP_PORT\n",
    "export WORKER_THREADS=$WORKER_THREADS\n",
    "\n",
    "uvicorn app.main:app --host=$HOST --port=$PORT --workers=$WORKER_THREADS\n"
   ]
  },
  {
   "cell_type": "code",
   "execution_count": 519,
   "id": "eff83f1f-cb6c-4285-8f20-04331381e548",
   "metadata": {},
   "outputs": [],
   "source": [
    "!chmod +x app/entrypoint.sh "
   ]
  },
  {
   "cell_type": "markdown",
   "id": "fdc6a071-fda7-4797-a0a5-7c9d992686e8",
   "metadata": {},
   "source": [
    "#### Build a Docker file."
   ]
  },
  {
   "cell_type": "code",
   "execution_count": 520,
   "id": "149e44b8-3d20-424a-b2e0-872884ec4cf5",
   "metadata": {},
   "outputs": [
    {
     "name": "stdout",
     "output_type": "stream",
     "text": [
      "Overwriting Dockerfile\n"
     ]
    }
   ],
   "source": [
    "%%writefile Dockerfile\n",
    "\n",
    "FROM python:3.9\n",
    "\n",
    "COPY ./app /app\n",
    "COPY requirements.txt requirements.txt\n",
    "\n",
    "RUN pip install -r requirements.txt\n",
    "\n",
    "ENTRYPOINT [\"/app/entrypoint.sh\"]\n"
   ]
  },
  {
   "cell_type": "code",
   "execution_count": 521,
   "id": "ec6cef07-2f02-4cd9-a013-a02e7e57355e",
   "metadata": {},
   "outputs": [
    {
     "name": "stdout",
     "output_type": "stream",
     "text": [
      "Overwriting requirements.txt\n"
     ]
    }
   ],
   "source": [
    "%%writefile requirements.txt\n",
    "numpy\n",
    "scikit-learn\n",
    "google-cloud-storage\n",
    "uvicorn[standard]\n",
    "gunicorn\n",
    "fastapi[all]"
   ]
  },
  {
   "cell_type": "code",
   "execution_count": 522,
   "id": "0b3d271b-388a-4ba3-8b59-8fa1bdca8b28",
   "metadata": {},
   "outputs": [
    {
     "name": "stdout",
     "output_type": "stream",
     "text": [
      "Sending build context to Docker daemon  200.2kB\n",
      "Step 1/5 : FROM python:3.9\n",
      " ---> bb95474bc3b1\n",
      "Step 2/5 : COPY ./app /app\n",
      " ---> 86b72602eafc\n",
      "Step 3/5 : COPY requirements.txt requirements.txt\n",
      " ---> 716e7399690a\n",
      "Step 4/5 : RUN pip install -r requirements.txt\n",
      " ---> Running in cd50d3142d63\n",
      "Collecting numpy\n",
      "  Downloading numpy-2.0.2-cp39-cp39-manylinux_2_17_x86_64.manylinux2014_x86_64.whl (19.5 MB)\n",
      "     ━━━━━━━━━━━━━━━━━━━━━━━━━━━━━━━━━━━━━━━━ 19.5/19.5 MB 93.2 MB/s eta 0:00:00\n",
      "Collecting scikit-learn\n",
      "  Downloading scikit_learn-1.6.1-cp39-cp39-manylinux_2_17_x86_64.manylinux2014_x86_64.whl (13.5 MB)\n",
      "     ━━━━━━━━━━━━━━━━━━━━━━━━━━━━━━━━━━━━━━━ 13.5/13.5 MB 110.4 MB/s eta 0:00:00\n",
      "Collecting google-cloud-storage\n",
      "  Downloading google_cloud_storage-3.0.0-py2.py3-none-any.whl (173 kB)\n",
      "     ━━━━━━━━━━━━━━━━━━━━━━━━━━━━━━━━━━━━━━ 173.9/173.9 kB 38.8 MB/s eta 0:00:00\n",
      "Collecting uvicorn[standard]\n",
      "  Downloading uvicorn-0.34.0-py3-none-any.whl (62 kB)\n",
      "     ━━━━━━━━━━━━━━━━━━━━━━━━━━━━━━━━━━━━━━━━ 62.3/62.3 kB 15.9 MB/s eta 0:00:00\n",
      "Collecting gunicorn\n",
      "  Downloading gunicorn-23.0.0-py3-none-any.whl (85 kB)\n",
      "     ━━━━━━━━━━━━━━━━━━━━━━━━━━━━━━━━━━━━━━━━ 85.0/85.0 kB 22.2 MB/s eta 0:00:00\n",
      "Collecting fastapi[all]\n",
      "  Downloading fastapi-0.115.8-py3-none-any.whl (94 kB)\n",
      "     ━━━━━━━━━━━━━━━━━━━━━━━━━━━━━━━━━━━━━━━━ 94.8/94.8 kB 24.1 MB/s eta 0:00:00\n",
      "Collecting scipy>=1.6.0\n",
      "  Downloading scipy-1.13.1-cp39-cp39-manylinux_2_17_x86_64.manylinux2014_x86_64.whl (38.6 MB)\n",
      "     ━━━━━━━━━━━━━━━━━━━━━━━━━━━━━━━━━━━━━━━━ 38.6/38.6 MB 53.2 MB/s eta 0:00:00\n",
      "Collecting threadpoolctl>=3.1.0\n",
      "  Downloading threadpoolctl-3.5.0-py3-none-any.whl (18 kB)\n",
      "Collecting joblib>=1.2.0\n",
      "  Downloading joblib-1.4.2-py3-none-any.whl (301 kB)\n",
      "     ━━━━━━━━━━━━━━━━━━━━━━━━━━━━━━━━━━━━━━ 301.8/301.8 kB 54.0 MB/s eta 0:00:00\n",
      "Collecting google-cloud-core<3.0dev,>=2.3.0\n",
      "  Downloading google_cloud_core-2.4.1-py2.py3-none-any.whl (29 kB)\n",
      "Collecting google-resumable-media>=2.7.2\n",
      "  Downloading google_resumable_media-2.7.2-py2.py3-none-any.whl (81 kB)\n",
      "     ━━━━━━━━━━━━━━━━━━━━━━━━━━━━━━━━━━━━━━━━ 81.3/81.3 kB 21.7 MB/s eta 0:00:00\n",
      "Collecting google-api-core<3.0.0dev,>=2.15.0\n",
      "  Downloading google_api_core-2.24.1-py3-none-any.whl (160 kB)\n",
      "     ━━━━━━━━━━━━━━━━━━━━━━━━━━━━━━━━━━━━━━ 160.1/160.1 kB 36.8 MB/s eta 0:00:00\n",
      "Collecting google-auth<3.0dev,>=2.26.1\n",
      "  Downloading google_auth-2.38.0-py2.py3-none-any.whl (210 kB)\n",
      "     ━━━━━━━━━━━━━━━━━━━━━━━━━━━━━━━━━━━━━━ 210.8/210.8 kB 42.9 MB/s eta 0:00:00\n",
      "Collecting google-crc32c<2.0dev,>=1.0\n",
      "  Downloading google_crc32c-1.6.0-cp39-cp39-manylinux_2_17_x86_64.manylinux2014_x86_64.whl (37 kB)\n",
      "Collecting requests<3.0.0dev,>=2.18.0\n",
      "  Downloading requests-2.32.3-py3-none-any.whl (64 kB)\n",
      "     ━━━━━━━━━━━━━━━━━━━━━━━━━━━━━━━━━━━━━━━━ 64.9/64.9 kB 17.5 MB/s eta 0:00:00\n",
      "Collecting typing-extensions>=4.0\n",
      "  Downloading typing_extensions-4.12.2-py3-none-any.whl (37 kB)\n",
      "Collecting click>=7.0\n",
      "  Downloading click-8.1.8-py3-none-any.whl (98 kB)\n",
      "     ━━━━━━━━━━━━━━━━━━━━━━━━━━━━━━━━━━━━━━━━ 98.2/98.2 kB 24.1 MB/s eta 0:00:00\n",
      "Collecting h11>=0.8\n",
      "  Downloading h11-0.14.0-py3-none-any.whl (58 kB)\n",
      "     ━━━━━━━━━━━━━━━━━━━━━━━━━━━━━━━━━━━━━━━━ 58.3/58.3 kB 15.7 MB/s eta 0:00:00\n",
      "Collecting httptools>=0.6.3\n",
      "  Downloading httptools-0.6.4-cp39-cp39-manylinux_2_5_x86_64.manylinux1_x86_64.manylinux_2_17_x86_64.manylinux2014_x86_64.whl (448 kB)\n",
      "     ━━━━━━━━━━━━━━━━━━━━━━━━━━━━━━━━━━━━━━ 448.8/448.8 kB 58.0 MB/s eta 0:00:00\n",
      "Collecting uvloop!=0.15.0,!=0.15.1,>=0.14.0\n",
      "  Downloading uvloop-0.21.0-cp39-cp39-manylinux_2_17_x86_64.manylinux2014_x86_64.whl (3.8 MB)\n",
      "     ━━━━━━━━━━━━━━━━━━━━━━━━━━━━━━━━━━━━━━━━ 3.8/3.8 MB 115.6 MB/s eta 0:00:00\n",
      "Collecting watchfiles>=0.13\n",
      "  Downloading watchfiles-1.0.4-cp39-cp39-manylinux_2_17_x86_64.manylinux2014_x86_64.whl (452 kB)\n",
      "     ━━━━━━━━━━━━━━━━━━━━━━━━━━━━━━━━━━━━━━ 452.9/452.9 kB 63.3 MB/s eta 0:00:00\n",
      "Collecting python-dotenv>=0.13\n",
      "  Downloading python_dotenv-1.0.1-py3-none-any.whl (19 kB)\n",
      "Collecting websockets>=10.4\n",
      "  Downloading websockets-14.2-cp39-cp39-manylinux_2_5_x86_64.manylinux1_x86_64.manylinux_2_17_x86_64.manylinux2014_x86_64.whl (169 kB)\n",
      "     ━━━━━━━━━━━━━━━━━━━━━━━━━━━━━━━━━━━━━━ 169.1/169.1 kB 37.5 MB/s eta 0:00:00\n",
      "Collecting pyyaml>=5.1\n",
      "  Downloading PyYAML-6.0.2-cp39-cp39-manylinux_2_17_x86_64.manylinux2014_x86_64.whl (737 kB)\n",
      "     ━━━━━━━━━━━━━━━━━━━━━━━━━━━━━━━━━━━━━━ 737.4/737.4 kB 73.3 MB/s eta 0:00:00\n",
      "Collecting packaging\n",
      "  Downloading packaging-24.2-py3-none-any.whl (65 kB)\n",
      "     ━━━━━━━━━━━━━━━━━━━━━━━━━━━━━━━━━━━━━━━━ 65.5/65.5 kB 17.5 MB/s eta 0:00:00\n",
      "Collecting starlette<0.46.0,>=0.40.0\n",
      "  Downloading starlette-0.45.3-py3-none-any.whl (71 kB)\n",
      "     ━━━━━━━━━━━━━━━━━━━━━━━━━━━━━━━━━━━━━━━━ 71.5/71.5 kB 19.3 MB/s eta 0:00:00\n",
      "Collecting pydantic!=1.8,!=1.8.1,!=2.0.0,!=2.0.1,!=2.1.0,<3.0.0,>=1.7.4\n",
      "  Downloading pydantic-2.10.6-py3-none-any.whl (431 kB)\n",
      "     ━━━━━━━━━━━━━━━━━━━━━━━━━━━━━━━━━━━━━━ 431.7/431.7 kB 61.9 MB/s eta 0:00:00\n",
      "Collecting pydantic-extra-types>=2.0.0\n",
      "  Downloading pydantic_extra_types-2.10.2-py3-none-any.whl (35 kB)\n",
      "Collecting ujson!=4.0.2,!=4.1.0,!=4.2.0,!=4.3.0,!=5.0.0,!=5.1.0,>=4.0.1\n",
      "  Downloading ujson-5.10.0-cp39-cp39-manylinux_2_17_x86_64.manylinux2014_x86_64.whl (53 kB)\n",
      "     ━━━━━━━━━━━━━━━━━━━━━━━━━━━━━━━━━━━━━━━━ 53.6/53.6 kB 13.3 MB/s eta 0:00:00\n",
      "Collecting email-validator>=2.0.0\n",
      "  Downloading email_validator-2.2.0-py3-none-any.whl (33 kB)\n",
      "Collecting httpx>=0.23.0\n",
      "  Downloading httpx-0.28.1-py3-none-any.whl (73 kB)\n",
      "     ━━━━━━━━━━━━━━━━━━━━━━━━━━━━━━━━━━━━━━━━ 73.5/73.5 kB 19.1 MB/s eta 0:00:00\n",
      "Collecting itsdangerous>=1.1.0\n",
      "  Downloading itsdangerous-2.2.0-py3-none-any.whl (16 kB)\n",
      "Collecting jinja2>=3.1.5\n",
      "  Downloading jinja2-3.1.5-py3-none-any.whl (134 kB)\n",
      "     ━━━━━━━━━━━━━━━━━━━━━━━━━━━━━━━━━━━━━━ 134.6/134.6 kB 33.5 MB/s eta 0:00:00\n",
      "Collecting fastapi-cli[standard]>=0.0.5\n",
      "  Downloading fastapi_cli-0.0.7-py3-none-any.whl (10 kB)\n",
      "Collecting pydantic-settings>=2.0.0\n",
      "  Downloading pydantic_settings-2.7.1-py3-none-any.whl (29 kB)\n",
      "Collecting python-multipart>=0.0.18\n",
      "  Downloading python_multipart-0.0.20-py3-none-any.whl (24 kB)\n",
      "Collecting orjson>=3.2.1\n",
      "  Downloading orjson-3.10.15-cp39-cp39-manylinux_2_17_x86_64.manylinux2014_x86_64.whl (130 kB)\n",
      "     ━━━━━━━━━━━━━━━━━━━━━━━━━━━━━━━━━━━━━━ 130.1/130.1 kB 29.0 MB/s eta 0:00:00\n",
      "Collecting dnspython>=2.0.0\n",
      "  Downloading dnspython-2.7.0-py3-none-any.whl (313 kB)\n",
      "     ━━━━━━━━━━━━━━━━━━━━━━━━━━━━━━━━━━━━━━ 313.6/313.6 kB 51.5 MB/s eta 0:00:00\n",
      "Collecting idna>=2.0.0\n",
      "  Downloading idna-3.10-py3-none-any.whl (70 kB)\n",
      "     ━━━━━━━━━━━━━━━━━━━━━━━━━━━━━━━━━━━━━━━━ 70.4/70.4 kB 18.7 MB/s eta 0:00:00\n",
      "Collecting typer>=0.12.3\n",
      "  Downloading typer-0.15.1-py3-none-any.whl (44 kB)\n",
      "     ━━━━━━━━━━━━━━━━━━━━━━━━━━━━━━━━━━━━━━━━ 44.9/44.9 kB 11.4 MB/s eta 0:00:00\n",
      "Collecting rich-toolkit>=0.11.1\n",
      "  Downloading rich_toolkit-0.13.2-py3-none-any.whl (13 kB)\n",
      "Collecting proto-plus<2.0.0dev,>=1.22.3\n",
      "  Downloading proto_plus-1.26.0-py3-none-any.whl (50 kB)\n",
      "     ━━━━━━━━━━━━━━━━━━━━━━━━━━━━━━━━━━━━━━━━ 50.2/50.2 kB 13.5 MB/s eta 0:00:00\n",
      "Collecting googleapis-common-protos<2.0.dev0,>=1.56.2\n",
      "  Downloading googleapis_common_protos-1.66.0-py2.py3-none-any.whl (221 kB)\n",
      "     ━━━━━━━━━━━━━━━━━━━━━━━━━━━━━━━━━━━━━━ 221.7/221.7 kB 41.0 MB/s eta 0:00:00\n",
      "Collecting protobuf!=3.20.0,!=3.20.1,!=4.21.0,!=4.21.1,!=4.21.2,!=4.21.3,!=4.21.4,!=4.21.5,<6.0.0.dev0,>=3.19.5\n",
      "  Downloading protobuf-5.29.3-cp38-abi3-manylinux2014_x86_64.whl (319 kB)\n",
      "     ━━━━━━━━━━━━━━━━━━━━━━━━━━━━━━━━━━━━━━ 319.7/319.7 kB 52.0 MB/s eta 0:00:00\n",
      "Collecting rsa<5,>=3.1.4\n",
      "  Downloading rsa-4.9-py3-none-any.whl (34 kB)\n",
      "Collecting pyasn1-modules>=0.2.1\n",
      "  Downloading pyasn1_modules-0.4.1-py3-none-any.whl (181 kB)\n",
      "     ━━━━━━━━━━━━━━━━━━━━━━━━━━━━━━━━━━━━━━ 181.5/181.5 kB 37.8 MB/s eta 0:00:00\n",
      "Collecting cachetools<6.0,>=2.0.0\n",
      "  Downloading cachetools-5.5.1-py3-none-any.whl (9.5 kB)\n",
      "Collecting certifi\n",
      "  Downloading certifi-2025.1.31-py3-none-any.whl (166 kB)\n",
      "     ━━━━━━━━━━━━━━━━━━━━━━━━━━━━━━━━━━━━━━ 166.4/166.4 kB 34.8 MB/s eta 0:00:00\n",
      "Collecting httpcore==1.*\n",
      "  Downloading httpcore-1.0.7-py3-none-any.whl (78 kB)\n",
      "     ━━━━━━━━━━━━━━━━━━━━━━━━━━━━━━━━━━━━━━━━ 78.6/78.6 kB 19.4 MB/s eta 0:00:00\n",
      "Collecting anyio\n",
      "  Downloading anyio-4.8.0-py3-none-any.whl (96 kB)\n",
      "     ━━━━━━━━━━━━━━━━━━━━━━━━━━━━━━━━━━━━━━━━ 96.0/96.0 kB 23.6 MB/s eta 0:00:00\n",
      "Collecting MarkupSafe>=2.0\n",
      "  Downloading MarkupSafe-3.0.2-cp39-cp39-manylinux_2_17_x86_64.manylinux2014_x86_64.whl (20 kB)\n",
      "Collecting pydantic-core==2.27.2\n",
      "  Downloading pydantic_core-2.27.2-cp39-cp39-manylinux_2_17_x86_64.manylinux2014_x86_64.whl (2.0 MB)\n",
      "     ━━━━━━━━━━━━━━━━━━━━━━━━━━━━━━━━━━━━━━━━ 2.0/2.0 MB 100.0 MB/s eta 0:00:00\n",
      "Collecting annotated-types>=0.6.0\n",
      "  Downloading annotated_types-0.7.0-py3-none-any.whl (13 kB)\n",
      "Collecting charset-normalizer<4,>=2\n",
      "  Downloading charset_normalizer-3.4.1-cp39-cp39-manylinux_2_17_x86_64.manylinux2014_x86_64.whl (146 kB)\n",
      "     ━━━━━━━━━━━━━━━━━━━━━━━━━━━━━━━━━━━━━━ 146.2/146.2 kB 32.2 MB/s eta 0:00:00\n",
      "Collecting urllib3<3,>=1.21.1\n",
      "  Downloading urllib3-2.3.0-py3-none-any.whl (128 kB)\n",
      "     ━━━━━━━━━━━━━━━━━━━━━━━━━━━━━━━━━━━━━━ 128.4/128.4 kB 30.5 MB/s eta 0:00:00\n",
      "Collecting sniffio>=1.1\n",
      "  Downloading sniffio-1.3.1-py3-none-any.whl (10 kB)\n",
      "Collecting exceptiongroup>=1.0.2\n",
      "  Downloading exceptiongroup-1.2.2-py3-none-any.whl (16 kB)\n",
      "Collecting pyasn1<0.7.0,>=0.4.6\n",
      "  Downloading pyasn1-0.6.1-py3-none-any.whl (83 kB)\n",
      "     ━━━━━━━━━━━━━━━━━━━━━━━━━━━━━━━━━━━━━━━━ 83.1/83.1 kB 22.6 MB/s eta 0:00:00\n",
      "Collecting rich>=13.7.1\n",
      "  Downloading rich-13.9.4-py3-none-any.whl (242 kB)\n",
      "     ━━━━━━━━━━━━━━━━━━━━━━━━━━━━━━━━━━━━━━ 242.4/242.4 kB 46.6 MB/s eta 0:00:00\n",
      "Collecting shellingham>=1.3.0\n",
      "  Downloading shellingham-1.5.4-py2.py3-none-any.whl (9.8 kB)\n",
      "Collecting pygments<3.0.0,>=2.13.0\n",
      "  Downloading pygments-2.19.1-py3-none-any.whl (1.2 MB)\n",
      "     ━━━━━━━━━━━━━━━━━━━━━━━━━━━━━━━━━━━━━━━━ 1.2/1.2 MB 94.7 MB/s eta 0:00:00\n",
      "Collecting markdown-it-py>=2.2.0\n",
      "  Downloading markdown_it_py-3.0.0-py3-none-any.whl (87 kB)\n",
      "     ━━━━━━━━━━━━━━━━━━━━━━━━━━━━━━━━━━━━━━━━ 87.5/87.5 kB 23.1 MB/s eta 0:00:00\n",
      "Collecting mdurl~=0.1\n",
      "  Downloading mdurl-0.1.2-py3-none-any.whl (10.0 kB)\n",
      "Installing collected packages: websockets, uvloop, urllib3, ujson, typing-extensions, threadpoolctl, sniffio, shellingham, pyyaml, python-multipart, python-dotenv, pygments, pyasn1, protobuf, packaging, orjson, numpy, mdurl, MarkupSafe, joblib, itsdangerous, idna, httptools, h11, google-crc32c, exceptiongroup, dnspython, click, charset-normalizer, certifi, cachetools, annotated-types, uvicorn, scipy, rsa, requests, pydantic-core, pyasn1-modules, proto-plus, markdown-it-py, jinja2, httpcore, gunicorn, googleapis-common-protos, google-resumable-media, email-validator, anyio, watchfiles, starlette, scikit-learn, rich, pydantic, httpx, google-auth, typer, rich-toolkit, pydantic-settings, pydantic-extra-types, google-api-core, fastapi, google-cloud-core, fastapi-cli, google-cloud-storage\n",
      "Successfully installed MarkupSafe-3.0.2 annotated-types-0.7.0 anyio-4.8.0 cachetools-5.5.1 certifi-2025.1.31 charset-normalizer-3.4.1 click-8.1.8 dnspython-2.7.0 email-validator-2.2.0 exceptiongroup-1.2.2 fastapi-0.115.8 fastapi-cli-0.0.7 google-api-core-2.24.1 google-auth-2.38.0 google-cloud-core-2.4.1 google-cloud-storage-3.0.0 google-crc32c-1.6.0 google-resumable-media-2.7.2 googleapis-common-protos-1.66.0 gunicorn-23.0.0 h11-0.14.0 httpcore-1.0.7 httptools-0.6.4 httpx-0.28.1 idna-3.10 itsdangerous-2.2.0 jinja2-3.1.5 joblib-1.4.2 markdown-it-py-3.0.0 mdurl-0.1.2 numpy-2.0.2 orjson-3.10.15 packaging-24.2 proto-plus-1.26.0 protobuf-5.29.3 pyasn1-0.6.1 pyasn1-modules-0.4.1 pydantic-2.10.6 pydantic-core-2.27.2 pydantic-extra-types-2.10.2 pydantic-settings-2.7.1 pygments-2.19.1 python-dotenv-1.0.1 python-multipart-0.0.20 pyyaml-6.0.2 requests-2.32.3 rich-13.9.4 rich-toolkit-0.13.2 rsa-4.9 scikit-learn-1.6.1 scipy-1.13.1 shellingham-1.5.4 sniffio-1.3.1 starlette-0.45.3 threadpoolctl-3.5.0 typer-0.15.1 typing-extensions-4.12.2 ujson-5.10.0 urllib3-2.3.0 uvicorn-0.34.0 uvloop-0.21.0 watchfiles-1.0.4 websockets-14.2\n",
      "\u001b[91mWARNING: Running pip as the 'root' user can result in broken permissions and conflicting behaviour with the system package manager. It is recommended to use a virtual environment instead: https://pip.pypa.io/warnings/venv\n",
      "\u001b[91m\n",
      "[notice] A new release of pip is available: 23.0.1 -> 25.0\n",
      "[notice] To update, run: pip install --upgrade pip\n",
      "Removing intermediate container cd50d3142d63\n",
      " ---> 538ab5ed6d38\n",
      "Step 5/5 : ENTRYPOINT [\"/app/entrypoint.sh\"]\n",
      " ---> Running in 269e23ce50ce\n",
      "Removing intermediate container 269e23ce50ce\n",
      " ---> 28e1a768aebd\n",
      "Successfully built 28e1a768aebd\n",
      "Successfully tagged us-central1-docker.pkg.dev/ai-hangsik/custom-container-repo/sklearn-fastapi-server:latest\n"
     ]
    }
   ],
   "source": [
    "! docker build --tag=\"{LOCATION}-docker.pkg.dev/{PROJECT_ID}/{REPOSITORY}/{IMAGE}\" ."
   ]
  },
  {
   "cell_type": "code",
   "execution_count": 532,
   "id": "67b71122-4643-4a5b-86cf-0961283cb840",
   "metadata": {
    "scrolled": true
   },
   "outputs": [
    {
     "name": "stdout",
     "output_type": "stream",
     "text": [
      "REPOSITORY                                                                                                                TAG       IMAGE ID       CREATED             SIZE\n",
      "us-central1-docker.pkg.dev/ai-hangsik/custom-inference-gpu/tgi-release                                                    latest    c926fe3a73f7   57 minutes ago      15.2GB\n",
      "us-central1-docker.pkg.dev/ai-hangsik/custom-inference-gpu/vllm-release                                                   latest    545a407ea139   About an hour ago   26.4GB\n",
      "us-central1-docker.pkg.dev/ai-hangsik/custom-container-repo/sklearn-fastapi-server                                        latest    28e1a768aebd   5 hours ago         1.42GB\n",
      "<none>                                                                                                                    <none>    bcf670dcddec   5 hours ago         1.42GB\n",
      "<none>                                                                                                                    <none>    8adbc0d603af   5 hours ago         1.42GB\n",
      "us-central1-docker.pkg.dev/ai-hangsik/cpr-handler-prediction/cpr-handler-server                                           latest    56365fd66f7a   38 hours ago        1.53GB\n",
      "us-central1-docker.pkg.dev/ai-hangsik/custom-inference-gpu/tgi-release                                                    <none>    8969912fc0db   4 days ago          15.2GB\n",
      "us-docker.pkg.dev/deeplearning-platform-release/gcr.io/huggingface-text-generation-inference-cu124.2-4.ubuntu2204.py311   latest    9e59d29d5e8a   3 weeks ago         15.2GB\n",
      "python                                                                                                                    3.10      6b3e490e4343   2 months ago        1GB\n",
      "python                                                                                                                    3.9       bb95474bc3b1   2 months ago        999MB\n",
      "us-docker.pkg.dev/deeplearning-platform-release/vertex-model-garden/vllm-inference.cu121.0-5.ubuntu2204.py310             latest    339732af3b9e   3 months ago        26.4GB\n"
     ]
    }
   ],
   "source": [
    "! docker images"
   ]
  },
  {
   "cell_type": "code",
   "execution_count": 524,
   "id": "c0d0e845-6236-4a69-af32-df386816fd3e",
   "metadata": {},
   "outputs": [
    {
     "name": "stdout",
     "output_type": "stream",
     "text": [
      "local-iris\n"
     ]
    }
   ],
   "source": [
    "!docker stop local-iris"
   ]
  },
  {
   "cell_type": "code",
   "execution_count": 525,
   "id": "a3e7225b-2b1f-43f5-8bd2-679ed623aa12",
   "metadata": {},
   "outputs": [
    {
     "name": "stdout",
     "output_type": "stream",
     "text": [
      "local-iris\n"
     ]
    }
   ],
   "source": [
    "!docker rm local-iris"
   ]
  },
  {
   "cell_type": "code",
   "execution_count": 526,
   "id": "7be39189-0823-4f5a-8312-8fc753ae9b1d",
   "metadata": {},
   "outputs": [
    {
     "name": "stdout",
     "output_type": "stream",
     "text": [
      "bddc260c95e5bd52e64e15bfe098a040fa3effc340c72afce5fcaf7846161a2f\n"
     ]
    }
   ],
   "source": [
    "! docker run -d -p 80:8080 \\\n",
    "        --name=local-iris \\\n",
    "        --env AIP_HTTP_HOST=0.0.0.0 \\\n",
    "        --env AIP_HTTP_PORT=8080 \\\n",
    "        --env AIP_HEALTH_ROUTE=/health \\\n",
    "        --env AIP_PREDICT_ROUTE=/predict \\\n",
    "        --env AIP_STORAGE_URI={BUCKET_URI}/{MODEL_ARTIFACT_DIR} \\\n",
    "        --env WORKER_THREADS=4 \\\n",
    "        \"{LOCATION}-docker.pkg.dev/{PROJECT_ID}/{REPOSITORY}/{IMAGE}\""
   ]
  },
  {
   "cell_type": "code",
   "execution_count": 528,
   "id": "7527a5a2-2b8f-495e-bce9-0c40d93ec387",
   "metadata": {
    "scrolled": true
   },
   "outputs": [
    {
     "name": "stdout",
     "output_type": "stream",
     "text": [
      "CONTAINER ID   IMAGE                                                                                COMMAND                  CREATED             STATUS                           PORTS                                   NAMES\n",
      "bddc260c95e5   us-central1-docker.pkg.dev/ai-hangsik/custom-container-repo/sklearn-fastapi-server   \"/app/entrypoint.sh\"     6 seconds ago       Up 4 seconds                     0.0.0.0:80->8080/tcp, :::80->8080/tcp   local-iris\n",
      "4addae9004b4   ddf5e5afc02a                                                                         \"/bin/sh -c /app/pre…\"   56 minutes ago      Exited (126) 56 minutes ago                                              xenodochial_dijkstra\n",
      "31b3d6584e15   ddf5e5afc02a                                                                         \"/bin/sh -c app/pres…\"   About an hour ago   Exited (126) About an hour ago                                           stupefied_gates\n",
      "291d1c5fb19b   59c85a25256b                                                                         \"/bin/sh -c app/pres…\"   2 hours ago         Exited (127) 2 hours ago                                                 optimistic_einstein\n",
      "8b2efc83b865   f22a2c5119bc                                                                         \"/bin/sh -c app/pres…\"   2 hours ago         Exited (127) 2 hours ago                                                 intelligent_cohen\n",
      "01335a38c4ef   f22a2c5119bc                                                                         \"/bin/sh -c app/pres…\"   2 hours ago         Exited (127) 2 hours ago                                                 strange_satoshi\n",
      "061d06f84a4b   f22a2c5119bc                                                                         \"/bin/sh -c app/pres…\"   2 hours ago         Exited (127) 2 hours ago                                                 laughing_vaughan\n",
      "f3bf50656bbf   f22a2c5119bc                                                                         \"/bin/sh -c app/pres…\"   2 hours ago         Exited (127) 2 hours ago                                                 amazing_pasteur\n",
      "6412b5d996b7   e50ecdf873b8                                                                         \"/bin/sh -c app/pres…\"   2 hours ago         Exited (126) 2 hours ago                                                 suspicious_lichterman\n",
      "a68ddfa72ca7   f26ad56e968c                                                                         \"/bin/sh -c 'pip ins…\"   4 hours ago         Exited (1) 4 hours ago                                                   kind_borg\n",
      "cf4901b9b7be   69f2dcb46def                                                                         \"/bin/sh -c 'pip ins…\"   6 hours ago         Exited (1) 6 hours ago                                                   agitated_driscoll\n",
      "84a07a6f33ce   us-central1-docker.pkg.dev/ai-hangsik/cpr-handler-prediction/cpr-handler-server      \"python -m google.cl…\"   34 hours ago        Exited (0) 27 hours ago                                                  brave_bartik\n",
      "1ec62dff37f2   us-central1-docker.pkg.dev/ai-hangsik/cpr-handler-prediction/cpr-handler-server      \"python -m google.cl…\"   34 hours ago        Exited (0) 34 hours ago                                                  jovial_wiles\n",
      "6d65e0bf0823   0afadddb110b                                                                         \"python -m google.cl…\"   35 hours ago        Exited (0) 34 hours ago                                                  stupefied_matsumoto\n",
      "67c6647bfd24   0afadddb110b                                                                         \"python -m google.cl…\"   35 hours ago        Exited (0) 35 hours ago                                                  charming_galois\n",
      "ed18951d742a   3edec0be0473                                                                         \"python -m google.cl…\"   35 hours ago        Exited (0) 27 hours ago                                                  festive_chatelet\n",
      "8f2b4e8f350f   0bde42b7efd9                                                                         \"python -m google.cl…\"   35 hours ago        Exited (0) 35 hours ago                                                  condescending_yonath\n",
      "dd616078334b   0a292b869570                                                                         \"python -m google.cl…\"   35 hours ago        Exited (0) 35 hours ago                                                  bold_ganguly\n",
      "93552ae167e6   7e24e82ea06e                                                                         \"python -m google.cl…\"   35 hours ago        Exited (0) 35 hours ago                                                  elastic_bell\n",
      "3a6c0d1cddf1   48751c1e2b3d                                                                         \"python -m google.cl…\"   44 hours ago        Exited (137) 44 hours ago                                                trusting_diffie\n",
      "3b4c564e7ed9   f5ee175e6bd5                                                                         \"python -m google.cl…\"   44 hours ago        Exited (0) 44 hours ago                                                  brave_tereshkova\n",
      "c96002a4dc01   a0fd44f283df                                                                         \"python -m google.cl…\"   44 hours ago        Exited (0) 27 hours ago                                                  awesome_leakey\n",
      "7a045d353e4b   a0fd44f283df                                                                         \"python -m google.cl…\"   44 hours ago        Exited (137) 44 hours ago                                                ecstatic_bardeen\n",
      "f7244924e903   812e8a4be832                                                                         \"python -m google.cl…\"   44 hours ago        Exited (0) 27 hours ago                                                  beautiful_wing\n",
      "b749f057bf4f   812e8a4be832                                                                         \"python -m google.cl…\"   45 hours ago        Exited (137) 44 hours ago                                                nervous_beaver\n",
      "04e0d136af1f   055391e9d9ec                                                                         \"python -m google.cl…\"   45 hours ago        Exited (0) 44 hours ago                                                  quizzical_haslett\n",
      "c63378d15e79   209569b8260d                                                                         \"python -m google.cl…\"   45 hours ago        Exited (137) 45 hours ago                                                pensive_elgamal\n",
      "94baa46caa07   89adacfee501                                                                         \"python -m google.cl…\"   46 hours ago        Exited (0) 45 hours ago                                                  mystifying_hugle\n",
      "e3e4ac6bf478   90149a857072                                                                         \"python -m google.cl…\"   46 hours ago        Exited (137) 44 hours ago                                                zealous_blackwell\n",
      "4fc44f41ba41   90149a857072                                                                         \"python -m google.cl…\"   46 hours ago        Exited (0) 46 hours ago                                                  adoring_ramanujan\n",
      "44054bbb0a88   90149a857072                                                                         \"python -m google.cl…\"   46 hours ago        Exited (0) 46 hours ago                                                  sharp_lamarr\n",
      "d7598bff538e   us-central1-docker.pkg.dev/ai-hangsik/custom-inference-gpu/tgi-release:latest        \"./entrypoint.sh '--…\"   4 days ago          Exited (0) 4 days ago                                                    stupefied_williams\n"
     ]
    }
   ],
   "source": [
    "! docker ps -a"
   ]
  },
  {
   "cell_type": "code",
   "execution_count": 529,
   "id": "cf181f42-6c4d-4043-a648-0b710d7efe7d",
   "metadata": {},
   "outputs": [
    {
     "name": "stdout",
     "output_type": "stream",
     "text": [
      "INFO:     Uvicorn running on http://0.0.0.0:8080 (Press CTRL+C to quit)\n",
      "INFO:     Started parent process [7]\n",
      "INFO:     Started server process [11]\n",
      "INFO:     Waiting for application startup.\n",
      "INFO:     Application startup complete.\n",
      "INFO:     Started server process [12]\n",
      "INFO:     Waiting for application startup.\n",
      "INFO:     Application startup complete.\n",
      "INFO:     Started server process [10]\n",
      "INFO:     Waiting for application startup.\n",
      "INFO:     Application startup complete.\n",
      "INFO:     Started server process [9]\n",
      "INFO:     Waiting for application startup.\n",
      "INFO:     Application startup complete.\n"
     ]
    }
   ],
   "source": [
    "!docker logs bddc260c95e5"
   ]
  },
  {
   "cell_type": "markdown",
   "id": "1526bef4-7131-42b7-bd7c-626a06ba91d5",
   "metadata": {},
   "source": [
    "#### Test Health check and prediction"
   ]
  },
  {
   "cell_type": "code",
   "execution_count": 530,
   "id": "7d894d61-e1db-49ef-bb66-83be0b1d64c5",
   "metadata": {},
   "outputs": [
    {
     "name": "stdout",
     "output_type": "stream",
     "text": [
      "{\"status\":\"OK\"}"
     ]
    }
   ],
   "source": [
    "! curl localhost/health"
   ]
  },
  {
   "cell_type": "code",
   "execution_count": 531,
   "id": "545385e5-bc74-4d8e-8e39-af537f375f1f",
   "metadata": {},
   "outputs": [
    {
     "name": "stdout",
     "output_type": "stream",
     "text": [
      "Overwriting instances.json\n"
     ]
    }
   ],
   "source": [
    "%%writefile instances.json\n",
    "{\n",
    "    \"instances\": [\n",
    "        [6.7, 3.1, 4.7, 1.5],\n",
    "        [4.6, 3.1, 1.5, 0.2]\n",
    "    ]\n",
    "}"
   ]
  },
  {
   "cell_type": "code",
   "execution_count": 429,
   "id": "c4279090-5c95-4e5b-8365-2f23cae51cd1",
   "metadata": {},
   "outputs": [
    {
     "name": "stdout",
     "output_type": "stream",
     "text": [
      "{\"predictions\":[\"versicolor\",\"setosa\"]}"
     ]
    }
   ],
   "source": [
    "! curl -X POST \\\n",
    "  -d @instances.json \\\n",
    "  -H \"Content-Type: application/json; charset=utf-8\" \\\n",
    "  localhost/predict"
   ]
  },
  {
   "cell_type": "markdown",
   "id": "f8a9a1e0-fb4d-4d62-8e1d-b8f4b23874b0",
   "metadata": {},
   "source": [
    "#### Manage Docker images"
   ]
  },
  {
   "cell_type": "code",
   "execution_count": 280,
   "id": "fa4a808b-7084-489f-a06d-cf7b2e398f88",
   "metadata": {},
   "outputs": [
    {
     "name": "stdout",
     "output_type": "stream",
     "text": [
      "local-iris\n"
     ]
    }
   ],
   "source": [
    "!docker stop local-iris"
   ]
  },
  {
   "cell_type": "code",
   "execution_count": 281,
   "id": "c750045a-e21b-43fa-8567-ce870361af0e",
   "metadata": {},
   "outputs": [
    {
     "name": "stdout",
     "output_type": "stream",
     "text": [
      "local-iris\n"
     ]
    }
   ],
   "source": [
    "!docker rm local-iris"
   ]
  },
  {
   "cell_type": "code",
   "execution_count": 540,
   "id": "7372dc3b-5632-40c8-8a29-8bd3645bb246",
   "metadata": {},
   "outputs": [
    {
     "name": "stdout",
     "output_type": "stream",
     "text": [
      "REPOSITORY                                                                                                                TAG       IMAGE ID       CREATED        SIZE\n",
      "us-central1-docker.pkg.dev/ai-hangsik/custom-inference-gpu/tgi-release                                                    latest    c926fe3a73f7   2 hours ago    15.2GB\n",
      "us-central1-docker.pkg.dev/ai-hangsik/custom-container-repo/sklearn-fastapi-server                                        latest    28e1a768aebd   5 hours ago    1.42GB\n",
      "us-central1-docker.pkg.dev/ai-hangsik/cpr-handler-prediction/cpr-handler-server                                           latest    56365fd66f7a   39 hours ago   1.53GB\n",
      "us-central1-docker.pkg.dev/ai-hangsik/custom-inference-gpu/tgi-release                                                    <none>    8969912fc0db   4 days ago     15.2GB\n",
      "us-docker.pkg.dev/deeplearning-platform-release/gcr.io/huggingface-text-generation-inference-cu124.2-4.ubuntu2204.py311   latest    9e59d29d5e8a   3 weeks ago    15.2GB\n",
      "python                                                                                                                    3.10      6b3e490e4343   2 months ago   1GB\n",
      "python                                                                                                                    3.9       bb95474bc3b1   2 months ago   999MB\n",
      "us-docker.pkg.dev/deeplearning-platform-release/vertex-model-garden/vllm-inference.cu121.0-5.ubuntu2204.py310             latest    339732af3b9e   3 months ago   26.4GB\n"
     ]
    }
   ],
   "source": [
    "!docker images"
   ]
  },
  {
   "cell_type": "code",
   "execution_count": 533,
   "id": "9af2d5e7-c7d4-4b84-9596-d51823c704bf",
   "metadata": {},
   "outputs": [
    {
     "name": "stdout",
     "output_type": "stream",
     "text": [
      "Untagged: us-central1-docker.pkg.dev/ai-hangsik/custom-inference-gpu/vllm-release:latest\n",
      "Deleted: sha256:545a407ea1395f7352425d573c219739c5381d2113fe2d9fc9d61ffde4629818\n",
      "Deleted: sha256:d7aeb408dc70f1ba872e24180cd9307362b7294d5394bb43ab30f37ccc7a2859\n",
      "Deleted: sha256:bde324ddea3605282cc1a50957457b763b3b449246dd37c54bb99a63688cd817\n"
     ]
    }
   ],
   "source": [
    "!docker rmi -f 545a407ea139"
   ]
  },
  {
   "cell_type": "code",
   "execution_count": 539,
   "id": "64e18f32-e651-493a-86a3-d59f208d289b",
   "metadata": {},
   "outputs": [
    {
     "name": "stdout",
     "output_type": "stream",
     "text": [
      "\"docker rmi\" requires at least 1 argument.\n",
      "See 'docker rmi --help'.\n",
      "\n",
      "Usage:  docker rmi [OPTIONS] IMAGE [IMAGE...]\n",
      "\n",
      "Remove one or more images\n"
     ]
    }
   ],
   "source": [
    "!docker rmi -f $(docker images | grep \"^<none>\" | awk \"{print $3}\")"
   ]
  },
  {
   "cell_type": "code",
   "execution_count": null,
   "id": "0f903649-d865-483e-ab0b-8108c394205a",
   "metadata": {},
   "outputs": [],
   "source": []
  }
 ],
 "metadata": {
  "environment": {
   "kernel": "conda-base-py",
   "name": "workbench-notebooks.m127",
   "type": "gcloud",
   "uri": "us-docker.pkg.dev/deeplearning-platform-release/gcr.io/workbench-notebooks:m127"
  },
  "kernelspec": {
   "display_name": "Python 3 (ipykernel)",
   "language": "python",
   "name": "conda-base-py"
  },
  "language_info": {
   "codemirror_mode": {
    "name": "ipython",
    "version": 3
   },
   "file_extension": ".py",
   "mimetype": "text/x-python",
   "name": "python",
   "nbconvert_exporter": "python",
   "pygments_lexer": "ipython3",
   "version": "3.10.16"
  }
 },
 "nbformat": 4,
 "nbformat_minor": 5
}
