{
 "cells": [
  {
   "cell_type": "code",
   "execution_count": null,
   "id": "ac78fc0e-a66e-4488-8755-36c9dd637404",
   "metadata": {},
   "outputs": [],
   "source": [
    "# Copyright 2024 Forusone\n",
    "#\n",
    "# Licensed under the Apache License, Version 2.0 (the \"License\");\n",
    "# you may not use this file except in compliance with the License.\n",
    "# You may obtain a copy of the License at\n",
    "#\n",
    "#     https://www.apache.org/licenses/LICENSE-2.0\n",
    "#\n",
    "# Unless required by applicable law or agreed to in writing, software\n",
    "# distributed under the License is distributed on an \"AS IS\" BASIS,\n",
    "# WITHOUT WARRANTIES OR CONDITIONS OF ANY KIND, either express or implied.\n",
    "# See the License for the specific language governing permissions and\n",
    "# limitations under the License."
   ]
  },
  {
   "cell_type": "markdown",
   "id": "00351be8-9ac0-4b5f-bce9-44c51c42c225",
   "metadata": {},
   "source": [
    "## Customer Container for prediction"
   ]
  },
  {
   "cell_type": "markdown",
   "id": "06d4779b-4442-4223-87c9-563c42858b34",
   "metadata": {},
   "source": [
    "### Configuration"
   ]
  },
  {
   "cell_type": "code",
   "execution_count": 1,
   "id": "f14acad4-8b27-4122-9b5f-1bcd3198dcdd",
   "metadata": {},
   "outputs": [],
   "source": [
    "! pip install --upgrade --quiet  google-cloud-aiplatform \\\n",
    "                                 google-cloud-storage \\\n",
    "                                 uvicorn[standard] fastapi"
   ]
  },
  {
   "cell_type": "code",
   "execution_count": 2,
   "id": "cf3990db-fa11-4b75-82df-68962232be09",
   "metadata": {},
   "outputs": [],
   "source": [
    "PROJECT_ID = \"ai-hangsik\" \n",
    "LOCATION = \"us-central1\" \n",
    "BUCKET_URI = f\"gs://sllm_0116\" "
   ]
  },
  {
   "cell_type": "code",
   "execution_count": 3,
   "id": "dae00014-ddc5-4f44-ab73-7200631bb85b",
   "metadata": {},
   "outputs": [],
   "source": [
    "import os\n",
    "import sys\n",
    "from google.cloud import aiplatform\n",
    "\n",
    "aiplatform.init(project=PROJECT_ID, location=LOCATION, staging_bucket=BUCKET_URI)"
   ]
  },
  {
   "cell_type": "code",
   "execution_count": 5,
   "id": "218f216f-2fb9-4ed3-b53a-00d8229ad51c",
   "metadata": {},
   "outputs": [],
   "source": [
    "MODEL_ARTIFACT_DIR = \"custom-container-prediction-model\"\n",
    "REPOSITORY = \"custom-container-prediction\"\n",
    "IMAGE = \"sklearn-fastapi-server\"\n",
    "MODEL_DISPLAY_NAME = \"sklearn-custom-container\""
   ]
  },
  {
   "cell_type": "markdown",
   "id": "9aa6d595-8f86-4f4f-816d-4a0a201f1d7e",
   "metadata": {},
   "source": [
    "### Build customer container"
   ]
  },
  {
   "cell_type": "code",
   "execution_count": 9,
   "id": "89422b4c-8e74-43e8-b252-45c37c58f183",
   "metadata": {},
   "outputs": [
    {
     "name": "stdout",
     "output_type": "stream",
     "text": [
      "/home/jupyter/llmOps_vertexAI/custom_container\n",
      "total 96\n",
      "drwxr-xr-x 4 jupyter jupyter  4096 Feb  3 08:46 .\n",
      "drwxr-xr-x 4 jupyter jupyter  4096 Feb  3 08:04 ..\n",
      "drwxr-xr-x 2 jupyter jupyter  4096 Feb  3 08:12 .ipynb_checkpoints\n",
      "-rw-r--r-- 1 jupyter jupyter   143 Feb  3 07:44 Dockerfile\n",
      "drwxr-xr-x 2 jupyter jupyter  4096 Feb  3 07:40 app\n",
      "-rw-r--r-- 1 jupyter jupyter 31350 Feb  3 08:46 custom_container.ipynb\n",
      "-rw-r--r-- 1 jupyter jupyter    88 Feb  3 07:40 instances.json\n",
      "-rw-r--r-- 1 jupyter jupyter 34388 Feb  3 08:25 model_build.ipynb\n",
      "-rw-r--r-- 1 jupyter jupyter    40 Feb  3 07:43 requirements.txt\n"
     ]
    }
   ],
   "source": [
    "!pwd\n",
    "!ls -al"
   ]
  },
  {
   "cell_type": "code",
   "execution_count": null,
   "id": "c3d3967d-d5cc-4785-b68a-235283be73bc",
   "metadata": {},
   "outputs": [],
   "source": [
    "%mkdir app"
   ]
  },
  {
   "cell_type": "code",
   "execution_count": 10,
   "id": "a6bf7755-6a6b-4436-a975-71540e881ae9",
   "metadata": {},
   "outputs": [
    {
     "name": "stdout",
     "output_type": "stream",
     "text": [
      "Copying file://app/model.pickle [Content-Type=application/octet-stream]...\n",
      "/ [1 files][  2.6 KiB/  2.6 KiB]                                                \n",
      "Operation completed over 1 objects/2.6 KiB.                                      \n"
     ]
    }
   ],
   "source": [
    "# Copy model to GCS\n",
    "!gsutil cp app/model.pickle {BUCKET_URI}/{MODEL_ARTIFACT_DIR}/"
   ]
  },
  {
   "cell_type": "code",
   "execution_count": 11,
   "id": "06da9729-ea50-4219-bdf1-86b68020ea77",
   "metadata": {},
   "outputs": [
    {
     "name": "stdout",
     "output_type": "stream",
     "text": [
      "Overwriting app/main.py\n"
     ]
    }
   ],
   "source": [
    "%%writefile app/main.py\n",
    "from fastapi import FastAPI, Request\n",
    "\n",
    "import joblib\n",
    "import json\n",
    "import numpy as np\n",
    "import pickle\n",
    "import os\n",
    "\n",
    "from google.cloud import storage\n",
    "from preprocess import MySimpleScaler\n",
    "from sklearn.datasets import load_iris\n",
    "\n",
    "app = FastAPI()\n",
    "gcs_client = storage.Client()\n",
    "\n",
    "\n",
    "# Download model file from GCS\n",
    "with open(\"model.pickle\", 'wb') as model_f:\n",
    "    gcs_client.download_blob_to_file(\n",
    "        f\"{os.environ['AIP_STORAGE_URI']}/model.pickle\", model_f\n",
    "    )\n",
    "\n",
    "# Load model file stored in local was downloaded from GCS\n",
    "with open(\"model.pickle\", \"rb\") as f:\n",
    "    model = pickle.load(f)\n",
    "\n",
    "_class_names = load_iris().target_names\n",
    "_model = model\n",
    "\n",
    "@app.get(os.environ['AIP_HEALTH_ROUTE'], status_code=200)\n",
    "def health():\n",
    "    return {\"status\":\"OK\"}\n",
    "\n",
    "@app.post(os.environ['AIP_PREDICT_ROUTE'])\n",
    "async def predict(request: Request):\n",
    "    body = await request.json()\n",
    "\n",
    "    instances = body[\"instances\"]\n",
    "    inputs = np.asarray(instances)\n",
    "    outputs = _model.predict(inputs)\n",
    "\n",
    "    return {\"predictions\": [_class_names[class_num] for class_num in outputs]}\n"
   ]
  },
  {
   "cell_type": "code",
   "execution_count": 12,
   "id": "b9379fcf-84f1-4f8c-b948-24cc800c0bf2",
   "metadata": {},
   "outputs": [
    {
     "name": "stdout",
     "output_type": "stream",
     "text": [
      "Overwriting app/prestart.sh\n"
     ]
    }
   ],
   "source": [
    "%%writefile app/prestart.sh\n",
    "#!/bin/bash\n",
    "export PORT=$AIP_HTTP_PORT"
   ]
  },
  {
   "cell_type": "code",
   "execution_count": 13,
   "id": "545385e5-bc74-4d8e-8e39-af537f375f1f",
   "metadata": {},
   "outputs": [
    {
     "name": "stdout",
     "output_type": "stream",
     "text": [
      "Overwriting instances.json\n"
     ]
    }
   ],
   "source": [
    "%%writefile instances.json\n",
    "{\n",
    "    \"instances\": [\n",
    "        [6.7, 3.1, 4.7, 1.5],\n",
    "        [4.6, 3.1, 1.5, 0.2]\n",
    "    ]\n",
    "}"
   ]
  },
  {
   "cell_type": "code",
   "execution_count": 14,
   "id": "ec6cef07-2f02-4cd9-a013-a02e7e57355e",
   "metadata": {},
   "outputs": [
    {
     "name": "stdout",
     "output_type": "stream",
     "text": [
      "Overwriting requirements.txt\n"
     ]
    }
   ],
   "source": [
    "%%writefile requirements.txt\n",
    "numpy\n",
    "scikit-learn\n",
    "google-cloud-storage"
   ]
  },
  {
   "cell_type": "code",
   "execution_count": 15,
   "id": "cd144969-7f70-42a0-8bef-690ac0cedb9a",
   "metadata": {},
   "outputs": [
    {
     "name": "stdout",
     "output_type": "stream",
     "text": [
      "Overwriting Dockerfile\n"
     ]
    }
   ],
   "source": [
    "%%writefile Dockerfile\n",
    "\n",
    "FROM tiangolo/uvicorn-gunicorn-fastapi:python3.9\n",
    "\n",
    "COPY ./app /app\n",
    "COPY requirements.txt requirements.txt\n",
    "\n",
    "RUN pip install -r requirements.txt"
   ]
  },
  {
   "cell_type": "code",
   "execution_count": 16,
   "id": "0b3d271b-388a-4ba3-8b59-8fa1bdca8b28",
   "metadata": {},
   "outputs": [
    {
     "name": "stdout",
     "output_type": "stream",
     "text": [
      "Sending build context to Docker daemon  174.6kB\n",
      "Step 1/4 : FROM tiangolo/uvicorn-gunicorn-fastapi:python3.9\n",
      " ---> 95735a0480b5\n",
      "Step 2/4 : COPY ./app /app\n",
      " ---> 4eee73b2c4a5\n",
      "Step 3/4 : COPY requirements.txt requirements.txt\n",
      " ---> 5dc17ccadfc6\n",
      "Step 4/4 : RUN pip install -r requirements.txt\n",
      " ---> Running in 93d7e3e5e539\n",
      "Collecting numpy\n",
      "  Downloading numpy-2.0.2-cp39-cp39-manylinux_2_17_x86_64.manylinux2014_x86_64.whl (19.5 MB)\n",
      "     ━━━━━━━━━━━━━━━━━━━━━━━━━━━━━━━━━━━━━━━━ 19.5/19.5 MB 82.9 MB/s eta 0:00:00\n",
      "Collecting scikit-learn\n",
      "  Downloading scikit_learn-1.6.1-cp39-cp39-manylinux_2_17_x86_64.manylinux2014_x86_64.whl (13.5 MB)\n",
      "     ━━━━━━━━━━━━━━━━━━━━━━━━━━━━━━━━━━━━━━━ 13.5/13.5 MB 105.3 MB/s eta 0:00:00\n",
      "Collecting google-cloud-storage\n",
      "  Downloading google_cloud_storage-3.0.0-py2.py3-none-any.whl (173 kB)\n",
      "     ━━━━━━━━━━━━━━━━━━━━━━━━━━━━━━━━━━━━━━ 173.9/173.9 kB 36.6 MB/s eta 0:00:00\n",
      "Collecting threadpoolctl>=3.1.0\n",
      "  Downloading threadpoolctl-3.5.0-py3-none-any.whl (18 kB)\n",
      "Collecting joblib>=1.2.0\n",
      "  Downloading joblib-1.4.2-py3-none-any.whl (301 kB)\n",
      "     ━━━━━━━━━━━━━━━━━━━━━━━━━━━━━━━━━━━━━━ 301.8/301.8 kB 52.5 MB/s eta 0:00:00\n",
      "Collecting scipy>=1.6.0\n",
      "  Downloading scipy-1.13.1-cp39-cp39-manylinux_2_17_x86_64.manylinux2014_x86_64.whl (38.6 MB)\n",
      "     ━━━━━━━━━━━━━━━━━━━━━━━━━━━━━━━━━━━━━━━━ 38.6/38.6 MB 53.9 MB/s eta 0:00:00\n",
      "Collecting google-crc32c<2.0dev,>=1.0\n",
      "  Downloading google_crc32c-1.6.0-cp39-cp39-manylinux_2_17_x86_64.manylinux2014_x86_64.whl (37 kB)\n",
      "Collecting requests<3.0.0dev,>=2.18.0\n",
      "  Downloading requests-2.32.3-py3-none-any.whl (64 kB)\n",
      "     ━━━━━━━━━━━━━━━━━━━━━━━━━━━━━━━━━━━━━━━━ 64.9/64.9 kB 13.6 MB/s eta 0:00:00\n",
      "Collecting google-resumable-media>=2.7.2\n",
      "  Downloading google_resumable_media-2.7.2-py2.py3-none-any.whl (81 kB)\n",
      "     ━━━━━━━━━━━━━━━━━━━━━━━━━━━━━━━━━━━━━━━━ 81.3/81.3 kB 19.9 MB/s eta 0:00:00\n",
      "Collecting google-auth<3.0dev,>=2.26.1\n",
      "  Downloading google_auth-2.38.0-py2.py3-none-any.whl (210 kB)\n",
      "     ━━━━━━━━━━━━━━━━━━━━━━━━━━━━━━━━━━━━━━ 210.8/210.8 kB 41.8 MB/s eta 0:00:00\n",
      "Collecting google-api-core<3.0.0dev,>=2.15.0\n",
      "  Downloading google_api_core-2.24.1-py3-none-any.whl (160 kB)\n",
      "     ━━━━━━━━━━━━━━━━━━━━━━━━━━━━━━━━━━━━━━ 160.1/160.1 kB 34.1 MB/s eta 0:00:00\n",
      "Collecting google-cloud-core<3.0dev,>=2.3.0\n",
      "  Downloading google_cloud_core-2.4.1-py2.py3-none-any.whl (29 kB)\n",
      "Collecting protobuf!=3.20.0,!=3.20.1,!=4.21.0,!=4.21.1,!=4.21.2,!=4.21.3,!=4.21.4,!=4.21.5,<6.0.0.dev0,>=3.19.5\n",
      "  Downloading protobuf-5.29.3-cp38-abi3-manylinux2014_x86_64.whl (319 kB)\n",
      "     ━━━━━━━━━━━━━━━━━━━━━━━━━━━━━━━━━━━━━━ 319.7/319.7 kB 51.6 MB/s eta 0:00:00\n",
      "Collecting googleapis-common-protos<2.0.dev0,>=1.56.2\n",
      "  Downloading googleapis_common_protos-1.66.0-py2.py3-none-any.whl (221 kB)\n",
      "     ━━━━━━━━━━━━━━━━━━━━━━━━━━━━━━━━━━━━━━ 221.7/221.7 kB 43.7 MB/s eta 0:00:00\n",
      "Collecting proto-plus<2.0.0dev,>=1.22.3\n",
      "  Downloading proto_plus-1.26.0-py3-none-any.whl (50 kB)\n",
      "     ━━━━━━━━━━━━━━━━━━━━━━━━━━━━━━━━━━━━━━━━ 50.2/50.2 kB 11.8 MB/s eta 0:00:00\n",
      "Collecting cachetools<6.0,>=2.0.0\n",
      "  Downloading cachetools-5.5.1-py3-none-any.whl (9.5 kB)\n",
      "Collecting rsa<5,>=3.1.4\n",
      "  Downloading rsa-4.9-py3-none-any.whl (34 kB)\n",
      "Collecting pyasn1-modules>=0.2.1\n",
      "  Downloading pyasn1_modules-0.4.1-py3-none-any.whl (181 kB)\n",
      "     ━━━━━━━━━━━━━━━━━━━━━━━━━━━━━━━━━━━━━━ 181.5/181.5 kB 32.5 MB/s eta 0:00:00\n",
      "Requirement already satisfied: certifi>=2017.4.17 in /usr/local/lib/python3.9/site-packages (from requests<3.0.0dev,>=2.18.0->google-cloud-storage->-r requirements.txt (line 3)) (2025.1.31)\n",
      "Collecting charset-normalizer<4,>=2\n",
      "  Downloading charset_normalizer-3.4.1-cp39-cp39-manylinux_2_17_x86_64.manylinux2014_x86_64.whl (146 kB)\n",
      "     ━━━━━━━━━━━━━━━━━━━━━━━━━━━━━━━━━━━━━━ 146.2/146.2 kB 31.1 MB/s eta 0:00:00\n",
      "Requirement already satisfied: idna<4,>=2.5 in /usr/local/lib/python3.9/site-packages (from requests<3.0.0dev,>=2.18.0->google-cloud-storage->-r requirements.txt (line 3)) (3.10)\n",
      "Collecting urllib3<3,>=1.21.1\n",
      "  Downloading urllib3-2.3.0-py3-none-any.whl (128 kB)\n",
      "     ━━━━━━━━━━━━━━━━━━━━━━━━━━━━━━━━━━━━━━ 128.4/128.4 kB 27.6 MB/s eta 0:00:00\n",
      "Collecting pyasn1<0.7.0,>=0.4.6\n",
      "  Downloading pyasn1-0.6.1-py3-none-any.whl (83 kB)\n",
      "     ━━━━━━━━━━━━━━━━━━━━━━━━━━━━━━━━━━━━━━━━ 83.1/83.1 kB 16.3 MB/s eta 0:00:00\n",
      "Installing collected packages: urllib3, threadpoolctl, pyasn1, protobuf, numpy, joblib, google-crc32c, charset-normalizer, cachetools, scipy, rsa, requests, pyasn1-modules, proto-plus, googleapis-common-protos, google-resumable-media, scikit-learn, google-auth, google-api-core, google-cloud-core, google-cloud-storage\n",
      "Successfully installed cachetools-5.5.1 charset-normalizer-3.4.1 google-api-core-2.24.1 google-auth-2.38.0 google-cloud-core-2.4.1 google-cloud-storage-3.0.0 google-crc32c-1.6.0 google-resumable-media-2.7.2 googleapis-common-protos-1.66.0 joblib-1.4.2 numpy-2.0.2 proto-plus-1.26.0 protobuf-5.29.3 pyasn1-0.6.1 pyasn1-modules-0.4.1 requests-2.32.3 rsa-4.9 scikit-learn-1.6.1 scipy-1.13.1 threadpoolctl-3.5.0 urllib3-2.3.0\n",
      "\u001b[91mWARNING: Running pip as the 'root' user can result in broken permissions and conflicting behaviour with the system package manager. It is recommended to use a virtual environment instead: https://pip.pypa.io/warnings/venv\n",
      "\u001b[91m\n",
      "[notice] A new release of pip is available: 23.0.1 -> 25.0\n",
      "[notice] To update, run: pip install --upgrade pip\n",
      "Removing intermediate container 93d7e3e5e539\n",
      " ---> 3270dfb5d66f\n",
      "Successfully built 3270dfb5d66f\n",
      "Successfully tagged us-central1-docker.pkg.dev/ai-hangsik/custom-container-prediction/sklearn-fastapi-server:latest\n"
     ]
    }
   ],
   "source": [
    "! docker build --tag=\"{LOCATION}-docker.pkg.dev/{PROJECT_ID}/{REPOSITORY}/{IMAGE}\" ."
   ]
  },
  {
   "cell_type": "code",
   "execution_count": 17,
   "id": "c0d0e845-6236-4a69-af32-df386816fd3e",
   "metadata": {},
   "outputs": [
    {
     "name": "stdout",
     "output_type": "stream",
     "text": [
      "local-iris\n"
     ]
    }
   ],
   "source": [
    "!docker stop local-iris"
   ]
  },
  {
   "cell_type": "code",
   "execution_count": 19,
   "id": "a3e7225b-2b1f-43f5-8bd2-679ed623aa12",
   "metadata": {},
   "outputs": [
    {
     "name": "stdout",
     "output_type": "stream",
     "text": [
      "local-iris\n"
     ]
    }
   ],
   "source": [
    "!docker rm local-iris"
   ]
  },
  {
   "cell_type": "code",
   "execution_count": 20,
   "id": "474311d2-fd39-4a03-acd9-a7e953e8871b",
   "metadata": {},
   "outputs": [
    {
     "name": "stdout",
     "output_type": "stream",
     "text": [
      "CONTAINER ID   IMAGE                                                                           COMMAND                  CREATED      STATUS                  PORTS     NAMES\n",
      "d7598bff538e   us-central1-docker.pkg.dev/ai-hangsik/custom-inference-gpu/tgi-release:latest   \"./entrypoint.sh '--…\"   2 days ago   Exited (0) 2 days ago             stupefied_williams\n"
     ]
    }
   ],
   "source": [
    "! docker ps -a"
   ]
  },
  {
   "cell_type": "code",
   "execution_count": 21,
   "id": "67b71122-4643-4a5b-86cf-0961283cb840",
   "metadata": {},
   "outputs": [
    {
     "name": "stdout",
     "output_type": "stream",
     "text": [
      "REPOSITORY                                                                                                                TAG         IMAGE ID       CREATED             SIZE\n",
      "us-central1-docker.pkg.dev/ai-hangsik/custom-container-prediction/sklearn-fastapi-server                                  latest      3270dfb5d66f   26 seconds ago      1.4GB\n",
      "<none>                                                                                                                    <none>      afbfba19495d   About an hour ago   1.4GB\n",
      "<none>                                                                                                                    <none>      e5aa46fa9e71   2 hours ago         1.75GB\n",
      "<none>                                                                                                                    <none>      0b57ae845577   2 hours ago         1.75GB\n",
      "<none>                                                                                                                    <none>      087a9d9cfa38   4 hours ago         1.75GB\n",
      "tiangolo/uvicorn-gunicorn-fastapi                                                                                         python3.9   95735a0480b5   9 hours ago         1.05GB\n",
      "us-central1-docker.pkg.dev/ai-hangsik/custom-inference-gpu/tgi-release                                                    latest      8969912fc0db   2 days ago          15.2GB\n",
      "us-docker.pkg.dev/deeplearning-platform-release/gcr.io/huggingface-text-generation-inference-cu124.2-4.ubuntu2204.py311   latest      9e59d29d5e8a   3 weeks ago         15.2GB\n"
     ]
    }
   ],
   "source": [
    "! docker images"
   ]
  },
  {
   "cell_type": "code",
   "execution_count": 22,
   "id": "7be39189-0823-4f5a-8312-8fc753ae9b1d",
   "metadata": {},
   "outputs": [
    {
     "name": "stdout",
     "output_type": "stream",
     "text": [
      "df222cfa7f551d9f5ef97316b11f17fbabe5f722427f027986bc917ecef5382f\n"
     ]
    }
   ],
   "source": [
    "! docker run -d -p 80:8080 \\\n",
    "        --name=local-iris \\\n",
    "        -e AIP_HTTP_PORT=8080 \\\n",
    "        -e AIP_HEALTH_ROUTE=/health \\\n",
    "        -e AIP_PREDICT_ROUTE=/predict \\\n",
    "        -e AIP_STORAGE_URI={BUCKET_URI}/{MODEL_ARTIFACT_DIR} \\\n",
    "        \"{LOCATION}-docker.pkg.dev/{PROJECT_ID}/{REPOSITORY}/{IMAGE}\""
   ]
  },
  {
   "cell_type": "code",
   "execution_count": 24,
   "id": "7527a5a2-2b8f-495e-bce9-0c40d93ec387",
   "metadata": {},
   "outputs": [
    {
     "name": "stdout",
     "output_type": "stream",
     "text": [
      "CONTAINER ID   IMAGE                                                                                      COMMAND                  CREATED          STATUS                  PORTS                                   NAMES\n",
      "df222cfa7f55   us-central1-docker.pkg.dev/ai-hangsik/custom-container-prediction/sklearn-fastapi-server   \"/start.sh\"              12 seconds ago   Up 12 seconds           0.0.0.0:80->8080/tcp, :::80->8080/tcp   local-iris\n",
      "d7598bff538e   us-central1-docker.pkg.dev/ai-hangsik/custom-inference-gpu/tgi-release:latest              \"./entrypoint.sh '--…\"   2 days ago       Exited (0) 2 days ago                                           stupefied_williams\n"
     ]
    }
   ],
   "source": [
    "! docker ps -a"
   ]
  },
  {
   "cell_type": "code",
   "execution_count": 26,
   "id": "cf181f42-6c4d-4043-a648-0b710d7efe7d",
   "metadata": {},
   "outputs": [
    {
     "name": "stdout",
     "output_type": "stream",
     "text": [
      "Checking for script in /app/prestart.sh\n",
      "Running script /app/prestart.sh\n",
      "{\"loglevel\": \"info\", \"workers\": 24, \"bind\": \"0.0.0.0:8080\", \"graceful_timeout\": 120, \"timeout\": 120, \"keepalive\": 5, \"errorlog\": \"-\", \"accesslog\": \"-\", \"workers_per_core\": 1.0, \"use_max_workers\": null, \"host\": \"0.0.0.0\", \"port\": \"8080\"}\n",
      "[2025-02-03 08:56:08 +0000] [1] [INFO] Starting gunicorn 23.0.0\n",
      "[2025-02-03 08:56:08 +0000] [1] [INFO] Listening at: http://0.0.0.0:8080 (1)\n",
      "[2025-02-03 08:56:08 +0000] [1] [INFO] Using worker: uvicorn.workers.UvicornWorker\n",
      "[2025-02-03 08:56:08 +0000] [7] [INFO] Booting worker with pid: 7\n",
      "[2025-02-03 08:56:08 +0000] [8] [INFO] Booting worker with pid: 8\n",
      "[2025-02-03 08:56:08 +0000] [9] [INFO] Booting worker with pid: 9\n",
      "[2025-02-03 08:56:08 +0000] [10] [INFO] Booting worker with pid: 10\n",
      "[2025-02-03 08:56:08 +0000] [11] [INFO] Booting worker with pid: 11\n",
      "[2025-02-03 08:56:08 +0000] [12] [INFO] Booting worker with pid: 12\n",
      "[2025-02-03 08:56:08 +0000] [13] [INFO] Booting worker with pid: 13\n",
      "[2025-02-03 08:56:08 +0000] [14] [INFO] Booting worker with pid: 14\n",
      "[2025-02-03 08:56:08 +0000] [15] [INFO] Booting worker with pid: 15\n",
      "[2025-02-03 08:56:08 +0000] [16] [INFO] Booting worker with pid: 16\n",
      "[2025-02-03 08:56:08 +0000] [17] [INFO] Booting worker with pid: 17\n",
      "[2025-02-03 08:56:08 +0000] [18] [INFO] Booting worker with pid: 18\n",
      "[2025-02-03 08:56:08 +0000] [19] [INFO] Booting worker with pid: 19\n",
      "[2025-02-03 08:56:08 +0000] [66] [INFO] Booting worker with pid: 66\n",
      "[2025-02-03 08:56:08 +0000] [67] [INFO] Booting worker with pid: 67\n",
      "[2025-02-03 08:56:09 +0000] [91] [INFO] Booting worker with pid: 91\n",
      "[2025-02-03 08:56:09 +0000] [92] [INFO] Booting worker with pid: 92\n",
      "[2025-02-03 08:56:09 +0000] [116] [INFO] Booting worker with pid: 116\n",
      "[2025-02-03 08:56:09 +0000] [117] [INFO] Booting worker with pid: 117\n",
      "[2025-02-03 08:56:09 +0000] [118] [INFO] Booting worker with pid: 118\n",
      "[2025-02-03 08:56:09 +0000] [142] [INFO] Booting worker with pid: 142\n",
      "[2025-02-03 08:56:09 +0000] [143] [INFO] Booting worker with pid: 143\n",
      "[2025-02-03 08:56:09 +0000] [144] [INFO] Booting worker with pid: 144\n",
      "[2025-02-03 08:56:09 +0000] [145] [INFO] Booting worker with pid: 145\n",
      "[2025-02-03 08:56:11 +0000] [7] [INFO] Started server process [7]\n",
      "[2025-02-03 08:56:12 +0000] [7] [INFO] Waiting for application startup.\n",
      "[2025-02-03 08:56:12 +0000] [7] [INFO] Application startup complete.\n",
      "[2025-02-03 08:56:12 +0000] [8] [INFO] Started server process [8]\n",
      "[2025-02-03 08:56:12 +0000] [8] [INFO] Waiting for application startup.\n",
      "[2025-02-03 08:56:12 +0000] [8] [INFO] Application startup complete.\n",
      "[2025-02-03 08:56:12 +0000] [10] [INFO] Started server process [10]\n",
      "[2025-02-03 08:56:12 +0000] [10] [INFO] Waiting for application startup.\n",
      "[2025-02-03 08:56:12 +0000] [10] [INFO] Application startup complete.\n",
      "[2025-02-03 08:56:12 +0000] [9] [INFO] Started server process [9]\n",
      "[2025-02-03 08:56:12 +0000] [9] [INFO] Waiting for application startup.\n",
      "[2025-02-03 08:56:12 +0000] [9] [INFO] Application startup complete.\n",
      "[2025-02-03 08:56:12 +0000] [11] [INFO] Started server process [11]\n",
      "[2025-02-03 08:56:12 +0000] [11] [INFO] Waiting for application startup.\n",
      "[2025-02-03 08:56:12 +0000] [11] [INFO] Application startup complete.\n",
      "[2025-02-03 08:56:12 +0000] [15] [INFO] Started server process [15]\n",
      "[2025-02-03 08:56:12 +0000] [15] [INFO] Waiting for application startup.\n",
      "[2025-02-03 08:56:12 +0000] [15] [INFO] Application startup complete.\n",
      "[2025-02-03 08:56:12 +0000] [13] [INFO] Started server process [13]\n",
      "[2025-02-03 08:56:12 +0000] [13] [INFO] Waiting for application startup.\n",
      "[2025-02-03 08:56:12 +0000] [13] [INFO] Application startup complete.\n",
      "[2025-02-03 08:56:12 +0000] [12] [INFO] Started server process [12]\n",
      "[2025-02-03 08:56:12 +0000] [12] [INFO] Waiting for application startup.\n",
      "[2025-02-03 08:56:12 +0000] [12] [INFO] Application startup complete.\n",
      "[2025-02-03 08:56:12 +0000] [14] [INFO] Started server process [14]\n",
      "[2025-02-03 08:56:12 +0000] [14] [INFO] Waiting for application startup.\n",
      "[2025-02-03 08:56:12 +0000] [14] [INFO] Application startup complete.\n",
      "[2025-02-03 08:56:13 +0000] [18] [INFO] Started server process [18]\n",
      "[2025-02-03 08:56:13 +0000] [18] [INFO] Waiting for application startup.\n",
      "[2025-02-03 08:56:13 +0000] [18] [INFO] Application startup complete.\n",
      "[2025-02-03 08:56:13 +0000] [16] [INFO] Started server process [16]\n",
      "[2025-02-03 08:56:13 +0000] [16] [INFO] Waiting for application startup.\n",
      "[2025-02-03 08:56:13 +0000] [16] [INFO] Application startup complete.\n",
      "[2025-02-03 08:56:13 +0000] [19] [INFO] Started server process [19]\n",
      "[2025-02-03 08:56:13 +0000] [19] [INFO] Waiting for application startup.\n",
      "[2025-02-03 08:56:13 +0000] [19] [INFO] Application startup complete.\n",
      "[2025-02-03 08:56:13 +0000] [17] [INFO] Started server process [17]\n",
      "[2025-02-03 08:56:13 +0000] [17] [INFO] Waiting for application startup.\n",
      "[2025-02-03 08:56:13 +0000] [17] [INFO] Application startup complete.\n",
      "[2025-02-03 08:56:13 +0000] [67] [INFO] Started server process [67]\n",
      "[2025-02-03 08:56:13 +0000] [67] [INFO] Waiting for application startup.\n",
      "[2025-02-03 08:56:13 +0000] [67] [INFO] Application startup complete.\n",
      "[2025-02-03 08:56:13 +0000] [92] [INFO] Started server process [92]\n",
      "[2025-02-03 08:56:13 +0000] [92] [INFO] Waiting for application startup.\n",
      "[2025-02-03 08:56:13 +0000] [92] [INFO] Application startup complete.\n",
      "[2025-02-03 08:56:13 +0000] [66] [INFO] Started server process [66]\n",
      "[2025-02-03 08:56:13 +0000] [66] [INFO] Waiting for application startup.\n",
      "[2025-02-03 08:56:13 +0000] [66] [INFO] Application startup complete.\n",
      "[2025-02-03 08:56:13 +0000] [116] [INFO] Started server process [116]\n",
      "[2025-02-03 08:56:13 +0000] [116] [INFO] Waiting for application startup.\n",
      "[2025-02-03 08:56:13 +0000] [116] [INFO] Application startup complete.\n",
      "[2025-02-03 08:56:13 +0000] [117] [INFO] Started server process [117]\n",
      "[2025-02-03 08:56:13 +0000] [117] [INFO] Waiting for application startup.\n",
      "[2025-02-03 08:56:13 +0000] [117] [INFO] Application startup complete.\n",
      "[2025-02-03 08:56:13 +0000] [142] [INFO] Started server process [142]\n",
      "[2025-02-03 08:56:13 +0000] [142] [INFO] Waiting for application startup.\n",
      "[2025-02-03 08:56:13 +0000] [142] [INFO] Application startup complete.\n",
      "[2025-02-03 08:56:13 +0000] [145] [INFO] Started server process [145]\n",
      "[2025-02-03 08:56:13 +0000] [145] [INFO] Waiting for application startup.\n",
      "[2025-02-03 08:56:13 +0000] [145] [INFO] Application startup complete.\n",
      "[2025-02-03 08:56:13 +0000] [144] [INFO] Started server process [144]\n",
      "[2025-02-03 08:56:13 +0000] [144] [INFO] Waiting for application startup.\n",
      "[2025-02-03 08:56:13 +0000] [144] [INFO] Application startup complete.\n",
      "[2025-02-03 08:56:13 +0000] [118] [INFO] Started server process [118]\n",
      "[2025-02-03 08:56:13 +0000] [118] [INFO] Waiting for application startup.\n",
      "[2025-02-03 08:56:13 +0000] [118] [INFO] Application startup complete.\n",
      "[2025-02-03 08:56:13 +0000] [143] [INFO] Started server process [143]\n",
      "[2025-02-03 08:56:13 +0000] [143] [INFO] Waiting for application startup.\n",
      "[2025-02-03 08:56:13 +0000] [143] [INFO] Application startup complete.\n",
      "[2025-02-03 08:56:13 +0000] [91] [INFO] Started server process [91]\n",
      "[2025-02-03 08:56:13 +0000] [91] [INFO] Waiting for application startup.\n",
      "[2025-02-03 08:56:13 +0000] [91] [INFO] Application startup complete.\n"
     ]
    }
   ],
   "source": [
    "!docker logs df222cfa7f55"
   ]
  },
  {
   "cell_type": "code",
   "execution_count": 27,
   "id": "7d894d61-e1db-49ef-bb66-83be0b1d64c5",
   "metadata": {},
   "outputs": [
    {
     "name": "stdout",
     "output_type": "stream",
     "text": [
      "{\"status\":\"OK\"}"
     ]
    }
   ],
   "source": [
    "! curl localhost/health"
   ]
  },
  {
   "cell_type": "code",
   "execution_count": 28,
   "id": "c4279090-5c95-4e5b-8365-2f23cae51cd1",
   "metadata": {},
   "outputs": [
    {
     "name": "stdout",
     "output_type": "stream",
     "text": [
      "{\"predictions\":[\"versicolor\",\"setosa\"]}"
     ]
    }
   ],
   "source": [
    "! curl -X POST \\\n",
    "  -d @instances.json \\\n",
    "  -H \"Content-Type: application/json; charset=utf-8\" \\\n",
    "  localhost/predict"
   ]
  },
  {
   "cell_type": "code",
   "execution_count": 29,
   "id": "1c09d392-c796-4037-9639-d659c38cae50",
   "metadata": {},
   "outputs": [
    {
     "name": "stdout",
     "output_type": "stream",
     "text": [
      "local-iris\n"
     ]
    }
   ],
   "source": [
    "!docker stop local-iris"
   ]
  },
  {
   "cell_type": "code",
   "execution_count": 30,
   "id": "5d1cff57-9b2c-48d3-999a-0d0948161519",
   "metadata": {},
   "outputs": [
    {
     "name": "stdout",
     "output_type": "stream",
     "text": [
      "local-iris\n"
     ]
    }
   ],
   "source": [
    "!docker rm local-iris"
   ]
  },
  {
   "cell_type": "code",
   "execution_count": 31,
   "id": "4dfec16b-7b98-4f98-bff1-407d3185cb67",
   "metadata": {},
   "outputs": [
    {
     "name": "stdout",
     "output_type": "stream",
     "text": [
      "REPOSITORY                                                                                                                TAG         IMAGE ID       CREATED             SIZE\n",
      "us-central1-docker.pkg.dev/ai-hangsik/custom-container-prediction/sklearn-fastapi-server                                  latest      3270dfb5d66f   4 minutes ago       1.4GB\n",
      "<none>                                                                                                                    <none>      afbfba19495d   About an hour ago   1.4GB\n",
      "<none>                                                                                                                    <none>      e5aa46fa9e71   2 hours ago         1.75GB\n",
      "<none>                                                                                                                    <none>      0b57ae845577   3 hours ago         1.75GB\n",
      "<none>                                                                                                                    <none>      087a9d9cfa38   4 hours ago         1.75GB\n",
      "tiangolo/uvicorn-gunicorn-fastapi                                                                                         python3.9   95735a0480b5   9 hours ago         1.05GB\n",
      "us-central1-docker.pkg.dev/ai-hangsik/custom-inference-gpu/tgi-release                                                    latest      8969912fc0db   2 days ago          15.2GB\n",
      "us-docker.pkg.dev/deeplearning-platform-release/gcr.io/huggingface-text-generation-inference-cu124.2-4.ubuntu2204.py311   latest      9e59d29d5e8a   3 weeks ago         15.2GB\n"
     ]
    }
   ],
   "source": [
    "!docker images"
   ]
  },
  {
   "cell_type": "code",
   "execution_count": null,
   "id": "9af2d5e7-c7d4-4b84-9596-d51823c704bf",
   "metadata": {},
   "outputs": [],
   "source": []
  }
 ],
 "metadata": {
  "environment": {
   "kernel": "conda-base-py",
   "name": "workbench-notebooks.m127",
   "type": "gcloud",
   "uri": "us-docker.pkg.dev/deeplearning-platform-release/gcr.io/workbench-notebooks:m127"
  },
  "kernelspec": {
   "display_name": "Python 3 (ipykernel)",
   "language": "python",
   "name": "conda-base-py"
  },
  "language_info": {
   "codemirror_mode": {
    "name": "ipython",
    "version": 3
   },
   "file_extension": ".py",
   "mimetype": "text/x-python",
   "name": "python",
   "nbconvert_exporter": "python",
   "pygments_lexer": "ipython3",
   "version": "3.10.16"
  }
 },
 "nbformat": 4,
 "nbformat_minor": 5
}
