{
 "cells": [
  {
   "cell_type": "code",
   "execution_count": null,
   "id": "d5448421-6ab2-4972-9d9c-eddeeb1a2919",
   "metadata": {},
   "outputs": [],
   "source": [
    "# Copyright 2024 Forusone\n",
    "#\n",
    "# Licensed under the Apache License, Version 2.0 (the \"License\");\n",
    "# you may not use this file except in compliance with the License.\n",
    "# You may obtain a copy of the License at\n",
    "#\n",
    "#     https://www.apache.org/licenses/LICENSE-2.0\n",
    "#\n",
    "# Unless required by applicable law or agreed to in writing, software\n",
    "# distributed under the License is distributed on an \"AS IS\" BASIS,\n",
    "# WITHOUT WARRANTIES OR CONDITIONS OF ANY KIND, either express or implied.\n",
    "# See the License for the specific language governing permissions and\n",
    "# limitations under the License."
   ]
  },
  {
   "cell_type": "markdown",
   "id": "3cccdb44-ab71-48f9-8121-a7d070eda938",
   "metadata": {},
   "source": [
    "## Deploy a model on Vertex AI"
   ]
  },
  {
   "cell_type": "markdown",
   "id": "dcfb261e-a42d-478b-86e5-de04806d0758",
   "metadata": {},
   "source": [
    "### Configuration"
   ]
  },
  {
   "cell_type": "code",
   "execution_count": 2,
   "id": "867a0be8-9348-4aa7-8d7f-bac928b07282",
   "metadata": {},
   "outputs": [],
   "source": [
    "! pip install --upgrade --quiet  google-cloud-aiplatform \\\n",
    "                                 google-cloud-storage"
   ]
  },
  {
   "cell_type": "code",
   "execution_count": 4,
   "id": "f90f64a0-1060-4b36-84ee-8dfb668354dd",
   "metadata": {},
   "outputs": [],
   "source": [
    "# Enable Artifact Registry\n",
    "! gcloud services enable artifactregistry.googleapis.com"
   ]
  },
  {
   "cell_type": "code",
   "execution_count": 13,
   "id": "efeb3cad-5dd1-48fb-bbeb-5bd5d2b359eb",
   "metadata": {},
   "outputs": [],
   "source": [
    "PROJECT_ID = \"ai-hangsik\" \n",
    "LOCATION = \"us-central1\" \n",
    "BUCKET_URI = f\"gs://sllm_0116\" \n",
    "\n",
    "# REPOSITORY = \"iris-custom-container-repo\"\n",
    "\n",
    "MODEL_ARTIFACT_DIR = \"custom-container-prediction-model\"\n",
    "REPOSITORY = \"custom-container-prediction\"\n",
    "IMAGE = \"sklearn-fastapi-server\"\n",
    "MODEL_DISPLAY_NAME = \"sklearn-custom-container\"\n"
   ]
  },
  {
   "cell_type": "code",
   "execution_count": 19,
   "id": "22cffea8-ad20-4499-ae95-1d3a315d206b",
   "metadata": {},
   "outputs": [],
   "source": [
    "from google.cloud import aiplatform\n",
    "\n",
    "aiplatform.init(project=PROJECT_ID, location=LOCATION, staging_bucket=BUCKET_URI)"
   ]
  },
  {
   "cell_type": "code",
   "execution_count": 14,
   "id": "b4dccf60-e347-41c8-8197-9584acb0d59f",
   "metadata": {},
   "outputs": [
    {
     "name": "stdout",
     "output_type": "stream",
     "text": [
      "Create request issued for: [custom-container-prediction]\n",
      "Waiting for operation [projects/ai-hangsik/locations/us-central1/operations/a1c\n",
      "f7032-336e-407c-8fac-ecc8c0fe6ae9] to complete...done.                         \n",
      "Created repository [custom-container-prediction].\n"
     ]
    }
   ],
   "source": [
    "# Create artifacts repository\n",
    "\n",
    "! gcloud artifacts repositories create $REPOSITORY --repository-format=docker --location={LOCATION} --description=\"Docker repository for Customer container\""
   ]
  },
  {
   "cell_type": "code",
   "execution_count": 16,
   "id": "5884d582-3bab-4a78-a499-9d065084a611",
   "metadata": {},
   "outputs": [
    {
     "name": "stdout",
     "output_type": "stream",
     "text": [
      "Listing items under project ai-hangsik, across all locations.\n",
      "\n",
      "                                                                                          ARTIFACT_REGISTRY\n",
      "REPOSITORY                     FORMAT  MODE                 DESCRIPTION                               LOCATION         LABELS  ENCRYPTION          CREATE_TIME          UPDATE_TIME          SIZE (MB)\n",
      "cloud-run-source-deploy        DOCKER  STANDARD_REPOSITORY  Cloud Run Source Deployments              asia-northeast3          Google-managed key  2024-03-01T14:59:17  2024-03-01T23:38:33  1505.522\n",
      "kubeflow-test                  DOCKER  STANDARD_REPOSITORY                                            asia-northeast3          Google-managed key  2024-11-10T07:54:48  2024-11-10T09:23:27  604.943\n",
      "custom-container-prediction    DOCKER  STANDARD_REPOSITORY  Docker repository for Customer container  us-central1              Google-managed key  2025-02-03T09:10:17  2025-02-03T09:10:17  0\n",
      "custom-inference-gpu           DOCKER  STANDARD_REPOSITORY                                            us-central1              Google-managed key  2025-01-31T10:50:54  2025-02-01T08:54:20  6973.822\n",
      "l4-training-repository-unique  DOCKER  STANDARD_REPOSITORY  Vertex L4 training repository             us-central1              Google-managed key  2024-12-07T09:56:58  2024-12-07T09:56:58  0\n"
     ]
    }
   ],
   "source": [
    "! gcloud artifacts repositories list"
   ]
  },
  {
   "cell_type": "code",
   "execution_count": 17,
   "id": "6896a48b-17db-4f93-9f1a-02566a30dc23",
   "metadata": {},
   "outputs": [
    {
     "name": "stdout",
     "output_type": "stream",
     "text": [
      "Creating temporary archive of 14 file(s) totalling 200.7 KiB before compression.\n",
      "Uploading tarball of [.] to [gs://ai-hangsik_cloudbuild/source/1738573970.95662-454afa4139494d609c25de3006e5997f.tgz]\n",
      "Created [https://cloudbuild.googleapis.com/v1/projects/ai-hangsik/locations/us-central1/builds/eb29a334-8512-4eee-b97f-cc84e3a00e3f].\n",
      "Logs are available at [ https://console.cloud.google.com/cloud-build/builds;region=us-central1/eb29a334-8512-4eee-b97f-cc84e3a00e3f?project=721521243942 ].\n",
      "Waiting for build to complete. Polling interval: 1 second(s).\n",
      "----------------------------- REMOTE BUILD OUTPUT ------------------------------\n",
      "starting build \"eb29a334-8512-4eee-b97f-cc84e3a00e3f\"\n",
      "\n",
      "FETCHSOURCE\n",
      "Fetching storage object: gs://ai-hangsik_cloudbuild/source/1738573970.95662-454afa4139494d609c25de3006e5997f.tgz#1738573971309841\n",
      "Copying gs://ai-hangsik_cloudbuild/source/1738573970.95662-454afa4139494d609c25de3006e5997f.tgz#1738573971309841...\n",
      "/ [1 files][ 36.0 KiB/ 36.0 KiB]                                                \n",
      "Operation completed over 1 objects/36.0 KiB.\n",
      "BUILD\n",
      "Already have image (with digest): gcr.io/cloud-builders/docker\n",
      "Sending build context to Docker daemon  220.2kB\n",
      "Step 1/4 : FROM tiangolo/uvicorn-gunicorn-fastapi:python3.9\n",
      "python3.9: Pulling from tiangolo/uvicorn-gunicorn-fastapi\n",
      "fd0410a2d1ae: Already exists\n",
      "bf571be90f05: Already exists\n",
      "684a51896c82: Already exists\n",
      "fbf93b646d6b: Already exists\n",
      "3c7779685a12: Pulling fs layer\n",
      "3373c61599da: Pulling fs layer\n",
      "3f511b5e7aa0: Pulling fs layer\n",
      "266455f77005: Pulling fs layer\n",
      "8d5a6f3b4ccf: Pulling fs layer\n",
      "bd5916fcd384: Pulling fs layer\n",
      "5a6fe102e82f: Pulling fs layer\n",
      "2c22f3f073c8: Pulling fs layer\n",
      "eeeafc373de9: Pulling fs layer\n",
      "903df15e40fd: Pulling fs layer\n",
      "daa8b7f7fab6: Pulling fs layer\n",
      "4f4fb700ef54: Pulling fs layer\n",
      "15d63830c476: Pulling fs layer\n",
      "0eb57669b68e: Pulling fs layer\n",
      "e15a9b2bfa17: Pulling fs layer\n",
      "266455f77005: Waiting\n",
      "8d5a6f3b4ccf: Waiting\n",
      "bd5916fcd384: Waiting\n",
      "5a6fe102e82f: Waiting\n",
      "2c22f3f073c8: Waiting\n",
      "eeeafc373de9: Waiting\n",
      "903df15e40fd: Waiting\n",
      "daa8b7f7fab6: Waiting\n",
      "4f4fb700ef54: Waiting\n",
      "15d63830c476: Waiting\n",
      "0eb57669b68e: Waiting\n",
      "e15a9b2bfa17: Waiting\n",
      "3f511b5e7aa0: Verifying Checksum\n",
      "3f511b5e7aa0: Download complete\n",
      "3c7779685a12: Verifying Checksum\n",
      "3c7779685a12: Download complete\n",
      "266455f77005: Verifying Checksum\n",
      "266455f77005: Download complete\n",
      "bd5916fcd384: Verifying Checksum\n",
      "bd5916fcd384: Download complete\n",
      "8d5a6f3b4ccf: Verifying Checksum\n",
      "8d5a6f3b4ccf: Download complete\n",
      "3373c61599da: Verifying Checksum\n",
      "3373c61599da: Download complete\n",
      "5a6fe102e82f: Verifying Checksum\n",
      "5a6fe102e82f: Download complete\n",
      "2c22f3f073c8: Verifying Checksum\n",
      "2c22f3f073c8: Download complete\n",
      "eeeafc373de9: Verifying Checksum\n",
      "eeeafc373de9: Download complete\n",
      "daa8b7f7fab6: Verifying Checksum\n",
      "daa8b7f7fab6: Download complete\n",
      "903df15e40fd: Verifying Checksum\n",
      "903df15e40fd: Download complete\n",
      "4f4fb700ef54: Verifying Checksum\n",
      "4f4fb700ef54: Download complete\n",
      "3c7779685a12: Pull complete\n",
      "15d63830c476: Verifying Checksum\n",
      "15d63830c476: Download complete\n",
      "e15a9b2bfa17: Verifying Checksum\n",
      "e15a9b2bfa17: Download complete\n",
      "0eb57669b68e: Verifying Checksum\n",
      "0eb57669b68e: Download complete\n",
      "3373c61599da: Pull complete\n",
      "3f511b5e7aa0: Pull complete\n",
      "266455f77005: Pull complete\n",
      "8d5a6f3b4ccf: Pull complete\n",
      "bd5916fcd384: Pull complete\n",
      "5a6fe102e82f: Pull complete\n",
      "2c22f3f073c8: Pull complete\n",
      "eeeafc373de9: Pull complete\n",
      "903df15e40fd: Pull complete\n",
      "daa8b7f7fab6: Pull complete\n",
      "4f4fb700ef54: Pull complete\n",
      "15d63830c476: Pull complete\n",
      "0eb57669b68e: Pull complete\n",
      "e15a9b2bfa17: Pull complete\n",
      "Digest: sha256:0cb429f07c5b90786ce3c076735362a3b52b0169712c8592ff70d699557d2ef9\n",
      "Status: Downloaded newer image for tiangolo/uvicorn-gunicorn-fastapi:python3.9\n",
      " ---> 95735a0480b5\n",
      "Step 2/4 : COPY ./app /app\n",
      " ---> ac736d662cfa\n",
      "Step 3/4 : COPY requirements.txt requirements.txt\n",
      " ---> b2c9362882b9\n",
      "Step 4/4 : RUN pip install -r requirements.txt\n",
      " ---> Running in a2924f2e5a7a\n",
      "Collecting numpy\n",
      "  Downloading numpy-2.0.2-cp39-cp39-manylinux_2_17_x86_64.manylinux2014_x86_64.whl (19.5 MB)\n",
      "     ━━━━━━━━━━━━━━━━━━━━━━━━━━━━━━━━━━━━━━━━ 19.5/19.5 MB 65.3 MB/s eta 0:00:00\n",
      "Collecting scikit-learn\n",
      "  Downloading scikit_learn-1.6.1-cp39-cp39-manylinux_2_17_x86_64.manylinux2014_x86_64.whl (13.5 MB)\n",
      "     ━━━━━━━━━━━━━━━━━━━━━━━━━━━━━━━━━━━━━━━━ 13.5/13.5 MB 80.2 MB/s eta 0:00:00\n",
      "Collecting google-cloud-storage\n",
      "  Downloading google_cloud_storage-3.0.0-py2.py3-none-any.whl (173 kB)\n",
      "     ━━━━━━━━━━━━━━━━━━━━━━━━━━━━━━━━━━━━━━ 173.9/173.9 kB 29.0 MB/s eta 0:00:00\n",
      "Collecting threadpoolctl>=3.1.0\n",
      "  Downloading threadpoolctl-3.5.0-py3-none-any.whl (18 kB)\n",
      "Collecting joblib>=1.2.0\n",
      "  Downloading joblib-1.4.2-py3-none-any.whl (301 kB)\n",
      "     ━━━━━━━━━━━━━━━━━━━━━━━━━━━━━━━━━━━━━━ 301.8/301.8 kB 39.7 MB/s eta 0:00:00\n",
      "Collecting scipy>=1.6.0\n",
      "  Downloading scipy-1.13.1-cp39-cp39-manylinux_2_17_x86_64.manylinux2014_x86_64.whl (38.6 MB)\n",
      "     ━━━━━━━━━━━━━━━━━━━━━━━━━━━━━━━━━━━━━━━━ 38.6/38.6 MB 44.9 MB/s eta 0:00:00\n",
      "Collecting google-api-core<3.0.0dev,>=2.15.0\n",
      "  Downloading google_api_core-2.24.1-py3-none-any.whl (160 kB)\n",
      "     ━━━━━━━━━━━━━━━━━━━━━━━━━━━━━━━━━━━━━━ 160.1/160.1 kB 26.3 MB/s eta 0:00:00\n",
      "Collecting google-cloud-core<3.0dev,>=2.3.0\n",
      "  Downloading google_cloud_core-2.4.1-py2.py3-none-any.whl (29 kB)\n",
      "Collecting requests<3.0.0dev,>=2.18.0\n",
      "  Downloading requests-2.32.3-py3-none-any.whl (64 kB)\n",
      "     ━━━━━━━━━━━━━━━━━━━━━━━━━━━━━━━━━━━━━━━━ 64.9/64.9 kB 11.8 MB/s eta 0:00:00\n",
      "Collecting google-resumable-media>=2.7.2\n",
      "  Downloading google_resumable_media-2.7.2-py2.py3-none-any.whl (81 kB)\n",
      "     ━━━━━━━━━━━━━━━━━━━━━━━━━━━━━━━━━━━━━━━━ 81.3/81.3 kB 14.7 MB/s eta 0:00:00\n",
      "Collecting google-auth<3.0dev,>=2.26.1\n",
      "  Downloading google_auth-2.38.0-py2.py3-none-any.whl (210 kB)\n",
      "     ━━━━━━━━━━━━━━━━━━━━━━━━━━━━━━━━━━━━━━ 210.8/210.8 kB 31.3 MB/s eta 0:00:00\n",
      "Collecting google-crc32c<2.0dev,>=1.0\n",
      "  Downloading google_crc32c-1.6.0-cp39-cp39-manylinux_2_17_x86_64.manylinux2014_x86_64.whl (37 kB)\n",
      "Collecting protobuf!=3.20.0,!=3.20.1,!=4.21.0,!=4.21.1,!=4.21.2,!=4.21.3,!=4.21.4,!=4.21.5,<6.0.0.dev0,>=3.19.5\n",
      "  Downloading protobuf-5.29.3-cp38-abi3-manylinux2014_x86_64.whl (319 kB)\n",
      "     ━━━━━━━━━━━━━━━━━━━━━━━━━━━━━━━━━━━━━━ 319.7/319.7 kB 42.0 MB/s eta 0:00:00\n",
      "Collecting googleapis-common-protos<2.0.dev0,>=1.56.2\n",
      "  Downloading googleapis_common_protos-1.66.0-py2.py3-none-any.whl (221 kB)\n",
      "     ━━━━━━━━━━━━━━━━━━━━━━━━━━━━━━━━━━━━━━ 221.7/221.7 kB 33.3 MB/s eta 0:00:00\n",
      "Collecting proto-plus<2.0.0dev,>=1.22.3\n",
      "  Downloading proto_plus-1.26.0-py3-none-any.whl (50 kB)\n",
      "     ━━━━━━━━━━━━━━━━━━━━━━━━━━━━━━━━━━━━━━━━ 50.2/50.2 kB 9.0 MB/s eta 0:00:00\n",
      "Collecting pyasn1-modules>=0.2.1\n",
      "  Downloading pyasn1_modules-0.4.1-py3-none-any.whl (181 kB)\n",
      "     ━━━━━━━━━━━━━━━━━━━━━━━━━━━━━━━━━━━━━━ 181.5/181.5 kB 29.6 MB/s eta 0:00:00\n",
      "Collecting rsa<5,>=3.1.4\n",
      "  Downloading rsa-4.9-py3-none-any.whl (34 kB)\n",
      "Collecting cachetools<6.0,>=2.0.0\n",
      "  Downloading cachetools-5.5.1-py3-none-any.whl (9.5 kB)\n",
      "Requirement already satisfied: idna<4,>=2.5 in /usr/local/lib/python3.9/site-packages (from requests<3.0.0dev,>=2.18.0->google-cloud-storage->-r requirements.txt (line 3)) (3.10)\n",
      "Collecting urllib3<3,>=1.21.1\n",
      "  Downloading urllib3-2.3.0-py3-none-any.whl (128 kB)\n",
      "     ━━━━━━━━━━━━━━━━━━━━━━━━━━━━━━━━━━━━━━ 128.4/128.4 kB 23.1 MB/s eta 0:00:00\n",
      "Collecting charset-normalizer<4,>=2\n",
      "  Downloading charset_normalizer-3.4.1-cp39-cp39-manylinux_2_17_x86_64.manylinux2014_x86_64.whl (146 kB)\n",
      "     ━━━━━━━━━━━━━━━━━━━━━━━━━━━━━━━━━━━━━━ 146.2/146.2 kB 25.2 MB/s eta 0:00:00\n",
      "Requirement already satisfied: certifi>=2017.4.17 in /usr/local/lib/python3.9/site-packages (from requests<3.0.0dev,>=2.18.0->google-cloud-storage->-r requirements.txt (line 3)) (2025.1.31)\n",
      "Collecting pyasn1<0.7.0,>=0.4.6\n",
      "  Downloading pyasn1-0.6.1-py3-none-any.whl (83 kB)\n",
      "     ━━━━━━━━━━━━━━━━━━━━━━━━━━━━━━━━━━━━━━━━ 83.1/83.1 kB 14.4 MB/s eta 0:00:00\n",
      "Installing collected packages: urllib3, threadpoolctl, pyasn1, protobuf, numpy, joblib, google-crc32c, charset-normalizer, cachetools, scipy, rsa, requests, pyasn1-modules, proto-plus, googleapis-common-protos, google-resumable-media, scikit-learn, google-auth, google-api-core, google-cloud-core, google-cloud-storage\n",
      "Successfully installed cachetools-5.5.1 charset-normalizer-3.4.1 google-api-core-2.24.1 google-auth-2.38.0 google-cloud-core-2.4.1 google-cloud-storage-3.0.0 google-crc32c-1.6.0 google-resumable-media-2.7.2 googleapis-common-protos-1.66.0 joblib-1.4.2 numpy-2.0.2 proto-plus-1.26.0 protobuf-5.29.3 pyasn1-0.6.1 pyasn1-modules-0.4.1 requests-2.32.3 rsa-4.9 scikit-learn-1.6.1 scipy-1.13.1 threadpoolctl-3.5.0 urllib3-2.3.0\n",
      "\u001b[91mWARNING: Running pip as the 'root' user can result in broken permissions and conflicting behaviour with the system package manager. It is recommended to use a virtual environment instead: https://pip.pypa.io/warnings/venv\n",
      "\u001b[0m\u001b[91m\n",
      "[notice] A new release of pip is available: 23.0.1 -> 25.0\n",
      "[notice] To update, run: pip install --upgrade pip\n",
      "\u001b[0mRemoving intermediate container a2924f2e5a7a\n",
      " ---> 1f37ac41877b\n",
      "Successfully built 1f37ac41877b\n",
      "Successfully tagged us-central1-docker.pkg.dev/ai-hangsik/custom-container-prediction/sklearn-fastapi-server:latest\n",
      "PUSH\n",
      "Pushing us-central1-docker.pkg.dev/ai-hangsik/custom-container-prediction/sklearn-fastapi-server\n",
      "The push refers to repository [us-central1-docker.pkg.dev/ai-hangsik/custom-container-prediction/sklearn-fastapi-server]\n",
      "979847830859: Preparing\n",
      "c5433fd2d7a0: Preparing\n",
      "6a338ad8292f: Preparing\n",
      "d009ee61390b: Preparing\n",
      "b9f4fe06822d: Preparing\n",
      "263ed978bf69: Preparing\n",
      "5f70bf18a086: Preparing\n",
      "1143ec215cb4: Preparing\n",
      "a9b7e9b72419: Preparing\n",
      "9c94b1273fff: Preparing\n",
      "f3576f463dc2: Preparing\n",
      "3a0a332febed: Preparing\n",
      "dabe170966f8: Preparing\n",
      "85f697a31172: Preparing\n",
      "c310aa3e3382: Preparing\n",
      "b04d9cc455c3: Preparing\n",
      "75c3a89d72d3: Preparing\n",
      "5fbd455dea1a: Preparing\n",
      "ebad64620a59: Preparing\n",
      "f379f6005525: Preparing\n",
      "0e5c23e041ee: Preparing\n",
      "397f1b2e2505: Preparing\n",
      "263ed978bf69: Waiting\n",
      "5f70bf18a086: Waiting\n",
      "1143ec215cb4: Waiting\n",
      "a9b7e9b72419: Waiting\n",
      "9c94b1273fff: Waiting\n",
      "f3576f463dc2: Waiting\n",
      "3a0a332febed: Waiting\n",
      "dabe170966f8: Waiting\n",
      "85f697a31172: Waiting\n",
      "f379f6005525: Waiting\n",
      "c310aa3e3382: Waiting\n",
      "b04d9cc455c3: Waiting\n",
      "75c3a89d72d3: Waiting\n",
      "5fbd455dea1a: Waiting\n",
      "ebad64620a59: Waiting\n",
      "0e5c23e041ee: Waiting\n",
      "397f1b2e2505: Waiting\n",
      "c5433fd2d7a0: Pushed\n",
      "6a338ad8292f: Pushed\n",
      "d009ee61390b: Pushed\n",
      "5f70bf18a086: Layer already exists\n",
      "263ed978bf69: Pushed\n",
      "1143ec215cb4: Pushed\n",
      "b9f4fe06822d: Pushed\n",
      "a9b7e9b72419: Pushed\n",
      "9c94b1273fff: Pushed\n",
      "f3576f463dc2: Pushed\n",
      "3a0a332febed: Pushed\n",
      "dabe170966f8: Pushed\n",
      "c310aa3e3382: Pushed\n",
      "b04d9cc455c3: Pushed\n",
      "85f697a31172: Pushed\n",
      "75c3a89d72d3: Pushed\n",
      "5fbd455dea1a: Pushed\n",
      "0e5c23e041ee: Pushed\n",
      "f379f6005525: Pushed\n",
      "397f1b2e2505: Pushed\n",
      "979847830859: Pushed\n",
      "ebad64620a59: Pushed\n",
      "latest: digest: sha256:ed00c3a94d1f1e3617903a3c8f751c10b110ec981060e9cca0be30830d40ab5c size: 4916\n",
      "DONE\n",
      "--------------------------------------------------------------------------------\n",
      "ID                                    CREATE_TIME                DURATION  SOURCE                                                                                   IMAGES                                                                                              STATUS\n",
      "eb29a334-8512-4eee-b97f-cc84e3a00e3f  2025-02-03T09:12:51+00:00  1M46S     gs://ai-hangsik_cloudbuild/source/1738573970.95662-454afa4139494d609c25de3006e5997f.tgz  us-central1-docker.pkg.dev/ai-hangsik/custom-container-prediction/sklearn-fastapi-server (+1 more)  SUCCESS\n"
     ]
    }
   ],
   "source": [
    "!gcloud builds submit --region={LOCATION} --tag={LOCATION}-docker.pkg.dev/{PROJECT_ID}/{REPOSITORY}/{IMAGE}"
   ]
  },
  {
   "cell_type": "code",
   "execution_count": 20,
   "id": "6aa41713-7dde-4631-a9f2-1991d8b77343",
   "metadata": {},
   "outputs": [
    {
     "name": "stdout",
     "output_type": "stream",
     "text": [
      "Creating Model\n",
      "Create Model backing LRO: projects/721521243942/locations/us-central1/models/8814543926833709056/operations/3115112051479937024\n",
      "Model created. Resource name: projects/721521243942/locations/us-central1/models/8814543926833709056@1\n",
      "To use this Model in another session:\n",
      "model = aiplatform.Model('projects/721521243942/locations/us-central1/models/8814543926833709056@1')\n"
     ]
    }
   ],
   "source": [
    "\n",
    "model = aiplatform.Model.upload(\n",
    "    display_name=MODEL_DISPLAY_NAME,\n",
    "    artifact_uri=f\"{BUCKET_URI}/{MODEL_ARTIFACT_DIR}\",\n",
    "    serving_container_image_uri=f\"{LOCATION}-docker.pkg.dev/{PROJECT_ID}/{REPOSITORY}/{IMAGE}\",\n",
    ")"
   ]
  },
  {
   "cell_type": "code",
   "execution_count": 21,
   "id": "9c503325-ff2a-453d-960f-28d599f51d22",
   "metadata": {},
   "outputs": [
    {
     "name": "stdout",
     "output_type": "stream",
     "text": [
      "Creating Endpoint\n",
      "Create Endpoint backing LRO: projects/721521243942/locations/us-central1/endpoints/4684087759604809728/operations/657976242284265472\n",
      "Endpoint created. Resource name: projects/721521243942/locations/us-central1/endpoints/4684087759604809728\n",
      "To use this Endpoint in another session:\n",
      "endpoint = aiplatform.Endpoint('projects/721521243942/locations/us-central1/endpoints/4684087759604809728')\n",
      "Deploying model to Endpoint : projects/721521243942/locations/us-central1/endpoints/4684087759604809728\n",
      "Deploy Endpoint model backing LRO: projects/721521243942/locations/us-central1/endpoints/4684087759604809728/operations/6277342677335801856\n",
      "Endpoint model deployed. Resource name: projects/721521243942/locations/us-central1/endpoints/4684087759604809728\n"
     ]
    }
   ],
   "source": [
    "deployed_model = model.deploy(\n",
    "    endpoint=aiplatform.Endpoint.create(display_name=\"custom-prediction-endpoint\"),\n",
    "    machine_type=\"n1-standard-4\"\n",
    ")"
   ]
  },
  {
   "cell_type": "code",
   "execution_count": 22,
   "id": "95c91763-89e9-4e85-ab93-31079f9643d3",
   "metadata": {},
   "outputs": [
    {
     "data": {
      "text/plain": [
       "Prediction(predictions=['versicolor', 'setosa'], deployed_model_id='1889133599844728832', metadata=None, model_version_id='1', model_resource_name='projects/721521243942/locations/us-central1/models/8814543926833709056', explanations=None)"
      ]
     },
     "execution_count": 22,
     "metadata": {},
     "output_type": "execute_result"
    }
   ],
   "source": [
    "# Send some sample data to the endpoint\n",
    "deployed_model.predict(instances=[[6.7, 3.1, 4.7, 1.5], [4.6, 3.1, 1.5, 0.2]])"
   ]
  },
  {
   "cell_type": "code",
   "execution_count": 24,
   "id": "db14728e-b4db-4947-be5a-4cebf812c0d8",
   "metadata": {},
   "outputs": [],
   "source": [
    "# Fetch the endpoint name\n",
    "ENDPOINT_ID = deployed_model.name"
   ]
  },
  {
   "cell_type": "code",
   "execution_count": 25,
   "id": "d4e4cb56-57a6-40f3-9f42-fb2942e2299b",
   "metadata": {},
   "outputs": [
    {
     "name": "stdout",
     "output_type": "stream",
     "text": [
      "{\n",
      "  \"predictions\": [\n",
      "    \"versicolor\",\n",
      "    \"setosa\"\n",
      "  ],\n",
      "  \"deployedModelId\": \"1889133599844728832\",\n",
      "  \"model\": \"projects/721521243942/locations/us-central1/models/8814543926833709056\",\n",
      "  \"modelDisplayName\": \"sklearn-custom-container\",\n",
      "  \"modelVersionId\": \"1\"\n",
      "}\n"
     ]
    }
   ],
   "source": [
    "# Send a prediction request using sample data\n",
    "! curl \\\n",
    "-H \"Authorization: Bearer $(gcloud auth print-access-token)\" \\\n",
    "-H \"Content-Type: application/json\" \\\n",
    "-d @instances.json \\\n",
    "https://{LOCATION}-aiplatform.googleapis.com/v1/projects/{PROJECT_ID}/locations/{LOCATION}/endpoints/{ENDPOINT_ID}:predict"
   ]
  },
  {
   "cell_type": "code",
   "execution_count": null,
   "id": "6cc50dfd-e232-49f8-9aae-73cc40700473",
   "metadata": {},
   "outputs": [],
   "source": []
  }
 ],
 "metadata": {
  "environment": {
   "kernel": "conda-base-py",
   "name": "workbench-notebooks.m127",
   "type": "gcloud",
   "uri": "us-docker.pkg.dev/deeplearning-platform-release/gcr.io/workbench-notebooks:m127"
  },
  "kernelspec": {
   "display_name": "Python 3 (ipykernel)",
   "language": "python",
   "name": "conda-base-py"
  },
  "language_info": {
   "codemirror_mode": {
    "name": "ipython",
    "version": 3
   },
   "file_extension": ".py",
   "mimetype": "text/x-python",
   "name": "python",
   "nbconvert_exporter": "python",
   "pygments_lexer": "ipython3",
   "version": "3.10.16"
  }
 },
 "nbformat": 4,
 "nbformat_minor": 5
}
