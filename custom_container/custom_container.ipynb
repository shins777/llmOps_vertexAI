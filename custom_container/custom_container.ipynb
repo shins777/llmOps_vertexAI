{
 "cells": [
  {
   "cell_type": "code",
   "execution_count": 26,
   "id": "4343fca7-8de1-4fb9-b8d0-c82148a5bfa1",
   "metadata": {
    "scrolled": true
   },
   "outputs": [
    {
     "name": "stdout",
     "output_type": "stream",
     "text": [
      "Overwriting requirements.txt\n"
     ]
    }
   ],
   "source": [
    "# %%writefile requirements.txt\n",
    "# joblib~=1.0\n",
    "# numpy==1.23.1\n",
    "# mxnet-mkl==1.6.0\n",
    "# scikit-learn\n",
    "# google-cloud-storage<3.0.0dev,>=1.32.0"
   ]
  },
  {
   "cell_type": "code",
   "execution_count": 27,
   "id": "4bbfdc8a-209e-4284-9d28-9997e8a7c48c",
   "metadata": {},
   "outputs": [],
   "source": [
    "# ! pip install -U  -q -r requirements.txt"
   ]
  },
  {
   "cell_type": "code",
   "execution_count": 58,
   "id": "655b32e7-872c-4331-931d-28fc4347d3fb",
   "metadata": {},
   "outputs": [],
   "source": [
    "! pip install -U  -q uvicorn[standard] fastapi"
   ]
  },
  {
   "cell_type": "code",
   "execution_count": 59,
   "id": "f14acad4-8b27-4122-9b5f-1bcd3198dcdd",
   "metadata": {},
   "outputs": [],
   "source": [
    "! pip install --upgrade --quiet  google-cloud-aiplatform \\\n",
    "                                 google-cloud-storage"
   ]
  },
  {
   "cell_type": "code",
   "execution_count": 14,
   "id": "cf3990db-fa11-4b75-82df-68962232be09",
   "metadata": {},
   "outputs": [],
   "source": [
    "PROJECT_ID = \"ai-hangsik\" \n",
    "LOCATION = \"us-central1\" \n",
    "BUCKET_URI = f\"gs://sllm_0116\" "
   ]
  },
  {
   "cell_type": "code",
   "execution_count": 61,
   "id": "dae00014-ddc5-4f44-ab73-7200631bb85b",
   "metadata": {},
   "outputs": [],
   "source": [
    "import os\n",
    "import sys\n",
    "from google.cloud import aiplatform\n",
    "\n",
    "aiplatform.init(project=PROJECT_ID, location=LOCATION, staging_bucket=BUCKET_URI)"
   ]
  },
  {
   "cell_type": "code",
   "execution_count": 1,
   "id": "497e96cb-00bd-4efe-8d7b-382df3033966",
   "metadata": {},
   "outputs": [],
   "source": [
    "!cd /home/jupyter/custom_container"
   ]
  },
  {
   "cell_type": "code",
   "execution_count": 2,
   "id": "89422b4c-8e74-43e8-b252-45c37c58f183",
   "metadata": {},
   "outputs": [
    {
     "name": "stdout",
     "output_type": "stream",
     "text": [
      "/home/jupyter/custom_container\n"
     ]
    }
   ],
   "source": [
    "!pwd"
   ]
  },
  {
   "cell_type": "code",
   "execution_count": 3,
   "id": "218f216f-2fb9-4ed3-b53a-00d8229ad51c",
   "metadata": {},
   "outputs": [],
   "source": [
    "MODEL_ARTIFACT_DIR = \"custom-container-prediction-model\"\n",
    "REPOSITORY = \"custom-container-prediction\"\n",
    "IMAGE = \"sklearn-fastapi-server\"\n",
    "MODEL_DISPLAY_NAME = \"sklearn-custom-container\""
   ]
  },
  {
   "cell_type": "code",
   "execution_count": 4,
   "id": "c3d3967d-d5cc-4785-b68a-235283be73bc",
   "metadata": {},
   "outputs": [],
   "source": [
    "%mkdir app"
   ]
  },
  {
   "cell_type": "code",
   "execution_count": 6,
   "id": "7be8b6da-84c7-485e-89f6-ddda447d039c",
   "metadata": {},
   "outputs": [],
   "source": [
    "%mv model.pickle app"
   ]
  },
  {
   "cell_type": "code",
   "execution_count": 12,
   "id": "b51384c3-2be3-42c6-9ff8-7b111781d8a6",
   "metadata": {},
   "outputs": [
    {
     "name": "stdout",
     "output_type": "stream",
     "text": [
      "/home/jupyter/custom_container\n"
     ]
    }
   ],
   "source": [
    "%cd /home/jupyter/custom_container"
   ]
  },
  {
   "cell_type": "code",
   "execution_count": 15,
   "id": "a6bf7755-6a6b-4436-a975-71540e881ae9",
   "metadata": {},
   "outputs": [
    {
     "name": "stdout",
     "output_type": "stream",
     "text": [
      "Copying file://app/model.pickle [Content-Type=application/octet-stream]...\n",
      "/ [1 files][  2.6 KiB/  2.6 KiB]                                                \n",
      "Operation completed over 1 objects/2.6 KiB.                                      \n"
     ]
    }
   ],
   "source": [
    "!gsutil cp app/model.pickle {BUCKET_URI}/{MODEL_ARTIFACT_DIR}/"
   ]
  },
  {
   "cell_type": "code",
   "execution_count": 16,
   "id": "06da9729-ea50-4219-bdf1-86b68020ea77",
   "metadata": {},
   "outputs": [
    {
     "name": "stdout",
     "output_type": "stream",
     "text": [
      "Writing app/main.py\n"
     ]
    }
   ],
   "source": [
    "%%writefile app/main.py\n",
    "from fastapi import FastAPI, Request\n",
    "\n",
    "import joblib\n",
    "import json\n",
    "import numpy as np\n",
    "import pickle\n",
    "import os\n",
    "\n",
    "from google.cloud import storage\n",
    "from preprocess import MySimpleScaler\n",
    "from sklearn.datasets import load_iris\n",
    "\n",
    "app = FastAPI()\n",
    "gcs_client = storage.Client()\n",
    "\n",
    "# with open(\"model.pickle\", 'wb') as model_f:\n",
    "#     gcs_client.download_blob_to_file(\n",
    "#         f\"{os.environ['AIP_STORAGE_URI']}/preprocessor.pkl\", preprocessor_f\n",
    "#     )\n",
    "#     gcs_client.download_blob_to_file(\n",
    "#         f\"{os.environ['AIP_STORAGE_URI']}/model.joblib\", model_f\n",
    "#     )\n",
    "\n",
    "with open(\"model.pickle\", \"rb\") as f:\n",
    "    model = pickle.load(f)\n",
    "\n",
    "_class_names = load_iris().target_names\n",
    "_model = model\n",
    "# _preprocessor = preprocessor\n",
    "\n",
    "@app.get(os.environ['AIP_HEALTH_ROUTE'], status_code=200)\n",
    "def health():\n",
    "    return {}\n",
    "\n",
    "@app.post(os.environ['AIP_PREDICT_ROUTE'])\n",
    "async def predict(request: Request):\n",
    "    body = await request.json()\n",
    "\n",
    "    instances = body[\"instances\"]\n",
    "    inputs = np.asarray(instances)\n",
    "    # preprocessed_inputs = _preprocessor.preprocess(inputs)\n",
    "    outputs = _model.predict(inputs)\n",
    "\n",
    "    return {\"predictions\": [_class_names[class_num] for class_num in outputs]}\n"
   ]
  },
  {
   "cell_type": "code",
   "execution_count": 17,
   "id": "b9379fcf-84f1-4f8c-b948-24cc800c0bf2",
   "metadata": {},
   "outputs": [
    {
     "name": "stdout",
     "output_type": "stream",
     "text": [
      "Writing app/prestart.sh\n"
     ]
    }
   ],
   "source": [
    "%%writefile app/prestart.sh\n",
    "#!/bin/bash\n",
    "export PORT=$AIP_HTTP_PORT"
   ]
  },
  {
   "cell_type": "code",
   "execution_count": 18,
   "id": "545385e5-bc74-4d8e-8e39-af537f375f1f",
   "metadata": {},
   "outputs": [
    {
     "name": "stdout",
     "output_type": "stream",
     "text": [
      "Writing instances.json\n"
     ]
    }
   ],
   "source": [
    "%%writefile instances.json\n",
    "{\n",
    "    \"instances\": [\n",
    "        [6.7, 3.1, 4.7, 1.5],\n",
    "        [4.6, 3.1, 1.5, 0.2]\n",
    "    ]\n",
    "}"
   ]
  },
  {
   "cell_type": "code",
   "execution_count": null,
   "id": "82c33946-8596-4cfc-91df-1f4ba84b6cc8",
   "metadata": {},
   "outputs": [],
   "source": [
    "# %%writefile requirements.txt\n",
    "# joblib~=1.0\n",
    "# numpy==1.23.1\n",
    "# mxnet-mkl==1.6.0\n",
    "# scikit-learn\n",
    "# google-cloud-storage<3.0.0dev,>=1.32.0"
   ]
  },
  {
   "cell_type": "code",
   "execution_count": 19,
   "id": "ec6cef07-2f02-4cd9-a013-a02e7e57355e",
   "metadata": {},
   "outputs": [
    {
     "name": "stdout",
     "output_type": "stream",
     "text": [
      "Writing requirements.txt\n"
     ]
    }
   ],
   "source": [
    "%%writefile requirements.txt\n",
    "numpy\n",
    "scikit-learn\n",
    "google-cloud-storage"
   ]
  },
  {
   "cell_type": "code",
   "execution_count": 20,
   "id": "cd144969-7f70-42a0-8bef-690ac0cedb9a",
   "metadata": {},
   "outputs": [
    {
     "name": "stdout",
     "output_type": "stream",
     "text": [
      "Writing Dockerfile\n"
     ]
    }
   ],
   "source": [
    "%%writefile Dockerfile\n",
    "\n",
    "FROM tiangolo/uvicorn-gunicorn-fastapi:python3.9\n",
    "\n",
    "COPY ./app /app\n",
    "COPY requirements.txt requirements.txt\n",
    "\n",
    "RUN pip install -r requirements.txt"
   ]
  },
  {
   "cell_type": "code",
   "execution_count": 21,
   "id": "0b3d271b-388a-4ba3-8b59-8fa1bdca8b28",
   "metadata": {},
   "outputs": [
    {
     "name": "stdout",
     "output_type": "stream",
     "text": [
      "Sending build context to Docker daemon  305.2kB\n",
      "Step 1/4 : FROM tiangolo/uvicorn-gunicorn-fastapi:python3.9\n",
      " ---> 95735a0480b5\n",
      "Step 2/4 : COPY ./app /app\n",
      " ---> bfbeee204d5d\n",
      "Step 3/4 : COPY requirements.txt requirements.txt\n",
      " ---> ad52193287db\n",
      "Step 4/4 : RUN pip install -r requirements.txt\n",
      " ---> Running in cc0da01fb54e\n",
      "Collecting numpy\n",
      "  Downloading numpy-2.0.2-cp39-cp39-manylinux_2_17_x86_64.manylinux2014_x86_64.whl (19.5 MB)\n",
      "     ━━━━━━━━━━━━━━━━━━━━━━━━━━━━━━━━━━━━━━━━ 19.5/19.5 MB 44.4 MB/s eta 0:00:00\n",
      "Collecting scikit-learn\n",
      "  Downloading scikit_learn-1.6.1-cp39-cp39-manylinux_2_17_x86_64.manylinux2014_x86_64.whl (13.5 MB)\n",
      "     ━━━━━━━━━━━━━━━━━━━━━━━━━━━━━━━━━━━━━━━━ 13.5/13.5 MB 87.5 MB/s eta 0:00:00\n",
      "Collecting google-cloud-storage\n",
      "  Downloading google_cloud_storage-3.0.0-py2.py3-none-any.whl (173 kB)\n",
      "     ━━━━━━━━━━━━━━━━━━━━━━━━━━━━━━━━━━━━━━ 173.9/173.9 kB 39.5 MB/s eta 0:00:00\n",
      "Collecting threadpoolctl>=3.1.0\n",
      "  Downloading threadpoolctl-3.5.0-py3-none-any.whl (18 kB)\n",
      "Collecting scipy>=1.6.0\n",
      "  Downloading scipy-1.13.1-cp39-cp39-manylinux_2_17_x86_64.manylinux2014_x86_64.whl (38.6 MB)\n",
      "     ━━━━━━━━━━━━━━━━━━━━━━━━━━━━━━━━━━━━━━━━ 38.6/38.6 MB 46.2 MB/s eta 0:00:00\n",
      "Collecting joblib>=1.2.0\n",
      "  Downloading joblib-1.4.2-py3-none-any.whl (301 kB)\n",
      "     ━━━━━━━━━━━━━━━━━━━━━━━━━━━━━━━━━━━━━━ 301.8/301.8 kB 55.1 MB/s eta 0:00:00\n",
      "Collecting google-cloud-core<3.0dev,>=2.3.0\n",
      "  Downloading google_cloud_core-2.4.1-py2.py3-none-any.whl (29 kB)\n",
      "Collecting google-auth<3.0dev,>=2.26.1\n",
      "  Downloading google_auth-2.38.0-py2.py3-none-any.whl (210 kB)\n",
      "     ━━━━━━━━━━━━━━━━━━━━━━━━━━━━━━━━━━━━━━ 210.8/210.8 kB 47.9 MB/s eta 0:00:00\n",
      "Collecting google-resumable-media>=2.7.2\n",
      "  Downloading google_resumable_media-2.7.2-py2.py3-none-any.whl (81 kB)\n",
      "     ━━━━━━━━━━━━━━━━━━━━━━━━━━━━━━━━━━━━━━━━ 81.3/81.3 kB 23.7 MB/s eta 0:00:00\n",
      "Collecting requests<3.0.0dev,>=2.18.0\n",
      "  Downloading requests-2.32.3-py3-none-any.whl (64 kB)\n",
      "     ━━━━━━━━━━━━━━━━━━━━━━━━━━━━━━━━━━━━━━━━ 64.9/64.9 kB 15.9 MB/s eta 0:00:00\n",
      "Collecting google-crc32c<2.0dev,>=1.0\n",
      "  Downloading google_crc32c-1.6.0-cp39-cp39-manylinux_2_17_x86_64.manylinux2014_x86_64.whl (37 kB)\n",
      "Collecting google-api-core<3.0.0dev,>=2.15.0\n",
      "  Downloading google_api_core-2.24.1-py3-none-any.whl (160 kB)\n",
      "     ━━━━━━━━━━━━━━━━━━━━━━━━━━━━━━━━━━━━━━ 160.1/160.1 kB 38.1 MB/s eta 0:00:00\n",
      "Collecting protobuf!=3.20.0,!=3.20.1,!=4.21.0,!=4.21.1,!=4.21.2,!=4.21.3,!=4.21.4,!=4.21.5,<6.0.0.dev0,>=3.19.5\n",
      "  Downloading protobuf-5.29.3-cp38-abi3-manylinux2014_x86_64.whl (319 kB)\n",
      "     ━━━━━━━━━━━━━━━━━━━━━━━━━━━━━━━━━━━━━━ 319.7/319.7 kB 55.8 MB/s eta 0:00:00\n",
      "Collecting proto-plus<2.0.0dev,>=1.22.3\n",
      "  Downloading proto_plus-1.26.0-py3-none-any.whl (50 kB)\n",
      "     ━━━━━━━━━━━━━━━━━━━━━━━━━━━━━━━━━━━━━━━━ 50.2/50.2 kB 14.7 MB/s eta 0:00:00\n",
      "Collecting googleapis-common-protos<2.0.dev0,>=1.56.2\n",
      "  Downloading googleapis_common_protos-1.66.0-py2.py3-none-any.whl (221 kB)\n",
      "     ━━━━━━━━━━━━━━━━━━━━━━━━━━━━━━━━━━━━━━ 221.7/221.7 kB 41.6 MB/s eta 0:00:00\n",
      "Collecting cachetools<6.0,>=2.0.0\n",
      "  Downloading cachetools-5.5.1-py3-none-any.whl (9.5 kB)\n",
      "Collecting rsa<5,>=3.1.4\n",
      "  Downloading rsa-4.9-py3-none-any.whl (34 kB)\n",
      "Collecting pyasn1-modules>=0.2.1\n",
      "  Downloading pyasn1_modules-0.4.1-py3-none-any.whl (181 kB)\n",
      "     ━━━━━━━━━━━━━━━━━━━━━━━━━━━━━━━━━━━━━━ 181.5/181.5 kB 42.2 MB/s eta 0:00:00\n",
      "Collecting charset-normalizer<4,>=2\n",
      "  Downloading charset_normalizer-3.4.1-cp39-cp39-manylinux_2_17_x86_64.manylinux2014_x86_64.whl (146 kB)\n",
      "     ━━━━━━━━━━━━━━━━━━━━━━━━━━━━━━━━━━━━━━ 146.2/146.2 kB 34.2 MB/s eta 0:00:00\n",
      "Requirement already satisfied: idna<4,>=2.5 in /usr/local/lib/python3.9/site-packages (from requests<3.0.0dev,>=2.18.0->google-cloud-storage->-r requirements.txt (line 3)) (3.10)\n",
      "Requirement already satisfied: certifi>=2017.4.17 in /usr/local/lib/python3.9/site-packages (from requests<3.0.0dev,>=2.18.0->google-cloud-storage->-r requirements.txt (line 3)) (2025.1.31)\n",
      "Collecting urllib3<3,>=1.21.1\n",
      "  Downloading urllib3-2.3.0-py3-none-any.whl (128 kB)\n",
      "     ━━━━━━━━━━━━━━━━━━━━━━━━━━━━━━━━━━━━━━ 128.4/128.4 kB 27.1 MB/s eta 0:00:00\n",
      "Collecting pyasn1<0.7.0,>=0.4.6\n",
      "  Downloading pyasn1-0.6.1-py3-none-any.whl (83 kB)\n",
      "     ━━━━━━━━━━━━━━━━━━━━━━━━━━━━━━━━━━━━━━━━ 83.1/83.1 kB 22.2 MB/s eta 0:00:00\n",
      "Installing collected packages: urllib3, threadpoolctl, pyasn1, protobuf, numpy, joblib, google-crc32c, charset-normalizer, cachetools, scipy, rsa, requests, pyasn1-modules, proto-plus, googleapis-common-protos, google-resumable-media, scikit-learn, google-auth, google-api-core, google-cloud-core, google-cloud-storage\n",
      "Successfully installed cachetools-5.5.1 charset-normalizer-3.4.1 google-api-core-2.24.1 google-auth-2.38.0 google-cloud-core-2.4.1 google-cloud-storage-3.0.0 google-crc32c-1.6.0 google-resumable-media-2.7.2 googleapis-common-protos-1.66.0 joblib-1.4.2 numpy-2.0.2 proto-plus-1.26.0 protobuf-5.29.3 pyasn1-0.6.1 pyasn1-modules-0.4.1 requests-2.32.3 rsa-4.9 scikit-learn-1.6.1 scipy-1.13.1 threadpoolctl-3.5.0 urllib3-2.3.0\n",
      "\u001b[91mWARNING: Running pip as the 'root' user can result in broken permissions and conflicting behaviour with the system package manager. It is recommended to use a virtual environment instead: https://pip.pypa.io/warnings/venv\n",
      "\u001b[91m\n",
      "[notice] A new release of pip is available: 23.0.1 -> 25.0\n",
      "[notice] To update, run: pip install --upgrade pip\n",
      "Removing intermediate container cc0da01fb54e\n",
      " ---> afbfba19495d\n",
      "Successfully built afbfba19495d\n",
      "Successfully tagged us-central1-docker.pkg.dev/ai-hangsik/custom-container-prediction/sklearn-fastapi-server:latest\n"
     ]
    }
   ],
   "source": [
    "! docker build --tag=\"{LOCATION}-docker.pkg.dev/{PROJECT_ID}/{REPOSITORY}/{IMAGE}\" ."
   ]
  },
  {
   "cell_type": "code",
   "execution_count": 22,
   "id": "c0d0e845-6236-4a69-af32-df386816fd3e",
   "metadata": {},
   "outputs": [
    {
     "name": "stdout",
     "output_type": "stream",
     "text": [
      "local-iris\n"
     ]
    }
   ],
   "source": [
    "!docker stop local-iris"
   ]
  },
  {
   "cell_type": "code",
   "execution_count": 23,
   "id": "a3e7225b-2b1f-43f5-8bd2-679ed623aa12",
   "metadata": {},
   "outputs": [
    {
     "name": "stdout",
     "output_type": "stream",
     "text": [
      "local-iris\n"
     ]
    }
   ],
   "source": [
    "!docker rm local-iris"
   ]
  },
  {
   "cell_type": "code",
   "execution_count": 24,
   "id": "474311d2-fd39-4a03-acd9-a7e953e8871b",
   "metadata": {},
   "outputs": [
    {
     "name": "stdout",
     "output_type": "stream",
     "text": [
      "CONTAINER ID   IMAGE                                                                           COMMAND                  CREATED        STATUS                    PORTS     NAMES\n",
      "d7598bff538e   us-central1-docker.pkg.dev/ai-hangsik/custom-inference-gpu/tgi-release:latest   \"./entrypoint.sh '--…\"   47 hours ago   Exited (0) 47 hours ago             stupefied_williams\n"
     ]
    }
   ],
   "source": [
    "! docker ps -a"
   ]
  },
  {
   "cell_type": "code",
   "execution_count": 25,
   "id": "67b71122-4643-4a5b-86cf-0961283cb840",
   "metadata": {},
   "outputs": [
    {
     "name": "stdout",
     "output_type": "stream",
     "text": [
      "REPOSITORY                                                                                                                TAG         IMAGE ID       CREATED             SIZE\n",
      "us-central1-docker.pkg.dev/ai-hangsik/custom-container-prediction/sklearn-fastapi-server                                  latest      afbfba19495d   35 seconds ago      1.4GB\n",
      "<none>                                                                                                                    <none>      e5aa46fa9e71   54 minutes ago      1.75GB\n",
      "<none>                                                                                                                    <none>      0b57ae845577   About an hour ago   1.75GB\n",
      "<none>                                                                                                                    <none>      087a9d9cfa38   3 hours ago         1.75GB\n",
      "tiangolo/uvicorn-gunicorn-fastapi                                                                                         python3.9   95735a0480b5   8 hours ago         1.05GB\n",
      "us-central1-docker.pkg.dev/ai-hangsik/custom-inference-gpu/tgi-release                                                    latest      8969912fc0db   47 hours ago        15.2GB\n",
      "us-docker.pkg.dev/deeplearning-platform-release/gcr.io/huggingface-text-generation-inference-cu124.2-4.ubuntu2204.py311   latest      9e59d29d5e8a   3 weeks ago         15.2GB\n"
     ]
    }
   ],
   "source": [
    "! docker images"
   ]
  },
  {
   "cell_type": "code",
   "execution_count": 26,
   "id": "7be39189-0823-4f5a-8312-8fc753ae9b1d",
   "metadata": {},
   "outputs": [
    {
     "name": "stdout",
     "output_type": "stream",
     "text": [
      "dd37ac4fb2799c5321b63d86136d2df0794235a84985940bdf4ec9fb01cb1b3b\n"
     ]
    }
   ],
   "source": [
    "! docker run -d -p 80:8080 \\\n",
    "        --name=local-iris \\\n",
    "        -e AIP_HTTP_PORT=8080 \\\n",
    "        -e AIP_HEALTH_ROUTE=/health \\\n",
    "        -e AIP_PREDICT_ROUTE=/predict \\\n",
    "        -e AIP_STORAGE_URI={BUCKET_URI}/{MODEL_ARTIFACT_DIR} \\\n",
    "        \"{LOCATION}-docker.pkg.dev/{PROJECT_ID}/{REPOSITORY}/{IMAGE}\""
   ]
  },
  {
   "cell_type": "code",
   "execution_count": 32,
   "id": "7527a5a2-2b8f-495e-bce9-0c40d93ec387",
   "metadata": {},
   "outputs": [
    {
     "name": "stdout",
     "output_type": "stream",
     "text": [
      "CONTAINER ID   IMAGE                                                                                      COMMAND                  CREATED         STATUS                    PORTS                                   NAMES\n",
      "dd37ac4fb279   us-central1-docker.pkg.dev/ai-hangsik/custom-container-prediction/sklearn-fastapi-server   \"/start.sh\"              4 minutes ago   Up 4 minutes              0.0.0.0:80->8080/tcp, :::80->8080/tcp   local-iris\n",
      "d7598bff538e   us-central1-docker.pkg.dev/ai-hangsik/custom-inference-gpu/tgi-release:latest              \"./entrypoint.sh '--…\"   47 hours ago    Exited (0) 47 hours ago                                           stupefied_williams\n"
     ]
    }
   ],
   "source": [
    "! docker ps -a"
   ]
  },
  {
   "cell_type": "code",
   "execution_count": 29,
   "id": "cf181f42-6c4d-4043-a648-0b710d7efe7d",
   "metadata": {},
   "outputs": [
    {
     "name": "stdout",
     "output_type": "stream",
     "text": [
      "Checking for script in /app/prestart.sh\n",
      "Running script /app/prestart.sh\n",
      "{\"loglevel\": \"info\", \"workers\": 24, \"bind\": \"0.0.0.0:8080\", \"graceful_timeout\": 120, \"timeout\": 120, \"keepalive\": 5, \"errorlog\": \"-\", \"accesslog\": \"-\", \"workers_per_core\": 1.0, \"use_max_workers\": null, \"host\": \"0.0.0.0\", \"port\": \"8080\"}\n",
      "[2025-02-03 07:45:29 +0000] [1] [INFO] Starting gunicorn 23.0.0\n",
      "[2025-02-03 07:45:29 +0000] [1] [INFO] Listening at: http://0.0.0.0:8080 (1)\n",
      "[2025-02-03 07:45:29 +0000] [1] [INFO] Using worker: uvicorn.workers.UvicornWorker\n",
      "[2025-02-03 07:45:29 +0000] [7] [INFO] Booting worker with pid: 7\n",
      "[2025-02-03 07:45:29 +0000] [8] [INFO] Booting worker with pid: 8\n",
      "[2025-02-03 07:45:29 +0000] [9] [INFO] Booting worker with pid: 9\n",
      "[2025-02-03 07:45:29 +0000] [10] [INFO] Booting worker with pid: 10\n",
      "[2025-02-03 07:45:29 +0000] [11] [INFO] Booting worker with pid: 11\n",
      "[2025-02-03 07:45:29 +0000] [12] [INFO] Booting worker with pid: 12\n",
      "[2025-02-03 07:45:30 +0000] [13] [INFO] Booting worker with pid: 13\n",
      "[2025-02-03 07:45:30 +0000] [14] [INFO] Booting worker with pid: 14\n",
      "[2025-02-03 07:45:30 +0000] [15] [INFO] Booting worker with pid: 15\n",
      "[2025-02-03 07:45:30 +0000] [16] [INFO] Booting worker with pid: 16\n",
      "[2025-02-03 07:45:30 +0000] [17] [INFO] Booting worker with pid: 17\n",
      "[2025-02-03 07:45:30 +0000] [18] [INFO] Booting worker with pid: 18\n",
      "[2025-02-03 07:45:30 +0000] [42] [INFO] Booting worker with pid: 42\n",
      "[2025-02-03 07:45:30 +0000] [43] [INFO] Booting worker with pid: 43\n",
      "[2025-02-03 07:45:30 +0000] [44] [INFO] Booting worker with pid: 44\n",
      "[2025-02-03 07:45:30 +0000] [45] [INFO] Booting worker with pid: 45\n",
      "[2025-02-03 07:45:30 +0000] [46] [INFO] Booting worker with pid: 46\n",
      "[2025-02-03 07:45:30 +0000] [47] [INFO] Booting worker with pid: 47\n",
      "[2025-02-03 07:45:30 +0000] [71] [INFO] Booting worker with pid: 71\n",
      "[2025-02-03 07:45:30 +0000] [72] [INFO] Booting worker with pid: 72\n",
      "[2025-02-03 07:45:30 +0000] [73] [INFO] Booting worker with pid: 73\n",
      "[2025-02-03 07:45:30 +0000] [74] [INFO] Booting worker with pid: 74\n",
      "[2025-02-03 07:45:30 +0000] [121] [INFO] Booting worker with pid: 121\n",
      "[2025-02-03 07:45:30 +0000] [122] [INFO] Booting worker with pid: 122\n",
      "[2025-02-03 07:45:33 +0000] [7] [INFO] Started server process [7]\n",
      "[2025-02-03 07:45:33 +0000] [7] [INFO] Waiting for application startup.\n",
      "[2025-02-03 07:45:33 +0000] [7] [INFO] Application startup complete.\n",
      "[2025-02-03 07:45:33 +0000] [8] [INFO] Started server process [8]\n",
      "[2025-02-03 07:45:33 +0000] [8] [INFO] Waiting for application startup.\n",
      "[2025-02-03 07:45:33 +0000] [8] [INFO] Application startup complete.\n",
      "[2025-02-03 07:45:33 +0000] [10] [INFO] Started server process [10]\n",
      "[2025-02-03 07:45:33 +0000] [10] [INFO] Waiting for application startup.\n",
      "[2025-02-03 07:45:33 +0000] [10] [INFO] Application startup complete.\n",
      "[2025-02-03 07:45:33 +0000] [11] [INFO] Started server process [11]\n",
      "[2025-02-03 07:45:33 +0000] [11] [INFO] Waiting for application startup.\n",
      "[2025-02-03 07:45:33 +0000] [11] [INFO] Application startup complete.\n",
      "[2025-02-03 07:45:33 +0000] [9] [INFO] Started server process [9]\n",
      "[2025-02-03 07:45:33 +0000] [9] [INFO] Waiting for application startup.\n",
      "[2025-02-03 07:45:33 +0000] [9] [INFO] Application startup complete.\n",
      "[2025-02-03 07:45:34 +0000] [12] [INFO] Started server process [12]\n",
      "[2025-02-03 07:45:34 +0000] [12] [INFO] Waiting for application startup.\n",
      "[2025-02-03 07:45:34 +0000] [12] [INFO] Application startup complete.\n",
      "[2025-02-03 07:45:34 +0000] [15] [INFO] Started server process [15]\n",
      "[2025-02-03 07:45:34 +0000] [15] [INFO] Waiting for application startup.\n",
      "[2025-02-03 07:45:34 +0000] [15] [INFO] Application startup complete.\n",
      "[2025-02-03 07:45:34 +0000] [13] [INFO] Started server process [13]\n",
      "[2025-02-03 07:45:34 +0000] [13] [INFO] Waiting for application startup.\n",
      "[2025-02-03 07:45:34 +0000] [13] [INFO] Application startup complete.\n",
      "[2025-02-03 07:45:34 +0000] [14] [INFO] Started server process [14]\n",
      "[2025-02-03 07:45:34 +0000] [14] [INFO] Waiting for application startup.\n",
      "[2025-02-03 07:45:34 +0000] [14] [INFO] Application startup complete.\n",
      "[2025-02-03 07:45:34 +0000] [16] [INFO] Started server process [16]\n",
      "[2025-02-03 07:45:34 +0000] [16] [INFO] Waiting for application startup.\n",
      "[2025-02-03 07:45:34 +0000] [16] [INFO] Application startup complete.\n",
      "[2025-02-03 07:45:34 +0000] [17] [INFO] Started server process [17]\n",
      "[2025-02-03 07:45:34 +0000] [17] [INFO] Waiting for application startup.\n",
      "[2025-02-03 07:45:34 +0000] [17] [INFO] Application startup complete.\n",
      "[2025-02-03 07:45:34 +0000] [44] [INFO] Started server process [44]\n",
      "[2025-02-03 07:45:34 +0000] [44] [INFO] Waiting for application startup.\n",
      "[2025-02-03 07:45:34 +0000] [44] [INFO] Application startup complete.\n",
      "[2025-02-03 07:45:34 +0000] [45] [INFO] Started server process [45]\n",
      "[2025-02-03 07:45:34 +0000] [45] [INFO] Waiting for application startup.\n",
      "[2025-02-03 07:45:34 +0000] [45] [INFO] Application startup complete.\n",
      "[2025-02-03 07:45:34 +0000] [72] [INFO] Started server process [72]\n",
      "[2025-02-03 07:45:34 +0000] [72] [INFO] Waiting for application startup.\n",
      "[2025-02-03 07:45:34 +0000] [72] [INFO] Application startup complete.\n",
      "[2025-02-03 07:45:34 +0000] [47] [INFO] Started server process [47]\n",
      "[2025-02-03 07:45:34 +0000] [47] [INFO] Waiting for application startup.\n",
      "[2025-02-03 07:45:34 +0000] [47] [INFO] Application startup complete.\n",
      "[2025-02-03 07:45:34 +0000] [43] [INFO] Started server process [43]\n",
      "[2025-02-03 07:45:34 +0000] [43] [INFO] Waiting for application startup.\n",
      "[2025-02-03 07:45:34 +0000] [43] [INFO] Application startup complete.\n",
      "[2025-02-03 07:45:34 +0000] [18] [INFO] Started server process [18]\n",
      "[2025-02-03 07:45:34 +0000] [18] [INFO] Waiting for application startup.\n",
      "[2025-02-03 07:45:34 +0000] [18] [INFO] Application startup complete.\n",
      "[2025-02-03 07:45:34 +0000] [42] [INFO] Started server process [42]\n",
      "[2025-02-03 07:45:34 +0000] [42] [INFO] Waiting for application startup.\n",
      "[2025-02-03 07:45:34 +0000] [42] [INFO] Application startup complete.\n",
      "[2025-02-03 07:45:34 +0000] [71] [INFO] Started server process [71]\n",
      "[2025-02-03 07:45:34 +0000] [71] [INFO] Waiting for application startup.\n",
      "[2025-02-03 07:45:34 +0000] [71] [INFO] Application startup complete.\n",
      "[2025-02-03 07:45:34 +0000] [73] [INFO] Started server process [73]\n",
      "[2025-02-03 07:45:34 +0000] [73] [INFO] Waiting for application startup.\n",
      "[2025-02-03 07:45:34 +0000] [73] [INFO] Application startup complete.\n",
      "[2025-02-03 07:45:34 +0000] [46] [INFO] Started server process [46]\n",
      "[2025-02-03 07:45:34 +0000] [46] [INFO] Waiting for application startup.\n",
      "[2025-02-03 07:45:34 +0000] [46] [INFO] Application startup complete.\n",
      "[2025-02-03 07:45:34 +0000] [122] [INFO] Started server process [122]\n",
      "[2025-02-03 07:45:34 +0000] [122] [INFO] Waiting for application startup.\n",
      "[2025-02-03 07:45:34 +0000] [122] [INFO] Application startup complete.\n",
      "[2025-02-03 07:45:34 +0000] [74] [INFO] Started server process [74]\n",
      "[2025-02-03 07:45:34 +0000] [74] [INFO] Waiting for application startup.\n",
      "[2025-02-03 07:45:34 +0000] [74] [INFO] Application startup complete.\n",
      "[2025-02-03 07:45:35 +0000] [121] [INFO] Started server process [121]\n",
      "[2025-02-03 07:45:35 +0000] [121] [INFO] Waiting for application startup.\n",
      "[2025-02-03 07:45:35 +0000] [121] [INFO] Application startup complete.\n"
     ]
    }
   ],
   "source": [
    "!docker logs dd37ac4fb279"
   ]
  },
  {
   "cell_type": "code",
   "execution_count": 30,
   "id": "7d894d61-e1db-49ef-bb66-83be0b1d64c5",
   "metadata": {},
   "outputs": [
    {
     "name": "stdout",
     "output_type": "stream",
     "text": [
      "{}"
     ]
    }
   ],
   "source": [
    "! curl localhost/health"
   ]
  },
  {
   "cell_type": "code",
   "execution_count": 31,
   "id": "c4279090-5c95-4e5b-8365-2f23cae51cd1",
   "metadata": {},
   "outputs": [
    {
     "name": "stdout",
     "output_type": "stream",
     "text": [
      "{\"predictions\":[\"versicolor\",\"setosa\"]}"
     ]
    }
   ],
   "source": [
    "! curl -X POST \\\n",
    "  -d @instances.json \\\n",
    "  -H \"Content-Type: application/json; charset=utf-8\" \\\n",
    "  localhost/predict"
   ]
  },
  {
   "cell_type": "code",
   "execution_count": null,
   "id": "1c09d392-c796-4037-9639-d659c38cae50",
   "metadata": {},
   "outputs": [],
   "source": []
  }
 ],
 "metadata": {
  "environment": {
   "kernel": "conda-base-py",
   "name": "workbench-notebooks.m127",
   "type": "gcloud",
   "uri": "us-docker.pkg.dev/deeplearning-platform-release/gcr.io/workbench-notebooks:m127"
  },
  "kernelspec": {
   "display_name": "Python 3 (ipykernel)",
   "language": "python",
   "name": "conda-base-py"
  },
  "language_info": {
   "codemirror_mode": {
    "name": "ipython",
    "version": 3
   },
   "file_extension": ".py",
   "mimetype": "text/x-python",
   "name": "python",
   "nbconvert_exporter": "python",
   "pygments_lexer": "ipython3",
   "version": "3.10.16"
  }
 },
 "nbformat": 4,
 "nbformat_minor": 5
}
