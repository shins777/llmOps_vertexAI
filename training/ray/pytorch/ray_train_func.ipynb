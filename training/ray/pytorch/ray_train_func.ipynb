{
 "cells": [
  {
   "cell_type": "code",
   "execution_count": null,
   "id": "211e6ba2-5729-455a-83a0-03632b0070af",
   "metadata": {},
   "outputs": [],
   "source": [
    "# Copyright  2024 Forusone\n",
    "#\n",
    "# Licensed under the Apache License, Version 2.0 (the \"License\");\n",
    "# you may not use this file except in compliance with the License.\n",
    "# You may obtain a copy of the License at\n",
    "#\n",
    "#     https://www.apache.org/licenses/LICENSE-2.0\n",
    "#\n",
    "# Unless required by applicable law or agreed to in writing, software\n",
    "# distributed under the License is distributed on an \"AS IS\" BASIS,\n",
    "# WITHOUT WARRANTIES OR CONDITIONS OF ANY KIND, either express or implied.\n",
    "# See the License for the specific language governing permissions and\n",
    "# limitations under the License."
   ]
  },
  {
   "cell_type": "markdown",
   "id": "494ee0a3-33d1-4e32-81fe-8bb7e84ed74e",
   "metadata": {},
   "source": [
    "## Ray PyTorch guide\n",
    "\n",
    "* https://docs.ray.io/en/latest/train/getting-started-pytorch.html#quickstart"
   ]
  },
  {
   "cell_type": "markdown",
   "id": "f04941b5-f183-4bb4-9dfc-4662402151b0",
   "metadata": {},
   "source": [
    "### Local GPU env"
   ]
  },
  {
   "cell_type": "code",
   "execution_count": 30,
   "id": "7253fd87-4157-456c-9e9e-45dd0d852867",
   "metadata": {},
   "outputs": [
    {
     "name": "stdout",
     "output_type": "stream",
     "text": [
      "nvcc: NVIDIA (R) Cuda compiler driver\n",
      "Copyright (c) 2005-2022 NVIDIA Corporation\n",
      "Built on Wed_Sep_21_10:33:58_PDT_2022\n",
      "Cuda compilation tools, release 11.8, V11.8.89\n",
      "Build cuda_11.8.r11.8/compiler.31833905_0\n"
     ]
    }
   ],
   "source": [
    "!nvcc --version"
   ]
  },
  {
   "cell_type": "code",
   "execution_count": 31,
   "id": "ba6e6c87-eeb3-4f23-8ae5-538f0572f569",
   "metadata": {},
   "outputs": [
    {
     "name": "stdout",
     "output_type": "stream",
     "text": [
      "Mon Feb 17 00:22:40 2025       \n",
      "+-----------------------------------------------------------------------------------------+\n",
      "| NVIDIA-SMI 550.90.07              Driver Version: 550.90.07      CUDA Version: 12.4     |\n",
      "|-----------------------------------------+------------------------+----------------------+\n",
      "| GPU  Name                 Persistence-M | Bus-Id          Disp.A | Volatile Uncorr. ECC |\n",
      "| Fan  Temp   Perf          Pwr:Usage/Cap |           Memory-Usage | GPU-Util  Compute M. |\n",
      "|                                         |                        |               MIG M. |\n",
      "|=========================================+========================+======================|\n",
      "|   0  NVIDIA L4                      On  |   00000000:00:03.0 Off |                    0 |\n",
      "| N/A   76C    P0             34W /   72W |     257MiB /  23034MiB |      0%      Default |\n",
      "|                                         |                        |                  N/A |\n",
      "+-----------------------------------------+------------------------+----------------------+\n",
      "|   1  NVIDIA L4                      On  |   00000000:00:04.0 Off |                    0 |\n",
      "| N/A   46C    P8             17W /   72W |       4MiB /  23034MiB |      0%      Default |\n",
      "|                                         |                        |                  N/A |\n",
      "+-----------------------------------------+------------------------+----------------------+\n",
      "|   2  NVIDIA L4                      On  |   00000000:00:05.0 Off |                    0 |\n",
      "| N/A   46C    P8             17W /   72W |       4MiB /  23034MiB |      0%      Default |\n",
      "|                                         |                        |                  N/A |\n",
      "+-----------------------------------------+------------------------+----------------------+\n",
      "|   3  NVIDIA L4                      On  |   00000000:00:06.0 Off |                    0 |\n",
      "| N/A   47C    P8             17W /   72W |       4MiB /  23034MiB |      0%      Default |\n",
      "|                                         |                        |                  N/A |\n",
      "+-----------------------------------------+------------------------+----------------------+\n",
      "                                                                                         \n",
      "+-----------------------------------------------------------------------------------------+\n",
      "| Processes:                                                                              |\n",
      "|  GPU   GI   CI        PID   Type   Process name                              GPU Memory |\n",
      "|        ID   ID                                                               Usage      |\n",
      "|=========================================================================================|\n",
      "|    0   N/A  N/A   2315223      C   python                                        248MiB |\n",
      "+-----------------------------------------------------------------------------------------+\n"
     ]
    }
   ],
   "source": [
    "!nvidia-smi"
   ]
  },
  {
   "cell_type": "markdown",
   "id": "b2d498e9-a4c1-4cf3-84cc-a9b89e788629",
   "metadata": {},
   "source": [
    "### Configuration"
   ]
  },
  {
   "cell_type": "code",
   "execution_count": 32,
   "id": "34e4ba10-7252-4b1f-8f8e-abac01e7a2be",
   "metadata": {
    "tags": []
   },
   "outputs": [],
   "source": [
    "! pip install --user -q \"google-cloud-aiplatform[ray]>=1.56.0\" \\\n",
    "                        \"ray[data,train,tune,serve]>=2.9.3\""
   ]
  },
  {
   "cell_type": "code",
   "execution_count": 33,
   "id": "d64a448d-e287-467f-9256-77b049714fd0",
   "metadata": {
    "tags": []
   },
   "outputs": [],
   "source": [
    "# @title Define constants\n",
    "PROJECT_NBR = \"721521243942\"\n",
    "PROJECT_ID = \"ai-hangsik\"\n",
    "REGION=\"us-central1\"\n",
    "RAY_CLUSTER_NM = \"ray293-cluster-20250217-075541\""
   ]
  },
  {
   "cell_type": "code",
   "execution_count": 34,
   "id": "f4ae1964-1be5-4966-bac1-b7be812385f9",
   "metadata": {
    "tags": []
   },
   "outputs": [],
   "source": [
    "from google.cloud import aiplatform\n",
    "\n",
    "aiplatform.init(project=PROJECT_ID, location=REGION)"
   ]
  },
  {
   "cell_type": "code",
   "execution_count": 35,
   "id": "9018b027-43c8-4b0d-9713-68fcaa88a8dd",
   "metadata": {
    "tags": []
   },
   "outputs": [],
   "source": [
    "import ray\n",
    "from ray.runtime_env import RuntimeEnv\n",
    "from ray.air.config import RunConfig\n",
    "from ray.air import CheckpointConfig, ScalingConfig\n",
    "from ray.util.joblib import register_ray"
   ]
  },
  {
   "cell_type": "code",
   "execution_count": 36,
   "id": "147859d0-a6a4-4205-b3bb-d69d71fdb732",
   "metadata": {
    "tags": []
   },
   "outputs": [
    {
     "data": {
      "text/plain": [
       "'2.9.3'"
      ]
     },
     "execution_count": 36,
     "metadata": {},
     "output_type": "execute_result"
    }
   ],
   "source": [
    "ray.__version__"
   ]
  },
  {
   "cell_type": "markdown",
   "id": "2a2dbd76-0150-407a-b7a9-268ce40e2917",
   "metadata": {},
   "source": [
    "### Connect to Ray on Vertex AI"
   ]
  },
  {
   "cell_type": "code",
   "execution_count": 38,
   "id": "034cffee-045c-425d-ab9c-05ee74f5ddaf",
   "metadata": {
    "tags": []
   },
   "outputs": [],
   "source": [
    "ray.shutdown()"
   ]
  },
  {
   "cell_type": "code",
   "execution_count": 40,
   "id": "a2749b54-caec-4e89-8e31-25d102e985f0",
   "metadata": {
    "tags": []
   },
   "outputs": [
    {
     "name": "stdout",
     "output_type": "stream",
     "text": [
      "RAY_ADDRESS:vertex_ray://projects/721521243942/locations/us-central1/persistentResources/ray293-cluster-20250217-075541\n",
      "[Ray on Vertex AI]: Cluster State = State.RUNNING\n"
     ]
    },
    {
     "name": "stderr",
     "output_type": "stream",
     "text": [
      "SIGTERM handler is not set because current thread is not the main thread.\n"
     ]
    },
    {
     "data": {
      "application/vnd.jupyter.widget-view+json": {
       "model_id": "005b5521e2f848baac10bfdc96c1c688",
       "version_major": 2,
       "version_minor": 0
      },
      "text/html": [
       "<div class=\"lm-Widget p-Widget lm-Panel p-Panel jp-Cell-outputWrapper\">\n",
       "    <div style=\"margin-left: 50px;display: flex;flex-direction: row;align-items: center\">\n",
       "        <div class=\"jp-RenderedHTMLCommon\" style=\"display: flex; flex-direction: row;\">\n",
       "  <svg viewBox=\"0 0 567 224\" fill=\"none\" xmlns=\"http://www.w3.org/2000/svg\" style=\"height: 3em;\">\n",
       "    <g clip-path=\"url(#clip0_4338_178347)\">\n",
       "        <path d=\"M341.29 165.561H355.29L330.13 129.051C345.63 123.991 354.21 112.051 354.21 94.2307C354.21 71.3707 338.72 58.1807 311.88 58.1807H271V165.561H283.27V131.661H311.8C314.25 131.661 316.71 131.501 319.01 131.351L341.25 165.561H341.29ZM283.29 119.851V70.0007H311.82C331.3 70.0007 342.34 78.2907 342.34 94.5507C342.34 111.271 331.34 119.861 311.82 119.861L283.29 119.851ZM451.4 138.411L463.4 165.561H476.74L428.74 58.1807H416L367.83 165.561H380.83L392.83 138.411H451.4ZM446.19 126.601H398L422 72.1407L446.24 126.601H446.19ZM526.11 128.741L566.91 58.1807H554.35L519.99 114.181L485.17 58.1807H472.44L514.01 129.181V165.541H526.13V128.741H526.11Z\" fill=\"var(--jp-ui-font-color0)\"/>\n",
       "        <path d=\"M82.35 104.44C84.0187 97.8827 87.8248 92.0678 93.1671 87.9146C98.5094 83.7614 105.083 81.5067 111.85 81.5067C118.617 81.5067 125.191 83.7614 130.533 87.9146C135.875 92.0678 139.681 97.8827 141.35 104.44H163.75C164.476 101.562 165.622 98.8057 167.15 96.2605L127.45 56.5605C121.071 60.3522 113.526 61.6823 106.235 60.3005C98.9443 58.9187 92.4094 54.9203 87.8602 49.0574C83.3109 43.1946 81.0609 35.8714 81.5332 28.4656C82.0056 21.0599 85.1679 14.0819 90.4252 8.8446C95.6824 3.60726 102.672 0.471508 110.08 0.0272655C117.487 -0.416977 124.802 1.86091 130.647 6.4324C136.493 11.0039 140.467 17.5539 141.821 24.8501C143.175 32.1463 141.816 39.6859 138 46.0505L177.69 85.7505C182.31 82.9877 187.58 81.4995 192.962 81.4375C198.345 81.3755 203.648 82.742 208.33 85.3976C213.012 88.0532 216.907 91.9029 219.616 96.5544C222.326 101.206 223.753 106.492 223.753 111.875C223.753 117.258 222.326 122.545 219.616 127.197C216.907 131.848 213.012 135.698 208.33 138.353C203.648 141.009 198.345 142.375 192.962 142.313C187.58 142.251 182.31 140.763 177.69 138L138 177.7C141.808 184.071 143.155 191.614 141.79 198.91C140.424 206.205 136.44 212.75 130.585 217.313C124.731 221.875 117.412 224.141 110.004 223.683C102.596 223.226 95.6103 220.077 90.3621 214.828C85.1139 209.58 81.9647 202.595 81.5072 195.187C81.0497 187.779 83.3154 180.459 87.878 174.605C92.4405 168.751 98.9853 164.766 106.281 163.401C113.576 162.035 121.119 163.383 127.49 167.19L167.19 127.49C165.664 124.941 164.518 122.182 163.79 119.3H141.39C139.721 125.858 135.915 131.673 130.573 135.826C125.231 139.98 118.657 142.234 111.89 142.234C105.123 142.234 98.5494 139.98 93.2071 135.826C87.8648 131.673 84.0587 125.858 82.39 119.3H60C58.1878 126.495 53.8086 132.78 47.6863 136.971C41.5641 141.163 34.1211 142.972 26.7579 142.059C19.3947 141.146 12.6191 137.574 7.70605 132.014C2.79302 126.454 0.0813599 119.29 0.0813599 111.87C0.0813599 104.451 2.79302 97.2871 7.70605 91.7272C12.6191 86.1673 19.3947 82.5947 26.7579 81.6817C34.1211 80.7686 41.5641 82.5781 47.6863 86.7696C53.8086 90.9611 58.1878 97.2456 60 104.44H82.35ZM100.86 204.32C103.407 206.868 106.759 208.453 110.345 208.806C113.93 209.159 117.527 208.258 120.522 206.256C123.517 204.254 125.725 201.276 126.771 197.828C127.816 194.38 127.633 190.677 126.253 187.349C124.874 184.021 122.383 181.274 119.205 179.577C116.027 177.88 112.359 177.337 108.826 178.042C105.293 178.746 102.113 180.654 99.8291 183.44C97.5451 186.226 96.2979 189.718 96.3 193.32C96.2985 195.364 96.7006 197.388 97.4831 199.275C98.2656 201.163 99.4132 202.877 100.86 204.32ZM204.32 122.88C206.868 120.333 208.453 116.981 208.806 113.396C209.159 109.811 208.258 106.214 206.256 103.219C204.254 100.223 201.275 98.0151 197.827 96.97C194.38 95.9249 190.676 96.1077 187.348 97.4873C184.02 98.8669 181.274 101.358 179.577 104.536C177.879 107.714 177.337 111.382 178.041 114.915C178.746 118.448 180.653 121.627 183.439 123.911C186.226 126.195 189.717 127.443 193.32 127.44C195.364 127.443 197.388 127.042 199.275 126.259C201.163 125.476 202.878 124.328 204.32 122.88ZM122.88 19.4205C120.333 16.8729 116.981 15.2876 113.395 14.9347C109.81 14.5817 106.213 15.483 103.218 17.4849C100.223 19.4868 98.0146 22.4654 96.9696 25.9131C95.9245 29.3608 96.1073 33.0642 97.4869 36.3922C98.8665 39.7202 101.358 42.4668 104.535 44.1639C107.713 45.861 111.381 46.4036 114.914 45.6992C118.447 44.9949 121.627 43.0871 123.911 40.301C126.195 37.515 127.442 34.0231 127.44 30.4205C127.44 28.3772 127.038 26.3539 126.255 24.4664C125.473 22.5788 124.326 20.8642 122.88 19.4205ZM19.42 100.86C16.8725 103.408 15.2872 106.76 14.9342 110.345C14.5813 113.93 15.4826 117.527 17.4844 120.522C19.4863 123.518 22.4649 125.726 25.9127 126.771C29.3604 127.816 33.0638 127.633 36.3918 126.254C39.7198 124.874 42.4664 122.383 44.1635 119.205C45.8606 116.027 46.4032 112.359 45.6988 108.826C44.9944 105.293 43.0866 102.114 40.3006 99.8296C37.5145 97.5455 34.0227 96.2983 30.42 96.3005C26.2938 96.3018 22.337 97.9421 19.42 100.86ZM100.86 100.86C98.3125 103.408 96.7272 106.76 96.3742 110.345C96.0213 113.93 96.9226 117.527 98.9244 120.522C100.926 123.518 103.905 125.726 107.353 126.771C110.8 127.816 114.504 127.633 117.832 126.254C121.16 124.874 123.906 122.383 125.604 119.205C127.301 116.027 127.843 112.359 127.139 108.826C126.434 105.293 124.527 102.114 121.741 99.8296C118.955 97.5455 115.463 96.2983 111.86 96.3005C109.817 96.299 107.793 96.701 105.905 97.4835C104.018 98.2661 102.303 99.4136 100.86 100.86Z\" fill=\"#00AEEF\"/>\n",
       "    </g>\n",
       "    <defs>\n",
       "        <clipPath id=\"clip0_4338_178347\">\n",
       "            <rect width=\"566.93\" height=\"223.75\" fill=\"white\"/>\n",
       "        </clipPath>\n",
       "    </defs>\n",
       "  </svg>\n",
       "</div>\n",
       "\n",
       "        \n",
       "<table class=\"jp-RenderedHTMLCommon\" style=\"border-collapse: collapse;color: var(--jp-ui-font-color1);font-size: var(--jp-ui-font-size1);\">\n",
       "    <tr>\n",
       "        <td style=\"text-align: left\"><b>Python version:</b></td>\n",
       "        <td style=\"text-align: left\"><b>3.10.14</b></td>\n",
       "    </tr>\n",
       "    <tr>\n",
       "        <td style=\"text-align: left\"><b>Ray version:</b></td>\n",
       "        <td style=\"text-align: left\"><b> 2.9.3</b></td>\n",
       "    </tr>\n",
       "    <tr>\n",
       "        <td style=\"text-align: left\"><b>Vertex SDK version:</b></td>\n",
       "        <td style=\"text-align: left\"><b> 1.80.0</b></td>\n",
       "    </tr>\n",
       "    <tr>\n",
       "        <td style=\"text-align: left\"><b>Dashboard:</b></td>\n",
       "        <td style=\"text-align: left\"><b><a href=\"https://22af56cc3c3b6ab6-dot-us-central1.aiplatform-training.googleusercontent.com\" target=\"_blank\">22af56cc3c3b6ab6-dot-us-central1.aiplatform-training.googleusercontent.com</a></b></td>\n",
       "    </tr>\n",
       "    <tr>\n",
       "    <td style=\"text-align: left\"><b>Interactive Terminal Uri:</b></td>\n",
       "    <td style=\"text-align: left\"><b><a href=\"https://001d0c5669882547-dot-us-central1.aiplatform-training.googleusercontent.com\" target=\"_blank\">001d0c5669882547-dot-us-central1.aiplatform-training.googleusercontent.com</a></b></td>\n",
       "</tr>\n",
       "    <tr>\n",
       "        <td style=\"text-align: left\"><b>Cluster Name:</b></td>\n",
       "        <td style=\"text-align: left\"><b> ray293-cluster-20250217-075541</b></td>\n",
       "    </tr>\n",
       "</table>\n",
       "\n",
       "    </div>\n",
       "</div>\n"
      ],
      "text/plain": [
       "_VertexRayClientContext(dashboard_url='22af56cc3c3b6ab6-dot-us-central1.aiplatform-training.googleusercontent.com', python_version='3.10.14', ray_version='2.9.3', ray_commit='62655e11ed76509b78654b60be67bc59f8f3460a', protocol_version='2023-06-27', _num_clients=1, _context_to_restore=<ray.util.client._ClientContext object at 0x7f0d3ee8be20>)"
      ]
     },
     "execution_count": 40,
     "metadata": {},
     "output_type": "execute_result"
    }
   ],
   "source": [
    "\n",
    "RAY_ADDRESS=f\"vertex_ray://projects/{PROJECT_NBR}/locations/{REGION}/persistentResources/{RAY_CLUSTER_NM}\"\n",
    "print(f\"RAY_ADDRESS:{RAY_ADDRESS}\")\n",
    "\n",
    "RUNTIME_ENV = {\n",
    "  \"pip\": [\n",
    "        \"google-cloud-aiplatform[ray]>=1.56.0\",\n",
    "        \"ray[data]==2.9.3\",\n",
    "        \"ray[train]==2.9.3\",\n",
    "        \"ray[tune]==2.9.3\",\n",
    "        \"torch==2.1.2\",\n",
    "        \"torchvision==0.16.2\",\n",
    "        \"torchmetrics==1.2.1\",\n",
    "        \"setuptools==69.5.1\",\n",
    "        \"ipython\",\n",
    "  ],\n",
    "}\n",
    "\n",
    "ray.init(address=RAY_ADDRESS,runtime_env=RUNTIME_ENV)"
   ]
  },
  {
   "cell_type": "markdown",
   "id": "820b3d33-46ce-4fce-936d-76afc001b572",
   "metadata": {},
   "source": [
    "### Training code"
   ]
  },
  {
   "cell_type": "code",
   "execution_count": 41,
   "id": "bb108abb-1cf1-4777-aaf0-e7cea35a28b1",
   "metadata": {
    "tags": []
   },
   "outputs": [],
   "source": [
    "import os\n",
    "import tempfile\n",
    "\n",
    "import torch\n",
    "from torch.nn import CrossEntropyLoss\n",
    "from torch.optim import Adam\n",
    "from torch.utils.data import DataLoader\n",
    "from torchvision.models import resnet18\n",
    "from torchvision.datasets import FashionMNIST\n",
    "from torchvision.transforms import ToTensor, Normalize, Compose\n",
    "\n",
    "import ray.train.torch\n",
    "\n",
    "def train_func():\n",
    "    # Model, Loss, Optimizer\n",
    "    model = resnet18(num_classes=10)\n",
    "    model.conv1 = torch.nn.Conv2d(\n",
    "        1, 64, kernel_size=(7, 7), stride=(2, 2), padding=(3, 3), bias=False\n",
    "    )\n",
    "    # [1] Prepare model.\n",
    "    model = ray.train.torch.prepare_model(model)\n",
    "    # model.to(\"cuda\")  # This is done by `prepare_model`\n",
    "    criterion = CrossEntropyLoss()\n",
    "    optimizer = Adam(model.parameters(), lr=0.001)\n",
    "\n",
    "    # Data\n",
    "    transform = Compose([ToTensor(), Normalize((0.5,), (0.5,))])\n",
    "    data_dir = os.path.join(tempfile.gettempdir(), \"data\")\n",
    "    train_data = FashionMNIST(root=data_dir, train=True, download=True, transform=transform)\n",
    "    train_loader = DataLoader(train_data, batch_size=5, shuffle=True)\n",
    "    # [2] Prepare dataloader.\n",
    "    train_loader = ray.train.torch.prepare_data_loader(train_loader)\n",
    "\n",
    "    # Training\n",
    "    for epoch in range(3):\n",
    "        if ray.train.get_context().get_world_size() > 1:\n",
    "            train_loader.sampler.set_epoch(epoch)\n",
    "\n",
    "        for images, labels in train_loader:\n",
    "            # This is done by `prepare_data_loader`!\n",
    "            # images, labels = images.to(\"cuda\"), labels.to(\"cuda\")\n",
    "            outputs = model(images)\n",
    "            loss = criterion(outputs, labels)\n",
    "            optimizer.zero_grad()\n",
    "            loss.backward()\n",
    "            optimizer.step()\n",
    "\n",
    "        # [3] Report metrics and checkpoint.\n",
    "        metrics = {\"loss\": loss.item(), \"epoch\": epoch}\n",
    "        with tempfile.TemporaryDirectory() as temp_checkpoint_dir:\n",
    "            torch.save(\n",
    "                model.module.state_dict(),\n",
    "                os.path.join(temp_checkpoint_dir, \"model.pt\")\n",
    "            )\n",
    "            ray.train.report(\n",
    "                metrics,\n",
    "                checkpoint=ray.train.Checkpoint.from_directory(temp_checkpoint_dir),\n",
    "            )\n",
    "        if ray.train.get_context().get_world_rank() == 0:\n",
    "            print(metrics)\n"
   ]
  },
  {
   "cell_type": "markdown",
   "id": "edd66b61-fda4-471d-9d34-ae441d124c56",
   "metadata": {},
   "source": [
    "### Training configuration"
   ]
  },
  {
   "cell_type": "code",
   "execution_count": 42,
   "id": "2e5fc245-09eb-4c37-821a-e894f988f9c4",
   "metadata": {
    "tags": []
   },
   "outputs": [
    {
     "data": {
      "text/html": [
       "<div class='titleData jp-RenderedHTMLCommon'>\n",
       "  <h3>ScalingConfig</h3>\n",
       "  <div class=\"scrollableTable jp-RenderedHTMLCommon\">\n",
       "  <table>\n",
       "<thead>\n",
       "<tr><th>Setting           </th><th>Value  </th></tr>\n",
       "</thead>\n",
       "<tbody>\n",
       "<tr><td>num_workers       </td><td>3      </td></tr>\n",
       "<tr><td>use_gpu           </td><td>True   </td></tr>\n",
       "<tr><td>placement_strategy</td><td>PACK   </td></tr>\n",
       "</tbody>\n",
       "</table>\n",
       "</div>\n",
       "<style>\n",
       ".scrollableTable {\n",
       "  overflow-y: auto;\n",
       "  max-height: none;\n",
       "}\n",
       ".scrollableTable table {\n",
       "  width: 100%;\n",
       "}\n",
       ".scrollableTable table :is(th,td) {\n",
       "  text-align: left !important;\n",
       "}\n",
       ".scrollableTable th {\n",
       "  background: var(--jp-layout-color1);\n",
       "  position: sticky;\n",
       "  top: 0;\n",
       "}\n",
       "</style>\n",
       "\n",
       "</div>\n",
       "<style>\n",
       ".titleData h3 {\n",
       "    border-bottom-width: var(--jp-border-width);\n",
       "    border-bottom-color: var(--jp-border-color0);\n",
       "    border-bottom-style: solid;\n",
       "}\n",
       "</style>\n"
      ],
      "text/plain": [
       "ScalingConfig(num_workers=3, use_gpu=True)"
      ]
     },
     "execution_count": 42,
     "metadata": {},
     "output_type": "execute_result"
    }
   ],
   "source": [
    "# [4] Configure scaling and resource requirements.\n",
    "scaling_config = ray.train.ScalingConfig(num_workers=3, use_gpu=True)\n",
    "scaling_config"
   ]
  },
  {
   "cell_type": "markdown",
   "id": "b96341ca-c364-4b01-aa0a-537ff72f4131",
   "metadata": {},
   "source": [
    "### Execute traning job"
   ]
  },
  {
   "cell_type": "code",
   "execution_count": 43,
   "id": "9387d7cb-d797-4a26-893a-b0051ee970fa",
   "metadata": {
    "tags": []
   },
   "outputs": [
    {
     "data": {
      "text/html": [],
      "text/plain": [
       "<IPython.core.display.HTML object>"
      ]
     },
     "metadata": {},
     "output_type": "display_data"
    },
    {
     "name": "stderr",
     "output_type": "stream",
     "text": [
      "\u001b[36m(TunerInternal pid=2047)\u001b[0m [output] This will use the new output engine with verbosity 1. To disable the new output and use the legacy output engine, set the environment variable RAY_AIR_NEW_OUTPUT=0. For more information, please see https://github.com/ray-project/ray/issues/36949\n",
      "\u001b[36m(TunerInternal pid=2047)\u001b[0m AIR_VERBOSITY is set, ignoring passed-in ProgressReporter for now.\n"
     ]
    },
    {
     "name": "stdout",
     "output_type": "stream",
     "text": [
      "\u001b[36m(TunerInternal pid=2047)\u001b[0m \n",
      "\u001b[36m(TunerInternal pid=2047)\u001b[0m View detailed results here: sllm_checkpoints/tmp_store/pytorch/TorchTrainer_2025-02-17_00-26-58\n",
      "\u001b[36m(TunerInternal pid=2047)\u001b[0m To visualize your results with TensorBoard, run: `tensorboard --logdir /root/ray_results/TorchTrainer_2025-02-17_00-26-58`\n",
      "\u001b[36m(TunerInternal pid=2047)\u001b[0m \n",
      "\u001b[36m(TunerInternal pid=2047)\u001b[0m Training started without custom configuration.\n"
     ]
    },
    {
     "name": "stderr",
     "output_type": "stream",
     "text": [
      "\u001b[36m(RayTrainWorker pid=820, ip=10.127.0.20)\u001b[0m Setting up process group for: env:// [rank=0, world_size=3]\n",
      "\u001b[36m(TorchTrainer pid=761, ip=10.127.0.20)\u001b[0m Started distributed worker processes: \n",
      "\u001b[36m(TorchTrainer pid=761, ip=10.127.0.20)\u001b[0m - (ip=10.127.0.20, pid=820) world_rank=0, local_rank=0, node_rank=0\n",
      "\u001b[36m(TorchTrainer pid=761, ip=10.127.0.20)\u001b[0m - (ip=10.127.0.20, pid=821) world_rank=1, local_rank=1, node_rank=0\n",
      "\u001b[36m(TorchTrainer pid=761, ip=10.127.0.20)\u001b[0m - (ip=10.127.0.22, pid=818) world_rank=2, local_rank=0, node_rank=1\n",
      "\u001b[36m(RayTrainWorker pid=818, ip=10.127.0.22)\u001b[0m Moving model to device: cuda:0\n",
      "\u001b[36m(RayTrainWorker pid=820, ip=10.127.0.20)\u001b[0m Moving model to device: cuda:0\n",
      "\u001b[36m(RayTrainWorker pid=818, ip=10.127.0.22)\u001b[0m Wrapping provided model in DistributedDataParallel.\n",
      "\u001b[36m(RayTrainWorker pid=820, ip=10.127.0.20)\u001b[0m Wrapping provided model in DistributedDataParallel.\n"
     ]
    },
    {
     "name": "stdout",
     "output_type": "stream",
     "text": [
      "\u001b[36m(RayTrainWorker pid=821, ip=10.127.0.20)\u001b[0m Downloading http://fashion-mnist.s3-website.eu-central-1.amazonaws.com/train-images-idx3-ubyte.gz\n",
      "\u001b[36m(RayTrainWorker pid=820, ip=10.127.0.20)\u001b[0m Downloading http://fashion-mnist.s3-website.eu-central-1.amazonaws.com/train-images-idx3-ubyte.gz\n",
      "\u001b[36m(RayTrainWorker pid=818, ip=10.127.0.22)\u001b[0m Downloading http://fashion-mnist.s3-website.eu-central-1.amazonaws.com/train-images-idx3-ubyte.gz\n",
      "\u001b[36m(RayTrainWorker pid=821, ip=10.127.0.20)\u001b[0m Downloading http://fashion-mnist.s3-website.eu-central-1.amazonaws.com/train-images-idx3-ubyte.gz to /tmp/data/FashionMNIST/raw/train-images-idx3-ubyte.gz\n",
      "\u001b[36m(RayTrainWorker pid=820, ip=10.127.0.20)\u001b[0m Downloading http://fashion-mnist.s3-website.eu-central-1.amazonaws.com/train-images-idx3-ubyte.gz to /tmp/data/FashionMNIST/raw/train-images-idx3-ubyte.gz\n",
      "\u001b[36m(RayTrainWorker pid=818, ip=10.127.0.22)\u001b[0m Downloading http://fashion-mnist.s3-website.eu-central-1.amazonaws.com/train-images-idx3-ubyte.gz to /tmp/data/FashionMNIST/raw/train-images-idx3-ubyte.gz\n"
     ]
    },
    {
     "name": "stderr",
     "output_type": "stream",
     "text": [
      "  0%|          | 0/26421880 [00:00<?, ?it/s])\u001b[0m \n",
      "  0%|          | 0/26421880 [00:00<?, ?it/s])\u001b[0m \n",
      "  0%|          | 0/26421880 [00:00<?, ?it/s])\u001b[0m \n",
      "  0%|          | 32768/26421880 [00:00<01:43, 255923.21it/s]\n",
      "  0%|          | 32768/26421880 [00:00<01:34, 280254.31it/s]\n",
      "  0%|          | 32768/26421880 [00:00<01:51, 237473.05it/s]\n",
      "  0%|          | 65536/26421880 [00:00<01:30, 291407.72it/s]\n",
      "  0%|          | 65536/26421880 [00:00<02:16, 193237.32it/s]\n",
      "  0%|          | 98304/26421880 [00:00<01:26, 305330.89it/s]\n",
      "  1%|          | 163840/26421880 [00:00<01:05, 401242.69it/s]\n",
      "  0%|          | 98304/26421880 [00:00<02:08, 204110.64it/s]\n",
      "  1%|          | 196608/26421880 [00:00<00:55, 472544.24it/s]\n",
      "  1%|▏         | 360448/26421880 [00:00<00:31, 838719.69it/s]\n",
      "  3%|▎         | 688128/26421880 [00:00<00:17, 1506137.77it/s]\n",
      "  3%|▎         | 720896/26421880 [00:00<00:14, 1803162.44it/s]\n",
      "  1%|          | 294912/26421880 [00:00<00:47, 553671.44it/s]\n",
      "  5%|▌         | 1441792/26421880 [00:00<00:07, 3255177.04it/s]\n",
      "  5%|▌         | 1376256/26421880 [00:00<00:08, 2971984.54it/s]\n",
      "  4%|▎         | 983040/26421880 [00:00<00:12, 2037658.78it/s]\n",
      " 11%|█         | 2883584/26421880 [00:00<00:03, 6236865.73it/s]\n",
      " 10%|█         | 2719744/26421880 [00:00<00:04, 5807723.60it/s]\n",
      "  7%|▋         | 1933312/26421880 [00:00<00:06, 3829679.20it/s]\n",
      " 21%|██▏       | 5636096/26421880 [00:00<00:01, 11865151.12it/s]\n",
      " 21%|██        | 5472256/26421880 [00:00<00:01, 11672943.86it/s]\n",
      " 15%|█▍        | 3833856/26421880 [00:01<00:02, 7589987.41it/s]\n",
      " 33%|███▎      | 8749056/26421880 [00:01<00:01, 16825480.04it/s]\n",
      " 33%|███▎      | 8814592/26421880 [00:01<00:01, 17211651.82it/s]\n",
      " 25%|██▌       | 6717440/26421880 [00:01<00:01, 12879095.11it/s]\n",
      " 45%|████▌     | 11960320/26421880 [00:01<00:00, 18987639.40it/s]\n",
      " 49%|████▉     | 12943360/26421880 [00:01<00:00, 23219716.72it/s]\n",
      " 41%|████      | 10780672/26421880 [00:01<00:00, 19629938.07it/s]\n",
      " 65%|██████▍   | 17072128/26421880 [00:01<00:00, 26691610.85it/s]\n",
      " 65%|██████▍   | 17104896/26421880 [00:01<00:00, 27456477.25it/s]\n",
      " 49%|████▊     | 12877824/26421880 [00:01<00:00, 18795497.22it/s]\n",
      " 80%|████████  | 21233664/26421880 [00:01<00:00, 30361037.11it/s]\n",
      "100%|██████████| 26421880/26421880 [00:01<00:00, 17133995.37it/s]\n",
      " 66%|██████▌   | 17367040/26421880 [00:01<00:00, 22521677.08it/s]\n",
      " 80%|████████  | 21200896/26421880 [00:01<00:00, 23113677.86it/s]\n"
     ]
    },
    {
     "name": "stdout",
     "output_type": "stream",
     "text": [
      "\u001b[36m(RayTrainWorker pid=818, ip=10.127.0.22)\u001b[0m Extracting /tmp/data/FashionMNIST/raw/train-images-idx3-ubyte.gz to /tmp/data/FashionMNIST/raw\n"
     ]
    },
    {
     "name": "stderr",
     "output_type": "stream",
     "text": [
      " 83%|████████▎ | 22020096/26421880 [00:01<00:00, 25794360.53it/s]\n",
      "100%|██████████| 26421880/26421880 [00:01<00:00, 16496218.36it/s]\n",
      "100%|██████████| 26421880/26421880 [00:01<00:00, 14950134.06it/s]\n"
     ]
    },
    {
     "name": "stdout",
     "output_type": "stream",
     "text": [
      "\u001b[36m(RayTrainWorker pid=821, ip=10.127.0.20)\u001b[0m Extracting /tmp/data/FashionMNIST/raw/train-images-idx3-ubyte.gz to /tmp/data/FashionMNIST/raw\n",
      "\u001b[36m(RayTrainWorker pid=818, ip=10.127.0.22)\u001b[0m \n",
      "\u001b[36m(RayTrainWorker pid=818, ip=10.127.0.22)\u001b[0m Downloading http://fashion-mnist.s3-website.eu-central-1.amazonaws.com/train-labels-idx1-ubyte.gz\n",
      "\u001b[36m(RayTrainWorker pid=818, ip=10.127.0.22)\u001b[0m Downloading http://fashion-mnist.s3-website.eu-central-1.amazonaws.com/train-labels-idx1-ubyte.gz to /tmp/data/FashionMNIST/raw/train-labels-idx1-ubyte.gz\n",
      "\u001b[36m(RayTrainWorker pid=821, ip=10.127.0.20)\u001b[0m \n",
      "\u001b[36m(RayTrainWorker pid=821, ip=10.127.0.20)\u001b[0m Downloading http://fashion-mnist.s3-website.eu-central-1.amazonaws.com/train-labels-idx1-ubyte.gz\n",
      "\u001b[36m(RayTrainWorker pid=820, ip=10.127.0.20)\u001b[0m Extracting /tmp/data/FashionMNIST/raw/train-images-idx3-ubyte.gz to /tmp/data/FashionMNIST/raw\n"
     ]
    },
    {
     "name": "stderr",
     "output_type": "stream",
     "text": [
      "  0%|          | 0/29515 [00:00<?, ?it/s].22)\u001b[0m \n",
      "100%|██████████| 29515/29515 [00:00<00:00, 273549.02it/s]\n"
     ]
    },
    {
     "name": "stdout",
     "output_type": "stream",
     "text": [
      "\u001b[36m(RayTrainWorker pid=821, ip=10.127.0.20)\u001b[0m Downloading http://fashion-mnist.s3-website.eu-central-1.amazonaws.com/train-labels-idx1-ubyte.gz to /tmp/data/FashionMNIST/raw/train-labels-idx1-ubyte.gz\n",
      "\u001b[36m(RayTrainWorker pid=818, ip=10.127.0.22)\u001b[0m Extracting /tmp/data/FashionMNIST/raw/train-labels-idx1-ubyte.gz to /tmp/data/FashionMNIST/raw\n",
      "\u001b[36m(RayTrainWorker pid=818, ip=10.127.0.22)\u001b[0m \n",
      "\u001b[36m(RayTrainWorker pid=818, ip=10.127.0.22)\u001b[0m Downloading http://fashion-mnist.s3-website.eu-central-1.amazonaws.com/t10k-images-idx3-ubyte.gz\n"
     ]
    },
    {
     "name": "stderr",
     "output_type": "stream",
     "text": [
      "  0%|          | 0/29515 [00:00<?, ?it/s].20)\u001b[0m \n",
      "100%|██████████| 29515/29515 [00:00<00:00, 272147.24it/s]\n"
     ]
    },
    {
     "name": "stdout",
     "output_type": "stream",
     "text": [
      "\u001b[36m(RayTrainWorker pid=818, ip=10.127.0.22)\u001b[0m Downloading http://fashion-mnist.s3-website.eu-central-1.amazonaws.com/t10k-images-idx3-ubyte.gz to /tmp/data/FashionMNIST/raw/t10k-images-idx3-ubyte.gz\n",
      "\u001b[36m(RayTrainWorker pid=821, ip=10.127.0.20)\u001b[0m Extracting /tmp/data/FashionMNIST/raw/train-labels-idx1-ubyte.gz to /tmp/data/FashionMNIST/raw\n",
      "\u001b[36m(RayTrainWorker pid=821, ip=10.127.0.20)\u001b[0m \n",
      "\u001b[36m(RayTrainWorker pid=821, ip=10.127.0.20)\u001b[0m Downloading http://fashion-mnist.s3-website.eu-central-1.amazonaws.com/t10k-images-idx3-ubyte.gz\n",
      "\u001b[36m(RayTrainWorker pid=820, ip=10.127.0.20)\u001b[0m \n",
      "\u001b[36m(RayTrainWorker pid=820, ip=10.127.0.20)\u001b[0m Downloading http://fashion-mnist.s3-website.eu-central-1.amazonaws.com/train-labels-idx1-ubyte.gz\n",
      "\u001b[36m(RayTrainWorker pid=820, ip=10.127.0.20)\u001b[0m Using downloaded and verified file: /tmp/data/FashionMNIST/raw/train-labels-idx1-ubyte.gz\n",
      "\u001b[36m(RayTrainWorker pid=820, ip=10.127.0.20)\u001b[0m Extracting /tmp/data/FashionMNIST/raw/train-labels-idx1-ubyte.gz to /tmp/data/FashionMNIST/raw\n",
      "\u001b[36m(RayTrainWorker pid=820, ip=10.127.0.20)\u001b[0m \n",
      "\u001b[36m(RayTrainWorker pid=820, ip=10.127.0.20)\u001b[0m Downloading http://fashion-mnist.s3-website.eu-central-1.amazonaws.com/t10k-images-idx3-ubyte.gz\n"
     ]
    },
    {
     "name": "stderr",
     "output_type": "stream",
     "text": [
      "  0%|          | 0/4422102 [00:00<?, ?it/s]2)\u001b[0m \n",
      "  1%|          | 32768/4422102 [00:00<00:15, 279515.63it/s]\n",
      "  1%|▏         | 65536/4422102 [00:00<00:14, 290670.26it/s]\n"
     ]
    },
    {
     "name": "stdout",
     "output_type": "stream",
     "text": [
      "\u001b[36m(RayTrainWorker pid=821, ip=10.127.0.20)\u001b[0m Downloading http://fashion-mnist.s3-website.eu-central-1.amazonaws.com/t10k-images-idx3-ubyte.gz to /tmp/data/FashionMNIST/raw/t10k-images-idx3-ubyte.gz\n",
      "\u001b[36m(RayTrainWorker pid=820, ip=10.127.0.20)\u001b[0m Downloading http://fashion-mnist.s3-website.eu-central-1.amazonaws.com/t10k-images-idx3-ubyte.gz to /tmp/data/FashionMNIST/raw/t10k-images-idx3-ubyte.gz\n"
     ]
    },
    {
     "name": "stderr",
     "output_type": "stream",
     "text": [
      "  2%|▏         | 98304/4422102 [00:00<00:14, 304059.83it/s]\n",
      "  0%|          | 0/4422102 [00:00<?, ?it/s]0)\u001b[0m \n",
      "  4%|▎         | 163840/4422102 [00:00<00:10, 421371.01it/s]\n",
      "  0%|          | 0/4422102 [00:00<?, ?it/s]0)\u001b[0m \n",
      "  1%|          | 32768/4422102 [00:00<00:21, 204850.87it/s]\n",
      "  8%|▊         | 360448/4422102 [00:00<00:04, 919057.29it/s]\n",
      "  1%|          | 32768/4422102 [00:00<00:17, 256647.71it/s]\n",
      " 16%|█▋        | 720896/4422102 [00:00<00:02, 1727275.95it/s]\n",
      "  2%|▏         | 98304/4422102 [00:00<00:13, 310265.04it/s]\n",
      " 32%|███▏      | 1409024/4422102 [00:00<00:00, 3216413.68it/s]\n",
      "  2%|▏         | 98304/4422102 [00:00<00:14, 304518.82it/s]\n",
      "  4%|▍         | 196608/4422102 [00:00<00:08, 515230.33it/s]\n",
      "100%|██████████| 4422102/4422102 [00:00<00:00, 5023918.82it/s]\n",
      "  4%|▍         | 196608/4422102 [00:00<00:08, 511753.89it/s]\n",
      "  9%|▉         | 393216/4422102 [00:00<00:04, 939367.80it/s]\n"
     ]
    },
    {
     "name": "stdout",
     "output_type": "stream",
     "text": [
      "\u001b[36m(RayTrainWorker pid=818, ip=10.127.0.22)\u001b[0m Extracting /tmp/data/FashionMNIST/raw/t10k-images-idx3-ubyte.gz to /tmp/data/FashionMNIST/raw\n",
      "\u001b[36m(RayTrainWorker pid=818, ip=10.127.0.22)\u001b[0m \n",
      "\u001b[36m(RayTrainWorker pid=818, ip=10.127.0.22)\u001b[0m Downloading http://fashion-mnist.s3-website.eu-central-1.amazonaws.com/t10k-labels-idx1-ubyte.gz\n"
     ]
    },
    {
     "name": "stderr",
     "output_type": "stream",
     "text": [
      "  8%|▊         | 360448/4422102 [00:00<00:04, 836857.76it/s]\n",
      " 18%|█▊        | 786432/4422102 [00:00<00:02, 1785502.49it/s]\n",
      " 16%|█▋        | 720896/4422102 [00:00<00:02, 1625827.17it/s]\n",
      " 36%|███▌      | 1572864/4422102 [00:00<00:00, 3464076.33it/s]\n"
     ]
    },
    {
     "name": "stdout",
     "output_type": "stream",
     "text": [
      "\u001b[36m(RayTrainWorker pid=818, ip=10.127.0.22)\u001b[0m Downloading http://fashion-mnist.s3-website.eu-central-1.amazonaws.com/t10k-labels-idx1-ubyte.gz to /tmp/data/FashionMNIST/raw/t10k-labels-idx1-ubyte.gz\n",
      "\u001b[36m(RayTrainWorker pid=821, ip=10.127.0.20)\u001b[0m Extracting /tmp/data/FashionMNIST/raw/t10k-images-idx3-ubyte.gz to /tmp/data/FashionMNIST/raw\n",
      "\u001b[36m(RayTrainWorker pid=821, ip=10.127.0.20)\u001b[0m \n",
      "\u001b[36m(RayTrainWorker pid=821, ip=10.127.0.20)\u001b[0m Downloading http://fashion-mnist.s3-website.eu-central-1.amazonaws.com/t10k-labels-idx1-ubyte.gz\n",
      "\u001b[36m(RayTrainWorker pid=820, ip=10.127.0.20)\u001b[0m Extracting /tmp/data/FashionMNIST/raw/t10k-images-idx3-ubyte.gz to /tmp/data/FashionMNIST/raw\n"
     ]
    },
    {
     "name": "stderr",
     "output_type": "stream",
     "text": [
      " 33%|███▎      | 1441792/4422102 [00:00<00:00, 3183941.76it/s]\n",
      "100%|██████████| 4422102/4422102 [00:00<00:00, 5002330.25it/s]\n",
      "100%|██████████| 4422102/4422102 [00:00<00:00, 4956888.32it/s]\n"
     ]
    },
    {
     "name": "stdout",
     "output_type": "stream",
     "text": [
      "\u001b[36m(RayTrainWorker pid=820, ip=10.127.0.20)\u001b[0m \n",
      "\u001b[36m(RayTrainWorker pid=820, ip=10.127.0.20)\u001b[0m Downloading http://fashion-mnist.s3-website.eu-central-1.amazonaws.com/t10k-labels-idx1-ubyte.gz\n",
      "\u001b[36m(RayTrainWorker pid=818, ip=10.127.0.22)\u001b[0m Extracting /tmp/data/FashionMNIST/raw/t10k-labels-idx1-ubyte.gz to /tmp/data/FashionMNIST/raw\n",
      "\u001b[36m(RayTrainWorker pid=818, ip=10.127.0.22)\u001b[0m \n"
     ]
    },
    {
     "name": "stderr",
     "output_type": "stream",
     "text": [
      "100%|██████████| 5148/5148 [00:00<00:00, 34770172.29it/s]\n"
     ]
    },
    {
     "name": "stdout",
     "output_type": "stream",
     "text": [
      "\u001b[36m(RayTrainWorker pid=821, ip=10.127.0.20)\u001b[0m Downloading http://fashion-mnist.s3-website.eu-central-1.amazonaws.com/t10k-labels-idx1-ubyte.gz to /tmp/data/FashionMNIST/raw/t10k-labels-idx1-ubyte.gz\n",
      "\u001b[36m(RayTrainWorker pid=820, ip=10.127.0.20)\u001b[0m Downloading http://fashion-mnist.s3-website.eu-central-1.amazonaws.com/t10k-labels-idx1-ubyte.gz to /tmp/data/FashionMNIST/raw/t10k-labels-idx1-ubyte.gz\n",
      "\u001b[36m(RayTrainWorker pid=821, ip=10.127.0.20)\u001b[0m Extracting /tmp/data/FashionMNIST/raw/t10k-labels-idx1-ubyte.gz to /tmp/data/FashionMNIST/raw\n",
      "\u001b[36m(RayTrainWorker pid=821, ip=10.127.0.20)\u001b[0m \n",
      "\u001b[36m(RayTrainWorker pid=820, ip=10.127.0.20)\u001b[0m Extracting /tmp/data/FashionMNIST/raw/t10k-labels-idx1-ubyte.gz to /tmp/data/FashionMNIST/raw\n",
      "\u001b[36m(RayTrainWorker pid=820, ip=10.127.0.20)\u001b[0m \n"
     ]
    },
    {
     "name": "stderr",
     "output_type": "stream",
     "text": [
      "100%|██████████| 5148/5148 [00:00<00:00, 34714271.69it/s]\n",
      "100%|██████████| 5148/5148 [00:00<00:00, 41845498.05it/s]\n",
      "\u001b[36m(RayTrainWorker pid=818, ip=10.127.0.22)\u001b[0m Checkpoint successfully created at: Checkpoint(filesystem=gcs, path=sllm_checkpoints/tmp_store/pytorch/TorchTrainer_2025-02-17_00-26-58/TorchTrainer_e6f25_00000_0_2025-02-17_00-27-00/checkpoint_000000)\n",
      "\u001b[36m(RayTrainWorker pid=820, ip=10.127.0.20)\u001b[0m Checkpoint successfully created at: Checkpoint(filesystem=gcs, path=sllm_checkpoints/tmp_store/pytorch/TorchTrainer_2025-02-17_00-26-58/TorchTrainer_e6f25_00000_0_2025-02-17_00-27-00/checkpoint_000000)\n",
      "\u001b[36m(RayTrainWorker pid=821, ip=10.127.0.20)\u001b[0m Checkpoint successfully created at: Checkpoint(filesystem=gcs, path=sllm_checkpoints/tmp_store/pytorch/TorchTrainer_2025-02-17_00-26-58/TorchTrainer_e6f25_00000_0_2025-02-17_00-27-00/checkpoint_000000)\n"
     ]
    },
    {
     "name": "stdout",
     "output_type": "stream",
     "text": [
      "\u001b[36m(RayTrainWorker pid=820, ip=10.127.0.20)\u001b[0m {'loss': 0.055006999522447586, 'epoch': 0}\n",
      "\u001b[36m(TunerInternal pid=2047)\u001b[0m \n",
      "\u001b[36m(TunerInternal pid=2047)\u001b[0m Training finished iteration 1 at 2025-02-17 00:30:59. Total running time: 3min 59s\n",
      "\u001b[36m(TunerInternal pid=2047)\u001b[0m ╭─────────────────────────────────────────╮\n",
      "\u001b[36m(TunerInternal pid=2047)\u001b[0m │ Training result                         │\n",
      "\u001b[36m(TunerInternal pid=2047)\u001b[0m ├─────────────────────────────────────────┤\n",
      "\u001b[36m(TunerInternal pid=2047)\u001b[0m │ checkpoint_dir_name   checkpoint_000000 │\n",
      "\u001b[36m(TunerInternal pid=2047)\u001b[0m │ time_this_iter_s              172.13949 │\n",
      "\u001b[36m(TunerInternal pid=2047)\u001b[0m │ time_total_s                  172.13949 │\n",
      "\u001b[36m(TunerInternal pid=2047)\u001b[0m │ training_iteration                    1 │\n",
      "\u001b[36m(TunerInternal pid=2047)\u001b[0m │ epoch                                 0 │\n",
      "\u001b[36m(TunerInternal pid=2047)\u001b[0m │ loss                            0.05501 │\n",
      "\u001b[36m(TunerInternal pid=2047)\u001b[0m ╰─────────────────────────────────────────╯\n",
      "\u001b[36m(TunerInternal pid=2047)\u001b[0m Training saved a checkpoint for iteration 1 at: (gcs)sllm_checkpoints/tmp_store/pytorch/TorchTrainer_2025-02-17_00-26-58/TorchTrainer_e6f25_00000_0_2025-02-17_00-27-00/checkpoint_000000\n",
      "\u001b[36m(RayTrainWorker pid=820, ip=10.127.0.20)\u001b[0m {'loss': 0.05383925512433052, 'epoch': 1}\n",
      "\u001b[36m(TunerInternal pid=2047)\u001b[0m \n",
      "\u001b[36m(TunerInternal pid=2047)\u001b[0m Training finished iteration 2 at 2025-02-17 00:33:36. Total running time: 6min 35s\n",
      "\u001b[36m(TunerInternal pid=2047)\u001b[0m ╭─────────────────────────────────────────╮\n",
      "\u001b[36m(TunerInternal pid=2047)\u001b[0m │ Training result                         │\n",
      "\u001b[36m(TunerInternal pid=2047)\u001b[0m ├─────────────────────────────────────────┤\n",
      "\u001b[36m(TunerInternal pid=2047)\u001b[0m │ checkpoint_dir_name   checkpoint_000001 │\n",
      "\u001b[36m(TunerInternal pid=2047)\u001b[0m │ time_this_iter_s              156.44073 │\n",
      "\u001b[36m(TunerInternal pid=2047)\u001b[0m │ time_total_s                  328.58022 │\n",
      "\u001b[36m(TunerInternal pid=2047)\u001b[0m │ training_iteration                    2 │\n",
      "\u001b[36m(TunerInternal pid=2047)\u001b[0m │ epoch                                 1 │\n",
      "\u001b[36m(TunerInternal pid=2047)\u001b[0m │ loss                            0.05384 │\n",
      "\u001b[36m(TunerInternal pid=2047)\u001b[0m ╰─────────────────────────────────────────╯\n",
      "\u001b[36m(TunerInternal pid=2047)\u001b[0m Training saved a checkpoint for iteration 2 at: (gcs)sllm_checkpoints/tmp_store/pytorch/TorchTrainer_2025-02-17_00-26-58/TorchTrainer_e6f25_00000_0_2025-02-17_00-27-00/checkpoint_000001\n"
     ]
    },
    {
     "name": "stderr",
     "output_type": "stream",
     "text": [
      "\u001b[36m(RayTrainWorker pid=820, ip=10.127.0.20)\u001b[0m Checkpoint successfully created at: Checkpoint(filesystem=gcs, path=sllm_checkpoints/tmp_store/pytorch/TorchTrainer_2025-02-17_00-26-58/TorchTrainer_e6f25_00000_0_2025-02-17_00-27-00/checkpoint_000001)\n",
      "\u001b[36m(RayTrainWorker pid=821, ip=10.127.0.20)\u001b[0m Checkpoint successfully created at: Checkpoint(filesystem=gcs, path=sllm_checkpoints/tmp_store/pytorch/TorchTrainer_2025-02-17_00-26-58/TorchTrainer_e6f25_00000_0_2025-02-17_00-27-00/checkpoint_000001)\n",
      "\u001b[36m(RayTrainWorker pid=818, ip=10.127.0.22)\u001b[0m Checkpoint successfully created at: Checkpoint(filesystem=gcs, path=sllm_checkpoints/tmp_store/pytorch/TorchTrainer_2025-02-17_00-26-58/TorchTrainer_e6f25_00000_0_2025-02-17_00-27-00/checkpoint_000001)\n"
     ]
    },
    {
     "name": "stdout",
     "output_type": "stream",
     "text": [
      "\u001b[36m(RayTrainWorker pid=820, ip=10.127.0.20)\u001b[0m {'loss': 0.8109909892082214, 'epoch': 2}\n",
      "\u001b[36m(TunerInternal pid=2047)\u001b[0m \n",
      "\u001b[36m(TunerInternal pid=2047)\u001b[0m Training finished iteration 3 at 2025-02-17 00:36:19. Total running time: 9min 18s\n",
      "\u001b[36m(TunerInternal pid=2047)\u001b[0m ╭─────────────────────────────────────────╮\n",
      "\u001b[36m(TunerInternal pid=2047)\u001b[0m │ Training result                         │\n",
      "\u001b[36m(TunerInternal pid=2047)\u001b[0m ├─────────────────────────────────────────┤\n",
      "\u001b[36m(TunerInternal pid=2047)\u001b[0m │ checkpoint_dir_name   checkpoint_000002 │\n",
      "\u001b[36m(TunerInternal pid=2047)\u001b[0m │ time_this_iter_s              163.14938 │\n",
      "\u001b[36m(TunerInternal pid=2047)\u001b[0m │ time_total_s                   491.7296 │\n",
      "\u001b[36m(TunerInternal pid=2047)\u001b[0m │ training_iteration                    3 │\n",
      "\u001b[36m(TunerInternal pid=2047)\u001b[0m │ epoch                                 2 │\n",
      "\u001b[36m(TunerInternal pid=2047)\u001b[0m │ loss                            0.81099 │\n",
      "\u001b[36m(TunerInternal pid=2047)\u001b[0m ╰─────────────────────────────────────────╯\n",
      "\u001b[36m(TunerInternal pid=2047)\u001b[0m Training saved a checkpoint for iteration 3 at: (gcs)sllm_checkpoints/tmp_store/pytorch/TorchTrainer_2025-02-17_00-26-58/TorchTrainer_e6f25_00000_0_2025-02-17_00-27-00/checkpoint_000002\n"
     ]
    },
    {
     "name": "stderr",
     "output_type": "stream",
     "text": [
      "\u001b[36m(RayTrainWorker pid=820, ip=10.127.0.20)\u001b[0m Checkpoint successfully created at: Checkpoint(filesystem=gcs, path=sllm_checkpoints/tmp_store/pytorch/TorchTrainer_2025-02-17_00-26-58/TorchTrainer_e6f25_00000_0_2025-02-17_00-27-00/checkpoint_000002)\n",
      "\u001b[36m(RayTrainWorker pid=821, ip=10.127.0.20)\u001b[0m Checkpoint successfully created at: Checkpoint(filesystem=gcs, path=sllm_checkpoints/tmp_store/pytorch/TorchTrainer_2025-02-17_00-26-58/TorchTrainer_e6f25_00000_0_2025-02-17_00-27-00/checkpoint_000002)\n",
      "\u001b[36m(RayTrainWorker pid=818, ip=10.127.0.22)\u001b[0m Checkpoint successfully created at: Checkpoint(filesystem=gcs, path=sllm_checkpoints/tmp_store/pytorch/TorchTrainer_2025-02-17_00-26-58/TorchTrainer_e6f25_00000_0_2025-02-17_00-27-00/checkpoint_000002)\n"
     ]
    },
    {
     "name": "stdout",
     "output_type": "stream",
     "text": [
      "\u001b[36m(TunerInternal pid=2047)\u001b[0m \n",
      "\u001b[36m(TunerInternal pid=2047)\u001b[0m Training completed after 3 iterations at 2025-02-17 00:36:20. Total running time: 9min 20s\n",
      "\u001b[36m(TunerInternal pid=2047)\u001b[0m \n"
     ]
    },
    {
     "data": {
      "text/plain": [
       "Result(\n",
       "  metrics={'loss': 0.8109909892082214, 'epoch': 2},\n",
       "  path='sllm_checkpoints/tmp_store/pytorch/TorchTrainer_2025-02-17_00-26-58/TorchTrainer_e6f25_00000_0_2025-02-17_00-27-00',\n",
       "  filesystem='gcs',\n",
       "  checkpoint=Checkpoint(filesystem=gcs, path=sllm_checkpoints/tmp_store/pytorch/TorchTrainer_2025-02-17_00-26-58/TorchTrainer_e6f25_00000_0_2025-02-17_00-27-00/checkpoint_000002)\n",
       ")"
      ]
     },
     "execution_count": 43,
     "metadata": {},
     "output_type": "execute_result"
    }
   ],
   "source": [
    "# [5] Launch distributed training job.\n",
    "trainer = ray.train.torch.TorchTrainer(\n",
    "    train_func,\n",
    "    scaling_config=scaling_config,\n",
    "    # [5a] If running in a multi-node cluster, this is where you\n",
    "    # should configure the run's persistent storage that is accessible\n",
    "    # across all worker nodes.\n",
    "    run_config=ray.train.RunConfig(storage_path=\"gs://sllm_checkpoints/tmp_store/pytorch\"),\n",
    ")\n",
    "result = trainer.fit()\n",
    "result\n"
   ]
  },
  {
   "cell_type": "code",
   "execution_count": 44,
   "id": "9b935a64-e66e-4e77-8317-8e8d9f969fa5",
   "metadata": {
    "tags": []
   },
   "outputs": [],
   "source": [
    "result.metrics     # The metrics reported during training.\n",
    "result.checkpoint  # The latest checkpoint reported during training.\n",
    "result.path        # The path where logs are stored.\n",
    "result.error       # The exception that was raised, if training failed."
   ]
  },
  {
   "cell_type": "code",
   "execution_count": 45,
   "id": "eb6ef8e1-7006-4dd8-9225-b9e4ee715102",
   "metadata": {
    "tags": []
   },
   "outputs": [
    {
     "data": {
      "text/plain": [
       "({'loss': 0.8109909892082214,\n",
       "  'epoch': 2,\n",
       "  'timestamp': 1739752578,\n",
       "  'checkpoint_dir_name': 'checkpoint_000002',\n",
       "  'should_checkpoint': True,\n",
       "  'done': True,\n",
       "  'training_iteration': 3,\n",
       "  'trial_id': 'e6f25_00000',\n",
       "  'date': '2025-02-17_00-36-19',\n",
       "  'time_this_iter_s': 163.14938020706177,\n",
       "  'time_total_s': 491.72960352897644,\n",
       "  'pid': 761,\n",
       "  'hostname': 'gke-vertex-persistent-02-worker-pool1-b55b6127-dl0f',\n",
       "  'node_ip': '10.127.0.20',\n",
       "  'config': {},\n",
       "  'time_since_restore': 491.72960352897644,\n",
       "  'iterations_since_restore': 3,\n",
       "  'experiment_tag': '0'},\n",
       " Checkpoint(filesystem=gcs, path=sllm_checkpoints/tmp_store/pytorch/TorchTrainer_2025-02-17_00-26-58/TorchTrainer_e6f25_00000_0_2025-02-17_00-27-00/checkpoint_000002),\n",
       " 'sllm_checkpoints/tmp_store/pytorch/TorchTrainer_2025-02-17_00-26-58/TorchTrainer_e6f25_00000_0_2025-02-17_00-27-00',\n",
       " None)"
      ]
     },
     "execution_count": 45,
     "metadata": {},
     "output_type": "execute_result"
    }
   ],
   "source": [
    "result.metrics, result.checkpoint, result.path , result.error"
   ]
  },
  {
   "cell_type": "markdown",
   "id": "99e687f2-6a9d-41d4-ab79-706e1d19be9f",
   "metadata": {},
   "source": [
    "### Load model"
   ]
  },
  {
   "cell_type": "code",
   "execution_count": 46,
   "id": "43cbf4fb-a41a-4951-9ef9-30a149715aa6",
   "metadata": {
    "tags": []
   },
   "outputs": [],
   "source": [
    "# [6] Load the trained model.\n",
    "\n",
    "with result.checkpoint.as_directory() as checkpoint_dir:\n",
    "    model_state_dict = torch.load(os.path.join(checkpoint_dir, \"model.pt\"))\n",
    "    model = resnet18(num_classes=10)\n",
    "    model.conv1 = torch.nn.Conv2d(\n",
    "        1, 64, kernel_size=(7, 7), stride=(2, 2), padding=(3, 3), bias=False\n",
    "    )\n",
    "    model.load_state_dict(model_state_dict)"
   ]
  },
  {
   "cell_type": "code",
   "execution_count": null,
   "id": "83e9d270-d338-4223-b3e1-a4ef9139e3e4",
   "metadata": {},
   "outputs": [],
   "source": []
  },
  {
   "cell_type": "code",
   "execution_count": 49,
   "id": "0a7bb97c-9556-4dfa-a2ef-5c4c8a4b3ce7",
   "metadata": {
    "tags": []
   },
   "outputs": [],
   "source": [
    "ray.shutdown()"
   ]
  },
  {
   "cell_type": "code",
   "execution_count": null,
   "id": "4bfea0c0-b658-4cb2-b914-c9f2f7949d8f",
   "metadata": {},
   "outputs": [],
   "source": []
  }
 ],
 "metadata": {
  "environment": {
   "kernel": "conda-base-py",
   "name": "workbench-notebooks.m127",
   "type": "gcloud",
   "uri": "us-docker.pkg.dev/deeplearning-platform-release/gcr.io/workbench-notebooks:m127"
  },
  "kernelspec": {
   "display_name": "Python 3 (ipykernel) (Local)",
   "language": "python",
   "name": "conda-base-py"
  },
  "language_info": {
   "codemirror_mode": {
    "name": "ipython",
    "version": 3
   },
   "file_extension": ".py",
   "mimetype": "text/x-python",
   "name": "python",
   "nbconvert_exporter": "python",
   "pygments_lexer": "ipython3",
   "version": "3.10.16"
  }
 },
 "nbformat": 4,
 "nbformat_minor": 5
}
