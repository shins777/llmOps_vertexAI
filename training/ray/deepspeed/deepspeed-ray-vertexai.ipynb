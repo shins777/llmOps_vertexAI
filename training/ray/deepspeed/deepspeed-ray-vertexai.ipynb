{
 "cells": [
  {
   "cell_type": "code",
   "execution_count": 1,
   "id": "33a2a3b5-c838-458a-84c7-6bc2f03aec3d",
   "metadata": {},
   "outputs": [],
   "source": [
    "# Copyright  2024 Forusone\n",
    "#\n",
    "# Licensed under the Apache License, Version 2.0 (the \"License\");\n",
    "# you may not use this file except in compliance with the License.\n",
    "# You may obtain a copy of the License at\n",
    "#\n",
    "#     https://www.apache.org/licenses/LICENSE-2.0\n",
    "#\n",
    "# Unless required by applicable law or agreed to in writing, software\n",
    "# distributed under the License is distributed on an \"AS IS\" BASIS,\n",
    "# WITHOUT WARRANTIES OR CONDITIONS OF ANY KIND, either express or implied.\n",
    "# See the License for the specific language governing permissions and\n",
    "# limitations under the License."
   ]
  },
  {
   "cell_type": "markdown",
   "id": "feb25396-c162-47f0-adf5-10a155411d59",
   "metadata": {},
   "source": [
    "## Deepspeed with Ray on Vertex AI\n",
    "\n",
    "* https://docs.ray.io/en/latest/train/examples/deepspeed/gptj_deepspeed_fine_tuning.html"
   ]
  },
  {
   "cell_type": "markdown",
   "id": "24eaaa29-3fe1-40b6-9b05-efef65d263b7",
   "metadata": {},
   "source": [
    "### Configuration"
   ]
  },
  {
   "cell_type": "code",
   "execution_count": 1,
   "id": "8fcda7da-c4d9-4e29-b265-ff01effd405f",
   "metadata": {
    "tags": []
   },
   "outputs": [
    {
     "name": "stdout",
     "output_type": "stream",
     "text": [
      "Note: you may need to restart the kernel to use updated packages.\n"
     ]
    }
   ],
   "source": [
    "%pip install --user -q \"google-cloud-aiplatform[ray]>=1.56.0\" \\\n",
    "                        \"ray[data,train,tune,serve]==2.33.0\""
   ]
  },
  {
   "cell_type": "code",
   "execution_count": 2,
   "id": "d80c6b95-e6eb-4fb5-979b-847b94d4f467",
   "metadata": {
    "tags": []
   },
   "outputs": [],
   "source": [
    "import numpy as np\n",
    "import pandas as pd\n",
    "import os\n",
    "\n",
    "import ray"
   ]
  },
  {
   "cell_type": "code",
   "execution_count": 3,
   "id": "62361efc-25f7-4e71-bfd8-feda070088f0",
   "metadata": {
    "tags": []
   },
   "outputs": [
    {
     "data": {
      "text/plain": [
       "'2.33.0'"
      ]
     },
     "execution_count": 3,
     "metadata": {},
     "output_type": "execute_result"
    }
   ],
   "source": [
    "ray.__version__"
   ]
  },
  {
   "cell_type": "code",
   "execution_count": 4,
   "id": "22ed41e8-4912-456f-8ba0-b3ac84a2e545",
   "metadata": {
    "tags": []
   },
   "outputs": [],
   "source": [
    "# @title Define constants\n",
    "PROJECT_NBR = \"721521243942\"\n",
    "PROJECT_ID = \"ai-hangsik\"\n",
    "REGION=\"us-central1\"\n",
    "RAY_CLUSTER_NM = \"ray33-cluster-20250218-085159\""
   ]
  },
  {
   "cell_type": "code",
   "execution_count": 5,
   "id": "1af7b2e5-f2e4-44c7-9967-9637b9d5f7a4",
   "metadata": {
    "tags": []
   },
   "outputs": [],
   "source": [
    "from google.cloud import aiplatform\n",
    "\n",
    "aiplatform.init(project=PROJECT_ID, location=REGION)"
   ]
  },
  {
   "cell_type": "markdown",
   "id": "9b13c1ec-2e9d-428c-aff2-09035dfce1cb",
   "metadata": {},
   "source": [
    "### Connect to Ray on Vertex AI"
   ]
  },
  {
   "cell_type": "code",
   "execution_count": 6,
   "id": "5abd898f-5df7-4c8d-843e-38ce1167b541",
   "metadata": {
    "tags": []
   },
   "outputs": [],
   "source": [
    "ray.shutdown()"
   ]
  },
  {
   "cell_type": "code",
   "execution_count": 7,
   "id": "3ab8495e-596f-4152-9bd1-b162ea676ade",
   "metadata": {
    "tags": []
   },
   "outputs": [
    {
     "name": "stdout",
     "output_type": "stream",
     "text": [
      "RAY_ADDRESS:vertex_ray://projects/721521243942/locations/us-central1/persistentResources/ray33-cluster-20250218-085159\n"
     ]
    }
   ],
   "source": [
    "RAY_ADDRESS=f\"vertex_ray://projects/{PROJECT_NBR}/locations/{REGION}/persistentResources/{RAY_CLUSTER_NM}\"\n",
    "print(f\"RAY_ADDRESS:{RAY_ADDRESS}\")\n",
    "\n",
    "RUNTIME_ENV = {\n",
    "  \"pip\": [\n",
    "      \"google-cloud-aiplatform[ray]>=1.56.0\",\n",
    "      \"ray[data,train,tune,serve]==2.33.0\",\n",
    "      \"datasets\",\n",
    "      \"evaluate\",\n",
    "      \"accelerate==0.18.0\",\n",
    "      \"transformers==4.26.0\",\n",
    "      # \"torch==1.12.0\",\n",
    "      \n",
    "      \"torch==2.0.0\",  # for CUDA 11.8 : https://pytorch.org/get-started/previous-versions/\n",
    "      \"deepspeed==0.14.4\", # https://github.com/huggingface/alignment-handbook/issues/180\n",
    "      \"numpy<2\",\n",
    "      \n",
    "      \"setuptools\",\n",
    "      \"ipython\",\n",
    "      \"scikit-learn\",\n",
    "      \"ninja\",\n",
    "      \"triton<=3.1.0\"  # https://github.com/deepspeedai/DeepSpeed/issues/7028\n",
    "      \n",
    "  ],\n",
    "}\n",
    "\n",
    "# pytorch==2.5.1 torchvision==0.20.1 torchaudio==2.5.1  pytorch-cuda=11.8\n",
    "\n",
    "# runtime_env = {\"env_vars\": {\"NCCL_SOCKET_IFNAME\": \"ens5\"}}\n"
   ]
  },
  {
   "cell_type": "markdown",
   "id": "e34f8755-9aea-462e-9b97-a70d6c744adc",
   "metadata": {},
   "source": [
    "### Connect to Ray on Vertex AI"
   ]
  },
  {
   "cell_type": "code",
   "execution_count": 8,
   "id": "1b09947d-9554-40aa-9327-5624777efb9c",
   "metadata": {
    "tags": []
   },
   "outputs": [
    {
     "name": "stdout",
     "output_type": "stream",
     "text": [
      "[Ray on Vertex AI]: Cluster State = State.RUNNING\n"
     ]
    },
    {
     "data": {
      "application/vnd.jupyter.widget-view+json": {
       "model_id": "3a1da317a0964eed825e2e9fd2b22d97",
       "version_major": 2,
       "version_minor": 0
      },
      "text/html": [
       "<div class=\"lm-Widget p-Widget lm-Panel p-Panel jp-Cell-outputWrapper\">\n",
       "    <div style=\"margin-left: 50px;display: flex;flex-direction: row;align-items: center\">\n",
       "        <div class=\"jp-RenderedHTMLCommon\" style=\"display: flex; flex-direction: row;\">\n",
       "  <svg viewBox=\"0 0 567 224\" fill=\"none\" xmlns=\"http://www.w3.org/2000/svg\" style=\"height: 3em;\">\n",
       "    <g clip-path=\"url(#clip0_4338_178347)\">\n",
       "        <path d=\"M341.29 165.561H355.29L330.13 129.051C345.63 123.991 354.21 112.051 354.21 94.2307C354.21 71.3707 338.72 58.1807 311.88 58.1807H271V165.561H283.27V131.661H311.8C314.25 131.661 316.71 131.501 319.01 131.351L341.25 165.561H341.29ZM283.29 119.851V70.0007H311.82C331.3 70.0007 342.34 78.2907 342.34 94.5507C342.34 111.271 331.34 119.861 311.82 119.861L283.29 119.851ZM451.4 138.411L463.4 165.561H476.74L428.74 58.1807H416L367.83 165.561H380.83L392.83 138.411H451.4ZM446.19 126.601H398L422 72.1407L446.24 126.601H446.19ZM526.11 128.741L566.91 58.1807H554.35L519.99 114.181L485.17 58.1807H472.44L514.01 129.181V165.541H526.13V128.741H526.11Z\" fill=\"var(--jp-ui-font-color0)\"/>\n",
       "        <path d=\"M82.35 104.44C84.0187 97.8827 87.8248 92.0678 93.1671 87.9146C98.5094 83.7614 105.083 81.5067 111.85 81.5067C118.617 81.5067 125.191 83.7614 130.533 87.9146C135.875 92.0678 139.681 97.8827 141.35 104.44H163.75C164.476 101.562 165.622 98.8057 167.15 96.2605L127.45 56.5605C121.071 60.3522 113.526 61.6823 106.235 60.3005C98.9443 58.9187 92.4094 54.9203 87.8602 49.0574C83.3109 43.1946 81.0609 35.8714 81.5332 28.4656C82.0056 21.0599 85.1679 14.0819 90.4252 8.8446C95.6824 3.60726 102.672 0.471508 110.08 0.0272655C117.487 -0.416977 124.802 1.86091 130.647 6.4324C136.493 11.0039 140.467 17.5539 141.821 24.8501C143.175 32.1463 141.816 39.6859 138 46.0505L177.69 85.7505C182.31 82.9877 187.58 81.4995 192.962 81.4375C198.345 81.3755 203.648 82.742 208.33 85.3976C213.012 88.0532 216.907 91.9029 219.616 96.5544C222.326 101.206 223.753 106.492 223.753 111.875C223.753 117.258 222.326 122.545 219.616 127.197C216.907 131.848 213.012 135.698 208.33 138.353C203.648 141.009 198.345 142.375 192.962 142.313C187.58 142.251 182.31 140.763 177.69 138L138 177.7C141.808 184.071 143.155 191.614 141.79 198.91C140.424 206.205 136.44 212.75 130.585 217.313C124.731 221.875 117.412 224.141 110.004 223.683C102.596 223.226 95.6103 220.077 90.3621 214.828C85.1139 209.58 81.9647 202.595 81.5072 195.187C81.0497 187.779 83.3154 180.459 87.878 174.605C92.4405 168.751 98.9853 164.766 106.281 163.401C113.576 162.035 121.119 163.383 127.49 167.19L167.19 127.49C165.664 124.941 164.518 122.182 163.79 119.3H141.39C139.721 125.858 135.915 131.673 130.573 135.826C125.231 139.98 118.657 142.234 111.89 142.234C105.123 142.234 98.5494 139.98 93.2071 135.826C87.8648 131.673 84.0587 125.858 82.39 119.3H60C58.1878 126.495 53.8086 132.78 47.6863 136.971C41.5641 141.163 34.1211 142.972 26.7579 142.059C19.3947 141.146 12.6191 137.574 7.70605 132.014C2.79302 126.454 0.0813599 119.29 0.0813599 111.87C0.0813599 104.451 2.79302 97.2871 7.70605 91.7272C12.6191 86.1673 19.3947 82.5947 26.7579 81.6817C34.1211 80.7686 41.5641 82.5781 47.6863 86.7696C53.8086 90.9611 58.1878 97.2456 60 104.44H82.35ZM100.86 204.32C103.407 206.868 106.759 208.453 110.345 208.806C113.93 209.159 117.527 208.258 120.522 206.256C123.517 204.254 125.725 201.276 126.771 197.828C127.816 194.38 127.633 190.677 126.253 187.349C124.874 184.021 122.383 181.274 119.205 179.577C116.027 177.88 112.359 177.337 108.826 178.042C105.293 178.746 102.113 180.654 99.8291 183.44C97.5451 186.226 96.2979 189.718 96.3 193.32C96.2985 195.364 96.7006 197.388 97.4831 199.275C98.2656 201.163 99.4132 202.877 100.86 204.32ZM204.32 122.88C206.868 120.333 208.453 116.981 208.806 113.396C209.159 109.811 208.258 106.214 206.256 103.219C204.254 100.223 201.275 98.0151 197.827 96.97C194.38 95.9249 190.676 96.1077 187.348 97.4873C184.02 98.8669 181.274 101.358 179.577 104.536C177.879 107.714 177.337 111.382 178.041 114.915C178.746 118.448 180.653 121.627 183.439 123.911C186.226 126.195 189.717 127.443 193.32 127.44C195.364 127.443 197.388 127.042 199.275 126.259C201.163 125.476 202.878 124.328 204.32 122.88ZM122.88 19.4205C120.333 16.8729 116.981 15.2876 113.395 14.9347C109.81 14.5817 106.213 15.483 103.218 17.4849C100.223 19.4868 98.0146 22.4654 96.9696 25.9131C95.9245 29.3608 96.1073 33.0642 97.4869 36.3922C98.8665 39.7202 101.358 42.4668 104.535 44.1639C107.713 45.861 111.381 46.4036 114.914 45.6992C118.447 44.9949 121.627 43.0871 123.911 40.301C126.195 37.515 127.442 34.0231 127.44 30.4205C127.44 28.3772 127.038 26.3539 126.255 24.4664C125.473 22.5788 124.326 20.8642 122.88 19.4205ZM19.42 100.86C16.8725 103.408 15.2872 106.76 14.9342 110.345C14.5813 113.93 15.4826 117.527 17.4844 120.522C19.4863 123.518 22.4649 125.726 25.9127 126.771C29.3604 127.816 33.0638 127.633 36.3918 126.254C39.7198 124.874 42.4664 122.383 44.1635 119.205C45.8606 116.027 46.4032 112.359 45.6988 108.826C44.9944 105.293 43.0866 102.114 40.3006 99.8296C37.5145 97.5455 34.0227 96.2983 30.42 96.3005C26.2938 96.3018 22.337 97.9421 19.42 100.86ZM100.86 100.86C98.3125 103.408 96.7272 106.76 96.3742 110.345C96.0213 113.93 96.9226 117.527 98.9244 120.522C100.926 123.518 103.905 125.726 107.353 126.771C110.8 127.816 114.504 127.633 117.832 126.254C121.16 124.874 123.906 122.383 125.604 119.205C127.301 116.027 127.843 112.359 127.139 108.826C126.434 105.293 124.527 102.114 121.741 99.8296C118.955 97.5455 115.463 96.2983 111.86 96.3005C109.817 96.299 107.793 96.701 105.905 97.4835C104.018 98.2661 102.303 99.4136 100.86 100.86Z\" fill=\"#00AEEF\"/>\n",
       "    </g>\n",
       "    <defs>\n",
       "        <clipPath id=\"clip0_4338_178347\">\n",
       "            <rect width=\"566.93\" height=\"223.75\" fill=\"white\"/>\n",
       "        </clipPath>\n",
       "    </defs>\n",
       "  </svg>\n",
       "</div>\n",
       "\n",
       "        \n",
       "<table class=\"jp-RenderedHTMLCommon\" style=\"border-collapse: collapse;color: var(--jp-ui-font-color1);font-size: var(--jp-ui-font-size1);\">\n",
       "    <tr>\n",
       "        <td style=\"text-align: left\"><b>Python version:</b></td>\n",
       "        <td style=\"text-align: left\"><b>3.10.16</b></td>\n",
       "    </tr>\n",
       "    <tr>\n",
       "        <td style=\"text-align: left\"><b>Ray version:</b></td>\n",
       "        <td style=\"text-align: left\"><b> 2.33.0</b></td>\n",
       "    </tr>\n",
       "    <tr>\n",
       "        <td style=\"text-align: left\"><b>Vertex SDK version:</b></td>\n",
       "        <td style=\"text-align: left\"><b> 1.80.0</b></td>\n",
       "    </tr>\n",
       "    <tr>\n",
       "        <td style=\"text-align: left\"><b>Dashboard:</b></td>\n",
       "        <td style=\"text-align: left\"><b><a href=\"https://0e24b26feffa2996-dot-us-central1.aiplatform-training.googleusercontent.com\" target=\"_blank\">0e24b26feffa2996-dot-us-central1.aiplatform-training.googleusercontent.com</a></b></td>\n",
       "    </tr>\n",
       "    <tr>\n",
       "    <td style=\"text-align: left\"><b>Interactive Terminal Uri:</b></td>\n",
       "    <td style=\"text-align: left\"><b><a href=\"https://3e39a4149930c896-dot-us-central1.aiplatform-training.googleusercontent.com\" target=\"_blank\">3e39a4149930c896-dot-us-central1.aiplatform-training.googleusercontent.com</a></b></td>\n",
       "</tr>\n",
       "    <tr>\n",
       "        <td style=\"text-align: left\"><b>Cluster Name:</b></td>\n",
       "        <td style=\"text-align: left\"><b> ray33-cluster-20250218-085159</b></td>\n",
       "    </tr>\n",
       "</table>\n",
       "\n",
       "    </div>\n",
       "</div>\n"
      ],
      "text/plain": [
       "_VertexRayClientContext(dashboard_url='0e24b26feffa2996-dot-us-central1.aiplatform-training.googleusercontent.com', python_version='3.10.16', ray_version='2.33.0', ray_commit='914af09c9807444b7d09ed6a80a552bf8d7bb133', _num_clients=1, _context_to_restore=<ray.util.client._ClientContext object at 0x7f1fa93abb80>, protocol_version=None)"
      ]
     },
     "execution_count": 8,
     "metadata": {},
     "output_type": "execute_result"
    },
    {
     "name": "stdout",
     "output_type": "stream",
     "text": [
      "\u001b[36m(data_manage pid=1335, ip=10.127.0.21)\u001b[0m Loading tiny_shakespeare dataset\n"
     ]
    },
    {
     "name": "stderr",
     "output_type": "stream",
     "text": [
      "\u001b[36m(TunerInternal pid=4824)\u001b[0m AIR_VERBOSITY is set, ignoring passed-in ProgressReporter for now.\n"
     ]
    },
    {
     "name": "stdout",
     "output_type": "stream",
     "text": [
      "\u001b[36m(TunerInternal pid=4824)\u001b[0m \n",
      "\u001b[36m(TunerInternal pid=4824)\u001b[0m View detailed results here: sllm_checkpoints/tmp_store/deepspeed/TorchTrainer_2025-02-18_00-35-08\n",
      "\u001b[36m(TunerInternal pid=4824)\u001b[0m To visualize your results with TensorBoard, run: `tensorboard --logdir /tmp/ray/session_2025-02-18_00-02-04_369354_12/artifacts/2025-02-18_00-35-16/TorchTrainer_2025-02-18_00-35-08/driver_artifacts`\n",
      "\u001b[36m(TrainTrainable pid=1466, ip=10.127.0.21)\u001b[0m [2025-02-18 00:35:22,823] [WARNING] [real_accelerator.py:162:get_accelerator] Setting accelerator to CPU. If you have GPU or other accelerator, we were unable to detect it.\n",
      "\u001b[36m(TrainTrainable pid=1466, ip=10.127.0.21)\u001b[0m [2025-02-18 00:35:22,825] [INFO] [real_accelerator.py:203:get_accelerator] Setting ds_accelerator to cpu (auto detect)\n",
      "\u001b[36m(TunerInternal pid=4824)\u001b[0m \n",
      "\u001b[36m(TunerInternal pid=4824)\u001b[0m Training started with configuration:\n",
      "\u001b[36m(TunerInternal pid=4824)\u001b[0m ╭────────────────────────────────────────╮\n",
      "\u001b[36m(TunerInternal pid=4824)\u001b[0m │ Training config                        │\n",
      "\u001b[36m(TunerInternal pid=4824)\u001b[0m ├────────────────────────────────────────┤\n",
      "\u001b[36m(TunerInternal pid=4824)\u001b[0m │ train_loop_config/batch_size        16 │\n",
      "\u001b[36m(TunerInternal pid=4824)\u001b[0m │ train_loop_config/epochs             2 │\n",
      "\u001b[36m(TunerInternal pid=4824)\u001b[0m │ train_loop_config/steps_per_epoch   38 │\n",
      "\u001b[36m(TunerInternal pid=4824)\u001b[0m ╰────────────────────────────────────────╯\n"
     ]
    },
    {
     "name": "stderr",
     "output_type": "stream",
     "text": [
      "\u001b[36m(RayTrainWorker pid=1538, ip=10.127.0.21)\u001b[0m Setting up process group for: env:// [rank=0, world_size=3]\n",
      "\u001b[36m(TorchTrainer pid=1466, ip=10.127.0.21)\u001b[0m Started distributed worker processes: \n",
      "\u001b[36m(TorchTrainer pid=1466, ip=10.127.0.21)\u001b[0m - (ip=10.127.0.21, pid=1538) world_rank=0, local_rank=0, node_rank=0\n",
      "\u001b[36m(TorchTrainer pid=1466, ip=10.127.0.21)\u001b[0m - (ip=10.127.0.20, pid=1070) world_rank=1, local_rank=0, node_rank=1\n",
      "\u001b[36m(TorchTrainer pid=1466, ip=10.127.0.21)\u001b[0m - (ip=10.127.0.22, pid=637) world_rank=2, local_rank=0, node_rank=2\n"
     ]
    },
    {
     "name": "stdout",
     "output_type": "stream",
     "text": [
      "\u001b[36m(RayTrainWorker pid=1538, ip=10.127.0.21)\u001b[0m [2025-02-18 00:35:34,051] [INFO] [real_accelerator.py:203:get_accelerator] Setting ds_accelerator to cuda (auto detect)\n",
      "\u001b[36m(RayTrainWorker pid=1070, ip=10.127.0.20)\u001b[0m [2025-02-18 00:35:34,058] [INFO] [real_accelerator.py:203:get_accelerator] Setting ds_accelerator to cuda (auto detect)\n",
      "\u001b[36m(RayTrainWorker pid=637, ip=10.127.0.22)\u001b[0m [2025-02-18 00:35:34,114] [INFO] [real_accelerator.py:203:get_accelerator] Setting ds_accelerator to cuda (auto detect)\n",
      "\u001b[36m(RayTrainWorker pid=1538, ip=10.127.0.21)\u001b[0m \u001b[93m [WARNING] \u001b[0m async_io requires the dev libaio .so object and headers but these were not found.\n",
      "\u001b[36m(RayTrainWorker pid=1538, ip=10.127.0.21)\u001b[0m \u001b[93m [WARNING] \u001b[0m async_io: please install the libaio-dev package with apt\n",
      "\u001b[36m(RayTrainWorker pid=1538, ip=10.127.0.21)\u001b[0m \u001b[93m [WARNING] \u001b[0m If libaio is already installed (perhaps from source), try setting the CFLAGS and LDFLAGS environment variables to where it can be found.\n",
      "\u001b[36m(RayTrainWorker pid=1538, ip=10.127.0.21)\u001b[0m \u001b[93m [WARNING] \u001b[0m Please specify the CUTLASS repo directory as environment variable $CUTLASS_PATH\n",
      "\u001b[36m(RayTrainWorker pid=1070, ip=10.127.0.20)\u001b[0m \u001b[93m [WARNING] \u001b[0m async_io requires the dev libaio .so object and headers but these were not found.\n",
      "\u001b[36m(RayTrainWorker pid=1070, ip=10.127.0.20)\u001b[0m \u001b[93m [WARNING] \u001b[0m async_io: please install the libaio-dev package with apt\n",
      "\u001b[36m(RayTrainWorker pid=1070, ip=10.127.0.20)\u001b[0m \u001b[93m [WARNING] \u001b[0m If libaio is already installed (perhaps from source), try setting the CFLAGS and LDFLAGS environment variables to where it can be found.\n",
      "\u001b[36m(RayTrainWorker pid=1070, ip=10.127.0.20)\u001b[0m \u001b[93m [WARNING] \u001b[0m Please specify the CUTLASS repo directory as environment variable $CUTLASS_PATH\n",
      "\u001b[36m(RayTrainWorker pid=637, ip=10.127.0.22)\u001b[0m \u001b[93m [WARNING] \u001b[0m async_io requires the dev libaio .so object and headers but these were not found.\n",
      "\u001b[36m(RayTrainWorker pid=637, ip=10.127.0.22)\u001b[0m \u001b[93m [WARNING] \u001b[0m async_io: please install the libaio-dev package with apt\n",
      "\u001b[36m(RayTrainWorker pid=637, ip=10.127.0.22)\u001b[0m \u001b[93m [WARNING] \u001b[0m If libaio is already installed (perhaps from source), try setting the CFLAGS and LDFLAGS environment variables to where it can be found.\n",
      "\u001b[36m(RayTrainWorker pid=637, ip=10.127.0.22)\u001b[0m \u001b[93m [WARNING] \u001b[0m Please specify the CUTLASS repo directory as environment variable $CUTLASS_PATH\n"
     ]
    },
    {
     "name": "stderr",
     "output_type": "stream",
     "text": [
      "\u001b[36m(RayTrainWorker pid=637, ip=10.127.0.22)\u001b[0m df: /root/.triton/autotune: No such file or directory\n"
     ]
    },
    {
     "name": "stdout",
     "output_type": "stream",
     "text": [
      "\u001b[36m(RayTrainWorker pid=1070, ip=10.127.0.20)\u001b[0m \u001b[93m [WARNING] \u001b[0m sparse_attn requires a torch version >= 1.5 and < 2.0 but detected 2.0\n",
      "\u001b[36m(RayTrainWorker pid=1070, ip=10.127.0.20)\u001b[0m \u001b[93m [WARNING] \u001b[0m using untested triton version (2.0.0), only 1.0.0 is known to be compatible\n",
      "\u001b[36m(RayTrainWorker pid=637, ip=10.127.0.22)\u001b[0m \u001b[93m [WARNING] \u001b[0m sparse_attn requires a torch version >= 1.5 and < 2.0 but detected 2.0\n",
      "\u001b[36m(RayTrainWorker pid=637, ip=10.127.0.22)\u001b[0m \u001b[93m [WARNING] \u001b[0m using untested triton version (2.0.0), only 1.0.0 is known to be compatible\n",
      "\u001b[36m(RayTrainWorker pid=1538, ip=10.127.0.21)\u001b[0m \u001b[93m [WARNING] \u001b[0m sparse_attn requires a torch version >= 1.5 and < 2.0 but detected 2.0\n",
      "\u001b[36m(RayTrainWorker pid=1538, ip=10.127.0.21)\u001b[0m \u001b[93m [WARNING] \u001b[0m using untested triton version (2.0.0), only 1.0.0 is known to be compatible\n"
     ]
    },
    {
     "name": "stderr",
     "output_type": "stream",
     "text": [
      "\u001b[36m(RayTrainWorker pid=1538, ip=10.127.0.21)\u001b[0m /tmp/ray/session_2025-02-18_00-02-04_369354_12/runtime_resources/pip/57c8f880f9a251101ddb29a582a94a0beca2f588/virtualenv/lib/python3.10/site-packages/huggingface_hub/file_download.py:795: FutureWarning: `resume_download` is deprecated and will be removed in version 1.0.0. Downloads always resume when possible. If you want to force a new download, use `force_download=True`.\n",
      "\u001b[36m(RayTrainWorker pid=1538, ip=10.127.0.21)\u001b[0m   warnings.warn(\n",
      "\u001b[36m(RayTrainWorker pid=637, ip=10.127.0.22)\u001b[0m /tmp/ray/session_2025-02-18_00-02-04_369354_12/runtime_resources/pip/57c8f880f9a251101ddb29a582a94a0beca2f588/virtualenv/lib/python3.10/site-packages/huggingface_hub/file_download.py:795: FutureWarning: `resume_download` is deprecated and will be removed in version 1.0.0. Downloads always resume when possible. If you want to force a new download, use `force_download=True`.\n",
      "\u001b[36m(RayTrainWorker pid=637, ip=10.127.0.22)\u001b[0m   warnings.warn(\n",
      "\u001b[36m(RayTrainWorker pid=1070, ip=10.127.0.20)\u001b[0m /tmp/ray/session_2025-02-18_00-02-04_369354_12/runtime_resources/pip/57c8f880f9a251101ddb29a582a94a0beca2f588/virtualenv/lib/python3.10/site-packages/huggingface_hub/file_download.py:795: FutureWarning: `resume_download` is deprecated and will be removed in version 1.0.0. Downloads always resume when possible. If you want to force a new download, use `force_download=True`.\n",
      "\u001b[36m(RayTrainWorker pid=1070, ip=10.127.0.20)\u001b[0m   warnings.warn(\n"
     ]
    },
    {
     "name": "stdout",
     "output_type": "stream",
     "text": [
      "\u001b[36m(RayTrainWorker pid=1538, ip=10.127.0.21)\u001b[0m Preparing training arguments\n",
      "\u001b[36m(RayTrainWorker pid=1538, ip=10.127.0.21)\u001b[0m [2025-02-18 00:35:41,385] [INFO] [comm.py:637:init_distributed] cdb=None\n",
      "\u001b[36m(RayTrainWorker pid=637, ip=10.127.0.22)\u001b[0m Preparing training arguments\n",
      "\u001b[36m(RayTrainWorker pid=637, ip=10.127.0.22)\u001b[0m [2025-02-18 00:35:41,385] [INFO] [comm.py:637:init_distributed] cdb=None\n",
      "\u001b[36m(RayTrainWorker pid=1070, ip=10.127.0.20)\u001b[0m Preparing training arguments\n",
      "\u001b[36m(RayTrainWorker pid=1070, ip=10.127.0.20)\u001b[0m [2025-02-18 00:35:41,386] [INFO] [comm.py:637:init_distributed] cdb=None\n",
      "\u001b[36m(RayTrainWorker pid=1070, ip=10.127.0.20)\u001b[0m Loading model\n",
      "\u001b[36m(RayTrainWorker pid=1538, ip=10.127.0.21)\u001b[0m Loading model\n",
      "\u001b[36m(RayTrainWorker pid=637, ip=10.127.0.22)\u001b[0m Loading model\n",
      "\u001b[36m(RayTrainWorker pid=1538, ip=10.127.0.21)\u001b[0m [2025-02-18 00:38:07,079] [INFO] [partition_parameters.py:345:__exit__] finished initializing model - num_params = 285, num_elems = 6.05B\n",
      "\u001b[36m(RayTrainWorker pid=1070, ip=10.127.0.20)\u001b[0m Model loaded\n",
      "\u001b[36m(RayTrainWorker pid=637, ip=10.127.0.22)\u001b[0m Model loaded\n"
     ]
    },
    {
     "name": "stderr",
     "output_type": "stream",
     "text": [
      "\u001b[36m(RayTrainWorker pid=1070, ip=10.127.0.20)\u001b[0m max_steps is given, it will override any value given in num_train_epochs\n",
      "\u001b[36m(RayTrainWorker pid=1070, ip=10.127.0.20)\u001b[0m Using cuda_amp half precision backend\n",
      "Downloading builder script: 100%|██████████| 4.20k/4.20k [00:00<00:00, 16.2MB/s]\n",
      "\u001b[36m(RayTrainWorker pid=637, ip=10.127.0.22)\u001b[0m max_steps is given, it will override any value given in num_train_epochs\n",
      "\u001b[36m(RayTrainWorker pid=637, ip=10.127.0.22)\u001b[0m Using cuda_amp half precision backend\n"
     ]
    },
    {
     "name": "stdout",
     "output_type": "stream",
     "text": [
      "\u001b[36m(RayTrainWorker pid=1538, ip=10.127.0.21)\u001b[0m Model loaded\n"
     ]
    },
    {
     "name": "stderr",
     "output_type": "stream",
     "text": [
      "\u001b[36m(RayTrainWorker pid=1538, ip=10.127.0.21)\u001b[0m max_steps is given, it will override any value given in num_train_epochs\n",
      "\u001b[36m(RayTrainWorker pid=1538, ip=10.127.0.21)\u001b[0m Using cuda_amp half precision backend\n"
     ]
    },
    {
     "name": "stdout",
     "output_type": "stream",
     "text": [
      "\u001b[36m(RayTrainWorker pid=1538, ip=10.127.0.21)\u001b[0m [2025-02-18 00:38:39,858] [INFO] [logging.py:96:log_dist] [Rank 0] DeepSpeed info: version=0.14.4, git-hash=unknown, git-branch=unknown\n",
      "\u001b[36m(RayTrainWorker pid=1538, ip=10.127.0.21)\u001b[0m [2025-02-18 00:38:39,868] [INFO] [logging.py:96:log_dist] [Rank 0] DeepSpeed Flops Profiler Enabled: False\n"
     ]
    },
    {
     "name": "stderr",
     "output_type": "stream",
     "text": [
      "\u001b[36m(RayTrainWorker pid=1538, ip=10.127.0.21)\u001b[0m Using /root/.cache/torch_extensions/py310_cu117 as PyTorch extensions root...\n",
      "\u001b[36m(RayTrainWorker pid=1538, ip=10.127.0.21)\u001b[0m Emitting ninja build file /root/.cache/torch_extensions/py310_cu117/cpu_adam/build.ninja...\n",
      "\u001b[36m(RayTrainWorker pid=1538, ip=10.127.0.21)\u001b[0m Building extension module cpu_adam...\n",
      "\u001b[36m(RayTrainWorker pid=1538, ip=10.127.0.21)\u001b[0m Allowing ninja to set a default number of workers... (overridable by setting the environment variable MAX_JOBS=N)\n",
      "\u001b[36m(RayTrainWorker pid=1070, ip=10.127.0.20)\u001b[0m Using /root/.cache/torch_extensions/py310_cu117 as PyTorch extensions root...\n",
      "\u001b[36m(RayTrainWorker pid=1070, ip=10.127.0.20)\u001b[0m Emitting ninja build file /root/.cache/torch_extensions/py310_cu117/cpu_adam/build.ninja...\n",
      "\u001b[36m(RayTrainWorker pid=1070, ip=10.127.0.20)\u001b[0m Building extension module cpu_adam...\n",
      "\u001b[36m(RayTrainWorker pid=1070, ip=10.127.0.20)\u001b[0m Allowing ninja to set a default number of workers... (overridable by setting the environment variable MAX_JOBS=N)\n",
      "\u001b[36m(RayTrainWorker pid=637, ip=10.127.0.22)\u001b[0m Using /root/.cache/torch_extensions/py310_cu117 as PyTorch extensions root...\n",
      "\u001b[36m(RayTrainWorker pid=637, ip=10.127.0.22)\u001b[0m Creating extension directory /root/.cache/torch_extensions/py310_cu117/cpu_adam...\n",
      "\u001b[36m(RayTrainWorker pid=637, ip=10.127.0.22)\u001b[0m Emitting ninja build file /root/.cache/torch_extensions/py310_cu117/cpu_adam/build.ninja...\n",
      "\u001b[36m(RayTrainWorker pid=637, ip=10.127.0.22)\u001b[0m Building extension module cpu_adam...\n",
      "\u001b[36m(RayTrainWorker pid=637, ip=10.127.0.22)\u001b[0m Allowing ninja to set a default number of workers... (overridable by setting the environment variable MAX_JOBS=N)\n"
     ]
    },
    {
     "name": "stdout",
     "output_type": "stream",
     "text": [
      "\u001b[36m(RayTrainWorker pid=1538, ip=10.127.0.21)\u001b[0m Installed CUDA version 11.8 does not match the version torch was compiled with 11.7 but since the APIs are compatible, accepting this combination\n",
      "\u001b[36m(RayTrainWorker pid=1070, ip=10.127.0.20)\u001b[0m Installed CUDA version 11.8 does not match the version torch was compiled with 11.7 but since the APIs are compatible, accepting this combination\n",
      "\u001b[36m(RayTrainWorker pid=637, ip=10.127.0.22)\u001b[0m Installed CUDA version 11.8 does not match the version torch was compiled with 11.7 but since the APIs are compatible, accepting this combination\n",
      "\u001b[36m(RayTrainWorker pid=637, ip=10.127.0.22)\u001b[0m [1/3] c++ -MMD -MF cpu_adam.o.d -DTORCH_EXTENSION_NAME=cpu_adam -DTORCH_API_INCLUDE_EXTENSION_H -DPYBIND11_COMPILER_TYPE=\\\"_gcc\\\" -DPYBIND11_STDLIB=\\\"_libstdcpp\\\" -DPYBIND11_BUILD_ABI=\\\"_cxxabi1011\\\" -I/tmp/ray/session_2025-02-18_00-02-04_369354_12/runtime_resources/pip/57c8f880f9a251101ddb29a582a94a0beca2f588/virtualenv/lib/python3.10/site-packages/deepspeed/ops/csrc/includes -isystem /tmp/ray/session_2025-02-18_00-02-04_369354_12/runtime_resources/pip/57c8f880f9a251101ddb29a582a94a0beca2f588/virtualenv/lib/python3.10/site-packages/torch/include -isystem /tmp/ray/session_2025-02-18_00-02-04_369354_12/runtime_resources/pip/57c8f880f9a251101ddb29a582a94a0beca2f588/virtualenv/lib/python3.10/site-packages/torch/include/torch/csrc/api/include -isystem /tmp/ray/session_2025-02-18_00-02-04_369354_12/runtime_resources/pip/57c8f880f9a251101ddb29a582a94a0beca2f588/virtualenv/lib/python3.10/site-packages/torch/include/TH -isystem /tmp/ray/session_2025-02-18_00-02-04_369354_12/runtime_resources/pip/57c8f880f9a251101ddb29a582a94a0beca2f588/virtualenv/lib/python3.10/site-packages/torch/include/THC -isystem /opt/conda/include/python3.10 -D_GLIBCXX_USE_CXX11_ABI=0 -fPIC -std=c++17 -O3 -std=c++17 -g -Wno-reorder -L/usr/local/cuda/lib64 -lcudart -lcublas -g -march=native -fopenmp -D__AVX512__ -D__ENABLE_CUDA__ -DBF16_AVAILABLE -c /tmp/ray/session_2025-02-18_00-02-04_369354_12/runtime_resources/pip/57c8f880f9a251101ddb29a582a94a0beca2f588/virtualenv/lib/python3.10/site-packages/deepspeed/ops/csrc/adam/cpu_adam.cpp -o cpu_adam.o \n",
      "\u001b[36m(RayTrainWorker pid=1538, ip=10.127.0.21)\u001b[0m [1/3] c++ -MMD -MF cpu_adam.o.d -DTORCH_EXTENSION_NAME=cpu_adam -DTORCH_API_INCLUDE_EXTENSION_H -DPYBIND11_COMPILER_TYPE=\\\"_gcc\\\" -DPYBIND11_STDLIB=\\\"_libstdcpp\\\" -DPYBIND11_BUILD_ABI=\\\"_cxxabi1011\\\" -I/tmp/ray/session_2025-02-18_00-02-04_369354_12/runtime_resources/pip/57c8f880f9a251101ddb29a582a94a0beca2f588/virtualenv/lib/python3.10/site-packages/deepspeed/ops/csrc/includes -isystem /tmp/ray/session_2025-02-18_00-02-04_369354_12/runtime_resources/pip/57c8f880f9a251101ddb29a582a94a0beca2f588/virtualenv/lib/python3.10/site-packages/torch/include -isystem /tmp/ray/session_2025-02-18_00-02-04_369354_12/runtime_resources/pip/57c8f880f9a251101ddb29a582a94a0beca2f588/virtualenv/lib/python3.10/site-packages/torch/include/torch/csrc/api/include -isystem /tmp/ray/session_2025-02-18_00-02-04_369354_12/runtime_resources/pip/57c8f880f9a251101ddb29a582a94a0beca2f588/virtualenv/lib/python3.10/site-packages/torch/include/TH -isystem /tmp/ray/session_2025-02-18_00-02-04_369354_12/runtime_resources/pip/57c8f880f9a251101ddb29a582a94a0beca2f588/virtualenv/lib/python3.10/site-packages/torch/include/THC -isystem /opt/conda/include/python3.10 -D_GLIBCXX_USE_CXX11_ABI=0 -fPIC -std=c++17 -O3 -std=c++17 -g -Wno-reorder -L/usr/local/cuda/lib64 -lcudart -lcublas -g -march=native -fopenmp -D__AVX512__ -D__ENABLE_CUDA__ -DBF16_AVAILABLE -c /tmp/ray/session_2025-02-18_00-02-04_369354_12/runtime_resources/pip/57c8f880f9a251101ddb29a582a94a0beca2f588/virtualenv/lib/python3.10/site-packages/deepspeed/ops/csrc/adam/cpu_adam.cpp -o cpu_adam.o \n",
      "\u001b[36m(RayTrainWorker pid=1070, ip=10.127.0.20)\u001b[0m [1/3] c++ -MMD -MF cpu_adam.o.d -DTORCH_EXTENSION_NAME=cpu_adam -DTORCH_API_INCLUDE_EXTENSION_H -DPYBIND11_COMPILER_TYPE=\\\"_gcc\\\" -DPYBIND11_STDLIB=\\\"_libstdcpp\\\" -DPYBIND11_BUILD_ABI=\\\"_cxxabi1011\\\" -I/tmp/ray/session_2025-02-18_00-02-04_369354_12/runtime_resources/pip/57c8f880f9a251101ddb29a582a94a0beca2f588/virtualenv/lib/python3.10/site-packages/deepspeed/ops/csrc/includes -isystem /tmp/ray/session_2025-02-18_00-02-04_369354_12/runtime_resources/pip/57c8f880f9a251101ddb29a582a94a0beca2f588/virtualenv/lib/python3.10/site-packages/torch/include -isystem /tmp/ray/session_2025-02-18_00-02-04_369354_12/runtime_resources/pip/57c8f880f9a251101ddb29a582a94a0beca2f588/virtualenv/lib/python3.10/site-packages/torch/include/torch/csrc/api/include -isystem /tmp/ray/session_2025-02-18_00-02-04_369354_12/runtime_resources/pip/57c8f880f9a251101ddb29a582a94a0beca2f588/virtualenv/lib/python3.10/site-packages/torch/include/TH -isystem /tmp/ray/session_2025-02-18_00-02-04_369354_12/runtime_resources/pip/57c8f880f9a251101ddb29a582a94a0beca2f588/virtualenv/lib/python3.10/site-packages/torch/include/THC -isystem /opt/conda/include/python3.10 -D_GLIBCXX_USE_CXX11_ABI=0 -fPIC -std=c++17 -O3 -std=c++17 -g -Wno-reorder -L/usr/local/cuda/lib64 -lcudart -lcublas -g -march=native -fopenmp -D__AVX512__ -D__ENABLE_CUDA__ -DBF16_AVAILABLE -c /tmp/ray/session_2025-02-18_00-02-04_369354_12/runtime_resources/pip/57c8f880f9a251101ddb29a582a94a0beca2f588/virtualenv/lib/python3.10/site-packages/deepspeed/ops/csrc/adam/cpu_adam.cpp -o cpu_adam.o \n",
      "\u001b[36m(RayTrainWorker pid=1538, ip=10.127.0.21)\u001b[0m [2/3] c++ -MMD -MF cpu_adam_impl.o.d -DTORCH_EXTENSION_NAME=cpu_adam -DTORCH_API_INCLUDE_EXTENSION_H -DPYBIND11_COMPILER_TYPE=\\\"_gcc\\\" -DPYBIND11_STDLIB=\\\"_libstdcpp\\\" -DPYBIND11_BUILD_ABI=\\\"_cxxabi1011\\\" -I/tmp/ray/session_2025-02-18_00-02-04_369354_12/runtime_resources/pip/57c8f880f9a251101ddb29a582a94a0beca2f588/virtualenv/lib/python3.10/site-packages/deepspeed/ops/csrc/includes -isystem /tmp/ray/session_2025-02-18_00-02-04_369354_12/runtime_resources/pip/57c8f880f9a251101ddb29a582a94a0beca2f588/virtualenv/lib/python3.10/site-packages/torch/include -isystem /tmp/ray/session_2025-02-18_00-02-04_369354_12/runtime_resources/pip/57c8f880f9a251101ddb29a582a94a0beca2f588/virtualenv/lib/python3.10/site-packages/torch/include/torch/csrc/api/include -isystem /tmp/ray/session_2025-02-18_00-02-04_369354_12/runtime_resources/pip/57c8f880f9a251101ddb29a582a94a0beca2f588/virtualenv/lib/python3.10/site-packages/torch/include/TH -isystem /tmp/ray/session_2025-02-18_00-02-04_369354_12/runtime_resources/pip/57c8f880f9a251101ddb29a582a94a0beca2f588/virtualenv/lib/python3.10/site-packages/torch/include/THC -isystem /opt/conda/include/python3.10 -D_GLIBCXX_USE_CXX11_ABI=0 -fPIC -std=c++17 -O3 -std=c++17 -g -Wno-reorder -L/usr/local/cuda/lib64 -lcudart -lcublas -g -march=native -fopenmp -D__AVX512__ -D__ENABLE_CUDA__ -DBF16_AVAILABLE -c /tmp/ray/session_2025-02-18_00-02-04_369354_12/runtime_resources/pip/57c8f880f9a251101ddb29a582a94a0beca2f588/virtualenv/lib/python3.10/site-packages/deepspeed/ops/csrc/adam/cpu_adam_impl.cpp -o cpu_adam_impl.o \n",
      "\u001b[36m(RayTrainWorker pid=1070, ip=10.127.0.20)\u001b[0m [2/3] c++ -MMD -MF cpu_adam_impl.o.d -DTORCH_EXTENSION_NAME=cpu_adam -DTORCH_API_INCLUDE_EXTENSION_H -DPYBIND11_COMPILER_TYPE=\\\"_gcc\\\" -DPYBIND11_STDLIB=\\\"_libstdcpp\\\" -DPYBIND11_BUILD_ABI=\\\"_cxxabi1011\\\" -I/tmp/ray/session_2025-02-18_00-02-04_369354_12/runtime_resources/pip/57c8f880f9a251101ddb29a582a94a0beca2f588/virtualenv/lib/python3.10/site-packages/deepspeed/ops/csrc/includes -isystem /tmp/ray/session_2025-02-18_00-02-04_369354_12/runtime_resources/pip/57c8f880f9a251101ddb29a582a94a0beca2f588/virtualenv/lib/python3.10/site-packages/torch/include -isystem /tmp/ray/session_2025-02-18_00-02-04_369354_12/runtime_resources/pip/57c8f880f9a251101ddb29a582a94a0beca2f588/virtualenv/lib/python3.10/site-packages/torch/include/torch/csrc/api/include -isystem /tmp/ray/session_2025-02-18_00-02-04_369354_12/runtime_resources/pip/57c8f880f9a251101ddb29a582a94a0beca2f588/virtualenv/lib/python3.10/site-packages/torch/include/TH -isystem /tmp/ray/session_2025-02-18_00-02-04_369354_12/runtime_resources/pip/57c8f880f9a251101ddb29a582a94a0beca2f588/virtualenv/lib/python3.10/site-packages/torch/include/THC -isystem /opt/conda/include/python3.10 -D_GLIBCXX_USE_CXX11_ABI=0 -fPIC -std=c++17 -O3 -std=c++17 -g -Wno-reorder -L/usr/local/cuda/lib64 -lcudart -lcublas -g -march=native -fopenmp -D__AVX512__ -D__ENABLE_CUDA__ -DBF16_AVAILABLE -c /tmp/ray/session_2025-02-18_00-02-04_369354_12/runtime_resources/pip/57c8f880f9a251101ddb29a582a94a0beca2f588/virtualenv/lib/python3.10/site-packages/deepspeed/ops/csrc/adam/cpu_adam_impl.cpp -o cpu_adam_impl.o \n",
      "\u001b[36m(RayTrainWorker pid=637, ip=10.127.0.22)\u001b[0m [2/3] c++ -MMD -MF cpu_adam_impl.o.d -DTORCH_EXTENSION_NAME=cpu_adam -DTORCH_API_INCLUDE_EXTENSION_H -DPYBIND11_COMPILER_TYPE=\\\"_gcc\\\" -DPYBIND11_STDLIB=\\\"_libstdcpp\\\" -DPYBIND11_BUILD_ABI=\\\"_cxxabi1011\\\" -I/tmp/ray/session_2025-02-18_00-02-04_369354_12/runtime_resources/pip/57c8f880f9a251101ddb29a582a94a0beca2f588/virtualenv/lib/python3.10/site-packages/deepspeed/ops/csrc/includes -isystem /tmp/ray/session_2025-02-18_00-02-04_369354_12/runtime_resources/pip/57c8f880f9a251101ddb29a582a94a0beca2f588/virtualenv/lib/python3.10/site-packages/torch/include -isystem /tmp/ray/session_2025-02-18_00-02-04_369354_12/runtime_resources/pip/57c8f880f9a251101ddb29a582a94a0beca2f588/virtualenv/lib/python3.10/site-packages/torch/include/torch/csrc/api/include -isystem /tmp/ray/session_2025-02-18_00-02-04_369354_12/runtime_resources/pip/57c8f880f9a251101ddb29a582a94a0beca2f588/virtualenv/lib/python3.10/site-packages/torch/include/TH -isystem /tmp/ray/session_2025-02-18_00-02-04_369354_12/runtime_resources/pip/57c8f880f9a251101ddb29a582a94a0beca2f588/virtualenv/lib/python3.10/site-packages/torch/include/THC -isystem /opt/conda/include/python3.10 -D_GLIBCXX_USE_CXX11_ABI=0 -fPIC -std=c++17 -O3 -std=c++17 -g -Wno-reorder -L/usr/local/cuda/lib64 -lcudart -lcublas -g -march=native -fopenmp -D__AVX512__ -D__ENABLE_CUDA__ -DBF16_AVAILABLE -c /tmp/ray/session_2025-02-18_00-02-04_369354_12/runtime_resources/pip/57c8f880f9a251101ddb29a582a94a0beca2f588/virtualenv/lib/python3.10/site-packages/deepspeed/ops/csrc/adam/cpu_adam_impl.cpp -o cpu_adam_impl.o \n",
      "\u001b[36m(RayTrainWorker pid=1070, ip=10.127.0.20)\u001b[0m [3/3] c++ cpu_adam.o cpu_adam_impl.o -shared -lcurand -L/tmp/ray/session_2025-02-18_00-02-04_369354_12/runtime_resources/pip/57c8f880f9a251101ddb29a582a94a0beca2f588/virtualenv/lib/python3.10/site-packages/torch/lib -lc10 -ltorch_cpu -ltorch -ltorch_python -o cpu_adam.so\n",
      "\u001b[36m(RayTrainWorker pid=1070, ip=10.127.0.20)\u001b[0m Time to load cpu_adam op: 35.675721406936646 seconds\n",
      "\u001b[36m(RayTrainWorker pid=1070, ip=10.127.0.20)\u001b[0m Adam Optimizer #0 is created with AVX512 arithmetic capability.\n",
      "\u001b[36m(RayTrainWorker pid=1070, ip=10.127.0.20)\u001b[0m Config: alpha=0.000020, betas=(0.900000, 0.999000), weight_decay=0.000000, adam_w=1\n",
      "\u001b[36m(RayTrainWorker pid=1538, ip=10.127.0.21)\u001b[0m [3/3] c++ cpu_adam.o cpu_adam_impl.o -shared -lcurand -L/tmp/ray/session_2025-02-18_00-02-04_369354_12/runtime_resources/pip/57c8f880f9a251101ddb29a582a94a0beca2f588/virtualenv/lib/python3.10/site-packages/torch/lib -lc10 -ltorch_cpu -ltorch -ltorch_python -o cpu_adam.so\n",
      "\u001b[36m(RayTrainWorker pid=1538, ip=10.127.0.21)\u001b[0m Time to load cpu_adam op: 35.69090986251831 seconds\n",
      "\u001b[36m(RayTrainWorker pid=1538, ip=10.127.0.21)\u001b[0m Adam Optimizer #0 is created with AVX512 arithmetic capability.\n",
      "\u001b[36m(RayTrainWorker pid=1538, ip=10.127.0.21)\u001b[0m Config: alpha=0.000020, betas=(0.900000, 0.999000), weight_decay=0.000000, adam_w=1\n",
      "\u001b[36m(RayTrainWorker pid=1538, ip=10.127.0.21)\u001b[0m [2025-02-18 00:39:16,754] [INFO] [logging.py:96:log_dist] [Rank 0] Using DeepSpeed Optimizer param name adamw as basic optimizer\n",
      "\u001b[36m(RayTrainWorker pid=1538, ip=10.127.0.21)\u001b[0m [2025-02-18 00:39:16,754] [INFO] [logging.py:96:log_dist] [Rank 0] Removing param_group that has no 'params' in the basic Optimizer\n",
      "\u001b[36m(RayTrainWorker pid=1538, ip=10.127.0.21)\u001b[0m [2025-02-18 00:39:16,771] [INFO] [logging.py:96:log_dist] [Rank 0] DeepSpeed Basic Optimizer = DeepSpeedCPUAdam\n",
      "\u001b[36m(RayTrainWorker pid=1538, ip=10.127.0.21)\u001b[0m [2025-02-18 00:39:16,771] [INFO] [utils.py:56:is_zero_supported_optimizer] Checking ZeRO support for optimizer=DeepSpeedCPUAdam type=<class 'deepspeed.ops.adam.cpu_adam.DeepSpeedCPUAdam'>\n",
      "\u001b[36m(RayTrainWorker pid=1538, ip=10.127.0.21)\u001b[0m [2025-02-18 00:39:16,771] [INFO] [logging.py:96:log_dist] [Rank 0] Creating fp16 ZeRO stage 3 optimizer, MiCS is enabled False, Hierarchical params gather False\n",
      "\u001b[36m(RayTrainWorker pid=1538, ip=10.127.0.21)\u001b[0m [2025-02-18 00:39:16,771] [INFO] [logging.py:96:log_dist] [Rank 0] Creating torch.float16 ZeRO stage 3 optimizer\n"
     ]
    },
    {
     "name": "stderr",
     "output_type": "stream",
     "text": [
      "\u001b[36m(RayTrainWorker pid=1070, ip=10.127.0.20)\u001b[0m Loading extension module cpu_adam...\n",
      "\u001b[36m(RayTrainWorker pid=1538, ip=10.127.0.21)\u001b[0m Loading extension module cpu_adam...\n"
     ]
    },
    {
     "name": "stdout",
     "output_type": "stream",
     "text": [
      "\u001b[36m(RayTrainWorker pid=1538, ip=10.127.0.21)\u001b[0m [2025-02-18 00:39:16,939] [INFO] [utils.py:781:see_memory_usage] Stage 3 initialize beginning\n",
      "\u001b[36m(RayTrainWorker pid=1538, ip=10.127.0.21)\u001b[0m [2025-02-18 00:39:16,940] [INFO] [utils.py:782:see_memory_usage] MA 3.87 GB         Max_MA 4.89 GB         CA 5.94 GB         Max_CA 6 GB \n",
      "\u001b[36m(RayTrainWorker pid=1538, ip=10.127.0.21)\u001b[0m [2025-02-18 00:39:16,940] [INFO] [utils.py:789:see_memory_usage] CPU Virtual Memory:  used = 5.83 GB, percent = 6.2%\n",
      "\u001b[36m(RayTrainWorker pid=1538, ip=10.127.0.21)\u001b[0m [2025-02-18 00:39:16,942] [INFO] [stage3.py:130:__init__] Reduce bucket size 16777216\n",
      "\u001b[36m(RayTrainWorker pid=1538, ip=10.127.0.21)\u001b[0m [2025-02-18 00:39:16,942] [INFO] [stage3.py:131:__init__] Prefetch bucket size 15099494\n",
      "\u001b[36m(RayTrainWorker pid=1538, ip=10.127.0.21)\u001b[0m [2025-02-18 00:39:17,100] [INFO] [utils.py:781:see_memory_usage] DeepSpeedZeRoOffload initialize [begin]\n",
      "\u001b[36m(RayTrainWorker pid=1538, ip=10.127.0.21)\u001b[0m [2025-02-18 00:39:17,101] [INFO] [utils.py:782:see_memory_usage] MA 3.87 GB         Max_MA 3.87 GB         CA 5.94 GB         Max_CA 6 GB \n",
      "\u001b[36m(RayTrainWorker pid=1538, ip=10.127.0.21)\u001b[0m [2025-02-18 00:39:17,101] [INFO] [utils.py:789:see_memory_usage] CPU Virtual Memory:  used = 5.83 GB, percent = 6.2%\n",
      "\u001b[36m(RayTrainWorker pid=1538, ip=10.127.0.21)\u001b[0m Parameter Offload: Total persistent parameters: 811008 in 114 params\n",
      "\u001b[36m(RayTrainWorker pid=637, ip=10.127.0.22)\u001b[0m [3/3] c++ cpu_adam.o cpu_adam_impl.o -shared -lcurand -L/tmp/ray/session_2025-02-18_00-02-04_369354_12/runtime_resources/pip/57c8f880f9a251101ddb29a582a94a0beca2f588/virtualenv/lib/python3.10/site-packages/torch/lib -lc10 -ltorch_cpu -ltorch -ltorch_python -o cpu_adam.so\n",
      "\u001b[36m(RayTrainWorker pid=637, ip=10.127.0.22)\u001b[0m Time to load cpu_adam op: 36.17844009399414 seconds\n",
      "\u001b[36m(RayTrainWorker pid=637, ip=10.127.0.22)\u001b[0m Adam Optimizer #0 is created with AVX512 arithmetic capability.\n",
      "\u001b[36m(RayTrainWorker pid=637, ip=10.127.0.22)\u001b[0m Config: alpha=0.000020, betas=(0.900000, 0.999000), weight_decay=0.000000, adam_w=1\n",
      "\u001b[36m(RayTrainWorker pid=1538, ip=10.127.0.21)\u001b[0m [2025-02-18 00:39:17,287] [INFO] [utils.py:781:see_memory_usage] DeepSpeedZeRoOffload initialize [end]\n",
      "\u001b[36m(RayTrainWorker pid=1538, ip=10.127.0.21)\u001b[0m [2025-02-18 00:39:17,287] [INFO] [utils.py:782:see_memory_usage] MA 3.87 GB         Max_MA 3.87 GB         CA 5.94 GB         Max_CA 6 GB \n",
      "\u001b[36m(RayTrainWorker pid=1538, ip=10.127.0.21)\u001b[0m [2025-02-18 00:39:17,288] [INFO] [utils.py:789:see_memory_usage] CPU Virtual Memory:  used = 5.83 GB, percent = 6.2%\n"
     ]
    },
    {
     "name": "stderr",
     "output_type": "stream",
     "text": [
      "\u001b[36m(RayTrainWorker pid=637, ip=10.127.0.22)\u001b[0m Loading extension module cpu_adam...\n"
     ]
    },
    {
     "name": "stdout",
     "output_type": "stream",
     "text": [
      "\u001b[36m(RayTrainWorker pid=1538, ip=10.127.0.21)\u001b[0m [2025-02-18 00:39:17,454] [INFO] [utils.py:781:see_memory_usage] Before creating fp16 partitions\n",
      "\u001b[36m(RayTrainWorker pid=1538, ip=10.127.0.21)\u001b[0m [2025-02-18 00:39:17,455] [INFO] [utils.py:782:see_memory_usage] MA 3.87 GB         Max_MA 3.87 GB         CA 5.94 GB         Max_CA 6 GB \n",
      "\u001b[36m(RayTrainWorker pid=1538, ip=10.127.0.21)\u001b[0m [2025-02-18 00:39:17,455] [INFO] [utils.py:789:see_memory_usage] CPU Virtual Memory:  used = 5.83 GB, percent = 6.2%\n",
      "\u001b[36m(RayTrainWorker pid=1538, ip=10.127.0.21)\u001b[0m [2025-02-18 00:39:21,933] [INFO] [utils.py:781:see_memory_usage] After creating fp16 partitions: 3\n",
      "\u001b[36m(RayTrainWorker pid=1538, ip=10.127.0.21)\u001b[0m [2025-02-18 00:39:21,934] [INFO] [utils.py:782:see_memory_usage] MA 3.87 GB         Max_MA 3.87 GB         CA 6.16 GB         Max_CA 6 GB \n",
      "\u001b[36m(RayTrainWorker pid=1538, ip=10.127.0.21)\u001b[0m [2025-02-18 00:39:21,934] [INFO] [utils.py:789:see_memory_usage] CPU Virtual Memory:  used = 5.83 GB, percent = 6.2%\n",
      "\u001b[36m(RayTrainWorker pid=1538, ip=10.127.0.21)\u001b[0m [2025-02-18 00:39:22,102] [INFO] [utils.py:781:see_memory_usage] Before creating fp32 partitions\n",
      "\u001b[36m(RayTrainWorker pid=1538, ip=10.127.0.21)\u001b[0m [2025-02-18 00:39:22,103] [INFO] [utils.py:782:see_memory_usage] MA 3.87 GB         Max_MA 3.87 GB         CA 6.16 GB         Max_CA 6 GB \n",
      "\u001b[36m(RayTrainWorker pid=1538, ip=10.127.0.21)\u001b[0m [2025-02-18 00:39:22,103] [INFO] [utils.py:789:see_memory_usage] CPU Virtual Memory:  used = 5.83 GB, percent = 6.2%\n",
      "\u001b[36m(RayTrainWorker pid=1538, ip=10.127.0.21)\u001b[0m [2025-02-18 00:39:26,953] [INFO] [utils.py:781:see_memory_usage] After creating fp32 partitions\n",
      "\u001b[36m(RayTrainWorker pid=1538, ip=10.127.0.21)\u001b[0m [2025-02-18 00:39:26,954] [INFO] [utils.py:782:see_memory_usage] MA 3.87 GB         Max_MA 3.87 GB         CA 6.16 GB         Max_CA 6 GB \n",
      "\u001b[36m(RayTrainWorker pid=1538, ip=10.127.0.21)\u001b[0m [2025-02-18 00:39:26,954] [INFO] [utils.py:789:see_memory_usage] CPU Virtual Memory:  used = 13.36 GB, percent = 14.2%\n",
      "\u001b[36m(RayTrainWorker pid=1538, ip=10.127.0.21)\u001b[0m [2025-02-18 00:39:27,119] [INFO] [utils.py:781:see_memory_usage] Before initializing optimizer states\n",
      "\u001b[36m(RayTrainWorker pid=1538, ip=10.127.0.21)\u001b[0m [2025-02-18 00:39:27,120] [INFO] [utils.py:782:see_memory_usage] MA 3.87 GB         Max_MA 3.87 GB         CA 6.16 GB         Max_CA 6 GB \n",
      "\u001b[36m(RayTrainWorker pid=1538, ip=10.127.0.21)\u001b[0m [2025-02-18 00:39:27,120] [INFO] [utils.py:789:see_memory_usage] CPU Virtual Memory:  used = 13.36 GB, percent = 14.2%\n",
      "\u001b[36m(RayTrainWorker pid=1538, ip=10.127.0.21)\u001b[0m [2025-02-18 00:39:33,039] [INFO] [utils.py:781:see_memory_usage] After initializing optimizer states\n",
      "\u001b[36m(RayTrainWorker pid=1538, ip=10.127.0.21)\u001b[0m [2025-02-18 00:39:33,040] [INFO] [utils.py:782:see_memory_usage] MA 3.87 GB         Max_MA 3.87 GB         CA 6.16 GB         Max_CA 6 GB \n",
      "\u001b[36m(RayTrainWorker pid=1538, ip=10.127.0.21)\u001b[0m [2025-02-18 00:39:33,040] [INFO] [utils.py:789:see_memory_usage] CPU Virtual Memory:  used = 21.51 GB, percent = 22.8%\n",
      "\u001b[36m(RayTrainWorker pid=1538, ip=10.127.0.21)\u001b[0m [2025-02-18 00:39:33,041] [INFO] [stage3.py:486:_setup_for_real_optimizer] optimizer state initialized\n"
     ]
    },
    {
     "name": "stderr",
     "output_type": "stream",
     "text": [
      "\u001b[36m(RayTrainWorker pid=637, ip=10.127.0.22)\u001b[0m ***** Running training *****\n",
      "\u001b[36m(RayTrainWorker pid=637, ip=10.127.0.22)\u001b[0m   Num examples = 3648\n",
      "\u001b[36m(RayTrainWorker pid=637, ip=10.127.0.22)\u001b[0m   Num Epochs = 9223372036854775807\n",
      "\u001b[36m(RayTrainWorker pid=637, ip=10.127.0.22)\u001b[0m   Instantaneous batch size per device = 16\n",
      "\u001b[36m(RayTrainWorker pid=637, ip=10.127.0.22)\u001b[0m   Total train batch size (w. parallel, distributed & accumulation) = 48\n",
      "\u001b[36m(RayTrainWorker pid=637, ip=10.127.0.22)\u001b[0m   Gradient Accumulation steps = 1\n",
      "\u001b[36m(RayTrainWorker pid=637, ip=10.127.0.22)\u001b[0m   Total optimization steps = 76\n",
      "\u001b[36m(RayTrainWorker pid=637, ip=10.127.0.22)\u001b[0m   Number of trainable parameters = 0\n",
      "\u001b[36m(RayTrainWorker pid=1070, ip=10.127.0.20)\u001b[0m ***** Running training *****\n",
      "\u001b[36m(RayTrainWorker pid=1070, ip=10.127.0.20)\u001b[0m   Num examples = 3648\n",
      "\u001b[36m(RayTrainWorker pid=1070, ip=10.127.0.20)\u001b[0m   Num Epochs = 9223372036854775807\n",
      "\u001b[36m(RayTrainWorker pid=1070, ip=10.127.0.20)\u001b[0m   Instantaneous batch size per device = 16\n",
      "\u001b[36m(RayTrainWorker pid=1070, ip=10.127.0.20)\u001b[0m   Total train batch size (w. parallel, distributed & accumulation) = 48\n",
      "\u001b[36m(RayTrainWorker pid=1070, ip=10.127.0.20)\u001b[0m   Gradient Accumulation steps = 1\n",
      "\u001b[36m(RayTrainWorker pid=1070, ip=10.127.0.20)\u001b[0m   Total optimization steps = 76\n",
      "\u001b[36m(RayTrainWorker pid=1070, ip=10.127.0.20)\u001b[0m   Number of trainable parameters = 0\n",
      "\u001b[36m(RayTrainWorker pid=1538, ip=10.127.0.21)\u001b[0m ***** Running training *****\n",
      "\u001b[36m(RayTrainWorker pid=1538, ip=10.127.0.21)\u001b[0m   Num examples = 3648\n",
      "\u001b[36m(RayTrainWorker pid=1538, ip=10.127.0.21)\u001b[0m   Num Epochs = 9223372036854775807\n",
      "\u001b[36m(RayTrainWorker pid=1538, ip=10.127.0.21)\u001b[0m   Instantaneous batch size per device = 16\n",
      "\u001b[36m(RayTrainWorker pid=1538, ip=10.127.0.21)\u001b[0m   Total train batch size (w. parallel, distributed & accumulation) = 48\n",
      "\u001b[36m(RayTrainWorker pid=1538, ip=10.127.0.21)\u001b[0m   Gradient Accumulation steps = 1\n",
      "\u001b[36m(RayTrainWorker pid=1538, ip=10.127.0.21)\u001b[0m   Total optimization steps = 76\n",
      "\u001b[36m(RayTrainWorker pid=1538, ip=10.127.0.21)\u001b[0m   Number of trainable parameters = 0\n"
     ]
    },
    {
     "name": "stdout",
     "output_type": "stream",
     "text": [
      "\u001b[36m(RayTrainWorker pid=1538, ip=10.127.0.21)\u001b[0m [2025-02-18 00:39:37,938] [INFO] [utils.py:781:see_memory_usage] After initializing ZeRO optimizer\n",
      "\u001b[36m(RayTrainWorker pid=1538, ip=10.127.0.21)\u001b[0m [2025-02-18 00:39:37,939] [INFO] [utils.py:782:see_memory_usage] MA 3.9 GB         Max_MA 4.67 GB         CA 11.43 GB         Max_CA 11 GB \n",
      "\u001b[36m(RayTrainWorker pid=1538, ip=10.127.0.21)\u001b[0m [2025-02-18 00:39:37,939] [INFO] [utils.py:789:see_memory_usage] CPU Virtual Memory:  used = 25.6 GB, percent = 27.1%\n",
      "\u001b[36m(RayTrainWorker pid=1538, ip=10.127.0.21)\u001b[0m [2025-02-18 00:39:37,939] [INFO] [logging.py:96:log_dist] [Rank 0] DeepSpeed Final Optimizer = DeepSpeedZeroOptimizer_Stage3\n",
      "\u001b[36m(RayTrainWorker pid=1538, ip=10.127.0.21)\u001b[0m [2025-02-18 00:39:37,939] [INFO] [logging.py:96:log_dist] [Rank 0] DeepSpeed using client callable to create LR scheduler\n",
      "\u001b[36m(RayTrainWorker pid=1538, ip=10.127.0.21)\u001b[0m [2025-02-18 00:39:37,940] [INFO] [logging.py:96:log_dist] [Rank 0] DeepSpeed LR Scheduler = <torch.optim.lr_scheduler.LambdaLR object at 0x7a58818aad10>\n",
      "\u001b[36m(RayTrainWorker pid=1538, ip=10.127.0.21)\u001b[0m [2025-02-18 00:39:37,940] [INFO] [logging.py:96:log_dist] [Rank 0] step=0, skipped=0, lr=[2e-05], mom=[[0.9, 0.999]]\n",
      "\u001b[36m(RayTrainWorker pid=1538, ip=10.127.0.21)\u001b[0m [2025-02-18 00:39:37,941] [INFO] [config.py:997:print] DeepSpeedEngine configuration:\n",
      "\u001b[36m(RayTrainWorker pid=1538, ip=10.127.0.21)\u001b[0m [2025-02-18 00:39:37,941] [INFO] [config.py:1001:print]   activation_checkpointing_config  {\n",
      "\u001b[36m(RayTrainWorker pid=1538, ip=10.127.0.21)\u001b[0m     \"partition_activations\": false, \n",
      "\u001b[36m(RayTrainWorker pid=1538, ip=10.127.0.21)\u001b[0m     \"contiguous_memory_optimization\": false, \n",
      "\u001b[36m(RayTrainWorker pid=1538, ip=10.127.0.21)\u001b[0m     \"cpu_checkpointing\": false, \n",
      "\u001b[36m(RayTrainWorker pid=1538, ip=10.127.0.21)\u001b[0m     \"number_checkpoints\": null, \n",
      "\u001b[36m(RayTrainWorker pid=1538, ip=10.127.0.21)\u001b[0m     \"synchronize_checkpoint_boundary\": false, \n",
      "\u001b[36m(RayTrainWorker pid=1538, ip=10.127.0.21)\u001b[0m     \"profile\": false\n",
      "\u001b[36m(RayTrainWorker pid=1538, ip=10.127.0.21)\u001b[0m }\n",
      "\u001b[36m(RayTrainWorker pid=1538, ip=10.127.0.21)\u001b[0m [2025-02-18 00:39:37,941] [INFO] [config.py:1001:print]   aio_config ................... {'block_size': 1048576, 'queue_depth': 8, 'thread_count': 1, 'single_submit': False, 'overlap_events': True}\n",
      "\u001b[36m(RayTrainWorker pid=1538, ip=10.127.0.21)\u001b[0m [2025-02-18 00:39:37,941] [INFO] [config.py:1001:print]   amp_enabled .................. False\n",
      "\u001b[36m(RayTrainWorker pid=1538, ip=10.127.0.21)\u001b[0m [2025-02-18 00:39:37,941] [INFO] [config.py:1001:print]   amp_params ................... False\n",
      "\u001b[36m(RayTrainWorker pid=1538, ip=10.127.0.21)\u001b[0m [2025-02-18 00:39:37,942] [INFO] [config.py:1001:print]   autotuning_config ............ {\n",
      "\u001b[36m(RayTrainWorker pid=1538, ip=10.127.0.21)\u001b[0m     \"enabled\": false, \n",
      "\u001b[36m(RayTrainWorker pid=1538, ip=10.127.0.21)\u001b[0m     \"start_step\": null, \n",
      "\u001b[36m(RayTrainWorker pid=1538, ip=10.127.0.21)\u001b[0m     \"end_step\": null, \n",
      "\u001b[36m(RayTrainWorker pid=1538, ip=10.127.0.21)\u001b[0m     \"metric_path\": null, \n",
      "\u001b[36m(RayTrainWorker pid=1538, ip=10.127.0.21)\u001b[0m     \"arg_mappings\": null, \n",
      "\u001b[36m(RayTrainWorker pid=1538, ip=10.127.0.21)\u001b[0m     \"metric\": \"throughput\", \n",
      "\u001b[36m(RayTrainWorker pid=1538, ip=10.127.0.21)\u001b[0m     \"model_info\": null, \n",
      "\u001b[36m(RayTrainWorker pid=1538, ip=10.127.0.21)\u001b[0m     \"results_dir\": \"autotuning_results\", \n",
      "\u001b[36m(RayTrainWorker pid=1538, ip=10.127.0.21)\u001b[0m     \"exps_dir\": \"autotuning_exps\", \n",
      "\u001b[36m(RayTrainWorker pid=1538, ip=10.127.0.21)\u001b[0m     \"overwrite\": true, \n",
      "\u001b[36m(RayTrainWorker pid=1538, ip=10.127.0.21)\u001b[0m     \"fast\": true, \n",
      "\u001b[36m(RayTrainWorker pid=1538, ip=10.127.0.21)\u001b[0m     \"start_profile_step\": 3, \n",
      "\u001b[36m(RayTrainWorker pid=1538, ip=10.127.0.21)\u001b[0m     \"end_profile_step\": 5, \n",
      "\u001b[36m(RayTrainWorker pid=1538, ip=10.127.0.21)\u001b[0m     \"tuner_type\": \"gridsearch\", \n",
      "\u001b[36m(RayTrainWorker pid=1538, ip=10.127.0.21)\u001b[0m     \"tuner_early_stopping\": 5, \n",
      "\u001b[36m(RayTrainWorker pid=1538, ip=10.127.0.21)\u001b[0m     \"tuner_num_trials\": 50, \n",
      "\u001b[36m(RayTrainWorker pid=1538, ip=10.127.0.21)\u001b[0m     \"model_info_path\": null, \n",
      "\u001b[36m(RayTrainWorker pid=1538, ip=10.127.0.21)\u001b[0m     \"mp_size\": 1, \n",
      "\u001b[36m(RayTrainWorker pid=1538, ip=10.127.0.21)\u001b[0m     \"max_train_batch_size\": null, \n",
      "\u001b[36m(RayTrainWorker pid=1538, ip=10.127.0.21)\u001b[0m     \"min_train_batch_size\": 1, \n",
      "\u001b[36m(RayTrainWorker pid=1538, ip=10.127.0.21)\u001b[0m     \"max_train_micro_batch_size_per_gpu\": 1.024000e+03, \n",
      "\u001b[36m(RayTrainWorker pid=1538, ip=10.127.0.21)\u001b[0m     \"min_train_micro_batch_size_per_gpu\": 1, \n",
      "\u001b[36m(RayTrainWorker pid=1538, ip=10.127.0.21)\u001b[0m     \"num_tuning_micro_batch_sizes\": 3\n",
      "\u001b[36m(RayTrainWorker pid=1538, ip=10.127.0.21)\u001b[0m }\n",
      "\u001b[36m(RayTrainWorker pid=1538, ip=10.127.0.21)\u001b[0m [2025-02-18 00:39:37,942] [INFO] [config.py:1001:print]   bfloat16_enabled ............. False\n",
      "\u001b[36m(RayTrainWorker pid=1538, ip=10.127.0.21)\u001b[0m [2025-02-18 00:39:37,942] [INFO] [config.py:1001:print]   bfloat16_immediate_grad_update  False\n",
      "\u001b[36m(RayTrainWorker pid=1538, ip=10.127.0.21)\u001b[0m [2025-02-18 00:39:37,942] [INFO] [config.py:1001:print]   checkpoint_parallel_write_pipeline  False\n",
      "\u001b[36m(RayTrainWorker pid=1538, ip=10.127.0.21)\u001b[0m [2025-02-18 00:39:37,942] [INFO] [config.py:1001:print]   checkpoint_tag_validation_enabled  True\n",
      "\u001b[36m(RayTrainWorker pid=1538, ip=10.127.0.21)\u001b[0m [2025-02-18 00:39:37,942] [INFO] [config.py:1001:print]   checkpoint_tag_validation_fail  False\n",
      "\u001b[36m(RayTrainWorker pid=1538, ip=10.127.0.21)\u001b[0m [2025-02-18 00:39:37,942] [INFO] [config.py:1001:print]   comms_config ................. <deepspeed.comm.config.DeepSpeedCommsConfig object at 0x7a5881afdf00>\n",
      "\u001b[36m(RayTrainWorker pid=1538, ip=10.127.0.21)\u001b[0m [2025-02-18 00:39:37,942] [INFO] [config.py:1001:print]   communication_data_type ...... None\n",
      "\u001b[36m(RayTrainWorker pid=1538, ip=10.127.0.21)\u001b[0m [2025-02-18 00:39:37,942] [INFO] [config.py:1001:print]   compression_config ........... {'weight_quantization': {'shared_parameters': {'enabled': False, 'quantizer_kernel': False, 'schedule_offset': 0, 'quantize_groups': 1, 'quantize_verbose': False, 'quantization_type': 'symmetric', 'quantize_weight_in_forward': False, 'rounding': 'nearest', 'fp16_mixed_quantize': False, 'quantize_change_ratio': 0.001}, 'different_groups': {}}, 'activation_quantization': {'shared_parameters': {'enabled': False, 'quantization_type': 'symmetric', 'range_calibration': 'dynamic', 'schedule_offset': 1000}, 'different_groups': {}}, 'sparse_pruning': {'shared_parameters': {'enabled': False, 'method': 'l1', 'schedule_offset': 1000}, 'different_groups': {}}, 'row_pruning': {'shared_parameters': {'enabled': False, 'method': 'l1', 'schedule_offset': 1000}, 'different_groups': {}}, 'head_pruning': {'shared_parameters': {'enabled': False, 'method': 'topk', 'schedule_offset': 1000}, 'different_groups': {}}, 'channel_pruning': {'shared_parameters': {'enabled': False, 'method': 'l1', 'schedule_offset': 1000}, 'different_groups': {}}, 'layer_reduction': {'enabled': False}}\n",
      "\u001b[36m(RayTrainWorker pid=1538, ip=10.127.0.21)\u001b[0m [2025-02-18 00:39:37,942] [INFO] [config.py:1001:print]   curriculum_enabled_legacy .... False\n",
      "\u001b[36m(RayTrainWorker pid=1538, ip=10.127.0.21)\u001b[0m [2025-02-18 00:39:37,942] [INFO] [config.py:1001:print]   curriculum_params_legacy ..... False\n",
      "\u001b[36m(RayTrainWorker pid=1538, ip=10.127.0.21)\u001b[0m [2025-02-18 00:39:37,942] [INFO] [config.py:1001:print]   data_efficiency_config ....... {'enabled': False, 'seed': 1234, 'data_sampling': {'enabled': False, 'num_epochs': 1000, 'num_workers': 0, 'curriculum_learning': {'enabled': False}}, 'data_routing': {'enabled': False, 'random_ltd': {'enabled': False, 'layer_token_lr_schedule': {'enabled': False}}}}\n",
      "\u001b[36m(RayTrainWorker pid=1538, ip=10.127.0.21)\u001b[0m [2025-02-18 00:39:37,942] [INFO] [config.py:1001:print]   data_efficiency_enabled ...... False\n",
      "\u001b[36m(RayTrainWorker pid=1538, ip=10.127.0.21)\u001b[0m [2025-02-18 00:39:37,942] [INFO] [config.py:1001:print]   dataloader_drop_last ......... False\n",
      "\u001b[36m(RayTrainWorker pid=1538, ip=10.127.0.21)\u001b[0m [2025-02-18 00:39:37,942] [INFO] [config.py:1001:print]   disable_allgather ............ False\n",
      "\u001b[36m(RayTrainWorker pid=1538, ip=10.127.0.21)\u001b[0m [2025-02-18 00:39:37,942] [INFO] [config.py:1001:print]   dump_state ................... False\n",
      "\u001b[36m(RayTrainWorker pid=1538, ip=10.127.0.21)\u001b[0m [2025-02-18 00:39:37,942] [INFO] [config.py:1001:print]   dynamic_loss_scale_args ...... {'init_scale': 256, 'scale_window': 1000, 'delayed_shift': 4, 'consecutive_hysteresis': True, 'min_scale': 1}\n",
      "\u001b[36m(RayTrainWorker pid=1538, ip=10.127.0.21)\u001b[0m [2025-02-18 00:39:37,942] [INFO] [config.py:1001:print]   eigenvalue_enabled ........... False\n",
      "\u001b[36m(RayTrainWorker pid=1538, ip=10.127.0.21)\u001b[0m [2025-02-18 00:39:37,942] [INFO] [config.py:1001:print]   eigenvalue_gas_boundary_resolution  1\n",
      "\u001b[36m(RayTrainWorker pid=1538, ip=10.127.0.21)\u001b[0m [2025-02-18 00:39:37,942] [INFO] [config.py:1001:print]   eigenvalue_layer_name ........ bert.encoder.layer\n",
      "\u001b[36m(RayTrainWorker pid=1538, ip=10.127.0.21)\u001b[0m [2025-02-18 00:39:37,942] [INFO] [config.py:1001:print]   eigenvalue_layer_num ......... 0\n",
      "\u001b[36m(RayTrainWorker pid=1538, ip=10.127.0.21)\u001b[0m [2025-02-18 00:39:37,942] [INFO] [config.py:1001:print]   eigenvalue_max_iter .......... 100\n",
      "\u001b[36m(RayTrainWorker pid=1538, ip=10.127.0.21)\u001b[0m [2025-02-18 00:39:37,942] [INFO] [config.py:1001:print]   eigenvalue_stability ......... 1e-06\n",
      "\u001b[36m(RayTrainWorker pid=1538, ip=10.127.0.21)\u001b[0m [2025-02-18 00:39:37,942] [INFO] [config.py:1001:print]   eigenvalue_tol ............... 0.01\n",
      "\u001b[36m(RayTrainWorker pid=1538, ip=10.127.0.21)\u001b[0m [2025-02-18 00:39:37,942] [INFO] [config.py:1001:print]   eigenvalue_verbose ........... False\n",
      "\u001b[36m(RayTrainWorker pid=1538, ip=10.127.0.21)\u001b[0m [2025-02-18 00:39:37,942] [INFO] [config.py:1001:print]   elasticity_enabled ........... False\n",
      "\u001b[36m(RayTrainWorker pid=1538, ip=10.127.0.21)\u001b[0m [2025-02-18 00:39:37,942] [INFO] [config.py:1001:print]   flops_profiler_config ........ {\n",
      "\u001b[36m(RayTrainWorker pid=1538, ip=10.127.0.21)\u001b[0m     \"enabled\": false, \n",
      "\u001b[36m(RayTrainWorker pid=1538, ip=10.127.0.21)\u001b[0m     \"recompute_fwd_factor\": 0.0, \n",
      "\u001b[36m(RayTrainWorker pid=1538, ip=10.127.0.21)\u001b[0m     \"profile_step\": 1, \n",
      "\u001b[36m(RayTrainWorker pid=1538, ip=10.127.0.21)\u001b[0m     \"module_depth\": -1, \n",
      "\u001b[36m(RayTrainWorker pid=1538, ip=10.127.0.21)\u001b[0m     \"top_modules\": 1, \n",
      "\u001b[36m(RayTrainWorker pid=1538, ip=10.127.0.21)\u001b[0m     \"detailed\": true, \n",
      "\u001b[36m(RayTrainWorker pid=1538, ip=10.127.0.21)\u001b[0m     \"output_file\": null\n",
      "\u001b[36m(RayTrainWorker pid=1538, ip=10.127.0.21)\u001b[0m }\n",
      "\u001b[36m(RayTrainWorker pid=1538, ip=10.127.0.21)\u001b[0m [2025-02-18 00:39:37,943] [INFO] [config.py:1001:print]   fp16_auto_cast ............... False\n",
      "\u001b[36m(RayTrainWorker pid=1538, ip=10.127.0.21)\u001b[0m [2025-02-18 00:39:37,943] [INFO] [config.py:1001:print]   fp16_enabled ................. True\n",
      "\u001b[36m(RayTrainWorker pid=1538, ip=10.127.0.21)\u001b[0m [2025-02-18 00:39:37,943] [INFO] [config.py:1001:print]   fp16_master_weights_and_gradients  False\n",
      "\u001b[36m(RayTrainWorker pid=1538, ip=10.127.0.21)\u001b[0m [2025-02-18 00:39:37,943] [INFO] [config.py:1001:print]   global_rank .................. 0\n",
      "\u001b[36m(RayTrainWorker pid=1538, ip=10.127.0.21)\u001b[0m [2025-02-18 00:39:37,943] [INFO] [config.py:1001:print]   grad_accum_dtype ............. None\n",
      "\u001b[36m(RayTrainWorker pid=1538, ip=10.127.0.21)\u001b[0m [2025-02-18 00:39:37,943] [INFO] [config.py:1001:print]   gradient_accumulation_steps .. 1\n",
      "\u001b[36m(RayTrainWorker pid=1538, ip=10.127.0.21)\u001b[0m [2025-02-18 00:39:37,943] [INFO] [config.py:1001:print]   gradient_clipping ............ 1.0\n",
      "\u001b[36m(RayTrainWorker pid=1538, ip=10.127.0.21)\u001b[0m [2025-02-18 00:39:37,943] [INFO] [config.py:1001:print]   gradient_predivide_factor .... 1.0\n",
      "\u001b[36m(RayTrainWorker pid=1538, ip=10.127.0.21)\u001b[0m [2025-02-18 00:39:37,943] [INFO] [config.py:1001:print]   graph_harvesting ............. False\n",
      "\u001b[36m(RayTrainWorker pid=1538, ip=10.127.0.21)\u001b[0m [2025-02-18 00:39:37,943] [INFO] [config.py:1001:print]   hybrid_engine ................ enabled=False max_out_tokens=512 inference_tp_size=1 release_inference_cache=False pin_parameters=True tp_gather_partition_size=8\n",
      "\u001b[36m(RayTrainWorker pid=1538, ip=10.127.0.21)\u001b[0m [2025-02-18 00:39:37,943] [INFO] [config.py:1001:print]   initial_dynamic_scale ........ 256\n",
      "\u001b[36m(RayTrainWorker pid=1538, ip=10.127.0.21)\u001b[0m [2025-02-18 00:39:37,943] [INFO] [config.py:1001:print]   load_universal_checkpoint .... False\n",
      "\u001b[36m(RayTrainWorker pid=1538, ip=10.127.0.21)\u001b[0m [2025-02-18 00:39:37,943] [INFO] [config.py:1001:print]   loss_scale ................... 0\n",
      "\u001b[36m(RayTrainWorker pid=1538, ip=10.127.0.21)\u001b[0m [2025-02-18 00:39:37,943] [INFO] [config.py:1001:print]   memory_breakdown ............. False\n",
      "\u001b[36m(RayTrainWorker pid=1538, ip=10.127.0.21)\u001b[0m [2025-02-18 00:39:37,943] [INFO] [config.py:1001:print]   mics_hierarchial_params_gather  False\n",
      "\u001b[36m(RayTrainWorker pid=1538, ip=10.127.0.21)\u001b[0m [2025-02-18 00:39:37,943] [INFO] [config.py:1001:print]   mics_shard_size .............. -1\n",
      "\u001b[36m(RayTrainWorker pid=1538, ip=10.127.0.21)\u001b[0m [2025-02-18 00:39:37,943] [INFO] [config.py:1001:print]   monitor_config ............... tensorboard=TensorBoardConfig(enabled=False, output_path='', job_name='DeepSpeedJobName') comet=CometConfig(enabled=False, samples_log_interval=100, project=None, workspace=None, api_key=None, experiment_name=None, experiment_key=None, online=None, mode=None) wandb=WandbConfig(enabled=False, group=None, team=None, project='deepspeed') csv_monitor=CSVConfig(enabled=False, output_path='', job_name='DeepSpeedJobName') enabled=False\n",
      "\u001b[36m(RayTrainWorker pid=1538, ip=10.127.0.21)\u001b[0m [2025-02-18 00:39:37,943] [INFO] [config.py:1001:print]   nebula_config ................ {\n",
      "\u001b[36m(RayTrainWorker pid=1538, ip=10.127.0.21)\u001b[0m     \"enabled\": false, \n",
      "\u001b[36m(RayTrainWorker pid=1538, ip=10.127.0.21)\u001b[0m     \"persistent_storage_path\": null, \n",
      "\u001b[36m(RayTrainWorker pid=1538, ip=10.127.0.21)\u001b[0m     \"persistent_time_interval\": 100, \n",
      "\u001b[36m(RayTrainWorker pid=1538, ip=10.127.0.21)\u001b[0m     \"num_of_version_in_retention\": 2, \n",
      "\u001b[36m(RayTrainWorker pid=1538, ip=10.127.0.21)\u001b[0m     \"enable_nebula_load\": true, \n",
      "\u001b[36m(RayTrainWorker pid=1538, ip=10.127.0.21)\u001b[0m     \"load_path\": null\n",
      "\u001b[36m(RayTrainWorker pid=1538, ip=10.127.0.21)\u001b[0m }\n",
      "\u001b[36m(RayTrainWorker pid=1538, ip=10.127.0.21)\u001b[0m [2025-02-18 00:39:37,943] [INFO] [config.py:1001:print]   optimizer_legacy_fusion ...... False\n",
      "\u001b[36m(RayTrainWorker pid=1538, ip=10.127.0.21)\u001b[0m [2025-02-18 00:39:37,943] [INFO] [config.py:1001:print]   optimizer_name ............... adamw\n",
      "\u001b[36m(RayTrainWorker pid=1538, ip=10.127.0.21)\u001b[0m [2025-02-18 00:39:37,943] [INFO] [config.py:1001:print]   optimizer_params ............. {'lr': 2e-05, 'betas': [0.9, 0.999], 'eps': 1e-08}\n",
      "\u001b[36m(RayTrainWorker pid=1538, ip=10.127.0.21)\u001b[0m [2025-02-18 00:39:37,943] [INFO] [config.py:1001:print]   pipeline ..................... {'stages': 'auto', 'partition': 'best', 'seed_layers': False, 'activation_checkpoint_interval': 0, 'pipe_partitioned': True, 'grad_partitioned': True}\n",
      "\u001b[36m(RayTrainWorker pid=1538, ip=10.127.0.21)\u001b[0m [2025-02-18 00:39:37,943] [INFO] [config.py:1001:print]   pld_enabled .................. False\n",
      "\u001b[36m(RayTrainWorker pid=1538, ip=10.127.0.21)\u001b[0m [2025-02-18 00:39:37,943] [INFO] [config.py:1001:print]   pld_params ................... False\n",
      "\u001b[36m(RayTrainWorker pid=1538, ip=10.127.0.21)\u001b[0m [2025-02-18 00:39:37,943] [INFO] [config.py:1001:print]   prescale_gradients ........... False\n",
      "\u001b[36m(RayTrainWorker pid=1538, ip=10.127.0.21)\u001b[0m [2025-02-18 00:39:37,943] [INFO] [config.py:1001:print]   scheduler_name ............... None\n",
      "\u001b[36m(RayTrainWorker pid=1538, ip=10.127.0.21)\u001b[0m [2025-02-18 00:39:37,943] [INFO] [config.py:1001:print]   scheduler_params ............. None\n",
      "\u001b[36m(RayTrainWorker pid=1538, ip=10.127.0.21)\u001b[0m [2025-02-18 00:39:37,943] [INFO] [config.py:1001:print]   seq_parallel_communication_data_type  torch.float32\n",
      "\u001b[36m(RayTrainWorker pid=1538, ip=10.127.0.21)\u001b[0m [2025-02-18 00:39:37,944] [INFO] [config.py:1001:print]   sparse_attention ............. None\n",
      "\u001b[36m(RayTrainWorker pid=1538, ip=10.127.0.21)\u001b[0m [2025-02-18 00:39:37,944] [INFO] [config.py:1001:print]   sparse_gradients_enabled ..... False\n",
      "\u001b[36m(RayTrainWorker pid=1538, ip=10.127.0.21)\u001b[0m [2025-02-18 00:39:37,944] [INFO] [config.py:1001:print]   steps_per_print .............. 10\n",
      "\u001b[36m(RayTrainWorker pid=1538, ip=10.127.0.21)\u001b[0m [2025-02-18 00:39:37,944] [INFO] [config.py:1001:print]   timers_config ................ enabled=True synchronized=True\n",
      "\u001b[36m(RayTrainWorker pid=1538, ip=10.127.0.21)\u001b[0m [2025-02-18 00:39:37,944] [INFO] [config.py:1001:print]   train_batch_size ............. 48\n",
      "\u001b[36m(RayTrainWorker pid=1538, ip=10.127.0.21)\u001b[0m [2025-02-18 00:39:37,944] [INFO] [config.py:1001:print]   train_micro_batch_size_per_gpu  16\n",
      "\u001b[36m(RayTrainWorker pid=1538, ip=10.127.0.21)\u001b[0m [2025-02-18 00:39:37,944] [INFO] [config.py:1001:print]   use_data_before_expert_parallel_  False\n",
      "\u001b[36m(RayTrainWorker pid=1538, ip=10.127.0.21)\u001b[0m [2025-02-18 00:39:37,944] [INFO] [config.py:1001:print]   use_node_local_storage ....... False\n",
      "\u001b[36m(RayTrainWorker pid=1538, ip=10.127.0.21)\u001b[0m [2025-02-18 00:39:37,944] [INFO] [config.py:1001:print]   wall_clock_breakdown ......... False\n",
      "\u001b[36m(RayTrainWorker pid=1538, ip=10.127.0.21)\u001b[0m [2025-02-18 00:39:37,944] [INFO] [config.py:1001:print]   weight_quantization_config ... None\n",
      "\u001b[36m(RayTrainWorker pid=1538, ip=10.127.0.21)\u001b[0m [2025-02-18 00:39:37,944] [INFO] [config.py:1001:print]   world_size ................... 3\n",
      "\u001b[36m(RayTrainWorker pid=1538, ip=10.127.0.21)\u001b[0m [2025-02-18 00:39:37,944] [INFO] [config.py:1001:print]   zero_allow_untested_optimizer  False\n",
      "\u001b[36m(RayTrainWorker pid=1538, ip=10.127.0.21)\u001b[0m [2025-02-18 00:39:37,944] [INFO] [config.py:1001:print]   zero_config .................. stage=3 contiguous_gradients=True reduce_scatter=True reduce_bucket_size=16777216 use_multi_rank_bucket_allreduce=True allgather_partitions=True allgather_bucket_size=500,000,000 overlap_comm=True load_from_fp32_weights=True elastic_checkpoint=False offload_param=None offload_optimizer=DeepSpeedZeroOffloadOptimizerConfig(device='cpu', nvme_path=None, buffer_count=4, pin_memory=True, pipeline=False, pipeline_read=False, pipeline_write=False, fast_init=False, ratio=1.0) sub_group_size=1,000,000,000 cpu_offload_param=None cpu_offload_use_pin_memory=None cpu_offload=None prefetch_bucket_size=15099494 param_persistence_threshold=40960 model_persistence_threshold=sys.maxsize max_live_parameters=1,000,000,000 max_reuse_distance=1,000,000,000 gather_16bit_weights_on_model_save=True use_all_reduce_for_fetch_params=False stage3_gather_fp16_weights_on_model_save=False ignore_unused_parameters=True legacy_stage1=False round_robin_gradients=True zero_hpz_partition_size=1 zero_quantized_weights=False zero_quantized_nontrainable_weights=False zero_quantized_gradients=False mics_shard_size=-1 mics_hierarchical_params_gather=False memory_efficient_linear=True pipeline_loading_checkpoint=False override_module_apply=True\n",
      "\u001b[36m(RayTrainWorker pid=1538, ip=10.127.0.21)\u001b[0m [2025-02-18 00:39:37,944] [INFO] [config.py:1001:print]   zero_enabled ................. True\n",
      "\u001b[36m(RayTrainWorker pid=1538, ip=10.127.0.21)\u001b[0m [2025-02-18 00:39:37,944] [INFO] [config.py:1001:print]   zero_force_ds_cpu_optimizer .. True\n",
      "\u001b[36m(RayTrainWorker pid=1538, ip=10.127.0.21)\u001b[0m [2025-02-18 00:39:37,944] [INFO] [config.py:1001:print]   zero_optimization_stage ...... 3\n",
      "\u001b[36m(RayTrainWorker pid=1538, ip=10.127.0.21)\u001b[0m [2025-02-18 00:39:37,944] [INFO] [config.py:987:print_user_config]   json = {\n",
      "\u001b[36m(RayTrainWorker pid=1538, ip=10.127.0.21)\u001b[0m     \"fp16\": {\n",
      "\u001b[36m(RayTrainWorker pid=1538, ip=10.127.0.21)\u001b[0m         \"enabled\": true, \n",
      "\u001b[36m(RayTrainWorker pid=1538, ip=10.127.0.21)\u001b[0m         \"initial_scale_power\": 8, \n",
      "\u001b[36m(RayTrainWorker pid=1538, ip=10.127.0.21)\u001b[0m         \"hysteresis\": 4, \n",
      "\u001b[36m(RayTrainWorker pid=1538, ip=10.127.0.21)\u001b[0m         \"consecutive_hysteresis\": true\n",
      "\u001b[36m(RayTrainWorker pid=1538, ip=10.127.0.21)\u001b[0m     }, \n",
      "\u001b[36m(RayTrainWorker pid=1538, ip=10.127.0.21)\u001b[0m     \"bf16\": {\n",
      "\u001b[36m(RayTrainWorker pid=1538, ip=10.127.0.21)\u001b[0m         \"enabled\": false\n",
      "\u001b[36m(RayTrainWorker pid=1538, ip=10.127.0.21)\u001b[0m     }, \n",
      "\u001b[36m(RayTrainWorker pid=1538, ip=10.127.0.21)\u001b[0m     \"optimizer\": {\n",
      "\u001b[36m(RayTrainWorker pid=1538, ip=10.127.0.21)\u001b[0m         \"type\": \"AdamW\", \n",
      "\u001b[36m(RayTrainWorker pid=1538, ip=10.127.0.21)\u001b[0m         \"params\": {\n",
      "\u001b[36m(RayTrainWorker pid=1538, ip=10.127.0.21)\u001b[0m             \"lr\": 2e-05, \n",
      "\u001b[36m(RayTrainWorker pid=1538, ip=10.127.0.21)\u001b[0m             \"betas\": [0.9, 0.999], \n",
      "\u001b[36m(RayTrainWorker pid=1538, ip=10.127.0.21)\u001b[0m             \"eps\": 1e-08\n",
      "\u001b[36m(RayTrainWorker pid=1538, ip=10.127.0.21)\u001b[0m         }\n",
      "\u001b[36m(RayTrainWorker pid=1538, ip=10.127.0.21)\u001b[0m     }, \n",
      "\u001b[36m(RayTrainWorker pid=1538, ip=10.127.0.21)\u001b[0m     \"zero_optimization\": {\n",
      "\u001b[36m(RayTrainWorker pid=1538, ip=10.127.0.21)\u001b[0m         \"stage\": 3, \n",
      "\u001b[36m(RayTrainWorker pid=1538, ip=10.127.0.21)\u001b[0m         \"offload_optimizer\": {\n",
      "\u001b[36m(RayTrainWorker pid=1538, ip=10.127.0.21)\u001b[0m             \"device\": \"cpu\", \n",
      "\u001b[36m(RayTrainWorker pid=1538, ip=10.127.0.21)\u001b[0m             \"pin_memory\": true\n",
      "\u001b[36m(RayTrainWorker pid=1538, ip=10.127.0.21)\u001b[0m         }, \n",
      "\u001b[36m(RayTrainWorker pid=1538, ip=10.127.0.21)\u001b[0m         \"overlap_comm\": true, \n",
      "\u001b[36m(RayTrainWorker pid=1538, ip=10.127.0.21)\u001b[0m         \"contiguous_gradients\": true, \n",
      "\u001b[36m(RayTrainWorker pid=1538, ip=10.127.0.21)\u001b[0m         \"reduce_bucket_size\": 1.677722e+07, \n",
      "\u001b[36m(RayTrainWorker pid=1538, ip=10.127.0.21)\u001b[0m         \"stage3_prefetch_bucket_size\": 1.509949e+07, \n",
      "\u001b[36m(RayTrainWorker pid=1538, ip=10.127.0.21)\u001b[0m         \"stage3_param_persistence_threshold\": 4.096000e+04, \n",
      "\u001b[36m(RayTrainWorker pid=1538, ip=10.127.0.21)\u001b[0m         \"gather_16bit_weights_on_model_save\": true, \n",
      "\u001b[36m(RayTrainWorker pid=1538, ip=10.127.0.21)\u001b[0m         \"round_robin_gradients\": true\n",
      "\u001b[36m(RayTrainWorker pid=1538, ip=10.127.0.21)\u001b[0m     }, \n",
      "\u001b[36m(RayTrainWorker pid=1538, ip=10.127.0.21)\u001b[0m     \"gradient_accumulation_steps\": 1, \n",
      "\u001b[36m(RayTrainWorker pid=1538, ip=10.127.0.21)\u001b[0m     \"gradient_clipping\": 1.0, \n",
      "\u001b[36m(RayTrainWorker pid=1538, ip=10.127.0.21)\u001b[0m     \"steps_per_print\": 10, \n",
      "\u001b[36m(RayTrainWorker pid=1538, ip=10.127.0.21)\u001b[0m     \"train_batch_size\": 48, \n",
      "\u001b[36m(RayTrainWorker pid=1538, ip=10.127.0.21)\u001b[0m     \"train_micro_batch_size_per_gpu\": 16, \n",
      "\u001b[36m(RayTrainWorker pid=1538, ip=10.127.0.21)\u001b[0m     \"wall_clock_breakdown\": false\n",
      "\u001b[36m(RayTrainWorker pid=1538, ip=10.127.0.21)\u001b[0m }\n"
     ]
    },
    {
     "name": "stderr",
     "output_type": "stream",
     "text": [
      "\u001b[36m(SplitCoordinator pid=1609, ip=10.127.0.21)\u001b[0m Starting execution of Dataset. Full logs are in /tmp/ray/session_2025-02-18_00-02-04_369354_12/logs/ray-data\n",
      "\u001b[36m(SplitCoordinator pid=1609, ip=10.127.0.21)\u001b[0m Execution plan of Dataset: InputDataBuffer[Input] -> TaskPoolMapOperator[MapBatches(split_text)->MapBatches(tokenize)] -> OutputSplitter[split(3, equal=True)]\n",
      "\u001b[36m(MapBatches(split_text)->MapBatches(tokenize) pid=1861, ip=10.127.0.21)\u001b[0m /tmp/ray/session_2025-02-18_00-02-04_369354_12/runtime_resources/pip/57c8f880f9a251101ddb29a582a94a0beca2f588/virtualenv/lib/python3.10/site-packages/huggingface_hub/file_download.py:795: FutureWarning: `resume_download` is deprecated and will be removed in version 1.0.0. Downloads always resume when possible. If you want to force a new download, use `force_download=True`.\n",
      "\u001b[36m(MapBatches(split_text)->MapBatches(tokenize) pid=1861, ip=10.127.0.21)\u001b[0m   warnings.warn(\n"
     ]
    },
    {
     "name": "stdout",
     "output_type": "stream",
     "text": [
      "\u001b[36m(RayTrainWorker pid=1538, ip=10.127.0.21)\u001b[0m [2025-02-18 00:40:20,268] [INFO] [loss_scaler.py:197:update_scale] Consecutive hysteresis is enabled. Restoring hysteresis to 4\n",
      "\u001b[36m(RayTrainWorker pid=1538, ip=10.127.0.21)\u001b[0m {'loss': 11.6172, 'learning_rate': 1.9736842105263158e-05, 'epoch': 0.01}\n",
      "\u001b[36m(RayTrainWorker pid=1070, ip=10.127.0.20)\u001b[0m {'loss': 11.6172, 'learning_rate': 1.9736842105263158e-05, 'epoch': 0.01}\n",
      "\u001b[36m(RayTrainWorker pid=637, ip=10.127.0.22)\u001b[0m {'loss': 11.6172, 'learning_rate': 1.9736842105263158e-05, 'epoch': 0.01}\n",
      "\u001b[36m(RayTrainWorker pid=1538, ip=10.127.0.21)\u001b[0m [2025-02-18 00:40:51,184] [INFO] [loss_scaler.py:197:update_scale] Consecutive hysteresis is enabled. Restoring hysteresis to 4\n",
      "\u001b[36m(RayTrainWorker pid=637, ip=10.127.0.22)\u001b[0m {'loss': 6.0716, 'learning_rate': 1.9473684210526318e-05, 'epoch': 0.03}\n",
      "\u001b[36m(RayTrainWorker pid=1538, ip=10.127.0.21)\u001b[0m [2025-02-18 00:40:53,758] [WARNING] [stage3.py:2069:step] 1 pytorch allocator cache flushes since last step. this happens when there is high memory pressure and is detrimental to performance. if this is happening frequently consider adjusting settings to reduce memory consumption. If you are unable to make the cache flushes go away consider adding get_accelerator().empty_cache() calls in your training loop to ensure that all ranks flush their caches at the same time\n",
      "\u001b[36m(RayTrainWorker pid=1538, ip=10.127.0.21)\u001b[0m {'loss': 6.0716, 'learning_rate': 1.9473684210526318e-05, 'epoch': 0.03}\n",
      "\u001b[36m(RayTrainWorker pid=1070, ip=10.127.0.20)\u001b[0m {'loss': 6.0716, 'learning_rate': 1.9473684210526318e-05, 'epoch': 0.03}\n",
      "\u001b[36m(RayTrainWorker pid=1538, ip=10.127.0.21)\u001b[0m [2025-02-18 00:41:19,982] [INFO] [loss_scaler.py:197:update_scale] Consecutive hysteresis is enabled. Restoring hysteresis to 4\n",
      "\u001b[36m(RayTrainWorker pid=637, ip=10.127.0.22)\u001b[0m {'loss': 2.099, 'learning_rate': 1.9210526315789474e-05, 'epoch': 0.04}\n",
      "\u001b[36m(RayTrainWorker pid=1538, ip=10.127.0.21)\u001b[0m {'loss': 2.099, 'learning_rate': 1.9210526315789474e-05, 'epoch': 0.04}\n",
      "\u001b[36m(RayTrainWorker pid=1070, ip=10.127.0.20)\u001b[0m {'loss': 2.099, 'learning_rate': 1.9210526315789474e-05, 'epoch': 0.04}\n",
      "\u001b[36m(RayTrainWorker pid=1538, ip=10.127.0.21)\u001b[0m [2025-02-18 00:41:48,036] [INFO] [loss_scaler.py:197:update_scale] Consecutive hysteresis is enabled. Restoring hysteresis to 4\n",
      "\u001b[36m(RayTrainWorker pid=1538, ip=10.127.0.21)\u001b[0m {'loss': 0.3514, 'learning_rate': 1.894736842105263e-05, 'epoch': 0.05}\n",
      "\u001b[36m(RayTrainWorker pid=637, ip=10.127.0.22)\u001b[0m {'loss': 0.3514, 'learning_rate': 1.894736842105263e-05, 'epoch': 0.05}\n",
      "\u001b[36m(RayTrainWorker pid=1070, ip=10.127.0.20)\u001b[0m {'loss': 0.3514, 'learning_rate': 1.894736842105263e-05, 'epoch': 0.05}\n",
      "\u001b[36m(RayTrainWorker pid=1538, ip=10.127.0.21)\u001b[0m [2025-02-18 00:42:16,270] [INFO] [loss_scaler.py:197:update_scale] Consecutive hysteresis is enabled. Restoring hysteresis to 4\n",
      "\u001b[36m(RayTrainWorker pid=1070, ip=10.127.0.20)\u001b[0m {'loss': 0.2684, 'learning_rate': 1.868421052631579e-05, 'epoch': 0.07}\n",
      "\u001b[36m(RayTrainWorker pid=637, ip=10.127.0.22)\u001b[0m {'loss': 0.2684, 'learning_rate': 1.868421052631579e-05, 'epoch': 0.07}\n",
      "\u001b[36m(RayTrainWorker pid=1538, ip=10.127.0.21)\u001b[0m {'loss': 0.2684, 'learning_rate': 1.868421052631579e-05, 'epoch': 0.07}\n",
      "\u001b[36m(RayTrainWorker pid=1538, ip=10.127.0.21)\u001b[0m [2025-02-18 00:42:44,723] [INFO] [loss_scaler.py:197:update_scale] Consecutive hysteresis is enabled. Restoring hysteresis to 4\n",
      "\u001b[36m(RayTrainWorker pid=637, ip=10.127.0.22)\u001b[0m {'loss': 0.1809, 'learning_rate': 1.8421052631578947e-05, 'epoch': 0.08}\n",
      "\u001b[36m(RayTrainWorker pid=1070, ip=10.127.0.20)\u001b[0m {'loss': 0.1809, 'learning_rate': 1.8421052631578947e-05, 'epoch': 0.08}\n",
      "\u001b[36m(RayTrainWorker pid=1538, ip=10.127.0.21)\u001b[0m {'loss': 0.1809, 'learning_rate': 1.8421052631578947e-05, 'epoch': 0.08}\n",
      "\u001b[36m(RayTrainWorker pid=1538, ip=10.127.0.21)\u001b[0m [2025-02-18 00:43:13,270] [INFO] [loss_scaler.py:197:update_scale] Consecutive hysteresis is enabled. Restoring hysteresis to 4\n",
      "\u001b[36m(RayTrainWorker pid=637, ip=10.127.0.22)\u001b[0m {'loss': 0.1182, 'learning_rate': 1.8157894736842107e-05, 'epoch': 0.09}\n",
      "\u001b[36m(RayTrainWorker pid=1070, ip=10.127.0.20)\u001b[0m {'loss': 0.1182, 'learning_rate': 1.8157894736842107e-05, 'epoch': 0.09}\n",
      "\u001b[36m(RayTrainWorker pid=1538, ip=10.127.0.21)\u001b[0m {'loss': 0.1182, 'learning_rate': 1.8157894736842107e-05, 'epoch': 0.09}\n",
      "\u001b[36m(RayTrainWorker pid=1538, ip=10.127.0.21)\u001b[0m [2025-02-18 00:43:41,880] [INFO] [loss_scaler.py:197:update_scale] Consecutive hysteresis is enabled. Restoring hysteresis to 4\n",
      "\u001b[36m(RayTrainWorker pid=637, ip=10.127.0.22)\u001b[0m {'loss': 0.0923, 'learning_rate': 1.7894736842105264e-05, 'epoch': 0.11}\n",
      "\u001b[36m(RayTrainWorker pid=1070, ip=10.127.0.20)\u001b[0m {'loss': 0.0923, 'learning_rate': 1.7894736842105264e-05, 'epoch': 0.11}\n",
      "\u001b[36m(RayTrainWorker pid=1538, ip=10.127.0.21)\u001b[0m {'loss': 0.0923, 'learning_rate': 1.7894736842105264e-05, 'epoch': 0.11}\n"
     ]
    }
   ],
   "source": [
    "ray.init(address=RAY_ADDRESS,runtime_env=RUNTIME_ENV)"
   ]
  },
  {
   "cell_type": "markdown",
   "id": "9d9a032e-d15e-4204-9c87-a045ddf0e601",
   "metadata": {},
   "source": [
    "### Model and cluster configuration"
   ]
  },
  {
   "cell_type": "code",
   "execution_count": 9,
   "id": "876b0ef5-6605-4290-acac-a19cd759b50a",
   "metadata": {
    "tags": []
   },
   "outputs": [],
   "source": [
    "model_name = \"EleutherAI/gpt-j-6B\"\n",
    "use_gpu = True\n",
    "num_gpus = 2\n",
    "num_workers = 3\n",
    "cpus_per_worker = 6  # g2-standard-24 : https://cloud.google.com/compute/docs/gpus#l4-gpus"
   ]
  },
  {
   "cell_type": "markdown",
   "id": "c52accab-46e4-4f36-9eee-3234c320c1d8",
   "metadata": {},
   "source": [
    "### Dataset"
   ]
  },
  {
   "cell_type": "code",
   "execution_count": 10,
   "id": "9414b6da-dd32-4c47-8bee-1a41b84965bd",
   "metadata": {
    "tags": []
   },
   "outputs": [],
   "source": [
    "# from datasets import load_dataset\n",
    "\n",
    "# print(\"Loading tiny_shakespeare dataset\")\n",
    "# current_dataset = load_dataset(\"tatsu-lab/alpaca\")\n",
    "# current_dataset"
   ]
  },
  {
   "cell_type": "code",
   "execution_count": 11,
   "id": "9da4b3c5-da3f-4c2e-9057-3b5e27c9ff24",
   "metadata": {
    "tags": []
   },
   "outputs": [],
   "source": [
    "# from datasets.dataset_dict import DatasetDict\n",
    "\n",
    "# slice_dataset = DatasetDict({'train': current_dataset['train'].select(range(2000))})\n",
    "# slice_dataset"
   ]
  },
  {
   "cell_type": "code",
   "execution_count": 12,
   "id": "7b0778dd-5bab-499f-9e02-0acd72cab69a",
   "metadata": {
    "tags": []
   },
   "outputs": [],
   "source": [
    "# train_dataset, validation_dataset= slice_dataset['train'].train_test_split(test_size=0.1).values()\n",
    "# dataset = DatasetDict({'train': train_dataset, 'validation': validation_dataset})\n",
    "# dataset"
   ]
  },
  {
   "cell_type": "code",
   "execution_count": 13,
   "id": "b69f5c20-1acd-41e8-bd7f-7565ef8c9be2",
   "metadata": {
    "tags": []
   },
   "outputs": [],
   "source": [
    "import ray.data\n",
    "\n",
    "@ray.remote\n",
    "def data_manage():\n",
    "\n",
    "    from datasets import load_dataset\n",
    "    from datasets.dataset_dict import DatasetDict\n",
    "\n",
    "    print(\"Loading tiny_shakespeare dataset\")\n",
    "    current_dataset = load_dataset(\"tatsu-lab/alpaca\")\n",
    "\n",
    "    slice_dataset = DatasetDict({'train': current_dataset['train'].select(range(2000))})\n",
    "\n",
    "    train_dataset, validation_dataset= slice_dataset['train'].train_test_split(test_size=0.1).values()\n",
    "    dataset = DatasetDict({'train': train_dataset, 'validation': validation_dataset})\n",
    "\n",
    "    ray_datasets = {\n",
    "        \"train\": ray.data.from_huggingface(dataset[\"train\"]),\n",
    "        \"validation\": ray.data.from_huggingface(dataset[\"validation\"]),\n",
    "    }\n",
    "\n",
    "    return ray_datasets\n"
   ]
  },
  {
   "cell_type": "code",
   "execution_count": 14,
   "id": "4c462376-41e9-4f9c-b116-292d1d2e2321",
   "metadata": {
    "tags": []
   },
   "outputs": [],
   "source": [
    "ray_datasets = ray.get(data_manage.remote())"
   ]
  },
  {
   "cell_type": "markdown",
   "id": "9a1b0341-e488-4061-a3a4-835bf1524e8c",
   "metadata": {},
   "source": [
    "### Training"
   ]
  },
  {
   "cell_type": "code",
   "execution_count": 15,
   "id": "b95cdd7e-798b-4f10-befe-6ffc279ddfd4",
   "metadata": {
    "tags": []
   },
   "outputs": [],
   "source": [
    "block_size = 512\n"
   ]
  },
  {
   "cell_type": "code",
   "execution_count": 16,
   "id": "1455f72c-fd2a-4efb-ad4b-152d00ed22b5",
   "metadata": {
    "tags": []
   },
   "outputs": [
    {
     "data": {
      "text/plain": [
       "{'train': MapBatches(tokenize)\n",
       " +- MapBatches(split_text)\n",
       "    +- Dataset(\n",
       "          num_rows=1800,\n",
       "          schema={\n",
       "             instruction: string,\n",
       "             input: string,\n",
       "             output: string,\n",
       "             text: string\n",
       "          }\n",
       "       ),\n",
       " 'validation': MapBatches(tokenize)\n",
       " +- MapBatches(split_text)\n",
       "    +- Dataset(\n",
       "          num_rows=200,\n",
       "          schema={\n",
       "             instruction: string,\n",
       "             input: string,\n",
       "             output: string,\n",
       "             text: string\n",
       "          }\n",
       "       )}"
      ]
     },
     "execution_count": 16,
     "metadata": {},
     "output_type": "execute_result"
    }
   ],
   "source": [
    "from transformers import AutoTokenizer\n",
    "\n",
    "def split_text(batch: pd.DataFrame) -> pd.DataFrame:\n",
    "    text = list(batch[\"text\"])\n",
    "    flat_text = \"\".join(text)\n",
    "    split_text = [\n",
    "        x.strip()\n",
    "        for x in flat_text.split(\"\\n\")\n",
    "        if x.strip() and not x.strip()[-1] == \":\"\n",
    "    ]\n",
    "    return pd.DataFrame(split_text, columns=[\"text\"])\n",
    "\n",
    "\n",
    "def tokenize(batch: pd.DataFrame) -> dict:\n",
    "    tokenizer = AutoTokenizer.from_pretrained(model_name, use_fast=True)\n",
    "    tokenizer.pad_token = tokenizer.eos_token\n",
    "    ret = tokenizer(\n",
    "        list(batch[\"text\"]),\n",
    "        truncation=True,\n",
    "        max_length=block_size,\n",
    "        padding=\"max_length\",\n",
    "        return_tensors=\"np\",\n",
    "    )\n",
    "    ret[\"labels\"] = ret[\"input_ids\"].copy()\n",
    "    return dict(ret)\n",
    "\n",
    "\n",
    "processed_datasets = {\n",
    "    key: (\n",
    "        ds.map_batches(split_text, batch_format=\"pandas\")\n",
    "        .map_batches(tokenize, batch_format=\"pandas\")\n",
    "    )\n",
    "    for key, ds in ray_datasets.items()\n",
    "}\n",
    "processed_datasets\n"
   ]
  },
  {
   "cell_type": "code",
   "execution_count": 17,
   "id": "6f064f44-0998-4579-90f9-c9a8ef28dba0",
   "metadata": {
    "tags": []
   },
   "outputs": [
    {
     "name": "stdout",
     "output_type": "stream",
     "text": [
      "[2025-02-18 00:34:48,484] [INFO] [real_accelerator.py:222:get_accelerator] Setting ds_accelerator to cuda (auto detect)\n"
     ]
    },
    {
     "name": "stderr",
     "output_type": "stream",
     "text": [
      "WARNING: All log messages before absl::InitializeLog() is called are written to STDERR\n",
      "I0000 00:00:1739838888.323429 3800410 fork_posix.cc:75] Other threads are currently calling into gRPC, skipping fork() handlers\n",
      "I0000 00:00:1739838888.352192 3800410 fork_posix.cc:75] Other threads are currently calling into gRPC, skipping fork() handlers\n",
      "/opt/conda/compiler_compat/ld: cannot find -laio: No such file or directory\n",
      "collect2: error: ld returned 1 exit status\n",
      "/opt/conda/compiler_compat/ld: /usr/local/cuda/lib64/libcufile.so: undefined reference to `dlopen'\n",
      "/opt/conda/compiler_compat/ld: /usr/local/cuda/lib64/libcufile.so: undefined reference to `dlclose'\n",
      "/opt/conda/compiler_compat/ld: /usr/local/cuda/lib64/libcufile.so: undefined reference to `dlerror'\n",
      "/opt/conda/compiler_compat/ld: /usr/local/cuda/lib64/libcufile.so: undefined reference to `dlsym'\n",
      "collect2: error: ld returned 1 exit status\n"
     ]
    }
   ],
   "source": [
    "import evaluate\n",
    "import torch\n",
    "from transformers import (\n",
    "    Trainer,\n",
    "    TrainingArguments,\n",
    "    GPTJForCausalLM,\n",
    "    AutoTokenizer,\n",
    "    default_data_collator,\n",
    ")\n",
    "from transformers.utils.logging import disable_progress_bar, enable_progress_bar\n",
    "\n",
    "from ray import train\n",
    "from ray.train.huggingface.transformers import prepare_trainer, RayTrainReportCallback\n",
    "\n",
    "def train_func(config):\n",
    "    # Use the actual number of CPUs assigned by Ray\n",
    "    os.environ[\"OMP_NUM_THREADS\"] = str(\n",
    "        train.get_context().get_trial_resources().bundles[-1].get(\"CPU\", 1)\n",
    "    )\n",
    "    # Enable tf32 for better performance\n",
    "    torch.backends.cuda.matmul.allow_tf32 = True\n",
    "\n",
    "    batch_size = config.get(\"batch_size\", 4)\n",
    "    epochs = config.get(\"epochs\", 2)\n",
    "    warmup_steps = config.get(\"warmup_steps\", 0)\n",
    "    learning_rate = config.get(\"learning_rate\", 0.00002)\n",
    "    weight_decay = config.get(\"weight_decay\", 0.01)\n",
    "    steps_per_epoch = config.get(\"steps_per_epoch\")\n",
    "\n",
    "    deepspeed = {\n",
    "        \"fp16\": {\n",
    "            \"enabled\": \"auto\",\n",
    "            \"initial_scale_power\": 8,\n",
    "            \"hysteresis\": 4,\n",
    "            \"consecutive_hysteresis\": True,\n",
    "        },\n",
    "        \"bf16\": {\"enabled\": \"auto\"},\n",
    "        \"optimizer\": {\n",
    "            \"type\": \"AdamW\",\n",
    "            \"params\": {\n",
    "                \"lr\": \"auto\",\n",
    "                \"betas\": \"auto\",\n",
    "                \"eps\": \"auto\",\n",
    "            },\n",
    "        },\n",
    "        \"zero_optimization\": {\n",
    "            \"stage\": 3,\n",
    "            \"offload_optimizer\": {\n",
    "                \"device\": \"cpu\",\n",
    "                \"pin_memory\": True,\n",
    "            },\n",
    "            \"overlap_comm\": True,\n",
    "            \"contiguous_gradients\": True,\n",
    "            \"reduce_bucket_size\": \"auto\",\n",
    "            \"stage3_prefetch_bucket_size\": \"auto\",\n",
    "            \"stage3_param_persistence_threshold\": \"auto\",\n",
    "            \"gather_16bit_weights_on_model_save\": True,\n",
    "            \"round_robin_gradients\": True,\n",
    "        },\n",
    "        \"gradient_accumulation_steps\": \"auto\",\n",
    "        \"gradient_clipping\": \"auto\",\n",
    "        \"steps_per_print\": 10,\n",
    "        \"train_batch_size\": \"auto\",\n",
    "        \"train_micro_batch_size_per_gpu\": \"auto\",\n",
    "        \"wall_clock_breakdown\": False,\n",
    "    }\n",
    "\n",
    "    print(\"Preparing training arguments\")\n",
    "    training_args = TrainingArguments(\n",
    "        \"output\",\n",
    "        logging_steps=1,\n",
    "        save_strategy=\"steps\",\n",
    "        save_steps=steps_per_epoch,\n",
    "        max_steps=steps_per_epoch * epochs,\n",
    "        per_device_train_batch_size=batch_size,\n",
    "        gradient_accumulation_steps=1,\n",
    "        learning_rate=learning_rate,\n",
    "        weight_decay=weight_decay,\n",
    "        warmup_steps=warmup_steps,\n",
    "        label_names=[\"input_ids\", \"attention_mask\"],\n",
    "        push_to_hub=False,\n",
    "        report_to=\"none\",\n",
    "        disable_tqdm=True,  # declutter the output a little\n",
    "        fp16=True,\n",
    "        gradient_checkpointing=True,\n",
    "        deepspeed=deepspeed,\n",
    "    )\n",
    "    disable_progress_bar()\n",
    "\n",
    "    tokenizer = AutoTokenizer.from_pretrained(model_name)\n",
    "    tokenizer.pad_token = tokenizer.eos_token\n",
    "\n",
    "    print(\"Loading model\")\n",
    "\n",
    "    model = GPTJForCausalLM.from_pretrained(model_name, use_cache=False)\n",
    "    model.resize_token_embeddings(len(tokenizer))\n",
    "\n",
    "    print(\"Model loaded\")\n",
    "\n",
    "    enable_progress_bar()\n",
    "\n",
    "    metric = evaluate.load(\"accuracy\")\n",
    "\n",
    "    train_ds = train.get_dataset_shard(\"train\")\n",
    "    eval_ds = train.get_dataset_shard(\"validation\")\n",
    "\n",
    "    train_ds_iterable = train_ds.iter_torch_batches(\n",
    "        batch_size=batch_size,\n",
    "        local_shuffle_buffer_size=train.get_context().get_world_size() * batch_size,\n",
    "    )\n",
    "    eval_ds_iterable = eval_ds.iter_torch_batches(batch_size=batch_size)\n",
    "\n",
    "    def compute_metrics(eval_pred):\n",
    "        logits, labels = eval_pred\n",
    "        predictions = np.argmax(logits, axis=-1)\n",
    "        return metric.compute(predictions=predictions, references=labels)\n",
    "\n",
    "    trainer = Trainer(\n",
    "        model=model,\n",
    "        args=training_args,\n",
    "        train_dataset=train_ds_iterable,\n",
    "        eval_dataset=eval_ds_iterable,\n",
    "        compute_metrics=compute_metrics,\n",
    "        tokenizer=tokenizer,\n",
    "        data_collator=default_data_collator,\n",
    "    )\n",
    "\n",
    "    # Add callback to report checkpoints to Ray Train\n",
    "    trainer.add_callback(RayTrainReportCallback())\n",
    "    trainer = prepare_trainer(trainer)\n",
    "    trainer.train()"
   ]
  },
  {
   "cell_type": "code",
   "execution_count": 18,
   "id": "84d8dee6-0659-4f38-ad96-ce6315399a55",
   "metadata": {
    "tags": []
   },
   "outputs": [],
   "source": [
    "\n",
    "storage_path = \"gs://sllm_checkpoints/tmp_store/deepspeed/\"\n"
   ]
  },
  {
   "cell_type": "code",
   "execution_count": 19,
   "id": "1e1ddc5c-b467-496a-b3c1-7173e3fdcb6d",
   "metadata": {
    "tags": []
   },
   "outputs": [
    {
     "data": {
      "text/plain": [
       "38"
      ]
     },
     "execution_count": 19,
     "metadata": {},
     "output_type": "execute_result"
    }
   ],
   "source": [
    "\n",
    "batch_size = 16\n",
    "# train_ds_size = processed_datasets[\"train\"].count()\n",
    "# steps_per_epoch = train_ds_size // (batch_size * num_workers)\n",
    "\n",
    "train_ds_size = 1800    \n",
    "steps_per_epoch = round(train_ds_size / (batch_size * num_workers))\n",
    "steps_per_epoch"
   ]
  },
  {
   "cell_type": "code",
   "execution_count": 20,
   "id": "499c2091-9d7e-4030-9f2d-7978c1ef8503",
   "metadata": {
    "tags": []
   },
   "outputs": [],
   "source": [
    "from ray.train.torch import TorchTrainer\n",
    "from ray.train import RunConfig, ScalingConfig\n",
    "\n",
    "trainer = TorchTrainer(\n",
    "    train_loop_per_worker=train_func,\n",
    "    train_loop_config={\n",
    "        \"epochs\": 2,\n",
    "        \"batch_size\": batch_size,  # per device\n",
    "        \"steps_per_epoch\": steps_per_epoch,\n",
    "    },\n",
    "    scaling_config=ScalingConfig(\n",
    "        num_workers=num_workers,\n",
    "        use_gpu=use_gpu,\n",
    "        resources_per_worker={\n",
    "            \"GPU\": num_gpus, \n",
    "            \"CPU\": cpus_per_worker\n",
    "        },\n",
    "    ),\n",
    "    datasets=processed_datasets,\n",
    "    run_config=RunConfig(storage_path=storage_path),\n",
    ")"
   ]
  },
  {
   "cell_type": "code",
   "execution_count": null,
   "id": "953f4826-8467-413c-804e-f0af59a87e35",
   "metadata": {
    "tags": []
   },
   "outputs": [
    {
     "data": {
      "text/html": [],
      "text/plain": [
       "<IPython.core.display.HTML object>"
      ]
     },
     "metadata": {},
     "output_type": "display_data"
    }
   ],
   "source": [
    "results = trainer.fit()"
   ]
  },
  {
   "cell_type": "code",
   "execution_count": null,
   "id": "8eaf9ac0-f763-49cd-9eaa-45a91017bfea",
   "metadata": {},
   "outputs": [],
   "source": []
  },
  {
   "cell_type": "code",
   "execution_count": null,
   "id": "2646793f-66fc-429c-945b-b641f6bf4a27",
   "metadata": {},
   "outputs": [],
   "source": []
  },
  {
   "cell_type": "code",
   "execution_count": null,
   "id": "4f6a1b37-0e9e-417f-820b-6b8962ff1453",
   "metadata": {},
   "outputs": [],
   "source": []
  },
  {
   "cell_type": "code",
   "execution_count": null,
   "id": "17aee9e1-9e46-4b36-8596-b25ff0bc2197",
   "metadata": {
    "tags": []
   },
   "outputs": [],
   "source": [
    "# checkpoint = results.checkpoint\n",
    "# checkpoint"
   ]
  },
  {
   "cell_type": "code",
   "execution_count": null,
   "id": "daf44981-2661-4c1e-beac-8b347b32120a",
   "metadata": {},
   "outputs": [],
   "source": [
    "# import os\n",
    "\n",
    "# os.system(f\"aws s3 sync s3://{checkpoint.path} /mnt/local_storage/\")"
   ]
  },
  {
   "cell_type": "code",
   "execution_count": null,
   "id": "0e599485-d0ae-403c-9b07-cbc4c0527395",
   "metadata": {},
   "outputs": [],
   "source": [
    "# from transformers import pipeline, AutoTokenizer, GPTJForCausalLM\n",
    "\n",
    "# model = GPTJForCausalLM.from_pretrained(\"/mnt/local_storage/checkpoint\")\n",
    "# tokenizer = AutoTokenizer.from_pretrained(\"/mnt/local_storage/checkpoint\")\n",
    "\n",
    "# pipe = pipeline(\n",
    "#     model=model,\n",
    "#     tokenizer=tokenizer,\n",
    "#     task=\"text-generation\",\n",
    "#     torch_dtype=torch.float16,\n",
    "#     device_map=\"auto\",\n",
    "# )"
   ]
  },
  {
   "cell_type": "code",
   "execution_count": null,
   "id": "72caea4f-ec55-4f32-9393-4d382fd7ce76",
   "metadata": {},
   "outputs": [],
   "source": [
    "# # Generate from prompts!\n",
    "# for sentence in pipe(\n",
    "#     [\"Romeo and Juliet\", \"Romeo\", \"Juliet\"], do_sample=True, min_length=20\n",
    "# ):\n",
    "#     print(sentence)"
   ]
  },
  {
   "cell_type": "code",
   "execution_count": null,
   "id": "60a81d94-f941-4085-8741-d9382b9f1bb9",
   "metadata": {},
   "outputs": [],
   "source": []
  }
 ],
 "metadata": {
  "environment": {
   "kernel": "conda-base-py",
   "name": "workbench-notebooks.m127",
   "type": "gcloud",
   "uri": "us-docker.pkg.dev/deeplearning-platform-release/gcr.io/workbench-notebooks:m127"
  },
  "kernelspec": {
   "display_name": "Python 3 (ipykernel) (Local)",
   "language": "python",
   "name": "conda-base-py"
  },
  "language_info": {
   "codemirror_mode": {
    "name": "ipython",
    "version": 3
   },
   "file_extension": ".py",
   "mimetype": "text/x-python",
   "name": "python",
   "nbconvert_exporter": "python",
   "pygments_lexer": "ipython3",
   "version": "3.10.16"
  }
 },
 "nbformat": 4,
 "nbformat_minor": 5
}
