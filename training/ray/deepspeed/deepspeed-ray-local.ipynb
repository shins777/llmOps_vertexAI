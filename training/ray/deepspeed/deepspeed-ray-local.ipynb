{
 "cells": [
  {
   "cell_type": "markdown",
   "id": "feb25396-c162-47f0-adf5-10a155411d59",
   "metadata": {},
   "source": [
    "\n",
    "\n",
    "* https://docs.ray.io/en/latest/train/examples/deepspeed/gptj_deepspeed_fine_tuning.html"
   ]
  },
  {
   "cell_type": "code",
   "execution_count": 1,
   "id": "8fcda7da-c4d9-4e29-b265-ff01effd405f",
   "metadata": {
    "tags": []
   },
   "outputs": [],
   "source": [
    "!pip install --user -q \"google-cloud-aiplatform[ray]>=1.56.0\" \\\n",
    "                        \"ray[data,train,tune,serve]>=2.9.3\" \\\n",
    "                          \"transformers==4.27.4\" \\\n",
    "                          \"deepspeed>=0.14.4\" \\\n",
    "                          \"torch==2.1.2\""
   ]
  },
  {
   "cell_type": "code",
   "execution_count": 2,
   "id": "d80c6b95-e6eb-4fb5-979b-847b94d4f467",
   "metadata": {
    "tags": []
   },
   "outputs": [],
   "source": [
    "import numpy as np\n",
    "import pandas as pd\n",
    "import os\n",
    "\n",
    "import ray\n"
   ]
  },
  {
   "cell_type": "code",
   "execution_count": 71,
   "id": "567a97a5-5051-4be5-8131-52564a39a13f",
   "metadata": {
    "tags": []
   },
   "outputs": [],
   "source": [
    "model_name = \"EleutherAI/gpt-j-6B\"\n",
    "use_gpu = True\n",
    "num_workers = 2\n",
    "cpus_per_worker = 2"
   ]
  },
  {
   "cell_type": "code",
   "execution_count": 72,
   "id": "5abd898f-5df7-4c8d-843e-38ce1167b541",
   "metadata": {
    "tags": []
   },
   "outputs": [],
   "source": [
    "ray.shutdown()"
   ]
  },
  {
   "cell_type": "code",
   "execution_count": 73,
   "id": "3ab8495e-596f-4152-9bd1-b162ea676ade",
   "metadata": {
    "tags": []
   },
   "outputs": [],
   "source": [
    "RUNTIME_ENV = {\n",
    "  \"pip\": [\n",
    "      \"google-cloud-aiplatform[ray]>=1.56.0\",\n",
    "      \"ray[data,train,tune,serve]>=2.9.3\",\n",
    "      \"datasets\",\n",
    "      \"evaluate\",\n",
    "      \"accelerate==0.18.0\",\n",
    "      \"transformers==4.26.0\",\n",
    "      \"torch>=1.12.0\",\n",
    "      \"deepspeed==0.12.3\",\n",
    "      \"setuptools\"\n",
    "  ],\n",
    "}"
   ]
  },
  {
   "cell_type": "code",
   "execution_count": 74,
   "id": "1b09947d-9554-40aa-9327-5624777efb9c",
   "metadata": {
    "tags": []
   },
   "outputs": [
    {
     "name": "stderr",
     "output_type": "stream",
     "text": [
      "2025-02-17 09:23:44,009\tINFO worker.py:1715 -- Started a local Ray instance. View the dashboard at \u001b[1m\u001b[32m127.0.0.1:8268 \u001b[39m\u001b[22m\n"
     ]
    },
    {
     "data": {
      "application/vnd.jupyter.widget-view+json": {
       "model_id": "2cf1087122a04b6dbe665ca95a77f49e",
       "version_major": 2,
       "version_minor": 0
      },
      "text/html": [
       "<div class=\"lm-Widget p-Widget lm-Panel p-Panel jp-Cell-outputWrapper\">\n",
       "    <div style=\"margin-left: 50px;display: flex;flex-direction: row;align-items: center\">\n",
       "        <div class=\"jp-RenderedHTMLCommon\" style=\"display: flex; flex-direction: row;\">\n",
       "  <svg viewBox=\"0 0 567 224\" fill=\"none\" xmlns=\"http://www.w3.org/2000/svg\" style=\"height: 3em;\">\n",
       "    <g clip-path=\"url(#clip0_4338_178347)\">\n",
       "        <path d=\"M341.29 165.561H355.29L330.13 129.051C345.63 123.991 354.21 112.051 354.21 94.2307C354.21 71.3707 338.72 58.1807 311.88 58.1807H271V165.561H283.27V131.661H311.8C314.25 131.661 316.71 131.501 319.01 131.351L341.25 165.561H341.29ZM283.29 119.851V70.0007H311.82C331.3 70.0007 342.34 78.2907 342.34 94.5507C342.34 111.271 331.34 119.861 311.82 119.861L283.29 119.851ZM451.4 138.411L463.4 165.561H476.74L428.74 58.1807H416L367.83 165.561H380.83L392.83 138.411H451.4ZM446.19 126.601H398L422 72.1407L446.24 126.601H446.19ZM526.11 128.741L566.91 58.1807H554.35L519.99 114.181L485.17 58.1807H472.44L514.01 129.181V165.541H526.13V128.741H526.11Z\" fill=\"var(--jp-ui-font-color0)\"/>\n",
       "        <path d=\"M82.35 104.44C84.0187 97.8827 87.8248 92.0678 93.1671 87.9146C98.5094 83.7614 105.083 81.5067 111.85 81.5067C118.617 81.5067 125.191 83.7614 130.533 87.9146C135.875 92.0678 139.681 97.8827 141.35 104.44H163.75C164.476 101.562 165.622 98.8057 167.15 96.2605L127.45 56.5605C121.071 60.3522 113.526 61.6823 106.235 60.3005C98.9443 58.9187 92.4094 54.9203 87.8602 49.0574C83.3109 43.1946 81.0609 35.8714 81.5332 28.4656C82.0056 21.0599 85.1679 14.0819 90.4252 8.8446C95.6824 3.60726 102.672 0.471508 110.08 0.0272655C117.487 -0.416977 124.802 1.86091 130.647 6.4324C136.493 11.0039 140.467 17.5539 141.821 24.8501C143.175 32.1463 141.816 39.6859 138 46.0505L177.69 85.7505C182.31 82.9877 187.58 81.4995 192.962 81.4375C198.345 81.3755 203.648 82.742 208.33 85.3976C213.012 88.0532 216.907 91.9029 219.616 96.5544C222.326 101.206 223.753 106.492 223.753 111.875C223.753 117.258 222.326 122.545 219.616 127.197C216.907 131.848 213.012 135.698 208.33 138.353C203.648 141.009 198.345 142.375 192.962 142.313C187.58 142.251 182.31 140.763 177.69 138L138 177.7C141.808 184.071 143.155 191.614 141.79 198.91C140.424 206.205 136.44 212.75 130.585 217.313C124.731 221.875 117.412 224.141 110.004 223.683C102.596 223.226 95.6103 220.077 90.3621 214.828C85.1139 209.58 81.9647 202.595 81.5072 195.187C81.0497 187.779 83.3154 180.459 87.878 174.605C92.4405 168.751 98.9853 164.766 106.281 163.401C113.576 162.035 121.119 163.383 127.49 167.19L167.19 127.49C165.664 124.941 164.518 122.182 163.79 119.3H141.39C139.721 125.858 135.915 131.673 130.573 135.826C125.231 139.98 118.657 142.234 111.89 142.234C105.123 142.234 98.5494 139.98 93.2071 135.826C87.8648 131.673 84.0587 125.858 82.39 119.3H60C58.1878 126.495 53.8086 132.78 47.6863 136.971C41.5641 141.163 34.1211 142.972 26.7579 142.059C19.3947 141.146 12.6191 137.574 7.70605 132.014C2.79302 126.454 0.0813599 119.29 0.0813599 111.87C0.0813599 104.451 2.79302 97.2871 7.70605 91.7272C12.6191 86.1673 19.3947 82.5947 26.7579 81.6817C34.1211 80.7686 41.5641 82.5781 47.6863 86.7696C53.8086 90.9611 58.1878 97.2456 60 104.44H82.35ZM100.86 204.32C103.407 206.868 106.759 208.453 110.345 208.806C113.93 209.159 117.527 208.258 120.522 206.256C123.517 204.254 125.725 201.276 126.771 197.828C127.816 194.38 127.633 190.677 126.253 187.349C124.874 184.021 122.383 181.274 119.205 179.577C116.027 177.88 112.359 177.337 108.826 178.042C105.293 178.746 102.113 180.654 99.8291 183.44C97.5451 186.226 96.2979 189.718 96.3 193.32C96.2985 195.364 96.7006 197.388 97.4831 199.275C98.2656 201.163 99.4132 202.877 100.86 204.32ZM204.32 122.88C206.868 120.333 208.453 116.981 208.806 113.396C209.159 109.811 208.258 106.214 206.256 103.219C204.254 100.223 201.275 98.0151 197.827 96.97C194.38 95.9249 190.676 96.1077 187.348 97.4873C184.02 98.8669 181.274 101.358 179.577 104.536C177.879 107.714 177.337 111.382 178.041 114.915C178.746 118.448 180.653 121.627 183.439 123.911C186.226 126.195 189.717 127.443 193.32 127.44C195.364 127.443 197.388 127.042 199.275 126.259C201.163 125.476 202.878 124.328 204.32 122.88ZM122.88 19.4205C120.333 16.8729 116.981 15.2876 113.395 14.9347C109.81 14.5817 106.213 15.483 103.218 17.4849C100.223 19.4868 98.0146 22.4654 96.9696 25.9131C95.9245 29.3608 96.1073 33.0642 97.4869 36.3922C98.8665 39.7202 101.358 42.4668 104.535 44.1639C107.713 45.861 111.381 46.4036 114.914 45.6992C118.447 44.9949 121.627 43.0871 123.911 40.301C126.195 37.515 127.442 34.0231 127.44 30.4205C127.44 28.3772 127.038 26.3539 126.255 24.4664C125.473 22.5788 124.326 20.8642 122.88 19.4205ZM19.42 100.86C16.8725 103.408 15.2872 106.76 14.9342 110.345C14.5813 113.93 15.4826 117.527 17.4844 120.522C19.4863 123.518 22.4649 125.726 25.9127 126.771C29.3604 127.816 33.0638 127.633 36.3918 126.254C39.7198 124.874 42.4664 122.383 44.1635 119.205C45.8606 116.027 46.4032 112.359 45.6988 108.826C44.9944 105.293 43.0866 102.114 40.3006 99.8296C37.5145 97.5455 34.0227 96.2983 30.42 96.3005C26.2938 96.3018 22.337 97.9421 19.42 100.86ZM100.86 100.86C98.3125 103.408 96.7272 106.76 96.3742 110.345C96.0213 113.93 96.9226 117.527 98.9244 120.522C100.926 123.518 103.905 125.726 107.353 126.771C110.8 127.816 114.504 127.633 117.832 126.254C121.16 124.874 123.906 122.383 125.604 119.205C127.301 116.027 127.843 112.359 127.139 108.826C126.434 105.293 124.527 102.114 121.741 99.8296C118.955 97.5455 115.463 96.2983 111.86 96.3005C109.817 96.299 107.793 96.701 105.905 97.4835C104.018 98.2661 102.303 99.4136 100.86 100.86Z\" fill=\"#00AEEF\"/>\n",
       "    </g>\n",
       "    <defs>\n",
       "        <clipPath id=\"clip0_4338_178347\">\n",
       "            <rect width=\"566.93\" height=\"223.75\" fill=\"white\"/>\n",
       "        </clipPath>\n",
       "    </defs>\n",
       "  </svg>\n",
       "</div>\n",
       "\n",
       "        <table class=\"jp-RenderedHTMLCommon\" style=\"border-collapse: collapse;color: var(--jp-ui-font-color1);font-size: var(--jp-ui-font-size1);\">\n",
       "    <tr>\n",
       "        <td style=\"text-align: left\"><b>Python version:</b></td>\n",
       "        <td style=\"text-align: left\"><b>3.10.16</b></td>\n",
       "    </tr>\n",
       "    <tr>\n",
       "        <td style=\"text-align: left\"><b>Ray version:</b></td>\n",
       "        <td style=\"text-align: left\"><b>2.9.3</b></td>\n",
       "    </tr>\n",
       "    <tr>\n",
       "    <td style=\"text-align: left\"><b>Dashboard:</b></td>\n",
       "    <td style=\"text-align: left\"><b><a href=\"http://127.0.0.1:8268\" target=\"_blank\">http://127.0.0.1:8268</a></b></td>\n",
       "</tr>\n",
       "\n",
       "</table>\n",
       "\n",
       "    </div>\n",
       "</div>\n"
      ],
      "text/plain": [
       "RayContext(dashboard_url='127.0.0.1:8268', python_version='3.10.16', ray_version='2.9.3', ray_commit='62655e11ed76509b78654b60be67bc59f8f3460a', protocol_version=None)"
      ]
     },
     "execution_count": 74,
     "metadata": {},
     "output_type": "execute_result"
    },
    {
     "name": "stderr",
     "output_type": "stream",
     "text": [
      "\u001b[36m(MapBatches(split_text)->MapBatches(tokenize) pid=2896822)\u001b[0m /home/jupyter/.local/lib/python3.10/site-packages/huggingface_hub/file_download.py:795: FutureWarning: `resume_download` is deprecated and will be removed in version 1.0.0. Downloads always resume when possible. If you want to force a new download, use `force_download=True`.\n",
      "\u001b[36m(MapBatches(split_text)->MapBatches(tokenize) pid=2896822)\u001b[0m   warnings.warn(\n"
     ]
    },
    {
     "name": "stdout",
     "output_type": "stream",
     "text": [
      "\u001b[36m(TrainTrainable pid=2912125)\u001b[0m [2025-02-17 09:26:18,763] [INFO] [real_accelerator.py:158:get_accelerator] Setting ds_accelerator to cuda (auto detect)\n"
     ]
    },
    {
     "name": "stderr",
     "output_type": "stream",
     "text": [
      "\u001b[36m(RayTrainWorker pid=2912766)\u001b[0m Setting up process group for: env:// [rank=0, world_size=2]\n",
      "\u001b[36m(TorchTrainer pid=2912125)\u001b[0m Started distributed worker processes: \n",
      "\u001b[36m(TorchTrainer pid=2912125)\u001b[0m - (ip=10.128.0.4, pid=2912766) world_rank=0, local_rank=0, node_rank=0\n",
      "\u001b[36m(TorchTrainer pid=2912125)\u001b[0m - (ip=10.128.0.4, pid=2912767) world_rank=1, local_rank=1, node_rank=0\n"
     ]
    },
    {
     "name": "stdout",
     "output_type": "stream",
     "text": [
      "\u001b[36m(RayTrainWorker pid=2912766)\u001b[0m [2025-02-17 09:26:24,591] [INFO] [real_accelerator.py:158:get_accelerator] Setting ds_accelerator to cuda (auto detect)\n",
      "\u001b[36m(RayTrainWorker pid=2912767)\u001b[0m [2025-02-17 09:26:24,593] [INFO] [real_accelerator.py:158:get_accelerator] Setting ds_accelerator to cuda (auto detect)\n"
     ]
    },
    {
     "name": "stderr",
     "output_type": "stream",
     "text": [
      "\u001b[36m(SplitCoordinator pid=2913257)\u001b[0m Auto configuring locality_with_output=['ebb69d1f227a3ae2d8c10cf5364cdd3d721490cfa146ad3a2e84a909', 'ebb69d1f227a3ae2d8c10cf5364cdd3d721490cfa146ad3a2e84a909']\n"
     ]
    },
    {
     "name": "stdout",
     "output_type": "stream",
     "text": [
      "\u001b[36m(RayTrainWorker pid=2912766)\u001b[0m Preparing training arguments\n",
      "\u001b[36m(RayTrainWorker pid=2912766)\u001b[0m [2025-02-17 09:26:25,836] [INFO] [comm.py:637:init_distributed] cdb=None\n"
     ]
    },
    {
     "name": "stderr",
     "output_type": "stream",
     "text": [
      "\u001b[36m(RayTrainWorker pid=2912766)\u001b[0m /home/jupyter/.local/lib/python3.10/site-packages/huggingface_hub/file_download.py:795: FutureWarning: `resume_download` is deprecated and will be removed in version 1.0.0. Downloads always resume when possible. If you want to force a new download, use `force_download=True`.\n",
      "\u001b[36m(RayTrainWorker pid=2912766)\u001b[0m   warnings.warn(\n"
     ]
    },
    {
     "name": "stdout",
     "output_type": "stream",
     "text": [
      "\u001b[36m(RayTrainWorker pid=2912766)\u001b[0m Loading model\n",
      "\u001b[36m(RayTrainWorker pid=2912766)\u001b[0m [2025-02-17 09:26:37,554] [INFO] [partition_parameters.py:348:__exit__] finished initializing model - num_params = 285, num_elems = 6.05B\n",
      "\u001b[36m(RayTrainWorker pid=2912767)\u001b[0m Preparing training arguments\n",
      "\u001b[36m(RayTrainWorker pid=2912767)\u001b[0m [2025-02-17 09:26:25,837] [INFO] [comm.py:637:init_distributed] cdb=None\n",
      "\u001b[36m(RayTrainWorker pid=2912767)\u001b[0m Loading model\n",
      "\u001b[36m(RayTrainWorker pid=2912767)\u001b[0m Model loaded\n"
     ]
    },
    {
     "name": "stderr",
     "output_type": "stream",
     "text": [
      "\u001b[36m(RayTrainWorker pid=2912766)\u001b[0m max_steps is given, it will override any value given in num_train_epochs\n",
      "\u001b[36m(RayTrainWorker pid=2912766)\u001b[0m Using cuda_amp half precision backend\n",
      "\u001b[36m(SplitCoordinator pid=2913258)\u001b[0m Auto configuring locality_with_output=['ebb69d1f227a3ae2d8c10cf5364cdd3d721490cfa146ad3a2e84a909', 'ebb69d1f227a3ae2d8c10cf5364cdd3d721490cfa146ad3a2e84a909']\n",
      "\u001b[36m(RayTrainWorker pid=2912767)\u001b[0m /home/jupyter/.local/lib/python3.10/site-packages/huggingface_hub/file_download.py:795: FutureWarning: `resume_download` is deprecated and will be removed in version 1.0.0. Downloads always resume when possible. If you want to force a new download, use `force_download=True`.\n",
      "\u001b[36m(RayTrainWorker pid=2912767)\u001b[0m   warnings.warn(\n"
     ]
    },
    {
     "name": "stdout",
     "output_type": "stream",
     "text": [
      "\u001b[36m(RayTrainWorker pid=2912766)\u001b[0m [2025-02-17 09:26:57,154] [INFO] [logging.py:96:log_dist] [Rank 0] DeepSpeed info: version=0.12.3, git-hash=unknown, git-branch=unknown\n",
      "\u001b[36m(RayTrainWorker pid=2912766)\u001b[0m [2025-02-17 09:26:57,163] [INFO] [logging.py:96:log_dist] [Rank 0] DeepSpeed Flops Profiler Enabled: False\n"
     ]
    },
    {
     "name": "stderr",
     "output_type": "stream",
     "text": [
      "\u001b[36m(RayTrainWorker pid=2912767)\u001b[0m Using /home/jupyter/.cache/torch_extensions/py310_cu121 as PyTorch extensions root...\n",
      "\u001b[36m(RayTrainWorker pid=2912767)\u001b[0m Creating extension directory /home/jupyter/.cache/torch_extensions/py310_cu121/cpu_adam...\n",
      "\u001b[36m(RayTrainWorker pid=2912767)\u001b[0m Detected CUDA files, patching ldflags\n",
      "\u001b[36m(RayTrainWorker pid=2912767)\u001b[0m Emitting ninja build file /home/jupyter/.cache/torch_extensions/py310_cu121/cpu_adam/build.ninja...\n",
      "\u001b[36m(RayTrainWorker pid=2912767)\u001b[0m Building extension module cpu_adam...\n",
      "\u001b[36m(RayTrainWorker pid=2912767)\u001b[0m Allowing ninja to set a default number of workers... (overridable by setting the environment variable MAX_JOBS=N)\n"
     ]
    },
    {
     "name": "stdout",
     "output_type": "stream",
     "text": [
      "\u001b[36m(RayTrainWorker pid=2912767)\u001b[0m \u001b[93m [WARNING] \u001b[0m cpu_adam cuda is missing or is incompatible with installed torch, only cpu ops can be compiled!\n",
      "\u001b[36m(RayTrainWorker pid=2912767)\u001b[0m [1/4] /usr/local/cuda/bin/nvcc  -DTORCH_EXTENSION_NAME=cpu_adam -DTORCH_API_INCLUDE_EXTENSION_H -DPYBIND11_COMPILER_TYPE=\\\"_gcc\\\" -DPYBIND11_STDLIB=\\\"_libstdcpp\\\" -DPYBIND11_BUILD_ABI=\\\"_cxxabi1011\\\" -I/var/tmp/ray/session_2025-02-17_09-23-41_688994_2604400/runtime_resources/pip/a8786a8435aa1fe4e7abf24f81ef0a0191508152/virtualenv/lib/python3.10/site-packages/deepspeed/ops/csrc/includes -I/usr/local/cuda/include -isystem /home/jupyter/.local/lib/python3.10/site-packages/torch/include -isystem /home/jupyter/.local/lib/python3.10/site-packages/torch/include/torch/csrc/api/include -isystem /home/jupyter/.local/lib/python3.10/site-packages/torch/include/TH -isystem /home/jupyter/.local/lib/python3.10/site-packages/torch/include/THC -isystem /usr/local/cuda/include -isystem /opt/conda/include/python3.10 -D_GLIBCXX_USE_CXX11_ABI=0 -D__CUDA_NO_HALF_OPERATORS__ -D__CUDA_NO_HALF_CONVERSIONS__ -D__CUDA_NO_BFLOAT16_CONVERSIONS__ -D__CUDA_NO_HALF2_OPERATORS__ --expt-relaxed-constexpr -gencode=arch=compute_89,code=compute_89 -gencode=arch=compute_89,code=sm_89 --compiler-options '-fPIC' -O3 --use_fast_math -std=c++17 -U__CUDA_NO_HALF_OPERATORS__ -U__CUDA_NO_HALF_CONVERSIONS__ -U__CUDA_NO_HALF2_OPERATORS__ -gencode=arch=compute_89,code=sm_89 -gencode=arch=compute_89,code=compute_89 -DBF16_AVAILABLE -U__CUDA_NO_BFLOAT16_OPERATORS__ -U__CUDA_NO_BFLOAT162_OPERATORS__ -c /var/tmp/ray/session_2025-02-17_09-23-41_688994_2604400/runtime_resources/pip/a8786a8435aa1fe4e7abf24f81ef0a0191508152/virtualenv/lib/python3.10/site-packages/deepspeed/ops/csrc/common/custom_cuda_kernel.cu -o custom_cuda_kernel.cuda.o \n",
      "\u001b[36m(RayTrainWorker pid=2912766)\u001b[0m Model loaded\n",
      "\u001b[36m(RayTrainWorker pid=2912766)\u001b[0m \u001b[93m [WARNING] \u001b[0m cpu_adam cuda is missing or is incompatible with installed torch, only cpu ops can be compiled!\n",
      "\u001b[36m(RayTrainWorker pid=2912767)\u001b[0m [2/4] c++ -MMD -MF cpu_adam.o.d -DTORCH_EXTENSION_NAME=cpu_adam -DTORCH_API_INCLUDE_EXTENSION_H -DPYBIND11_COMPILER_TYPE=\\\"_gcc\\\" -DPYBIND11_STDLIB=\\\"_libstdcpp\\\" -DPYBIND11_BUILD_ABI=\\\"_cxxabi1011\\\" -I/var/tmp/ray/session_2025-02-17_09-23-41_688994_2604400/runtime_resources/pip/a8786a8435aa1fe4e7abf24f81ef0a0191508152/virtualenv/lib/python3.10/site-packages/deepspeed/ops/csrc/includes -I/usr/local/cuda/include -isystem /home/jupyter/.local/lib/python3.10/site-packages/torch/include -isystem /home/jupyter/.local/lib/python3.10/site-packages/torch/include/torch/csrc/api/include -isystem /home/jupyter/.local/lib/python3.10/site-packages/torch/include/TH -isystem /home/jupyter/.local/lib/python3.10/site-packages/torch/include/THC -isystem /usr/local/cuda/include -isystem /opt/conda/include/python3.10 -D_GLIBCXX_USE_CXX11_ABI=0 -fPIC -std=c++17 -O3 -std=c++17 -g -Wno-reorder -L/usr/local/cuda/lib64 -lcudart -lcublas -g -march=native -fopenmp -D__AVX512__ -D__DISABLE_CUDA__ -DBF16_AVAILABLE -c /var/tmp/ray/session_2025-02-17_09-23-41_688994_2604400/runtime_resources/pip/a8786a8435aa1fe4e7abf24f81ef0a0191508152/virtualenv/lib/python3.10/site-packages/deepspeed/ops/csrc/adam/cpu_adam.cpp -o cpu_adam.o \n",
      "\u001b[36m(RayTrainWorker pid=2912767)\u001b[0m [3/4] c++ -MMD -MF cpu_adam_impl.o.d -DTORCH_EXTENSION_NAME=cpu_adam -DTORCH_API_INCLUDE_EXTENSION_H -DPYBIND11_COMPILER_TYPE=\\\"_gcc\\\" -DPYBIND11_STDLIB=\\\"_libstdcpp\\\" -DPYBIND11_BUILD_ABI=\\\"_cxxabi1011\\\" -I/var/tmp/ray/session_2025-02-17_09-23-41_688994_2604400/runtime_resources/pip/a8786a8435aa1fe4e7abf24f81ef0a0191508152/virtualenv/lib/python3.10/site-packages/deepspeed/ops/csrc/includes -I/usr/local/cuda/include -isystem /home/jupyter/.local/lib/python3.10/site-packages/torch/include -isystem /home/jupyter/.local/lib/python3.10/site-packages/torch/include/torch/csrc/api/include -isystem /home/jupyter/.local/lib/python3.10/site-packages/torch/include/TH -isystem /home/jupyter/.local/lib/python3.10/site-packages/torch/include/THC -isystem /usr/local/cuda/include -isystem /opt/conda/include/python3.10 -D_GLIBCXX_USE_CXX11_ABI=0 -fPIC -std=c++17 -O3 -std=c++17 -g -Wno-reorder -L/usr/local/cuda/lib64 -lcudart -lcublas -g -march=native -fopenmp -D__AVX512__ -D__DISABLE_CUDA__ -DBF16_AVAILABLE -c /var/tmp/ray/session_2025-02-17_09-23-41_688994_2604400/runtime_resources/pip/a8786a8435aa1fe4e7abf24f81ef0a0191508152/virtualenv/lib/python3.10/site-packages/deepspeed/ops/csrc/adam/cpu_adam_impl.cpp -o cpu_adam_impl.o \n"
     ]
    },
    {
     "name": "stderr",
     "output_type": "stream",
     "text": [
      "\u001b[36m(RayTrainWorker pid=2912767)\u001b[0m Loading extension module cpu_adam...\n",
      "\u001b[36m(RayTrainWorker pid=2912766)\u001b[0m Using /home/jupyter/.cache/torch_extensions/py310_cu121 as PyTorch extensions root...\n"
     ]
    },
    {
     "name": "stdout",
     "output_type": "stream",
     "text": [
      "\u001b[36m(RayTrainWorker pid=2912767)\u001b[0m [4/4] c++ cpu_adam.o cpu_adam_impl.o custom_cuda_kernel.cuda.o -shared -lcurand -L/home/jupyter/.local/lib/python3.10/site-packages/torch/lib -lc10 -lc10_cuda -ltorch_cpu -ltorch_cuda -ltorch -ltorch_python -L/usr/local/cuda/lib64 -lcudart -o cpu_adam.so\n",
      "\u001b[36m(RayTrainWorker pid=2912767)\u001b[0m Time to load cpu_adam op: 33.52724504470825 seconds\n",
      "\u001b[36m(RayTrainWorker pid=2912766)\u001b[0m [2025-02-17 09:27:31,711] [INFO] [logging.py:96:log_dist] [Rank 0] Using DeepSpeed Optimizer param name adamw as basic optimizer\n",
      "\u001b[36m(RayTrainWorker pid=2912766)\u001b[0m [2025-02-17 09:27:31,711] [INFO] [logging.py:96:log_dist] [Rank 0] Removing param_group that has no 'params' in the basic Optimizer\n",
      "\u001b[36m(RayTrainWorker pid=2912766)\u001b[0m [2025-02-17 09:27:31,728] [INFO] [logging.py:96:log_dist] [Rank 0] DeepSpeed Basic Optimizer = DeepSpeedCPUAdam\n",
      "\u001b[36m(RayTrainWorker pid=2912766)\u001b[0m [2025-02-17 09:27:31,728] [INFO] [utils.py:56:is_zero_supported_optimizer] Checking ZeRO support for optimizer=DeepSpeedCPUAdam type=<class 'deepspeed.ops.adam.cpu_adam.DeepSpeedCPUAdam'>\n",
      "\u001b[36m(RayTrainWorker pid=2912766)\u001b[0m [2025-02-17 09:27:31,728] [INFO] [logging.py:96:log_dist] [Rank 0] Creating fp16 ZeRO stage 3 optimizer, MiCS is enabled False, Hierarchical params gather False\n",
      "\u001b[36m(RayTrainWorker pid=2912766)\u001b[0m [2025-02-17 09:27:31,728] [INFO] [logging.py:96:log_dist] [Rank 0] Creating torch.float16 ZeRO stage 3 optimizer\n",
      "\u001b[36m(RayTrainWorker pid=2912766)\u001b[0m [2025-02-17 09:27:31,883] [INFO] [utils.py:802:see_memory_usage] Stage 3 initialize beginning\n",
      "\u001b[36m(RayTrainWorker pid=2912766)\u001b[0m [2025-02-17 09:27:31,884] [INFO] [utils.py:803:see_memory_usage] MA 5.74 GB         Max_MA 6.71 GB         CA 8.46 GB         Max_CA 8 GB \n",
      "\u001b[36m(RayTrainWorker pid=2912766)\u001b[0m [2025-02-17 09:27:31,884] [INFO] [utils.py:810:see_memory_usage] CPU Virtual Memory:  used = 35.2 GB, percent = 18.7%\n",
      "\u001b[36m(RayTrainWorker pid=2912766)\u001b[0m [2025-02-17 09:27:31,886] [INFO] [stage3.py:127:__init__] Reduce bucket size 16777216\n",
      "\u001b[36m(RayTrainWorker pid=2912766)\u001b[0m [2025-02-17 09:27:31,886] [INFO] [stage3.py:128:__init__] Prefetch bucket size 15099494\n",
      "\u001b[36m(RayTrainWorker pid=2912766)\u001b[0m [2025-02-17 09:27:32,037] [INFO] [utils.py:802:see_memory_usage] DeepSpeedZeRoOffload initialize [begin]\n",
      "\u001b[36m(RayTrainWorker pid=2912766)\u001b[0m [2025-02-17 09:27:32,037] [INFO] [utils.py:803:see_memory_usage] MA 5.74 GB         Max_MA 5.74 GB         CA 8.46 GB         Max_CA 8 GB \n",
      "\u001b[36m(RayTrainWorker pid=2912766)\u001b[0m [2025-02-17 09:27:32,038] [INFO] [utils.py:810:see_memory_usage] CPU Virtual Memory:  used = 35.2 GB, percent = 18.7%\n",
      "\u001b[36m(RayTrainWorker pid=2912766)\u001b[0m Parameter Offload: Total persistent parameters: 811008 in 114 params\n",
      "\u001b[36m(RayTrainWorker pid=2912766)\u001b[0m [2025-02-17 09:27:32,204] [INFO] [utils.py:802:see_memory_usage] DeepSpeedZeRoOffload initialize [end]\n",
      "\u001b[36m(RayTrainWorker pid=2912766)\u001b[0m [2025-02-17 09:27:32,204] [INFO] [utils.py:803:see_memory_usage] MA 5.74 GB         Max_MA 5.74 GB         CA 8.46 GB         Max_CA 8 GB \n",
      "\u001b[36m(RayTrainWorker pid=2912766)\u001b[0m [2025-02-17 09:27:32,205] [INFO] [utils.py:810:see_memory_usage] CPU Virtual Memory:  used = 35.2 GB, percent = 18.7%\n",
      "\u001b[36m(RayTrainWorker pid=2912766)\u001b[0m [2025-02-17 09:27:32,351] [INFO] [utils.py:802:see_memory_usage] Before creating fp16 partitions\n",
      "\u001b[36m(RayTrainWorker pid=2912766)\u001b[0m [2025-02-17 09:27:32,351] [INFO] [utils.py:803:see_memory_usage] MA 5.74 GB         Max_MA 5.74 GB         CA 8.46 GB         Max_CA 8 GB \n",
      "\u001b[36m(RayTrainWorker pid=2912766)\u001b[0m [2025-02-17 09:27:32,351] [INFO] [utils.py:810:see_memory_usage] CPU Virtual Memory:  used = 35.2 GB, percent = 18.7%\n",
      "\u001b[36m(RayTrainWorker pid=2912766)\u001b[0m [2025-02-17 09:27:36,655] [INFO] [utils.py:802:see_memory_usage] After creating fp16 partitions: 4\n",
      "\u001b[36m(RayTrainWorker pid=2912766)\u001b[0m [2025-02-17 09:27:36,656] [INFO] [utils.py:803:see_memory_usage] MA 5.74 GB         Max_MA 5.74 GB         CA 7.67 GB         Max_CA 8 GB \n",
      "\u001b[36m(RayTrainWorker pid=2912766)\u001b[0m [2025-02-17 09:27:36,656] [INFO] [utils.py:810:see_memory_usage] CPU Virtual Memory:  used = 35.58 GB, percent = 18.9%\n",
      "\u001b[36m(RayTrainWorker pid=2912766)\u001b[0m Time to load cpu_adam op: 33.026591062545776 seconds\n",
      "\u001b[36m(RayTrainWorker pid=2912766)\u001b[0m [2025-02-17 09:27:36,814] [INFO] [utils.py:802:see_memory_usage] Before creating fp32 partitions\n",
      "\u001b[36m(RayTrainWorker pid=2912766)\u001b[0m [2025-02-17 09:27:36,814] [INFO] [utils.py:803:see_memory_usage] MA 5.74 GB         Max_MA 5.74 GB         CA 7.67 GB         Max_CA 8 GB \n",
      "\u001b[36m(RayTrainWorker pid=2912766)\u001b[0m [2025-02-17 09:27:36,815] [INFO] [utils.py:810:see_memory_usage] CPU Virtual Memory:  used = 35.93 GB, percent = 19.0%\n",
      "\u001b[36m(RayTrainWorker pid=2912766)\u001b[0m [2025-02-17 09:27:42,778] [INFO] [utils.py:802:see_memory_usage] After creating fp32 partitions\n",
      "\u001b[36m(RayTrainWorker pid=2912766)\u001b[0m [2025-02-17 09:27:42,778] [INFO] [utils.py:803:see_memory_usage] MA 5.74 GB         Max_MA 5.74 GB         CA 7.67 GB         Max_CA 8 GB \n",
      "\u001b[36m(RayTrainWorker pid=2912766)\u001b[0m [2025-02-17 09:27:42,779] [INFO] [utils.py:810:see_memory_usage] CPU Virtual Memory:  used = 57.79 GB, percent = 30.6%\n",
      "\u001b[36m(RayTrainWorker pid=2912766)\u001b[0m [2025-02-17 09:27:42,957] [INFO] [utils.py:802:see_memory_usage] Before initializing optimizer states\n",
      "\u001b[36m(RayTrainWorker pid=2912766)\u001b[0m [2025-02-17 09:27:42,958] [INFO] [utils.py:803:see_memory_usage] MA 5.74 GB         Max_MA 5.74 GB         CA 7.67 GB         Max_CA 8 GB \n",
      "\u001b[36m(RayTrainWorker pid=2912766)\u001b[0m [2025-02-17 09:27:42,958] [INFO] [utils.py:810:see_memory_usage] CPU Virtual Memory:  used = 58.92 GB, percent = 31.2%\n",
      "\u001b[36m(RayTrainWorker pid=2912766)\u001b[0m [2025-02-17 09:27:59,734] [INFO] [utils.py:802:see_memory_usage] After initializing optimizer states\n",
      "\u001b[36m(RayTrainWorker pid=2912766)\u001b[0m [2025-02-17 09:27:59,735] [INFO] [utils.py:803:see_memory_usage] MA 5.74 GB         Max_MA 5.74 GB         CA 7.67 GB         Max_CA 8 GB \n",
      "\u001b[36m(RayTrainWorker pid=2912766)\u001b[0m [2025-02-17 09:27:59,735] [INFO] [utils.py:810:see_memory_usage] CPU Virtual Memory:  used = 127.12 GB, percent = 67.4%\n",
      "\u001b[36m(RayTrainWorker pid=2912766)\u001b[0m [2025-02-17 09:27:59,736] [INFO] [stage3.py:479:_setup_for_real_optimizer] optimizer state initialized\n",
      "\u001b[36m(TrainTrainable pid=2945961)\u001b[0m [2025-02-17 09:32:34,263] [INFO] [real_accelerator.py:158:get_accelerator] Setting ds_accelerator to cuda (auto detect)\n"
     ]
    },
    {
     "name": "stderr",
     "output_type": "stream",
     "text": [
      "\u001b[36m(RayTrainWorker pid=2946693)\u001b[0m Setting up process group for: env:// [rank=0, world_size=2]\n",
      "\u001b[36m(TorchTrainer pid=2945961)\u001b[0m Started distributed worker processes: \n",
      "\u001b[36m(TorchTrainer pid=2945961)\u001b[0m - (ip=10.128.0.4, pid=2946693) world_rank=0, local_rank=0, node_rank=0\n",
      "\u001b[36m(TorchTrainer pid=2945961)\u001b[0m - (ip=10.128.0.4, pid=2946694) world_rank=1, local_rank=1, node_rank=0\n"
     ]
    },
    {
     "name": "stdout",
     "output_type": "stream",
     "text": [
      "\u001b[36m(RayTrainWorker pid=2946693)\u001b[0m [2025-02-17 09:32:40,806] [INFO] [real_accelerator.py:158:get_accelerator] Setting ds_accelerator to cuda (auto detect)\n",
      "\u001b[36m(RayTrainWorker pid=2946694)\u001b[0m [2025-02-17 09:32:40,827] [INFO] [real_accelerator.py:158:get_accelerator] Setting ds_accelerator to cuda (auto detect)\n"
     ]
    },
    {
     "name": "stderr",
     "output_type": "stream",
     "text": [
      "\u001b[36m(SplitCoordinator pid=2947257)\u001b[0m Auto configuring locality_with_output=['ebb69d1f227a3ae2d8c10cf5364cdd3d721490cfa146ad3a2e84a909', 'ebb69d1f227a3ae2d8c10cf5364cdd3d721490cfa146ad3a2e84a909']\n",
      "\u001b[36m(RayTrainWorker pid=2946693)\u001b[0m /home/jupyter/.local/lib/python3.10/site-packages/huggingface_hub/file_download.py:795: FutureWarning: `resume_download` is deprecated and will be removed in version 1.0.0. Downloads always resume when possible. If you want to force a new download, use `force_download=True`.\n",
      "\u001b[36m(RayTrainWorker pid=2946693)\u001b[0m   warnings.warn(\n"
     ]
    },
    {
     "name": "stdout",
     "output_type": "stream",
     "text": [
      "\u001b[36m(RayTrainWorker pid=2946693)\u001b[0m Preparing training arguments\n",
      "\u001b[36m(RayTrainWorker pid=2946693)\u001b[0m [2025-02-17 09:32:42,132] [INFO] [comm.py:637:init_distributed] cdb=None\n",
      "\u001b[36m(RayTrainWorker pid=2946693)\u001b[0m Loading model\n",
      "\u001b[36m(RayTrainWorker pid=2946693)\u001b[0m [2025-02-17 09:32:53,912] [INFO] [partition_parameters.py:348:__exit__] finished initializing model - num_params = 285, num_elems = 6.05B\n",
      "\u001b[36m(RayTrainWorker pid=2946694)\u001b[0m Preparing training arguments\n",
      "\u001b[36m(RayTrainWorker pid=2946694)\u001b[0m [2025-02-17 09:32:42,132] [INFO] [comm.py:637:init_distributed] cdb=None\n",
      "\u001b[36m(RayTrainWorker pid=2946694)\u001b[0m Loading model\n",
      "\u001b[36m(RayTrainWorker pid=2946694)\u001b[0m Model loaded\n"
     ]
    },
    {
     "name": "stderr",
     "output_type": "stream",
     "text": [
      "\u001b[36m(RayTrainWorker pid=2946693)\u001b[0m max_steps is given, it will override any value given in num_train_epochs\n",
      "\u001b[36m(RayTrainWorker pid=2946693)\u001b[0m Using cuda_amp half precision backend\n",
      "\u001b[36m(SplitCoordinator pid=2947258)\u001b[0m Auto configuring locality_with_output=['ebb69d1f227a3ae2d8c10cf5364cdd3d721490cfa146ad3a2e84a909', 'ebb69d1f227a3ae2d8c10cf5364cdd3d721490cfa146ad3a2e84a909']\n",
      "\u001b[36m(RayTrainWorker pid=2946694)\u001b[0m /home/jupyter/.local/lib/python3.10/site-packages/huggingface_hub/file_download.py:795: FutureWarning: `resume_download` is deprecated and will be removed in version 1.0.0. Downloads always resume when possible. If you want to force a new download, use `force_download=True`.\n",
      "\u001b[36m(RayTrainWorker pid=2946694)\u001b[0m   warnings.warn(\n"
     ]
    },
    {
     "name": "stdout",
     "output_type": "stream",
     "text": [
      "\u001b[36m(RayTrainWorker pid=2946693)\u001b[0m [2025-02-17 09:33:13,554] [INFO] [logging.py:96:log_dist] [Rank 0] DeepSpeed info: version=0.12.3, git-hash=unknown, git-branch=unknown\n",
      "\u001b[36m(RayTrainWorker pid=2946693)\u001b[0m [2025-02-17 09:33:13,564] [INFO] [logging.py:96:log_dist] [Rank 0] DeepSpeed Flops Profiler Enabled: False\n"
     ]
    },
    {
     "name": "stderr",
     "output_type": "stream",
     "text": [
      "\u001b[36m(RayTrainWorker pid=2946694)\u001b[0m Using /home/jupyter/.cache/torch_extensions/py310_cu121 as PyTorch extensions root...\n",
      "\u001b[36m(RayTrainWorker pid=2946694)\u001b[0m Detected CUDA files, patching ldflags\n",
      "\u001b[36m(RayTrainWorker pid=2946694)\u001b[0m Emitting ninja build file /home/jupyter/.cache/torch_extensions/py310_cu121/cpu_adam/build.ninja...\n",
      "\u001b[36m(RayTrainWorker pid=2946694)\u001b[0m Building extension module cpu_adam...\n",
      "\u001b[36m(RayTrainWorker pid=2946694)\u001b[0m Allowing ninja to set a default number of workers... (overridable by setting the environment variable MAX_JOBS=N)\n",
      "\u001b[36m(RayTrainWorker pid=2946694)\u001b[0m Loading extension module cpu_adam...\n"
     ]
    },
    {
     "name": "stdout",
     "output_type": "stream",
     "text": [
      "\u001b[36m(RayTrainWorker pid=2946694)\u001b[0m \u001b[93m [WARNING] \u001b[0m cpu_adam cuda is missing or is incompatible with installed torch, only cpu ops can be compiled!\n",
      "\u001b[36m(RayTrainWorker pid=2946694)\u001b[0m ninja: no work to do.\n",
      "\u001b[36m(RayTrainWorker pid=2946694)\u001b[0m Time to load cpu_adam op: 2.3038957118988037 seconds\n",
      "\u001b[36m(RayTrainWorker pid=2946693)\u001b[0m [2025-02-17 09:33:17,389] [INFO] [logging.py:96:log_dist] [Rank 0] Using DeepSpeed Optimizer param name adamw as basic optimizer\n",
      "\u001b[36m(RayTrainWorker pid=2946693)\u001b[0m [2025-02-17 09:33:17,389] [INFO] [logging.py:96:log_dist] [Rank 0] Removing param_group that has no 'params' in the basic Optimizer\n",
      "\u001b[36m(RayTrainWorker pid=2946693)\u001b[0m [2025-02-17 09:33:17,406] [INFO] [logging.py:96:log_dist] [Rank 0] DeepSpeed Basic Optimizer = DeepSpeedCPUAdam\n",
      "\u001b[36m(RayTrainWorker pid=2946693)\u001b[0m [2025-02-17 09:33:17,406] [INFO] [utils.py:56:is_zero_supported_optimizer] Checking ZeRO support for optimizer=DeepSpeedCPUAdam type=<class 'deepspeed.ops.adam.cpu_adam.DeepSpeedCPUAdam'>\n",
      "\u001b[36m(RayTrainWorker pid=2946693)\u001b[0m [2025-02-17 09:33:17,406] [INFO] [logging.py:96:log_dist] [Rank 0] Creating fp16 ZeRO stage 3 optimizer, MiCS is enabled False, Hierarchical params gather False\n",
      "\u001b[36m(RayTrainWorker pid=2946693)\u001b[0m [2025-02-17 09:33:17,406] [INFO] [logging.py:96:log_dist] [Rank 0] Creating torch.float16 ZeRO stage 3 optimizer\n",
      "\u001b[36m(RayTrainWorker pid=2946693)\u001b[0m [2025-02-17 09:33:17,578] [INFO] [utils.py:802:see_memory_usage] Stage 3 initialize beginning\n",
      "\u001b[36m(RayTrainWorker pid=2946693)\u001b[0m [2025-02-17 09:33:17,579] [INFO] [utils.py:803:see_memory_usage] MA 5.74 GB         Max_MA 6.71 GB         CA 8.46 GB         Max_CA 8 GB \n",
      "\u001b[36m(RayTrainWorker pid=2946693)\u001b[0m [2025-02-17 09:33:17,579] [INFO] [utils.py:810:see_memory_usage] CPU Virtual Memory:  used = 34.95 GB, percent = 18.5%\n",
      "\u001b[36m(RayTrainWorker pid=2946693)\u001b[0m [2025-02-17 09:33:17,581] [INFO] [stage3.py:127:__init__] Reduce bucket size 16777216\n",
      "\u001b[36m(RayTrainWorker pid=2946693)\u001b[0m [2025-02-17 09:33:17,581] [INFO] [stage3.py:128:__init__] Prefetch bucket size 15099494\n",
      "\u001b[36m(RayTrainWorker pid=2946693)\u001b[0m [2025-02-17 09:33:17,743] [INFO] [utils.py:802:see_memory_usage] DeepSpeedZeRoOffload initialize [begin]\n",
      "\u001b[36m(RayTrainWorker pid=2946693)\u001b[0m [2025-02-17 09:33:17,744] [INFO] [utils.py:803:see_memory_usage] MA 5.74 GB         Max_MA 5.74 GB         CA 8.46 GB         Max_CA 8 GB \n",
      "\u001b[36m(RayTrainWorker pid=2946693)\u001b[0m [2025-02-17 09:33:17,744] [INFO] [utils.py:810:see_memory_usage] CPU Virtual Memory:  used = 34.95 GB, percent = 18.5%\n",
      "\u001b[36m(RayTrainWorker pid=2946693)\u001b[0m Parameter Offload: Total persistent parameters: 811008 in 114 params\n",
      "\u001b[36m(RayTrainWorker pid=2946693)\u001b[0m [2025-02-17 09:33:17,923] [INFO] [utils.py:802:see_memory_usage] DeepSpeedZeRoOffload initialize [end]\n",
      "\u001b[36m(RayTrainWorker pid=2946693)\u001b[0m [2025-02-17 09:33:17,924] [INFO] [utils.py:803:see_memory_usage] MA 5.74 GB         Max_MA 5.74 GB         CA 8.46 GB         Max_CA 8 GB \n",
      "\u001b[36m(RayTrainWorker pid=2946693)\u001b[0m [2025-02-17 09:33:17,924] [INFO] [utils.py:810:see_memory_usage] CPU Virtual Memory:  used = 34.95 GB, percent = 18.5%\n",
      "\u001b[36m(RayTrainWorker pid=2946693)\u001b[0m Model loaded\n",
      "\u001b[36m(RayTrainWorker pid=2946693)\u001b[0m [2025-02-17 09:33:18,090] [INFO] [utils.py:802:see_memory_usage] Before creating fp16 partitions\n",
      "\u001b[36m(RayTrainWorker pid=2946693)\u001b[0m [2025-02-17 09:33:18,091] [INFO] [utils.py:803:see_memory_usage] MA 5.74 GB         Max_MA 5.74 GB         CA 8.46 GB         Max_CA 8 GB \n",
      "\u001b[36m(RayTrainWorker pid=2946693)\u001b[0m [2025-02-17 09:33:18,091] [INFO] [utils.py:810:see_memory_usage] CPU Virtual Memory:  used = 34.95 GB, percent = 18.5%\n",
      "\u001b[36m(RayTrainWorker pid=2946693)\u001b[0m [2025-02-17 09:33:22,447] [INFO] [utils.py:802:see_memory_usage] After creating fp16 partitions: 4\n",
      "\u001b[36m(RayTrainWorker pid=2946693)\u001b[0m [2025-02-17 09:33:22,448] [INFO] [utils.py:803:see_memory_usage] MA 5.74 GB         Max_MA 5.74 GB         CA 7.67 GB         Max_CA 8 GB \n",
      "\u001b[36m(RayTrainWorker pid=2946693)\u001b[0m [2025-02-17 09:33:22,448] [INFO] [utils.py:810:see_memory_usage] CPU Virtual Memory:  used = 35.35 GB, percent = 18.7%\n",
      "\u001b[36m(RayTrainWorker pid=2946693)\u001b[0m \u001b[93m [WARNING] \u001b[0m cpu_adam cuda is missing or is incompatible with installed torch, only cpu ops can be compiled!\n",
      "\u001b[36m(RayTrainWorker pid=2946693)\u001b[0m ninja: no work to do.\n",
      "\u001b[36m(RayTrainWorker pid=2946693)\u001b[0m Time to load cpu_adam op: 2.2920191287994385 seconds\n",
      "\u001b[36m(RayTrainWorker pid=2946693)\u001b[0m [2025-02-17 09:33:22,631] [INFO] [utils.py:802:see_memory_usage] Before creating fp32 partitions\n",
      "\u001b[36m(RayTrainWorker pid=2946693)\u001b[0m [2025-02-17 09:33:22,632] [INFO] [utils.py:803:see_memory_usage] MA 5.74 GB         Max_MA 5.74 GB         CA 7.67 GB         Max_CA 8 GB \n",
      "\u001b[36m(RayTrainWorker pid=2946693)\u001b[0m [2025-02-17 09:33:22,632] [INFO] [utils.py:810:see_memory_usage] CPU Virtual Memory:  used = 35.75 GB, percent = 18.9%\n",
      "\u001b[36m(RayTrainWorker pid=2946693)\u001b[0m [2025-02-17 09:33:28,640] [INFO] [utils.py:802:see_memory_usage] After creating fp32 partitions\n",
      "\u001b[36m(RayTrainWorker pid=2946693)\u001b[0m [2025-02-17 09:33:28,640] [INFO] [utils.py:803:see_memory_usage] MA 5.74 GB         Max_MA 5.74 GB         CA 7.67 GB         Max_CA 8 GB \n",
      "\u001b[36m(RayTrainWorker pid=2946693)\u001b[0m [2025-02-17 09:33:28,641] [INFO] [utils.py:810:see_memory_usage] CPU Virtual Memory:  used = 57.53 GB, percent = 30.5%\n",
      "\u001b[36m(RayTrainWorker pid=2946693)\u001b[0m [2025-02-17 09:33:28,835] [INFO] [utils.py:802:see_memory_usage] Before initializing optimizer states\n",
      "\u001b[36m(RayTrainWorker pid=2946693)\u001b[0m [2025-02-17 09:33:28,836] [INFO] [utils.py:803:see_memory_usage] MA 5.74 GB         Max_MA 5.74 GB         CA 7.67 GB         Max_CA 8 GB \n",
      "\u001b[36m(RayTrainWorker pid=2946693)\u001b[0m [2025-02-17 09:33:28,836] [INFO] [utils.py:810:see_memory_usage] CPU Virtual Memory:  used = 58.78 GB, percent = 31.1%\n",
      "\u001b[36m(RayTrainWorker pid=2946693)\u001b[0m [2025-02-17 09:33:45,020] [INFO] [utils.py:802:see_memory_usage] After initializing optimizer states\n",
      "\u001b[36m(RayTrainWorker pid=2946693)\u001b[0m [2025-02-17 09:33:45,020] [INFO] [utils.py:803:see_memory_usage] MA 5.74 GB         Max_MA 5.74 GB         CA 7.67 GB         Max_CA 8 GB \n",
      "\u001b[36m(RayTrainWorker pid=2946693)\u001b[0m [2025-02-17 09:33:45,021] [INFO] [utils.py:810:see_memory_usage] CPU Virtual Memory:  used = 127.19 GB, percent = 67.4%\n",
      "\u001b[36m(RayTrainWorker pid=2946693)\u001b[0m [2025-02-17 09:33:45,021] [INFO] [stage3.py:479:_setup_for_real_optimizer] optimizer state initialized\n"
     ]
    },
    {
     "name": "stderr",
     "output_type": "stream",
     "text": [
      "\u001b[36m(RayTrainWorker pid=2946693)\u001b[0m ***** Running training *****\n",
      "\u001b[36m(RayTrainWorker pid=2946693)\u001b[0m   Num examples = 331472\n",
      "\u001b[36m(RayTrainWorker pid=2946693)\u001b[0m   Num Epochs = 9223372036854775807\n",
      "\u001b[36m(RayTrainWorker pid=2946693)\u001b[0m   Instantaneous batch size per device = 4\n",
      "\u001b[36m(RayTrainWorker pid=2946693)\u001b[0m   Total train batch size (w. parallel, distributed & accumulation) = 8\n",
      "\u001b[36m(RayTrainWorker pid=2946693)\u001b[0m   Gradient Accumulation steps = 1\n",
      "\u001b[36m(RayTrainWorker pid=2946693)\u001b[0m   Total optimization steps = 41434\n",
      "\u001b[36m(RayTrainWorker pid=2946693)\u001b[0m   Number of trainable parameters = 0\n",
      "\u001b[36m(RayTrainWorker pid=2946693)\u001b[0m Using /home/jupyter/.cache/torch_extensions/py310_cu121 as PyTorch extensions root...\n",
      "\u001b[36m(RayTrainWorker pid=2946693)\u001b[0m Detected CUDA files, patching ldflags\n",
      "\u001b[36m(RayTrainWorker pid=2946693)\u001b[0m Emitting ninja build file /home/jupyter/.cache/torch_extensions/py310_cu121/cpu_adam/build.ninja...\n",
      "\u001b[36m(RayTrainWorker pid=2946693)\u001b[0m Building extension module cpu_adam...\n",
      "\u001b[36m(RayTrainWorker pid=2946693)\u001b[0m Allowing ninja to set a default number of workers... (overridable by setting the environment variable MAX_JOBS=N)\n",
      "\u001b[36m(RayTrainWorker pid=2946693)\u001b[0m Loading extension module cpu_adam...\n"
     ]
    },
    {
     "name": "stdout",
     "output_type": "stream",
     "text": [
      "\u001b[36m(RayTrainWorker pid=2946693)\u001b[0m [2025-02-17 09:33:53,362] [INFO] [utils.py:802:see_memory_usage] After initializing ZeRO optimizer\n",
      "\u001b[36m(RayTrainWorker pid=2946693)\u001b[0m [2025-02-17 09:33:53,363] [INFO] [utils.py:803:see_memory_usage] MA 5.78 GB         Max_MA 6.55 GB         CA 10.54 GB         Max_CA 21 GB \n",
      "\u001b[36m(RayTrainWorker pid=2946693)\u001b[0m [2025-02-17 09:33:53,363] [INFO] [utils.py:810:see_memory_usage] CPU Virtual Memory:  used = 143.41 GB, percent = 76.0%\n",
      "\u001b[36m(RayTrainWorker pid=2946693)\u001b[0m [2025-02-17 09:33:53,363] [INFO] [logging.py:96:log_dist] [Rank 0] DeepSpeed Final Optimizer = adamw\n",
      "\u001b[36m(RayTrainWorker pid=2946693)\u001b[0m [2025-02-17 09:33:53,363] [INFO] [logging.py:96:log_dist] [Rank 0] DeepSpeed using client callable to create LR scheduler\n",
      "\u001b[36m(RayTrainWorker pid=2946693)\u001b[0m [2025-02-17 09:33:53,363] [INFO] [logging.py:96:log_dist] [Rank 0] DeepSpeed LR Scheduler = <torch.optim.lr_scheduler.LambdaLR object at 0x7f9c551a2020>\n",
      "\u001b[36m(RayTrainWorker pid=2946693)\u001b[0m [2025-02-17 09:33:53,363] [INFO] [logging.py:96:log_dist] [Rank 0] step=0, skipped=0, lr=[2e-05], mom=[[0.9, 0.999]]\n",
      "\u001b[36m(RayTrainWorker pid=2946693)\u001b[0m [2025-02-17 09:33:53,364] [INFO] [config.py:974:print] DeepSpeedEngine configuration:\n",
      "\u001b[36m(RayTrainWorker pid=2946693)\u001b[0m [2025-02-17 09:33:53,365] [INFO] [config.py:978:print]   activation_checkpointing_config  {\n",
      "\u001b[36m(RayTrainWorker pid=2946693)\u001b[0m     \"partition_activations\": false, \n",
      "\u001b[36m(RayTrainWorker pid=2946693)\u001b[0m     \"contiguous_memory_optimization\": false, \n",
      "\u001b[36m(RayTrainWorker pid=2946693)\u001b[0m     \"cpu_checkpointing\": false, \n",
      "\u001b[36m(RayTrainWorker pid=2946693)\u001b[0m     \"number_checkpoints\": null, \n",
      "\u001b[36m(RayTrainWorker pid=2946693)\u001b[0m     \"synchronize_checkpoint_boundary\": false, \n",
      "\u001b[36m(RayTrainWorker pid=2946693)\u001b[0m     \"profile\": false\n",
      "\u001b[36m(RayTrainWorker pid=2946693)\u001b[0m }\n",
      "\u001b[36m(RayTrainWorker pid=2946693)\u001b[0m [2025-02-17 09:33:53,365] [INFO] [config.py:978:print]   aio_config ................... {'block_size': 1048576, 'queue_depth': 8, 'thread_count': 1, 'single_submit': False, 'overlap_events': True}\n",
      "\u001b[36m(RayTrainWorker pid=2946693)\u001b[0m [2025-02-17 09:33:53,365] [INFO] [config.py:978:print]   amp_enabled .................. False\n",
      "\u001b[36m(RayTrainWorker pid=2946693)\u001b[0m [2025-02-17 09:33:53,365] [INFO] [config.py:978:print]   amp_params ................... False\n",
      "\u001b[36m(RayTrainWorker pid=2946693)\u001b[0m [2025-02-17 09:33:53,365] [INFO] [config.py:978:print]   autotuning_config ............ {\n",
      "\u001b[36m(RayTrainWorker pid=2946693)\u001b[0m     \"enabled\": false, \n",
      "\u001b[36m(RayTrainWorker pid=2946693)\u001b[0m     \"start_step\": null, \n",
      "\u001b[36m(RayTrainWorker pid=2946693)\u001b[0m     \"end_step\": null, \n",
      "\u001b[36m(RayTrainWorker pid=2946693)\u001b[0m     \"metric_path\": null, \n",
      "\u001b[36m(RayTrainWorker pid=2946693)\u001b[0m     \"arg_mappings\": null, \n",
      "\u001b[36m(RayTrainWorker pid=2946693)\u001b[0m     \"metric\": \"throughput\", \n",
      "\u001b[36m(RayTrainWorker pid=2946693)\u001b[0m     \"model_info\": null, \n",
      "\u001b[36m(RayTrainWorker pid=2946693)\u001b[0m     \"results_dir\": \"autotuning_results\", \n",
      "\u001b[36m(RayTrainWorker pid=2946693)\u001b[0m     \"exps_dir\": \"autotuning_exps\", \n",
      "\u001b[36m(RayTrainWorker pid=2946693)\u001b[0m     \"overwrite\": true, \n",
      "\u001b[36m(RayTrainWorker pid=2946693)\u001b[0m     \"fast\": true, \n",
      "\u001b[36m(RayTrainWorker pid=2946693)\u001b[0m     \"start_profile_step\": 3, \n",
      "\u001b[36m(RayTrainWorker pid=2946693)\u001b[0m     \"end_profile_step\": 5, \n",
      "\u001b[36m(RayTrainWorker pid=2946693)\u001b[0m     \"tuner_type\": \"gridsearch\", \n",
      "\u001b[36m(RayTrainWorker pid=2946693)\u001b[0m     \"tuner_early_stopping\": 5, \n",
      "\u001b[36m(RayTrainWorker pid=2946693)\u001b[0m     \"tuner_num_trials\": 50, \n",
      "\u001b[36m(RayTrainWorker pid=2946693)\u001b[0m     \"model_info_path\": null, \n",
      "\u001b[36m(RayTrainWorker pid=2946693)\u001b[0m     \"mp_size\": 1, \n",
      "\u001b[36m(RayTrainWorker pid=2946693)\u001b[0m     \"max_train_batch_size\": null, \n",
      "\u001b[36m(RayTrainWorker pid=2946693)\u001b[0m     \"min_train_batch_size\": 1, \n",
      "\u001b[36m(RayTrainWorker pid=2946693)\u001b[0m     \"max_train_micro_batch_size_per_gpu\": 1.024000e+03, \n",
      "\u001b[36m(RayTrainWorker pid=2946693)\u001b[0m     \"min_train_micro_batch_size_per_gpu\": 1, \n",
      "\u001b[36m(RayTrainWorker pid=2946693)\u001b[0m     \"num_tuning_micro_batch_sizes\": 3\n",
      "\u001b[36m(RayTrainWorker pid=2946693)\u001b[0m }\n",
      "\u001b[36m(RayTrainWorker pid=2946693)\u001b[0m [2025-02-17 09:33:53,365] [INFO] [config.py:978:print]   bfloat16_enabled ............. False\n",
      "\u001b[36m(RayTrainWorker pid=2946693)\u001b[0m [2025-02-17 09:33:53,365] [INFO] [config.py:978:print]   checkpoint_parallel_write_pipeline  False\n",
      "\u001b[36m(RayTrainWorker pid=2946693)\u001b[0m [2025-02-17 09:33:53,365] [INFO] [config.py:978:print]   checkpoint_tag_validation_enabled  True\n",
      "\u001b[36m(RayTrainWorker pid=2946693)\u001b[0m [2025-02-17 09:33:53,365] [INFO] [config.py:978:print]   checkpoint_tag_validation_fail  False\n",
      "\u001b[36m(RayTrainWorker pid=2946693)\u001b[0m [2025-02-17 09:33:53,365] [INFO] [config.py:978:print]   comms_config ................. <deepspeed.comm.config.DeepSpeedCommsConfig object at 0x7f9c7d977850>\n",
      "\u001b[36m(RayTrainWorker pid=2946693)\u001b[0m [2025-02-17 09:33:53,365] [INFO] [config.py:978:print]   communication_data_type ...... None\n",
      "\u001b[36m(RayTrainWorker pid=2946693)\u001b[0m [2025-02-17 09:33:53,365] [INFO] [config.py:978:print]   compression_config ........... {'weight_quantization': {'shared_parameters': {'enabled': False, 'quantizer_kernel': False, 'schedule_offset': 0, 'quantize_groups': 1, 'quantize_verbose': False, 'quantization_type': 'symmetric', 'quantize_weight_in_forward': False, 'rounding': 'nearest', 'fp16_mixed_quantize': False, 'quantize_change_ratio': 0.001}, 'different_groups': {}}, 'activation_quantization': {'shared_parameters': {'enabled': False, 'quantization_type': 'symmetric', 'range_calibration': 'dynamic', 'schedule_offset': 1000}, 'different_groups': {}}, 'sparse_pruning': {'shared_parameters': {'enabled': False, 'method': 'l1', 'schedule_offset': 1000}, 'different_groups': {}}, 'row_pruning': {'shared_parameters': {'enabled': False, 'method': 'l1', 'schedule_offset': 1000}, 'different_groups': {}}, 'head_pruning': {'shared_parameters': {'enabled': False, 'method': 'topk', 'schedule_offset': 1000}, 'different_groups': {}}, 'channel_pruning': {'shared_parameters': {'enabled': False, 'method': 'l1', 'schedule_offset': 1000}, 'different_groups': {}}, 'layer_reduction': {'enabled': False}}\n",
      "\u001b[36m(RayTrainWorker pid=2946693)\u001b[0m [2025-02-17 09:33:53,365] [INFO] [config.py:978:print]   curriculum_enabled_legacy .... False\n",
      "\u001b[36m(RayTrainWorker pid=2946693)\u001b[0m [2025-02-17 09:33:53,365] [INFO] [config.py:978:print]   curriculum_params_legacy ..... False\n",
      "\u001b[36m(RayTrainWorker pid=2946693)\u001b[0m [2025-02-17 09:33:53,365] [INFO] [config.py:978:print]   data_efficiency_config ....... {'enabled': False, 'seed': 1234, 'data_sampling': {'enabled': False, 'num_epochs': 1000, 'num_workers': 0, 'curriculum_learning': {'enabled': False}}, 'data_routing': {'enabled': False, 'random_ltd': {'enabled': False, 'layer_token_lr_schedule': {'enabled': False}}}}\n",
      "\u001b[36m(RayTrainWorker pid=2946693)\u001b[0m [2025-02-17 09:33:53,366] [INFO] [config.py:978:print]   data_efficiency_enabled ...... False\n",
      "\u001b[36m(RayTrainWorker pid=2946693)\u001b[0m [2025-02-17 09:33:53,366] [INFO] [config.py:978:print]   dataloader_drop_last ......... False\n",
      "\u001b[36m(RayTrainWorker pid=2946693)\u001b[0m [2025-02-17 09:33:53,366] [INFO] [config.py:978:print]   disable_allgather ............ False\n",
      "\u001b[36m(RayTrainWorker pid=2946693)\u001b[0m [2025-02-17 09:33:53,366] [INFO] [config.py:978:print]   dump_state ................... False\n",
      "\u001b[36m(RayTrainWorker pid=2946693)\u001b[0m [2025-02-17 09:33:53,366] [INFO] [config.py:978:print]   dynamic_loss_scale_args ...... {'init_scale': 256, 'scale_window': 1000, 'delayed_shift': 4, 'consecutive_hysteresis': True, 'min_scale': 1}\n",
      "\u001b[36m(RayTrainWorker pid=2946693)\u001b[0m [2025-02-17 09:33:53,366] [INFO] [config.py:978:print]   eigenvalue_enabled ........... False\n",
      "\u001b[36m(RayTrainWorker pid=2946693)\u001b[0m [2025-02-17 09:33:53,366] [INFO] [config.py:978:print]   eigenvalue_gas_boundary_resolution  1\n",
      "\u001b[36m(RayTrainWorker pid=2946693)\u001b[0m [2025-02-17 09:33:53,366] [INFO] [config.py:978:print]   eigenvalue_layer_name ........ bert.encoder.layer\n",
      "\u001b[36m(RayTrainWorker pid=2946693)\u001b[0m [2025-02-17 09:33:53,366] [INFO] [config.py:978:print]   eigenvalue_layer_num ......... 0\n",
      "\u001b[36m(RayTrainWorker pid=2946693)\u001b[0m [2025-02-17 09:33:53,366] [INFO] [config.py:978:print]   eigenvalue_max_iter .......... 100\n",
      "\u001b[36m(RayTrainWorker pid=2946693)\u001b[0m [2025-02-17 09:33:53,366] [INFO] [config.py:978:print]   eigenvalue_stability ......... 1e-06\n",
      "\u001b[36m(RayTrainWorker pid=2946693)\u001b[0m [2025-02-17 09:33:53,366] [INFO] [config.py:978:print]   eigenvalue_tol ............... 0.01\n",
      "\u001b[36m(RayTrainWorker pid=2946693)\u001b[0m [2025-02-17 09:33:53,366] [INFO] [config.py:978:print]   eigenvalue_verbose ........... False\n",
      "\u001b[36m(RayTrainWorker pid=2946693)\u001b[0m [2025-02-17 09:33:53,366] [INFO] [config.py:978:print]   elasticity_enabled ........... False\n",
      "\u001b[36m(RayTrainWorker pid=2946693)\u001b[0m [2025-02-17 09:33:53,366] [INFO] [config.py:978:print]   flops_profiler_config ........ {\n",
      "\u001b[36m(RayTrainWorker pid=2946693)\u001b[0m     \"enabled\": false, \n",
      "\u001b[36m(RayTrainWorker pid=2946693)\u001b[0m     \"recompute_fwd_factor\": 0.0, \n",
      "\u001b[36m(RayTrainWorker pid=2946693)\u001b[0m     \"profile_step\": 1, \n",
      "\u001b[36m(RayTrainWorker pid=2946693)\u001b[0m     \"module_depth\": -1, \n",
      "\u001b[36m(RayTrainWorker pid=2946693)\u001b[0m     \"top_modules\": 1, \n",
      "\u001b[36m(RayTrainWorker pid=2946693)\u001b[0m     \"detailed\": true, \n",
      "\u001b[36m(RayTrainWorker pid=2946693)\u001b[0m     \"output_file\": null\n",
      "\u001b[36m(RayTrainWorker pid=2946693)\u001b[0m }\n",
      "\u001b[36m(RayTrainWorker pid=2946693)\u001b[0m [2025-02-17 09:33:53,366] [INFO] [config.py:978:print]   fp16_auto_cast ............... False\n",
      "\u001b[36m(RayTrainWorker pid=2946693)\u001b[0m [2025-02-17 09:33:53,366] [INFO] [config.py:978:print]   fp16_enabled ................. True\n",
      "\u001b[36m(RayTrainWorker pid=2946693)\u001b[0m [2025-02-17 09:33:53,366] [INFO] [config.py:978:print]   fp16_master_weights_and_gradients  False\n",
      "\u001b[36m(RayTrainWorker pid=2946693)\u001b[0m [2025-02-17 09:33:53,366] [INFO] [config.py:978:print]   global_rank .................. 0\n",
      "\u001b[36m(RayTrainWorker pid=2946693)\u001b[0m [2025-02-17 09:33:53,366] [INFO] [config.py:978:print]   grad_accum_dtype ............. None\n",
      "\u001b[36m(RayTrainWorker pid=2946693)\u001b[0m [2025-02-17 09:33:53,366] [INFO] [config.py:978:print]   gradient_accumulation_steps .. 1\n",
      "\u001b[36m(RayTrainWorker pid=2946693)\u001b[0m [2025-02-17 09:33:53,366] [INFO] [config.py:978:print]   gradient_clipping ............ 1.0\n",
      "\u001b[36m(RayTrainWorker pid=2946693)\u001b[0m [2025-02-17 09:33:53,366] [INFO] [config.py:978:print]   gradient_predivide_factor .... 1.0\n",
      "\u001b[36m(RayTrainWorker pid=2946693)\u001b[0m [2025-02-17 09:33:53,366] [INFO] [config.py:978:print]   hybrid_engine ................ enabled=False max_out_tokens=512 inference_tp_size=1 release_inference_cache=False pin_parameters=True tp_gather_partition_size=8\n",
      "\u001b[36m(RayTrainWorker pid=2946693)\u001b[0m [2025-02-17 09:33:53,366] [INFO] [config.py:978:print]   initial_dynamic_scale ........ 256\n",
      "\u001b[36m(RayTrainWorker pid=2946693)\u001b[0m [2025-02-17 09:33:53,366] [INFO] [config.py:978:print]   load_universal_checkpoint .... False\n",
      "\u001b[36m(RayTrainWorker pid=2946693)\u001b[0m [2025-02-17 09:33:53,366] [INFO] [config.py:978:print]   loss_scale ................... 0\n",
      "\u001b[36m(RayTrainWorker pid=2946693)\u001b[0m [2025-02-17 09:33:53,366] [INFO] [config.py:978:print]   memory_breakdown ............. False\n",
      "\u001b[36m(RayTrainWorker pid=2946693)\u001b[0m [2025-02-17 09:33:53,366] [INFO] [config.py:978:print]   mics_hierarchial_params_gather  False\n",
      "\u001b[36m(RayTrainWorker pid=2946693)\u001b[0m [2025-02-17 09:33:53,366] [INFO] [config.py:978:print]   mics_shard_size .............. -1\n",
      "\u001b[36m(RayTrainWorker pid=2946693)\u001b[0m [2025-02-17 09:33:53,366] [INFO] [config.py:978:print]   monitor_config ............... tensorboard=TensorBoardConfig(enabled=False, output_path='', job_name='DeepSpeedJobName') wandb=WandbConfig(enabled=False, group=None, team=None, project='deepspeed') csv_monitor=CSVConfig(enabled=False, output_path='', job_name='DeepSpeedJobName') enabled=False\n",
      "\u001b[36m(RayTrainWorker pid=2946693)\u001b[0m [2025-02-17 09:33:53,367] [INFO] [config.py:978:print]   nebula_config ................ {\n",
      "\u001b[36m(RayTrainWorker pid=2946693)\u001b[0m     \"enabled\": false, \n",
      "\u001b[36m(RayTrainWorker pid=2946693)\u001b[0m     \"persistent_storage_path\": null, \n",
      "\u001b[36m(RayTrainWorker pid=2946693)\u001b[0m     \"persistent_time_interval\": 100, \n",
      "\u001b[36m(RayTrainWorker pid=2946693)\u001b[0m     \"num_of_version_in_retention\": 2, \n",
      "\u001b[36m(RayTrainWorker pid=2946693)\u001b[0m     \"enable_nebula_load\": true, \n",
      "\u001b[36m(RayTrainWorker pid=2946693)\u001b[0m     \"load_path\": null\n",
      "\u001b[36m(RayTrainWorker pid=2946693)\u001b[0m }\n",
      "\u001b[36m(RayTrainWorker pid=2946693)\u001b[0m [2025-02-17 09:33:53,367] [INFO] [config.py:978:print]   optimizer_legacy_fusion ...... False\n",
      "\u001b[36m(RayTrainWorker pid=2946693)\u001b[0m [2025-02-17 09:33:53,367] [INFO] [config.py:978:print]   optimizer_name ............... adamw\n",
      "\u001b[36m(RayTrainWorker pid=2946693)\u001b[0m [2025-02-17 09:33:53,367] [INFO] [config.py:978:print]   optimizer_params ............. {'lr': 2e-05, 'betas': [0.9, 0.999], 'eps': 1e-08}\n",
      "\u001b[36m(RayTrainWorker pid=2946693)\u001b[0m [2025-02-17 09:33:53,367] [INFO] [config.py:978:print]   pipeline ..................... {'stages': 'auto', 'partition': 'best', 'seed_layers': False, 'activation_checkpoint_interval': 0, 'pipe_partitioned': True, 'grad_partitioned': True}\n",
      "\u001b[36m(RayTrainWorker pid=2946693)\u001b[0m [2025-02-17 09:33:53,367] [INFO] [config.py:978:print]   pld_enabled .................. False\n",
      "\u001b[36m(RayTrainWorker pid=2946693)\u001b[0m [2025-02-17 09:33:53,367] [INFO] [config.py:978:print]   pld_params ................... False\n",
      "\u001b[36m(RayTrainWorker pid=2946693)\u001b[0m [2025-02-17 09:33:53,367] [INFO] [config.py:978:print]   prescale_gradients ........... False\n",
      "\u001b[36m(RayTrainWorker pid=2946693)\u001b[0m [2025-02-17 09:33:53,367] [INFO] [config.py:978:print]   scheduler_name ............... None\n",
      "\u001b[36m(RayTrainWorker pid=2946693)\u001b[0m [2025-02-17 09:33:53,367] [INFO] [config.py:978:print]   scheduler_params ............. None\n",
      "\u001b[36m(RayTrainWorker pid=2946693)\u001b[0m [2025-02-17 09:33:53,367] [INFO] [config.py:978:print]   seq_parallel_communication_data_type  torch.float32\n",
      "\u001b[36m(RayTrainWorker pid=2946693)\u001b[0m [2025-02-17 09:33:53,367] [INFO] [config.py:978:print]   sparse_attention ............. None\n",
      "\u001b[36m(RayTrainWorker pid=2946693)\u001b[0m [2025-02-17 09:33:53,367] [INFO] [config.py:978:print]   sparse_gradients_enabled ..... False\n",
      "\u001b[36m(RayTrainWorker pid=2946693)\u001b[0m [2025-02-17 09:33:53,367] [INFO] [config.py:978:print]   steps_per_print .............. 10\n",
      "\u001b[36m(RayTrainWorker pid=2946693)\u001b[0m [2025-02-17 09:33:53,367] [INFO] [config.py:978:print]   train_batch_size ............. 8\n",
      "\u001b[36m(RayTrainWorker pid=2946693)\u001b[0m [2025-02-17 09:33:53,367] [INFO] [config.py:978:print]   train_micro_batch_size_per_gpu  4\n",
      "\u001b[36m(RayTrainWorker pid=2946693)\u001b[0m [2025-02-17 09:33:53,367] [INFO] [config.py:978:print]   use_node_local_storage ....... False\n",
      "\u001b[36m(RayTrainWorker pid=2946693)\u001b[0m [2025-02-17 09:33:53,367] [INFO] [config.py:978:print]   wall_clock_breakdown ......... False\n",
      "\u001b[36m(RayTrainWorker pid=2946693)\u001b[0m [2025-02-17 09:33:53,367] [INFO] [config.py:978:print]   weight_quantization_config ... None\n",
      "\u001b[36m(RayTrainWorker pid=2946693)\u001b[0m [2025-02-17 09:33:53,367] [INFO] [config.py:978:print]   world_size ................... 2\n",
      "\u001b[36m(RayTrainWorker pid=2946693)\u001b[0m [2025-02-17 09:33:53,367] [INFO] [config.py:978:print]   zero_allow_untested_optimizer  False\n",
      "\u001b[36m(RayTrainWorker pid=2946693)\u001b[0m [2025-02-17 09:33:53,367] [INFO] [config.py:978:print]   zero_config .................. stage=3 contiguous_gradients=True reduce_scatter=True reduce_bucket_size=16777216 allgather_partitions=True allgather_bucket_size=500,000,000 overlap_comm=True load_from_fp32_weights=True elastic_checkpoint=False offload_param=None offload_optimizer=DeepSpeedZeroOffloadOptimizerConfig(device='cpu', nvme_path=None, buffer_count=4, pin_memory=True, pipeline=False, pipeline_read=False, pipeline_write=False, fast_init=False, ratio=1.0) sub_group_size=1,000,000,000 cpu_offload_param=None cpu_offload_use_pin_memory=None cpu_offload=None prefetch_bucket_size=15099494 param_persistence_threshold=40960 model_persistence_threshold=sys.maxsize max_live_parameters=1,000,000,000 max_reuse_distance=1,000,000,000 gather_16bit_weights_on_model_save=True stage3_gather_fp16_weights_on_model_save=False ignore_unused_parameters=True legacy_stage1=False round_robin_gradients=True zero_hpz_partition_size=1 zero_quantized_weights=False zero_quantized_nontrainable_weights=False zero_quantized_gradients=False mics_shard_size=-1 mics_hierarchical_params_gather=False memory_efficient_linear=True pipeline_loading_checkpoint=False override_module_apply=True\n",
      "\u001b[36m(RayTrainWorker pid=2946693)\u001b[0m [2025-02-17 09:33:53,367] [INFO] [config.py:978:print]   zero_enabled ................. True\n",
      "\u001b[36m(RayTrainWorker pid=2946693)\u001b[0m [2025-02-17 09:33:53,367] [INFO] [config.py:978:print]   zero_force_ds_cpu_optimizer .. True\n",
      "\u001b[36m(RayTrainWorker pid=2946693)\u001b[0m [2025-02-17 09:33:53,367] [INFO] [config.py:978:print]   zero_optimization_stage ...... 3\n",
      "\u001b[36m(RayTrainWorker pid=2946693)\u001b[0m [2025-02-17 09:33:53,368] [INFO] [config.py:964:print_user_config]   json = {\n",
      "\u001b[36m(RayTrainWorker pid=2946693)\u001b[0m     \"fp16\": {\n",
      "\u001b[36m(RayTrainWorker pid=2946693)\u001b[0m         \"enabled\": true, \n",
      "\u001b[36m(RayTrainWorker pid=2946693)\u001b[0m         \"initial_scale_power\": 8, \n",
      "\u001b[36m(RayTrainWorker pid=2946693)\u001b[0m         \"hysteresis\": 4, \n",
      "\u001b[36m(RayTrainWorker pid=2946693)\u001b[0m         \"consecutive_hysteresis\": true\n",
      "\u001b[36m(RayTrainWorker pid=2946693)\u001b[0m     }, \n",
      "\u001b[36m(RayTrainWorker pid=2946693)\u001b[0m     \"bf16\": {\n",
      "\u001b[36m(RayTrainWorker pid=2946693)\u001b[0m         \"enabled\": false\n",
      "\u001b[36m(RayTrainWorker pid=2946693)\u001b[0m     }, \n",
      "\u001b[36m(RayTrainWorker pid=2946693)\u001b[0m     \"optimizer\": {\n",
      "\u001b[36m(RayTrainWorker pid=2946693)\u001b[0m         \"type\": \"AdamW\", \n",
      "\u001b[36m(RayTrainWorker pid=2946693)\u001b[0m         \"params\": {\n",
      "\u001b[36m(RayTrainWorker pid=2946693)\u001b[0m             \"lr\": 2e-05, \n",
      "\u001b[36m(RayTrainWorker pid=2946693)\u001b[0m             \"betas\": [0.9, 0.999], \n",
      "\u001b[36m(RayTrainWorker pid=2946693)\u001b[0m             \"eps\": 1e-08\n",
      "\u001b[36m(RayTrainWorker pid=2946693)\u001b[0m         }\n",
      "\u001b[36m(RayTrainWorker pid=2946693)\u001b[0m     }, \n",
      "\u001b[36m(RayTrainWorker pid=2946693)\u001b[0m     \"zero_optimization\": {\n",
      "\u001b[36m(RayTrainWorker pid=2946693)\u001b[0m         \"stage\": 3, \n",
      "\u001b[36m(RayTrainWorker pid=2946693)\u001b[0m         \"offload_optimizer\": {\n",
      "\u001b[36m(RayTrainWorker pid=2946693)\u001b[0m             \"device\": \"cpu\", \n",
      "\u001b[36m(RayTrainWorker pid=2946693)\u001b[0m             \"pin_memory\": true\n",
      "\u001b[36m(RayTrainWorker pid=2946693)\u001b[0m         }, \n",
      "\u001b[36m(RayTrainWorker pid=2946693)\u001b[0m         \"overlap_comm\": true, \n",
      "\u001b[36m(RayTrainWorker pid=2946693)\u001b[0m         \"contiguous_gradients\": true, \n",
      "\u001b[36m(RayTrainWorker pid=2946693)\u001b[0m         \"reduce_bucket_size\": 1.677722e+07, \n",
      "\u001b[36m(RayTrainWorker pid=2946693)\u001b[0m         \"stage3_prefetch_bucket_size\": 1.509949e+07, \n",
      "\u001b[36m(RayTrainWorker pid=2946693)\u001b[0m         \"stage3_param_persistence_threshold\": 4.096000e+04, \n",
      "\u001b[36m(RayTrainWorker pid=2946693)\u001b[0m         \"gather_16bit_weights_on_model_save\": true, \n",
      "\u001b[36m(RayTrainWorker pid=2946693)\u001b[0m         \"round_robin_gradients\": true\n",
      "\u001b[36m(RayTrainWorker pid=2946693)\u001b[0m     }, \n",
      "\u001b[36m(RayTrainWorker pid=2946693)\u001b[0m     \"gradient_accumulation_steps\": 1, \n",
      "\u001b[36m(RayTrainWorker pid=2946693)\u001b[0m     \"gradient_clipping\": 1.0, \n",
      "\u001b[36m(RayTrainWorker pid=2946693)\u001b[0m     \"steps_per_print\": 10, \n",
      "\u001b[36m(RayTrainWorker pid=2946693)\u001b[0m     \"train_batch_size\": 8, \n",
      "\u001b[36m(RayTrainWorker pid=2946693)\u001b[0m     \"train_micro_batch_size_per_gpu\": 4, \n",
      "\u001b[36m(RayTrainWorker pid=2946693)\u001b[0m     \"wall_clock_breakdown\": false\n",
      "\u001b[36m(RayTrainWorker pid=2946693)\u001b[0m }\n"
     ]
    },
    {
     "name": "stderr",
     "output_type": "stream",
     "text": [
      "\u001b[36m(SplitCoordinator pid=2947257)\u001b[0m Executing DAG InputDataBuffer[Input] -> TaskPoolMapOperator[MapBatches(split_text)->MapBatches(tokenize)] -> OutputSplitter[split(2, equal=True)]\n",
      "\u001b[36m(SplitCoordinator pid=2947257)\u001b[0m Execution config: ExecutionOptions(resource_limits=ExecutionResources(cpu=None, gpu=None, object_store_memory=None), exclude_resources=ExecutionResources(cpu=5.0, gpu=2.0, object_store_memory=0.0), locality_with_output=['ebb69d1f227a3ae2d8c10cf5364cdd3d721490cfa146ad3a2e84a909', 'ebb69d1f227a3ae2d8c10cf5364cdd3d721490cfa146ad3a2e84a909'], preserve_order=False, actor_locality_enabled=True, verbose_progress=False)\n",
      "\u001b[36m(SplitCoordinator pid=2947257)\u001b[0m Tip: For detailed progress reporting, run `ray.data.DataContext.get_current().execution_options.verbose_progress = True`\n",
      "\u001b[36m(MapBatches(split_text)->MapBatches(tokenize) pid=2953901)\u001b[0m /home/jupyter/.local/lib/python3.10/site-packages/huggingface_hub/file_download.py:795: FutureWarning: `resume_download` is deprecated and will be removed in version 1.0.0. Downloads always resume when possible. If you want to force a new download, use `force_download=True`.\n",
      "\u001b[36m(MapBatches(split_text)->MapBatches(tokenize) pid=2953901)\u001b[0m   warnings.warn(\n",
      "\u001b[36m(RayTrainWorker pid=2946694)\u001b[0m /home/jupyter/.local/lib/python3.10/site-packages/torch/utils/checkpoint.py:429: UserWarning: torch.utils.checkpoint: please pass in use_reentrant=True or use_reentrant=False explicitly. The default value of use_reentrant will be updated to be False in the future. To maintain current behavior, pass use_reentrant=True. It is recommended that you use use_reentrant=False. Refer to docs for more details on the differences between the two variants.\n",
      "\u001b[36m(RayTrainWorker pid=2946694)\u001b[0m   warnings.warn(\n",
      "\u001b[36m(RayTrainWorker pid=2946693)\u001b[0m   warnings.warn(\n",
      "\u001b[36m(RayTrainWorker pid=2946694)\u001b[0m /var/tmp/ray/session_2025-02-17_09-23-41_688994_2604400/runtime_resources/pip/a8786a8435aa1fe4e7abf24f81ef0a0191508152/virtualenv/lib/python3.10/site-packages/deepspeed/runtime/zero/stage3.py:1330: UserWarning: The torch.cuda.*DtypeTensor constructors are no longer recommended. It's best to use methods such as torch.tensor(data, dtype=*, device='cuda') to create tensors. (Triggered internally at ../torch/csrc/tensor/python_tensor.cpp:83.)\n",
      "\u001b[36m(RayTrainWorker pid=2946694)\u001b[0m   total_norm_cuda = get_accelerator().FloatTensor([float(total_norm)])\n",
      "\u001b[36m(RayTrainWorker pid=2946693)\u001b[0m /home/jupyter/.local/lib/python3.10/site-packages/torch/utils/checkpoint.py:429: UserWarning: torch.utils.checkpoint: please pass in use_reentrant=True or use_reentrant=False explicitly. The default value of use_reentrant will be updated to be False in the future. To maintain current behavior, pass use_reentrant=True. It is recommended that you use use_reentrant=False. Refer to docs for more details on the differences between the two variants.\n"
     ]
    },
    {
     "name": "stdout",
     "output_type": "stream",
     "text": [
      "\u001b[36m(RayTrainWorker pid=2946693)\u001b[0m [2025-02-17 09:34:54,181] [INFO] [loss_scaler.py:197:update_scale] Consecutive hysteresis is enabled. Restoring hysteresis to 4\n"
     ]
    },
    {
     "name": "stderr",
     "output_type": "stream",
     "text": [
      "\u001b[36m(RayTrainWorker pid=2946694)\u001b[0m /home/jupyter/.local/lib/python3.10/site-packages/torch/utils/checkpoint.py:429: UserWarning: torch.utils.checkpoint: please pass in use_reentrant=True or use_reentrant=False explicitly. The default value of use_reentrant will be updated to be False in the future. To maintain current behavior, pass use_reentrant=True. It is recommended that you use use_reentrant=False. Refer to docs for more details on the differences between the two variants.\n",
      "\u001b[36m(RayTrainWorker pid=2946694)\u001b[0m   warnings.warn(\n",
      "\u001b[36m(RayTrainWorker pid=2946693)\u001b[0m /var/tmp/ray/session_2025-02-17_09-23-41_688994_2604400/runtime_resources/pip/a8786a8435aa1fe4e7abf24f81ef0a0191508152/virtualenv/lib/python3.10/site-packages/deepspeed/runtime/zero/stage3.py:1330: UserWarning: The torch.cuda.*DtypeTensor constructors are no longer recommended. It's best to use methods such as torch.tensor(data, dtype=*, device='cuda') to create tensors. (Triggered internally at ../torch/csrc/tensor/python_tensor.cpp:83.)\n",
      "\u001b[36m(RayTrainWorker pid=2946693)\u001b[0m   total_norm_cuda = get_accelerator().FloatTensor([float(total_norm)])\n"
     ]
    },
    {
     "name": "stdout",
     "output_type": "stream",
     "text": [
      "\u001b[36m(RayTrainWorker pid=2946693)\u001b[0m [2025-02-17 09:35:00,244] [WARNING] [stage3.py:1993:step] 1 pytorch allocator cache flushes since last step. this happens when there is high memory pressure and is detrimental to performance. if this is happening frequently consider adjusting settings to reduce memory consumption. If you are unable to make the cache flushes go away consider adding get_accelerator().empty_cache() calls in your training loop to ensure that all ranks flush their caches at the same time\n",
      "\u001b[36m(RayTrainWorker pid=2946693)\u001b[0m {'loss': 11.5234, 'learning_rate': 1.999951730462905e-05, 'epoch': 0.0}\n",
      "\u001b[36m(RayTrainWorker pid=2946693)\u001b[0m [2025-02-17 09:35:21,281] [INFO] [loss_scaler.py:197:update_scale] Consecutive hysteresis is enabled. Restoring hysteresis to 4\n"
     ]
    },
    {
     "name": "stderr",
     "output_type": "stream",
     "text": [
      "\u001b[36m(RayTrainWorker pid=2946694)\u001b[0m /home/jupyter/.local/lib/python3.10/site-packages/torch/utils/checkpoint.py:429: UserWarning: torch.utils.checkpoint: please pass in use_reentrant=True or use_reentrant=False explicitly. The default value of use_reentrant will be updated to be False in the future. To maintain current behavior, pass use_reentrant=True. It is recommended that you use use_reentrant=False. Refer to docs for more details on the differences between the two variants.\u001b[32m [repeated 2x across cluster] (Ray deduplicates logs by default. Set RAY_DEDUP_LOGS=0 to disable log deduplication, or see https://docs.ray.io/en/master/ray-observability/ray-logging.html#log-deduplication for more options.)\u001b[0m\n",
      "\u001b[36m(RayTrainWorker pid=2946694)\u001b[0m   warnings.warn(\u001b[32m [repeated 2x across cluster]\u001b[0m\n"
     ]
    },
    {
     "name": "stdout",
     "output_type": "stream",
     "text": [
      "\u001b[36m(RayTrainWorker pid=2946693)\u001b[0m {'loss': 7.043, 'learning_rate': 1.99990346092581e-05, 'epoch': 0.0}\n",
      "\u001b[36m(RayTrainWorker pid=2946693)\u001b[0m [2025-02-17 09:35:47,959] [INFO] [loss_scaler.py:197:update_scale] Consecutive hysteresis is enabled. Restoring hysteresis to 4\n"
     ]
    },
    {
     "name": "stderr",
     "output_type": "stream",
     "text": [
      "\u001b[36m(RayTrainWorker pid=2946694)\u001b[0m /home/jupyter/.local/lib/python3.10/site-packages/torch/utils/checkpoint.py:429: UserWarning: torch.utils.checkpoint: please pass in use_reentrant=True or use_reentrant=False explicitly. The default value of use_reentrant will be updated to be False in the future. To maintain current behavior, pass use_reentrant=True. It is recommended that you use use_reentrant=False. Refer to docs for more details on the differences between the two variants.\u001b[32m [repeated 2x across cluster]\u001b[0m\n",
      "\u001b[36m(RayTrainWorker pid=2946694)\u001b[0m   warnings.warn(\u001b[32m [repeated 2x across cluster]\u001b[0m\n"
     ]
    },
    {
     "name": "stdout",
     "output_type": "stream",
     "text": [
      "\u001b[36m(RayTrainWorker pid=2946693)\u001b[0m {'loss': 3.7744, 'learning_rate': 1.9998551913887148e-05, 'epoch': 0.0}\n",
      "\u001b[36m(RayTrainWorker pid=2946693)\u001b[0m [2025-02-17 09:36:14,651] [INFO] [loss_scaler.py:197:update_scale] Consecutive hysteresis is enabled. Restoring hysteresis to 4\n"
     ]
    },
    {
     "name": "stderr",
     "output_type": "stream",
     "text": [
      "\u001b[36m(RayTrainWorker pid=2946694)\u001b[0m /home/jupyter/.local/lib/python3.10/site-packages/torch/utils/checkpoint.py:429: UserWarning: torch.utils.checkpoint: please pass in use_reentrant=True or use_reentrant=False explicitly. The default value of use_reentrant will be updated to be False in the future. To maintain current behavior, pass use_reentrant=True. It is recommended that you use use_reentrant=False. Refer to docs for more details on the differences between the two variants.\u001b[32m [repeated 2x across cluster]\u001b[0m\n",
      "\u001b[36m(RayTrainWorker pid=2946694)\u001b[0m   warnings.warn(\u001b[32m [repeated 2x across cluster]\u001b[0m\n"
     ]
    },
    {
     "name": "stdout",
     "output_type": "stream",
     "text": [
      "\u001b[36m(RayTrainWorker pid=2946693)\u001b[0m {'loss': 0.4137, 'learning_rate': 1.9998069218516197e-05, 'epoch': 0.0}\n",
      "\u001b[36m(RayTrainWorker pid=2946693)\u001b[0m [2025-02-17 09:36:41,344] [INFO] [loss_scaler.py:197:update_scale] Consecutive hysteresis is enabled. Restoring hysteresis to 4\n"
     ]
    },
    {
     "name": "stderr",
     "output_type": "stream",
     "text": [
      "\u001b[36m(RayTrainWorker pid=2946694)\u001b[0m /home/jupyter/.local/lib/python3.10/site-packages/torch/utils/checkpoint.py:429: UserWarning: torch.utils.checkpoint: please pass in use_reentrant=True or use_reentrant=False explicitly. The default value of use_reentrant will be updated to be False in the future. To maintain current behavior, pass use_reentrant=True. It is recommended that you use use_reentrant=False. Refer to docs for more details on the differences between the two variants.\u001b[32m [repeated 2x across cluster]\u001b[0m\n",
      "\u001b[36m(RayTrainWorker pid=2946694)\u001b[0m   warnings.warn(\u001b[32m [repeated 2x across cluster]\u001b[0m\n"
     ]
    },
    {
     "name": "stdout",
     "output_type": "stream",
     "text": [
      "\u001b[36m(RayTrainWorker pid=2946693)\u001b[0m {'loss': 0.1603, 'learning_rate': 1.9997586523145246e-05, 'epoch': 0.0}\n",
      "\u001b[36m(RayTrainWorker pid=2946693)\u001b[0m [2025-02-17 09:37:07,952] [INFO] [loss_scaler.py:197:update_scale] Consecutive hysteresis is enabled. Restoring hysteresis to 4\n",
      "\u001b[36m(RayTrainWorker pid=2946693)\u001b[0m {'loss': 0.1926, 'learning_rate': 1.9997103827774295e-05, 'epoch': 0.0}\n"
     ]
    },
    {
     "name": "stderr",
     "output_type": "stream",
     "text": [
      "\u001b[36m(RayTrainWorker pid=2946694)\u001b[0m /home/jupyter/.local/lib/python3.10/site-packages/torch/utils/checkpoint.py:429: UserWarning: torch.utils.checkpoint: please pass in use_reentrant=True or use_reentrant=False explicitly. The default value of use_reentrant will be updated to be False in the future. To maintain current behavior, pass use_reentrant=True. It is recommended that you use use_reentrant=False. Refer to docs for more details on the differences between the two variants.\u001b[32m [repeated 2x across cluster]\u001b[0m\n",
      "\u001b[36m(RayTrainWorker pid=2946694)\u001b[0m   warnings.warn(\u001b[32m [repeated 2x across cluster]\u001b[0m\n"
     ]
    },
    {
     "name": "stdout",
     "output_type": "stream",
     "text": [
      "\u001b[36m(RayTrainWorker pid=2946693)\u001b[0m [2025-02-17 09:37:34,492] [INFO] [loss_scaler.py:197:update_scale] Consecutive hysteresis is enabled. Restoring hysteresis to 4\n"
     ]
    },
    {
     "name": "stderr",
     "output_type": "stream",
     "text": [
      "\u001b[36m(RayTrainWorker pid=2946694)\u001b[0m /home/jupyter/.local/lib/python3.10/site-packages/torch/utils/checkpoint.py:429: UserWarning: torch.utils.checkpoint: please pass in use_reentrant=True or use_reentrant=False explicitly. The default value of use_reentrant will be updated to be False in the future. To maintain current behavior, pass use_reentrant=True. It is recommended that you use use_reentrant=False. Refer to docs for more details on the differences between the two variants.\u001b[32m [repeated 2x across cluster]\u001b[0m\n",
      "\u001b[36m(RayTrainWorker pid=2946694)\u001b[0m   warnings.warn(\u001b[32m [repeated 2x across cluster]\u001b[0m\n"
     ]
    },
    {
     "name": "stdout",
     "output_type": "stream",
     "text": [
      "\u001b[36m(RayTrainWorker pid=2946693)\u001b[0m {'loss': 0.2204, 'learning_rate': 1.9996621132403344e-05, 'epoch': 0.0}\n",
      "\u001b[36m(RayTrainWorker pid=2946693)\u001b[0m [2025-02-17 09:38:01,159] [INFO] [loss_scaler.py:197:update_scale] Consecutive hysteresis is enabled. Restoring hysteresis to 4\n"
     ]
    },
    {
     "name": "stderr",
     "output_type": "stream",
     "text": [
      "\u001b[36m(RayTrainWorker pid=2946694)\u001b[0m /home/jupyter/.local/lib/python3.10/site-packages/torch/utils/checkpoint.py:429: UserWarning: torch.utils.checkpoint: please pass in use_reentrant=True or use_reentrant=False explicitly. The default value of use_reentrant will be updated to be False in the future. To maintain current behavior, pass use_reentrant=True. It is recommended that you use use_reentrant=False. Refer to docs for more details on the differences between the two variants.\u001b[32m [repeated 2x across cluster]\u001b[0m\n",
      "\u001b[36m(RayTrainWorker pid=2946694)\u001b[0m   warnings.warn(\u001b[32m [repeated 2x across cluster]\u001b[0m\n"
     ]
    },
    {
     "name": "stdout",
     "output_type": "stream",
     "text": [
      "\u001b[36m(RayTrainWorker pid=2946693)\u001b[0m {'loss': 0.2071, 'learning_rate': 1.999613843703239e-05, 'epoch': 0.0}\n",
      "\u001b[36m(RayTrainWorker pid=2946693)\u001b[0m [2025-02-17 09:38:27,726] [INFO] [loss_scaler.py:197:update_scale] Consecutive hysteresis is enabled. Restoring hysteresis to 4\n"
     ]
    },
    {
     "name": "stderr",
     "output_type": "stream",
     "text": [
      "\u001b[36m(RayTrainWorker pid=2946694)\u001b[0m /home/jupyter/.local/lib/python3.10/site-packages/torch/utils/checkpoint.py:429: UserWarning: torch.utils.checkpoint: please pass in use_reentrant=True or use_reentrant=False explicitly. The default value of use_reentrant will be updated to be False in the future. To maintain current behavior, pass use_reentrant=True. It is recommended that you use use_reentrant=False. Refer to docs for more details on the differences between the two variants.\u001b[32m [repeated 2x across cluster]\u001b[0m\n",
      "\u001b[36m(RayTrainWorker pid=2946694)\u001b[0m   warnings.warn(\u001b[32m [repeated 2x across cluster]\u001b[0m\n"
     ]
    },
    {
     "name": "stdout",
     "output_type": "stream",
     "text": [
      "\u001b[36m(RayTrainWorker pid=2946693)\u001b[0m {'loss': 0.0663, 'learning_rate': 1.9995655741661438e-05, 'epoch': 0.0}\n",
      "\u001b[36m(RayTrainWorker pid=2946693)\u001b[0m [2025-02-17 09:38:54,419] [INFO] [loss_scaler.py:197:update_scale] Consecutive hysteresis is enabled. Restoring hysteresis to 4\n",
      "\u001b[36m(RayTrainWorker pid=2946693)\u001b[0m [2025-02-17 09:39:00,291] [INFO] [logging.py:96:log_dist] [Rank 0] step=10, skipped=0, lr=[1.9995173046290487e-05], mom=[[0.9, 0.999]]\n",
      "\u001b[36m(RayTrainWorker pid=2946693)\u001b[0m [2025-02-17 09:39:00,292] [INFO] [timer.py:260:stop] epoch=0/micro_step=10/global_step=10, RunningAvgSamplesPerSec=0.3003790003652491, CurrSamplesPerSec=0.3000068093891749, MemAllocated=5.79GB, MaxMemAllocated=9.9GB\n",
      "\u001b[36m(RayTrainWorker pid=2946693)\u001b[0m {'loss': 0.104, 'learning_rate': 1.9995173046290487e-05, 'epoch': 0.0}\n"
     ]
    },
    {
     "name": "stderr",
     "output_type": "stream",
     "text": [
      "\u001b[36m(RayTrainWorker pid=2946694)\u001b[0m /home/jupyter/.local/lib/python3.10/site-packages/torch/utils/checkpoint.py:429: UserWarning: torch.utils.checkpoint: please pass in use_reentrant=True or use_reentrant=False explicitly. The default value of use_reentrant will be updated to be False in the future. To maintain current behavior, pass use_reentrant=True. It is recommended that you use use_reentrant=False. Refer to docs for more details on the differences between the two variants.\u001b[32m [repeated 2x across cluster]\u001b[0m\n",
      "\u001b[36m(RayTrainWorker pid=2946694)\u001b[0m   warnings.warn(\u001b[32m [repeated 2x across cluster]\u001b[0m\n"
     ]
    },
    {
     "name": "stdout",
     "output_type": "stream",
     "text": [
      "\u001b[36m(RayTrainWorker pid=2946693)\u001b[0m [2025-02-17 09:39:21,089] [INFO] [loss_scaler.py:197:update_scale] Consecutive hysteresis is enabled. Restoring hysteresis to 4\n"
     ]
    },
    {
     "name": "stderr",
     "output_type": "stream",
     "text": [
      "\u001b[36m(RayTrainWorker pid=2946694)\u001b[0m /home/jupyter/.local/lib/python3.10/site-packages/torch/utils/checkpoint.py:429: UserWarning: torch.utils.checkpoint: please pass in use_reentrant=True or use_reentrant=False explicitly. The default value of use_reentrant will be updated to be False in the future. To maintain current behavior, pass use_reentrant=True. It is recommended that you use use_reentrant=False. Refer to docs for more details on the differences between the two variants.\u001b[32m [repeated 2x across cluster]\u001b[0m\n",
      "\u001b[36m(RayTrainWorker pid=2946694)\u001b[0m   warnings.warn(\u001b[32m [repeated 2x across cluster]\u001b[0m\n"
     ]
    },
    {
     "name": "stdout",
     "output_type": "stream",
     "text": [
      "\u001b[36m(RayTrainWorker pid=2946693)\u001b[0m {'loss': 0.0766, 'learning_rate': 1.9994690350919536e-05, 'epoch': 0.0}\n",
      "\u001b[36m(RayTrainWorker pid=2946693)\u001b[0m [2025-02-17 09:39:47,672] [INFO] [loss_scaler.py:197:update_scale] Consecutive hysteresis is enabled. Restoring hysteresis to 4\n",
      "\u001b[36m(RayTrainWorker pid=2946693)\u001b[0m {'loss': 0.1313, 'learning_rate': 1.9994207655548585e-05, 'epoch': 0.0}\n"
     ]
    },
    {
     "name": "stderr",
     "output_type": "stream",
     "text": [
      "\u001b[36m(RayTrainWorker pid=2946694)\u001b[0m /home/jupyter/.local/lib/python3.10/site-packages/torch/utils/checkpoint.py:429: UserWarning: torch.utils.checkpoint: please pass in use_reentrant=True or use_reentrant=False explicitly. The default value of use_reentrant will be updated to be False in the future. To maintain current behavior, pass use_reentrant=True. It is recommended that you use use_reentrant=False. Refer to docs for more details on the differences between the two variants.\u001b[32m [repeated 2x across cluster]\u001b[0m\n",
      "\u001b[36m(RayTrainWorker pid=2946694)\u001b[0m   warnings.warn(\u001b[32m [repeated 2x across cluster]\u001b[0m\n"
     ]
    },
    {
     "name": "stdout",
     "output_type": "stream",
     "text": [
      "\u001b[36m(RayTrainWorker pid=2946693)\u001b[0m [2025-02-17 09:40:14,475] [INFO] [loss_scaler.py:197:update_scale] Consecutive hysteresis is enabled. Restoring hysteresis to 4\n"
     ]
    },
    {
     "name": "stderr",
     "output_type": "stream",
     "text": [
      "\u001b[36m(RayTrainWorker pid=2946694)\u001b[0m /home/jupyter/.local/lib/python3.10/site-packages/torch/utils/checkpoint.py:429: UserWarning: torch.utils.checkpoint: please pass in use_reentrant=True or use_reentrant=False explicitly. The default value of use_reentrant will be updated to be False in the future. To maintain current behavior, pass use_reentrant=True. It is recommended that you use use_reentrant=False. Refer to docs for more details on the differences between the two variants.\u001b[32m [repeated 2x across cluster]\u001b[0m\n",
      "\u001b[36m(RayTrainWorker pid=2946694)\u001b[0m   warnings.warn(\u001b[32m [repeated 2x across cluster]\u001b[0m\n"
     ]
    },
    {
     "name": "stdout",
     "output_type": "stream",
     "text": [
      "\u001b[36m(RayTrainWorker pid=2946693)\u001b[0m {'loss': 0.1407, 'learning_rate': 1.9993724960177633e-05, 'epoch': 0.0}\n",
      "\u001b[36m(RayTrainWorker pid=2946693)\u001b[0m [2025-02-17 09:40:41,181] [INFO] [loss_scaler.py:197:update_scale] Consecutive hysteresis is enabled. Restoring hysteresis to 4\n"
     ]
    },
    {
     "name": "stderr",
     "output_type": "stream",
     "text": [
      "\u001b[36m(RayTrainWorker pid=2946694)\u001b[0m /home/jupyter/.local/lib/python3.10/site-packages/torch/utils/checkpoint.py:429: UserWarning: torch.utils.checkpoint: please pass in use_reentrant=True or use_reentrant=False explicitly. The default value of use_reentrant will be updated to be False in the future. To maintain current behavior, pass use_reentrant=True. It is recommended that you use use_reentrant=False. Refer to docs for more details on the differences between the two variants.\u001b[32m [repeated 2x across cluster]\u001b[0m\n",
      "\u001b[36m(RayTrainWorker pid=2946694)\u001b[0m   warnings.warn(\u001b[32m [repeated 2x across cluster]\u001b[0m\n"
     ]
    },
    {
     "name": "stdout",
     "output_type": "stream",
     "text": [
      "\u001b[36m(RayTrainWorker pid=2946693)\u001b[0m {'loss': 0.0992, 'learning_rate': 1.9993242264806682e-05, 'epoch': 0.0}\n",
      "\u001b[36m(RayTrainWorker pid=2946693)\u001b[0m [2025-02-17 09:41:07,754] [INFO] [loss_scaler.py:197:update_scale] Consecutive hysteresis is enabled. Restoring hysteresis to 4\n"
     ]
    },
    {
     "name": "stderr",
     "output_type": "stream",
     "text": [
      "\u001b[36m(RayTrainWorker pid=2946694)\u001b[0m /home/jupyter/.local/lib/python3.10/site-packages/torch/utils/checkpoint.py:429: UserWarning: torch.utils.checkpoint: please pass in use_reentrant=True or use_reentrant=False explicitly. The default value of use_reentrant will be updated to be False in the future. To maintain current behavior, pass use_reentrant=True. It is recommended that you use use_reentrant=False. Refer to docs for more details on the differences between the two variants.\u001b[32m [repeated 2x across cluster]\u001b[0m\n",
      "\u001b[36m(RayTrainWorker pid=2946694)\u001b[0m   warnings.warn(\u001b[32m [repeated 2x across cluster]\u001b[0m\n"
     ]
    },
    {
     "name": "stdout",
     "output_type": "stream",
     "text": [
      "\u001b[36m(RayTrainWorker pid=2946693)\u001b[0m {'loss': 0.1196, 'learning_rate': 1.999275956943573e-05, 'epoch': 0.0}\n",
      "\u001b[36m(RayTrainWorker pid=2946693)\u001b[0m [2025-02-17 09:41:34,294] [INFO] [loss_scaler.py:197:update_scale] Consecutive hysteresis is enabled. Restoring hysteresis to 4\n",
      "\u001b[36m(RayTrainWorker pid=2946693)\u001b[0m {'loss': 0.0874, 'learning_rate': 1.999227687406478e-05, 'epoch': 0.0}\n"
     ]
    },
    {
     "name": "stderr",
     "output_type": "stream",
     "text": [
      "\u001b[36m(RayTrainWorker pid=2946694)\u001b[0m /home/jupyter/.local/lib/python3.10/site-packages/torch/utils/checkpoint.py:429: UserWarning: torch.utils.checkpoint: please pass in use_reentrant=True or use_reentrant=False explicitly. The default value of use_reentrant will be updated to be False in the future. To maintain current behavior, pass use_reentrant=True. It is recommended that you use use_reentrant=False. Refer to docs for more details on the differences between the two variants.\u001b[32m [repeated 2x across cluster]\u001b[0m\n",
      "\u001b[36m(RayTrainWorker pid=2946694)\u001b[0m   warnings.warn(\u001b[32m [repeated 2x across cluster]\u001b[0m\n"
     ]
    },
    {
     "name": "stdout",
     "output_type": "stream",
     "text": [
      "\u001b[36m(RayTrainWorker pid=2946693)\u001b[0m [2025-02-17 09:42:01,121] [INFO] [loss_scaler.py:197:update_scale] Consecutive hysteresis is enabled. Restoring hysteresis to 4\n"
     ]
    },
    {
     "name": "stderr",
     "output_type": "stream",
     "text": [
      "\u001b[36m(RayTrainWorker pid=2946694)\u001b[0m /home/jupyter/.local/lib/python3.10/site-packages/torch/utils/checkpoint.py:429: UserWarning: torch.utils.checkpoint: please pass in use_reentrant=True or use_reentrant=False explicitly. The default value of use_reentrant will be updated to be False in the future. To maintain current behavior, pass use_reentrant=True. It is recommended that you use use_reentrant=False. Refer to docs for more details on the differences between the two variants.\u001b[32m [repeated 2x across cluster]\u001b[0m\n",
      "\u001b[36m(RayTrainWorker pid=2946694)\u001b[0m   warnings.warn(\u001b[32m [repeated 2x across cluster]\u001b[0m\n"
     ]
    },
    {
     "name": "stdout",
     "output_type": "stream",
     "text": [
      "\u001b[36m(RayTrainWorker pid=2946693)\u001b[0m {'loss': 0.0801, 'learning_rate': 1.999179417869383e-05, 'epoch': 0.0}\n",
      "\u001b[36m(RayTrainWorker pid=2946693)\u001b[0m [2025-02-17 09:42:27,751] [INFO] [loss_scaler.py:197:update_scale] Consecutive hysteresis is enabled. Restoring hysteresis to 4\n"
     ]
    },
    {
     "name": "stderr",
     "output_type": "stream",
     "text": [
      "\u001b[36m(RayTrainWorker pid=2946694)\u001b[0m /home/jupyter/.local/lib/python3.10/site-packages/torch/utils/checkpoint.py:429: UserWarning: torch.utils.checkpoint: please pass in use_reentrant=True or use_reentrant=False explicitly. The default value of use_reentrant will be updated to be False in the future. To maintain current behavior, pass use_reentrant=True. It is recommended that you use use_reentrant=False. Refer to docs for more details on the differences between the two variants.\u001b[32m [repeated 2x across cluster]\u001b[0m\n",
      "\u001b[36m(RayTrainWorker pid=2946694)\u001b[0m   warnings.warn(\u001b[32m [repeated 2x across cluster]\u001b[0m\n"
     ]
    },
    {
     "name": "stdout",
     "output_type": "stream",
     "text": [
      "\u001b[36m(RayTrainWorker pid=2946693)\u001b[0m {'loss': 0.1566, 'learning_rate': 1.9991311483322878e-05, 'epoch': 0.0}\n",
      "\u001b[36m(RayTrainWorker pid=2946693)\u001b[0m [2025-02-17 09:58:27,914] [INFO] [loss_scaler.py:197:update_scale] Consecutive hysteresis is enabled. Restoring hysteresis to 4\n"
     ]
    },
    {
     "name": "stderr",
     "output_type": "stream",
     "text": [
      "\u001b[36m(RayTrainWorker pid=2946694)\u001b[0m /home/jupyter/.local/lib/python3.10/site-packages/torch/utils/checkpoint.py:429: UserWarning: torch.utils.checkpoint: please pass in use_reentrant=True or use_reentrant=False explicitly. The default value of use_reentrant will be updated to be False in the future. To maintain current behavior, pass use_reentrant=True. It is recommended that you use use_reentrant=False. Refer to docs for more details on the differences between the two variants.\u001b[32m [repeated 2x across cluster]\u001b[0m\n",
      "\u001b[36m(RayTrainWorker pid=2946694)\u001b[0m   warnings.warn(\u001b[32m [repeated 2x across cluster]\u001b[0m\n"
     ]
    },
    {
     "name": "stdout",
     "output_type": "stream",
     "text": [
      "\u001b[36m(RayTrainWorker pid=2946693)\u001b[0m {'loss': 0.0625, 'learning_rate': 1.9973934449968626e-05, 'epoch': 0.0}\n",
      "\u001b[36m(RayTrainWorker pid=2946693)\u001b[0m [2025-02-17 09:58:54,483] [INFO] [loss_scaler.py:197:update_scale] Consecutive hysteresis is enabled. Restoring hysteresis to 4\n"
     ]
    },
    {
     "name": "stderr",
     "output_type": "stream",
     "text": [
      "\u001b[36m(RayTrainWorker pid=2946694)\u001b[0m /home/jupyter/.local/lib/python3.10/site-packages/torch/utils/checkpoint.py:429: UserWarning: torch.utils.checkpoint: please pass in use_reentrant=True or use_reentrant=False explicitly. The default value of use_reentrant will be updated to be False in the future. To maintain current behavior, pass use_reentrant=True. It is recommended that you use use_reentrant=False. Refer to docs for more details on the differences between the two variants.\u001b[32m [repeated 2x across cluster]\u001b[0m\n",
      "\u001b[36m(RayTrainWorker pid=2946694)\u001b[0m   warnings.warn(\u001b[32m [repeated 2x across cluster]\u001b[0m\n"
     ]
    },
    {
     "name": "stdout",
     "output_type": "stream",
     "text": [
      "\u001b[36m(RayTrainWorker pid=2946693)\u001b[0m {'loss': 0.1321, 'learning_rate': 1.9973451754597675e-05, 'epoch': 0.0}\n",
      "\u001b[36m(RayTrainWorker pid=2946693)\u001b[0m [2025-02-17 10:22:54,804] [INFO] [loss_scaler.py:197:update_scale] Consecutive hysteresis is enabled. Restoring hysteresis to 4\n"
     ]
    },
    {
     "name": "stderr",
     "output_type": "stream",
     "text": [
      "\u001b[36m(RayTrainWorker pid=2946694)\u001b[0m /home/jupyter/.local/lib/python3.10/site-packages/torch/utils/checkpoint.py:429: UserWarning: torch.utils.checkpoint: please pass in use_reentrant=True or use_reentrant=False explicitly. The default value of use_reentrant will be updated to be False in the future. To maintain current behavior, pass use_reentrant=True. It is recommended that you use use_reentrant=False. Refer to docs for more details on the differences between the two variants.\u001b[32m [repeated 2x across cluster]\u001b[0m\n",
      "\u001b[36m(RayTrainWorker pid=2946694)\u001b[0m   warnings.warn(\u001b[32m [repeated 2x across cluster]\u001b[0m\n"
     ]
    },
    {
     "name": "stdout",
     "output_type": "stream",
     "text": [
      "\u001b[36m(RayTrainWorker pid=2946693)\u001b[0m {'loss': 0.164, 'learning_rate': 1.99473862045663e-05, 'epoch': 0.0}\n",
      "\u001b[36m(RayTrainWorker pid=2946693)\u001b[0m [2025-02-17 10:23:21,515] [INFO] [loss_scaler.py:197:update_scale] Consecutive hysteresis is enabled. Restoring hysteresis to 4\n"
     ]
    },
    {
     "name": "stderr",
     "output_type": "stream",
     "text": [
      "\u001b[36m(RayTrainWorker pid=2946694)\u001b[0m /home/jupyter/.local/lib/python3.10/site-packages/torch/utils/checkpoint.py:429: UserWarning: torch.utils.checkpoint: please pass in use_reentrant=True or use_reentrant=False explicitly. The default value of use_reentrant will be updated to be False in the future. To maintain current behavior, pass use_reentrant=True. It is recommended that you use use_reentrant=False. Refer to docs for more details on the differences between the two variants.\u001b[32m [repeated 2x across cluster]\u001b[0m\n",
      "\u001b[36m(RayTrainWorker pid=2946694)\u001b[0m   warnings.warn(\u001b[32m [repeated 2x across cluster]\u001b[0m\n"
     ]
    },
    {
     "name": "stdout",
     "output_type": "stream",
     "text": [
      "\u001b[36m(RayTrainWorker pid=2946693)\u001b[0m [2025-02-17 10:23:27,426] [INFO] [logging.py:96:log_dist] [Rank 0] step=110, skipped=0, lr=[1.994690350919535e-05], mom=[[0.9, 0.999]]\n",
      "\u001b[36m(RayTrainWorker pid=2946693)\u001b[0m [2025-02-17 10:23:27,426] [INFO] [timer.py:260:stop] epoch=0/micro_step=110/global_step=110, RunningAvgSamplesPerSec=0.3000421949955326, CurrSamplesPerSec=0.29929056010088084, MemAllocated=5.79GB, MaxMemAllocated=9.9GB\n",
      "\u001b[36m(RayTrainWorker pid=2946693)\u001b[0m {'loss': 0.098, 'learning_rate': 1.994690350919535e-05, 'epoch': 0.0}\n",
      "\u001b[36m(RayTrainWorker pid=2946693)\u001b[0m [2025-02-17 10:23:48,234] [INFO] [loss_scaler.py:197:update_scale] Consecutive hysteresis is enabled. Restoring hysteresis to 4\n"
     ]
    },
    {
     "name": "stderr",
     "output_type": "stream",
     "text": [
      "\u001b[36m(RayTrainWorker pid=2946694)\u001b[0m /home/jupyter/.local/lib/python3.10/site-packages/torch/utils/checkpoint.py:429: UserWarning: torch.utils.checkpoint: please pass in use_reentrant=True or use_reentrant=False explicitly. The default value of use_reentrant will be updated to be False in the future. To maintain current behavior, pass use_reentrant=True. It is recommended that you use use_reentrant=False. Refer to docs for more details on the differences between the two variants.\u001b[32m [repeated 2x across cluster]\u001b[0m\n",
      "\u001b[36m(RayTrainWorker pid=2946694)\u001b[0m   warnings.warn(\u001b[32m [repeated 2x across cluster]\u001b[0m\n"
     ]
    },
    {
     "name": "stdout",
     "output_type": "stream",
     "text": [
      "\u001b[36m(RayTrainWorker pid=2946693)\u001b[0m {'loss': 0.088, 'learning_rate': 1.9946420813824398e-05, 'epoch': 0.0}\n",
      "\u001b[36m(RayTrainWorker pid=2946693)\u001b[0m [2025-02-17 10:24:14,818] [INFO] [loss_scaler.py:197:update_scale] Consecutive hysteresis is enabled. Restoring hysteresis to 4\n"
     ]
    },
    {
     "name": "stderr",
     "output_type": "stream",
     "text": [
      "\u001b[36m(RayTrainWorker pid=2946694)\u001b[0m /home/jupyter/.local/lib/python3.10/site-packages/torch/utils/checkpoint.py:429: UserWarning: torch.utils.checkpoint: please pass in use_reentrant=True or use_reentrant=False explicitly. The default value of use_reentrant will be updated to be False in the future. To maintain current behavior, pass use_reentrant=True. It is recommended that you use use_reentrant=False. Refer to docs for more details on the differences between the two variants.\u001b[32m [repeated 2x across cluster]\u001b[0m\n",
      "\u001b[36m(RayTrainWorker pid=2946694)\u001b[0m   warnings.warn(\u001b[32m [repeated 2x across cluster]\u001b[0m\n"
     ]
    },
    {
     "name": "stdout",
     "output_type": "stream",
     "text": [
      "\u001b[36m(RayTrainWorker pid=2946693)\u001b[0m {'loss': 0.0723, 'learning_rate': 1.9945938118453447e-05, 'epoch': 0.0}\n",
      "\u001b[36m(RayTrainWorker pid=2946693)\u001b[0m [2025-02-17 10:24:41,563] [INFO] [loss_scaler.py:197:update_scale] Consecutive hysteresis is enabled. Restoring hysteresis to 4\n"
     ]
    },
    {
     "name": "stderr",
     "output_type": "stream",
     "text": [
      "\u001b[36m(RayTrainWorker pid=2946694)\u001b[0m /home/jupyter/.local/lib/python3.10/site-packages/torch/utils/checkpoint.py:429: UserWarning: torch.utils.checkpoint: please pass in use_reentrant=True or use_reentrant=False explicitly. The default value of use_reentrant will be updated to be False in the future. To maintain current behavior, pass use_reentrant=True. It is recommended that you use use_reentrant=False. Refer to docs for more details on the differences between the two variants.\u001b[32m [repeated 2x across cluster]\u001b[0m\n",
      "\u001b[36m(RayTrainWorker pid=2946694)\u001b[0m   warnings.warn(\u001b[32m [repeated 2x across cluster]\u001b[0m\n"
     ]
    },
    {
     "name": "stdout",
     "output_type": "stream",
     "text": [
      "\u001b[36m(RayTrainWorker pid=2946693)\u001b[0m {'loss': 0.1956, 'learning_rate': 1.9945455423082492e-05, 'epoch': 0.0}\n",
      "\u001b[36m(RayTrainWorker pid=2946693)\u001b[0m [2025-02-17 10:25:08,101] [INFO] [loss_scaler.py:197:update_scale] Consecutive hysteresis is enabled. Restoring hysteresis to 4\n"
     ]
    },
    {
     "name": "stderr",
     "output_type": "stream",
     "text": [
      "\u001b[36m(RayTrainWorker pid=2946694)\u001b[0m /home/jupyter/.local/lib/python3.10/site-packages/torch/utils/checkpoint.py:429: UserWarning: torch.utils.checkpoint: please pass in use_reentrant=True or use_reentrant=False explicitly. The default value of use_reentrant will be updated to be False in the future. To maintain current behavior, pass use_reentrant=True. It is recommended that you use use_reentrant=False. Refer to docs for more details on the differences between the two variants.\u001b[32m [repeated 2x across cluster]\u001b[0m\n",
      "\u001b[36m(RayTrainWorker pid=2946694)\u001b[0m   warnings.warn(\u001b[32m [repeated 2x across cluster]\u001b[0m\n"
     ]
    },
    {
     "name": "stdout",
     "output_type": "stream",
     "text": [
      "\u001b[36m(RayTrainWorker pid=2946693)\u001b[0m {'loss': 0.1113, 'learning_rate': 1.994497272771154e-05, 'epoch': 0.0}\n",
      "\u001b[36m(RayTrainWorker pid=2946693)\u001b[0m [2025-02-17 10:25:34,778] [INFO] [loss_scaler.py:197:update_scale] Consecutive hysteresis is enabled. Restoring hysteresis to 4\n",
      "\u001b[36m(RayTrainWorker pid=2946693)\u001b[0m {'loss': 0.0708, 'learning_rate': 1.994449003234059e-05, 'epoch': 0.0}\n"
     ]
    },
    {
     "name": "stderr",
     "output_type": "stream",
     "text": [
      "\u001b[36m(RayTrainWorker pid=2946694)\u001b[0m /home/jupyter/.local/lib/python3.10/site-packages/torch/utils/checkpoint.py:429: UserWarning: torch.utils.checkpoint: please pass in use_reentrant=True or use_reentrant=False explicitly. The default value of use_reentrant will be updated to be False in the future. To maintain current behavior, pass use_reentrant=True. It is recommended that you use use_reentrant=False. Refer to docs for more details on the differences between the two variants.\u001b[32m [repeated 2x across cluster]\u001b[0m\n",
      "\u001b[36m(RayTrainWorker pid=2946694)\u001b[0m   warnings.warn(\u001b[32m [repeated 2x across cluster]\u001b[0m\n"
     ]
    },
    {
     "name": "stdout",
     "output_type": "stream",
     "text": [
      "\u001b[36m(RayTrainWorker pid=2946693)\u001b[0m [2025-02-17 10:26:01,470] [INFO] [loss_scaler.py:197:update_scale] Consecutive hysteresis is enabled. Restoring hysteresis to 4\n"
     ]
    },
    {
     "name": "stderr",
     "output_type": "stream",
     "text": [
      "\u001b[36m(RayTrainWorker pid=2946694)\u001b[0m /home/jupyter/.local/lib/python3.10/site-packages/torch/utils/checkpoint.py:429: UserWarning: torch.utils.checkpoint: please pass in use_reentrant=True or use_reentrant=False explicitly. The default value of use_reentrant will be updated to be False in the future. To maintain current behavior, pass use_reentrant=True. It is recommended that you use use_reentrant=False. Refer to docs for more details on the differences between the two variants.\u001b[32m [repeated 2x across cluster]\u001b[0m\n",
      "\u001b[36m(RayTrainWorker pid=2946694)\u001b[0m   warnings.warn(\u001b[32m [repeated 2x across cluster]\u001b[0m\n"
     ]
    },
    {
     "name": "stdout",
     "output_type": "stream",
     "text": [
      "\u001b[36m(RayTrainWorker pid=2946693)\u001b[0m {'loss': 0.1003, 'learning_rate': 1.994400733696964e-05, 'epoch': 0.0}\n",
      "\u001b[36m(RayTrainWorker pid=2946693)\u001b[0m [2025-02-17 10:26:28,148] [INFO] [loss_scaler.py:197:update_scale] Consecutive hysteresis is enabled. Restoring hysteresis to 4\n"
     ]
    },
    {
     "name": "stderr",
     "output_type": "stream",
     "text": [
      "\u001b[36m(RayTrainWorker pid=2946694)\u001b[0m /home/jupyter/.local/lib/python3.10/site-packages/torch/utils/checkpoint.py:429: UserWarning: torch.utils.checkpoint: please pass in use_reentrant=True or use_reentrant=False explicitly. The default value of use_reentrant will be updated to be False in the future. To maintain current behavior, pass use_reentrant=True. It is recommended that you use use_reentrant=False. Refer to docs for more details on the differences between the two variants.\u001b[32m [repeated 2x across cluster]\u001b[0m\n",
      "\u001b[36m(RayTrainWorker pid=2946694)\u001b[0m   warnings.warn(\u001b[32m [repeated 2x across cluster]\u001b[0m\n"
     ]
    },
    {
     "name": "stdout",
     "output_type": "stream",
     "text": [
      "\u001b[36m(RayTrainWorker pid=2946693)\u001b[0m {'loss': 0.1133, 'learning_rate': 1.9943524641598688e-05, 'epoch': 0.0}\n",
      "\u001b[36m(RayTrainWorker pid=2946693)\u001b[0m [2025-02-17 10:26:54,881] [INFO] [loss_scaler.py:197:update_scale] Consecutive hysteresis is enabled. Restoring hysteresis to 4\n"
     ]
    },
    {
     "name": "stderr",
     "output_type": "stream",
     "text": [
      "\u001b[36m(RayTrainWorker pid=2946694)\u001b[0m /home/jupyter/.local/lib/python3.10/site-packages/torch/utils/checkpoint.py:429: UserWarning: torch.utils.checkpoint: please pass in use_reentrant=True or use_reentrant=False explicitly. The default value of use_reentrant will be updated to be False in the future. To maintain current behavior, pass use_reentrant=True. It is recommended that you use use_reentrant=False. Refer to docs for more details on the differences between the two variants.\u001b[32m [repeated 2x across cluster]\u001b[0m\n",
      "\u001b[36m(RayTrainWorker pid=2946694)\u001b[0m   warnings.warn(\u001b[32m [repeated 2x across cluster]\u001b[0m\n"
     ]
    },
    {
     "name": "stdout",
     "output_type": "stream",
     "text": [
      "\u001b[36m(RayTrainWorker pid=2946693)\u001b[0m {'loss': 0.0505, 'learning_rate': 1.9943041946227736e-05, 'epoch': 0.0}\n",
      "\u001b[36m(RayTrainWorker pid=2946693)\u001b[0m [2025-02-17 10:27:21,480] [INFO] [loss_scaler.py:197:update_scale] Consecutive hysteresis is enabled. Restoring hysteresis to 4\n"
     ]
    },
    {
     "name": "stderr",
     "output_type": "stream",
     "text": [
      "\u001b[36m(RayTrainWorker pid=2946694)\u001b[0m /home/jupyter/.local/lib/python3.10/site-packages/torch/utils/checkpoint.py:429: UserWarning: torch.utils.checkpoint: please pass in use_reentrant=True or use_reentrant=False explicitly. The default value of use_reentrant will be updated to be False in the future. To maintain current behavior, pass use_reentrant=True. It is recommended that you use use_reentrant=False. Refer to docs for more details on the differences between the two variants.\u001b[32m [repeated 2x across cluster]\u001b[0m\n",
      "\u001b[36m(RayTrainWorker pid=2946694)\u001b[0m   warnings.warn(\u001b[32m [repeated 2x across cluster]\u001b[0m\n"
     ]
    },
    {
     "name": "stdout",
     "output_type": "stream",
     "text": [
      "\u001b[36m(RayTrainWorker pid=2946693)\u001b[0m {'loss': 0.1071, 'learning_rate': 1.9942559250856785e-05, 'epoch': 0.0}\n",
      "\u001b[36m(RayTrainWorker pid=2946693)\u001b[0m [2025-02-17 10:27:48,101] [INFO] [loss_scaler.py:197:update_scale] Consecutive hysteresis is enabled. Restoring hysteresis to 4\n"
     ]
    },
    {
     "name": "stderr",
     "output_type": "stream",
     "text": [
      "\u001b[36m(RayTrainWorker pid=2946694)\u001b[0m /home/jupyter/.local/lib/python3.10/site-packages/torch/utils/checkpoint.py:429: UserWarning: torch.utils.checkpoint: please pass in use_reentrant=True or use_reentrant=False explicitly. The default value of use_reentrant will be updated to be False in the future. To maintain current behavior, pass use_reentrant=True. It is recommended that you use use_reentrant=False. Refer to docs for more details on the differences between the two variants.\u001b[32m [repeated 2x across cluster]\u001b[0m\n",
      "\u001b[36m(RayTrainWorker pid=2946694)\u001b[0m   warnings.warn(\u001b[32m [repeated 2x across cluster]\u001b[0m\n"
     ]
    },
    {
     "name": "stdout",
     "output_type": "stream",
     "text": [
      "\u001b[36m(RayTrainWorker pid=2946693)\u001b[0m [2025-02-17 10:27:54,040] [INFO] [logging.py:96:log_dist] [Rank 0] step=120, skipped=0, lr=[1.9942076555485834e-05], mom=[[0.9, 0.999]]\n",
      "\u001b[36m(RayTrainWorker pid=2946693)\u001b[0m [2025-02-17 10:27:54,041] [INFO] [timer.py:260:stop] epoch=0/micro_step=120/global_step=120, RunningAvgSamplesPerSec=0.3000494041200732, CurrSamplesPerSec=0.29999421369269186, MemAllocated=5.79GB, MaxMemAllocated=9.9GB\n",
      "\u001b[36m(RayTrainWorker pid=2946693)\u001b[0m {'loss': 0.0884, 'learning_rate': 1.9942076555485834e-05, 'epoch': 0.0}\n",
      "\u001b[36m(RayTrainWorker pid=2946693)\u001b[0m [2025-02-17 10:28:14,906] [INFO] [loss_scaler.py:197:update_scale] Consecutive hysteresis is enabled. Restoring hysteresis to 4\n"
     ]
    },
    {
     "name": "stderr",
     "output_type": "stream",
     "text": [
      "\u001b[36m(RayTrainWorker pid=2946694)\u001b[0m /home/jupyter/.local/lib/python3.10/site-packages/torch/utils/checkpoint.py:429: UserWarning: torch.utils.checkpoint: please pass in use_reentrant=True or use_reentrant=False explicitly. The default value of use_reentrant will be updated to be False in the future. To maintain current behavior, pass use_reentrant=True. It is recommended that you use use_reentrant=False. Refer to docs for more details on the differences between the two variants.\u001b[32m [repeated 2x across cluster]\u001b[0m\n",
      "\u001b[36m(RayTrainWorker pid=2946694)\u001b[0m   warnings.warn(\u001b[32m [repeated 2x across cluster]\u001b[0m\n"
     ]
    },
    {
     "name": "stdout",
     "output_type": "stream",
     "text": [
      "\u001b[36m(RayTrainWorker pid=2946693)\u001b[0m {'loss': 0.2657, 'learning_rate': 1.9941593860114883e-05, 'epoch': 0.0}\n",
      "\u001b[36m(RayTrainWorker pid=2946693)\u001b[0m [2025-02-17 10:28:41,479] [INFO] [loss_scaler.py:197:update_scale] Consecutive hysteresis is enabled. Restoring hysteresis to 4\n"
     ]
    },
    {
     "name": "stderr",
     "output_type": "stream",
     "text": [
      "\u001b[36m(RayTrainWorker pid=2946694)\u001b[0m /home/jupyter/.local/lib/python3.10/site-packages/torch/utils/checkpoint.py:429: UserWarning: torch.utils.checkpoint: please pass in use_reentrant=True or use_reentrant=False explicitly. The default value of use_reentrant will be updated to be False in the future. To maintain current behavior, pass use_reentrant=True. It is recommended that you use use_reentrant=False. Refer to docs for more details on the differences between the two variants.\u001b[32m [repeated 2x across cluster]\u001b[0m\n",
      "\u001b[36m(RayTrainWorker pid=2946694)\u001b[0m   warnings.warn(\u001b[32m [repeated 2x across cluster]\u001b[0m\n"
     ]
    },
    {
     "name": "stdout",
     "output_type": "stream",
     "text": [
      "\u001b[36m(RayTrainWorker pid=2946693)\u001b[0m {'loss': 0.2137, 'learning_rate': 1.9941111164743932e-05, 'epoch': 0.0}\n",
      "\u001b[36m(RayTrainWorker pid=2946693)\u001b[0m [2025-02-17 10:29:08,182] [INFO] [loss_scaler.py:197:update_scale] Consecutive hysteresis is enabled. Restoring hysteresis to 4\n"
     ]
    },
    {
     "name": "stderr",
     "output_type": "stream",
     "text": [
      "\u001b[36m(RayTrainWorker pid=2946694)\u001b[0m /home/jupyter/.local/lib/python3.10/site-packages/torch/utils/checkpoint.py:429: UserWarning: torch.utils.checkpoint: please pass in use_reentrant=True or use_reentrant=False explicitly. The default value of use_reentrant will be updated to be False in the future. To maintain current behavior, pass use_reentrant=True. It is recommended that you use use_reentrant=False. Refer to docs for more details on the differences between the two variants.\u001b[32m [repeated 2x across cluster]\u001b[0m\n",
      "\u001b[36m(RayTrainWorker pid=2946694)\u001b[0m   warnings.warn(\u001b[32m [repeated 2x across cluster]\u001b[0m\n"
     ]
    },
    {
     "name": "stdout",
     "output_type": "stream",
     "text": [
      "\u001b[36m(RayTrainWorker pid=2946693)\u001b[0m {'loss': 0.1353, 'learning_rate': 1.994062846937298e-05, 'epoch': 0.0}\n",
      "\u001b[36m(RayTrainWorker pid=2946693)\u001b[0m [2025-02-17 10:29:34,920] [INFO] [loss_scaler.py:197:update_scale] Consecutive hysteresis is enabled. Restoring hysteresis to 4\n"
     ]
    },
    {
     "name": "stderr",
     "output_type": "stream",
     "text": [
      "\u001b[36m(RayTrainWorker pid=2946694)\u001b[0m /home/jupyter/.local/lib/python3.10/site-packages/torch/utils/checkpoint.py:429: UserWarning: torch.utils.checkpoint: please pass in use_reentrant=True or use_reentrant=False explicitly. The default value of use_reentrant will be updated to be False in the future. To maintain current behavior, pass use_reentrant=True. It is recommended that you use use_reentrant=False. Refer to docs for more details on the differences between the two variants.\u001b[32m [repeated 2x across cluster]\u001b[0m\n",
      "\u001b[36m(RayTrainWorker pid=2946694)\u001b[0m   warnings.warn(\u001b[32m [repeated 2x across cluster]\u001b[0m\n"
     ]
    },
    {
     "name": "stdout",
     "output_type": "stream",
     "text": [
      "\u001b[36m(RayTrainWorker pid=2946693)\u001b[0m {'loss': 0.1051, 'learning_rate': 1.994014577400203e-05, 'epoch': 0.0}\n",
      "\u001b[36m(RayTrainWorker pid=2946693)\u001b[0m [2025-02-17 10:30:01,537] [INFO] [loss_scaler.py:197:update_scale] Consecutive hysteresis is enabled. Restoring hysteresis to 4\n",
      "\u001b[36m(RayTrainWorker pid=2946693)\u001b[0m {'loss': 0.1288, 'learning_rate': 1.993966307863108e-05, 'epoch': 0.0}\n"
     ]
    },
    {
     "name": "stderr",
     "output_type": "stream",
     "text": [
      "\u001b[36m(RayTrainWorker pid=2946694)\u001b[0m /home/jupyter/.local/lib/python3.10/site-packages/torch/utils/checkpoint.py:429: UserWarning: torch.utils.checkpoint: please pass in use_reentrant=True or use_reentrant=False explicitly. The default value of use_reentrant will be updated to be False in the future. To maintain current behavior, pass use_reentrant=True. It is recommended that you use use_reentrant=False. Refer to docs for more details on the differences between the two variants.\u001b[32m [repeated 2x across cluster]\u001b[0m\n",
      "\u001b[36m(RayTrainWorker pid=2946694)\u001b[0m   warnings.warn(\u001b[32m [repeated 2x across cluster]\u001b[0m\n"
     ]
    },
    {
     "name": "stdout",
     "output_type": "stream",
     "text": [
      "\u001b[36m(RayTrainWorker pid=2946693)\u001b[0m [2025-02-17 10:30:28,191] [INFO] [loss_scaler.py:197:update_scale] Consecutive hysteresis is enabled. Restoring hysteresis to 4\n"
     ]
    },
    {
     "name": "stderr",
     "output_type": "stream",
     "text": [
      "\u001b[36m(RayTrainWorker pid=2946694)\u001b[0m /home/jupyter/.local/lib/python3.10/site-packages/torch/utils/checkpoint.py:429: UserWarning: torch.utils.checkpoint: please pass in use_reentrant=True or use_reentrant=False explicitly. The default value of use_reentrant will be updated to be False in the future. To maintain current behavior, pass use_reentrant=True. It is recommended that you use use_reentrant=False. Refer to docs for more details on the differences between the two variants.\u001b[32m [repeated 2x across cluster]\u001b[0m\n",
      "\u001b[36m(RayTrainWorker pid=2946694)\u001b[0m   warnings.warn(\u001b[32m [repeated 2x across cluster]\u001b[0m\n"
     ]
    },
    {
     "name": "stdout",
     "output_type": "stream",
     "text": [
      "\u001b[36m(RayTrainWorker pid=2946693)\u001b[0m {'loss': 0.1136, 'learning_rate': 1.9939180383260127e-05, 'epoch': 0.0}\n",
      "\u001b[36m(RayTrainWorker pid=2946693)\u001b[0m [2025-02-17 10:30:54,828] [INFO] [loss_scaler.py:197:update_scale] Consecutive hysteresis is enabled. Restoring hysteresis to 4\n"
     ]
    },
    {
     "name": "stderr",
     "output_type": "stream",
     "text": [
      "\u001b[36m(RayTrainWorker pid=2946694)\u001b[0m /home/jupyter/.local/lib/python3.10/site-packages/torch/utils/checkpoint.py:429: UserWarning: torch.utils.checkpoint: please pass in use_reentrant=True or use_reentrant=False explicitly. The default value of use_reentrant will be updated to be False in the future. To maintain current behavior, pass use_reentrant=True. It is recommended that you use use_reentrant=False. Refer to docs for more details on the differences between the two variants.\u001b[32m [repeated 2x across cluster]\u001b[0m\n",
      "\u001b[36m(RayTrainWorker pid=2946694)\u001b[0m   warnings.warn(\u001b[32m [repeated 2x across cluster]\u001b[0m\n"
     ]
    },
    {
     "name": "stdout",
     "output_type": "stream",
     "text": [
      "\u001b[36m(RayTrainWorker pid=2946693)\u001b[0m {'loss': 0.085, 'learning_rate': 1.9938697687889176e-05, 'epoch': 0.0}\n",
      "\u001b[36m(RayTrainWorker pid=2946693)\u001b[0m [2025-02-17 10:31:21,648] [INFO] [loss_scaler.py:197:update_scale] Consecutive hysteresis is enabled. Restoring hysteresis to 4\n",
      "\u001b[36m(RayTrainWorker pid=2946693)\u001b[0m {'loss': 0.0703, 'learning_rate': 1.993821499251822e-05, 'epoch': 0.0}\n"
     ]
    },
    {
     "name": "stderr",
     "output_type": "stream",
     "text": [
      "\u001b[36m(RayTrainWorker pid=2946694)\u001b[0m /home/jupyter/.local/lib/python3.10/site-packages/torch/utils/checkpoint.py:429: UserWarning: torch.utils.checkpoint: please pass in use_reentrant=True or use_reentrant=False explicitly. The default value of use_reentrant will be updated to be False in the future. To maintain current behavior, pass use_reentrant=True. It is recommended that you use use_reentrant=False. Refer to docs for more details on the differences between the two variants.\u001b[32m [repeated 2x across cluster]\u001b[0m\n",
      "\u001b[36m(RayTrainWorker pid=2946694)\u001b[0m   warnings.warn(\u001b[32m [repeated 2x across cluster]\u001b[0m\n"
     ]
    },
    {
     "name": "stdout",
     "output_type": "stream",
     "text": [
      "\u001b[36m(RayTrainWorker pid=2946693)\u001b[0m [2025-02-17 10:31:48,280] [INFO] [loss_scaler.py:197:update_scale] Consecutive hysteresis is enabled. Restoring hysteresis to 4\n"
     ]
    },
    {
     "name": "stderr",
     "output_type": "stream",
     "text": [
      "\u001b[36m(RayTrainWorker pid=2946694)\u001b[0m /home/jupyter/.local/lib/python3.10/site-packages/torch/utils/checkpoint.py:429: UserWarning: torch.utils.checkpoint: please pass in use_reentrant=True or use_reentrant=False explicitly. The default value of use_reentrant will be updated to be False in the future. To maintain current behavior, pass use_reentrant=True. It is recommended that you use use_reentrant=False. Refer to docs for more details on the differences between the two variants.\u001b[32m [repeated 2x across cluster]\u001b[0m\n",
      "\u001b[36m(RayTrainWorker pid=2946694)\u001b[0m   warnings.warn(\u001b[32m [repeated 2x across cluster]\u001b[0m\n"
     ]
    },
    {
     "name": "stdout",
     "output_type": "stream",
     "text": [
      "\u001b[36m(RayTrainWorker pid=2946693)\u001b[0m {'loss': 0.1241, 'learning_rate': 1.993773229714727e-05, 'epoch': 0.0}\n",
      "\u001b[36m(RayTrainWorker pid=2946693)\u001b[0m [2025-02-17 10:32:14,959] [INFO] [loss_scaler.py:197:update_scale] Consecutive hysteresis is enabled. Restoring hysteresis to 4\n"
     ]
    },
    {
     "name": "stderr",
     "output_type": "stream",
     "text": [
      "\u001b[36m(RayTrainWorker pid=2946694)\u001b[0m /home/jupyter/.local/lib/python3.10/site-packages/torch/utils/checkpoint.py:429: UserWarning: torch.utils.checkpoint: please pass in use_reentrant=True or use_reentrant=False explicitly. The default value of use_reentrant will be updated to be False in the future. To maintain current behavior, pass use_reentrant=True. It is recommended that you use use_reentrant=False. Refer to docs for more details on the differences between the two variants.\u001b[32m [repeated 2x across cluster]\u001b[0m\n",
      "\u001b[36m(RayTrainWorker pid=2946694)\u001b[0m   warnings.warn(\u001b[32m [repeated 2x across cluster]\u001b[0m\n"
     ]
    },
    {
     "name": "stdout",
     "output_type": "stream",
     "text": [
      "\u001b[36m(RayTrainWorker pid=2946693)\u001b[0m [2025-02-17 10:32:20,840] [INFO] [logging.py:96:log_dist] [Rank 0] step=130, skipped=0, lr=[1.993724960177632e-05], mom=[[0.9, 0.999]]\n",
      "\u001b[36m(RayTrainWorker pid=2946693)\u001b[0m [2025-02-17 10:32:20,841] [INFO] [timer.py:260:stop] epoch=0/micro_step=130/global_step=130, RunningAvgSamplesPerSec=0.30003907239147276, CurrSamplesPerSec=0.2997175631105291, MemAllocated=5.79GB, MaxMemAllocated=9.9GB\n",
      "\u001b[36m(RayTrainWorker pid=2946693)\u001b[0m {'loss': 0.1335, 'learning_rate': 1.993724960177632e-05, 'epoch': 0.0}\n",
      "\u001b[36m(RayTrainWorker pid=2946693)\u001b[0m [2025-02-17 10:32:41,676] [INFO] [loss_scaler.py:197:update_scale] Consecutive hysteresis is enabled. Restoring hysteresis to 4\n"
     ]
    },
    {
     "name": "stderr",
     "output_type": "stream",
     "text": [
      "\u001b[36m(RayTrainWorker pid=2946694)\u001b[0m /home/jupyter/.local/lib/python3.10/site-packages/torch/utils/checkpoint.py:429: UserWarning: torch.utils.checkpoint: please pass in use_reentrant=True or use_reentrant=False explicitly. The default value of use_reentrant will be updated to be False in the future. To maintain current behavior, pass use_reentrant=True. It is recommended that you use use_reentrant=False. Refer to docs for more details on the differences between the two variants.\u001b[32m [repeated 2x across cluster]\u001b[0m\n",
      "\u001b[36m(RayTrainWorker pid=2946694)\u001b[0m   warnings.warn(\u001b[32m [repeated 2x across cluster]\u001b[0m\n"
     ]
    },
    {
     "name": "stdout",
     "output_type": "stream",
     "text": [
      "\u001b[36m(RayTrainWorker pid=2946693)\u001b[0m {'loss': 0.0978, 'learning_rate': 1.9936766906405368e-05, 'epoch': 0.0}\n",
      "\u001b[36m(RayTrainWorker pid=2946693)\u001b[0m [2025-02-17 10:33:08,340] [INFO] [loss_scaler.py:197:update_scale] Consecutive hysteresis is enabled. Restoring hysteresis to 4\n"
     ]
    },
    {
     "name": "stderr",
     "output_type": "stream",
     "text": [
      "\u001b[36m(RayTrainWorker pid=2946694)\u001b[0m /home/jupyter/.local/lib/python3.10/site-packages/torch/utils/checkpoint.py:429: UserWarning: torch.utils.checkpoint: please pass in use_reentrant=True or use_reentrant=False explicitly. The default value of use_reentrant will be updated to be False in the future. To maintain current behavior, pass use_reentrant=True. It is recommended that you use use_reentrant=False. Refer to docs for more details on the differences between the two variants.\u001b[32m [repeated 2x across cluster]\u001b[0m\n",
      "\u001b[36m(RayTrainWorker pid=2946694)\u001b[0m   warnings.warn(\u001b[32m [repeated 2x across cluster]\u001b[0m\n"
     ]
    },
    {
     "name": "stdout",
     "output_type": "stream",
     "text": [
      "\u001b[36m(RayTrainWorker pid=2946693)\u001b[0m {'loss': 0.1018, 'learning_rate': 1.9936284211034417e-05, 'epoch': 0.0}\n",
      "\u001b[36m(RayTrainWorker pid=2946693)\u001b[0m [2025-02-17 10:33:34,929] [INFO] [loss_scaler.py:197:update_scale] Consecutive hysteresis is enabled. Restoring hysteresis to 4\n"
     ]
    },
    {
     "name": "stderr",
     "output_type": "stream",
     "text": [
      "\u001b[36m(RayTrainWorker pid=2946694)\u001b[0m /home/jupyter/.local/lib/python3.10/site-packages/torch/utils/checkpoint.py:429: UserWarning: torch.utils.checkpoint: please pass in use_reentrant=True or use_reentrant=False explicitly. The default value of use_reentrant will be updated to be False in the future. To maintain current behavior, pass use_reentrant=True. It is recommended that you use use_reentrant=False. Refer to docs for more details on the differences between the two variants.\u001b[32m [repeated 2x across cluster]\u001b[0m\n",
      "\u001b[36m(RayTrainWorker pid=2946694)\u001b[0m   warnings.warn(\u001b[32m [repeated 2x across cluster]\u001b[0m\n"
     ]
    },
    {
     "name": "stdout",
     "output_type": "stream",
     "text": [
      "\u001b[36m(RayTrainWorker pid=2946693)\u001b[0m {'loss': 0.1182, 'learning_rate': 1.9935801515663466e-05, 'epoch': 0.0}\n",
      "\u001b[36m(RayTrainWorker pid=2946693)\u001b[0m [2025-02-17 10:34:01,762] [INFO] [loss_scaler.py:197:update_scale] Consecutive hysteresis is enabled. Restoring hysteresis to 4\n"
     ]
    },
    {
     "name": "stderr",
     "output_type": "stream",
     "text": [
      "\u001b[36m(RayTrainWorker pid=2946694)\u001b[0m /home/jupyter/.local/lib/python3.10/site-packages/torch/utils/checkpoint.py:429: UserWarning: torch.utils.checkpoint: please pass in use_reentrant=True or use_reentrant=False explicitly. The default value of use_reentrant will be updated to be False in the future. To maintain current behavior, pass use_reentrant=True. It is recommended that you use use_reentrant=False. Refer to docs for more details on the differences between the two variants.\u001b[32m [repeated 2x across cluster]\u001b[0m\n",
      "\u001b[36m(RayTrainWorker pid=2946694)\u001b[0m   warnings.warn(\u001b[32m [repeated 2x across cluster]\u001b[0m\n"
     ]
    },
    {
     "name": "stdout",
     "output_type": "stream",
     "text": [
      "\u001b[36m(RayTrainWorker pid=2946693)\u001b[0m {'loss': 0.075, 'learning_rate': 1.9935318820292515e-05, 'epoch': 0.0}\n",
      "\u001b[36m(RayTrainWorker pid=2946693)\u001b[0m [2025-02-17 10:34:28,412] [INFO] [loss_scaler.py:197:update_scale] Consecutive hysteresis is enabled. Restoring hysteresis to 4\n"
     ]
    },
    {
     "name": "stderr",
     "output_type": "stream",
     "text": [
      "\u001b[36m(RayTrainWorker pid=2946694)\u001b[0m /home/jupyter/.local/lib/python3.10/site-packages/torch/utils/checkpoint.py:429: UserWarning: torch.utils.checkpoint: please pass in use_reentrant=True or use_reentrant=False explicitly. The default value of use_reentrant will be updated to be False in the future. To maintain current behavior, pass use_reentrant=True. It is recommended that you use use_reentrant=False. Refer to docs for more details on the differences between the two variants.\u001b[32m [repeated 2x across cluster]\u001b[0m\n",
      "\u001b[36m(RayTrainWorker pid=2946694)\u001b[0m   warnings.warn(\u001b[32m [repeated 2x across cluster]\u001b[0m\n"
     ]
    },
    {
     "name": "stdout",
     "output_type": "stream",
     "text": [
      "\u001b[36m(RayTrainWorker pid=2946693)\u001b[0m {'loss': 0.1017, 'learning_rate': 1.9934836124921564e-05, 'epoch': 0.0}\n",
      "\u001b[36m(RayTrainWorker pid=2946693)\u001b[0m [2025-02-17 10:34:55,119] [INFO] [loss_scaler.py:197:update_scale] Consecutive hysteresis is enabled. Restoring hysteresis to 4\n"
     ]
    },
    {
     "name": "stderr",
     "output_type": "stream",
     "text": [
      "\u001b[36m(RayTrainWorker pid=2946694)\u001b[0m /home/jupyter/.local/lib/python3.10/site-packages/torch/utils/checkpoint.py:429: UserWarning: torch.utils.checkpoint: please pass in use_reentrant=True or use_reentrant=False explicitly. The default value of use_reentrant will be updated to be False in the future. To maintain current behavior, pass use_reentrant=True. It is recommended that you use use_reentrant=False. Refer to docs for more details on the differences between the two variants.\u001b[32m [repeated 2x across cluster]\u001b[0m\n",
      "\u001b[36m(RayTrainWorker pid=2946694)\u001b[0m   warnings.warn(\u001b[32m [repeated 2x across cluster]\u001b[0m\n"
     ]
    },
    {
     "name": "stdout",
     "output_type": "stream",
     "text": [
      "\u001b[36m(RayTrainWorker pid=2946693)\u001b[0m {'loss': 0.0644, 'learning_rate': 1.9934353429550613e-05, 'epoch': 0.0}\n",
      "\u001b[36m(RayTrainWorker pid=2946693)\u001b[0m [2025-02-17 10:35:21,704] [INFO] [loss_scaler.py:197:update_scale] Consecutive hysteresis is enabled. Restoring hysteresis to 4\n"
     ]
    },
    {
     "name": "stderr",
     "output_type": "stream",
     "text": [
      "\u001b[36m(RayTrainWorker pid=2946694)\u001b[0m /home/jupyter/.local/lib/python3.10/site-packages/torch/utils/checkpoint.py:429: UserWarning: torch.utils.checkpoint: please pass in use_reentrant=True or use_reentrant=False explicitly. The default value of use_reentrant will be updated to be False in the future. To maintain current behavior, pass use_reentrant=True. It is recommended that you use use_reentrant=False. Refer to docs for more details on the differences between the two variants.\u001b[32m [repeated 2x across cluster]\u001b[0m\n",
      "\u001b[36m(RayTrainWorker pid=2946694)\u001b[0m   warnings.warn(\u001b[32m [repeated 2x across cluster]\u001b[0m\n"
     ]
    },
    {
     "name": "stdout",
     "output_type": "stream",
     "text": [
      "\u001b[36m(RayTrainWorker pid=2946693)\u001b[0m {'loss': 0.0663, 'learning_rate': 1.993387073417966e-05, 'epoch': 0.0}\n",
      "\u001b[36m(RayTrainWorker pid=2946693)\u001b[0m [2025-02-17 10:35:48,323] [INFO] [loss_scaler.py:197:update_scale] Consecutive hysteresis is enabled. Restoring hysteresis to 4\n"
     ]
    },
    {
     "name": "stderr",
     "output_type": "stream",
     "text": [
      "\u001b[36m(RayTrainWorker pid=2946694)\u001b[0m /home/jupyter/.local/lib/python3.10/site-packages/torch/utils/checkpoint.py:429: UserWarning: torch.utils.checkpoint: please pass in use_reentrant=True or use_reentrant=False explicitly. The default value of use_reentrant will be updated to be False in the future. To maintain current behavior, pass use_reentrant=True. It is recommended that you use use_reentrant=False. Refer to docs for more details on the differences between the two variants.\u001b[32m [repeated 2x across cluster]\u001b[0m\n",
      "\u001b[36m(RayTrainWorker pid=2946694)\u001b[0m   warnings.warn(\u001b[32m [repeated 2x across cluster]\u001b[0m\n"
     ]
    },
    {
     "name": "stdout",
     "output_type": "stream",
     "text": [
      "\u001b[36m(RayTrainWorker pid=2946693)\u001b[0m {'loss': 0.1457, 'learning_rate': 1.993338803880871e-05, 'epoch': 0.0}\n",
      "\u001b[36m(RayTrainWorker pid=2946693)\u001b[0m [2025-02-17 10:36:15,094] [INFO] [loss_scaler.py:197:update_scale] Consecutive hysteresis is enabled. Restoring hysteresis to 4\n",
      "\u001b[36m(RayTrainWorker pid=2946693)\u001b[0m {'loss': 0.1314, 'learning_rate': 1.993290534343776e-05, 'epoch': 0.0}\n"
     ]
    },
    {
     "name": "stderr",
     "output_type": "stream",
     "text": [
      "\u001b[36m(RayTrainWorker pid=2946694)\u001b[0m /home/jupyter/.local/lib/python3.10/site-packages/torch/utils/checkpoint.py:429: UserWarning: torch.utils.checkpoint: please pass in use_reentrant=True or use_reentrant=False explicitly. The default value of use_reentrant will be updated to be False in the future. To maintain current behavior, pass use_reentrant=True. It is recommended that you use use_reentrant=False. Refer to docs for more details on the differences between the two variants.\u001b[32m [repeated 2x across cluster]\u001b[0m\n",
      "\u001b[36m(RayTrainWorker pid=2946694)\u001b[0m   warnings.warn(\u001b[32m [repeated 2x across cluster]\u001b[0m\n"
     ]
    },
    {
     "name": "stdout",
     "output_type": "stream",
     "text": [
      "\u001b[36m(RayTrainWorker pid=2946693)\u001b[0m [2025-02-17 10:36:41,765] [INFO] [loss_scaler.py:197:update_scale] Consecutive hysteresis is enabled. Restoring hysteresis to 4\n"
     ]
    },
    {
     "name": "stderr",
     "output_type": "stream",
     "text": [
      "\u001b[36m(RayTrainWorker pid=2946694)\u001b[0m /home/jupyter/.local/lib/python3.10/site-packages/torch/utils/checkpoint.py:429: UserWarning: torch.utils.checkpoint: please pass in use_reentrant=True or use_reentrant=False explicitly. The default value of use_reentrant will be updated to be False in the future. To maintain current behavior, pass use_reentrant=True. It is recommended that you use use_reentrant=False. Refer to docs for more details on the differences between the two variants.\u001b[32m [repeated 2x across cluster]\u001b[0m\n",
      "\u001b[36m(RayTrainWorker pid=2946694)\u001b[0m   warnings.warn(\u001b[32m [repeated 2x across cluster]\u001b[0m\n"
     ]
    },
    {
     "name": "stdout",
     "output_type": "stream",
     "text": [
      "\u001b[36m(RayTrainWorker pid=2946693)\u001b[0m [2025-02-17 10:36:47,698] [INFO] [logging.py:96:log_dist] [Rank 0] step=140, skipped=0, lr=[1.9932422648066808e-05], mom=[[0.9, 0.999]]\n",
      "\u001b[36m(RayTrainWorker pid=2946693)\u001b[0m [2025-02-17 10:36:47,699] [INFO] [timer.py:260:stop] epoch=0/micro_step=140/global_step=140, RunningAvgSamplesPerSec=0.3000256462484212, CurrSamplesPerSec=0.299525404652014, MemAllocated=5.79GB, MaxMemAllocated=9.9GB\n",
      "\u001b[36m(RayTrainWorker pid=2946693)\u001b[0m {'loss': 0.0672, 'learning_rate': 1.9932422648066808e-05, 'epoch': 0.0}\n",
      "\u001b[36m(RayTrainWorker pid=2946693)\u001b[0m [2025-02-17 10:37:08,559] [INFO] [loss_scaler.py:197:update_scale] Consecutive hysteresis is enabled. Restoring hysteresis to 4\n",
      "\u001b[36m(RayTrainWorker pid=2946693)\u001b[0m {'loss': 0.069, 'learning_rate': 1.9931939952695857e-05, 'epoch': 0.0}\n"
     ]
    },
    {
     "name": "stderr",
     "output_type": "stream",
     "text": [
      "\u001b[36m(RayTrainWorker pid=2946694)\u001b[0m /home/jupyter/.local/lib/python3.10/site-packages/torch/utils/checkpoint.py:429: UserWarning: torch.utils.checkpoint: please pass in use_reentrant=True or use_reentrant=False explicitly. The default value of use_reentrant will be updated to be False in the future. To maintain current behavior, pass use_reentrant=True. It is recommended that you use use_reentrant=False. Refer to docs for more details on the differences between the two variants.\u001b[32m [repeated 2x across cluster]\u001b[0m\n",
      "\u001b[36m(RayTrainWorker pid=2946694)\u001b[0m   warnings.warn(\u001b[32m [repeated 2x across cluster]\u001b[0m\n"
     ]
    },
    {
     "name": "stdout",
     "output_type": "stream",
     "text": [
      "\u001b[36m(RayTrainWorker pid=2946693)\u001b[0m [2025-02-17 10:37:35,320] [INFO] [loss_scaler.py:197:update_scale] Consecutive hysteresis is enabled. Restoring hysteresis to 4\n"
     ]
    },
    {
     "name": "stderr",
     "output_type": "stream",
     "text": [
      "\u001b[36m(RayTrainWorker pid=2946694)\u001b[0m /home/jupyter/.local/lib/python3.10/site-packages/torch/utils/checkpoint.py:429: UserWarning: torch.utils.checkpoint: please pass in use_reentrant=True or use_reentrant=False explicitly. The default value of use_reentrant will be updated to be False in the future. To maintain current behavior, pass use_reentrant=True. It is recommended that you use use_reentrant=False. Refer to docs for more details on the differences between the two variants.\u001b[32m [repeated 2x across cluster]\u001b[0m\n",
      "\u001b[36m(RayTrainWorker pid=2946694)\u001b[0m   warnings.warn(\u001b[32m [repeated 2x across cluster]\u001b[0m\n"
     ]
    },
    {
     "name": "stdout",
     "output_type": "stream",
     "text": [
      "\u001b[36m(RayTrainWorker pid=2946693)\u001b[0m {'loss': 0.0698, 'learning_rate': 1.9931457257324906e-05, 'epoch': 0.0}\n",
      "\u001b[36m(RayTrainWorker pid=2946693)\u001b[0m [2025-02-17 10:38:01,951] [INFO] [loss_scaler.py:197:update_scale] Consecutive hysteresis is enabled. Restoring hysteresis to 4\n"
     ]
    },
    {
     "name": "stderr",
     "output_type": "stream",
     "text": [
      "\u001b[36m(RayTrainWorker pid=2946694)\u001b[0m /home/jupyter/.local/lib/python3.10/site-packages/torch/utils/checkpoint.py:429: UserWarning: torch.utils.checkpoint: please pass in use_reentrant=True or use_reentrant=False explicitly. The default value of use_reentrant will be updated to be False in the future. To maintain current behavior, pass use_reentrant=True. It is recommended that you use use_reentrant=False. Refer to docs for more details on the differences between the two variants.\u001b[32m [repeated 2x across cluster]\u001b[0m\n",
      "\u001b[36m(RayTrainWorker pid=2946694)\u001b[0m   warnings.warn(\u001b[32m [repeated 2x across cluster]\u001b[0m\n"
     ]
    },
    {
     "name": "stdout",
     "output_type": "stream",
     "text": [
      "\u001b[36m(RayTrainWorker pid=2946693)\u001b[0m {'loss': 0.1255, 'learning_rate': 1.9930974561953955e-05, 'epoch': 0.0}\n",
      "\u001b[36m(RayTrainWorker pid=2946693)\u001b[0m [2025-02-17 10:38:28,592] [INFO] [loss_scaler.py:197:update_scale] Consecutive hysteresis is enabled. Restoring hysteresis to 4\n"
     ]
    },
    {
     "name": "stderr",
     "output_type": "stream",
     "text": [
      "\u001b[36m(RayTrainWorker pid=2946694)\u001b[0m /home/jupyter/.local/lib/python3.10/site-packages/torch/utils/checkpoint.py:429: UserWarning: torch.utils.checkpoint: please pass in use_reentrant=True or use_reentrant=False explicitly. The default value of use_reentrant will be updated to be False in the future. To maintain current behavior, pass use_reentrant=True. It is recommended that you use use_reentrant=False. Refer to docs for more details on the differences between the two variants.\u001b[32m [repeated 2x across cluster]\u001b[0m\n",
      "\u001b[36m(RayTrainWorker pid=2946694)\u001b[0m   warnings.warn(\u001b[32m [repeated 2x across cluster]\u001b[0m\n"
     ]
    },
    {
     "name": "stdout",
     "output_type": "stream",
     "text": [
      "\u001b[36m(RayTrainWorker pid=2946693)\u001b[0m {'loss': 0.0739, 'learning_rate': 1.9930491866583e-05, 'epoch': 0.0}\n",
      "\u001b[36m(RayTrainWorker pid=2946693)\u001b[0m [2025-02-17 10:38:55,234] [INFO] [loss_scaler.py:197:update_scale] Consecutive hysteresis is enabled. Restoring hysteresis to 4\n"
     ]
    },
    {
     "name": "stderr",
     "output_type": "stream",
     "text": [
      "\u001b[36m(RayTrainWorker pid=2946694)\u001b[0m /home/jupyter/.local/lib/python3.10/site-packages/torch/utils/checkpoint.py:429: UserWarning: torch.utils.checkpoint: please pass in use_reentrant=True or use_reentrant=False explicitly. The default value of use_reentrant will be updated to be False in the future. To maintain current behavior, pass use_reentrant=True. It is recommended that you use use_reentrant=False. Refer to docs for more details on the differences between the two variants.\u001b[32m [repeated 2x across cluster]\u001b[0m\n",
      "\u001b[36m(RayTrainWorker pid=2946694)\u001b[0m   warnings.warn(\u001b[32m [repeated 2x across cluster]\u001b[0m\n"
     ]
    },
    {
     "name": "stdout",
     "output_type": "stream",
     "text": [
      "\u001b[36m(RayTrainWorker pid=2946693)\u001b[0m {'loss': 0.0996, 'learning_rate': 1.993000917121205e-05, 'epoch': 0.0}\n",
      "\u001b[36m(RayTrainWorker pid=2946693)\u001b[0m [2025-02-17 10:39:21,983] [INFO] [loss_scaler.py:197:update_scale] Consecutive hysteresis is enabled. Restoring hysteresis to 4\n"
     ]
    },
    {
     "name": "stderr",
     "output_type": "stream",
     "text": [
      "\u001b[36m(RayTrainWorker pid=2946694)\u001b[0m /home/jupyter/.local/lib/python3.10/site-packages/torch/utils/checkpoint.py:429: UserWarning: torch.utils.checkpoint: please pass in use_reentrant=True or use_reentrant=False explicitly. The default value of use_reentrant will be updated to be False in the future. To maintain current behavior, pass use_reentrant=True. It is recommended that you use use_reentrant=False. Refer to docs for more details on the differences between the two variants.\u001b[32m [repeated 2x across cluster]\u001b[0m\n",
      "\u001b[36m(RayTrainWorker pid=2946694)\u001b[0m   warnings.warn(\u001b[32m [repeated 2x across cluster]\u001b[0m\n"
     ]
    },
    {
     "name": "stdout",
     "output_type": "stream",
     "text": [
      "\u001b[36m(RayTrainWorker pid=2946693)\u001b[0m {'loss': 0.2001, 'learning_rate': 1.9929526475841098e-05, 'epoch': 0.0}\n",
      "\u001b[36m(RayTrainWorker pid=2946693)\u001b[0m [2025-02-17 10:39:48,579] [INFO] [loss_scaler.py:197:update_scale] Consecutive hysteresis is enabled. Restoring hysteresis to 4\n"
     ]
    },
    {
     "name": "stderr",
     "output_type": "stream",
     "text": [
      "\u001b[36m(RayTrainWorker pid=2946694)\u001b[0m /home/jupyter/.local/lib/python3.10/site-packages/torch/utils/checkpoint.py:429: UserWarning: torch.utils.checkpoint: please pass in use_reentrant=True or use_reentrant=False explicitly. The default value of use_reentrant will be updated to be False in the future. To maintain current behavior, pass use_reentrant=True. It is recommended that you use use_reentrant=False. Refer to docs for more details on the differences between the two variants.\u001b[32m [repeated 2x across cluster]\u001b[0m\n",
      "\u001b[36m(RayTrainWorker pid=2946694)\u001b[0m   warnings.warn(\u001b[32m [repeated 2x across cluster]\u001b[0m\n"
     ]
    },
    {
     "name": "stdout",
     "output_type": "stream",
     "text": [
      "\u001b[36m(RayTrainWorker pid=2946693)\u001b[0m {'loss': 0.1226, 'learning_rate': 1.9929043780470147e-05, 'epoch': 0.0}\n",
      "\u001b[36m(RayTrainWorker pid=2946693)\u001b[0m [2025-02-17 10:40:15,127] [INFO] [loss_scaler.py:197:update_scale] Consecutive hysteresis is enabled. Restoring hysteresis to 4\n"
     ]
    },
    {
     "name": "stderr",
     "output_type": "stream",
     "text": [
      "\u001b[36m(RayTrainWorker pid=2946694)\u001b[0m /home/jupyter/.local/lib/python3.10/site-packages/torch/utils/checkpoint.py:429: UserWarning: torch.utils.checkpoint: please pass in use_reentrant=True or use_reentrant=False explicitly. The default value of use_reentrant will be updated to be False in the future. To maintain current behavior, pass use_reentrant=True. It is recommended that you use use_reentrant=False. Refer to docs for more details on the differences between the two variants.\u001b[32m [repeated 2x across cluster]\u001b[0m\n",
      "\u001b[36m(RayTrainWorker pid=2946694)\u001b[0m   warnings.warn(\u001b[32m [repeated 2x across cluster]\u001b[0m\n"
     ]
    },
    {
     "name": "stdout",
     "output_type": "stream",
     "text": [
      "\u001b[36m(RayTrainWorker pid=2946693)\u001b[0m {'loss': 0.0715, 'learning_rate': 1.9928561085099195e-05, 'epoch': 0.0}\n",
      "\u001b[36m(RayTrainWorker pid=2946693)\u001b[0m [2025-02-17 10:40:41,926] [INFO] [loss_scaler.py:197:update_scale] Consecutive hysteresis is enabled. Restoring hysteresis to 4\n",
      "\u001b[36m(RayTrainWorker pid=2946693)\u001b[0m {'loss': 0.1317, 'learning_rate': 1.9928078389728244e-05, 'epoch': 0.0}\n"
     ]
    },
    {
     "name": "stderr",
     "output_type": "stream",
     "text": [
      "\u001b[36m(RayTrainWorker pid=2946694)\u001b[0m /home/jupyter/.local/lib/python3.10/site-packages/torch/utils/checkpoint.py:429: UserWarning: torch.utils.checkpoint: please pass in use_reentrant=True or use_reentrant=False explicitly. The default value of use_reentrant will be updated to be False in the future. To maintain current behavior, pass use_reentrant=True. It is recommended that you use use_reentrant=False. Refer to docs for more details on the differences between the two variants.\u001b[32m [repeated 2x across cluster]\u001b[0m\n",
      "\u001b[36m(RayTrainWorker pid=2946694)\u001b[0m   warnings.warn(\u001b[32m [repeated 2x across cluster]\u001b[0m\n"
     ]
    },
    {
     "name": "stdout",
     "output_type": "stream",
     "text": [
      "\u001b[36m(RayTrainWorker pid=2946693)\u001b[0m [2025-02-17 10:41:08,762] [INFO] [loss_scaler.py:197:update_scale] Consecutive hysteresis is enabled. Restoring hysteresis to 4\n"
     ]
    },
    {
     "name": "stderr",
     "output_type": "stream",
     "text": [
      "\u001b[36m(RayTrainWorker pid=2946694)\u001b[0m /home/jupyter/.local/lib/python3.10/site-packages/torch/utils/checkpoint.py:429: UserWarning: torch.utils.checkpoint: please pass in use_reentrant=True or use_reentrant=False explicitly. The default value of use_reentrant will be updated to be False in the future. To maintain current behavior, pass use_reentrant=True. It is recommended that you use use_reentrant=False. Refer to docs for more details on the differences between the two variants.\u001b[32m [repeated 2x across cluster]\u001b[0m\n",
      "\u001b[36m(RayTrainWorker pid=2946694)\u001b[0m   warnings.warn(\u001b[32m [repeated 2x across cluster]\u001b[0m\n"
     ]
    },
    {
     "name": "stdout",
     "output_type": "stream",
     "text": [
      "\u001b[36m(RayTrainWorker pid=2946693)\u001b[0m [2025-02-17 10:41:14,711] [INFO] [logging.py:96:log_dist] [Rank 0] step=150, skipped=0, lr=[1.9927595694357293e-05], mom=[[0.9, 0.999]]\n",
      "\u001b[36m(RayTrainWorker pid=2946693)\u001b[0m [2025-02-17 10:41:14,712] [INFO] [timer.py:260:stop] epoch=0/micro_step=150/global_step=150, RunningAvgSamplesPerSec=0.3000024138746336, CurrSamplesPerSec=0.298904634712622, MemAllocated=5.79GB, MaxMemAllocated=9.9GB\n",
      "\u001b[36m(RayTrainWorker pid=2946693)\u001b[0m {'loss': 0.1152, 'learning_rate': 1.9927595694357293e-05, 'epoch': 0.0}\n",
      "\u001b[36m(RayTrainWorker pid=2946693)\u001b[0m [2025-02-17 10:41:35,464] [INFO] [loss_scaler.py:197:update_scale] Consecutive hysteresis is enabled. Restoring hysteresis to 4\n"
     ]
    },
    {
     "name": "stderr",
     "output_type": "stream",
     "text": [
      "\u001b[36m(RayTrainWorker pid=2946694)\u001b[0m /home/jupyter/.local/lib/python3.10/site-packages/torch/utils/checkpoint.py:429: UserWarning: torch.utils.checkpoint: please pass in use_reentrant=True or use_reentrant=False explicitly. The default value of use_reentrant will be updated to be False in the future. To maintain current behavior, pass use_reentrant=True. It is recommended that you use use_reentrant=False. Refer to docs for more details on the differences between the two variants.\u001b[32m [repeated 2x across cluster]\u001b[0m\n",
      "\u001b[36m(RayTrainWorker pid=2946694)\u001b[0m   warnings.warn(\u001b[32m [repeated 2x across cluster]\u001b[0m\n"
     ]
    },
    {
     "name": "stdout",
     "output_type": "stream",
     "text": [
      "\u001b[36m(RayTrainWorker pid=2946693)\u001b[0m {'loss': 0.0582, 'learning_rate': 1.9927112998986342e-05, 'epoch': 0.0}\n",
      "\u001b[36m(RayTrainWorker pid=2946693)\u001b[0m [2025-02-17 10:42:02,240] [INFO] [loss_scaler.py:197:update_scale] Consecutive hysteresis is enabled. Restoring hysteresis to 4\n"
     ]
    },
    {
     "name": "stderr",
     "output_type": "stream",
     "text": [
      "\u001b[36m(RayTrainWorker pid=2946694)\u001b[0m /home/jupyter/.local/lib/python3.10/site-packages/torch/utils/checkpoint.py:429: UserWarning: torch.utils.checkpoint: please pass in use_reentrant=True or use_reentrant=False explicitly. The default value of use_reentrant will be updated to be False in the future. To maintain current behavior, pass use_reentrant=True. It is recommended that you use use_reentrant=False. Refer to docs for more details on the differences between the two variants.\u001b[32m [repeated 2x across cluster]\u001b[0m\n",
      "\u001b[36m(RayTrainWorker pid=2946694)\u001b[0m   warnings.warn(\u001b[32m [repeated 2x across cluster]\u001b[0m\n"
     ]
    },
    {
     "name": "stdout",
     "output_type": "stream",
     "text": [
      "\u001b[36m(RayTrainWorker pid=2946693)\u001b[0m {'loss': 0.0731, 'learning_rate': 1.992663030361539e-05, 'epoch': 0.0}\n",
      "\u001b[36m(RayTrainWorker pid=2946693)\u001b[0m [2025-02-17 10:42:29,000] [INFO] [loss_scaler.py:197:update_scale] Consecutive hysteresis is enabled. Restoring hysteresis to 4\n",
      "\u001b[36m(RayTrainWorker pid=2946693)\u001b[0m {'loss': 0.1069, 'learning_rate': 1.992614760824444e-05, 'epoch': 0.0}\n"
     ]
    },
    {
     "name": "stderr",
     "output_type": "stream",
     "text": [
      "\u001b[36m(RayTrainWorker pid=2946694)\u001b[0m /home/jupyter/.local/lib/python3.10/site-packages/torch/utils/checkpoint.py:429: UserWarning: torch.utils.checkpoint: please pass in use_reentrant=True or use_reentrant=False explicitly. The default value of use_reentrant will be updated to be False in the future. To maintain current behavior, pass use_reentrant=True. It is recommended that you use use_reentrant=False. Refer to docs for more details on the differences between the two variants.\u001b[32m [repeated 2x across cluster]\u001b[0m\n",
      "\u001b[36m(RayTrainWorker pid=2946694)\u001b[0m   warnings.warn(\u001b[32m [repeated 2x across cluster]\u001b[0m\n"
     ]
    },
    {
     "name": "stdout",
     "output_type": "stream",
     "text": [
      "\u001b[36m(RayTrainWorker pid=2946693)\u001b[0m [2025-02-17 10:42:55,754] [INFO] [loss_scaler.py:197:update_scale] Consecutive hysteresis is enabled. Restoring hysteresis to 4\n",
      "\u001b[36m(TrainTrainable pid=3754417)\u001b[0m [2025-02-17 11:58:02,281] [INFO] [real_accelerator.py:158:get_accelerator] Setting ds_accelerator to cuda (auto detect)\n"
     ]
    },
    {
     "name": "stderr",
     "output_type": "stream",
     "text": [
      "\u001b[36m(RayTrainWorker pid=3755106)\u001b[0m Setting up process group for: env:// [rank=0, world_size=2]\n",
      "\u001b[36m(TorchTrainer pid=3754417)\u001b[0m Started distributed worker processes: \n",
      "\u001b[36m(TorchTrainer pid=3754417)\u001b[0m - (ip=10.128.0.4, pid=3755106) world_rank=0, local_rank=0, node_rank=0\n",
      "\u001b[36m(TorchTrainer pid=3754417)\u001b[0m - (ip=10.128.0.4, pid=3755107) world_rank=1, local_rank=1, node_rank=0\n"
     ]
    },
    {
     "name": "stdout",
     "output_type": "stream",
     "text": [
      "\u001b[36m(RayTrainWorker pid=3755106)\u001b[0m [2025-02-17 11:58:08,441] [INFO] [real_accelerator.py:158:get_accelerator] Setting ds_accelerator to cuda (auto detect)\n",
      "\u001b[36m(RayTrainWorker pid=3755107)\u001b[0m [2025-02-17 11:58:08,455] [INFO] [real_accelerator.py:158:get_accelerator] Setting ds_accelerator to cuda (auto detect)\n"
     ]
    },
    {
     "name": "stderr",
     "output_type": "stream",
     "text": [
      "\u001b[36m(SplitCoordinator pid=3755551)\u001b[0m Auto configuring locality_with_output=['ebb69d1f227a3ae2d8c10cf5364cdd3d721490cfa146ad3a2e84a909', 'ebb69d1f227a3ae2d8c10cf5364cdd3d721490cfa146ad3a2e84a909']\n"
     ]
    },
    {
     "name": "stdout",
     "output_type": "stream",
     "text": [
      "\u001b[36m(RayTrainWorker pid=3755106)\u001b[0m Preparing training arguments\n",
      "\u001b[36m(RayTrainWorker pid=3755106)\u001b[0m [2025-02-17 11:58:09,761] [INFO] [comm.py:637:init_distributed] cdb=None\n"
     ]
    },
    {
     "name": "stderr",
     "output_type": "stream",
     "text": [
      "\u001b[36m(RayTrainWorker pid=3755106)\u001b[0m /home/jupyter/.local/lib/python3.10/site-packages/huggingface_hub/file_download.py:795: FutureWarning: `resume_download` is deprecated and will be removed in version 1.0.0. Downloads always resume when possible. If you want to force a new download, use `force_download=True`.\n",
      "\u001b[36m(RayTrainWorker pid=3755106)\u001b[0m   warnings.warn(\n"
     ]
    },
    {
     "name": "stdout",
     "output_type": "stream",
     "text": [
      "\u001b[36m(RayTrainWorker pid=3755106)\u001b[0m Loading model\n",
      "\u001b[36m(RayTrainWorker pid=3755106)\u001b[0m [2025-02-17 11:59:46,825] [INFO] [partition_parameters.py:348:__exit__] finished initializing model - num_params = 285, num_elems = 6.05B\n",
      "\u001b[36m(RayTrainWorker pid=3755107)\u001b[0m Preparing training arguments\n",
      "\u001b[36m(RayTrainWorker pid=3755107)\u001b[0m [2025-02-17 11:58:09,761] [INFO] [comm.py:637:init_distributed] cdb=None\n",
      "\u001b[36m(RayTrainWorker pid=3755107)\u001b[0m Loading model\n",
      "\u001b[36m(RayTrainWorker pid=3755107)\u001b[0m Model loaded\n"
     ]
    },
    {
     "name": "stderr",
     "output_type": "stream",
     "text": [
      "\u001b[36m(RayTrainWorker pid=3755106)\u001b[0m max_steps is given, it will override any value given in num_train_epochs\n",
      "\u001b[36m(RayTrainWorker pid=3755106)\u001b[0m Using cuda_amp half precision backend\n",
      "\u001b[36m(SplitCoordinator pid=3755552)\u001b[0m Auto configuring locality_with_output=['ebb69d1f227a3ae2d8c10cf5364cdd3d721490cfa146ad3a2e84a909', 'ebb69d1f227a3ae2d8c10cf5364cdd3d721490cfa146ad3a2e84a909']\n",
      "\u001b[36m(RayTrainWorker pid=3755107)\u001b[0m /home/jupyter/.local/lib/python3.10/site-packages/huggingface_hub/file_download.py:795: FutureWarning: `resume_download` is deprecated and will be removed in version 1.0.0. Downloads always resume when possible. If you want to force a new download, use `force_download=True`.\n",
      "\u001b[36m(RayTrainWorker pid=3755107)\u001b[0m   warnings.warn(\n"
     ]
    },
    {
     "name": "stdout",
     "output_type": "stream",
     "text": [
      "\u001b[36m(RayTrainWorker pid=3755106)\u001b[0m [2025-02-17 12:00:06,841] [INFO] [logging.py:96:log_dist] [Rank 0] DeepSpeed info: version=0.12.3, git-hash=unknown, git-branch=unknown\n",
      "\u001b[36m(RayTrainWorker pid=3755106)\u001b[0m [2025-02-17 12:00:06,851] [INFO] [logging.py:96:log_dist] [Rank 0] DeepSpeed Flops Profiler Enabled: False\n"
     ]
    },
    {
     "name": "stderr",
     "output_type": "stream",
     "text": [
      "\u001b[36m(RayTrainWorker pid=3755107)\u001b[0m Using /home/jupyter/.cache/torch_extensions/py310_cu121 as PyTorch extensions root...\n",
      "\u001b[36m(RayTrainWorker pid=3755107)\u001b[0m Detected CUDA files, patching ldflags\n",
      "\u001b[36m(RayTrainWorker pid=3755107)\u001b[0m Emitting ninja build file /home/jupyter/.cache/torch_extensions/py310_cu121/cpu_adam/build.ninja...\n",
      "\u001b[36m(RayTrainWorker pid=3755107)\u001b[0m Building extension module cpu_adam...\n",
      "\u001b[36m(RayTrainWorker pid=3755107)\u001b[0m Allowing ninja to set a default number of workers... (overridable by setting the environment variable MAX_JOBS=N)\n",
      "\u001b[36m(RayTrainWorker pid=3755107)\u001b[0m Loading extension module cpu_adam...\n"
     ]
    },
    {
     "name": "stdout",
     "output_type": "stream",
     "text": [
      "\u001b[36m(RayTrainWorker pid=3755107)\u001b[0m \u001b[93m [WARNING] \u001b[0m cpu_adam cuda is missing or is incompatible with installed torch, only cpu ops can be compiled!\n",
      "\u001b[36m(RayTrainWorker pid=3755107)\u001b[0m ninja: no work to do.\n",
      "\u001b[36m(RayTrainWorker pid=3755107)\u001b[0m Time to load cpu_adam op: 2.3063886165618896 seconds\n",
      "\u001b[36m(RayTrainWorker pid=3755106)\u001b[0m [2025-02-17 12:00:10,691] [INFO] [logging.py:96:log_dist] [Rank 0] Using DeepSpeed Optimizer param name adamw as basic optimizer\n",
      "\u001b[36m(RayTrainWorker pid=3755106)\u001b[0m [2025-02-17 12:00:10,691] [INFO] [logging.py:96:log_dist] [Rank 0] Removing param_group that has no 'params' in the basic Optimizer\n",
      "\u001b[36m(RayTrainWorker pid=3755106)\u001b[0m [2025-02-17 12:00:10,709] [INFO] [logging.py:96:log_dist] [Rank 0] DeepSpeed Basic Optimizer = DeepSpeedCPUAdam\n",
      "\u001b[36m(RayTrainWorker pid=3755106)\u001b[0m [2025-02-17 12:00:10,709] [INFO] [utils.py:56:is_zero_supported_optimizer] Checking ZeRO support for optimizer=DeepSpeedCPUAdam type=<class 'deepspeed.ops.adam.cpu_adam.DeepSpeedCPUAdam'>\n",
      "\u001b[36m(RayTrainWorker pid=3755106)\u001b[0m [2025-02-17 12:00:10,709] [INFO] [logging.py:96:log_dist] [Rank 0] Creating fp16 ZeRO stage 3 optimizer, MiCS is enabled False, Hierarchical params gather False\n",
      "\u001b[36m(RayTrainWorker pid=3755106)\u001b[0m [2025-02-17 12:00:10,709] [INFO] [logging.py:96:log_dist] [Rank 0] Creating torch.float16 ZeRO stage 3 optimizer\n",
      "\u001b[36m(RayTrainWorker pid=3755106)\u001b[0m [2025-02-17 12:00:10,886] [INFO] [utils.py:802:see_memory_usage] Stage 3 initialize beginning\n",
      "\u001b[36m(RayTrainWorker pid=3755106)\u001b[0m [2025-02-17 12:00:10,887] [INFO] [utils.py:803:see_memory_usage] MA 5.74 GB         Max_MA 6.71 GB         CA 8.46 GB         Max_CA 8 GB \n",
      "\u001b[36m(RayTrainWorker pid=3755106)\u001b[0m [2025-02-17 12:00:10,887] [INFO] [utils.py:810:see_memory_usage] CPU Virtual Memory:  used = 38.08 GB, percent = 20.2%\n",
      "\u001b[36m(RayTrainWorker pid=3755106)\u001b[0m [2025-02-17 12:00:10,889] [INFO] [stage3.py:127:__init__] Reduce bucket size 16777216\n",
      "\u001b[36m(RayTrainWorker pid=3755106)\u001b[0m [2025-02-17 12:00:10,889] [INFO] [stage3.py:128:__init__] Prefetch bucket size 15099494\n",
      "\u001b[36m(RayTrainWorker pid=3755106)\u001b[0m [2025-02-17 12:00:11,052] [INFO] [utils.py:802:see_memory_usage] DeepSpeedZeRoOffload initialize [begin]\n",
      "\u001b[36m(RayTrainWorker pid=3755106)\u001b[0m [2025-02-17 12:00:11,053] [INFO] [utils.py:803:see_memory_usage] MA 5.74 GB         Max_MA 5.74 GB         CA 8.46 GB         Max_CA 8 GB \n",
      "\u001b[36m(RayTrainWorker pid=3755106)\u001b[0m [2025-02-17 12:00:11,053] [INFO] [utils.py:810:see_memory_usage] CPU Virtual Memory:  used = 38.08 GB, percent = 20.2%\n",
      "\u001b[36m(RayTrainWorker pid=3755106)\u001b[0m Parameter Offload: Total persistent parameters: 811008 in 114 params\n",
      "\u001b[36m(RayTrainWorker pid=3755106)\u001b[0m [2025-02-17 12:00:11,248] [INFO] [utils.py:802:see_memory_usage] DeepSpeedZeRoOffload initialize [end]\n",
      "\u001b[36m(RayTrainWorker pid=3755106)\u001b[0m [2025-02-17 12:00:11,248] [INFO] [utils.py:803:see_memory_usage] MA 5.74 GB         Max_MA 5.74 GB         CA 8.46 GB         Max_CA 8 GB \n",
      "\u001b[36m(RayTrainWorker pid=3755106)\u001b[0m [2025-02-17 12:00:11,249] [INFO] [utils.py:810:see_memory_usage] CPU Virtual Memory:  used = 38.08 GB, percent = 20.2%\n",
      "\u001b[36m(RayTrainWorker pid=3755106)\u001b[0m Model loaded\n",
      "\u001b[36m(RayTrainWorker pid=3755106)\u001b[0m [2025-02-17 12:00:11,420] [INFO] [utils.py:802:see_memory_usage] Before creating fp16 partitions\n",
      "\u001b[36m(RayTrainWorker pid=3755106)\u001b[0m [2025-02-17 12:00:11,420] [INFO] [utils.py:803:see_memory_usage] MA 5.74 GB         Max_MA 5.74 GB         CA 8.46 GB         Max_CA 8 GB \n",
      "\u001b[36m(RayTrainWorker pid=3755106)\u001b[0m [2025-02-17 12:00:11,421] [INFO] [utils.py:810:see_memory_usage] CPU Virtual Memory:  used = 38.08 GB, percent = 20.2%\n",
      "\u001b[36m(RayTrainWorker pid=3755106)\u001b[0m [2025-02-17 12:00:15,801] [INFO] [utils.py:802:see_memory_usage] After creating fp16 partitions: 4\n",
      "\u001b[36m(RayTrainWorker pid=3755106)\u001b[0m [2025-02-17 12:00:15,802] [INFO] [utils.py:803:see_memory_usage] MA 5.74 GB         Max_MA 5.74 GB         CA 7.67 GB         Max_CA 8 GB \n",
      "\u001b[36m(RayTrainWorker pid=3755106)\u001b[0m [2025-02-17 12:00:15,802] [INFO] [utils.py:810:see_memory_usage] CPU Virtual Memory:  used = 38.51 GB, percent = 20.4%\n",
      "\u001b[36m(RayTrainWorker pid=3755106)\u001b[0m \u001b[93m [WARNING] \u001b[0m cpu_adam cuda is missing or is incompatible with installed torch, only cpu ops can be compiled!\n",
      "\u001b[36m(RayTrainWorker pid=3755106)\u001b[0m ninja: no work to do.\n",
      "\u001b[36m(RayTrainWorker pid=3755106)\u001b[0m Time to load cpu_adam op: 2.2936906814575195 seconds\n",
      "\u001b[36m(RayTrainWorker pid=3755106)\u001b[0m [2025-02-17 12:00:15,977] [INFO] [utils.py:802:see_memory_usage] Before creating fp32 partitions\n",
      "\u001b[36m(RayTrainWorker pid=3755106)\u001b[0m [2025-02-17 12:00:15,978] [INFO] [utils.py:803:see_memory_usage] MA 5.74 GB         Max_MA 5.74 GB         CA 7.67 GB         Max_CA 8 GB \n",
      "\u001b[36m(RayTrainWorker pid=3755106)\u001b[0m [2025-02-17 12:00:15,978] [INFO] [utils.py:810:see_memory_usage] CPU Virtual Memory:  used = 38.9 GB, percent = 20.6%\n",
      "\u001b[36m(RayTrainWorker pid=3755106)\u001b[0m [2025-02-17 12:00:21,972] [INFO] [utils.py:802:see_memory_usage] After creating fp32 partitions\n",
      "\u001b[36m(RayTrainWorker pid=3755106)\u001b[0m [2025-02-17 12:00:21,973] [INFO] [utils.py:803:see_memory_usage] MA 5.74 GB         Max_MA 5.74 GB         CA 7.67 GB         Max_CA 8 GB \n",
      "\u001b[36m(RayTrainWorker pid=3755106)\u001b[0m [2025-02-17 12:00:21,973] [INFO] [utils.py:810:see_memory_usage] CPU Virtual Memory:  used = 60.66 GB, percent = 32.1%\n",
      "\u001b[36m(RayTrainWorker pid=3755106)\u001b[0m [2025-02-17 12:00:22,172] [INFO] [utils.py:802:see_memory_usage] Before initializing optimizer states\n",
      "\u001b[36m(RayTrainWorker pid=3755106)\u001b[0m [2025-02-17 12:00:22,173] [INFO] [utils.py:803:see_memory_usage] MA 5.74 GB         Max_MA 5.74 GB         CA 7.67 GB         Max_CA 8 GB \n",
      "\u001b[36m(RayTrainWorker pid=3755106)\u001b[0m [2025-02-17 12:00:22,173] [INFO] [utils.py:810:see_memory_usage] CPU Virtual Memory:  used = 61.88 GB, percent = 32.8%\n",
      "\u001b[36m(RayTrainWorker pid=3755106)\u001b[0m [2025-02-17 12:00:37,699] [INFO] [utils.py:802:see_memory_usage] After initializing optimizer states\n",
      "\u001b[36m(RayTrainWorker pid=3755106)\u001b[0m [2025-02-17 12:00:37,699] [INFO] [utils.py:803:see_memory_usage] MA 5.74 GB         Max_MA 5.74 GB         CA 7.67 GB         Max_CA 8 GB \n",
      "\u001b[36m(RayTrainWorker pid=3755106)\u001b[0m [2025-02-17 12:00:37,700] [INFO] [utils.py:810:see_memory_usage] CPU Virtual Memory:  used = 130.33 GB, percent = 69.1%\n",
      "\u001b[36m(RayTrainWorker pid=3755106)\u001b[0m [2025-02-17 12:00:37,700] [INFO] [stage3.py:479:_setup_for_real_optimizer] optimizer state initialized\n"
     ]
    },
    {
     "name": "stderr",
     "output_type": "stream",
     "text": [
      "\u001b[36m(RayTrainWorker pid=3755106)\u001b[0m ***** Running training *****\n",
      "\u001b[36m(RayTrainWorker pid=3755106)\u001b[0m   Num examples = 165728\n",
      "\u001b[36m(RayTrainWorker pid=3755106)\u001b[0m   Num Epochs = 9223372036854775807\n",
      "\u001b[36m(RayTrainWorker pid=3755106)\u001b[0m   Instantaneous batch size per device = 16\n",
      "\u001b[36m(RayTrainWorker pid=3755106)\u001b[0m   Total train batch size (w. parallel, distributed & accumulation) = 32\n",
      "\u001b[36m(RayTrainWorker pid=3755106)\u001b[0m   Gradient Accumulation steps = 1\n",
      "\u001b[36m(RayTrainWorker pid=3755106)\u001b[0m   Total optimization steps = 5179\n",
      "\u001b[36m(RayTrainWorker pid=3755106)\u001b[0m   Number of trainable parameters = 0\n",
      "\u001b[36m(RayTrainWorker pid=3755106)\u001b[0m Using /home/jupyter/.cache/torch_extensions/py310_cu121 as PyTorch extensions root...\n",
      "\u001b[36m(RayTrainWorker pid=3755106)\u001b[0m Detected CUDA files, patching ldflags\n",
      "\u001b[36m(RayTrainWorker pid=3755106)\u001b[0m Emitting ninja build file /home/jupyter/.cache/torch_extensions/py310_cu121/cpu_adam/build.ninja...\n",
      "\u001b[36m(RayTrainWorker pid=3755106)\u001b[0m Building extension module cpu_adam...\n",
      "\u001b[36m(RayTrainWorker pid=3755106)\u001b[0m Allowing ninja to set a default number of workers... (overridable by setting the environment variable MAX_JOBS=N)\n",
      "\u001b[36m(RayTrainWorker pid=3755106)\u001b[0m Loading extension module cpu_adam...\n"
     ]
    },
    {
     "name": "stdout",
     "output_type": "stream",
     "text": [
      "\u001b[36m(RayTrainWorker pid=3755106)\u001b[0m [2025-02-17 12:00:45,441] [INFO] [utils.py:802:see_memory_usage] After initializing ZeRO optimizer\n",
      "\u001b[36m(RayTrainWorker pid=3755106)\u001b[0m [2025-02-17 12:00:45,442] [INFO] [utils.py:803:see_memory_usage] MA 5.78 GB         Max_MA 6.55 GB         CA 12.04 GB         Max_CA 21 GB \n",
      "\u001b[36m(RayTrainWorker pid=3755106)\u001b[0m [2025-02-17 12:00:45,442] [INFO] [utils.py:810:see_memory_usage] CPU Virtual Memory:  used = 146.67 GB, percent = 77.7%\n",
      "\u001b[36m(RayTrainWorker pid=3755106)\u001b[0m [2025-02-17 12:00:45,442] [INFO] [logging.py:96:log_dist] [Rank 0] DeepSpeed Final Optimizer = adamw\n",
      "\u001b[36m(RayTrainWorker pid=3755106)\u001b[0m [2025-02-17 12:00:45,443] [INFO] [logging.py:96:log_dist] [Rank 0] DeepSpeed using client callable to create LR scheduler\n",
      "\u001b[36m(RayTrainWorker pid=3755106)\u001b[0m [2025-02-17 12:00:45,443] [INFO] [logging.py:96:log_dist] [Rank 0] DeepSpeed LR Scheduler = <torch.optim.lr_scheduler.LambdaLR object at 0x7f7f255120b0>\n",
      "\u001b[36m(RayTrainWorker pid=3755106)\u001b[0m [2025-02-17 12:00:45,443] [INFO] [logging.py:96:log_dist] [Rank 0] step=0, skipped=0, lr=[2e-05], mom=[[0.9, 0.999]]\n",
      "\u001b[36m(RayTrainWorker pid=3755106)\u001b[0m [2025-02-17 12:00:45,444] [INFO] [config.py:974:print] DeepSpeedEngine configuration:\n",
      "\u001b[36m(RayTrainWorker pid=3755106)\u001b[0m [2025-02-17 12:00:45,444] [INFO] [config.py:978:print]   activation_checkpointing_config  {\n",
      "\u001b[36m(RayTrainWorker pid=3755106)\u001b[0m     \"partition_activations\": false, \n",
      "\u001b[36m(RayTrainWorker pid=3755106)\u001b[0m     \"contiguous_memory_optimization\": false, \n",
      "\u001b[36m(RayTrainWorker pid=3755106)\u001b[0m     \"cpu_checkpointing\": false, \n",
      "\u001b[36m(RayTrainWorker pid=3755106)\u001b[0m     \"number_checkpoints\": null, \n",
      "\u001b[36m(RayTrainWorker pid=3755106)\u001b[0m     \"synchronize_checkpoint_boundary\": false, \n",
      "\u001b[36m(RayTrainWorker pid=3755106)\u001b[0m     \"profile\": false\n",
      "\u001b[36m(RayTrainWorker pid=3755106)\u001b[0m }\n",
      "\u001b[36m(RayTrainWorker pid=3755106)\u001b[0m [2025-02-17 12:00:45,444] [INFO] [config.py:978:print]   aio_config ................... {'block_size': 1048576, 'queue_depth': 8, 'thread_count': 1, 'single_submit': False, 'overlap_events': True}\n",
      "\u001b[36m(RayTrainWorker pid=3755106)\u001b[0m [2025-02-17 12:00:45,444] [INFO] [config.py:978:print]   amp_enabled .................. False\n",
      "\u001b[36m(RayTrainWorker pid=3755106)\u001b[0m [2025-02-17 12:00:45,444] [INFO] [config.py:978:print]   amp_params ................... False\n",
      "\u001b[36m(RayTrainWorker pid=3755106)\u001b[0m [2025-02-17 12:00:45,445] [INFO] [config.py:978:print]   autotuning_config ............ {\n",
      "\u001b[36m(RayTrainWorker pid=3755106)\u001b[0m     \"enabled\": false, \n",
      "\u001b[36m(RayTrainWorker pid=3755106)\u001b[0m     \"start_step\": null, \n",
      "\u001b[36m(RayTrainWorker pid=3755106)\u001b[0m     \"end_step\": null, \n",
      "\u001b[36m(RayTrainWorker pid=3755106)\u001b[0m     \"metric_path\": null, \n",
      "\u001b[36m(RayTrainWorker pid=3755106)\u001b[0m     \"arg_mappings\": null, \n",
      "\u001b[36m(RayTrainWorker pid=3755106)\u001b[0m     \"metric\": \"throughput\", \n",
      "\u001b[36m(RayTrainWorker pid=3755106)\u001b[0m     \"model_info\": null, \n",
      "\u001b[36m(RayTrainWorker pid=3755106)\u001b[0m     \"results_dir\": \"autotuning_results\", \n",
      "\u001b[36m(RayTrainWorker pid=3755106)\u001b[0m     \"exps_dir\": \"autotuning_exps\", \n",
      "\u001b[36m(RayTrainWorker pid=3755106)\u001b[0m     \"overwrite\": true, \n",
      "\u001b[36m(RayTrainWorker pid=3755106)\u001b[0m     \"fast\": true, \n",
      "\u001b[36m(RayTrainWorker pid=3755106)\u001b[0m     \"start_profile_step\": 3, \n",
      "\u001b[36m(RayTrainWorker pid=3755106)\u001b[0m     \"end_profile_step\": 5, \n",
      "\u001b[36m(RayTrainWorker pid=3755106)\u001b[0m     \"tuner_type\": \"gridsearch\", \n",
      "\u001b[36m(RayTrainWorker pid=3755106)\u001b[0m     \"tuner_early_stopping\": 5, \n",
      "\u001b[36m(RayTrainWorker pid=3755106)\u001b[0m     \"tuner_num_trials\": 50, \n",
      "\u001b[36m(RayTrainWorker pid=3755106)\u001b[0m     \"model_info_path\": null, \n",
      "\u001b[36m(RayTrainWorker pid=3755106)\u001b[0m     \"mp_size\": 1, \n",
      "\u001b[36m(RayTrainWorker pid=3755106)\u001b[0m     \"max_train_batch_size\": null, \n",
      "\u001b[36m(RayTrainWorker pid=3755106)\u001b[0m     \"min_train_batch_size\": 1, \n",
      "\u001b[36m(RayTrainWorker pid=3755106)\u001b[0m     \"max_train_micro_batch_size_per_gpu\": 1.024000e+03, \n",
      "\u001b[36m(RayTrainWorker pid=3755106)\u001b[0m     \"min_train_micro_batch_size_per_gpu\": 1, \n",
      "\u001b[36m(RayTrainWorker pid=3755106)\u001b[0m     \"num_tuning_micro_batch_sizes\": 3\n",
      "\u001b[36m(RayTrainWorker pid=3755106)\u001b[0m }\n",
      "\u001b[36m(RayTrainWorker pid=3755106)\u001b[0m [2025-02-17 12:00:45,445] [INFO] [config.py:978:print]   bfloat16_enabled ............. False\n",
      "\u001b[36m(RayTrainWorker pid=3755106)\u001b[0m [2025-02-17 12:00:45,445] [INFO] [config.py:978:print]   checkpoint_parallel_write_pipeline  False\n",
      "\u001b[36m(RayTrainWorker pid=3755106)\u001b[0m [2025-02-17 12:00:45,445] [INFO] [config.py:978:print]   checkpoint_tag_validation_enabled  True\n",
      "\u001b[36m(RayTrainWorker pid=3755106)\u001b[0m [2025-02-17 12:00:45,445] [INFO] [config.py:978:print]   checkpoint_tag_validation_fail  False\n",
      "\u001b[36m(RayTrainWorker pid=3755106)\u001b[0m [2025-02-17 12:00:45,445] [INFO] [config.py:978:print]   comms_config ................. <deepspeed.comm.config.DeepSpeedCommsConfig object at 0x7f7f4de238b0>\n",
      "\u001b[36m(RayTrainWorker pid=3755106)\u001b[0m [2025-02-17 12:00:45,445] [INFO] [config.py:978:print]   communication_data_type ...... None\n",
      "\u001b[36m(RayTrainWorker pid=3755106)\u001b[0m [2025-02-17 12:00:45,445] [INFO] [config.py:978:print]   compression_config ........... {'weight_quantization': {'shared_parameters': {'enabled': False, 'quantizer_kernel': False, 'schedule_offset': 0, 'quantize_groups': 1, 'quantize_verbose': False, 'quantization_type': 'symmetric', 'quantize_weight_in_forward': False, 'rounding': 'nearest', 'fp16_mixed_quantize': False, 'quantize_change_ratio': 0.001}, 'different_groups': {}}, 'activation_quantization': {'shared_parameters': {'enabled': False, 'quantization_type': 'symmetric', 'range_calibration': 'dynamic', 'schedule_offset': 1000}, 'different_groups': {}}, 'sparse_pruning': {'shared_parameters': {'enabled': False, 'method': 'l1', 'schedule_offset': 1000}, 'different_groups': {}}, 'row_pruning': {'shared_parameters': {'enabled': False, 'method': 'l1', 'schedule_offset': 1000}, 'different_groups': {}}, 'head_pruning': {'shared_parameters': {'enabled': False, 'method': 'topk', 'schedule_offset': 1000}, 'different_groups': {}}, 'channel_pruning': {'shared_parameters': {'enabled': False, 'method': 'l1', 'schedule_offset': 1000}, 'different_groups': {}}, 'layer_reduction': {'enabled': False}}\n",
      "\u001b[36m(RayTrainWorker pid=3755106)\u001b[0m [2025-02-17 12:00:45,445] [INFO] [config.py:978:print]   curriculum_enabled_legacy .... False\n",
      "\u001b[36m(RayTrainWorker pid=3755106)\u001b[0m [2025-02-17 12:00:45,445] [INFO] [config.py:978:print]   curriculum_params_legacy ..... False\n",
      "\u001b[36m(RayTrainWorker pid=3755106)\u001b[0m [2025-02-17 12:00:45,445] [INFO] [config.py:978:print]   data_efficiency_config ....... {'enabled': False, 'seed': 1234, 'data_sampling': {'enabled': False, 'num_epochs': 1000, 'num_workers': 0, 'curriculum_learning': {'enabled': False}}, 'data_routing': {'enabled': False, 'random_ltd': {'enabled': False, 'layer_token_lr_schedule': {'enabled': False}}}}\n",
      "\u001b[36m(RayTrainWorker pid=3755106)\u001b[0m [2025-02-17 12:00:45,445] [INFO] [config.py:978:print]   data_efficiency_enabled ...... False\n",
      "\u001b[36m(RayTrainWorker pid=3755106)\u001b[0m [2025-02-17 12:00:45,445] [INFO] [config.py:978:print]   dataloader_drop_last ......... False\n",
      "\u001b[36m(RayTrainWorker pid=3755106)\u001b[0m [2025-02-17 12:00:45,445] [INFO] [config.py:978:print]   disable_allgather ............ False\n",
      "\u001b[36m(RayTrainWorker pid=3755106)\u001b[0m [2025-02-17 12:00:45,445] [INFO] [config.py:978:print]   dump_state ................... False\n",
      "\u001b[36m(RayTrainWorker pid=3755106)\u001b[0m [2025-02-17 12:00:45,445] [INFO] [config.py:978:print]   dynamic_loss_scale_args ...... {'init_scale': 256, 'scale_window': 1000, 'delayed_shift': 4, 'consecutive_hysteresis': True, 'min_scale': 1}\n",
      "\u001b[36m(RayTrainWorker pid=3755106)\u001b[0m [2025-02-17 12:00:45,445] [INFO] [config.py:978:print]   eigenvalue_enabled ........... False\n",
      "\u001b[36m(RayTrainWorker pid=3755106)\u001b[0m [2025-02-17 12:00:45,445] [INFO] [config.py:978:print]   eigenvalue_gas_boundary_resolution  1\n",
      "\u001b[36m(RayTrainWorker pid=3755106)\u001b[0m [2025-02-17 12:00:45,445] [INFO] [config.py:978:print]   eigenvalue_layer_name ........ bert.encoder.layer\n",
      "\u001b[36m(RayTrainWorker pid=3755106)\u001b[0m [2025-02-17 12:00:45,445] [INFO] [config.py:978:print]   eigenvalue_layer_num ......... 0\n",
      "\u001b[36m(RayTrainWorker pid=3755106)\u001b[0m [2025-02-17 12:00:45,445] [INFO] [config.py:978:print]   eigenvalue_max_iter .......... 100\n",
      "\u001b[36m(RayTrainWorker pid=3755106)\u001b[0m [2025-02-17 12:00:45,445] [INFO] [config.py:978:print]   eigenvalue_stability ......... 1e-06\n",
      "\u001b[36m(RayTrainWorker pid=3755106)\u001b[0m [2025-02-17 12:00:45,445] [INFO] [config.py:978:print]   eigenvalue_tol ............... 0.01\n",
      "\u001b[36m(RayTrainWorker pid=3755106)\u001b[0m [2025-02-17 12:00:45,445] [INFO] [config.py:978:print]   eigenvalue_verbose ........... False\n",
      "\u001b[36m(RayTrainWorker pid=3755106)\u001b[0m [2025-02-17 12:00:45,445] [INFO] [config.py:978:print]   elasticity_enabled ........... False\n",
      "\u001b[36m(RayTrainWorker pid=3755106)\u001b[0m [2025-02-17 12:00:45,445] [INFO] [config.py:978:print]   flops_profiler_config ........ {\n",
      "\u001b[36m(RayTrainWorker pid=3755106)\u001b[0m     \"enabled\": false, \n",
      "\u001b[36m(RayTrainWorker pid=3755106)\u001b[0m     \"recompute_fwd_factor\": 0.0, \n",
      "\u001b[36m(RayTrainWorker pid=3755106)\u001b[0m     \"profile_step\": 1, \n",
      "\u001b[36m(RayTrainWorker pid=3755106)\u001b[0m     \"module_depth\": -1, \n",
      "\u001b[36m(RayTrainWorker pid=3755106)\u001b[0m     \"top_modules\": 1, \n",
      "\u001b[36m(RayTrainWorker pid=3755106)\u001b[0m     \"detailed\": true, \n",
      "\u001b[36m(RayTrainWorker pid=3755106)\u001b[0m     \"output_file\": null\n",
      "\u001b[36m(RayTrainWorker pid=3755106)\u001b[0m }\n",
      "\u001b[36m(RayTrainWorker pid=3755106)\u001b[0m [2025-02-17 12:00:45,445] [INFO] [config.py:978:print]   fp16_auto_cast ............... False\n",
      "\u001b[36m(RayTrainWorker pid=3755106)\u001b[0m [2025-02-17 12:00:45,445] [INFO] [config.py:978:print]   fp16_enabled ................. True\n",
      "\u001b[36m(RayTrainWorker pid=3755106)\u001b[0m [2025-02-17 12:00:45,445] [INFO] [config.py:978:print]   fp16_master_weights_and_gradients  False\n",
      "\u001b[36m(RayTrainWorker pid=3755106)\u001b[0m [2025-02-17 12:00:45,446] [INFO] [config.py:978:print]   global_rank .................. 0\n",
      "\u001b[36m(RayTrainWorker pid=3755106)\u001b[0m [2025-02-17 12:00:45,446] [INFO] [config.py:978:print]   grad_accum_dtype ............. None\n",
      "\u001b[36m(RayTrainWorker pid=3755106)\u001b[0m [2025-02-17 12:00:45,446] [INFO] [config.py:978:print]   gradient_accumulation_steps .. 1\n",
      "\u001b[36m(RayTrainWorker pid=3755106)\u001b[0m [2025-02-17 12:00:45,446] [INFO] [config.py:978:print]   gradient_clipping ............ 1.0\n",
      "\u001b[36m(RayTrainWorker pid=3755106)\u001b[0m [2025-02-17 12:00:45,446] [INFO] [config.py:978:print]   gradient_predivide_factor .... 1.0\n",
      "\u001b[36m(RayTrainWorker pid=3755106)\u001b[0m [2025-02-17 12:00:45,446] [INFO] [config.py:978:print]   hybrid_engine ................ enabled=False max_out_tokens=512 inference_tp_size=1 release_inference_cache=False pin_parameters=True tp_gather_partition_size=8\n",
      "\u001b[36m(RayTrainWorker pid=3755106)\u001b[0m [2025-02-17 12:00:45,446] [INFO] [config.py:978:print]   initial_dynamic_scale ........ 256\n",
      "\u001b[36m(RayTrainWorker pid=3755106)\u001b[0m [2025-02-17 12:00:45,446] [INFO] [config.py:978:print]   load_universal_checkpoint .... False\n",
      "\u001b[36m(RayTrainWorker pid=3755106)\u001b[0m [2025-02-17 12:00:45,446] [INFO] [config.py:978:print]   loss_scale ................... 0\n",
      "\u001b[36m(RayTrainWorker pid=3755106)\u001b[0m [2025-02-17 12:00:45,446] [INFO] [config.py:978:print]   memory_breakdown ............. False\n",
      "\u001b[36m(RayTrainWorker pid=3755106)\u001b[0m [2025-02-17 12:00:45,446] [INFO] [config.py:978:print]   mics_hierarchial_params_gather  False\n",
      "\u001b[36m(RayTrainWorker pid=3755106)\u001b[0m [2025-02-17 12:00:45,446] [INFO] [config.py:978:print]   mics_shard_size .............. -1\n",
      "\u001b[36m(RayTrainWorker pid=3755106)\u001b[0m [2025-02-17 12:00:45,446] [INFO] [config.py:978:print]   monitor_config ............... tensorboard=TensorBoardConfig(enabled=False, output_path='', job_name='DeepSpeedJobName') wandb=WandbConfig(enabled=False, group=None, team=None, project='deepspeed') csv_monitor=CSVConfig(enabled=False, output_path='', job_name='DeepSpeedJobName') enabled=False\n",
      "\u001b[36m(RayTrainWorker pid=3755106)\u001b[0m [2025-02-17 12:00:45,446] [INFO] [config.py:978:print]   nebula_config ................ {\n",
      "\u001b[36m(RayTrainWorker pid=3755106)\u001b[0m     \"enabled\": false, \n",
      "\u001b[36m(RayTrainWorker pid=3755106)\u001b[0m     \"persistent_storage_path\": null, \n",
      "\u001b[36m(RayTrainWorker pid=3755106)\u001b[0m     \"persistent_time_interval\": 100, \n",
      "\u001b[36m(RayTrainWorker pid=3755106)\u001b[0m     \"num_of_version_in_retention\": 2, \n",
      "\u001b[36m(RayTrainWorker pid=3755106)\u001b[0m     \"enable_nebula_load\": true, \n",
      "\u001b[36m(RayTrainWorker pid=3755106)\u001b[0m     \"load_path\": null\n",
      "\u001b[36m(RayTrainWorker pid=3755106)\u001b[0m }\n",
      "\u001b[36m(RayTrainWorker pid=3755106)\u001b[0m [2025-02-17 12:00:45,446] [INFO] [config.py:978:print]   optimizer_legacy_fusion ...... False\n",
      "\u001b[36m(RayTrainWorker pid=3755106)\u001b[0m [2025-02-17 12:00:45,446] [INFO] [config.py:978:print]   optimizer_name ............... adamw\n",
      "\u001b[36m(RayTrainWorker pid=3755106)\u001b[0m [2025-02-17 12:00:45,446] [INFO] [config.py:978:print]   optimizer_params ............. {'lr': 2e-05, 'betas': [0.9, 0.999], 'eps': 1e-08}\n",
      "\u001b[36m(RayTrainWorker pid=3755106)\u001b[0m [2025-02-17 12:00:45,446] [INFO] [config.py:978:print]   pipeline ..................... {'stages': 'auto', 'partition': 'best', 'seed_layers': False, 'activation_checkpoint_interval': 0, 'pipe_partitioned': True, 'grad_partitioned': True}\n",
      "\u001b[36m(RayTrainWorker pid=3755106)\u001b[0m [2025-02-17 12:00:45,446] [INFO] [config.py:978:print]   pld_enabled .................. False\n",
      "\u001b[36m(RayTrainWorker pid=3755106)\u001b[0m [2025-02-17 12:00:45,446] [INFO] [config.py:978:print]   pld_params ................... False\n",
      "\u001b[36m(RayTrainWorker pid=3755106)\u001b[0m [2025-02-17 12:00:45,446] [INFO] [config.py:978:print]   prescale_gradients ........... False\n",
      "\u001b[36m(RayTrainWorker pid=3755106)\u001b[0m [2025-02-17 12:00:45,446] [INFO] [config.py:978:print]   scheduler_name ............... None\n",
      "\u001b[36m(RayTrainWorker pid=3755106)\u001b[0m [2025-02-17 12:00:45,446] [INFO] [config.py:978:print]   scheduler_params ............. None\n",
      "\u001b[36m(RayTrainWorker pid=3755106)\u001b[0m [2025-02-17 12:00:45,446] [INFO] [config.py:978:print]   seq_parallel_communication_data_type  torch.float32\n",
      "\u001b[36m(RayTrainWorker pid=3755106)\u001b[0m [2025-02-17 12:00:45,446] [INFO] [config.py:978:print]   sparse_attention ............. None\n",
      "\u001b[36m(RayTrainWorker pid=3755106)\u001b[0m [2025-02-17 12:00:45,446] [INFO] [config.py:978:print]   sparse_gradients_enabled ..... False\n",
      "\u001b[36m(RayTrainWorker pid=3755106)\u001b[0m [2025-02-17 12:00:45,446] [INFO] [config.py:978:print]   steps_per_print .............. 10\n",
      "\u001b[36m(RayTrainWorker pid=3755106)\u001b[0m [2025-02-17 12:00:45,446] [INFO] [config.py:978:print]   train_batch_size ............. 32\n",
      "\u001b[36m(RayTrainWorker pid=3755106)\u001b[0m [2025-02-17 12:00:45,446] [INFO] [config.py:978:print]   train_micro_batch_size_per_gpu  16\n",
      "\u001b[36m(RayTrainWorker pid=3755106)\u001b[0m [2025-02-17 12:00:45,447] [INFO] [config.py:978:print]   use_node_local_storage ....... False\n",
      "\u001b[36m(RayTrainWorker pid=3755106)\u001b[0m [2025-02-17 12:00:45,447] [INFO] [config.py:978:print]   wall_clock_breakdown ......... False\n",
      "\u001b[36m(RayTrainWorker pid=3755106)\u001b[0m [2025-02-17 12:00:45,447] [INFO] [config.py:978:print]   weight_quantization_config ... None\n",
      "\u001b[36m(RayTrainWorker pid=3755106)\u001b[0m [2025-02-17 12:00:45,447] [INFO] [config.py:978:print]   world_size ................... 2\n",
      "\u001b[36m(RayTrainWorker pid=3755106)\u001b[0m [2025-02-17 12:00:45,447] [INFO] [config.py:978:print]   zero_allow_untested_optimizer  False\n",
      "\u001b[36m(RayTrainWorker pid=3755106)\u001b[0m [2025-02-17 12:00:45,447] [INFO] [config.py:978:print]   zero_config .................. stage=3 contiguous_gradients=True reduce_scatter=True reduce_bucket_size=16777216 allgather_partitions=True allgather_bucket_size=500,000,000 overlap_comm=True load_from_fp32_weights=True elastic_checkpoint=False offload_param=None offload_optimizer=DeepSpeedZeroOffloadOptimizerConfig(device='cpu', nvme_path=None, buffer_count=4, pin_memory=True, pipeline=False, pipeline_read=False, pipeline_write=False, fast_init=False, ratio=1.0) sub_group_size=1,000,000,000 cpu_offload_param=None cpu_offload_use_pin_memory=None cpu_offload=None prefetch_bucket_size=15099494 param_persistence_threshold=40960 model_persistence_threshold=sys.maxsize max_live_parameters=1,000,000,000 max_reuse_distance=1,000,000,000 gather_16bit_weights_on_model_save=True stage3_gather_fp16_weights_on_model_save=False ignore_unused_parameters=True legacy_stage1=False round_robin_gradients=True zero_hpz_partition_size=1 zero_quantized_weights=False zero_quantized_nontrainable_weights=False zero_quantized_gradients=False mics_shard_size=-1 mics_hierarchical_params_gather=False memory_efficient_linear=True pipeline_loading_checkpoint=False override_module_apply=True\n",
      "\u001b[36m(RayTrainWorker pid=3755106)\u001b[0m [2025-02-17 12:00:45,447] [INFO] [config.py:978:print]   zero_enabled ................. True\n",
      "\u001b[36m(RayTrainWorker pid=3755106)\u001b[0m [2025-02-17 12:00:45,447] [INFO] [config.py:978:print]   zero_force_ds_cpu_optimizer .. True\n",
      "\u001b[36m(RayTrainWorker pid=3755106)\u001b[0m [2025-02-17 12:00:45,447] [INFO] [config.py:978:print]   zero_optimization_stage ...... 3\n",
      "\u001b[36m(RayTrainWorker pid=3755106)\u001b[0m [2025-02-17 12:00:45,447] [INFO] [config.py:964:print_user_config]   json = {\n",
      "\u001b[36m(RayTrainWorker pid=3755106)\u001b[0m     \"fp16\": {\n",
      "\u001b[36m(RayTrainWorker pid=3755106)\u001b[0m         \"enabled\": true, \n",
      "\u001b[36m(RayTrainWorker pid=3755106)\u001b[0m         \"initial_scale_power\": 8, \n",
      "\u001b[36m(RayTrainWorker pid=3755106)\u001b[0m         \"hysteresis\": 4, \n",
      "\u001b[36m(RayTrainWorker pid=3755106)\u001b[0m         \"consecutive_hysteresis\": true\n",
      "\u001b[36m(RayTrainWorker pid=3755106)\u001b[0m     }, \n",
      "\u001b[36m(RayTrainWorker pid=3755106)\u001b[0m     \"bf16\": {\n",
      "\u001b[36m(RayTrainWorker pid=3755106)\u001b[0m         \"enabled\": false\n",
      "\u001b[36m(RayTrainWorker pid=3755106)\u001b[0m     }, \n",
      "\u001b[36m(RayTrainWorker pid=3755106)\u001b[0m     \"optimizer\": {\n",
      "\u001b[36m(RayTrainWorker pid=3755106)\u001b[0m         \"type\": \"AdamW\", \n",
      "\u001b[36m(RayTrainWorker pid=3755106)\u001b[0m         \"params\": {\n",
      "\u001b[36m(RayTrainWorker pid=3755106)\u001b[0m             \"lr\": 2e-05, \n",
      "\u001b[36m(RayTrainWorker pid=3755106)\u001b[0m             \"betas\": [0.9, 0.999], \n",
      "\u001b[36m(RayTrainWorker pid=3755106)\u001b[0m             \"eps\": 1e-08\n",
      "\u001b[36m(RayTrainWorker pid=3755106)\u001b[0m         }\n",
      "\u001b[36m(RayTrainWorker pid=3755106)\u001b[0m     }, \n",
      "\u001b[36m(RayTrainWorker pid=3755106)\u001b[0m     \"zero_optimization\": {\n",
      "\u001b[36m(RayTrainWorker pid=3755106)\u001b[0m         \"stage\": 3, \n",
      "\u001b[36m(RayTrainWorker pid=3755106)\u001b[0m         \"offload_optimizer\": {\n",
      "\u001b[36m(RayTrainWorker pid=3755106)\u001b[0m             \"device\": \"cpu\", \n",
      "\u001b[36m(RayTrainWorker pid=3755106)\u001b[0m             \"pin_memory\": true\n",
      "\u001b[36m(RayTrainWorker pid=3755106)\u001b[0m         }, \n",
      "\u001b[36m(RayTrainWorker pid=3755106)\u001b[0m         \"overlap_comm\": true, \n",
      "\u001b[36m(RayTrainWorker pid=3755106)\u001b[0m         \"contiguous_gradients\": true, \n",
      "\u001b[36m(RayTrainWorker pid=3755106)\u001b[0m         \"reduce_bucket_size\": 1.677722e+07, \n",
      "\u001b[36m(RayTrainWorker pid=3755106)\u001b[0m         \"stage3_prefetch_bucket_size\": 1.509949e+07, \n",
      "\u001b[36m(RayTrainWorker pid=3755106)\u001b[0m         \"stage3_param_persistence_threshold\": 4.096000e+04, \n",
      "\u001b[36m(RayTrainWorker pid=3755106)\u001b[0m         \"gather_16bit_weights_on_model_save\": true, \n",
      "\u001b[36m(RayTrainWorker pid=3755106)\u001b[0m         \"round_robin_gradients\": true\n",
      "\u001b[36m(RayTrainWorker pid=3755106)\u001b[0m     }, \n",
      "\u001b[36m(RayTrainWorker pid=3755106)\u001b[0m     \"gradient_accumulation_steps\": 1, \n",
      "\u001b[36m(RayTrainWorker pid=3755106)\u001b[0m     \"gradient_clipping\": 1.0, \n",
      "\u001b[36m(RayTrainWorker pid=3755106)\u001b[0m     \"steps_per_print\": 10, \n",
      "\u001b[36m(RayTrainWorker pid=3755106)\u001b[0m     \"train_batch_size\": 32, \n",
      "\u001b[36m(RayTrainWorker pid=3755106)\u001b[0m     \"train_micro_batch_size_per_gpu\": 16, \n",
      "\u001b[36m(RayTrainWorker pid=3755106)\u001b[0m     \"wall_clock_breakdown\": false\n",
      "\u001b[36m(RayTrainWorker pid=3755106)\u001b[0m }\n"
     ]
    },
    {
     "name": "stderr",
     "output_type": "stream",
     "text": [
      "\u001b[36m(SplitCoordinator pid=3755551)\u001b[0m Executing DAG InputDataBuffer[Input] -> TaskPoolMapOperator[MapBatches(split_text)->MapBatches(tokenize)] -> OutputSplitter[split(2, equal=True)]\n",
      "\u001b[36m(SplitCoordinator pid=3755551)\u001b[0m Execution config: ExecutionOptions(resource_limits=ExecutionResources(cpu=None, gpu=None, object_store_memory=None), exclude_resources=ExecutionResources(cpu=5.0, gpu=2.0, object_store_memory=0.0), locality_with_output=['ebb69d1f227a3ae2d8c10cf5364cdd3d721490cfa146ad3a2e84a909', 'ebb69d1f227a3ae2d8c10cf5364cdd3d721490cfa146ad3a2e84a909'], preserve_order=False, actor_locality_enabled=True, verbose_progress=False)\n",
      "\u001b[36m(SplitCoordinator pid=3755551)\u001b[0m Tip: For detailed progress reporting, run `ray.data.DataContext.get_current().execution_options.verbose_progress = True`\n",
      "\u001b[36m(MapBatches(split_text)->MapBatches(tokenize) pid=2963575)\u001b[0m /home/jupyter/.local/lib/python3.10/site-packages/huggingface_hub/file_download.py:795: FutureWarning: `resume_download` is deprecated and will be removed in version 1.0.0. Downloads always resume when possible. If you want to force a new download, use `force_download=True`.\n",
      "\u001b[36m(MapBatches(split_text)->MapBatches(tokenize) pid=2963575)\u001b[0m   warnings.warn(\n",
      "\u001b[36m(RayTrainWorker pid=3755106)\u001b[0m /home/jupyter/.local/lib/python3.10/site-packages/torch/utils/checkpoint.py:429: UserWarning: torch.utils.checkpoint: please pass in use_reentrant=True or use_reentrant=False explicitly. The default value of use_reentrant will be updated to be False in the future. To maintain current behavior, pass use_reentrant=True. It is recommended that you use use_reentrant=False. Refer to docs for more details on the differences between the two variants.\n",
      "\u001b[36m(RayTrainWorker pid=3755106)\u001b[0m   warnings.warn(\n",
      "\u001b[36m(RayTrainWorker pid=3755107)\u001b[0m   warnings.warn(\n",
      "\u001b[36m(RayTrainWorker pid=3755106)\u001b[0m /var/tmp/ray/session_2025-02-17_09-23-41_688994_2604400/runtime_resources/pip/a8786a8435aa1fe4e7abf24f81ef0a0191508152/virtualenv/lib/python3.10/site-packages/deepspeed/runtime/zero/stage3.py:1330: UserWarning: The torch.cuda.*DtypeTensor constructors are no longer recommended. It's best to use methods such as torch.tensor(data, dtype=*, device='cuda') to create tensors. (Triggered internally at ../torch/csrc/tensor/python_tensor.cpp:83.)\n",
      "\u001b[36m(RayTrainWorker pid=3755106)\u001b[0m   total_norm_cuda = get_accelerator().FloatTensor([float(total_norm)])\n",
      "\u001b[36m(RayTrainWorker pid=3755107)\u001b[0m /home/jupyter/.local/lib/python3.10/site-packages/torch/utils/checkpoint.py:429: UserWarning: torch.utils.checkpoint: please pass in use_reentrant=True or use_reentrant=False explicitly. The default value of use_reentrant will be updated to be False in the future. To maintain current behavior, pass use_reentrant=True. It is recommended that you use use_reentrant=False. Refer to docs for more details on the differences between the two variants.\n"
     ]
    },
    {
     "name": "stdout",
     "output_type": "stream",
     "text": [
      "\u001b[36m(RayTrainWorker pid=3755106)\u001b[0m [2025-02-17 12:01:49,992] [INFO] [loss_scaler.py:197:update_scale] Consecutive hysteresis is enabled. Restoring hysteresis to 4\n",
      "\u001b[36m(RayTrainWorker pid=3755106)\u001b[0m [2025-02-17 12:01:55,996] [WARNING] [stage3.py:1993:step] 1 pytorch allocator cache flushes since last step. this happens when there is high memory pressure and is detrimental to performance. if this is happening frequently consider adjusting settings to reduce memory consumption. If you are unable to make the cache flushes go away consider adding get_accelerator().empty_cache() calls in your training loop to ensure that all ranks flush their caches at the same time\n",
      "\u001b[36m(RayTrainWorker pid=3755106)\u001b[0m {'loss': 11.5195, 'learning_rate': 1.9996138250627536e-05, 'epoch': 0.0}\n"
     ]
    },
    {
     "name": "stderr",
     "output_type": "stream",
     "text": [
      "\u001b[36m(RayTrainWorker pid=3755106)\u001b[0m /home/jupyter/.local/lib/python3.10/site-packages/torch/utils/checkpoint.py:429: UserWarning: torch.utils.checkpoint: please pass in use_reentrant=True or use_reentrant=False explicitly. The default value of use_reentrant will be updated to be False in the future. To maintain current behavior, pass use_reentrant=True. It is recommended that you use use_reentrant=False. Refer to docs for more details on the differences between the two variants.\n",
      "\u001b[36m(RayTrainWorker pid=3755106)\u001b[0m   warnings.warn(\n",
      "\u001b[36m(RayTrainWorker pid=3755107)\u001b[0m /var/tmp/ray/session_2025-02-17_09-23-41_688994_2604400/runtime_resources/pip/a8786a8435aa1fe4e7abf24f81ef0a0191508152/virtualenv/lib/python3.10/site-packages/deepspeed/runtime/zero/stage3.py:1330: UserWarning: The torch.cuda.*DtypeTensor constructors are no longer recommended. It's best to use methods such as torch.tensor(data, dtype=*, device='cuda') to create tensors. (Triggered internally at ../torch/csrc/tensor/python_tensor.cpp:83.)\n",
      "\u001b[36m(RayTrainWorker pid=3755107)\u001b[0m   total_norm_cuda = get_accelerator().FloatTensor([float(total_norm)])\n"
     ]
    },
    {
     "name": "stdout",
     "output_type": "stream",
     "text": [
      "\u001b[36m(RayTrainWorker pid=3755106)\u001b[0m [2025-02-17 12:02:23,812] [INFO] [loss_scaler.py:197:update_scale] Consecutive hysteresis is enabled. Restoring hysteresis to 4\n"
     ]
    },
    {
     "name": "stderr",
     "output_type": "stream",
     "text": [
      "\u001b[36m(RayTrainWorker pid=3755106)\u001b[0m /home/jupyter/.local/lib/python3.10/site-packages/torch/utils/checkpoint.py:429: UserWarning: torch.utils.checkpoint: please pass in use_reentrant=True or use_reentrant=False explicitly. The default value of use_reentrant will be updated to be False in the future. To maintain current behavior, pass use_reentrant=True. It is recommended that you use use_reentrant=False. Refer to docs for more details on the differences between the two variants.\u001b[32m [repeated 2x across cluster]\u001b[0m\n",
      "\u001b[36m(RayTrainWorker pid=3755106)\u001b[0m   warnings.warn(\u001b[32m [repeated 2x across cluster]\u001b[0m\n"
     ]
    },
    {
     "name": "stdout",
     "output_type": "stream",
     "text": [
      "\u001b[36m(RayTrainWorker pid=3755106)\u001b[0m [2025-02-17 12:02:29,735] [WARNING] [stage3.py:1993:step] 1 pytorch allocator cache flushes since last step. this happens when there is high memory pressure and is detrimental to performance. if this is happening frequently consider adjusting settings to reduce memory consumption. If you are unable to make the cache flushes go away consider adding get_accelerator().empty_cache() calls in your training loop to ensure that all ranks flush their caches at the same time\n",
      "\u001b[36m(RayTrainWorker pid=3755106)\u001b[0m {'loss': 6.9961, 'learning_rate': 1.999227650125507e-05, 'epoch': 0.0}\n",
      "\u001b[36m(RayTrainWorker pid=3755106)\u001b[0m [2025-02-17 12:02:56,965] [INFO] [loss_scaler.py:197:update_scale] Consecutive hysteresis is enabled. Restoring hysteresis to 4\n"
     ]
    },
    {
     "name": "stderr",
     "output_type": "stream",
     "text": [
      "\u001b[36m(RayTrainWorker pid=3755106)\u001b[0m /home/jupyter/.local/lib/python3.10/site-packages/torch/utils/checkpoint.py:429: UserWarning: torch.utils.checkpoint: please pass in use_reentrant=True or use_reentrant=False explicitly. The default value of use_reentrant will be updated to be False in the future. To maintain current behavior, pass use_reentrant=True. It is recommended that you use use_reentrant=False. Refer to docs for more details on the differences between the two variants.\u001b[32m [repeated 2x across cluster]\u001b[0m\n",
      "\u001b[36m(RayTrainWorker pid=3755106)\u001b[0m   warnings.warn(\u001b[32m [repeated 2x across cluster]\u001b[0m\n"
     ]
    },
    {
     "name": "stdout",
     "output_type": "stream",
     "text": [
      "\u001b[36m(RayTrainWorker pid=3755106)\u001b[0m {'loss': 3.5557, 'learning_rate': 1.9988414751882604e-05, 'epoch': 0.0}\n",
      "\u001b[36m(RayTrainWorker pid=3755106)\u001b[0m [2025-02-17 12:03:30,154] [INFO] [loss_scaler.py:197:update_scale] Consecutive hysteresis is enabled. Restoring hysteresis to 4\n",
      "\u001b[36m(RayTrainWorker pid=3755106)\u001b[0m {'loss': 0.5283, 'learning_rate': 1.9984553002510138e-05, 'epoch': 0.0}\n"
     ]
    },
    {
     "name": "stderr",
     "output_type": "stream",
     "text": [
      "\u001b[36m(RayTrainWorker pid=3755106)\u001b[0m /home/jupyter/.local/lib/python3.10/site-packages/torch/utils/checkpoint.py:429: UserWarning: torch.utils.checkpoint: please pass in use_reentrant=True or use_reentrant=False explicitly. The default value of use_reentrant will be updated to be False in the future. To maintain current behavior, pass use_reentrant=True. It is recommended that you use use_reentrant=False. Refer to docs for more details on the differences between the two variants.\u001b[32m [repeated 2x across cluster]\u001b[0m\n",
      "\u001b[36m(RayTrainWorker pid=3755106)\u001b[0m   warnings.warn(\u001b[32m [repeated 2x across cluster]\u001b[0m\n"
     ]
    },
    {
     "name": "stdout",
     "output_type": "stream",
     "text": [
      "\u001b[36m(RayTrainWorker pid=3755106)\u001b[0m [2025-02-17 12:04:03,332] [INFO] [loss_scaler.py:197:update_scale] Consecutive hysteresis is enabled. Restoring hysteresis to 4\n"
     ]
    },
    {
     "name": "stderr",
     "output_type": "stream",
     "text": [
      "\u001b[36m(RayTrainWorker pid=3755106)\u001b[0m /home/jupyter/.local/lib/python3.10/site-packages/torch/utils/checkpoint.py:429: UserWarning: torch.utils.checkpoint: please pass in use_reentrant=True or use_reentrant=False explicitly. The default value of use_reentrant will be updated to be False in the future. To maintain current behavior, pass use_reentrant=True. It is recommended that you use use_reentrant=False. Refer to docs for more details on the differences between the two variants.\u001b[32m [repeated 2x across cluster]\u001b[0m\n",
      "\u001b[36m(RayTrainWorker pid=3755106)\u001b[0m   warnings.warn(\u001b[32m [repeated 2x across cluster]\u001b[0m\n"
     ]
    },
    {
     "name": "stdout",
     "output_type": "stream",
     "text": [
      "\u001b[36m(RayTrainWorker pid=3755106)\u001b[0m {'loss': 0.2774, 'learning_rate': 1.9980691253137675e-05, 'epoch': 0.0}\n",
      "\u001b[36m(RayTrainWorker pid=3755106)\u001b[0m [2025-02-17 12:04:36,417] [INFO] [loss_scaler.py:197:update_scale] Consecutive hysteresis is enabled. Restoring hysteresis to 4\n"
     ]
    },
    {
     "name": "stderr",
     "output_type": "stream",
     "text": [
      "\u001b[36m(RayTrainWorker pid=3755106)\u001b[0m /home/jupyter/.local/lib/python3.10/site-packages/torch/utils/checkpoint.py:429: UserWarning: torch.utils.checkpoint: please pass in use_reentrant=True or use_reentrant=False explicitly. The default value of use_reentrant will be updated to be False in the future. To maintain current behavior, pass use_reentrant=True. It is recommended that you use use_reentrant=False. Refer to docs for more details on the differences between the two variants.\u001b[32m [repeated 2x across cluster]\u001b[0m\n",
      "\u001b[36m(RayTrainWorker pid=3755106)\u001b[0m   warnings.warn(\u001b[32m [repeated 2x across cluster]\u001b[0m\n"
     ]
    },
    {
     "name": "stdout",
     "output_type": "stream",
     "text": [
      "\u001b[36m(RayTrainWorker pid=3755106)\u001b[0m {'loss': 0.1536, 'learning_rate': 1.9976829503765206e-05, 'epoch': 0.0}\n",
      "\u001b[36m(RayTrainWorker pid=3755106)\u001b[0m [2025-02-17 12:05:09,453] [INFO] [loss_scaler.py:197:update_scale] Consecutive hysteresis is enabled. Restoring hysteresis to 4\n"
     ]
    },
    {
     "name": "stderr",
     "output_type": "stream",
     "text": [
      "\u001b[36m(RayTrainWorker pid=3755106)\u001b[0m /home/jupyter/.local/lib/python3.10/site-packages/torch/utils/checkpoint.py:429: UserWarning: torch.utils.checkpoint: please pass in use_reentrant=True or use_reentrant=False explicitly. The default value of use_reentrant will be updated to be False in the future. To maintain current behavior, pass use_reentrant=True. It is recommended that you use use_reentrant=False. Refer to docs for more details on the differences between the two variants.\u001b[32m [repeated 2x across cluster]\u001b[0m\n",
      "\u001b[36m(RayTrainWorker pid=3755106)\u001b[0m   warnings.warn(\u001b[32m [repeated 2x across cluster]\u001b[0m\n"
     ]
    },
    {
     "name": "stdout",
     "output_type": "stream",
     "text": [
      "\u001b[36m(RayTrainWorker pid=3755106)\u001b[0m {'loss': 0.1074, 'learning_rate': 1.9972967754392744e-05, 'epoch': 0.0}\n",
      "\u001b[36m(RayTrainWorker pid=3755106)\u001b[0m [2025-02-17 12:05:42,382] [INFO] [loss_scaler.py:197:update_scale] Consecutive hysteresis is enabled. Restoring hysteresis to 4\n",
      "\u001b[36m(RayTrainWorker pid=3755106)\u001b[0m {'loss': 0.1076, 'learning_rate': 1.9969106005020274e-05, 'epoch': 0.0}\n"
     ]
    },
    {
     "name": "stderr",
     "output_type": "stream",
     "text": [
      "\u001b[36m(RayTrainWorker pid=3755106)\u001b[0m /home/jupyter/.local/lib/python3.10/site-packages/torch/utils/checkpoint.py:429: UserWarning: torch.utils.checkpoint: please pass in use_reentrant=True or use_reentrant=False explicitly. The default value of use_reentrant will be updated to be False in the future. To maintain current behavior, pass use_reentrant=True. It is recommended that you use use_reentrant=False. Refer to docs for more details on the differences between the two variants.\u001b[32m [repeated 2x across cluster]\u001b[0m\n",
      "\u001b[36m(RayTrainWorker pid=3755106)\u001b[0m   warnings.warn(\u001b[32m [repeated 2x across cluster]\u001b[0m\n"
     ]
    },
    {
     "name": "stdout",
     "output_type": "stream",
     "text": [
      "\u001b[36m(RayTrainWorker pid=3755106)\u001b[0m [2025-02-17 12:06:15,330] [INFO] [loss_scaler.py:197:update_scale] Consecutive hysteresis is enabled. Restoring hysteresis to 4\n"
     ]
    },
    {
     "name": "stderr",
     "output_type": "stream",
     "text": [
      "\u001b[36m(RayTrainWorker pid=3755106)\u001b[0m /home/jupyter/.local/lib/python3.10/site-packages/torch/utils/checkpoint.py:429: UserWarning: torch.utils.checkpoint: please pass in use_reentrant=True or use_reentrant=False explicitly. The default value of use_reentrant will be updated to be False in the future. To maintain current behavior, pass use_reentrant=True. It is recommended that you use use_reentrant=False. Refer to docs for more details on the differences between the two variants.\u001b[32m [repeated 2x across cluster]\u001b[0m\n",
      "\u001b[36m(RayTrainWorker pid=3755106)\u001b[0m   warnings.warn(\u001b[32m [repeated 2x across cluster]\u001b[0m\n"
     ]
    },
    {
     "name": "stdout",
     "output_type": "stream",
     "text": [
      "\u001b[36m(RayTrainWorker pid=3755106)\u001b[0m {'loss': 0.1021, 'learning_rate': 1.996524425564781e-05, 'epoch': 0.0}\n",
      "\u001b[36m(RayTrainWorker pid=3755106)\u001b[0m [2025-02-17 12:06:48,317] [INFO] [loss_scaler.py:197:update_scale] Consecutive hysteresis is enabled. Restoring hysteresis to 4\n"
     ]
    },
    {
     "name": "stderr",
     "output_type": "stream",
     "text": [
      "\u001b[36m(RayTrainWorker pid=3755106)\u001b[0m /home/jupyter/.local/lib/python3.10/site-packages/torch/utils/checkpoint.py:429: UserWarning: torch.utils.checkpoint: please pass in use_reentrant=True or use_reentrant=False explicitly. The default value of use_reentrant will be updated to be False in the future. To maintain current behavior, pass use_reentrant=True. It is recommended that you use use_reentrant=False. Refer to docs for more details on the differences between the two variants.\u001b[32m [repeated 2x across cluster]\u001b[0m\n",
      "\u001b[36m(RayTrainWorker pid=3755106)\u001b[0m   warnings.warn(\u001b[32m [repeated 2x across cluster]\u001b[0m\n"
     ]
    },
    {
     "name": "stdout",
     "output_type": "stream",
     "text": [
      "\u001b[36m(RayTrainWorker pid=3755106)\u001b[0m [2025-02-17 12:06:54,204] [INFO] [logging.py:96:log_dist] [Rank 0] step=10, skipped=0, lr=[1.9961382506275346e-05], mom=[[0.9, 0.999]]\n",
      "\u001b[36m(RayTrainWorker pid=3755106)\u001b[0m [2025-02-17 12:06:54,205] [INFO] [timer.py:260:stop] epoch=0/micro_step=10/global_step=10, RunningAvgSamplesPerSec=0.9681744981284893, CurrSamplesPerSec=0.9719734158525841, MemAllocated=5.79GB, MaxMemAllocated=14.57GB\n",
      "\u001b[36m(RayTrainWorker pid=3755106)\u001b[0m {'loss': 0.1463, 'learning_rate': 1.9961382506275346e-05, 'epoch': 0.0}\n"
     ]
    },
    {
     "name": "stderr",
     "output_type": "stream",
     "text": [
      "\u001b[36m(MapBatches(split_text)->MapBatches(tokenize) pid=2907813)\u001b[0m /home/jupyter/.local/lib/python3.10/site-packages/huggingface_hub/file_download.py:795: FutureWarning: `resume_download` is deprecated and will be removed in version 1.0.0. Downloads always resume when possible. If you want to force a new download, use `force_download=True`.\n",
      "\u001b[36m(MapBatches(split_text)->MapBatches(tokenize) pid=2907813)\u001b[0m   warnings.warn(\n"
     ]
    },
    {
     "name": "stdout",
     "output_type": "stream",
     "text": [
      "\u001b[36m(TrainTrainable pid=4109099)\u001b[0m [2025-02-17 13:00:45,070] [INFO] [real_accelerator.py:158:get_accelerator] Setting ds_accelerator to cuda (auto detect)\n"
     ]
    },
    {
     "name": "stderr",
     "output_type": "stream",
     "text": [
      "\u001b[36m(RayTrainWorker pid=4109740)\u001b[0m Setting up process group for: env:// [rank=0, world_size=2]\n",
      "\u001b[36m(TorchTrainer pid=4109099)\u001b[0m Started distributed worker processes: \n",
      "\u001b[36m(TorchTrainer pid=4109099)\u001b[0m - (ip=10.128.0.4, pid=4109740) world_rank=0, local_rank=0, node_rank=0\n",
      "\u001b[36m(TorchTrainer pid=4109099)\u001b[0m - (ip=10.128.0.4, pid=4109741) world_rank=1, local_rank=1, node_rank=0\n"
     ]
    },
    {
     "name": "stdout",
     "output_type": "stream",
     "text": [
      "\u001b[36m(RayTrainWorker pid=4109740)\u001b[0m [2025-02-17 13:00:51,305] [INFO] [real_accelerator.py:158:get_accelerator] Setting ds_accelerator to cuda (auto detect)\n",
      "\u001b[36m(RayTrainWorker pid=4109741)\u001b[0m [2025-02-17 13:00:51,313] [INFO] [real_accelerator.py:158:get_accelerator] Setting ds_accelerator to cuda (auto detect)\n"
     ]
    },
    {
     "name": "stderr",
     "output_type": "stream",
     "text": [
      "\u001b[36m(SplitCoordinator pid=4110157)\u001b[0m Auto configuring locality_with_output=['ebb69d1f227a3ae2d8c10cf5364cdd3d721490cfa146ad3a2e84a909', 'ebb69d1f227a3ae2d8c10cf5364cdd3d721490cfa146ad3a2e84a909']\n",
      "\u001b[36m(RayTrainWorker pid=4109740)\u001b[0m /home/jupyter/.local/lib/python3.10/site-packages/huggingface_hub/file_download.py:795: FutureWarning: `resume_download` is deprecated and will be removed in version 1.0.0. Downloads always resume when possible. If you want to force a new download, use `force_download=True`.\n",
      "\u001b[36m(RayTrainWorker pid=4109740)\u001b[0m   warnings.warn(\n"
     ]
    },
    {
     "name": "stdout",
     "output_type": "stream",
     "text": [
      "\u001b[36m(RayTrainWorker pid=4109740)\u001b[0m Preparing training arguments\n",
      "\u001b[36m(RayTrainWorker pid=4109740)\u001b[0m [2025-02-17 13:00:52,594] [INFO] [comm.py:637:init_distributed] cdb=None\n",
      "\u001b[36m(RayTrainWorker pid=4109740)\u001b[0m Loading model\n",
      "\u001b[36m(RayTrainWorker pid=4109740)\u001b[0m [2025-02-17 13:01:23,176] [INFO] [partition_parameters.py:348:__exit__] finished initializing model - num_params = 285, num_elems = 6.05B\n",
      "\u001b[36m(RayTrainWorker pid=4109741)\u001b[0m Preparing training arguments\n",
      "\u001b[36m(RayTrainWorker pid=4109741)\u001b[0m [2025-02-17 13:00:52,595] [INFO] [comm.py:637:init_distributed] cdb=None\n",
      "\u001b[36m(RayTrainWorker pid=4109741)\u001b[0m Loading model\n",
      "\u001b[36m(RayTrainWorker pid=4109741)\u001b[0m Model loaded\n"
     ]
    },
    {
     "name": "stderr",
     "output_type": "stream",
     "text": [
      "\u001b[36m(RayTrainWorker pid=4109740)\u001b[0m max_steps is given, it will override any value given in num_train_epochs\n",
      "\u001b[36m(RayTrainWorker pid=4109740)\u001b[0m Using cuda_amp half precision backend\n",
      "\u001b[36m(SplitCoordinator pid=4110158)\u001b[0m Auto configuring locality_with_output=['ebb69d1f227a3ae2d8c10cf5364cdd3d721490cfa146ad3a2e84a909', 'ebb69d1f227a3ae2d8c10cf5364cdd3d721490cfa146ad3a2e84a909']\n",
      "\u001b[36m(RayTrainWorker pid=4109741)\u001b[0m /home/jupyter/.local/lib/python3.10/site-packages/huggingface_hub/file_download.py:795: FutureWarning: `resume_download` is deprecated and will be removed in version 1.0.0. Downloads always resume when possible. If you want to force a new download, use `force_download=True`.\n",
      "\u001b[36m(RayTrainWorker pid=4109741)\u001b[0m   warnings.warn(\n"
     ]
    },
    {
     "name": "stdout",
     "output_type": "stream",
     "text": [
      "\u001b[36m(RayTrainWorker pid=4109740)\u001b[0m [2025-02-17 13:01:42,887] [INFO] [logging.py:96:log_dist] [Rank 0] DeepSpeed info: version=0.12.3, git-hash=unknown, git-branch=unknown\n",
      "\u001b[36m(RayTrainWorker pid=4109740)\u001b[0m [2025-02-17 13:01:42,897] [INFO] [logging.py:96:log_dist] [Rank 0] DeepSpeed Flops Profiler Enabled: False\n",
      "\u001b[36m(RayTrainWorker pid=4109741)\u001b[0m \u001b[93m [WARNING] \u001b[0m cpu_adam cuda is missing or is incompatible with installed torch, only cpu ops can be compiled!\n",
      "\u001b[36m(RayTrainWorker pid=4109741)\u001b[0m ninja: no work to do.\n",
      "\u001b[36m(RayTrainWorker pid=4109741)\u001b[0m Time to load cpu_adam op: 2.3090076446533203 seconds\n"
     ]
    },
    {
     "name": "stderr",
     "output_type": "stream",
     "text": [
      "\u001b[36m(RayTrainWorker pid=4109741)\u001b[0m Using /home/jupyter/.cache/torch_extensions/py310_cu121 as PyTorch extensions root...\n",
      "\u001b[36m(RayTrainWorker pid=4109741)\u001b[0m Detected CUDA files, patching ldflags\n",
      "\u001b[36m(RayTrainWorker pid=4109741)\u001b[0m Emitting ninja build file /home/jupyter/.cache/torch_extensions/py310_cu121/cpu_adam/build.ninja...\n",
      "\u001b[36m(RayTrainWorker pid=4109741)\u001b[0m Building extension module cpu_adam...\n",
      "\u001b[36m(RayTrainWorker pid=4109741)\u001b[0m Allowing ninja to set a default number of workers... (overridable by setting the environment variable MAX_JOBS=N)\n",
      "\u001b[36m(RayTrainWorker pid=4109741)\u001b[0m Loading extension module cpu_adam...\n"
     ]
    },
    {
     "name": "stdout",
     "output_type": "stream",
     "text": [
      "\u001b[36m(RayTrainWorker pid=4109740)\u001b[0m [2025-02-17 13:01:46,730] [INFO] [logging.py:96:log_dist] [Rank 0] Using DeepSpeed Optimizer param name adamw as basic optimizer\n",
      "\u001b[36m(RayTrainWorker pid=4109740)\u001b[0m [2025-02-17 13:01:46,730] [INFO] [logging.py:96:log_dist] [Rank 0] Removing param_group that has no 'params' in the basic Optimizer\n",
      "\u001b[36m(RayTrainWorker pid=4109740)\u001b[0m [2025-02-17 13:01:46,751] [INFO] [logging.py:96:log_dist] [Rank 0] DeepSpeed Basic Optimizer = DeepSpeedCPUAdam\n",
      "\u001b[36m(RayTrainWorker pid=4109740)\u001b[0m [2025-02-17 13:01:46,751] [INFO] [utils.py:56:is_zero_supported_optimizer] Checking ZeRO support for optimizer=DeepSpeedCPUAdam type=<class 'deepspeed.ops.adam.cpu_adam.DeepSpeedCPUAdam'>\n",
      "\u001b[36m(RayTrainWorker pid=4109740)\u001b[0m [2025-02-17 13:01:46,751] [INFO] [logging.py:96:log_dist] [Rank 0] Creating fp16 ZeRO stage 3 optimizer, MiCS is enabled False, Hierarchical params gather False\n",
      "\u001b[36m(RayTrainWorker pid=4109740)\u001b[0m [2025-02-17 13:01:46,751] [INFO] [logging.py:96:log_dist] [Rank 0] Creating torch.float16 ZeRO stage 3 optimizer\n",
      "\u001b[36m(RayTrainWorker pid=4109740)\u001b[0m [2025-02-17 13:01:46,923] [INFO] [utils.py:802:see_memory_usage] Stage 3 initialize beginning\n",
      "\u001b[36m(RayTrainWorker pid=4109740)\u001b[0m [2025-02-17 13:01:46,924] [INFO] [utils.py:803:see_memory_usage] MA 5.74 GB         Max_MA 6.71 GB         CA 8.46 GB         Max_CA 8 GB \n",
      "\u001b[36m(RayTrainWorker pid=4109740)\u001b[0m [2025-02-17 13:01:46,924] [INFO] [utils.py:810:see_memory_usage] CPU Virtual Memory:  used = 38.57 GB, percent = 20.4%\n",
      "\u001b[36m(RayTrainWorker pid=4109740)\u001b[0m [2025-02-17 13:01:46,926] [INFO] [stage3.py:127:__init__] Reduce bucket size 16777216\n",
      "\u001b[36m(RayTrainWorker pid=4109740)\u001b[0m [2025-02-17 13:01:46,926] [INFO] [stage3.py:128:__init__] Prefetch bucket size 15099494\n",
      "\u001b[36m(RayTrainWorker pid=4109740)\u001b[0m [2025-02-17 13:01:47,095] [INFO] [utils.py:802:see_memory_usage] DeepSpeedZeRoOffload initialize [begin]\n",
      "\u001b[36m(RayTrainWorker pid=4109740)\u001b[0m [2025-02-17 13:01:47,096] [INFO] [utils.py:803:see_memory_usage] MA 5.74 GB         Max_MA 5.74 GB         CA 8.46 GB         Max_CA 8 GB \n",
      "\u001b[36m(RayTrainWorker pid=4109740)\u001b[0m [2025-02-17 13:01:47,096] [INFO] [utils.py:810:see_memory_usage] CPU Virtual Memory:  used = 38.57 GB, percent = 20.4%\n",
      "\u001b[36m(RayTrainWorker pid=4109740)\u001b[0m Parameter Offload: Total persistent parameters: 811008 in 114 params\n",
      "\u001b[36m(RayTrainWorker pid=4109740)\u001b[0m [2025-02-17 13:01:47,287] [INFO] [utils.py:802:see_memory_usage] DeepSpeedZeRoOffload initialize [end]\n",
      "\u001b[36m(RayTrainWorker pid=4109740)\u001b[0m [2025-02-17 13:01:47,288] [INFO] [utils.py:803:see_memory_usage] MA 5.74 GB         Max_MA 5.74 GB         CA 8.46 GB         Max_CA 8 GB \n",
      "\u001b[36m(RayTrainWorker pid=4109740)\u001b[0m [2025-02-17 13:01:47,289] [INFO] [utils.py:810:see_memory_usage] CPU Virtual Memory:  used = 38.57 GB, percent = 20.4%\n",
      "\u001b[36m(RayTrainWorker pid=4109740)\u001b[0m Model loaded\n",
      "\u001b[36m(RayTrainWorker pid=4109740)\u001b[0m [2025-02-17 13:01:47,457] [INFO] [utils.py:802:see_memory_usage] Before creating fp16 partitions\n",
      "\u001b[36m(RayTrainWorker pid=4109740)\u001b[0m [2025-02-17 13:01:47,458] [INFO] [utils.py:803:see_memory_usage] MA 5.74 GB         Max_MA 5.74 GB         CA 8.46 GB         Max_CA 8 GB \n",
      "\u001b[36m(RayTrainWorker pid=4109740)\u001b[0m [2025-02-17 13:01:47,458] [INFO] [utils.py:810:see_memory_usage] CPU Virtual Memory:  used = 38.57 GB, percent = 20.4%\n",
      "\u001b[36m(RayTrainWorker pid=4109740)\u001b[0m [2025-02-17 13:01:51,824] [INFO] [utils.py:802:see_memory_usage] After creating fp16 partitions: 4\n",
      "\u001b[36m(RayTrainWorker pid=4109740)\u001b[0m [2025-02-17 13:01:51,825] [INFO] [utils.py:803:see_memory_usage] MA 5.74 GB         Max_MA 5.74 GB         CA 7.54 GB         Max_CA 8 GB \n",
      "\u001b[36m(RayTrainWorker pid=4109740)\u001b[0m [2025-02-17 13:01:51,825] [INFO] [utils.py:810:see_memory_usage] CPU Virtual Memory:  used = 38.99 GB, percent = 20.7%\n",
      "\u001b[36m(RayTrainWorker pid=4109740)\u001b[0m \u001b[93m [WARNING] \u001b[0m cpu_adam cuda is missing or is incompatible with installed torch, only cpu ops can be compiled!\n",
      "\u001b[36m(RayTrainWorker pid=4109740)\u001b[0m ninja: no work to do.\n",
      "\u001b[36m(RayTrainWorker pid=4109740)\u001b[0m Time to load cpu_adam op: 2.294848680496216 seconds\n",
      "\u001b[36m(RayTrainWorker pid=4109740)\u001b[0m [2025-02-17 13:01:52,003] [INFO] [utils.py:802:see_memory_usage] Before creating fp32 partitions\n",
      "\u001b[36m(RayTrainWorker pid=4109740)\u001b[0m [2025-02-17 13:01:52,004] [INFO] [utils.py:803:see_memory_usage] MA 5.74 GB         Max_MA 5.74 GB         CA 7.54 GB         Max_CA 8 GB \n",
      "\u001b[36m(RayTrainWorker pid=4109740)\u001b[0m [2025-02-17 13:01:52,004] [INFO] [utils.py:810:see_memory_usage] CPU Virtual Memory:  used = 39.39 GB, percent = 20.9%\n",
      "\u001b[36m(RayTrainWorker pid=4109740)\u001b[0m [2025-02-17 13:01:57,979] [INFO] [utils.py:802:see_memory_usage] After creating fp32 partitions\n",
      "\u001b[36m(RayTrainWorker pid=4109740)\u001b[0m [2025-02-17 13:01:57,979] [INFO] [utils.py:803:see_memory_usage] MA 5.74 GB         Max_MA 5.74 GB         CA 7.54 GB         Max_CA 8 GB \n",
      "\u001b[36m(RayTrainWorker pid=4109740)\u001b[0m [2025-02-17 13:01:57,980] [INFO] [utils.py:810:see_memory_usage] CPU Virtual Memory:  used = 61.15 GB, percent = 32.4%\n",
      "\u001b[36m(RayTrainWorker pid=4109740)\u001b[0m [2025-02-17 13:01:58,175] [INFO] [utils.py:802:see_memory_usage] Before initializing optimizer states\n",
      "\u001b[36m(RayTrainWorker pid=4109740)\u001b[0m [2025-02-17 13:01:58,175] [INFO] [utils.py:803:see_memory_usage] MA 5.74 GB         Max_MA 5.74 GB         CA 7.54 GB         Max_CA 8 GB \n",
      "\u001b[36m(RayTrainWorker pid=4109740)\u001b[0m [2025-02-17 13:01:58,176] [INFO] [utils.py:810:see_memory_usage] CPU Virtual Memory:  used = 62.39 GB, percent = 33.1%\n",
      "\u001b[36m(RayTrainWorker pid=4109740)\u001b[0m [2025-02-17 13:02:13,916] [INFO] [utils.py:802:see_memory_usage] After initializing optimizer states\n",
      "\u001b[36m(RayTrainWorker pid=4109740)\u001b[0m [2025-02-17 13:02:13,917] [INFO] [utils.py:803:see_memory_usage] MA 5.74 GB         Max_MA 5.74 GB         CA 7.54 GB         Max_CA 8 GB \n",
      "\u001b[36m(RayTrainWorker pid=4109740)\u001b[0m [2025-02-17 13:02:13,917] [INFO] [utils.py:810:see_memory_usage] CPU Virtual Memory:  used = 130.83 GB, percent = 69.3%\n",
      "\u001b[36m(RayTrainWorker pid=4109740)\u001b[0m [2025-02-17 13:02:13,917] [INFO] [stage3.py:479:_setup_for_real_optimizer] optimizer state initialized\n"
     ]
    },
    {
     "name": "stderr",
     "output_type": "stream",
     "text": [
      "\u001b[36m(RayTrainWorker pid=4109740)\u001b[0m ***** Running training *****\n",
      "\u001b[36m(RayTrainWorker pid=4109740)\u001b[0m   Num examples = 6208\n",
      "\u001b[36m(RayTrainWorker pid=4109740)\u001b[0m   Num Epochs = 9223372036854775807\n",
      "\u001b[36m(RayTrainWorker pid=4109740)\u001b[0m   Instantaneous batch size per device = 16\n",
      "\u001b[36m(RayTrainWorker pid=4109740)\u001b[0m   Total train batch size (w. parallel, distributed & accumulation) = 32\n",
      "\u001b[36m(RayTrainWorker pid=4109740)\u001b[0m   Gradient Accumulation steps = 1\n",
      "\u001b[36m(RayTrainWorker pid=4109740)\u001b[0m   Total optimization steps = 194\n",
      "\u001b[36m(RayTrainWorker pid=4109740)\u001b[0m   Number of trainable parameters = 0\n",
      "\u001b[36m(RayTrainWorker pid=4109740)\u001b[0m Using /home/jupyter/.cache/torch_extensions/py310_cu121 as PyTorch extensions root...\n",
      "\u001b[36m(RayTrainWorker pid=4109740)\u001b[0m Detected CUDA files, patching ldflags\n",
      "\u001b[36m(RayTrainWorker pid=4109740)\u001b[0m Emitting ninja build file /home/jupyter/.cache/torch_extensions/py310_cu121/cpu_adam/build.ninja...\n",
      "\u001b[36m(RayTrainWorker pid=4109740)\u001b[0m Building extension module cpu_adam...\n",
      "\u001b[36m(RayTrainWorker pid=4109740)\u001b[0m Allowing ninja to set a default number of workers... (overridable by setting the environment variable MAX_JOBS=N)\n",
      "\u001b[36m(RayTrainWorker pid=4109740)\u001b[0m Loading extension module cpu_adam...\n"
     ]
    },
    {
     "name": "stdout",
     "output_type": "stream",
     "text": [
      "\u001b[36m(RayTrainWorker pid=4109740)\u001b[0m [2025-02-17 13:02:21,672] [INFO] [utils.py:802:see_memory_usage] After initializing ZeRO optimizer\n",
      "\u001b[36m(RayTrainWorker pid=4109740)\u001b[0m [2025-02-17 13:02:21,673] [INFO] [utils.py:803:see_memory_usage] MA 5.78 GB         Max_MA 6.55 GB         CA 11.29 GB         Max_CA 21 GB \n",
      "\u001b[36m(RayTrainWorker pid=4109740)\u001b[0m [2025-02-17 13:02:21,673] [INFO] [utils.py:810:see_memory_usage] CPU Virtual Memory:  used = 147.17 GB, percent = 78.0%\n",
      "\u001b[36m(RayTrainWorker pid=4109740)\u001b[0m [2025-02-17 13:02:21,673] [INFO] [logging.py:96:log_dist] [Rank 0] DeepSpeed Final Optimizer = adamw\n",
      "\u001b[36m(RayTrainWorker pid=4109740)\u001b[0m [2025-02-17 13:02:21,673] [INFO] [logging.py:96:log_dist] [Rank 0] DeepSpeed using client callable to create LR scheduler\n",
      "\u001b[36m(RayTrainWorker pid=4109740)\u001b[0m [2025-02-17 13:02:21,673] [INFO] [logging.py:96:log_dist] [Rank 0] DeepSpeed LR Scheduler = <torch.optim.lr_scheduler.LambdaLR object at 0x7fec6d2a5900>\n",
      "\u001b[36m(RayTrainWorker pid=4109740)\u001b[0m [2025-02-17 13:02:21,673] [INFO] [logging.py:96:log_dist] [Rank 0] step=0, skipped=0, lr=[2e-05], mom=[[0.9, 0.999]]\n",
      "\u001b[36m(RayTrainWorker pid=4109740)\u001b[0m [2025-02-17 13:02:21,674] [INFO] [config.py:974:print] DeepSpeedEngine configuration:\n",
      "\u001b[36m(RayTrainWorker pid=4109740)\u001b[0m [2025-02-17 13:02:21,675] [INFO] [config.py:978:print]   activation_checkpointing_config  {\n",
      "\u001b[36m(RayTrainWorker pid=4109740)\u001b[0m     \"partition_activations\": false, \n",
      "\u001b[36m(RayTrainWorker pid=4109740)\u001b[0m     \"contiguous_memory_optimization\": false, \n",
      "\u001b[36m(RayTrainWorker pid=4109740)\u001b[0m     \"cpu_checkpointing\": false, \n",
      "\u001b[36m(RayTrainWorker pid=4109740)\u001b[0m     \"number_checkpoints\": null, \n",
      "\u001b[36m(RayTrainWorker pid=4109740)\u001b[0m     \"synchronize_checkpoint_boundary\": false, \n",
      "\u001b[36m(RayTrainWorker pid=4109740)\u001b[0m     \"profile\": false\n",
      "\u001b[36m(RayTrainWorker pid=4109740)\u001b[0m }\n",
      "\u001b[36m(RayTrainWorker pid=4109740)\u001b[0m [2025-02-17 13:02:21,675] [INFO] [config.py:978:print]   aio_config ................... {'block_size': 1048576, 'queue_depth': 8, 'thread_count': 1, 'single_submit': False, 'overlap_events': True}\n",
      "\u001b[36m(RayTrainWorker pid=4109740)\u001b[0m [2025-02-17 13:02:21,675] [INFO] [config.py:978:print]   amp_enabled .................. False\n",
      "\u001b[36m(RayTrainWorker pid=4109740)\u001b[0m [2025-02-17 13:02:21,675] [INFO] [config.py:978:print]   amp_params ................... False\n",
      "\u001b[36m(RayTrainWorker pid=4109740)\u001b[0m [2025-02-17 13:02:21,675] [INFO] [config.py:978:print]   autotuning_config ............ {\n",
      "\u001b[36m(RayTrainWorker pid=4109740)\u001b[0m     \"enabled\": false, \n",
      "\u001b[36m(RayTrainWorker pid=4109740)\u001b[0m     \"start_step\": null, \n",
      "\u001b[36m(RayTrainWorker pid=4109740)\u001b[0m     \"end_step\": null, \n",
      "\u001b[36m(RayTrainWorker pid=4109740)\u001b[0m     \"metric_path\": null, \n",
      "\u001b[36m(RayTrainWorker pid=4109740)\u001b[0m     \"arg_mappings\": null, \n",
      "\u001b[36m(RayTrainWorker pid=4109740)\u001b[0m     \"metric\": \"throughput\", \n",
      "\u001b[36m(RayTrainWorker pid=4109740)\u001b[0m     \"model_info\": null, \n",
      "\u001b[36m(RayTrainWorker pid=4109740)\u001b[0m     \"results_dir\": \"autotuning_results\", \n",
      "\u001b[36m(RayTrainWorker pid=4109740)\u001b[0m     \"exps_dir\": \"autotuning_exps\", \n",
      "\u001b[36m(RayTrainWorker pid=4109740)\u001b[0m     \"overwrite\": true, \n",
      "\u001b[36m(RayTrainWorker pid=4109740)\u001b[0m     \"fast\": true, \n",
      "\u001b[36m(RayTrainWorker pid=4109740)\u001b[0m     \"start_profile_step\": 3, \n",
      "\u001b[36m(RayTrainWorker pid=4109740)\u001b[0m     \"end_profile_step\": 5, \n",
      "\u001b[36m(RayTrainWorker pid=4109740)\u001b[0m     \"tuner_type\": \"gridsearch\", \n",
      "\u001b[36m(RayTrainWorker pid=4109740)\u001b[0m     \"tuner_early_stopping\": 5, \n",
      "\u001b[36m(RayTrainWorker pid=4109740)\u001b[0m     \"tuner_num_trials\": 50, \n",
      "\u001b[36m(RayTrainWorker pid=4109740)\u001b[0m     \"model_info_path\": null, \n",
      "\u001b[36m(RayTrainWorker pid=4109740)\u001b[0m     \"mp_size\": 1, \n",
      "\u001b[36m(RayTrainWorker pid=4109740)\u001b[0m     \"max_train_batch_size\": null, \n",
      "\u001b[36m(RayTrainWorker pid=4109740)\u001b[0m     \"min_train_batch_size\": 1, \n",
      "\u001b[36m(RayTrainWorker pid=4109740)\u001b[0m     \"max_train_micro_batch_size_per_gpu\": 1.024000e+03, \n",
      "\u001b[36m(RayTrainWorker pid=4109740)\u001b[0m     \"min_train_micro_batch_size_per_gpu\": 1, \n",
      "\u001b[36m(RayTrainWorker pid=4109740)\u001b[0m     \"num_tuning_micro_batch_sizes\": 3\n",
      "\u001b[36m(RayTrainWorker pid=4109740)\u001b[0m }\n",
      "\u001b[36m(RayTrainWorker pid=4109740)\u001b[0m [2025-02-17 13:02:21,675] [INFO] [config.py:978:print]   bfloat16_enabled ............. False\n",
      "\u001b[36m(RayTrainWorker pid=4109740)\u001b[0m [2025-02-17 13:02:21,675] [INFO] [config.py:978:print]   checkpoint_parallel_write_pipeline  False\n",
      "\u001b[36m(RayTrainWorker pid=4109740)\u001b[0m [2025-02-17 13:02:21,675] [INFO] [config.py:978:print]   checkpoint_tag_validation_enabled  True\n",
      "\u001b[36m(RayTrainWorker pid=4109740)\u001b[0m [2025-02-17 13:02:21,675] [INFO] [config.py:978:print]   checkpoint_tag_validation_fail  False\n",
      "\u001b[36m(RayTrainWorker pid=4109740)\u001b[0m [2025-02-17 13:02:21,675] [INFO] [config.py:978:print]   comms_config ................. <deepspeed.comm.config.DeepSpeedCommsConfig object at 0x7fec947f4280>\n",
      "\u001b[36m(RayTrainWorker pid=4109740)\u001b[0m [2025-02-17 13:02:21,675] [INFO] [config.py:978:print]   communication_data_type ...... None\n",
      "\u001b[36m(RayTrainWorker pid=4109740)\u001b[0m [2025-02-17 13:02:21,675] [INFO] [config.py:978:print]   compression_config ........... {'weight_quantization': {'shared_parameters': {'enabled': False, 'quantizer_kernel': False, 'schedule_offset': 0, 'quantize_groups': 1, 'quantize_verbose': False, 'quantization_type': 'symmetric', 'quantize_weight_in_forward': False, 'rounding': 'nearest', 'fp16_mixed_quantize': False, 'quantize_change_ratio': 0.001}, 'different_groups': {}}, 'activation_quantization': {'shared_parameters': {'enabled': False, 'quantization_type': 'symmetric', 'range_calibration': 'dynamic', 'schedule_offset': 1000}, 'different_groups': {}}, 'sparse_pruning': {'shared_parameters': {'enabled': False, 'method': 'l1', 'schedule_offset': 1000}, 'different_groups': {}}, 'row_pruning': {'shared_parameters': {'enabled': False, 'method': 'l1', 'schedule_offset': 1000}, 'different_groups': {}}, 'head_pruning': {'shared_parameters': {'enabled': False, 'method': 'topk', 'schedule_offset': 1000}, 'different_groups': {}}, 'channel_pruning': {'shared_parameters': {'enabled': False, 'method': 'l1', 'schedule_offset': 1000}, 'different_groups': {}}, 'layer_reduction': {'enabled': False}}\n",
      "\u001b[36m(RayTrainWorker pid=4109740)\u001b[0m [2025-02-17 13:02:21,675] [INFO] [config.py:978:print]   curriculum_enabled_legacy .... False\n",
      "\u001b[36m(RayTrainWorker pid=4109740)\u001b[0m [2025-02-17 13:02:21,676] [INFO] [config.py:978:print]   curriculum_params_legacy ..... False\n",
      "\u001b[36m(RayTrainWorker pid=4109740)\u001b[0m [2025-02-17 13:02:21,676] [INFO] [config.py:978:print]   data_efficiency_config ....... {'enabled': False, 'seed': 1234, 'data_sampling': {'enabled': False, 'num_epochs': 1000, 'num_workers': 0, 'curriculum_learning': {'enabled': False}}, 'data_routing': {'enabled': False, 'random_ltd': {'enabled': False, 'layer_token_lr_schedule': {'enabled': False}}}}\n",
      "\u001b[36m(RayTrainWorker pid=4109740)\u001b[0m [2025-02-17 13:02:21,676] [INFO] [config.py:978:print]   data_efficiency_enabled ...... False\n",
      "\u001b[36m(RayTrainWorker pid=4109740)\u001b[0m [2025-02-17 13:02:21,676] [INFO] [config.py:978:print]   dataloader_drop_last ......... False\n",
      "\u001b[36m(RayTrainWorker pid=4109740)\u001b[0m [2025-02-17 13:02:21,676] [INFO] [config.py:978:print]   disable_allgather ............ False\n",
      "\u001b[36m(RayTrainWorker pid=4109740)\u001b[0m [2025-02-17 13:02:21,676] [INFO] [config.py:978:print]   dump_state ................... False\n",
      "\u001b[36m(RayTrainWorker pid=4109740)\u001b[0m [2025-02-17 13:02:21,676] [INFO] [config.py:978:print]   dynamic_loss_scale_args ...... {'init_scale': 256, 'scale_window': 1000, 'delayed_shift': 4, 'consecutive_hysteresis': True, 'min_scale': 1}\n",
      "\u001b[36m(RayTrainWorker pid=4109740)\u001b[0m [2025-02-17 13:02:21,676] [INFO] [config.py:978:print]   eigenvalue_enabled ........... False\n",
      "\u001b[36m(RayTrainWorker pid=4109740)\u001b[0m [2025-02-17 13:02:21,676] [INFO] [config.py:978:print]   eigenvalue_gas_boundary_resolution  1\n",
      "\u001b[36m(RayTrainWorker pid=4109740)\u001b[0m [2025-02-17 13:02:21,676] [INFO] [config.py:978:print]   eigenvalue_layer_name ........ bert.encoder.layer\n",
      "\u001b[36m(RayTrainWorker pid=4109740)\u001b[0m [2025-02-17 13:02:21,676] [INFO] [config.py:978:print]   eigenvalue_layer_num ......... 0\n",
      "\u001b[36m(RayTrainWorker pid=4109740)\u001b[0m [2025-02-17 13:02:21,676] [INFO] [config.py:978:print]   eigenvalue_max_iter .......... 100\n",
      "\u001b[36m(RayTrainWorker pid=4109740)\u001b[0m [2025-02-17 13:02:21,676] [INFO] [config.py:978:print]   eigenvalue_stability ......... 1e-06\n",
      "\u001b[36m(RayTrainWorker pid=4109740)\u001b[0m [2025-02-17 13:02:21,676] [INFO] [config.py:978:print]   eigenvalue_tol ............... 0.01\n",
      "\u001b[36m(RayTrainWorker pid=4109740)\u001b[0m [2025-02-17 13:02:21,676] [INFO] [config.py:978:print]   eigenvalue_verbose ........... False\n",
      "\u001b[36m(RayTrainWorker pid=4109740)\u001b[0m [2025-02-17 13:02:21,676] [INFO] [config.py:978:print]   elasticity_enabled ........... False\n",
      "\u001b[36m(RayTrainWorker pid=4109740)\u001b[0m [2025-02-17 13:02:21,676] [INFO] [config.py:978:print]   flops_profiler_config ........ {\n",
      "\u001b[36m(RayTrainWorker pid=4109740)\u001b[0m     \"enabled\": false, \n",
      "\u001b[36m(RayTrainWorker pid=4109740)\u001b[0m     \"recompute_fwd_factor\": 0.0, \n",
      "\u001b[36m(RayTrainWorker pid=4109740)\u001b[0m     \"profile_step\": 1, \n",
      "\u001b[36m(RayTrainWorker pid=4109740)\u001b[0m     \"module_depth\": -1, \n",
      "\u001b[36m(RayTrainWorker pid=4109740)\u001b[0m     \"top_modules\": 1, \n",
      "\u001b[36m(RayTrainWorker pid=4109740)\u001b[0m     \"detailed\": true, \n",
      "\u001b[36m(RayTrainWorker pid=4109740)\u001b[0m     \"output_file\": null\n",
      "\u001b[36m(RayTrainWorker pid=4109740)\u001b[0m }\n",
      "\u001b[36m(RayTrainWorker pid=4109740)\u001b[0m [2025-02-17 13:02:21,676] [INFO] [config.py:978:print]   fp16_auto_cast ............... False\n",
      "\u001b[36m(RayTrainWorker pid=4109740)\u001b[0m [2025-02-17 13:02:21,676] [INFO] [config.py:978:print]   fp16_enabled ................. True\n",
      "\u001b[36m(RayTrainWorker pid=4109740)\u001b[0m [2025-02-17 13:02:21,676] [INFO] [config.py:978:print]   fp16_master_weights_and_gradients  False\n",
      "\u001b[36m(RayTrainWorker pid=4109740)\u001b[0m [2025-02-17 13:02:21,676] [INFO] [config.py:978:print]   global_rank .................. 0\n",
      "\u001b[36m(RayTrainWorker pid=4109740)\u001b[0m [2025-02-17 13:02:21,676] [INFO] [config.py:978:print]   grad_accum_dtype ............. None\n",
      "\u001b[36m(RayTrainWorker pid=4109740)\u001b[0m [2025-02-17 13:02:21,676] [INFO] [config.py:978:print]   gradient_accumulation_steps .. 1\n",
      "\u001b[36m(RayTrainWorker pid=4109740)\u001b[0m [2025-02-17 13:02:21,676] [INFO] [config.py:978:print]   gradient_clipping ............ 1.0\n",
      "\u001b[36m(RayTrainWorker pid=4109740)\u001b[0m [2025-02-17 13:02:21,676] [INFO] [config.py:978:print]   gradient_predivide_factor .... 1.0\n",
      "\u001b[36m(RayTrainWorker pid=4109740)\u001b[0m [2025-02-17 13:02:21,676] [INFO] [config.py:978:print]   hybrid_engine ................ enabled=False max_out_tokens=512 inference_tp_size=1 release_inference_cache=False pin_parameters=True tp_gather_partition_size=8\n",
      "\u001b[36m(RayTrainWorker pid=4109740)\u001b[0m [2025-02-17 13:02:21,676] [INFO] [config.py:978:print]   initial_dynamic_scale ........ 256\n",
      "\u001b[36m(RayTrainWorker pid=4109740)\u001b[0m [2025-02-17 13:02:21,676] [INFO] [config.py:978:print]   load_universal_checkpoint .... False\n",
      "\u001b[36m(RayTrainWorker pid=4109740)\u001b[0m [2025-02-17 13:02:21,676] [INFO] [config.py:978:print]   loss_scale ................... 0\n",
      "\u001b[36m(RayTrainWorker pid=4109740)\u001b[0m [2025-02-17 13:02:21,676] [INFO] [config.py:978:print]   memory_breakdown ............. False\n",
      "\u001b[36m(RayTrainWorker pid=4109740)\u001b[0m [2025-02-17 13:02:21,676] [INFO] [config.py:978:print]   mics_hierarchial_params_gather  False\n",
      "\u001b[36m(RayTrainWorker pid=4109740)\u001b[0m [2025-02-17 13:02:21,676] [INFO] [config.py:978:print]   mics_shard_size .............. -1\n",
      "\u001b[36m(RayTrainWorker pid=4109740)\u001b[0m [2025-02-17 13:02:21,676] [INFO] [config.py:978:print]   monitor_config ............... tensorboard=TensorBoardConfig(enabled=False, output_path='', job_name='DeepSpeedJobName') wandb=WandbConfig(enabled=False, group=None, team=None, project='deepspeed') csv_monitor=CSVConfig(enabled=False, output_path='', job_name='DeepSpeedJobName') enabled=False\n",
      "\u001b[36m(RayTrainWorker pid=4109740)\u001b[0m [2025-02-17 13:02:21,677] [INFO] [config.py:978:print]   nebula_config ................ {\n",
      "\u001b[36m(RayTrainWorker pid=4109740)\u001b[0m     \"enabled\": false, \n",
      "\u001b[36m(RayTrainWorker pid=4109740)\u001b[0m     \"persistent_storage_path\": null, \n",
      "\u001b[36m(RayTrainWorker pid=4109740)\u001b[0m     \"persistent_time_interval\": 100, \n",
      "\u001b[36m(RayTrainWorker pid=4109740)\u001b[0m     \"num_of_version_in_retention\": 2, \n",
      "\u001b[36m(RayTrainWorker pid=4109740)\u001b[0m     \"enable_nebula_load\": true, \n",
      "\u001b[36m(RayTrainWorker pid=4109740)\u001b[0m     \"load_path\": null\n",
      "\u001b[36m(RayTrainWorker pid=4109740)\u001b[0m }\n",
      "\u001b[36m(RayTrainWorker pid=4109740)\u001b[0m [2025-02-17 13:02:21,677] [INFO] [config.py:978:print]   optimizer_legacy_fusion ...... False\n",
      "\u001b[36m(RayTrainWorker pid=4109740)\u001b[0m [2025-02-17 13:02:21,677] [INFO] [config.py:978:print]   optimizer_name ............... adamw\n",
      "\u001b[36m(RayTrainWorker pid=4109740)\u001b[0m [2025-02-17 13:02:21,677] [INFO] [config.py:978:print]   optimizer_params ............. {'lr': 2e-05, 'betas': [0.9, 0.999], 'eps': 1e-08}\n",
      "\u001b[36m(RayTrainWorker pid=4109740)\u001b[0m [2025-02-17 13:02:21,677] [INFO] [config.py:978:print]   pipeline ..................... {'stages': 'auto', 'partition': 'best', 'seed_layers': False, 'activation_checkpoint_interval': 0, 'pipe_partitioned': True, 'grad_partitioned': True}\n",
      "\u001b[36m(RayTrainWorker pid=4109740)\u001b[0m [2025-02-17 13:02:21,677] [INFO] [config.py:978:print]   pld_enabled .................. False\n",
      "\u001b[36m(RayTrainWorker pid=4109740)\u001b[0m [2025-02-17 13:02:21,677] [INFO] [config.py:978:print]   pld_params ................... False\n",
      "\u001b[36m(RayTrainWorker pid=4109740)\u001b[0m [2025-02-17 13:02:21,677] [INFO] [config.py:978:print]   prescale_gradients ........... False\n",
      "\u001b[36m(RayTrainWorker pid=4109740)\u001b[0m [2025-02-17 13:02:21,677] [INFO] [config.py:978:print]   scheduler_name ............... None\n",
      "\u001b[36m(RayTrainWorker pid=4109740)\u001b[0m [2025-02-17 13:02:21,677] [INFO] [config.py:978:print]   scheduler_params ............. None\n",
      "\u001b[36m(RayTrainWorker pid=4109740)\u001b[0m [2025-02-17 13:02:21,677] [INFO] [config.py:978:print]   seq_parallel_communication_data_type  torch.float32\n",
      "\u001b[36m(RayTrainWorker pid=4109740)\u001b[0m [2025-02-17 13:02:21,677] [INFO] [config.py:978:print]   sparse_attention ............. None\n",
      "\u001b[36m(RayTrainWorker pid=4109740)\u001b[0m [2025-02-17 13:02:21,677] [INFO] [config.py:978:print]   sparse_gradients_enabled ..... False\n",
      "\u001b[36m(RayTrainWorker pid=4109740)\u001b[0m [2025-02-17 13:02:21,677] [INFO] [config.py:978:print]   steps_per_print .............. 10\n",
      "\u001b[36m(RayTrainWorker pid=4109740)\u001b[0m [2025-02-17 13:02:21,677] [INFO] [config.py:978:print]   train_batch_size ............. 32\n",
      "\u001b[36m(RayTrainWorker pid=4109740)\u001b[0m [2025-02-17 13:02:21,677] [INFO] [config.py:978:print]   train_micro_batch_size_per_gpu  16\n",
      "\u001b[36m(RayTrainWorker pid=4109740)\u001b[0m [2025-02-17 13:02:21,677] [INFO] [config.py:978:print]   use_node_local_storage ....... False\n",
      "\u001b[36m(RayTrainWorker pid=4109740)\u001b[0m [2025-02-17 13:02:21,677] [INFO] [config.py:978:print]   wall_clock_breakdown ......... False\n",
      "\u001b[36m(RayTrainWorker pid=4109740)\u001b[0m [2025-02-17 13:02:21,677] [INFO] [config.py:978:print]   weight_quantization_config ... None\n",
      "\u001b[36m(RayTrainWorker pid=4109740)\u001b[0m [2025-02-17 13:02:21,677] [INFO] [config.py:978:print]   world_size ................... 2\n",
      "\u001b[36m(RayTrainWorker pid=4109740)\u001b[0m [2025-02-17 13:02:21,677] [INFO] [config.py:978:print]   zero_allow_untested_optimizer  False\n",
      "\u001b[36m(RayTrainWorker pid=4109740)\u001b[0m [2025-02-17 13:02:21,677] [INFO] [config.py:978:print]   zero_config .................. stage=3 contiguous_gradients=True reduce_scatter=True reduce_bucket_size=16777216 allgather_partitions=True allgather_bucket_size=500,000,000 overlap_comm=True load_from_fp32_weights=True elastic_checkpoint=False offload_param=None offload_optimizer=DeepSpeedZeroOffloadOptimizerConfig(device='cpu', nvme_path=None, buffer_count=4, pin_memory=True, pipeline=False, pipeline_read=False, pipeline_write=False, fast_init=False, ratio=1.0) sub_group_size=1,000,000,000 cpu_offload_param=None cpu_offload_use_pin_memory=None cpu_offload=None prefetch_bucket_size=15099494 param_persistence_threshold=40960 model_persistence_threshold=sys.maxsize max_live_parameters=1,000,000,000 max_reuse_distance=1,000,000,000 gather_16bit_weights_on_model_save=True stage3_gather_fp16_weights_on_model_save=False ignore_unused_parameters=True legacy_stage1=False round_robin_gradients=True zero_hpz_partition_size=1 zero_quantized_weights=False zero_quantized_nontrainable_weights=False zero_quantized_gradients=False mics_shard_size=-1 mics_hierarchical_params_gather=False memory_efficient_linear=True pipeline_loading_checkpoint=False override_module_apply=True\n",
      "\u001b[36m(RayTrainWorker pid=4109740)\u001b[0m [2025-02-17 13:02:21,677] [INFO] [config.py:978:print]   zero_enabled ................. True\n",
      "\u001b[36m(RayTrainWorker pid=4109740)\u001b[0m [2025-02-17 13:02:21,677] [INFO] [config.py:978:print]   zero_force_ds_cpu_optimizer .. True\n",
      "\u001b[36m(RayTrainWorker pid=4109740)\u001b[0m [2025-02-17 13:02:21,677] [INFO] [config.py:978:print]   zero_optimization_stage ...... 3\n",
      "\u001b[36m(RayTrainWorker pid=4109740)\u001b[0m [2025-02-17 13:02:21,678] [INFO] [config.py:964:print_user_config]   json = {\n",
      "\u001b[36m(RayTrainWorker pid=4109740)\u001b[0m     \"fp16\": {\n",
      "\u001b[36m(RayTrainWorker pid=4109740)\u001b[0m         \"enabled\": true, \n",
      "\u001b[36m(RayTrainWorker pid=4109740)\u001b[0m         \"initial_scale_power\": 8, \n",
      "\u001b[36m(RayTrainWorker pid=4109740)\u001b[0m         \"hysteresis\": 4, \n",
      "\u001b[36m(RayTrainWorker pid=4109740)\u001b[0m         \"consecutive_hysteresis\": true\n",
      "\u001b[36m(RayTrainWorker pid=4109740)\u001b[0m     }, \n",
      "\u001b[36m(RayTrainWorker pid=4109740)\u001b[0m     \"bf16\": {\n",
      "\u001b[36m(RayTrainWorker pid=4109740)\u001b[0m         \"enabled\": false\n",
      "\u001b[36m(RayTrainWorker pid=4109740)\u001b[0m     }, \n",
      "\u001b[36m(RayTrainWorker pid=4109740)\u001b[0m     \"optimizer\": {\n",
      "\u001b[36m(RayTrainWorker pid=4109740)\u001b[0m         \"type\": \"AdamW\", \n",
      "\u001b[36m(RayTrainWorker pid=4109740)\u001b[0m         \"params\": {\n",
      "\u001b[36m(RayTrainWorker pid=4109740)\u001b[0m             \"lr\": 2e-05, \n",
      "\u001b[36m(RayTrainWorker pid=4109740)\u001b[0m             \"betas\": [0.9, 0.999], \n",
      "\u001b[36m(RayTrainWorker pid=4109740)\u001b[0m             \"eps\": 1e-08\n",
      "\u001b[36m(RayTrainWorker pid=4109740)\u001b[0m         }\n",
      "\u001b[36m(RayTrainWorker pid=4109740)\u001b[0m     }, \n",
      "\u001b[36m(RayTrainWorker pid=4109740)\u001b[0m     \"zero_optimization\": {\n",
      "\u001b[36m(RayTrainWorker pid=4109740)\u001b[0m         \"stage\": 3, \n",
      "\u001b[36m(RayTrainWorker pid=4109740)\u001b[0m         \"offload_optimizer\": {\n",
      "\u001b[36m(RayTrainWorker pid=4109740)\u001b[0m             \"device\": \"cpu\", \n",
      "\u001b[36m(RayTrainWorker pid=4109740)\u001b[0m             \"pin_memory\": true\n",
      "\u001b[36m(RayTrainWorker pid=4109740)\u001b[0m         }, \n",
      "\u001b[36m(RayTrainWorker pid=4109740)\u001b[0m         \"overlap_comm\": true, \n",
      "\u001b[36m(RayTrainWorker pid=4109740)\u001b[0m         \"contiguous_gradients\": true, \n",
      "\u001b[36m(RayTrainWorker pid=4109740)\u001b[0m         \"reduce_bucket_size\": 1.677722e+07, \n",
      "\u001b[36m(RayTrainWorker pid=4109740)\u001b[0m         \"stage3_prefetch_bucket_size\": 1.509949e+07, \n",
      "\u001b[36m(RayTrainWorker pid=4109740)\u001b[0m         \"stage3_param_persistence_threshold\": 4.096000e+04, \n",
      "\u001b[36m(RayTrainWorker pid=4109740)\u001b[0m         \"gather_16bit_weights_on_model_save\": true, \n",
      "\u001b[36m(RayTrainWorker pid=4109740)\u001b[0m         \"round_robin_gradients\": true\n",
      "\u001b[36m(RayTrainWorker pid=4109740)\u001b[0m     }, \n",
      "\u001b[36m(RayTrainWorker pid=4109740)\u001b[0m     \"gradient_accumulation_steps\": 1, \n",
      "\u001b[36m(RayTrainWorker pid=4109740)\u001b[0m     \"gradient_clipping\": 1.0, \n",
      "\u001b[36m(RayTrainWorker pid=4109740)\u001b[0m     \"steps_per_print\": 10, \n",
      "\u001b[36m(RayTrainWorker pid=4109740)\u001b[0m     \"train_batch_size\": 32, \n",
      "\u001b[36m(RayTrainWorker pid=4109740)\u001b[0m     \"train_micro_batch_size_per_gpu\": 16, \n",
      "\u001b[36m(RayTrainWorker pid=4109740)\u001b[0m     \"wall_clock_breakdown\": false\n",
      "\u001b[36m(RayTrainWorker pid=4109740)\u001b[0m }\n"
     ]
    },
    {
     "name": "stderr",
     "output_type": "stream",
     "text": [
      "\u001b[36m(SplitCoordinator pid=4110157)\u001b[0m Executing DAG InputDataBuffer[Input] -> TaskPoolMapOperator[MapBatches(split_text)->MapBatches(tokenize)] -> OutputSplitter[split(2, equal=True)]\n",
      "\u001b[36m(SplitCoordinator pid=4110157)\u001b[0m Execution config: ExecutionOptions(resource_limits=ExecutionResources(cpu=None, gpu=None, object_store_memory=None), exclude_resources=ExecutionResources(cpu=5.0, gpu=2.0, object_store_memory=0.0), locality_with_output=['ebb69d1f227a3ae2d8c10cf5364cdd3d721490cfa146ad3a2e84a909', 'ebb69d1f227a3ae2d8c10cf5364cdd3d721490cfa146ad3a2e84a909'], preserve_order=False, actor_locality_enabled=True, verbose_progress=False)\n",
      "\u001b[36m(SplitCoordinator pid=4110157)\u001b[0m Tip: For detailed progress reporting, run `ray.data.DataContext.get_current().execution_options.verbose_progress = True`\n",
      "\u001b[36m(MapBatches(split_text)->MapBatches(tokenize) pid=2953901)\u001b[0m /home/jupyter/.local/lib/python3.10/site-packages/huggingface_hub/file_download.py:795: FutureWarning: `resume_download` is deprecated and will be removed in version 1.0.0. Downloads always resume when possible. If you want to force a new download, use `force_download=True`.\n",
      "\u001b[36m(MapBatches(split_text)->MapBatches(tokenize) pid=2953901)\u001b[0m   warnings.warn(\n",
      "\u001b[36m(RayTrainWorker pid=4109740)\u001b[0m /home/jupyter/.local/lib/python3.10/site-packages/torch/utils/checkpoint.py:429: UserWarning: torch.utils.checkpoint: please pass in use_reentrant=True or use_reentrant=False explicitly. The default value of use_reentrant will be updated to be False in the future. To maintain current behavior, pass use_reentrant=True. It is recommended that you use use_reentrant=False. Refer to docs for more details on the differences between the two variants.\n",
      "\u001b[36m(RayTrainWorker pid=4109740)\u001b[0m /var/tmp/ray/session_2025-02-17_09-23-41_688994_2604400/runtime_resources/pip/a8786a8435aa1fe4e7abf24f81ef0a0191508152/virtualenv/lib/python3.10/site-packages/deepspeed/runtime/zero/stage3.py:1330: UserWarning: The torch.cuda.*DtypeTensor constructors are no longer recommended. It's best to use methods such as torch.tensor(data, dtype=*, device='cuda') to create tensors. (Triggered internally at ../torch/csrc/tensor/python_tensor.cpp:83.)\n",
      "\u001b[36m(RayTrainWorker pid=4109740)\u001b[0m   total_norm_cuda = get_accelerator().FloatTensor([float(total_norm)])\n",
      "\u001b[36m(RayTrainWorker pid=4109741)\u001b[0m   warnings.warn(\u001b[32m [repeated 2x across cluster]\u001b[0m\n",
      "\u001b[36m(RayTrainWorker pid=4109741)\u001b[0m /home/jupyter/.local/lib/python3.10/site-packages/torch/utils/checkpoint.py:429: UserWarning: torch.utils.checkpoint: please pass in use_reentrant=True or use_reentrant=False explicitly. The default value of use_reentrant will be updated to be False in the future. To maintain current behavior, pass use_reentrant=True. It is recommended that you use use_reentrant=False. Refer to docs for more details on the differences between the two variants.\n"
     ]
    },
    {
     "name": "stdout",
     "output_type": "stream",
     "text": [
      "\u001b[36m(RayTrainWorker pid=4109740)\u001b[0m [2025-02-17 13:02:54,758] [INFO] [loss_scaler.py:197:update_scale] Consecutive hysteresis is enabled. Restoring hysteresis to 4\n",
      "\u001b[36m(RayTrainWorker pid=4109740)\u001b[0m [2025-02-17 13:03:00,652] [WARNING] [stage3.py:1993:step] 1 pytorch allocator cache flushes since last step. this happens when there is high memory pressure and is detrimental to performance. if this is happening frequently consider adjusting settings to reduce memory consumption. If you are unable to make the cache flushes go away consider adding get_accelerator().empty_cache() calls in your training loop to ensure that all ranks flush their caches at the same time\n",
      "\u001b[36m(RayTrainWorker pid=4109740)\u001b[0m {'loss': 11.5273, 'learning_rate': 1.9896907216494847e-05, 'epoch': 0.01}\n"
     ]
    },
    {
     "name": "stderr",
     "output_type": "stream",
     "text": [
      "\u001b[36m(RayTrainWorker pid=4109740)\u001b[0m /home/jupyter/.local/lib/python3.10/site-packages/torch/utils/checkpoint.py:429: UserWarning: torch.utils.checkpoint: please pass in use_reentrant=True or use_reentrant=False explicitly. The default value of use_reentrant will be updated to be False in the future. To maintain current behavior, pass use_reentrant=True. It is recommended that you use use_reentrant=False. Refer to docs for more details on the differences between the two variants.\n",
      "\u001b[36m(RayTrainWorker pid=4109741)\u001b[0m /var/tmp/ray/session_2025-02-17_09-23-41_688994_2604400/runtime_resources/pip/a8786a8435aa1fe4e7abf24f81ef0a0191508152/virtualenv/lib/python3.10/site-packages/deepspeed/runtime/zero/stage3.py:1330: UserWarning: The torch.cuda.*DtypeTensor constructors are no longer recommended. It's best to use methods such as torch.tensor(data, dtype=*, device='cuda') to create tensors. (Triggered internally at ../torch/csrc/tensor/python_tensor.cpp:83.)\n",
      "\u001b[36m(RayTrainWorker pid=4109741)\u001b[0m   total_norm_cuda = get_accelerator().FloatTensor([float(total_norm)])\n",
      "\u001b[36m(RayTrainWorker pid=4109740)\u001b[0m   warnings.warn(\n",
      "\u001b[36m(RayTrainWorker pid=4109741)\u001b[0m   warnings.warn(\n"
     ]
    },
    {
     "name": "stdout",
     "output_type": "stream",
     "text": [
      "\u001b[36m(RayTrainWorker pid=4109740)\u001b[0m [2025-02-17 13:03:28,329] [INFO] [loss_scaler.py:197:update_scale] Consecutive hysteresis is enabled. Restoring hysteresis to 4\n",
      "\u001b[36m(RayTrainWorker pid=4109740)\u001b[0m [2025-02-17 13:03:34,205] [WARNING] [stage3.py:1993:step] 1 pytorch allocator cache flushes since last step. this happens when there is high memory pressure and is detrimental to performance. if this is happening frequently consider adjusting settings to reduce memory consumption. If you are unable to make the cache flushes go away consider adding get_accelerator().empty_cache() calls in your training loop to ensure that all ranks flush their caches at the same time\n",
      "\u001b[36m(RayTrainWorker pid=4109740)\u001b[0m {'loss': 6.9746, 'learning_rate': 1.9793814432989692e-05, 'epoch': 0.01}\n"
     ]
    },
    {
     "name": "stderr",
     "output_type": "stream",
     "text": [
      "\u001b[36m(RayTrainWorker pid=4109740)\u001b[0m /home/jupyter/.local/lib/python3.10/site-packages/torch/utils/checkpoint.py:429: UserWarning: torch.utils.checkpoint: please pass in use_reentrant=True or use_reentrant=False explicitly. The default value of use_reentrant will be updated to be False in the future. To maintain current behavior, pass use_reentrant=True. It is recommended that you use use_reentrant=False. Refer to docs for more details on the differences between the two variants.\u001b[32m [repeated 2x across cluster]\u001b[0m\n",
      "\u001b[36m(RayTrainWorker pid=4109740)\u001b[0m   warnings.warn(\n",
      "\u001b[36m(RayTrainWorker pid=4109741)\u001b[0m   warnings.warn(\n"
     ]
    },
    {
     "name": "stdout",
     "output_type": "stream",
     "text": [
      "\u001b[36m(RayTrainWorker pid=4109740)\u001b[0m [2025-02-17 13:04:01,558] [INFO] [loss_scaler.py:197:update_scale] Consecutive hysteresis is enabled. Restoring hysteresis to 4\n"
     ]
    },
    {
     "name": "stderr",
     "output_type": "stream",
     "text": [
      "\u001b[36m(RayTrainWorker pid=4109740)\u001b[0m /home/jupyter/.local/lib/python3.10/site-packages/torch/utils/checkpoint.py:429: UserWarning: torch.utils.checkpoint: please pass in use_reentrant=True or use_reentrant=False explicitly. The default value of use_reentrant will be updated to be False in the future. To maintain current behavior, pass use_reentrant=True. It is recommended that you use use_reentrant=False. Refer to docs for more details on the differences between the two variants.\u001b[32m [repeated 2x across cluster]\u001b[0m\n",
      "\u001b[36m(RayTrainWorker pid=4109740)\u001b[0m   warnings.warn(\n",
      "\u001b[36m(RayTrainWorker pid=4109741)\u001b[0m   warnings.warn(\n"
     ]
    },
    {
     "name": "stdout",
     "output_type": "stream",
     "text": [
      "\u001b[36m(RayTrainWorker pid=4109740)\u001b[0m {'loss': 3.5322, 'learning_rate': 1.969072164948454e-05, 'epoch': 0.02}\n",
      "\u001b[36m(RayTrainWorker pid=4109740)\u001b[0m [2025-02-17 13:04:34,455] [INFO] [loss_scaler.py:197:update_scale] Consecutive hysteresis is enabled. Restoring hysteresis to 4\n"
     ]
    },
    {
     "name": "stderr",
     "output_type": "stream",
     "text": [
      "\u001b[36m(RayTrainWorker pid=4109740)\u001b[0m /home/jupyter/.local/lib/python3.10/site-packages/torch/utils/checkpoint.py:429: UserWarning: torch.utils.checkpoint: please pass in use_reentrant=True or use_reentrant=False explicitly. The default value of use_reentrant will be updated to be False in the future. To maintain current behavior, pass use_reentrant=True. It is recommended that you use use_reentrant=False. Refer to docs for more details on the differences between the two variants.\u001b[32m [repeated 2x across cluster]\u001b[0m\n",
      "\u001b[36m(RayTrainWorker pid=4109740)\u001b[0m   warnings.warn(\n",
      "\u001b[36m(RayTrainWorker pid=4109741)\u001b[0m   warnings.warn(\n"
     ]
    },
    {
     "name": "stdout",
     "output_type": "stream",
     "text": [
      "\u001b[36m(RayTrainWorker pid=4109740)\u001b[0m {'loss': 0.5276, 'learning_rate': 1.9587628865979382e-05, 'epoch': 0.02}\n",
      "\u001b[36m(RayTrainWorker pid=4109740)\u001b[0m [2025-02-17 13:05:07,008] [INFO] [loss_scaler.py:197:update_scale] Consecutive hysteresis is enabled. Restoring hysteresis to 4\n"
     ]
    },
    {
     "name": "stderr",
     "output_type": "stream",
     "text": [
      "\u001b[36m(RayTrainWorker pid=4109740)\u001b[0m /home/jupyter/.local/lib/python3.10/site-packages/torch/utils/checkpoint.py:429: UserWarning: torch.utils.checkpoint: please pass in use_reentrant=True or use_reentrant=False explicitly. The default value of use_reentrant will be updated to be False in the future. To maintain current behavior, pass use_reentrant=True. It is recommended that you use use_reentrant=False. Refer to docs for more details on the differences between the two variants.\u001b[32m [repeated 2x across cluster]\u001b[0m\n",
      "\u001b[36m(RayTrainWorker pid=4109740)\u001b[0m   warnings.warn(\n",
      "\u001b[36m(RayTrainWorker pid=4109741)\u001b[0m   warnings.warn(\n"
     ]
    },
    {
     "name": "stdout",
     "output_type": "stream",
     "text": [
      "\u001b[36m(RayTrainWorker pid=4109740)\u001b[0m {'loss': 0.2358, 'learning_rate': 1.9484536082474227e-05, 'epoch': 0.03}\n",
      "\u001b[36m(RayTrainWorker pid=4109740)\u001b[0m [2025-02-17 13:05:39,745] [INFO] [loss_scaler.py:197:update_scale] Consecutive hysteresis is enabled. Restoring hysteresis to 4\n"
     ]
    },
    {
     "name": "stderr",
     "output_type": "stream",
     "text": [
      "\u001b[36m(RayTrainWorker pid=4109740)\u001b[0m /home/jupyter/.local/lib/python3.10/site-packages/torch/utils/checkpoint.py:429: UserWarning: torch.utils.checkpoint: please pass in use_reentrant=True or use_reentrant=False explicitly. The default value of use_reentrant will be updated to be False in the future. To maintain current behavior, pass use_reentrant=True. It is recommended that you use use_reentrant=False. Refer to docs for more details on the differences between the two variants.\u001b[32m [repeated 2x across cluster]\u001b[0m\n",
      "\u001b[36m(RayTrainWorker pid=4109740)\u001b[0m   warnings.warn(\n",
      "\u001b[36m(RayTrainWorker pid=4109741)\u001b[0m   warnings.warn(\n"
     ]
    },
    {
     "name": "stdout",
     "output_type": "stream",
     "text": [
      "\u001b[36m(RayTrainWorker pid=4109740)\u001b[0m {'loss': 0.1735, 'learning_rate': 1.9381443298969072e-05, 'epoch': 0.03}\n",
      "\u001b[36m(RayTrainWorker pid=4109740)\u001b[0m [2025-02-17 13:06:12,981] [INFO] [loss_scaler.py:197:update_scale] Consecutive hysteresis is enabled. Restoring hysteresis to 4\n"
     ]
    },
    {
     "name": "stderr",
     "output_type": "stream",
     "text": [
      "\u001b[36m(RayTrainWorker pid=4109740)\u001b[0m /home/jupyter/.local/lib/python3.10/site-packages/torch/utils/checkpoint.py:429: UserWarning: torch.utils.checkpoint: please pass in use_reentrant=True or use_reentrant=False explicitly. The default value of use_reentrant will be updated to be False in the future. To maintain current behavior, pass use_reentrant=True. It is recommended that you use use_reentrant=False. Refer to docs for more details on the differences between the two variants.\u001b[32m [repeated 2x across cluster]\u001b[0m\n",
      "\u001b[36m(RayTrainWorker pid=4109740)\u001b[0m   warnings.warn(\n",
      "\u001b[36m(RayTrainWorker pid=4109741)\u001b[0m   warnings.warn(\n"
     ]
    },
    {
     "name": "stdout",
     "output_type": "stream",
     "text": [
      "\u001b[36m(RayTrainWorker pid=4109740)\u001b[0m {'loss': 0.1713, 'learning_rate': 1.927835051546392e-05, 'epoch': 0.04}\n",
      "\u001b[36m(RayTrainWorker pid=4109740)\u001b[0m [2025-02-17 13:06:46,057] [INFO] [loss_scaler.py:197:update_scale] Consecutive hysteresis is enabled. Restoring hysteresis to 4\n",
      "\u001b[36m(RayTrainWorker pid=4109740)\u001b[0m {'loss': 0.1392, 'learning_rate': 1.9175257731958766e-05, 'epoch': 0.04}\n"
     ]
    },
    {
     "name": "stderr",
     "output_type": "stream",
     "text": [
      "\u001b[36m(RayTrainWorker pid=4109740)\u001b[0m /home/jupyter/.local/lib/python3.10/site-packages/torch/utils/checkpoint.py:429: UserWarning: torch.utils.checkpoint: please pass in use_reentrant=True or use_reentrant=False explicitly. The default value of use_reentrant will be updated to be False in the future. To maintain current behavior, pass use_reentrant=True. It is recommended that you use use_reentrant=False. Refer to docs for more details on the differences between the two variants.\u001b[32m [repeated 2x across cluster]\u001b[0m\n",
      "\u001b[36m(RayTrainWorker pid=4109740)\u001b[0m   warnings.warn(\n",
      "\u001b[36m(RayTrainWorker pid=4109741)\u001b[0m   warnings.warn(\n"
     ]
    },
    {
     "name": "stdout",
     "output_type": "stream",
     "text": [
      "\u001b[36m(RayTrainWorker pid=4109740)\u001b[0m [2025-02-17 13:07:19,263] [INFO] [loss_scaler.py:197:update_scale] Consecutive hysteresis is enabled. Restoring hysteresis to 4\n"
     ]
    },
    {
     "name": "stderr",
     "output_type": "stream",
     "text": [
      "\u001b[36m(RayTrainWorker pid=4109740)\u001b[0m /home/jupyter/.local/lib/python3.10/site-packages/torch/utils/checkpoint.py:429: UserWarning: torch.utils.checkpoint: please pass in use_reentrant=True or use_reentrant=False explicitly. The default value of use_reentrant will be updated to be False in the future. To maintain current behavior, pass use_reentrant=True. It is recommended that you use use_reentrant=False. Refer to docs for more details on the differences between the two variants.\u001b[32m [repeated 2x across cluster]\u001b[0m\n",
      "\u001b[36m(RayTrainWorker pid=4109740)\u001b[0m   warnings.warn(\n",
      "\u001b[36m(RayTrainWorker pid=4109741)\u001b[0m   warnings.warn(\n"
     ]
    },
    {
     "name": "stdout",
     "output_type": "stream",
     "text": [
      "\u001b[36m(RayTrainWorker pid=4109740)\u001b[0m {'loss': 0.114, 'learning_rate': 1.907216494845361e-05, 'epoch': 0.05}\n",
      "\u001b[36m(RayTrainWorker pid=4109740)\u001b[0m [2025-02-17 13:07:52,570] [INFO] [loss_scaler.py:197:update_scale] Consecutive hysteresis is enabled. Restoring hysteresis to 4\n"
     ]
    },
    {
     "name": "stderr",
     "output_type": "stream",
     "text": [
      "\u001b[36m(RayTrainWorker pid=4109740)\u001b[0m /home/jupyter/.local/lib/python3.10/site-packages/torch/utils/checkpoint.py:429: UserWarning: torch.utils.checkpoint: please pass in use_reentrant=True or use_reentrant=False explicitly. The default value of use_reentrant will be updated to be False in the future. To maintain current behavior, pass use_reentrant=True. It is recommended that you use use_reentrant=False. Refer to docs for more details on the differences between the two variants.\u001b[32m [repeated 2x across cluster]\u001b[0m\n",
      "\u001b[36m(RayTrainWorker pid=4109740)\u001b[0m   warnings.warn(\n",
      "\u001b[36m(RayTrainWorker pid=4109741)\u001b[0m   warnings.warn(\n"
     ]
    },
    {
     "name": "stdout",
     "output_type": "stream",
     "text": [
      "\u001b[36m(RayTrainWorker pid=4109740)\u001b[0m [2025-02-17 13:07:58,448] [INFO] [logging.py:96:log_dist] [Rank 0] step=10, skipped=0, lr=[1.8969072164948453e-05], mom=[[0.9, 0.999]]\n",
      "\u001b[36m(RayTrainWorker pid=4109740)\u001b[0m [2025-02-17 13:07:58,449] [INFO] [timer.py:260:stop] epoch=0/micro_step=10/global_step=10, RunningAvgSamplesPerSec=0.9689673198742815, CurrSamplesPerSec=0.9607458457382262, MemAllocated=5.79GB, MaxMemAllocated=14.57GB\n",
      "\u001b[36m(RayTrainWorker pid=4109740)\u001b[0m {'loss': 0.0966, 'learning_rate': 1.8969072164948453e-05, 'epoch': 0.05}\n",
      "\u001b[36m(RayTrainWorker pid=4109740)\u001b[0m [2025-02-17 13:08:25,337] [INFO] [loss_scaler.py:197:update_scale] Consecutive hysteresis is enabled. Restoring hysteresis to 4\n",
      "\u001b[36m(RayTrainWorker pid=4109740)\u001b[0m {'loss': 0.1258, 'learning_rate': 1.88659793814433e-05, 'epoch': 0.06}\n"
     ]
    },
    {
     "name": "stderr",
     "output_type": "stream",
     "text": [
      "\u001b[36m(RayTrainWorker pid=4109740)\u001b[0m /home/jupyter/.local/lib/python3.10/site-packages/torch/utils/checkpoint.py:429: UserWarning: torch.utils.checkpoint: please pass in use_reentrant=True or use_reentrant=False explicitly. The default value of use_reentrant will be updated to be False in the future. To maintain current behavior, pass use_reentrant=True. It is recommended that you use use_reentrant=False. Refer to docs for more details on the differences between the two variants.\u001b[32m [repeated 2x across cluster]\u001b[0m\n",
      "\u001b[36m(RayTrainWorker pid=4109740)\u001b[0m   warnings.warn(\n",
      "\u001b[36m(RayTrainWorker pid=4109741)\u001b[0m   warnings.warn(\n"
     ]
    },
    {
     "name": "stdout",
     "output_type": "stream",
     "text": [
      "\u001b[36m(RayTrainWorker pid=4109740)\u001b[0m [2025-02-17 13:08:58,035] [INFO] [loss_scaler.py:197:update_scale] Consecutive hysteresis is enabled. Restoring hysteresis to 4\n"
     ]
    },
    {
     "name": "stderr",
     "output_type": "stream",
     "text": [
      "\u001b[36m(RayTrainWorker pid=4109740)\u001b[0m /home/jupyter/.local/lib/python3.10/site-packages/torch/utils/checkpoint.py:429: UserWarning: torch.utils.checkpoint: please pass in use_reentrant=True or use_reentrant=False explicitly. The default value of use_reentrant will be updated to be False in the future. To maintain current behavior, pass use_reentrant=True. It is recommended that you use use_reentrant=False. Refer to docs for more details on the differences between the two variants.\u001b[32m [repeated 2x across cluster]\u001b[0m\n",
      "\u001b[36m(RayTrainWorker pid=4109740)\u001b[0m   warnings.warn(\n",
      "\u001b[36m(RayTrainWorker pid=4109741)\u001b[0m   warnings.warn(\n"
     ]
    },
    {
     "name": "stdout",
     "output_type": "stream",
     "text": [
      "\u001b[36m(RayTrainWorker pid=4109740)\u001b[0m {'loss': 0.1317, 'learning_rate': 1.8762886597938147e-05, 'epoch': 0.06}\n",
      "\u001b[36m(RayTrainWorker pid=4109740)\u001b[0m [2025-02-17 13:09:30,832] [INFO] [loss_scaler.py:197:update_scale] Consecutive hysteresis is enabled. Restoring hysteresis to 4\n"
     ]
    },
    {
     "name": "stderr",
     "output_type": "stream",
     "text": [
      "\u001b[36m(RayTrainWorker pid=4109740)\u001b[0m /home/jupyter/.local/lib/python3.10/site-packages/torch/utils/checkpoint.py:429: UserWarning: torch.utils.checkpoint: please pass in use_reentrant=True or use_reentrant=False explicitly. The default value of use_reentrant will be updated to be False in the future. To maintain current behavior, pass use_reentrant=True. It is recommended that you use use_reentrant=False. Refer to docs for more details on the differences between the two variants.\u001b[32m [repeated 2x across cluster]\u001b[0m\n",
      "\u001b[36m(RayTrainWorker pid=4109740)\u001b[0m   warnings.warn(\n",
      "\u001b[36m(RayTrainWorker pid=4109741)\u001b[0m   warnings.warn(\n"
     ]
    },
    {
     "name": "stdout",
     "output_type": "stream",
     "text": [
      "\u001b[36m(RayTrainWorker pid=4109740)\u001b[0m {'loss': 0.118, 'learning_rate': 1.865979381443299e-05, 'epoch': 0.07}\n",
      "\u001b[36m(RayTrainWorker pid=4109740)\u001b[0m [2025-02-17 13:10:03,572] [INFO] [loss_scaler.py:197:update_scale] Consecutive hysteresis is enabled. Restoring hysteresis to 4\n",
      "\u001b[36m(RayTrainWorker pid=4109740)\u001b[0m {'loss': 0.1132, 'learning_rate': 1.8556701030927837e-05, 'epoch': 0.07}\n"
     ]
    },
    {
     "name": "stderr",
     "output_type": "stream",
     "text": [
      "\u001b[36m(RayTrainWorker pid=4109740)\u001b[0m /home/jupyter/.local/lib/python3.10/site-packages/torch/utils/checkpoint.py:429: UserWarning: torch.utils.checkpoint: please pass in use_reentrant=True or use_reentrant=False explicitly. The default value of use_reentrant will be updated to be False in the future. To maintain current behavior, pass use_reentrant=True. It is recommended that you use use_reentrant=False. Refer to docs for more details on the differences between the two variants.\u001b[32m [repeated 2x across cluster]\u001b[0m\n",
      "\u001b[36m(RayTrainWorker pid=4109740)\u001b[0m   warnings.warn(\n",
      "\u001b[36m(RayTrainWorker pid=4109741)\u001b[0m   warnings.warn(\n"
     ]
    },
    {
     "name": "stdout",
     "output_type": "stream",
     "text": [
      "\u001b[36m(RayTrainWorker pid=4109740)\u001b[0m [2025-02-17 13:10:36,314] [INFO] [loss_scaler.py:197:update_scale] Consecutive hysteresis is enabled. Restoring hysteresis to 4\n"
     ]
    },
    {
     "name": "stderr",
     "output_type": "stream",
     "text": [
      "\u001b[36m(RayTrainWorker pid=4109740)\u001b[0m /home/jupyter/.local/lib/python3.10/site-packages/torch/utils/checkpoint.py:429: UserWarning: torch.utils.checkpoint: please pass in use_reentrant=True or use_reentrant=False explicitly. The default value of use_reentrant will be updated to be False in the future. To maintain current behavior, pass use_reentrant=True. It is recommended that you use use_reentrant=False. Refer to docs for more details on the differences between the two variants.\u001b[32m [repeated 2x across cluster]\u001b[0m\n",
      "\u001b[36m(RayTrainWorker pid=4109740)\u001b[0m   warnings.warn(\n",
      "\u001b[36m(RayTrainWorker pid=4109741)\u001b[0m   warnings.warn(\n"
     ]
    },
    {
     "name": "stdout",
     "output_type": "stream",
     "text": [
      "\u001b[36m(RayTrainWorker pid=4109740)\u001b[0m {'loss': 0.1006, 'learning_rate': 1.8453608247422682e-05, 'epoch': 0.08}\n",
      "\u001b[36m(RayTrainWorker pid=4109740)\u001b[0m [2025-02-17 13:11:09,113] [INFO] [loss_scaler.py:197:update_scale] Consecutive hysteresis is enabled. Restoring hysteresis to 4\n"
     ]
    },
    {
     "name": "stderr",
     "output_type": "stream",
     "text": [
      "\u001b[36m(RayTrainWorker pid=4109740)\u001b[0m /home/jupyter/.local/lib/python3.10/site-packages/torch/utils/checkpoint.py:429: UserWarning: torch.utils.checkpoint: please pass in use_reentrant=True or use_reentrant=False explicitly. The default value of use_reentrant will be updated to be False in the future. To maintain current behavior, pass use_reentrant=True. It is recommended that you use use_reentrant=False. Refer to docs for more details on the differences between the two variants.\u001b[32m [repeated 2x across cluster]\u001b[0m\n",
      "\u001b[36m(RayTrainWorker pid=4109740)\u001b[0m   warnings.warn(\n",
      "\u001b[36m(RayTrainWorker pid=4109741)\u001b[0m   warnings.warn(\n"
     ]
    },
    {
     "name": "stdout",
     "output_type": "stream",
     "text": [
      "\u001b[36m(RayTrainWorker pid=4109740)\u001b[0m {'loss': 0.0926, 'learning_rate': 1.8350515463917527e-05, 'epoch': 0.08}\n",
      "\u001b[36m(RayTrainWorker pid=4109740)\u001b[0m [2025-02-17 13:11:41,834] [INFO] [loss_scaler.py:197:update_scale] Consecutive hysteresis is enabled. Restoring hysteresis to 4\n"
     ]
    },
    {
     "name": "stderr",
     "output_type": "stream",
     "text": [
      "\u001b[36m(RayTrainWorker pid=4109740)\u001b[0m /home/jupyter/.local/lib/python3.10/site-packages/torch/utils/checkpoint.py:429: UserWarning: torch.utils.checkpoint: please pass in use_reentrant=True or use_reentrant=False explicitly. The default value of use_reentrant will be updated to be False in the future. To maintain current behavior, pass use_reentrant=True. It is recommended that you use use_reentrant=False. Refer to docs for more details on the differences between the two variants.\u001b[32m [repeated 2x across cluster]\u001b[0m\n",
      "\u001b[36m(RayTrainWorker pid=4109740)\u001b[0m   warnings.warn(\n",
      "\u001b[36m(RayTrainWorker pid=4109741)\u001b[0m   warnings.warn(\n"
     ]
    },
    {
     "name": "stdout",
     "output_type": "stream",
     "text": [
      "\u001b[36m(RayTrainWorker pid=4109740)\u001b[0m {'loss': 0.0996, 'learning_rate': 1.8247422680412372e-05, 'epoch': 0.09}\n",
      "\u001b[36m(RayTrainWorker pid=4109740)\u001b[0m [2025-02-17 13:12:14,635] [INFO] [loss_scaler.py:197:update_scale] Consecutive hysteresis is enabled. Restoring hysteresis to 4\n"
     ]
    },
    {
     "name": "stderr",
     "output_type": "stream",
     "text": [
      "\u001b[36m(RayTrainWorker pid=4109740)\u001b[0m /home/jupyter/.local/lib/python3.10/site-packages/torch/utils/checkpoint.py:429: UserWarning: torch.utils.checkpoint: please pass in use_reentrant=True or use_reentrant=False explicitly. The default value of use_reentrant will be updated to be False in the future. To maintain current behavior, pass use_reentrant=True. It is recommended that you use use_reentrant=False. Refer to docs for more details on the differences between the two variants.\u001b[32m [repeated 2x across cluster]\u001b[0m\n",
      "\u001b[36m(RayTrainWorker pid=4109740)\u001b[0m   warnings.warn(\n",
      "\u001b[36m(RayTrainWorker pid=4109741)\u001b[0m   warnings.warn(\n"
     ]
    },
    {
     "name": "stdout",
     "output_type": "stream",
     "text": [
      "\u001b[36m(RayTrainWorker pid=4109740)\u001b[0m {'loss': 0.0829, 'learning_rate': 1.8144329896907217e-05, 'epoch': 0.09}\n",
      "\u001b[36m(RayTrainWorker pid=4109740)\u001b[0m [2025-02-17 13:12:47,411] [INFO] [loss_scaler.py:197:update_scale] Consecutive hysteresis is enabled. Restoring hysteresis to 4\n"
     ]
    },
    {
     "name": "stderr",
     "output_type": "stream",
     "text": [
      "\u001b[36m(RayTrainWorker pid=4109740)\u001b[0m /home/jupyter/.local/lib/python3.10/site-packages/torch/utils/checkpoint.py:429: UserWarning: torch.utils.checkpoint: please pass in use_reentrant=True or use_reentrant=False explicitly. The default value of use_reentrant will be updated to be False in the future. To maintain current behavior, pass use_reentrant=True. It is recommended that you use use_reentrant=False. Refer to docs for more details on the differences between the two variants.\u001b[32m [repeated 2x across cluster]\u001b[0m\n",
      "\u001b[36m(RayTrainWorker pid=4109740)\u001b[0m   warnings.warn(\n",
      "\u001b[36m(RayTrainWorker pid=4109741)\u001b[0m   warnings.warn(\n"
     ]
    },
    {
     "name": "stdout",
     "output_type": "stream",
     "text": [
      "\u001b[36m(RayTrainWorker pid=4109740)\u001b[0m {'loss': 0.0961, 'learning_rate': 1.8041237113402062e-05, 'epoch': 0.1}\n",
      "\u001b[36m(RayTrainWorker pid=4109740)\u001b[0m [2025-02-17 13:13:20,320] [INFO] [loss_scaler.py:190:update_scale] [deepspeed] OVERFLOW! Rank 0 Skipping step. Attempted loss scale: 256, but hysteresis is 4. Reducing hysteresis to 3\n",
      "\u001b[36m(RayTrainWorker pid=4109740)\u001b[0m [2025-02-17 13:13:20,321] [INFO] [logging.py:96:log_dist] [Rank 0] step=20, skipped=1, lr=[1.8041237113402062e-05], mom=[[0.9, 0.999]]\n",
      "\u001b[36m(RayTrainWorker pid=4109740)\u001b[0m [2025-02-17 13:13:20,321] [INFO] [timer.py:260:stop] epoch=0/micro_step=20/global_step=20, RunningAvgSamplesPerSec=0.982920384956376, CurrSamplesPerSec=1.184623199950376, MemAllocated=5.79GB, MaxMemAllocated=14.57GB\n",
      "\u001b[36m(RayTrainWorker pid=4109740)\u001b[0m {'loss': 0.0871, 'learning_rate': 1.8041237113402062e-05, 'epoch': 0.1}\n"
     ]
    },
    {
     "name": "stderr",
     "output_type": "stream",
     "text": [
      "\u001b[36m(RayTrainWorker pid=4109740)\u001b[0m /home/jupyter/.local/lib/python3.10/site-packages/torch/utils/checkpoint.py:429: UserWarning: torch.utils.checkpoint: please pass in use_reentrant=True or use_reentrant=False explicitly. The default value of use_reentrant will be updated to be False in the future. To maintain current behavior, pass use_reentrant=True. It is recommended that you use use_reentrant=False. Refer to docs for more details on the differences between the two variants.\u001b[32m [repeated 2x across cluster]\u001b[0m\n",
      "\u001b[36m(RayTrainWorker pid=4109740)\u001b[0m   warnings.warn(\n",
      "\u001b[36m(RayTrainWorker pid=4109741)\u001b[0m   warnings.warn(\n",
      "\u001b[36m(RayTrainWorker pid=4109740)\u001b[0m /home/jupyter/.local/lib/python3.10/site-packages/torch/utils/checkpoint.py:429: UserWarning: torch.utils.checkpoint: please pass in use_reentrant=True or use_reentrant=False explicitly. The default value of use_reentrant will be updated to be False in the future. To maintain current behavior, pass use_reentrant=True. It is recommended that you use use_reentrant=False. Refer to docs for more details on the differences between the two variants.\u001b[32m [repeated 2x across cluster]\u001b[0m\n",
      "\u001b[36m(RayTrainWorker pid=4109740)\u001b[0m   warnings.warn(\n",
      "\u001b[36m(RayTrainWorker pid=4109741)\u001b[0m   warnings.warn(\n"
     ]
    },
    {
     "name": "stdout",
     "output_type": "stream",
     "text": [
      "\u001b[36m(RayTrainWorker pid=4109740)\u001b[0m [2025-02-17 13:13:47,921] [INFO] [loss_scaler.py:190:update_scale] [deepspeed] OVERFLOW! Rank 0 Skipping step. Attempted loss scale: 256, but hysteresis is 3. Reducing hysteresis to 2\n",
      "\u001b[36m(RayTrainWorker pid=4109740)\u001b[0m {'loss': 0.0908, 'learning_rate': 1.8041237113402062e-05, 'epoch': 0.11}\n"
     ]
    },
    {
     "name": "stderr",
     "output_type": "stream",
     "text": [
      "\u001b[36m(RayTrainWorker pid=4109740)\u001b[0m /home/jupyter/.local/lib/python3.10/site-packages/torch/utils/checkpoint.py:429: UserWarning: torch.utils.checkpoint: please pass in use_reentrant=True or use_reentrant=False explicitly. The default value of use_reentrant will be updated to be False in the future. To maintain current behavior, pass use_reentrant=True. It is recommended that you use use_reentrant=False. Refer to docs for more details on the differences between the two variants.\u001b[32m [repeated 2x across cluster]\u001b[0m\n",
      "\u001b[36m(RayTrainWorker pid=4109740)\u001b[0m   warnings.warn(\n",
      "\u001b[36m(RayTrainWorker pid=4109741)\u001b[0m   warnings.warn(\n"
     ]
    },
    {
     "name": "stdout",
     "output_type": "stream",
     "text": [
      "\u001b[36m(RayTrainWorker pid=4109740)\u001b[0m [2025-02-17 13:14:15,080] [INFO] [loss_scaler.py:190:update_scale] [deepspeed] OVERFLOW! Rank 0 Skipping step. Attempted loss scale: 256, but hysteresis is 2. Reducing hysteresis to 1\n",
      "\u001b[36m(RayTrainWorker pid=4109740)\u001b[0m {'loss': 0.104, 'learning_rate': 1.8041237113402062e-05, 'epoch': 0.11}\n",
      "\u001b[36m(RayTrainWorker pid=4109740)\u001b[0m [2025-02-17 13:14:42,558] [INFO] [loss_scaler.py:197:update_scale] Consecutive hysteresis is enabled. Restoring hysteresis to 4\n"
     ]
    },
    {
     "name": "stderr",
     "output_type": "stream",
     "text": [
      "\u001b[36m(RayTrainWorker pid=4109740)\u001b[0m /home/jupyter/.local/lib/python3.10/site-packages/torch/utils/checkpoint.py:429: UserWarning: torch.utils.checkpoint: please pass in use_reentrant=True or use_reentrant=False explicitly. The default value of use_reentrant will be updated to be False in the future. To maintain current behavior, pass use_reentrant=True. It is recommended that you use use_reentrant=False. Refer to docs for more details on the differences between the two variants.\u001b[32m [repeated 2x across cluster]\u001b[0m\n",
      "\u001b[36m(RayTrainWorker pid=4109740)\u001b[0m   warnings.warn(\n",
      "\u001b[36m(RayTrainWorker pid=4109741)\u001b[0m   warnings.warn(\n"
     ]
    },
    {
     "name": "stdout",
     "output_type": "stream",
     "text": [
      "\u001b[36m(RayTrainWorker pid=4109740)\u001b[0m [2025-02-17 13:14:48,437] [WARNING] [stage3.py:1993:step] 2 pytorch allocator cache flushes since last step. this happens when there is high memory pressure and is detrimental to performance. if this is happening frequently consider adjusting settings to reduce memory consumption. If you are unable to make the cache flushes go away consider adding get_accelerator().empty_cache() calls in your training loop to ensure that all ranks flush their caches at the same time\n",
      "\u001b[36m(RayTrainWorker pid=4109740)\u001b[0m {'loss': 0.0784, 'learning_rate': 1.793814432989691e-05, 'epoch': 0.12}\n"
     ]
    },
    {
     "name": "stderr",
     "output_type": "stream",
     "text": [
      "\u001b[36m(RayTrainWorker pid=4109740)\u001b[0m /home/jupyter/.local/lib/python3.10/site-packages/torch/utils/checkpoint.py:429: UserWarning: torch.utils.checkpoint: please pass in use_reentrant=True or use_reentrant=False explicitly. The default value of use_reentrant will be updated to be False in the future. To maintain current behavior, pass use_reentrant=True. It is recommended that you use use_reentrant=False. Refer to docs for more details on the differences between the two variants.\u001b[32m [repeated 2x across cluster]\u001b[0m\n",
      "\u001b[36m(RayTrainWorker pid=4109740)\u001b[0m   warnings.warn(\n",
      "\u001b[36m(RayTrainWorker pid=4109741)\u001b[0m   warnings.warn(\n"
     ]
    },
    {
     "name": "stdout",
     "output_type": "stream",
     "text": [
      "\u001b[36m(RayTrainWorker pid=4109740)\u001b[0m [2025-02-17 13:15:15,645] [INFO] [loss_scaler.py:190:update_scale] [deepspeed] OVERFLOW! Rank 0 Skipping step. Attempted loss scale: 256, but hysteresis is 4. Reducing hysteresis to 3\n",
      "\u001b[36m(RayTrainWorker pid=4109740)\u001b[0m {'loss': 0.0944, 'learning_rate': 1.793814432989691e-05, 'epoch': 0.12}\n",
      "\u001b[36m(RayTrainWorker pid=4109740)\u001b[0m [2025-02-17 13:15:43,154] [INFO] [loss_scaler.py:197:update_scale] Consecutive hysteresis is enabled. Restoring hysteresis to 4\n"
     ]
    },
    {
     "name": "stderr",
     "output_type": "stream",
     "text": [
      "\u001b[36m(RayTrainWorker pid=4109740)\u001b[0m /home/jupyter/.local/lib/python3.10/site-packages/torch/utils/checkpoint.py:429: UserWarning: torch.utils.checkpoint: please pass in use_reentrant=True or use_reentrant=False explicitly. The default value of use_reentrant will be updated to be False in the future. To maintain current behavior, pass use_reentrant=True. It is recommended that you use use_reentrant=False. Refer to docs for more details on the differences between the two variants.\u001b[32m [repeated 2x across cluster]\u001b[0m\n",
      "\u001b[36m(RayTrainWorker pid=4109740)\u001b[0m   warnings.warn(\n",
      "\u001b[36m(RayTrainWorker pid=4109741)\u001b[0m   warnings.warn(\n"
     ]
    },
    {
     "name": "stdout",
     "output_type": "stream",
     "text": [
      "\u001b[36m(RayTrainWorker pid=4109740)\u001b[0m [2025-02-17 13:15:49,025] [WARNING] [stage3.py:1993:step] 1 pytorch allocator cache flushes since last step. this happens when there is high memory pressure and is detrimental to performance. if this is happening frequently consider adjusting settings to reduce memory consumption. If you are unable to make the cache flushes go away consider adding get_accelerator().empty_cache() calls in your training loop to ensure that all ranks flush their caches at the same time\n",
      "\u001b[36m(RayTrainWorker pid=4109740)\u001b[0m {'loss': 0.0678, 'learning_rate': 1.7835051546391756e-05, 'epoch': 0.13}\n"
     ]
    },
    {
     "name": "stderr",
     "output_type": "stream",
     "text": [
      "\u001b[36m(RayTrainWorker pid=4109740)\u001b[0m /home/jupyter/.local/lib/python3.10/site-packages/torch/utils/checkpoint.py:429: UserWarning: torch.utils.checkpoint: please pass in use_reentrant=True or use_reentrant=False explicitly. The default value of use_reentrant will be updated to be False in the future. To maintain current behavior, pass use_reentrant=True. It is recommended that you use use_reentrant=False. Refer to docs for more details on the differences between the two variants.\u001b[32m [repeated 2x across cluster]\u001b[0m\n",
      "\u001b[36m(RayTrainWorker pid=4109740)\u001b[0m   warnings.warn(\n",
      "\u001b[36m(RayTrainWorker pid=4109741)\u001b[0m   warnings.warn(\n"
     ]
    },
    {
     "name": "stdout",
     "output_type": "stream",
     "text": [
      "\u001b[36m(RayTrainWorker pid=4109740)\u001b[0m [2025-02-17 13:16:16,440] [INFO] [loss_scaler.py:190:update_scale] [deepspeed] OVERFLOW! Rank 0 Skipping step. Attempted loss scale: 256, but hysteresis is 4. Reducing hysteresis to 3\n",
      "\u001b[36m(RayTrainWorker pid=4109740)\u001b[0m {'loss': 0.1201, 'learning_rate': 1.7835051546391756e-05, 'epoch': 0.13}\n"
     ]
    },
    {
     "name": "stderr",
     "output_type": "stream",
     "text": [
      "\u001b[36m(RayTrainWorker pid=4109740)\u001b[0m /home/jupyter/.local/lib/python3.10/site-packages/torch/utils/checkpoint.py:429: UserWarning: torch.utils.checkpoint: please pass in use_reentrant=True or use_reentrant=False explicitly. The default value of use_reentrant will be updated to be False in the future. To maintain current behavior, pass use_reentrant=True. It is recommended that you use use_reentrant=False. Refer to docs for more details on the differences between the two variants.\u001b[32m [repeated 2x across cluster]\u001b[0m\n",
      "\u001b[36m(RayTrainWorker pid=4109740)\u001b[0m   warnings.warn(\n",
      "\u001b[36m(RayTrainWorker pid=4109741)\u001b[0m   warnings.warn(\n"
     ]
    },
    {
     "name": "stdout",
     "output_type": "stream",
     "text": [
      "\u001b[36m(RayTrainWorker pid=4109740)\u001b[0m [2025-02-17 13:16:44,927] [INFO] [loss_scaler.py:190:update_scale] [deepspeed] OVERFLOW! Rank 0 Skipping step. Attempted loss scale: 256, but hysteresis is 3. Reducing hysteresis to 2\n",
      "\u001b[36m(RayTrainWorker pid=4109740)\u001b[0m {'loss': 0.0868, 'learning_rate': 1.7835051546391756e-05, 'epoch': 0.14}\n",
      "\u001b[36m(RayTrainWorker pid=4109740)\u001b[0m [2025-02-17 13:17:13,379] [INFO] [loss_scaler.py:190:update_scale] [deepspeed] OVERFLOW! Rank 0 Skipping step. Attempted loss scale: 256, but hysteresis is 2. Reducing hysteresis to 1\n",
      "\u001b[36m(RayTrainWorker pid=4109740)\u001b[0m {'loss': 0.0945, 'learning_rate': 1.7835051546391756e-05, 'epoch': 0.14}\n"
     ]
    },
    {
     "name": "stderr",
     "output_type": "stream",
     "text": [
      "\u001b[36m(RayTrainWorker pid=4109740)\u001b[0m /home/jupyter/.local/lib/python3.10/site-packages/torch/utils/checkpoint.py:429: UserWarning: torch.utils.checkpoint: please pass in use_reentrant=True or use_reentrant=False explicitly. The default value of use_reentrant will be updated to be False in the future. To maintain current behavior, pass use_reentrant=True. It is recommended that you use use_reentrant=False. Refer to docs for more details on the differences between the two variants.\u001b[32m [repeated 2x across cluster]\u001b[0m\n",
      "\u001b[36m(RayTrainWorker pid=4109740)\u001b[0m   warnings.warn(\n",
      "\u001b[36m(RayTrainWorker pid=4109741)\u001b[0m   warnings.warn(\n"
     ]
    },
    {
     "name": "stdout",
     "output_type": "stream",
     "text": [
      "\u001b[36m(RayTrainWorker pid=4109740)\u001b[0m [2025-02-17 13:17:41,747] [INFO] [loss_scaler.py:183:update_scale] [deepspeed] OVERFLOW! Rank 0 Skipping step. Attempted loss scale: 256, reducing to 128\n",
      "\u001b[36m(RayTrainWorker pid=4109740)\u001b[0m {'loss': 0.0867, 'learning_rate': 1.7835051546391756e-05, 'epoch': 0.15}\n"
     ]
    },
    {
     "name": "stderr",
     "output_type": "stream",
     "text": [
      "\u001b[36m(RayTrainWorker pid=4109740)\u001b[0m /home/jupyter/.local/lib/python3.10/site-packages/torch/utils/checkpoint.py:429: UserWarning: torch.utils.checkpoint: please pass in use_reentrant=True or use_reentrant=False explicitly. The default value of use_reentrant will be updated to be False in the future. To maintain current behavior, pass use_reentrant=True. It is recommended that you use use_reentrant=False. Refer to docs for more details on the differences between the two variants.\u001b[32m [repeated 2x across cluster]\u001b[0m\n",
      "\u001b[36m(RayTrainWorker pid=4109740)\u001b[0m   warnings.warn(\n",
      "\u001b[36m(RayTrainWorker pid=4109741)\u001b[0m   warnings.warn(\n",
      "\u001b[36m(RayTrainWorker pid=4109740)\u001b[0m /home/jupyter/.local/lib/python3.10/site-packages/torch/utils/checkpoint.py:429: UserWarning: torch.utils.checkpoint: please pass in use_reentrant=True or use_reentrant=False explicitly. The default value of use_reentrant will be updated to be False in the future. To maintain current behavior, pass use_reentrant=True. It is recommended that you use use_reentrant=False. Refer to docs for more details on the differences between the two variants.\u001b[32m [repeated 2x across cluster]\u001b[0m\n",
      "\u001b[36m(RayTrainWorker pid=4109740)\u001b[0m   warnings.warn(\n",
      "\u001b[36m(RayTrainWorker pid=4109741)\u001b[0m   warnings.warn(\n"
     ]
    },
    {
     "name": "stdout",
     "output_type": "stream",
     "text": [
      "\u001b[36m(RayTrainWorker pid=4109740)\u001b[0m [2025-02-17 13:18:09,773] [INFO] [loss_scaler.py:183:update_scale] [deepspeed] OVERFLOW! Rank 0 Skipping step. Attempted loss scale: 128, reducing to 64\n",
      "\u001b[36m(RayTrainWorker pid=4109740)\u001b[0m [2025-02-17 13:18:09,774] [INFO] [logging.py:96:log_dist] [Rank 0] step=30, skipped=9, lr=[1.7835051546391756e-05], mom=[[0.9, 0.999]]\n",
      "\u001b[36m(RayTrainWorker pid=4109740)\u001b[0m [2025-02-17 13:18:09,776] [INFO] [timer.py:260:stop] epoch=0/micro_step=30/global_step=30, RunningAvgSamplesPerSec=1.023528502077135, CurrSamplesPerSec=1.1419909293992954, MemAllocated=5.79GB, MaxMemAllocated=14.57GB\n",
      "\u001b[36m(RayTrainWorker pid=4109740)\u001b[0m {'loss': 0.1029, 'learning_rate': 1.7835051546391756e-05, 'epoch': 0.15}\n"
     ]
    },
    {
     "name": "stderr",
     "output_type": "stream",
     "text": [
      "\u001b[36m(RayTrainWorker pid=4109740)\u001b[0m /home/jupyter/.local/lib/python3.10/site-packages/torch/utils/checkpoint.py:429: UserWarning: torch.utils.checkpoint: please pass in use_reentrant=True or use_reentrant=False explicitly. The default value of use_reentrant will be updated to be False in the future. To maintain current behavior, pass use_reentrant=True. It is recommended that you use use_reentrant=False. Refer to docs for more details on the differences between the two variants.\u001b[32m [repeated 2x across cluster]\u001b[0m\n",
      "\u001b[36m(RayTrainWorker pid=4109740)\u001b[0m   warnings.warn(\n",
      "\u001b[36m(RayTrainWorker pid=4109741)\u001b[0m   warnings.warn(\n"
     ]
    },
    {
     "name": "stdout",
     "output_type": "stream",
     "text": [
      "\u001b[36m(RayTrainWorker pid=4109740)\u001b[0m [2025-02-17 13:18:38,218] [INFO] [loss_scaler.py:183:update_scale] [deepspeed] OVERFLOW! Rank 0 Skipping step. Attempted loss scale: 64, reducing to 32\n",
      "\u001b[36m(RayTrainWorker pid=4109740)\u001b[0m {'loss': 0.0889, 'learning_rate': 1.7835051546391756e-05, 'epoch': 0.16}\n"
     ]
    },
    {
     "name": "stderr",
     "output_type": "stream",
     "text": [
      "\u001b[36m(RayTrainWorker pid=4109740)\u001b[0m /home/jupyter/.local/lib/python3.10/site-packages/torch/utils/checkpoint.py:429: UserWarning: torch.utils.checkpoint: please pass in use_reentrant=True or use_reentrant=False explicitly. The default value of use_reentrant will be updated to be False in the future. To maintain current behavior, pass use_reentrant=True. It is recommended that you use use_reentrant=False. Refer to docs for more details on the differences between the two variants.\u001b[32m [repeated 2x across cluster]\u001b[0m\n",
      "\u001b[36m(RayTrainWorker pid=4109740)\u001b[0m   warnings.warn(\n",
      "\u001b[36m(RayTrainWorker pid=4109741)\u001b[0m   warnings.warn(\n"
     ]
    },
    {
     "name": "stdout",
     "output_type": "stream",
     "text": [
      "\u001b[36m(RayTrainWorker pid=4109740)\u001b[0m [2025-02-17 13:19:06,613] [INFO] [loss_scaler.py:183:update_scale] [deepspeed] OVERFLOW! Rank 0 Skipping step. Attempted loss scale: 32, reducing to 16\n",
      "\u001b[36m(RayTrainWorker pid=4109740)\u001b[0m {'loss': 0.1137, 'learning_rate': 1.7835051546391756e-05, 'epoch': 0.16}\n"
     ]
    },
    {
     "name": "stderr",
     "output_type": "stream",
     "text": [
      "\u001b[36m(RayTrainWorker pid=4109740)\u001b[0m /home/jupyter/.local/lib/python3.10/site-packages/torch/utils/checkpoint.py:429: UserWarning: torch.utils.checkpoint: please pass in use_reentrant=True or use_reentrant=False explicitly. The default value of use_reentrant will be updated to be False in the future. To maintain current behavior, pass use_reentrant=True. It is recommended that you use use_reentrant=False. Refer to docs for more details on the differences between the two variants.\u001b[32m [repeated 2x across cluster]\u001b[0m\n",
      "\u001b[36m(RayTrainWorker pid=4109740)\u001b[0m   warnings.warn(\n",
      "\u001b[36m(RayTrainWorker pid=4109741)\u001b[0m   warnings.warn(\n"
     ]
    },
    {
     "name": "stdout",
     "output_type": "stream",
     "text": [
      "\u001b[36m(RayTrainWorker pid=4109740)\u001b[0m [2025-02-17 13:19:34,630] [INFO] [loss_scaler.py:183:update_scale] [deepspeed] OVERFLOW! Rank 0 Skipping step. Attempted loss scale: 16, reducing to 8\n",
      "\u001b[36m(RayTrainWorker pid=4109740)\u001b[0m {'loss': 0.119, 'learning_rate': 1.7835051546391756e-05, 'epoch': 0.17}\n",
      "\u001b[36m(RayTrainWorker pid=4109740)\u001b[0m [2025-02-17 13:20:02,853] [INFO] [loss_scaler.py:197:update_scale] Consecutive hysteresis is enabled. Restoring hysteresis to 4\n"
     ]
    },
    {
     "name": "stderr",
     "output_type": "stream",
     "text": [
      "\u001b[36m(RayTrainWorker pid=4109740)\u001b[0m /home/jupyter/.local/lib/python3.10/site-packages/torch/utils/checkpoint.py:429: UserWarning: torch.utils.checkpoint: please pass in use_reentrant=True or use_reentrant=False explicitly. The default value of use_reentrant will be updated to be False in the future. To maintain current behavior, pass use_reentrant=True. It is recommended that you use use_reentrant=False. Refer to docs for more details on the differences between the two variants.\u001b[32m [repeated 2x across cluster]\u001b[0m\n",
      "\u001b[36m(RayTrainWorker pid=4109740)\u001b[0m   warnings.warn(\n",
      "\u001b[36m(RayTrainWorker pid=4109741)\u001b[0m   warnings.warn(\n"
     ]
    },
    {
     "name": "stdout",
     "output_type": "stream",
     "text": [
      "\u001b[36m(RayTrainWorker pid=4109740)\u001b[0m [2025-02-17 13:20:08,719] [WARNING] [stage3.py:1993:step] 6 pytorch allocator cache flushes since last step. this happens when there is high memory pressure and is detrimental to performance. if this is happening frequently consider adjusting settings to reduce memory consumption. If you are unable to make the cache flushes go away consider adding get_accelerator().empty_cache() calls in your training loop to ensure that all ranks flush their caches at the same time\n",
      "\u001b[36m(RayTrainWorker pid=4109740)\u001b[0m {'loss': 0.0988, 'learning_rate': 1.7731958762886598e-05, 'epoch': 0.18}\n",
      "\u001b[36m(RayTrainWorker pid=4109740)\u001b[0m [2025-02-17 13:20:37,008] [INFO] [loss_scaler.py:190:update_scale] [deepspeed] OVERFLOW! Rank 0 Skipping step. Attempted loss scale: 8, but hysteresis is 4. Reducing hysteresis to 3\n",
      "\u001b[36m(RayTrainWorker pid=4109740)\u001b[0m {'loss': 0.0898, 'learning_rate': 1.7731958762886598e-05, 'epoch': 0.18}\n"
     ]
    },
    {
     "name": "stderr",
     "output_type": "stream",
     "text": [
      "\u001b[36m(RayTrainWorker pid=4109740)\u001b[0m /home/jupyter/.local/lib/python3.10/site-packages/torch/utils/checkpoint.py:429: UserWarning: torch.utils.checkpoint: please pass in use_reentrant=True or use_reentrant=False explicitly. The default value of use_reentrant will be updated to be False in the future. To maintain current behavior, pass use_reentrant=True. It is recommended that you use use_reentrant=False. Refer to docs for more details on the differences between the two variants.\u001b[32m [repeated 2x across cluster]\u001b[0m\n",
      "\u001b[36m(RayTrainWorker pid=4109740)\u001b[0m   warnings.warn(\n",
      "\u001b[36m(RayTrainWorker pid=4109741)\u001b[0m   warnings.warn(\n"
     ]
    },
    {
     "name": "stdout",
     "output_type": "stream",
     "text": [
      "\u001b[36m(RayTrainWorker pid=4109740)\u001b[0m [2025-02-17 13:21:05,083] [INFO] [loss_scaler.py:197:update_scale] Consecutive hysteresis is enabled. Restoring hysteresis to 4\n"
     ]
    },
    {
     "name": "stderr",
     "output_type": "stream",
     "text": [
      "\u001b[36m(RayTrainWorker pid=4109740)\u001b[0m /home/jupyter/.local/lib/python3.10/site-packages/torch/utils/checkpoint.py:429: UserWarning: torch.utils.checkpoint: please pass in use_reentrant=True or use_reentrant=False explicitly. The default value of use_reentrant will be updated to be False in the future. To maintain current behavior, pass use_reentrant=True. It is recommended that you use use_reentrant=False. Refer to docs for more details on the differences between the two variants.\u001b[32m [repeated 2x across cluster]\u001b[0m\n",
      "\u001b[36m(RayTrainWorker pid=4109740)\u001b[0m   warnings.warn(\n",
      "\u001b[36m(RayTrainWorker pid=4109741)\u001b[0m   warnings.warn(\n"
     ]
    },
    {
     "name": "stdout",
     "output_type": "stream",
     "text": [
      "\u001b[36m(RayTrainWorker pid=4109740)\u001b[0m [2025-02-17 13:21:10,952] [WARNING] [stage3.py:1993:step] 2 pytorch allocator cache flushes since last step. this happens when there is high memory pressure and is detrimental to performance. if this is happening frequently consider adjusting settings to reduce memory consumption. If you are unable to make the cache flushes go away consider adding get_accelerator().empty_cache() calls in your training loop to ensure that all ranks flush their caches at the same time\n",
      "\u001b[36m(RayTrainWorker pid=4109740)\u001b[0m {'loss': 0.0559, 'learning_rate': 1.7628865979381443e-05, 'epoch': 0.19}\n",
      "\u001b[36m(RayTrainWorker pid=4109740)\u001b[0m [2025-02-17 13:21:38,621] [INFO] [loss_scaler.py:197:update_scale] Consecutive hysteresis is enabled. Restoring hysteresis to 4\n"
     ]
    },
    {
     "name": "stderr",
     "output_type": "stream",
     "text": [
      "\u001b[36m(RayTrainWorker pid=4109740)\u001b[0m /home/jupyter/.local/lib/python3.10/site-packages/torch/utils/checkpoint.py:429: UserWarning: torch.utils.checkpoint: please pass in use_reentrant=True or use_reentrant=False explicitly. The default value of use_reentrant will be updated to be False in the future. To maintain current behavior, pass use_reentrant=True. It is recommended that you use use_reentrant=False. Refer to docs for more details on the differences between the two variants.\u001b[32m [repeated 2x across cluster]\u001b[0m\n",
      "\u001b[36m(RayTrainWorker pid=4109740)\u001b[0m   warnings.warn(\n",
      "\u001b[36m(RayTrainWorker pid=4109741)\u001b[0m   warnings.warn(\n"
     ]
    },
    {
     "name": "stdout",
     "output_type": "stream",
     "text": [
      "\u001b[36m(RayTrainWorker pid=4109740)\u001b[0m {'loss': 0.1266, 'learning_rate': 1.752577319587629e-05, 'epoch': 0.19}\n",
      "\u001b[36m(RayTrainWorker pid=4109740)\u001b[0m [2025-02-17 13:22:12,144] [INFO] [loss_scaler.py:197:update_scale] Consecutive hysteresis is enabled. Restoring hysteresis to 4\n"
     ]
    },
    {
     "name": "stderr",
     "output_type": "stream",
     "text": [
      "\u001b[36m(RayTrainWorker pid=4109740)\u001b[0m /home/jupyter/.local/lib/python3.10/site-packages/torch/utils/checkpoint.py:429: UserWarning: torch.utils.checkpoint: please pass in use_reentrant=True or use_reentrant=False explicitly. The default value of use_reentrant will be updated to be False in the future. To maintain current behavior, pass use_reentrant=True. It is recommended that you use use_reentrant=False. Refer to docs for more details on the differences between the two variants.\u001b[32m [repeated 2x across cluster]\u001b[0m\n",
      "\u001b[36m(RayTrainWorker pid=4109740)\u001b[0m   warnings.warn(\n",
      "\u001b[36m(RayTrainWorker pid=4109741)\u001b[0m   warnings.warn(\n"
     ]
    },
    {
     "name": "stdout",
     "output_type": "stream",
     "text": [
      "\u001b[36m(RayTrainWorker pid=4109740)\u001b[0m {'loss': 0.1205, 'learning_rate': 1.7422680412371137e-05, 'epoch': 0.2}\n"
     ]
    },
    {
     "name": "stderr",
     "output_type": "stream",
     "text": [
      "\u001b[36m(RayTrainWorker pid=4109740)\u001b[0m /home/jupyter/.local/lib/python3.10/site-packages/torch/utils/checkpoint.py:429: UserWarning: torch.utils.checkpoint: please pass in use_reentrant=True or use_reentrant=False explicitly. The default value of use_reentrant will be updated to be False in the future. To maintain current behavior, pass use_reentrant=True. It is recommended that you use use_reentrant=False. Refer to docs for more details on the differences between the two variants.\u001b[32m [repeated 2x across cluster]\u001b[0m\n",
      "\u001b[36m(RayTrainWorker pid=4109740)\u001b[0m   warnings.warn(\n",
      "\u001b[36m(RayTrainWorker pid=4109741)\u001b[0m   warnings.warn(\n"
     ]
    },
    {
     "name": "stdout",
     "output_type": "stream",
     "text": [
      "\u001b[36m(RayTrainWorker pid=4109740)\u001b[0m [2025-02-17 13:22:45,811] [INFO] [loss_scaler.py:190:update_scale] [deepspeed] OVERFLOW! Rank 0 Skipping step. Attempted loss scale: 8, but hysteresis is 4. Reducing hysteresis to 3\n",
      "\u001b[36m(RayTrainWorker pid=4109740)\u001b[0m {'loss': 0.1002, 'learning_rate': 1.7422680412371137e-05, 'epoch': 0.2}\n"
     ]
    },
    {
     "name": "stderr",
     "output_type": "stream",
     "text": [
      "\u001b[36m(RayTrainWorker pid=4109740)\u001b[0m /home/jupyter/.local/lib/python3.10/site-packages/torch/utils/checkpoint.py:429: UserWarning: torch.utils.checkpoint: please pass in use_reentrant=True or use_reentrant=False explicitly. The default value of use_reentrant will be updated to be False in the future. To maintain current behavior, pass use_reentrant=True. It is recommended that you use use_reentrant=False. Refer to docs for more details on the differences between the two variants.\u001b[32m [repeated 2x across cluster]\u001b[0m\n",
      "\u001b[36m(RayTrainWorker pid=4109740)\u001b[0m   warnings.warn(\n",
      "\u001b[36m(RayTrainWorker pid=4109741)\u001b[0m   warnings.warn(\n"
     ]
    },
    {
     "name": "stdout",
     "output_type": "stream",
     "text": [
      "\u001b[36m(RayTrainWorker pid=4109740)\u001b[0m [2025-02-17 13:23:14,036] [INFO] [loss_scaler.py:190:update_scale] [deepspeed] OVERFLOW! Rank 0 Skipping step. Attempted loss scale: 8, but hysteresis is 3. Reducing hysteresis to 2\n",
      "\u001b[36m(RayTrainWorker pid=4109740)\u001b[0m [2025-02-17 13:23:14,037] [INFO] [logging.py:96:log_dist] [Rank 0] step=40, skipped=15, lr=[1.7422680412371137e-05], mom=[[0.9, 0.999]]\n",
      "\u001b[36m(RayTrainWorker pid=4109740)\u001b[0m [2025-02-17 13:23:14,037] [INFO] [timer.py:260:stop] epoch=0/micro_step=40/global_step=40, RunningAvgSamplesPerSec=1.0308533852762805, CurrSamplesPerSec=1.1340074429728741, MemAllocated=5.79GB, MaxMemAllocated=14.57GB\n",
      "\u001b[36m(RayTrainWorker pid=4109740)\u001b[0m {'loss': 0.1063, 'learning_rate': 1.7422680412371137e-05, 'epoch': 0.21}\n",
      "\u001b[36m(RayTrainWorker pid=4109740)\u001b[0m [2025-02-17 13:23:42,314] [INFO] [loss_scaler.py:190:update_scale] [deepspeed] OVERFLOW! Rank 0 Skipping step. Attempted loss scale: 8, but hysteresis is 2. Reducing hysteresis to 1\n",
      "\u001b[36m(RayTrainWorker pid=4109740)\u001b[0m {'loss': 0.0963, 'learning_rate': 1.7422680412371137e-05, 'epoch': 0.21}\n"
     ]
    },
    {
     "name": "stderr",
     "output_type": "stream",
     "text": [
      "\u001b[36m(RayTrainWorker pid=4109740)\u001b[0m /home/jupyter/.local/lib/python3.10/site-packages/torch/utils/checkpoint.py:429: UserWarning: torch.utils.checkpoint: please pass in use_reentrant=True or use_reentrant=False explicitly. The default value of use_reentrant will be updated to be False in the future. To maintain current behavior, pass use_reentrant=True. It is recommended that you use use_reentrant=False. Refer to docs for more details on the differences between the two variants.\u001b[32m [repeated 2x across cluster]\u001b[0m\n",
      "\u001b[36m(RayTrainWorker pid=4109740)\u001b[0m   warnings.warn(\n",
      "\u001b[36m(RayTrainWorker pid=4109741)\u001b[0m   warnings.warn(\n",
      "\u001b[36m(RayTrainWorker pid=4109740)\u001b[0m /home/jupyter/.local/lib/python3.10/site-packages/torch/utils/checkpoint.py:429: UserWarning: torch.utils.checkpoint: please pass in use_reentrant=True or use_reentrant=False explicitly. The default value of use_reentrant will be updated to be False in the future. To maintain current behavior, pass use_reentrant=True. It is recommended that you use use_reentrant=False. Refer to docs for more details on the differences between the two variants.\u001b[32m [repeated 2x across cluster]\u001b[0m\n",
      "\u001b[36m(RayTrainWorker pid=4109740)\u001b[0m   warnings.warn(\n",
      "\u001b[36m(RayTrainWorker pid=4109741)\u001b[0m   warnings.warn(\n"
     ]
    },
    {
     "name": "stdout",
     "output_type": "stream",
     "text": [
      "\u001b[36m(RayTrainWorker pid=4109740)\u001b[0m [2025-02-17 13:24:10,236] [INFO] [loss_scaler.py:183:update_scale] [deepspeed] OVERFLOW! Rank 0 Skipping step. Attempted loss scale: 8, reducing to 4\n",
      "\u001b[36m(RayTrainWorker pid=4109740)\u001b[0m {'loss': 0.1067, 'learning_rate': 1.7422680412371137e-05, 'epoch': 0.22}\n",
      "\u001b[36m(RayTrainWorker pid=4109740)\u001b[0m [2025-02-17 13:24:38,383] [INFO] [loss_scaler.py:197:update_scale] Consecutive hysteresis is enabled. Restoring hysteresis to 4\n"
     ]
    },
    {
     "name": "stderr",
     "output_type": "stream",
     "text": [
      "\u001b[36m(RayTrainWorker pid=4109740)\u001b[0m /home/jupyter/.local/lib/python3.10/site-packages/torch/utils/checkpoint.py:429: UserWarning: torch.utils.checkpoint: please pass in use_reentrant=True or use_reentrant=False explicitly. The default value of use_reentrant will be updated to be False in the future. To maintain current behavior, pass use_reentrant=True. It is recommended that you use use_reentrant=False. Refer to docs for more details on the differences between the two variants.\u001b[32m [repeated 2x across cluster]\u001b[0m\n",
      "\u001b[36m(RayTrainWorker pid=4109740)\u001b[0m   warnings.warn(\n",
      "\u001b[36m(RayTrainWorker pid=4109741)\u001b[0m   warnings.warn(\n"
     ]
    },
    {
     "name": "stdout",
     "output_type": "stream",
     "text": [
      "\u001b[36m(RayTrainWorker pid=4109740)\u001b[0m [2025-02-17 13:24:44,311] [WARNING] [stage3.py:1993:step] 3 pytorch allocator cache flushes since last step. this happens when there is high memory pressure and is detrimental to performance. if this is happening frequently consider adjusting settings to reduce memory consumption. If you are unable to make the cache flushes go away consider adding get_accelerator().empty_cache() calls in your training loop to ensure that all ranks flush their caches at the same time\n",
      "\u001b[36m(RayTrainWorker pid=4109740)\u001b[0m {'loss': 0.0757, 'learning_rate': 1.731958762886598e-05, 'epoch': 0.22}\n",
      "\u001b[36m(RayTrainWorker pid=4109740)\u001b[0m [2025-02-17 13:25:12,060] [INFO] [loss_scaler.py:197:update_scale] Consecutive hysteresis is enabled. Restoring hysteresis to 4\n",
      "\u001b[36m(RayTrainWorker pid=4109740)\u001b[0m {'loss': 0.1171, 'learning_rate': 1.7216494845360827e-05, 'epoch': 0.23}\n"
     ]
    },
    {
     "name": "stderr",
     "output_type": "stream",
     "text": [
      "\u001b[36m(RayTrainWorker pid=4109741)\u001b[0m   warnings.warn(\n",
      "\u001b[36m(RayTrainWorker pid=4109741)\u001b[0m /home/jupyter/.local/lib/python3.10/site-packages/torch/utils/checkpoint.py:429: UserWarning: torch.utils.checkpoint: please pass in use_reentrant=True or use_reentrant=False explicitly. The default value of use_reentrant will be updated to be False in the future. To maintain current behavior, pass use_reentrant=True. It is recommended that you use use_reentrant=False. Refer to docs for more details on the differences between the two variants.\u001b[32m [repeated 2x across cluster]\u001b[0m\n",
      "\u001b[36m(RayTrainWorker pid=4109740)\u001b[0m   warnings.warn(\n"
     ]
    },
    {
     "name": "stdout",
     "output_type": "stream",
     "text": [
      "\u001b[36m(RayTrainWorker pid=4109740)\u001b[0m [2025-02-17 13:25:45,479] [INFO] [loss_scaler.py:197:update_scale] Consecutive hysteresis is enabled. Restoring hysteresis to 4\n",
      "\u001b[36m(RayTrainWorker pid=4109740)\u001b[0m {'loss': 0.1027, 'learning_rate': 1.7113402061855672e-05, 'epoch': 0.23}\n"
     ]
    },
    {
     "name": "stderr",
     "output_type": "stream",
     "text": [
      "\u001b[36m(RayTrainWorker pid=4109740)\u001b[0m   warnings.warn(\n",
      "\u001b[36m(RayTrainWorker pid=4109740)\u001b[0m /home/jupyter/.local/lib/python3.10/site-packages/torch/utils/checkpoint.py:429: UserWarning: torch.utils.checkpoint: please pass in use_reentrant=True or use_reentrant=False explicitly. The default value of use_reentrant will be updated to be False in the future. To maintain current behavior, pass use_reentrant=True. It is recommended that you use use_reentrant=False. Refer to docs for more details on the differences between the two variants.\u001b[32m [repeated 2x across cluster]\u001b[0m\n",
      "\u001b[36m(RayTrainWorker pid=4109741)\u001b[0m   warnings.warn(\n"
     ]
    },
    {
     "name": "stdout",
     "output_type": "stream",
     "text": [
      "\u001b[36m(RayTrainWorker pid=4109740)\u001b[0m [2025-02-17 13:26:19,096] [INFO] [loss_scaler.py:197:update_scale] Consecutive hysteresis is enabled. Restoring hysteresis to 4\n"
     ]
    },
    {
     "name": "stderr",
     "output_type": "stream",
     "text": [
      "\u001b[36m(RayTrainWorker pid=4109740)\u001b[0m /home/jupyter/.local/lib/python3.10/site-packages/torch/utils/checkpoint.py:429: UserWarning: torch.utils.checkpoint: please pass in use_reentrant=True or use_reentrant=False explicitly. The default value of use_reentrant will be updated to be False in the future. To maintain current behavior, pass use_reentrant=True. It is recommended that you use use_reentrant=False. Refer to docs for more details on the differences between the two variants.\u001b[32m [repeated 2x across cluster]\u001b[0m\n",
      "\u001b[36m(RayTrainWorker pid=4109740)\u001b[0m   warnings.warn(\n",
      "\u001b[36m(RayTrainWorker pid=4109741)\u001b[0m   warnings.warn(\n"
     ]
    },
    {
     "name": "stdout",
     "output_type": "stream",
     "text": [
      "\u001b[36m(RayTrainWorker pid=4109740)\u001b[0m {'loss': 0.121, 'learning_rate': 1.7010309278350517e-05, 'epoch': 0.24}\n"
     ]
    },
    {
     "name": "stderr",
     "output_type": "stream",
     "text": [
      "\u001b[36m(RayTrainWorker pid=4109740)\u001b[0m /home/jupyter/.local/lib/python3.10/site-packages/torch/utils/checkpoint.py:429: UserWarning: torch.utils.checkpoint: please pass in use_reentrant=True or use_reentrant=False explicitly. The default value of use_reentrant will be updated to be False in the future. To maintain current behavior, pass use_reentrant=True. It is recommended that you use use_reentrant=False. Refer to docs for more details on the differences between the two variants.\u001b[32m [repeated 2x across cluster]\u001b[0m\n",
      "\u001b[36m(RayTrainWorker pid=4109740)\u001b[0m   warnings.warn(\n",
      "\u001b[36m(RayTrainWorker pid=4109741)\u001b[0m   warnings.warn(\n"
     ]
    },
    {
     "name": "stdout",
     "output_type": "stream",
     "text": [
      "\u001b[36m(RayTrainWorker pid=4109740)\u001b[0m [2025-02-17 13:26:52,584] [INFO] [loss_scaler.py:190:update_scale] [deepspeed] OVERFLOW! Rank 0 Skipping step. Attempted loss scale: 4, but hysteresis is 4. Reducing hysteresis to 3\n",
      "\u001b[36m(RayTrainWorker pid=4109740)\u001b[0m {'loss': 0.0907, 'learning_rate': 1.7010309278350517e-05, 'epoch': 0.24}\n"
     ]
    },
    {
     "name": "stderr",
     "output_type": "stream",
     "text": [
      "\u001b[36m(RayTrainWorker pid=4109740)\u001b[0m /home/jupyter/.local/lib/python3.10/site-packages/torch/utils/checkpoint.py:429: UserWarning: torch.utils.checkpoint: please pass in use_reentrant=True or use_reentrant=False explicitly. The default value of use_reentrant will be updated to be False in the future. To maintain current behavior, pass use_reentrant=True. It is recommended that you use use_reentrant=False. Refer to docs for more details on the differences between the two variants.\u001b[32m [repeated 2x across cluster]\u001b[0m\n",
      "\u001b[36m(RayTrainWorker pid=4109740)\u001b[0m   warnings.warn(\n",
      "\u001b[36m(RayTrainWorker pid=4109741)\u001b[0m   warnings.warn(\n"
     ]
    },
    {
     "name": "stdout",
     "output_type": "stream",
     "text": [
      "\u001b[36m(RayTrainWorker pid=4109740)\u001b[0m [2025-02-17 13:27:20,436] [INFO] [loss_scaler.py:190:update_scale] [deepspeed] OVERFLOW! Rank 0 Skipping step. Attempted loss scale: 4, but hysteresis is 3. Reducing hysteresis to 2\n",
      "\u001b[36m(RayTrainWorker pid=4109740)\u001b[0m {'loss': 0.1013, 'learning_rate': 1.7010309278350517e-05, 'epoch': 0.25}\n",
      "\u001b[36m(RayTrainWorker pid=4109740)\u001b[0m [2025-02-17 13:27:48,590] [INFO] [loss_scaler.py:197:update_scale] Consecutive hysteresis is enabled. Restoring hysteresis to 4\n"
     ]
    },
    {
     "name": "stderr",
     "output_type": "stream",
     "text": [
      "\u001b[36m(RayTrainWorker pid=4109740)\u001b[0m /home/jupyter/.local/lib/python3.10/site-packages/torch/utils/checkpoint.py:429: UserWarning: torch.utils.checkpoint: please pass in use_reentrant=True or use_reentrant=False explicitly. The default value of use_reentrant will be updated to be False in the future. To maintain current behavior, pass use_reentrant=True. It is recommended that you use use_reentrant=False. Refer to docs for more details on the differences between the two variants.\u001b[32m [repeated 2x across cluster]\u001b[0m\n",
      "\u001b[36m(RayTrainWorker pid=4109740)\u001b[0m   warnings.warn(\n",
      "\u001b[36m(RayTrainWorker pid=4109741)\u001b[0m   warnings.warn(\n"
     ]
    },
    {
     "name": "stdout",
     "output_type": "stream",
     "text": [
      "\u001b[36m(RayTrainWorker pid=4109740)\u001b[0m [2025-02-17 13:27:54,457] [WARNING] [stage3.py:1993:step] 1 pytorch allocator cache flushes since last step. this happens when there is high memory pressure and is detrimental to performance. if this is happening frequently consider adjusting settings to reduce memory consumption. If you are unable to make the cache flushes go away consider adding get_accelerator().empty_cache() calls in your training loop to ensure that all ranks flush their caches at the same time\n",
      "\u001b[36m(RayTrainWorker pid=4109740)\u001b[0m {'loss': 0.0761, 'learning_rate': 1.6907216494845362e-05, 'epoch': 0.25}\n",
      "\u001b[36m(RayTrainWorker pid=4109740)\u001b[0m [2025-02-17 13:28:22,454] [INFO] [loss_scaler.py:197:update_scale] Consecutive hysteresis is enabled. Restoring hysteresis to 4\n"
     ]
    },
    {
     "name": "stderr",
     "output_type": "stream",
     "text": [
      "\u001b[36m(RayTrainWorker pid=4109740)\u001b[0m /home/jupyter/.local/lib/python3.10/site-packages/torch/utils/checkpoint.py:429: UserWarning: torch.utils.checkpoint: please pass in use_reentrant=True or use_reentrant=False explicitly. The default value of use_reentrant will be updated to be False in the future. To maintain current behavior, pass use_reentrant=True. It is recommended that you use use_reentrant=False. Refer to docs for more details on the differences between the two variants.\u001b[32m [repeated 2x across cluster]\u001b[0m\n",
      "\u001b[36m(RayTrainWorker pid=4109740)\u001b[0m   warnings.warn(\n",
      "\u001b[36m(RayTrainWorker pid=4109741)\u001b[0m   warnings.warn(\n"
     ]
    },
    {
     "name": "stdout",
     "output_type": "stream",
     "text": [
      "\u001b[36m(RayTrainWorker pid=4109740)\u001b[0m [2025-02-17 13:28:28,308] [WARNING] [stage3.py:1993:step] 1 pytorch allocator cache flushes since last step. this happens when there is high memory pressure and is detrimental to performance. if this is happening frequently consider adjusting settings to reduce memory consumption. If you are unable to make the cache flushes go away consider adding get_accelerator().empty_cache() calls in your training loop to ensure that all ranks flush their caches at the same time\n",
      "\u001b[36m(RayTrainWorker pid=4109740)\u001b[0m [2025-02-17 13:28:28,309] [INFO] [logging.py:96:log_dist] [Rank 0] step=50, skipped=19, lr=[1.6804123711340207e-05], mom=[[0.9, 0.999]]\n",
      "\u001b[36m(RayTrainWorker pid=4109740)\u001b[0m [2025-02-17 13:28:28,309] [INFO] [timer.py:260:stop] epoch=0/micro_step=50/global_step=50, RunningAvgSamplesPerSec=1.0282364054568032, CurrSamplesPerSec=0.9454608289095849, MemAllocated=5.79GB, MaxMemAllocated=14.57GB\n",
      "\u001b[36m(RayTrainWorker pid=4109740)\u001b[0m {'loss': 0.0871, 'learning_rate': 1.6804123711340207e-05, 'epoch': 0.26}\n"
     ]
    },
    {
     "name": "stderr",
     "output_type": "stream",
     "text": [
      "\u001b[36m(RayTrainWorker pid=4109740)\u001b[0m /home/jupyter/.local/lib/python3.10/site-packages/torch/utils/checkpoint.py:429: UserWarning: torch.utils.checkpoint: please pass in use_reentrant=True or use_reentrant=False explicitly. The default value of use_reentrant will be updated to be False in the future. To maintain current behavior, pass use_reentrant=True. It is recommended that you use use_reentrant=False. Refer to docs for more details on the differences between the two variants.\u001b[32m [repeated 2x across cluster]\u001b[0m\n",
      "\u001b[36m(RayTrainWorker pid=4109740)\u001b[0m   warnings.warn(\n",
      "\u001b[36m(RayTrainWorker pid=4109741)\u001b[0m   warnings.warn(\n"
     ]
    },
    {
     "name": "stdout",
     "output_type": "stream",
     "text": [
      "\u001b[36m(RayTrainWorker pid=4109740)\u001b[0m [2025-02-17 13:28:56,547] [INFO] [loss_scaler.py:190:update_scale] [deepspeed] OVERFLOW! Rank 0 Skipping step. Attempted loss scale: 4, but hysteresis is 4. Reducing hysteresis to 3\n",
      "\u001b[36m(RayTrainWorker pid=4109740)\u001b[0m {'loss': 0.1246, 'learning_rate': 1.6804123711340207e-05, 'epoch': 0.26}\n"
     ]
    },
    {
     "name": "stderr",
     "output_type": "stream",
     "text": [
      "\u001b[36m(RayTrainWorker pid=4109740)\u001b[0m /home/jupyter/.local/lib/python3.10/site-packages/torch/utils/checkpoint.py:429: UserWarning: torch.utils.checkpoint: please pass in use_reentrant=True or use_reentrant=False explicitly. The default value of use_reentrant will be updated to be False in the future. To maintain current behavior, pass use_reentrant=True. It is recommended that you use use_reentrant=False. Refer to docs for more details on the differences between the two variants.\u001b[32m [repeated 2x across cluster]\u001b[0m\n",
      "\u001b[36m(RayTrainWorker pid=4109740)\u001b[0m   warnings.warn(\n",
      "\u001b[36m(RayTrainWorker pid=4109741)\u001b[0m   warnings.warn(\n"
     ]
    },
    {
     "name": "stdout",
     "output_type": "stream",
     "text": [
      "\u001b[36m(RayTrainWorker pid=4109740)\u001b[0m [2025-02-17 13:29:24,800] [INFO] [loss_scaler.py:190:update_scale] [deepspeed] OVERFLOW! Rank 0 Skipping step. Attempted loss scale: 4, but hysteresis is 3. Reducing hysteresis to 2\n",
      "\u001b[36m(RayTrainWorker pid=4109740)\u001b[0m {'loss': 0.0911, 'learning_rate': 1.6804123711340207e-05, 'epoch': 0.27}\n"
     ]
    },
    {
     "name": "stderr",
     "output_type": "stream",
     "text": [
      "\u001b[36m(RayTrainWorker pid=4109740)\u001b[0m /home/jupyter/.local/lib/python3.10/site-packages/torch/utils/checkpoint.py:429: UserWarning: torch.utils.checkpoint: please pass in use_reentrant=True or use_reentrant=False explicitly. The default value of use_reentrant will be updated to be False in the future. To maintain current behavior, pass use_reentrant=True. It is recommended that you use use_reentrant=False. Refer to docs for more details on the differences between the two variants.\u001b[32m [repeated 2x across cluster]\u001b[0m\n",
      "\u001b[36m(RayTrainWorker pid=4109740)\u001b[0m   warnings.warn(\n",
      "\u001b[36m(RayTrainWorker pid=4109741)\u001b[0m   warnings.warn(\n"
     ]
    },
    {
     "name": "stdout",
     "output_type": "stream",
     "text": [
      "\u001b[36m(RayTrainWorker pid=4109740)\u001b[0m [2025-02-17 13:29:52,643] [INFO] [loss_scaler.py:190:update_scale] [deepspeed] OVERFLOW! Rank 0 Skipping step. Attempted loss scale: 4, but hysteresis is 2. Reducing hysteresis to 1\n",
      "\u001b[36m(RayTrainWorker pid=4109740)\u001b[0m {'loss': 0.0857, 'learning_rate': 1.6804123711340207e-05, 'epoch': 0.27}\n",
      "\u001b[36m(RayTrainWorker pid=4109740)\u001b[0m [2025-02-17 13:30:20,792] [INFO] [loss_scaler.py:197:update_scale] Consecutive hysteresis is enabled. Restoring hysteresis to 4\n"
     ]
    },
    {
     "name": "stderr",
     "output_type": "stream",
     "text": [
      "\u001b[36m(RayTrainWorker pid=4109740)\u001b[0m /home/jupyter/.local/lib/python3.10/site-packages/torch/utils/checkpoint.py:429: UserWarning: torch.utils.checkpoint: please pass in use_reentrant=True or use_reentrant=False explicitly. The default value of use_reentrant will be updated to be False in the future. To maintain current behavior, pass use_reentrant=True. It is recommended that you use use_reentrant=False. Refer to docs for more details on the differences between the two variants.\u001b[32m [repeated 2x across cluster]\u001b[0m\n",
      "\u001b[36m(RayTrainWorker pid=4109740)\u001b[0m   warnings.warn(\n",
      "\u001b[36m(RayTrainWorker pid=4109741)\u001b[0m   warnings.warn(\n"
     ]
    },
    {
     "name": "stdout",
     "output_type": "stream",
     "text": [
      "\u001b[36m(RayTrainWorker pid=4109740)\u001b[0m [2025-02-17 13:30:26,664] [WARNING] [stage3.py:1993:step] 3 pytorch allocator cache flushes since last step. this happens when there is high memory pressure and is detrimental to performance. if this is happening frequently consider adjusting settings to reduce memory consumption. If you are unable to make the cache flushes go away consider adding get_accelerator().empty_cache() calls in your training loop to ensure that all ranks flush their caches at the same time\n",
      "\u001b[36m(RayTrainWorker pid=4109740)\u001b[0m {'loss': 0.114, 'learning_rate': 1.6701030927835052e-05, 'epoch': 0.28}\n",
      "\u001b[36m(RayTrainWorker pid=4109740)\u001b[0m [2025-02-17 13:30:54,698] [INFO] [loss_scaler.py:197:update_scale] Consecutive hysteresis is enabled. Restoring hysteresis to 4\n"
     ]
    },
    {
     "name": "stderr",
     "output_type": "stream",
     "text": [
      "\u001b[36m(RayTrainWorker pid=4109740)\u001b[0m /home/jupyter/.local/lib/python3.10/site-packages/torch/utils/checkpoint.py:429: UserWarning: torch.utils.checkpoint: please pass in use_reentrant=True or use_reentrant=False explicitly. The default value of use_reentrant will be updated to be False in the future. To maintain current behavior, pass use_reentrant=True. It is recommended that you use use_reentrant=False. Refer to docs for more details on the differences between the two variants.\u001b[32m [repeated 2x across cluster]\u001b[0m\n",
      "\u001b[36m(RayTrainWorker pid=4109740)\u001b[0m   warnings.warn(\n",
      "\u001b[36m(RayTrainWorker pid=4109741)\u001b[0m   warnings.warn(\n"
     ]
    },
    {
     "name": "stdout",
     "output_type": "stream",
     "text": [
      "\u001b[36m(RayTrainWorker pid=4109740)\u001b[0m [2025-02-17 13:31:00,569] [WARNING] [stage3.py:1993:step] 1 pytorch allocator cache flushes since last step. this happens when there is high memory pressure and is detrimental to performance. if this is happening frequently consider adjusting settings to reduce memory consumption. If you are unable to make the cache flushes go away consider adding get_accelerator().empty_cache() calls in your training loop to ensure that all ranks flush their caches at the same time\n",
      "\u001b[36m(RayTrainWorker pid=4109740)\u001b[0m {'loss': 0.0929, 'learning_rate': 1.65979381443299e-05, 'epoch': 0.28}\n",
      "\u001b[36m(RayTrainWorker pid=4109740)\u001b[0m [2025-02-17 13:31:28,150] [INFO] [loss_scaler.py:197:update_scale] Consecutive hysteresis is enabled. Restoring hysteresis to 4\n"
     ]
    },
    {
     "name": "stderr",
     "output_type": "stream",
     "text": [
      "\u001b[36m(RayTrainWorker pid=4109740)\u001b[0m /home/jupyter/.local/lib/python3.10/site-packages/torch/utils/checkpoint.py:429: UserWarning: torch.utils.checkpoint: please pass in use_reentrant=True or use_reentrant=False explicitly. The default value of use_reentrant will be updated to be False in the future. To maintain current behavior, pass use_reentrant=True. It is recommended that you use use_reentrant=False. Refer to docs for more details on the differences between the two variants.\u001b[32m [repeated 2x across cluster]\u001b[0m\n",
      "\u001b[36m(RayTrainWorker pid=4109740)\u001b[0m   warnings.warn(\n",
      "\u001b[36m(RayTrainWorker pid=4109741)\u001b[0m   warnings.warn(\n"
     ]
    },
    {
     "name": "stdout",
     "output_type": "stream",
     "text": [
      "\u001b[36m(RayTrainWorker pid=4109740)\u001b[0m {'loss': 0.0857, 'learning_rate': 1.6494845360824743e-05, 'epoch': 0.29}\n"
     ]
    },
    {
     "name": "stderr",
     "output_type": "stream",
     "text": [
      "\u001b[36m(RayTrainWorker pid=4109740)\u001b[0m /home/jupyter/.local/lib/python3.10/site-packages/torch/utils/checkpoint.py:429: UserWarning: torch.utils.checkpoint: please pass in use_reentrant=True or use_reentrant=False explicitly. The default value of use_reentrant will be updated to be False in the future. To maintain current behavior, pass use_reentrant=True. It is recommended that you use use_reentrant=False. Refer to docs for more details on the differences between the two variants.\u001b[32m [repeated 2x across cluster]\u001b[0m\n",
      "\u001b[36m(RayTrainWorker pid=4109740)\u001b[0m   warnings.warn(\n",
      "\u001b[36m(RayTrainWorker pid=4109741)\u001b[0m   warnings.warn(\n"
     ]
    },
    {
     "name": "stdout",
     "output_type": "stream",
     "text": [
      "\u001b[36m(RayTrainWorker pid=4109740)\u001b[0m [2025-02-17 13:32:01,829] [INFO] [loss_scaler.py:190:update_scale] [deepspeed] OVERFLOW! Rank 0 Skipping step. Attempted loss scale: 4, but hysteresis is 4. Reducing hysteresis to 3\n",
      "\u001b[36m(RayTrainWorker pid=4109740)\u001b[0m {'loss': 0.0763, 'learning_rate': 1.6494845360824743e-05, 'epoch': 0.29}\n",
      "\u001b[36m(RayTrainWorker pid=4109740)\u001b[0m [2025-02-17 13:32:29,964] [INFO] [loss_scaler.py:197:update_scale] Consecutive hysteresis is enabled. Restoring hysteresis to 4\n"
     ]
    },
    {
     "name": "stderr",
     "output_type": "stream",
     "text": [
      "\u001b[36m(RayTrainWorker pid=4109740)\u001b[0m /home/jupyter/.local/lib/python3.10/site-packages/torch/utils/checkpoint.py:429: UserWarning: torch.utils.checkpoint: please pass in use_reentrant=True or use_reentrant=False explicitly. The default value of use_reentrant will be updated to be False in the future. To maintain current behavior, pass use_reentrant=True. It is recommended that you use use_reentrant=False. Refer to docs for more details on the differences between the two variants.\u001b[32m [repeated 2x across cluster]\u001b[0m\n",
      "\u001b[36m(RayTrainWorker pid=4109740)\u001b[0m   warnings.warn(\n",
      "\u001b[36m(RayTrainWorker pid=4109741)\u001b[0m   warnings.warn(\n"
     ]
    },
    {
     "name": "stdout",
     "output_type": "stream",
     "text": [
      "\u001b[36m(RayTrainWorker pid=4109740)\u001b[0m [2025-02-17 13:32:35,830] [WARNING] [stage3.py:1993:step] 1 pytorch allocator cache flushes since last step. this happens when there is high memory pressure and is detrimental to performance. if this is happening frequently consider adjusting settings to reduce memory consumption. If you are unable to make the cache flushes go away consider adding get_accelerator().empty_cache() calls in your training loop to ensure that all ranks flush their caches at the same time\n",
      "\u001b[36m(RayTrainWorker pid=4109740)\u001b[0m {'loss': 0.0916, 'learning_rate': 1.6391752577319588e-05, 'epoch': 0.3}\n",
      "\u001b[36m(RayTrainWorker pid=4109740)\u001b[0m [2025-02-17 13:33:03,882] [INFO] [loss_scaler.py:197:update_scale] Consecutive hysteresis is enabled. Restoring hysteresis to 4\n",
      "\u001b[36m(RayTrainWorker pid=4109740)\u001b[0m [2025-02-17 13:33:09,754] [WARNING] [stage3.py:1993:step] 1 pytorch allocator cache flushes since last step. this happens when there is high memory pressure and is detrimental to performance. if this is happening frequently consider adjusting settings to reduce memory consumption. If you are unable to make the cache flushes go away consider adding get_accelerator().empty_cache() calls in your training loop to ensure that all ranks flush their caches at the same time\n",
      "\u001b[36m(RayTrainWorker pid=4109740)\u001b[0m {'loss': 0.0981, 'learning_rate': 1.6288659793814433e-05, 'epoch': 0.3}\n"
     ]
    },
    {
     "name": "stderr",
     "output_type": "stream",
     "text": [
      "\u001b[36m(RayTrainWorker pid=4109740)\u001b[0m /home/jupyter/.local/lib/python3.10/site-packages/torch/utils/checkpoint.py:429: UserWarning: torch.utils.checkpoint: please pass in use_reentrant=True or use_reentrant=False explicitly. The default value of use_reentrant will be updated to be False in the future. To maintain current behavior, pass use_reentrant=True. It is recommended that you use use_reentrant=False. Refer to docs for more details on the differences between the two variants.\u001b[32m [repeated 2x across cluster]\u001b[0m\n",
      "\u001b[36m(RayTrainWorker pid=4109740)\u001b[0m   warnings.warn(\n",
      "\u001b[36m(RayTrainWorker pid=4109741)\u001b[0m   warnings.warn(\n",
      "\u001b[36m(RayTrainWorker pid=4109740)\u001b[0m /home/jupyter/.local/lib/python3.10/site-packages/torch/utils/checkpoint.py:429: UserWarning: torch.utils.checkpoint: please pass in use_reentrant=True or use_reentrant=False explicitly. The default value of use_reentrant will be updated to be False in the future. To maintain current behavior, pass use_reentrant=True. It is recommended that you use use_reentrant=False. Refer to docs for more details on the differences between the two variants.\u001b[32m [repeated 2x across cluster]\u001b[0m\n",
      "\u001b[36m(RayTrainWorker pid=4109740)\u001b[0m   warnings.warn(\n",
      "\u001b[36m(RayTrainWorker pid=4109741)\u001b[0m   warnings.warn(\n"
     ]
    },
    {
     "name": "stdout",
     "output_type": "stream",
     "text": [
      "\u001b[36m(RayTrainWorker pid=4109740)\u001b[0m [2025-02-17 13:33:37,514] [INFO] [loss_scaler.py:190:update_scale] [deepspeed] OVERFLOW! Rank 0 Skipping step. Attempted loss scale: 4, but hysteresis is 4. Reducing hysteresis to 3\n",
      "\u001b[36m(RayTrainWorker pid=4109740)\u001b[0m [2025-02-17 13:33:37,515] [INFO] [logging.py:96:log_dist] [Rank 0] step=60, skipped=24, lr=[1.6288659793814433e-05], mom=[[0.9, 0.999]]\n",
      "\u001b[36m(RayTrainWorker pid=4109740)\u001b[0m [2025-02-17 13:33:37,515] [INFO] [timer.py:260:stop] epoch=0/micro_step=60/global_step=60, RunningAvgSamplesPerSec=1.029414469088835, CurrSamplesPerSec=1.1530025490962372, MemAllocated=5.79GB, MaxMemAllocated=14.57GB\n",
      "\u001b[36m(RayTrainWorker pid=4109740)\u001b[0m {'loss': 0.0923, 'learning_rate': 1.6288659793814433e-05, 'epoch': 0.31}\n",
      "\u001b[36m(RayTrainWorker pid=4109740)\u001b[0m Adam Optimizer #0 is created with AVX512 arithmetic capability.\n",
      "\u001b[36m(RayTrainWorker pid=4109740)\u001b[0m Config: alpha=0.000020, betas=(0.900000, 0.999000), weight_decay=0.000000, adam_w=1\n"
     ]
    }
   ],
   "source": [
    "\n",
    "ray.init(\n",
    "    runtime_env=RUNTIME_ENV,\n",
    ")\n",
    "\n"
   ]
  },
  {
   "cell_type": "code",
   "execution_count": 75,
   "id": "27be9936-2229-458e-b0d1-1598f4ad4869",
   "metadata": {
    "tags": []
   },
   "outputs": [
    {
     "data": {
      "text/plain": [
       "'2.9.3'"
      ]
     },
     "execution_count": 75,
     "metadata": {},
     "output_type": "execute_result"
    }
   ],
   "source": [
    "ray.__version__"
   ]
  },
  {
   "cell_type": "code",
   "execution_count": 94,
   "id": "9414b6da-dd32-4c47-8bee-1a41b84965bd",
   "metadata": {
    "tags": []
   },
   "outputs": [
    {
     "name": "stdout",
     "output_type": "stream",
     "text": [
      "Loading tiny_shakespeare dataset\n"
     ]
    },
    {
     "data": {
      "text/plain": [
       "DatasetDict({\n",
       "    train: Dataset({\n",
       "        features: ['instruction', 'input', 'output', 'text'],\n",
       "        num_rows: 52002\n",
       "    })\n",
       "})"
      ]
     },
     "execution_count": 94,
     "metadata": {},
     "output_type": "execute_result"
    }
   ],
   "source": [
    "from datasets import load_dataset\n",
    "\n",
    "print(\"Loading tiny_shakespeare dataset\")\n",
    "current_dataset = load_dataset(\"tatsu-lab/alpaca\")\n",
    "current_dataset"
   ]
  },
  {
   "cell_type": "code",
   "execution_count": 95,
   "id": "c4abaadf-651e-424f-9bb4-106c0ad011a9",
   "metadata": {
    "tags": []
   },
   "outputs": [
    {
     "data": {
      "text/plain": [
       "DatasetDict({\n",
       "    train: Dataset({\n",
       "        features: ['instruction', 'input', 'output', 'text'],\n",
       "        num_rows: 2000\n",
       "    })\n",
       "})"
      ]
     },
     "execution_count": 95,
     "metadata": {},
     "output_type": "execute_result"
    }
   ],
   "source": [
    "from datasets.dataset_dict import DatasetDict\n",
    "\n",
    "slice_dataset = DatasetDict({'train': current_dataset['train'].select(range(2000))})\n",
    "slice_dataset"
   ]
  },
  {
   "cell_type": "code",
   "execution_count": 96,
   "id": "b154b8dd-778c-4b3d-abd7-58bdf5d76fc7",
   "metadata": {
    "tags": []
   },
   "outputs": [
    {
     "data": {
      "text/plain": [
       "DatasetDict({\n",
       "    train: Dataset({\n",
       "        features: ['instruction', 'input', 'output', 'text'],\n",
       "        num_rows: 1800\n",
       "    })\n",
       "    validation: Dataset({\n",
       "        features: ['instruction', 'input', 'output', 'text'],\n",
       "        num_rows: 200\n",
       "    })\n",
       "})"
      ]
     },
     "execution_count": 96,
     "metadata": {},
     "output_type": "execute_result"
    }
   ],
   "source": [
    "train_dataset, validation_dataset= slice_dataset['train'].train_test_split(test_size=0.1).values()\n",
    "dataset = DatasetDict({'train': train_dataset, 'validation': validation_dataset})\n",
    "dataset"
   ]
  },
  {
   "cell_type": "code",
   "execution_count": 97,
   "id": "bf83a38c-6d66-4cad-9468-2f32f3c5afa9",
   "metadata": {
    "tags": []
   },
   "outputs": [],
   "source": [
    "# from datasets.dataset_dict import DatasetDict\n",
    "# from datasets import Dataset\n",
    "\n",
    "# train_dataset, validation_dataset= current_dataset['train'].train_test_split(test_size=0.1).values()\n",
    "\n",
    "# dataset = DatasetDict({'train': train_dataset, 'validation': validation_dataset})\n",
    "# dataset"
   ]
  },
  {
   "cell_type": "code",
   "execution_count": 98,
   "id": "b69f5c20-1acd-41e8-bd7f-7565ef8c9be2",
   "metadata": {
    "tags": []
   },
   "outputs": [
    {
     "data": {
      "text/plain": [
       "{'train': MaterializedDataset(\n",
       "    num_blocks=1,\n",
       "    num_rows=1800,\n",
       "    schema={instruction: string, input: string, output: string, text: string}\n",
       " ),\n",
       " 'validation': MaterializedDataset(\n",
       "    num_blocks=1,\n",
       "    num_rows=200,\n",
       "    schema={instruction: string, input: string, output: string, text: string}\n",
       " )}"
      ]
     },
     "execution_count": 98,
     "metadata": {},
     "output_type": "execute_result"
    }
   ],
   "source": [
    "import ray.data\n",
    "\n",
    "ray_datasets = {\n",
    "    \"train\": ray.data.from_huggingface(dataset[\"train\"]),\n",
    "    \"validation\": ray.data.from_huggingface(dataset[\"validation\"]),\n",
    "}\n",
    "\n",
    "ray_datasets"
   ]
  },
  {
   "cell_type": "code",
   "execution_count": 99,
   "id": "b95cdd7e-798b-4f10-befe-6ffc279ddfd4",
   "metadata": {
    "tags": []
   },
   "outputs": [],
   "source": [
    "block_size = 512\n"
   ]
  },
  {
   "cell_type": "code",
   "execution_count": 100,
   "id": "1455f72c-fd2a-4efb-ad4b-152d00ed22b5",
   "metadata": {
    "tags": []
   },
   "outputs": [
    {
     "data": {
      "text/plain": [
       "{'train': MapBatches(tokenize)\n",
       " +- MapBatches(split_text)\n",
       "    +- Dataset(\n",
       "          num_blocks=1,\n",
       "          num_rows=1800,\n",
       "          schema={\n",
       "             instruction: string,\n",
       "             input: string,\n",
       "             output: string,\n",
       "             text: string\n",
       "          }\n",
       "       ),\n",
       " 'validation': MapBatches(tokenize)\n",
       " +- MapBatches(split_text)\n",
       "    +- Dataset(\n",
       "          num_blocks=1,\n",
       "          num_rows=200,\n",
       "          schema={\n",
       "             instruction: string,\n",
       "             input: string,\n",
       "             output: string,\n",
       "             text: string\n",
       "          }\n",
       "       )}"
      ]
     },
     "execution_count": 100,
     "metadata": {},
     "output_type": "execute_result"
    }
   ],
   "source": [
    "from transformers import AutoTokenizer\n",
    "\n",
    "\n",
    "def split_text(batch: pd.DataFrame) -> pd.DataFrame:\n",
    "    text = list(batch[\"text\"])\n",
    "    flat_text = \"\".join(text)\n",
    "    split_text = [\n",
    "        x.strip()\n",
    "        for x in flat_text.split(\"\\n\")\n",
    "        if x.strip() and not x.strip()[-1] == \":\"\n",
    "    ]\n",
    "    return pd.DataFrame(split_text, columns=[\"text\"])\n",
    "\n",
    "\n",
    "def tokenize(batch: pd.DataFrame) -> dict:\n",
    "    tokenizer = AutoTokenizer.from_pretrained(model_name, use_fast=True)\n",
    "    tokenizer.pad_token = tokenizer.eos_token\n",
    "    ret = tokenizer(\n",
    "        list(batch[\"text\"]),\n",
    "        truncation=True,\n",
    "        max_length=block_size,\n",
    "        padding=\"max_length\",\n",
    "        return_tensors=\"np\",\n",
    "    )\n",
    "    ret[\"labels\"] = ret[\"input_ids\"].copy()\n",
    "    return dict(ret)\n",
    "\n",
    "\n",
    "processed_datasets = {\n",
    "    key: (\n",
    "        ds.map_batches(split_text, batch_format=\"pandas\")\n",
    "        .map_batches(tokenize, batch_format=\"pandas\")\n",
    "    )\n",
    "    for key, ds in ray_datasets.items()\n",
    "}\n",
    "processed_datasets"
   ]
  },
  {
   "cell_type": "code",
   "execution_count": 101,
   "id": "6f064f44-0998-4579-90f9-c9a8ef28dba0",
   "metadata": {
    "tags": []
   },
   "outputs": [],
   "source": [
    "import evaluate\n",
    "import torch\n",
    "from transformers import (\n",
    "    Trainer,\n",
    "    TrainingArguments,\n",
    "    GPTJForCausalLM,\n",
    "    AutoTokenizer,\n",
    "    default_data_collator,\n",
    ")\n",
    "from transformers.utils.logging import disable_progress_bar, enable_progress_bar\n",
    "\n",
    "from ray import train\n",
    "from ray.train.huggingface.transformers import prepare_trainer, RayTrainReportCallback\n",
    "\n",
    "\n",
    "def train_func(config):\n",
    "    # Use the actual number of CPUs assigned by Ray\n",
    "    os.environ[\"OMP_NUM_THREADS\"] = str(\n",
    "        train.get_context().get_trial_resources().bundles[-1].get(\"CPU\", 1)\n",
    "    )\n",
    "    # Enable tf32 for better performance\n",
    "    torch.backends.cuda.matmul.allow_tf32 = True\n",
    "\n",
    "    batch_size = config.get(\"batch_size\", 4)\n",
    "    epochs = config.get(\"epochs\", 2)\n",
    "    warmup_steps = config.get(\"warmup_steps\", 0)\n",
    "    learning_rate = config.get(\"learning_rate\", 0.00002)\n",
    "    weight_decay = config.get(\"weight_decay\", 0.01)\n",
    "    steps_per_epoch = config.get(\"steps_per_epoch\")\n",
    "\n",
    "    deepspeed = {\n",
    "        \"fp16\": {\n",
    "            \"enabled\": \"auto\",\n",
    "            \"initial_scale_power\": 8,\n",
    "            \"hysteresis\": 4,\n",
    "            \"consecutive_hysteresis\": True,\n",
    "        },\n",
    "        \"bf16\": {\"enabled\": \"auto\"},\n",
    "        \"optimizer\": {\n",
    "            \"type\": \"AdamW\",\n",
    "            \"params\": {\n",
    "                \"lr\": \"auto\",\n",
    "                \"betas\": \"auto\",\n",
    "                \"eps\": \"auto\",\n",
    "            },\n",
    "        },\n",
    "        \"zero_optimization\": {\n",
    "            \"stage\": 3,\n",
    "            \"offload_optimizer\": {\n",
    "                \"device\": \"cpu\",\n",
    "                \"pin_memory\": True,\n",
    "            },\n",
    "            \"overlap_comm\": True,\n",
    "            \"contiguous_gradients\": True,\n",
    "            \"reduce_bucket_size\": \"auto\",\n",
    "            \"stage3_prefetch_bucket_size\": \"auto\",\n",
    "            \"stage3_param_persistence_threshold\": \"auto\",\n",
    "            \"gather_16bit_weights_on_model_save\": True,\n",
    "            \"round_robin_gradients\": True,\n",
    "        },\n",
    "        \"gradient_accumulation_steps\": \"auto\",\n",
    "        \"gradient_clipping\": \"auto\",\n",
    "        \"steps_per_print\": 10,\n",
    "        \"train_batch_size\": \"auto\",\n",
    "        \"train_micro_batch_size_per_gpu\": \"auto\",\n",
    "        \"wall_clock_breakdown\": False,\n",
    "    }\n",
    "\n",
    "    print(\"Preparing training arguments\")\n",
    "    training_args = TrainingArguments(\n",
    "        \"output\",\n",
    "        logging_steps=1,\n",
    "        save_strategy=\"steps\",\n",
    "        save_steps=steps_per_epoch,\n",
    "        max_steps=steps_per_epoch * epochs,\n",
    "        per_device_train_batch_size=batch_size,\n",
    "        gradient_accumulation_steps=1,\n",
    "        learning_rate=learning_rate,\n",
    "        weight_decay=weight_decay,\n",
    "        warmup_steps=warmup_steps,\n",
    "        label_names=[\"input_ids\", \"attention_mask\"],\n",
    "        push_to_hub=False,\n",
    "        report_to=\"none\",\n",
    "        disable_tqdm=True,  # declutter the output a little\n",
    "        fp16=True,\n",
    "        gradient_checkpointing=True,\n",
    "        deepspeed=deepspeed,\n",
    "    )\n",
    "    disable_progress_bar()\n",
    "\n",
    "    tokenizer = AutoTokenizer.from_pretrained(model_name)\n",
    "    tokenizer.pad_token = tokenizer.eos_token\n",
    "\n",
    "    print(\"Loading model\")\n",
    "\n",
    "    model = GPTJForCausalLM.from_pretrained(model_name, use_cache=False)\n",
    "    model.resize_token_embeddings(len(tokenizer))\n",
    "\n",
    "    print(\"Model loaded\")\n",
    "\n",
    "    enable_progress_bar()\n",
    "\n",
    "    metric = evaluate.load(\"accuracy\")\n",
    "\n",
    "    train_ds = train.get_dataset_shard(\"train\")\n",
    "    eval_ds = train.get_dataset_shard(\"validation\")\n",
    "\n",
    "    train_ds_iterable = train_ds.iter_torch_batches(\n",
    "        batch_size=batch_size,\n",
    "        local_shuffle_buffer_size=train.get_context().get_world_size() * batch_size,\n",
    "    )\n",
    "    eval_ds_iterable = eval_ds.iter_torch_batches(batch_size=batch_size)\n",
    "\n",
    "    def compute_metrics(eval_pred):\n",
    "        logits, labels = eval_pred\n",
    "        predictions = np.argmax(logits, axis=-1)\n",
    "        return metric.compute(predictions=predictions, references=labels)\n",
    "\n",
    "    trainer = Trainer(\n",
    "        model=model,\n",
    "        args=training_args,\n",
    "        train_dataset=train_ds_iterable,\n",
    "        eval_dataset=eval_ds_iterable,\n",
    "        compute_metrics=compute_metrics,\n",
    "        tokenizer=tokenizer,\n",
    "        data_collator=default_data_collator,\n",
    "    )\n",
    "\n",
    "    # Add callback to report checkpoints to Ray Train\n",
    "    trainer.add_callback(RayTrainReportCallback())\n",
    "    trainer = prepare_trainer(trainer)\n",
    "    trainer.train()"
   ]
  },
  {
   "cell_type": "code",
   "execution_count": 102,
   "id": "84d8dee6-0659-4f38-ad96-ce6315399a55",
   "metadata": {
    "tags": []
   },
   "outputs": [],
   "source": [
    "\n",
    "storage_path = \"gs://sllm_checkpoints/tmp_store/deepspeed/\"\n"
   ]
  },
  {
   "cell_type": "code",
   "execution_count": 103,
   "id": "1e1ddc5c-b467-496a-b3c1-7173e3fdcb6d",
   "metadata": {
    "tags": []
   },
   "outputs": [
    {
     "name": "stderr",
     "output_type": "stream",
     "text": [
      "2025-02-17 12:59:51,509\tINFO streaming_executor.py:112 -- Executing DAG InputDataBuffer[Input] -> TaskPoolMapOperator[MapBatches(split_text)->MapBatches(tokenize)]\n",
      "2025-02-17 12:59:51,509\tINFO streaming_executor.py:113 -- Execution config: ExecutionOptions(resource_limits=ExecutionResources(cpu=None, gpu=None, object_store_memory=None), exclude_resources=ExecutionResources(cpu=0, gpu=0, object_store_memory=0), locality_with_output=False, preserve_order=False, actor_locality_enabled=True, verbose_progress=False)\n",
      "2025-02-17 12:59:51,510\tINFO streaming_executor.py:115 -- Tip: For detailed progress reporting, run `ray.data.DataContext.get_current().execution_options.verbose_progress = True`\n"
     ]
    },
    {
     "data": {
      "application/vnd.jupyter.widget-view+json": {
       "model_id": "",
       "version_major": 2,
       "version_minor": 0
      },
      "text/plain": [
       "Running 0:   0%|          | 0/1 [00:00<?, ?it/s]"
      ]
     },
     "metadata": {},
     "output_type": "display_data"
    }
   ],
   "source": [
    "batch_size = 16\n",
    "train_ds_size = processed_datasets[\"train\"].count()\n",
    "steps_per_epoch = train_ds_size // (batch_size * num_workers)"
   ]
  },
  {
   "cell_type": "code",
   "execution_count": 104,
   "id": "499c2091-9d7e-4030-9f2d-7978c1ef8503",
   "metadata": {
    "tags": []
   },
   "outputs": [],
   "source": [
    "from ray.train.torch import TorchTrainer\n",
    "from ray.train import RunConfig, ScalingConfig\n",
    "\n",
    "trainer = TorchTrainer(\n",
    "    train_loop_per_worker=train_func,\n",
    "    train_loop_config={\n",
    "        \"epochs\": 1,\n",
    "        \"batch_size\": batch_size,  # per device\n",
    "        \"steps_per_epoch\": steps_per_epoch,\n",
    "    },\n",
    "    scaling_config=ScalingConfig(\n",
    "        num_workers=num_workers,\n",
    "        use_gpu=use_gpu,\n",
    "        resources_per_worker={\"GPU\": 1, \"CPU\": cpus_per_worker},\n",
    "    ),\n",
    "    datasets=processed_datasets,\n",
    "    run_config=RunConfig(storage_path=storage_path),\n",
    ")"
   ]
  },
  {
   "cell_type": "code",
   "execution_count": 92,
   "id": "e2527a93-6d1c-4080-a792-ae1d349429eb",
   "metadata": {
    "tags": []
   },
   "outputs": [],
   "source": [
    "# !export CUDA_LAUNCH_BLOCKING=1"
   ]
  },
  {
   "cell_type": "code",
   "execution_count": 105,
   "id": "953f4826-8467-413c-804e-f0af59a87e35",
   "metadata": {
    "tags": []
   },
   "outputs": [
    {
     "data": {
      "text/html": [
       "<div class=\"tuneStatus\">\n",
       "  <div style=\"display: flex;flex-direction: row\">\n",
       "    <div style=\"display: flex;flex-direction: column;\">\n",
       "      <h3>Tune Status</h3>\n",
       "      <table>\n",
       "<tbody>\n",
       "<tr><td>Current time:</td><td>2025-02-17 13:33:54</td></tr>\n",
       "<tr><td>Running for: </td><td>00:33:14.35        </td></tr>\n",
       "<tr><td>Memory:      </td><td>149.1/188.7 GiB    </td></tr>\n",
       "</tbody>\n",
       "</table>\n",
       "    </div>\n",
       "    <div class=\"vDivider\"></div>\n",
       "    <div class=\"systemInfo\">\n",
       "      <h3>System Info</h3>\n",
       "      Using FIFO scheduling algorithm.<br>Logical resource usage: 5.0/48 CPUs, 2.0/4 GPUs (0.0/1.0 accelerator_type:L4)\n",
       "    </div>\n",
       "    \n",
       "  </div>\n",
       "  <div class=\"hDivider\"></div>\n",
       "  <div class=\"trialStatus\">\n",
       "    <h3>Trial Status</h3>\n",
       "    <table>\n",
       "<thead>\n",
       "<tr><th>Trial name              </th><th>status  </th><th>loc               </th></tr>\n",
       "</thead>\n",
       "<tbody>\n",
       "<tr><td>TorchTrainer_303ef_00000</td><td>RUNNING </td><td>10.128.0.4:4109099</td></tr>\n",
       "</tbody>\n",
       "</table>\n",
       "  </div>\n",
       "</div>\n",
       "<style>\n",
       ".tuneStatus {\n",
       "  color: var(--jp-ui-font-color1);\n",
       "}\n",
       ".tuneStatus .systemInfo {\n",
       "  display: flex;\n",
       "  flex-direction: column;\n",
       "}\n",
       ".tuneStatus td {\n",
       "  white-space: nowrap;\n",
       "}\n",
       ".tuneStatus .trialStatus {\n",
       "  display: flex;\n",
       "  flex-direction: column;\n",
       "}\n",
       ".tuneStatus h3 {\n",
       "  font-weight: bold;\n",
       "}\n",
       ".tuneStatus .hDivider {\n",
       "  border-bottom-width: var(--jp-border-width);\n",
       "  border-bottom-color: var(--jp-border-color0);\n",
       "  border-bottom-style: solid;\n",
       "}\n",
       ".tuneStatus .vDivider {\n",
       "  border-left-width: var(--jp-border-width);\n",
       "  border-left-color: var(--jp-border-color0);\n",
       "  border-left-style: solid;\n",
       "  margin: 0.5em 1em 0.5em 1em;\n",
       "}\n",
       "</style>\n"
      ],
      "text/plain": [
       "<IPython.core.display.HTML object>"
      ]
     },
     "metadata": {},
     "output_type": "display_data"
    },
    {
     "data": {
      "application/vnd.jupyter.widget-view+json": {
       "model_id": "",
       "version_major": 2,
       "version_minor": 0
      },
      "text/plain": [
       "(pid=4110157) Running 0:   0%|          | 0/1 [00:00<?, ?it/s]"
      ]
     },
     "metadata": {},
     "output_type": "display_data"
    },
    {
     "name": "stderr",
     "output_type": "stream",
     "text": [
      "2025-02-17 13:33:54,063\tWARNING tune.py:186 -- Stop signal received (e.g. via SIGINT/Ctrl+C), ending Ray Tune run. This will try to checkpoint the experiment state one last time. Press CTRL+C (or send SIGINT/SIGKILL/SIGTERM) to skip. \n",
      "2025-02-17 13:34:04,410\tINFO tune.py:1042 -- Total run time: 2004.68 seconds (1994.01 seconds for the tuning loop).\n",
      "2025-02-17 13:34:04,411\tWARNING tune.py:1052 -- Training has been interrupted, but the most recent state was saved.\n",
      "Resume training with: Trainer.restore(path=\"sllm_checkpoints/tmp_store/deepspeed/TorchTrainer_2025-02-17_13-00-39\", ...)\n"
     ]
    }
   ],
   "source": [
    "results = trainer.fit()"
   ]
  },
  {
   "cell_type": "code",
   "execution_count": null,
   "id": "bd1e9201-caeb-4f0f-9674-548e0da5fab3",
   "metadata": {},
   "outputs": [],
   "source": []
  },
  {
   "cell_type": "code",
   "execution_count": null,
   "id": "8c95e0bb-5633-401e-a66d-ceedab043903",
   "metadata": {},
   "outputs": [],
   "source": []
  },
  {
   "cell_type": "code",
   "execution_count": 88,
   "id": "17aee9e1-9e46-4b36-8596-b25ff0bc2197",
   "metadata": {
    "tags": []
   },
   "outputs": [],
   "source": [
    "checkpoint = results.checkpoint\n",
    "checkpoint"
   ]
  },
  {
   "cell_type": "code",
   "execution_count": null,
   "id": "daf44981-2661-4c1e-beac-8b347b32120a",
   "metadata": {},
   "outputs": [],
   "source": [
    "import os\n",
    "\n",
    "os.system(f\"aws s3 sync s3://{checkpoint.path} /mnt/local_storage/\")"
   ]
  },
  {
   "cell_type": "code",
   "execution_count": null,
   "id": "2b470bcb-9725-49d4-810a-a4200e3ad6b2",
   "metadata": {},
   "outputs": [],
   "source": [
    "from transformers import pipeline, AutoTokenizer, GPTJForCausalLM\n",
    "\n",
    "model = GPTJForCausalLM.from_pretrained(\"/mnt/local_storage/checkpoint\")\n",
    "tokenizer = AutoTokenizer.from_pretrained(\"/mnt/local_storage/checkpoint\")\n",
    "\n",
    "pipe = pipeline(\n",
    "    model=model,\n",
    "    tokenizer=tokenizer,\n",
    "    task=\"text-generation\",\n",
    "    torch_dtype=torch.float16,\n",
    "    device_map=\"auto\",\n",
    ")"
   ]
  },
  {
   "cell_type": "code",
   "execution_count": null,
   "id": "0eebb4de-6e7f-4c41-9f9b-75ca8bb3caf0",
   "metadata": {},
   "outputs": [],
   "source": [
    "# Generate from prompts!\n",
    "for sentence in pipe(\n",
    "    [\"Romeo and Juliet\", \"Romeo\", \"Juliet\"], do_sample=True, min_length=20\n",
    "):\n",
    "    print(sentence)"
   ]
  }
 ],
 "metadata": {
  "environment": {
   "kernel": "conda-base-py",
   "name": "workbench-notebooks.m127",
   "type": "gcloud",
   "uri": "us-docker.pkg.dev/deeplearning-platform-release/gcr.io/workbench-notebooks:m127"
  },
  "kernelspec": {
   "display_name": "Python 3 (ipykernel) (Local)",
   "language": "python",
   "name": "conda-base-py"
  },
  "language_info": {
   "codemirror_mode": {
    "name": "ipython",
    "version": 3
   },
   "file_extension": ".py",
   "mimetype": "text/x-python",
   "name": "python",
   "nbconvert_exporter": "python",
   "pygments_lexer": "ipython3",
   "version": "3.10.16"
  }
 },
 "nbformat": 4,
 "nbformat_minor": 5
}
