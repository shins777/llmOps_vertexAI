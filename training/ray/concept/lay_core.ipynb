{
 "cells": [
  {
   "cell_type": "markdown",
   "id": "e62bff67-6a76-4c6e-a12d-c0c7114bb11e",
   "metadata": {},
   "source": [
    "## Ray core operation examples"
   ]
  },
  {
   "cell_type": "markdown",
   "id": "1c90c385-2eb1-4a36-9ead-92149fda3663",
   "metadata": {},
   "source": [
    "### Configurations"
   ]
  },
  {
   "cell_type": "code",
   "execution_count": 1,
   "id": "e17cecad-9500-42e6-a7d8-dab12f2702cf",
   "metadata": {
    "tags": []
   },
   "outputs": [],
   "source": [
    "! pip install --user -q \"google-cloud-aiplatform[ray]>=1.56.0\" \\\n",
    "                        \"ray[data,train,tune,serve]>=2.33.0\""
   ]
  },
  {
   "cell_type": "code",
   "execution_count": 2,
   "id": "8cfaf7ff-0a44-4af8-8aaf-962b4bce8163",
   "metadata": {
    "tags": []
   },
   "outputs": [],
   "source": [
    "# @title Define constants\n",
    "PROJECT_NBR = \"721521243942\"\n",
    "PROJECT_ID = \"ai-hangsik\"\n",
    "REGION=\"us-central1\"\n",
    "RAY_CLUSTER_NM = \"ray33-cluster-20250216-192557\""
   ]
  },
  {
   "cell_type": "code",
   "execution_count": 3,
   "id": "ef9a7e4f-38e9-44be-a4da-813979e887f0",
   "metadata": {
    "tags": []
   },
   "outputs": [],
   "source": [
    "from google.cloud import aiplatform\n",
    "\n",
    "aiplatform.init(project=PROJECT_ID, location=REGION)"
   ]
  },
  {
   "cell_type": "code",
   "execution_count": 4,
   "id": "39db2165-ae5d-4e49-9893-9663d0f816d1",
   "metadata": {
    "tags": []
   },
   "outputs": [],
   "source": [
    "import ray\n",
    "from ray.runtime_env import RuntimeEnv\n",
    "from ray.air.config import RunConfig\n",
    "from ray.air import CheckpointConfig, ScalingConfig\n",
    "from ray.util.joblib import register_ray"
   ]
  },
  {
   "cell_type": "code",
   "execution_count": 5,
   "id": "052c2f99-f13c-4370-a233-aaf6808fdc2e",
   "metadata": {
    "tags": []
   },
   "outputs": [
    {
     "data": {
      "text/plain": [
       "'2.33.0'"
      ]
     },
     "execution_count": 5,
     "metadata": {},
     "output_type": "execute_result"
    }
   ],
   "source": [
    "ray.__version__"
   ]
  },
  {
   "cell_type": "markdown",
   "id": "b86dc36d-4b5e-49cb-8f60-4203ae30aaf2",
   "metadata": {},
   "source": [
    "### Connect to Ray on Vertex AI"
   ]
  },
  {
   "cell_type": "code",
   "execution_count": 54,
   "id": "356aef17-6fb0-4f05-8798-b591d3864b80",
   "metadata": {
    "tags": []
   },
   "outputs": [],
   "source": [
    "\n",
    "ray.shutdown()"
   ]
  },
  {
   "cell_type": "code",
   "execution_count": 45,
   "id": "ecc7a783-08d4-43a8-ad40-460631f9e4b6",
   "metadata": {
    "tags": []
   },
   "outputs": [
    {
     "name": "stdout",
     "output_type": "stream",
     "text": [
      "RAY_ADDRESS:vertex_ray://projects/721521243942/locations/us-central1/persistentResources/cluster-20250216-114448\n",
      "[Ray on Vertex AI]: Cluster State = State.RUNNING\n"
     ]
    },
    {
     "data": {
      "application/vnd.jupyter.widget-view+json": {
       "model_id": "f60c6486e49f45a79d8da9c815b204ed",
       "version_major": 2,
       "version_minor": 0
      },
      "text/html": [
       "<div class=\"lm-Widget p-Widget lm-Panel p-Panel jp-Cell-outputWrapper\">\n",
       "    <div style=\"margin-left: 50px;display: flex;flex-direction: row;align-items: center\">\n",
       "        <div class=\"jp-RenderedHTMLCommon\" style=\"display: flex; flex-direction: row;\">\n",
       "  <svg viewBox=\"0 0 567 224\" fill=\"none\" xmlns=\"http://www.w3.org/2000/svg\" style=\"height: 3em;\">\n",
       "    <g clip-path=\"url(#clip0_4338_178347)\">\n",
       "        <path d=\"M341.29 165.561H355.29L330.13 129.051C345.63 123.991 354.21 112.051 354.21 94.2307C354.21 71.3707 338.72 58.1807 311.88 58.1807H271V165.561H283.27V131.661H311.8C314.25 131.661 316.71 131.501 319.01 131.351L341.25 165.561H341.29ZM283.29 119.851V70.0007H311.82C331.3 70.0007 342.34 78.2907 342.34 94.5507C342.34 111.271 331.34 119.861 311.82 119.861L283.29 119.851ZM451.4 138.411L463.4 165.561H476.74L428.74 58.1807H416L367.83 165.561H380.83L392.83 138.411H451.4ZM446.19 126.601H398L422 72.1407L446.24 126.601H446.19ZM526.11 128.741L566.91 58.1807H554.35L519.99 114.181L485.17 58.1807H472.44L514.01 129.181V165.541H526.13V128.741H526.11Z\" fill=\"var(--jp-ui-font-color0)\"/>\n",
       "        <path d=\"M82.35 104.44C84.0187 97.8827 87.8248 92.0678 93.1671 87.9146C98.5094 83.7614 105.083 81.5067 111.85 81.5067C118.617 81.5067 125.191 83.7614 130.533 87.9146C135.875 92.0678 139.681 97.8827 141.35 104.44H163.75C164.476 101.562 165.622 98.8057 167.15 96.2605L127.45 56.5605C121.071 60.3522 113.526 61.6823 106.235 60.3005C98.9443 58.9187 92.4094 54.9203 87.8602 49.0574C83.3109 43.1946 81.0609 35.8714 81.5332 28.4656C82.0056 21.0599 85.1679 14.0819 90.4252 8.8446C95.6824 3.60726 102.672 0.471508 110.08 0.0272655C117.487 -0.416977 124.802 1.86091 130.647 6.4324C136.493 11.0039 140.467 17.5539 141.821 24.8501C143.175 32.1463 141.816 39.6859 138 46.0505L177.69 85.7505C182.31 82.9877 187.58 81.4995 192.962 81.4375C198.345 81.3755 203.648 82.742 208.33 85.3976C213.012 88.0532 216.907 91.9029 219.616 96.5544C222.326 101.206 223.753 106.492 223.753 111.875C223.753 117.258 222.326 122.545 219.616 127.197C216.907 131.848 213.012 135.698 208.33 138.353C203.648 141.009 198.345 142.375 192.962 142.313C187.58 142.251 182.31 140.763 177.69 138L138 177.7C141.808 184.071 143.155 191.614 141.79 198.91C140.424 206.205 136.44 212.75 130.585 217.313C124.731 221.875 117.412 224.141 110.004 223.683C102.596 223.226 95.6103 220.077 90.3621 214.828C85.1139 209.58 81.9647 202.595 81.5072 195.187C81.0497 187.779 83.3154 180.459 87.878 174.605C92.4405 168.751 98.9853 164.766 106.281 163.401C113.576 162.035 121.119 163.383 127.49 167.19L167.19 127.49C165.664 124.941 164.518 122.182 163.79 119.3H141.39C139.721 125.858 135.915 131.673 130.573 135.826C125.231 139.98 118.657 142.234 111.89 142.234C105.123 142.234 98.5494 139.98 93.2071 135.826C87.8648 131.673 84.0587 125.858 82.39 119.3H60C58.1878 126.495 53.8086 132.78 47.6863 136.971C41.5641 141.163 34.1211 142.972 26.7579 142.059C19.3947 141.146 12.6191 137.574 7.70605 132.014C2.79302 126.454 0.0813599 119.29 0.0813599 111.87C0.0813599 104.451 2.79302 97.2871 7.70605 91.7272C12.6191 86.1673 19.3947 82.5947 26.7579 81.6817C34.1211 80.7686 41.5641 82.5781 47.6863 86.7696C53.8086 90.9611 58.1878 97.2456 60 104.44H82.35ZM100.86 204.32C103.407 206.868 106.759 208.453 110.345 208.806C113.93 209.159 117.527 208.258 120.522 206.256C123.517 204.254 125.725 201.276 126.771 197.828C127.816 194.38 127.633 190.677 126.253 187.349C124.874 184.021 122.383 181.274 119.205 179.577C116.027 177.88 112.359 177.337 108.826 178.042C105.293 178.746 102.113 180.654 99.8291 183.44C97.5451 186.226 96.2979 189.718 96.3 193.32C96.2985 195.364 96.7006 197.388 97.4831 199.275C98.2656 201.163 99.4132 202.877 100.86 204.32ZM204.32 122.88C206.868 120.333 208.453 116.981 208.806 113.396C209.159 109.811 208.258 106.214 206.256 103.219C204.254 100.223 201.275 98.0151 197.827 96.97C194.38 95.9249 190.676 96.1077 187.348 97.4873C184.02 98.8669 181.274 101.358 179.577 104.536C177.879 107.714 177.337 111.382 178.041 114.915C178.746 118.448 180.653 121.627 183.439 123.911C186.226 126.195 189.717 127.443 193.32 127.44C195.364 127.443 197.388 127.042 199.275 126.259C201.163 125.476 202.878 124.328 204.32 122.88ZM122.88 19.4205C120.333 16.8729 116.981 15.2876 113.395 14.9347C109.81 14.5817 106.213 15.483 103.218 17.4849C100.223 19.4868 98.0146 22.4654 96.9696 25.9131C95.9245 29.3608 96.1073 33.0642 97.4869 36.3922C98.8665 39.7202 101.358 42.4668 104.535 44.1639C107.713 45.861 111.381 46.4036 114.914 45.6992C118.447 44.9949 121.627 43.0871 123.911 40.301C126.195 37.515 127.442 34.0231 127.44 30.4205C127.44 28.3772 127.038 26.3539 126.255 24.4664C125.473 22.5788 124.326 20.8642 122.88 19.4205ZM19.42 100.86C16.8725 103.408 15.2872 106.76 14.9342 110.345C14.5813 113.93 15.4826 117.527 17.4844 120.522C19.4863 123.518 22.4649 125.726 25.9127 126.771C29.3604 127.816 33.0638 127.633 36.3918 126.254C39.7198 124.874 42.4664 122.383 44.1635 119.205C45.8606 116.027 46.4032 112.359 45.6988 108.826C44.9944 105.293 43.0866 102.114 40.3006 99.8296C37.5145 97.5455 34.0227 96.2983 30.42 96.3005C26.2938 96.3018 22.337 97.9421 19.42 100.86ZM100.86 100.86C98.3125 103.408 96.7272 106.76 96.3742 110.345C96.0213 113.93 96.9226 117.527 98.9244 120.522C100.926 123.518 103.905 125.726 107.353 126.771C110.8 127.816 114.504 127.633 117.832 126.254C121.16 124.874 123.906 122.383 125.604 119.205C127.301 116.027 127.843 112.359 127.139 108.826C126.434 105.293 124.527 102.114 121.741 99.8296C118.955 97.5455 115.463 96.2983 111.86 96.3005C109.817 96.299 107.793 96.701 105.905 97.4835C104.018 98.2661 102.303 99.4136 100.86 100.86Z\" fill=\"#00AEEF\"/>\n",
       "    </g>\n",
       "    <defs>\n",
       "        <clipPath id=\"clip0_4338_178347\">\n",
       "            <rect width=\"566.93\" height=\"223.75\" fill=\"white\"/>\n",
       "        </clipPath>\n",
       "    </defs>\n",
       "  </svg>\n",
       "</div>\n",
       "\n",
       "        \n",
       "<table class=\"jp-RenderedHTMLCommon\" style=\"border-collapse: collapse;color: var(--jp-ui-font-color1);font-size: var(--jp-ui-font-size1);\">\n",
       "    <tr>\n",
       "        <td style=\"text-align: left\"><b>Python version:</b></td>\n",
       "        <td style=\"text-align: left\"><b>3.10.16</b></td>\n",
       "    </tr>\n",
       "    <tr>\n",
       "        <td style=\"text-align: left\"><b>Ray version:</b></td>\n",
       "        <td style=\"text-align: left\"><b> 2.33.0</b></td>\n",
       "    </tr>\n",
       "    <tr>\n",
       "        <td style=\"text-align: left\"><b>Vertex SDK version:</b></td>\n",
       "        <td style=\"text-align: left\"><b> 1.80.0</b></td>\n",
       "    </tr>\n",
       "    <tr>\n",
       "        <td style=\"text-align: left\"><b>Dashboard:</b></td>\n",
       "        <td style=\"text-align: left\"><b><a href=\"https://13e5361e220617fd-dot-us-central1.aiplatform-training.googleusercontent.com\" target=\"_blank\">13e5361e220617fd-dot-us-central1.aiplatform-training.googleusercontent.com</a></b></td>\n",
       "    </tr>\n",
       "    <tr>\n",
       "    <td style=\"text-align: left\"><b>Interactive Terminal Uri:</b></td>\n",
       "    <td style=\"text-align: left\"><b><a href=\"https://f2a22d401ce07eb0-dot-us-central1.aiplatform-training.googleusercontent.com\" target=\"_blank\">f2a22d401ce07eb0-dot-us-central1.aiplatform-training.googleusercontent.com</a></b></td>\n",
       "</tr>\n",
       "    <tr>\n",
       "        <td style=\"text-align: left\"><b>Cluster Name:</b></td>\n",
       "        <td style=\"text-align: left\"><b> cluster-20250216-114448</b></td>\n",
       "    </tr>\n",
       "</table>\n",
       "\n",
       "    </div>\n",
       "</div>\n"
      ],
      "text/plain": [
       "_VertexRayClientContext(dashboard_url='13e5361e220617fd-dot-us-central1.aiplatform-training.googleusercontent.com', python_version='3.10.16', ray_version='2.33.0', ray_commit='914af09c9807444b7d09ed6a80a552bf8d7bb133', _num_clients=1, _context_to_restore=<ray.util.client._ClientContext object at 0x7f353d1e2380>, protocol_version=None)"
      ]
     },
     "execution_count": 45,
     "metadata": {},
     "output_type": "execute_result"
    }
   ],
   "source": [
    "\n",
    "RAY_ADDRESS=f\"vertex_ray://projects/{PROJECT_NBR}/locations/{REGION}/persistentResources/{RAY_CLUSTER_NM}\"\n",
    "print(f\"RAY_ADDRESS:{RAY_ADDRESS}\")\n",
    "\n",
    "RUNTIME_ENV = {\n",
    "  \"pip\": [\n",
    "      \"google-cloud-aiplatform[ray]>=1.56.0\",\n",
    "      \"ray[data,train,tune,serve]>=2.33.0\",\n",
    "      \"datasets\",\n",
    "      \"evaluate\",\n",
    "      \"accelerate==0.18.0\",\n",
    "      \"transformers==4.26.0\",\n",
    "      \"torch>=1.12.0\",\n",
    "      \"deepspeed==0.12.3\",\n",
    "  ],\n",
    "}\n",
    "\n",
    "ray.init(address=RAY_ADDRESS,runtime_env=RUNTIME_ENV)"
   ]
  },
  {
   "cell_type": "markdown",
   "id": "277a09c6-f629-4d92-9547-0031f971d5c2",
   "metadata": {
    "tags": []
   },
   "source": [
    "### Ray Basic concept"
   ]
  },
  {
   "cell_type": "markdown",
   "id": "6159defb-7ba4-4ec4-b440-19e60fef79de",
   "metadata": {
    "tags": []
   },
   "source": [
    "#### Basic Operation"
   ]
  },
  {
   "cell_type": "code",
   "execution_count": 9,
   "id": "06ccba7e-66c9-4aa9-b4f3-66e47e046160",
   "metadata": {
    "tags": []
   },
   "outputs": [
    {
     "name": "stdout",
     "output_type": "stream",
     "text": [
      "[0, 1, 4]\n"
     ]
    }
   ],
   "source": [
    "import time\n",
    "\n",
    "# Define the square task.\n",
    "@ray.remote\n",
    "def square(x):\n",
    "    time.sleep(3)\n",
    "    return x * x\n",
    "\n",
    "# Launch four parallel square tasks.\n",
    "futures = [square.remote(i) for i in range(3)]\n",
    "\n",
    "# Retrieve results.\n",
    "print(ray.get(futures))\n",
    "# -> [0, 1, 4,]"
   ]
  },
  {
   "cell_type": "markdown",
   "id": "9fb696e8-21a6-4bc0-8a12-b04e694a261c",
   "metadata": {},
   "source": [
    "#### Define actor and operate"
   ]
  },
  {
   "cell_type": "code",
   "execution_count": 10,
   "id": "0df0a136-d18d-44ac-9ece-cf89d382191d",
   "metadata": {
    "tags": []
   },
   "outputs": [
    {
     "name": "stdout",
     "output_type": "stream",
     "text": [
      "10\n"
     ]
    }
   ],
   "source": [
    "# Define the Counter actor.\n",
    "@ray.remote\n",
    "class Counter:\n",
    "    def __init__(self):\n",
    "        self.i = 0\n",
    "\n",
    "    def get(self):\n",
    "        return self.i\n",
    "\n",
    "    def increase(self, value):\n",
    "        self.i += value\n",
    "\n",
    "# Create a Counter actor.\n",
    "c = Counter.remote()\n",
    "\n",
    "# Submit calls to the actor. These calls run asynchronously but in\n",
    "# submission order on the remote actor process.\n",
    "for _ in range(10):\n",
    "    c.increase.remote(1)\n",
    "\n",
    "# Retrieve final actor state.\n",
    "print(ray.get(c.get.remote()))\n",
    "# -> 10"
   ]
  },
  {
   "cell_type": "markdown",
   "id": "dbd93ce9-76b4-4e0a-b890-1cfcbeb23d6e",
   "metadata": {},
   "source": [
    "#### Passing an Object"
   ]
  },
  {
   "cell_type": "code",
   "execution_count": 13,
   "id": "5d3006d3-a0f2-490d-b716-3f8e61a3bce4",
   "metadata": {
    "tags": []
   },
   "outputs": [
    {
     "name": "stdout",
     "output_type": "stream",
     "text": [
      "10000.0\n",
      "1000000.0\n"
     ]
    }
   ],
   "source": [
    "import numpy as np\n",
    "\n",
    "# Define a task that sums the values in a matrix.\n",
    "@ray.remote\n",
    "def sum_matrix(matrix):\n",
    "    return np.sum(matrix)\n",
    "\n",
    "# Call the task with a literal argument value.\n",
    "print(ray.get(sum_matrix.remote(np.ones((100, 100)))))\n",
    "# -> 10000.0\n",
    "\n",
    "# Put a large array into the object store.\n",
    "matrix_ref = ray.put(np.ones((1000, 1000)))\n",
    "\n",
    "# Call the task with the object reference as an argument.\n",
    "print(ray.get(sum_matrix.remote(matrix_ref)))\n",
    "# -> 1000000.0"
   ]
  },
  {
   "cell_type": "markdown",
   "id": "c2f86199-d906-41d6-8b8d-80cab9725ca4",
   "metadata": {},
   "source": [
    "### Tasks\n",
    "* https://docs.ray.io/en/latest/ray-core/tasks.html"
   ]
  },
  {
   "cell_type": "code",
   "execution_count": 11,
   "id": "e5b6dded-abaf-4cf0-a1f9-464b359781af",
   "metadata": {
    "tags": []
   },
   "outputs": [],
   "source": [
    "import ray\n",
    "import time\n",
    "\n",
    "\n",
    "# A regular Python function.\n",
    "def normal_function():\n",
    "    return 1\n",
    "\n",
    "\n",
    "# By adding the `@ray.remote` decorator, a regular Python function\n",
    "# becomes a Ray remote function.\n",
    "@ray.remote\n",
    "def my_function():\n",
    "    return 1\n",
    "\n",
    "\n",
    "# To invoke this remote function, use the `remote` method.\n",
    "# This will immediately return an object ref (a future) and then create\n",
    "# a task that will be executed on a worker process.\n",
    "obj_ref = my_function.remote()\n",
    "\n",
    "# The result can be retrieved with ``ray.get``.\n",
    "assert ray.get(obj_ref) == 1"
   ]
  },
  {
   "cell_type": "code",
   "execution_count": 20,
   "id": "75e73ccc-18ea-456d-9ff7-a96c91a4eece",
   "metadata": {
    "tags": []
   },
   "outputs": [],
   "source": [
    "@ray.remote\n",
    "def slow_function():\n",
    "    time.sleep(10)\n",
    "    return 1\n",
    "\n",
    "\n",
    "# Ray tasks are executed in parallel.\n",
    "# All computation is performed in the background, driven by Ray's internal event loop.\n",
    "for _ in range(4):\n",
    "    # This doesn't block.\n",
    "    slow_function.remote()"
   ]
  },
  {
   "cell_type": "markdown",
   "id": "d912ec4d-cdb3-4cd8-91e4-3b72b33adafb",
   "metadata": {},
   "source": [
    "#### Specifying required resources"
   ]
  },
  {
   "cell_type": "code",
   "execution_count": 12,
   "id": "e3084708-5b4d-4401-aa58-6d1193a3d39e",
   "metadata": {
    "tags": []
   },
   "outputs": [
    {
     "data": {
      "text/plain": [
       "ClientObjectRef(1e360ffa862f8fe3ffffffffffffffffffffffff0100000001000000)"
      ]
     },
     "execution_count": 12,
     "metadata": {},
     "output_type": "execute_result"
    }
   ],
   "source": [
    "# Specify required resources.\n",
    "@ray.remote(num_cpus=4, num_gpus=2)\n",
    "def my_function():\n",
    "    return 1\n",
    "\n",
    "# Override the default resource requirements.\n",
    "my_function.options(num_cpus=3).remote()"
   ]
  },
  {
   "cell_type": "markdown",
   "id": "d77d0e5b-2897-4c1c-b403-ed0202c89fde",
   "metadata": {},
   "source": [
    "#### Passing object refs to Ray taks\n",
    "\n",
    "* myfunction --> refs --> function with an argument --> refs."
   ]
  },
  {
   "cell_type": "code",
   "execution_count": 13,
   "id": "098a2c9a-3886-4cd8-aa13-1150bf0f3579",
   "metadata": {
    "tags": []
   },
   "outputs": [
    {
     "name": "stdout",
     "output_type": "stream",
     "text": [
      "1\n",
      "2\n"
     ]
    }
   ],
   "source": [
    "@ray.remote\n",
    "def my_function():\n",
    "    return 1\n",
    "\n",
    "@ray.remote\n",
    "def function_with_an_argument(value):\n",
    "    return value + 1\n",
    "\n",
    "obj_ref1 = my_function.remote()\n",
    "result1 = ray.get(obj_ref1)\n",
    "print(result1)\n",
    "\n",
    "# You can pass an object ref as an argument to another Ray task.\n",
    "obj_ref2 = function_with_an_argument.remote(obj_ref1)\n",
    "result2 = ray.get(obj_ref2)\n",
    "print(result2)"
   ]
  },
  {
   "cell_type": "markdown",
   "id": "02b10ca7-d62e-41d5-b26d-46fc0c0b5a5d",
   "metadata": {},
   "source": [
    "#### wait for the slow function."
   ]
  },
  {
   "cell_type": "code",
   "execution_count": 15,
   "id": "6b77d2ba-27ad-404a-82b0-fa40d8c6654d",
   "metadata": {
    "tags": []
   },
   "outputs": [
    {
     "name": "stdout",
     "output_type": "stream",
     "text": [
      "ready_refs:[ClientObjectRef(c76a79b2875a7251ffffffffffffffffffffffff0100000001000000)]\n",
      "remaining_refs:[ClientObjectRef(465c0fb8d6cb3cdcffffffffffffffffffffffff0100000001000000)]\n"
     ]
    }
   ],
   "source": [
    "@ray.remote\n",
    "def slow_function():\n",
    "    time.sleep(10)\n",
    "    return 1\n",
    "\n",
    "\n",
    "object_refs = [slow_function.remote() for _ in range(2)]\n",
    "# Return as soon as one of the tasks finished execution.\n",
    "ready_refs, remaining_refs = ray.wait(object_refs, num_returns=1, timeout=None)\n",
    "\n",
    "print(f\"ready_refs:{ready_refs}\")\n",
    "print(f\"remaining_refs:{remaining_refs}\")\n"
   ]
  },
  {
   "cell_type": "markdown",
   "id": "35ac4b6b-a424-4490-8a33-efffe7af6bb7",
   "metadata": {},
   "source": [
    "#### Multiple resturns"
   ]
  },
  {
   "cell_type": "code",
   "execution_count": 16,
   "id": "531bf926-ec26-45de-a58f-995cbce95a19",
   "metadata": {
    "tags": []
   },
   "outputs": [
    {
     "data": {
      "text/plain": [
       "(0, 1, 2)"
      ]
     },
     "execution_count": 16,
     "metadata": {},
     "output_type": "execute_result"
    }
   ],
   "source": [
    "# By default, a Ray task only returns a single Object Ref.\n",
    "@ray.remote\n",
    "def return_single():\n",
    "    return 0, 1, 2  # tuple return.\n",
    "\n",
    "\n",
    "object_ref = return_single.remote()\n",
    "assert ray.get(object_ref) == (0, 1, 2)\n",
    "\n",
    "\n",
    "# However, you can configure Ray tasks to return multiple Object Refs.\n",
    "@ray.remote(num_returns=3)\n",
    "def return_multiple():\n",
    "    return 0, 1, 2\n",
    "\n",
    "\n",
    "object_ref0, object_ref1, object_ref2 = return_multiple.remote()\n",
    "\n",
    "ray.get(object_ref0), ray.get(object_ref1), ray.get(object_ref2)"
   ]
  },
  {
   "cell_type": "markdown",
   "id": "7e79435f-732e-403b-91e3-899fd061ff93",
   "metadata": {},
   "source": [
    "### Actors"
   ]
  },
  {
   "cell_type": "markdown",
   "id": "87c12690-30fc-4b4a-88fd-6966a0aa0c3f",
   "metadata": {},
   "source": [
    "#### Actors basic"
   ]
  },
  {
   "cell_type": "code",
   "execution_count": 48,
   "id": "38ae686c-30c9-4cda-a5fd-6d95a85b1201",
   "metadata": {
    "tags": []
   },
   "outputs": [
    {
     "name": "stdout",
     "output_type": "stream",
     "text": [
      "30\n"
     ]
    }
   ],
   "source": [
    "import ray\n",
    "\n",
    "#@ray.remote(num_cpus=1, num_gpus=1) # specify the resources\n",
    "@ray.remote # specify the resources\n",
    "class Counter:\n",
    "    def __init__(self):\n",
    "        self.value = 20\n",
    "\n",
    "    def increment(self, num):\n",
    "        self.value = self.value + num\n",
    "        return self.value\n",
    "\n",
    "    def get_counter(self):\n",
    "        return self.value\n",
    "\n",
    "# Create an actor from this class.\n",
    "counter = Counter.remote()\n",
    "\n",
    "# Call the actor.\n",
    "obj_ref = counter.increment.remote(10)\n",
    "print(ray.get(obj_ref))\n",
    "\n"
   ]
  },
  {
   "cell_type": "markdown",
   "id": "98580dd5-eb81-4f04-b8ab-18504cb69c88",
   "metadata": {},
   "source": [
    "#### Multiple operations"
   ]
  },
  {
   "cell_type": "code",
   "execution_count": 52,
   "id": "445c989e-8f5c-47a3-b77e-7a257e813bf3",
   "metadata": {
    "tags": []
   },
   "outputs": [
    {
     "name": "stdout",
     "output_type": "stream",
     "text": [
      "[30, 30, 30, 30, 30, 30, 30, 30, 30, 30]\n"
     ]
    }
   ],
   "source": [
    "# Create ten Counter actors.\n",
    "counters = [Counter.remote() for _ in range(10)]\n",
    "\n",
    "# Increment each Counter once and get the results. These tasks all happen in parallel.\n",
    "results = ray.get([c.increment.remote(10) for c in counters])\n",
    "print(results)\n"
   ]
  },
  {
   "cell_type": "code",
   "execution_count": 53,
   "id": "26b08ad0-91f8-4f5a-ad1b-13fd70d9e99c",
   "metadata": {
    "tags": []
   },
   "outputs": [
    {
     "name": "stdout",
     "output_type": "stream",
     "text": [
      "[50, 70, 90, 110, 130, 150, 170, 190, 210, 230]\n"
     ]
    }
   ],
   "source": [
    "# Increment the first Counter five times. These tasks are executed serially and share state.\n",
    "results = ray.get([counters[0].increment.remote(20) for _ in range(10)])\n",
    "print(results)"
   ]
  },
  {
   "cell_type": "code",
   "execution_count": null,
   "id": "ed22645e-3d0b-4a61-89c2-7b3dbecf81f2",
   "metadata": {},
   "outputs": [],
   "source": []
  }
 ],
 "metadata": {
  "environment": {
   "kernel": "conda-base-py",
   "name": "workbench-notebooks.m127",
   "type": "gcloud",
   "uri": "us-docker.pkg.dev/deeplearning-platform-release/gcr.io/workbench-notebooks:m127"
  },
  "kernelspec": {
   "display_name": "Python 3 (ipykernel) (Local)",
   "language": "python",
   "name": "conda-base-py"
  },
  "language_info": {
   "codemirror_mode": {
    "name": "ipython",
    "version": 3
   },
   "file_extension": ".py",
   "mimetype": "text/x-python",
   "name": "python",
   "nbconvert_exporter": "python",
   "pygments_lexer": "ipython3",
   "version": "3.10.16"
  }
 },
 "nbformat": 4,
 "nbformat_minor": 5
}
