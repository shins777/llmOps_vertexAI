{
 "cells": [
  {
   "cell_type": "code",
   "execution_count": null,
   "id": "b2c437fe-560f-48a8-8f7f-d69c13bf0912",
   "metadata": {},
   "outputs": [],
   "source": [
    "# Copyright  2024 Forusone\n",
    "#\n",
    "# Licensed under the Apache License, Version 2.0 (the \"License\");\n",
    "# you may not use this file except in compliance with the License.\n",
    "# You may obtain a copy of the License at\n",
    "#\n",
    "#     https://www.apache.org/licenses/LICENSE-2.0\n",
    "#\n",
    "# Unless required by applicable law or agreed to in writing, software\n",
    "# distributed under the License is distributed on an \"AS IS\" BASIS,\n",
    "# WITHOUT WARRANTIES OR CONDITIONS OF ANY KIND, either express or implied.\n",
    "# See the License for the specific language governing permissions and\n",
    "# limitations under the License."
   ]
  },
  {
   "cell_type": "markdown",
   "id": "ac6fe6cf-240e-41db-af37-1ea6d4320494",
   "metadata": {},
   "source": [
    "## Ray Data operation examples"
   ]
  },
  {
   "cell_type": "markdown",
   "id": "78f947ec-3253-459c-94b8-a52298d7485b",
   "metadata": {},
   "source": [
    "### Configuration"
   ]
  },
  {
   "cell_type": "code",
   "execution_count": 13,
   "id": "e17cecad-9500-42e6-a7d8-dab12f2702cf",
   "metadata": {
    "tags": []
   },
   "outputs": [],
   "source": [
    "! pip install --user -q \"google-cloud-aiplatform[ray]>=1.56.0\" \\\n",
    "                        \"ray[data,train,tune,serve]>=2.33.0\""
   ]
  },
  {
   "cell_type": "code",
   "execution_count": 20,
   "id": "8cfaf7ff-0a44-4af8-8aaf-962b4bce8163",
   "metadata": {
    "tags": []
   },
   "outputs": [],
   "source": [
    "# @title Define constants\n",
    "PROJECT_NBR = \"721521243942\"\n",
    "PROJECT_ID = \"ai-hangsik\"\n",
    "REGION=\"us-central1\"\n",
    "RAY_CLUSTER_NM = \"ray33-cluster-20250216-192557\""
   ]
  },
  {
   "cell_type": "code",
   "execution_count": 21,
   "id": "ef9a7e4f-38e9-44be-a4da-813979e887f0",
   "metadata": {
    "tags": []
   },
   "outputs": [],
   "source": [
    "from google.cloud import aiplatform\n",
    "\n",
    "aiplatform.init(project=PROJECT_ID, location=REGION)"
   ]
  },
  {
   "cell_type": "code",
   "execution_count": 22,
   "id": "39db2165-ae5d-4e49-9893-9663d0f816d1",
   "metadata": {
    "tags": []
   },
   "outputs": [],
   "source": [
    "import ray\n",
    "from ray.runtime_env import RuntimeEnv\n",
    "from ray.air.config import RunConfig\n",
    "from ray.air import CheckpointConfig, ScalingConfig\n",
    "from ray.util.joblib import register_ray"
   ]
  },
  {
   "cell_type": "code",
   "execution_count": 23,
   "id": "052c2f99-f13c-4370-a233-aaf6808fdc2e",
   "metadata": {
    "tags": []
   },
   "outputs": [
    {
     "data": {
      "text/plain": [
       "'2.33.0'"
      ]
     },
     "execution_count": 23,
     "metadata": {},
     "output_type": "execute_result"
    }
   ],
   "source": [
    "ray.__version__"
   ]
  },
  {
   "cell_type": "code",
   "execution_count": 62,
   "id": "356aef17-6fb0-4f05-8798-b591d3864b80",
   "metadata": {
    "tags": []
   },
   "outputs": [],
   "source": [
    "\n",
    "ray.shutdown()"
   ]
  },
  {
   "cell_type": "code",
   "execution_count": null,
   "id": "ecc7a783-08d4-43a8-ad40-460631f9e4b6",
   "metadata": {
    "tags": []
   },
   "outputs": [],
   "source": [
    "\n",
    "RAY_ADDRESS=f\"vertex_ray://projects/{PROJECT_NBR}/locations/{REGION}/persistentResources/{RAY_CLUSTER_NM}\"\n",
    "print(f\"RAY_ADDRESS:{RAY_ADDRESS}\")\n",
    "\n",
    "RUNTIME_ENV = {\n",
    "  \"pip\": [\n",
    "      \"google-cloud-aiplatform[ray]>=1.56.0\",\n",
    "      \"ray[data,train,tune,serve]>=2.33.0\",\n",
    "      \"datasets\",\n",
    "      \"evaluate\",\n",
    "      \"accelerate==0.18.0\",\n",
    "      \"transformers==4.26.0\",\n",
    "      \"torch>=1.12.0\",\n",
    "      \"deepspeed==0.12.3\",\n",
    "  ],\n",
    "}\n",
    "\n",
    "ray.init(address=RAY_ADDRESS,runtime_env=RUNTIME_ENV)"
   ]
  },
  {
   "cell_type": "code",
   "execution_count": null,
   "id": "737ffe97-f498-4efa-9866-613b8cb40e92",
   "metadata": {},
   "outputs": [],
   "source": []
  },
  {
   "cell_type": "markdown",
   "id": "277a09c6-f629-4d92-9547-0031f971d5c2",
   "metadata": {
    "tags": []
   },
   "source": [
    "### Basic Operation"
   ]
  },
  {
   "cell_type": "markdown",
   "id": "cbe63ff3-d0e9-4bee-a0e2-cfb34a542e1d",
   "metadata": {
    "tags": []
   },
   "source": [
    "#### Get data from GCS\n",
    "\n",
    "* https://docs.ray.io/en/latest/data/api/doc/ray.data.read_csv.html#ray.data.read_csv"
   ]
  },
  {
   "cell_type": "code",
   "execution_count": 48,
   "id": "06ccba7e-66c9-4aa9-b4f3-66e47e046160",
   "metadata": {
    "tags": []
   },
   "outputs": [],
   "source": [
    "\n",
    "@ray.remote\n",
    "def load_data():\n",
    "    \n",
    "    import ray\n",
    "    \n",
    "    ds = ray.data.read_csv(\"gs://sllm_checkpoints/data/Iris.csv\" )\n",
    "    print(ds.schema())\n",
    "    print(ds.take(1))"
   ]
  },
  {
   "cell_type": "code",
   "execution_count": 49,
   "id": "52733b92-a90d-4285-85b3-5cb1c374713b",
   "metadata": {
    "tags": []
   },
   "outputs": [],
   "source": [
    "ray.get(load_data.remote())"
   ]
  },
  {
   "cell_type": "markdown",
   "id": "79ae3266-5030-4061-b255-ef853a5b74c2",
   "metadata": {},
   "source": [
    "#### Different parse option"
   ]
  },
  {
   "cell_type": "code",
   "execution_count": null,
   "id": "52dd0834-33c0-4edc-bc8e-5836d4b89c02",
   "metadata": {},
   "outputs": [],
   "source": [
    "\n",
    "@ray.remote\n",
    "def load_data():\n",
    "    \n",
    "    from pyarrow import csv\n",
    "    \n",
    "    parse_options = csv.ParseOptions(delimiter=\"\\t\")\n",
    "    ds = ray.data.read_csv(\"gs://sllm_checkpoints/data/Iris.tsv\", parse_options=parse_options )\n",
    "    print(ds.schema())\n"
   ]
  },
  {
   "cell_type": "code",
   "execution_count": null,
   "id": "0756413d-b60e-4100-8759-53d07195b272",
   "metadata": {},
   "outputs": [],
   "source": [
    "ray.get(load_data.remote())"
   ]
  },
  {
   "cell_type": "code",
   "execution_count": null,
   "id": "0d640599-c8a2-46b2-833c-6c4084dae4c5",
   "metadata": {},
   "outputs": [],
   "source": []
  },
  {
   "cell_type": "code",
   "execution_count": 59,
   "id": "4397594c-b7fc-4056-8929-d8658100280b",
   "metadata": {
    "tags": []
   },
   "outputs": [],
   "source": [
    "# https://docs.ray.io/en/latest/data/api/doc/ray.data.Dataset.write_csv.html#ray.data.Dataset.write_csv\n",
    "\n",
    "@ray.remote\n",
    "def save_data():\n",
    "\n",
    "    import os\n",
    "    \n",
    "    ds = ray.data.read_csv(\"gs://sllm_checkpoints/data/Iris.csv\" )\n",
    "    ds.write_csv(\"gs://sllm_checkpoints/tmp_store\", num_rows_per_file = 1000)\n"
   ]
  },
  {
   "cell_type": "code",
   "execution_count": 60,
   "id": "aeabc661-9a95-4676-bf85-5240a9203f17",
   "metadata": {
    "tags": []
   },
   "outputs": [],
   "source": [
    "ray.get(save_data.remote())"
   ]
  },
  {
   "cell_type": "code",
   "execution_count": null,
   "id": "0f8b0a93-b95d-46ec-8154-2d41fe427111",
   "metadata": {},
   "outputs": [],
   "source": []
  }
 ],
 "metadata": {
  "environment": {
   "kernel": "conda-base-py",
   "name": "workbench-notebooks.m127",
   "type": "gcloud",
   "uri": "us-docker.pkg.dev/deeplearning-platform-release/gcr.io/workbench-notebooks:m127"
  },
  "kernelspec": {
   "display_name": "Python 3 (ipykernel) (Local)",
   "language": "python",
   "name": "conda-base-py"
  },
  "language_info": {
   "codemirror_mode": {
    "name": "ipython",
    "version": 3
   },
   "file_extension": ".py",
   "mimetype": "text/x-python",
   "name": "python",
   "nbconvert_exporter": "python",
   "pygments_lexer": "ipython3",
   "version": "3.10.16"
  }
 },
 "nbformat": 4,
 "nbformat_minor": 5
}
