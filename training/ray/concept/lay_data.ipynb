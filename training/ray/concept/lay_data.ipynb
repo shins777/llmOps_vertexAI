{
 "cells": [
  {
   "cell_type": "markdown",
   "id": "ac6fe6cf-240e-41db-af37-1ea6d4320494",
   "metadata": {},
   "source": [
    "## Ray Data operation examples"
   ]
  },
  {
   "cell_type": "markdown",
   "id": "78f947ec-3253-459c-94b8-a52298d7485b",
   "metadata": {},
   "source": [
    "### Configuration"
   ]
  },
  {
   "cell_type": "code",
   "execution_count": 13,
   "id": "e17cecad-9500-42e6-a7d8-dab12f2702cf",
   "metadata": {
    "tags": []
   },
   "outputs": [],
   "source": [
    "! pip install --user -q \"google-cloud-aiplatform[ray]>=1.56.0\" \\\n",
    "                        \"ray[data,train,tune,serve]>=2.33.0\""
   ]
  },
  {
   "cell_type": "code",
   "execution_count": 20,
   "id": "8cfaf7ff-0a44-4af8-8aaf-962b4bce8163",
   "metadata": {
    "tags": []
   },
   "outputs": [],
   "source": [
    "# @title Define constants\n",
    "PROJECT_NBR = \"721521243942\"\n",
    "PROJECT_ID = \"ai-hangsik\"\n",
    "REGION=\"us-central1\"\n",
    "RAY_CLUSTER_NM = \"ray33-cluster-20250216-192557\""
   ]
  },
  {
   "cell_type": "code",
   "execution_count": 21,
   "id": "ef9a7e4f-38e9-44be-a4da-813979e887f0",
   "metadata": {
    "tags": []
   },
   "outputs": [],
   "source": [
    "from google.cloud import aiplatform\n",
    "\n",
    "aiplatform.init(project=PROJECT_ID, location=REGION)"
   ]
  },
  {
   "cell_type": "code",
   "execution_count": 22,
   "id": "39db2165-ae5d-4e49-9893-9663d0f816d1",
   "metadata": {
    "tags": []
   },
   "outputs": [],
   "source": [
    "import ray\n",
    "from ray.runtime_env import RuntimeEnv\n",
    "from ray.air.config import RunConfig\n",
    "from ray.air import CheckpointConfig, ScalingConfig\n",
    "from ray.util.joblib import register_ray"
   ]
  },
  {
   "cell_type": "code",
   "execution_count": 23,
   "id": "052c2f99-f13c-4370-a233-aaf6808fdc2e",
   "metadata": {
    "tags": []
   },
   "outputs": [
    {
     "data": {
      "text/plain": [
       "'2.33.0'"
      ]
     },
     "execution_count": 23,
     "metadata": {},
     "output_type": "execute_result"
    }
   ],
   "source": [
    "ray.__version__"
   ]
  },
  {
   "cell_type": "code",
   "execution_count": 62,
   "id": "356aef17-6fb0-4f05-8798-b591d3864b80",
   "metadata": {
    "tags": []
   },
   "outputs": [],
   "source": [
    "\n",
    "ray.shutdown()"
   ]
  },
  {
   "cell_type": "code",
   "execution_count": 25,
   "id": "ecc7a783-08d4-43a8-ad40-460631f9e4b6",
   "metadata": {
    "tags": []
   },
   "outputs": [
    {
     "name": "stdout",
     "output_type": "stream",
     "text": [
      "RAY_ADDRESS:vertex_ray://projects/721521243942/locations/us-central1/persistentResources/ray33-cluster-20250216-192557\n",
      "[Ray on Vertex AI]: Cluster State = State.RUNNING\n"
     ]
    },
    {
     "name": "stderr",
     "output_type": "stream",
     "text": [
      "SIGTERM handler is not set because current thread is not the main thread.\n"
     ]
    },
    {
     "data": {
      "application/vnd.jupyter.widget-view+json": {
       "model_id": "fb0295d00b744c10a05190fe8edd09bd",
       "version_major": 2,
       "version_minor": 0
      },
      "text/html": [
       "<div class=\"lm-Widget p-Widget lm-Panel p-Panel jp-Cell-outputWrapper\">\n",
       "    <div style=\"margin-left: 50px;display: flex;flex-direction: row;align-items: center\">\n",
       "        <div class=\"jp-RenderedHTMLCommon\" style=\"display: flex; flex-direction: row;\">\n",
       "  <svg viewBox=\"0 0 567 224\" fill=\"none\" xmlns=\"http://www.w3.org/2000/svg\" style=\"height: 3em;\">\n",
       "    <g clip-path=\"url(#clip0_4338_178347)\">\n",
       "        <path d=\"M341.29 165.561H355.29L330.13 129.051C345.63 123.991 354.21 112.051 354.21 94.2307C354.21 71.3707 338.72 58.1807 311.88 58.1807H271V165.561H283.27V131.661H311.8C314.25 131.661 316.71 131.501 319.01 131.351L341.25 165.561H341.29ZM283.29 119.851V70.0007H311.82C331.3 70.0007 342.34 78.2907 342.34 94.5507C342.34 111.271 331.34 119.861 311.82 119.861L283.29 119.851ZM451.4 138.411L463.4 165.561H476.74L428.74 58.1807H416L367.83 165.561H380.83L392.83 138.411H451.4ZM446.19 126.601H398L422 72.1407L446.24 126.601H446.19ZM526.11 128.741L566.91 58.1807H554.35L519.99 114.181L485.17 58.1807H472.44L514.01 129.181V165.541H526.13V128.741H526.11Z\" fill=\"var(--jp-ui-font-color0)\"/>\n",
       "        <path d=\"M82.35 104.44C84.0187 97.8827 87.8248 92.0678 93.1671 87.9146C98.5094 83.7614 105.083 81.5067 111.85 81.5067C118.617 81.5067 125.191 83.7614 130.533 87.9146C135.875 92.0678 139.681 97.8827 141.35 104.44H163.75C164.476 101.562 165.622 98.8057 167.15 96.2605L127.45 56.5605C121.071 60.3522 113.526 61.6823 106.235 60.3005C98.9443 58.9187 92.4094 54.9203 87.8602 49.0574C83.3109 43.1946 81.0609 35.8714 81.5332 28.4656C82.0056 21.0599 85.1679 14.0819 90.4252 8.8446C95.6824 3.60726 102.672 0.471508 110.08 0.0272655C117.487 -0.416977 124.802 1.86091 130.647 6.4324C136.493 11.0039 140.467 17.5539 141.821 24.8501C143.175 32.1463 141.816 39.6859 138 46.0505L177.69 85.7505C182.31 82.9877 187.58 81.4995 192.962 81.4375C198.345 81.3755 203.648 82.742 208.33 85.3976C213.012 88.0532 216.907 91.9029 219.616 96.5544C222.326 101.206 223.753 106.492 223.753 111.875C223.753 117.258 222.326 122.545 219.616 127.197C216.907 131.848 213.012 135.698 208.33 138.353C203.648 141.009 198.345 142.375 192.962 142.313C187.58 142.251 182.31 140.763 177.69 138L138 177.7C141.808 184.071 143.155 191.614 141.79 198.91C140.424 206.205 136.44 212.75 130.585 217.313C124.731 221.875 117.412 224.141 110.004 223.683C102.596 223.226 95.6103 220.077 90.3621 214.828C85.1139 209.58 81.9647 202.595 81.5072 195.187C81.0497 187.779 83.3154 180.459 87.878 174.605C92.4405 168.751 98.9853 164.766 106.281 163.401C113.576 162.035 121.119 163.383 127.49 167.19L167.19 127.49C165.664 124.941 164.518 122.182 163.79 119.3H141.39C139.721 125.858 135.915 131.673 130.573 135.826C125.231 139.98 118.657 142.234 111.89 142.234C105.123 142.234 98.5494 139.98 93.2071 135.826C87.8648 131.673 84.0587 125.858 82.39 119.3H60C58.1878 126.495 53.8086 132.78 47.6863 136.971C41.5641 141.163 34.1211 142.972 26.7579 142.059C19.3947 141.146 12.6191 137.574 7.70605 132.014C2.79302 126.454 0.0813599 119.29 0.0813599 111.87C0.0813599 104.451 2.79302 97.2871 7.70605 91.7272C12.6191 86.1673 19.3947 82.5947 26.7579 81.6817C34.1211 80.7686 41.5641 82.5781 47.6863 86.7696C53.8086 90.9611 58.1878 97.2456 60 104.44H82.35ZM100.86 204.32C103.407 206.868 106.759 208.453 110.345 208.806C113.93 209.159 117.527 208.258 120.522 206.256C123.517 204.254 125.725 201.276 126.771 197.828C127.816 194.38 127.633 190.677 126.253 187.349C124.874 184.021 122.383 181.274 119.205 179.577C116.027 177.88 112.359 177.337 108.826 178.042C105.293 178.746 102.113 180.654 99.8291 183.44C97.5451 186.226 96.2979 189.718 96.3 193.32C96.2985 195.364 96.7006 197.388 97.4831 199.275C98.2656 201.163 99.4132 202.877 100.86 204.32ZM204.32 122.88C206.868 120.333 208.453 116.981 208.806 113.396C209.159 109.811 208.258 106.214 206.256 103.219C204.254 100.223 201.275 98.0151 197.827 96.97C194.38 95.9249 190.676 96.1077 187.348 97.4873C184.02 98.8669 181.274 101.358 179.577 104.536C177.879 107.714 177.337 111.382 178.041 114.915C178.746 118.448 180.653 121.627 183.439 123.911C186.226 126.195 189.717 127.443 193.32 127.44C195.364 127.443 197.388 127.042 199.275 126.259C201.163 125.476 202.878 124.328 204.32 122.88ZM122.88 19.4205C120.333 16.8729 116.981 15.2876 113.395 14.9347C109.81 14.5817 106.213 15.483 103.218 17.4849C100.223 19.4868 98.0146 22.4654 96.9696 25.9131C95.9245 29.3608 96.1073 33.0642 97.4869 36.3922C98.8665 39.7202 101.358 42.4668 104.535 44.1639C107.713 45.861 111.381 46.4036 114.914 45.6992C118.447 44.9949 121.627 43.0871 123.911 40.301C126.195 37.515 127.442 34.0231 127.44 30.4205C127.44 28.3772 127.038 26.3539 126.255 24.4664C125.473 22.5788 124.326 20.8642 122.88 19.4205ZM19.42 100.86C16.8725 103.408 15.2872 106.76 14.9342 110.345C14.5813 113.93 15.4826 117.527 17.4844 120.522C19.4863 123.518 22.4649 125.726 25.9127 126.771C29.3604 127.816 33.0638 127.633 36.3918 126.254C39.7198 124.874 42.4664 122.383 44.1635 119.205C45.8606 116.027 46.4032 112.359 45.6988 108.826C44.9944 105.293 43.0866 102.114 40.3006 99.8296C37.5145 97.5455 34.0227 96.2983 30.42 96.3005C26.2938 96.3018 22.337 97.9421 19.42 100.86ZM100.86 100.86C98.3125 103.408 96.7272 106.76 96.3742 110.345C96.0213 113.93 96.9226 117.527 98.9244 120.522C100.926 123.518 103.905 125.726 107.353 126.771C110.8 127.816 114.504 127.633 117.832 126.254C121.16 124.874 123.906 122.383 125.604 119.205C127.301 116.027 127.843 112.359 127.139 108.826C126.434 105.293 124.527 102.114 121.741 99.8296C118.955 97.5455 115.463 96.2983 111.86 96.3005C109.817 96.299 107.793 96.701 105.905 97.4835C104.018 98.2661 102.303 99.4136 100.86 100.86Z\" fill=\"#00AEEF\"/>\n",
       "    </g>\n",
       "    <defs>\n",
       "        <clipPath id=\"clip0_4338_178347\">\n",
       "            <rect width=\"566.93\" height=\"223.75\" fill=\"white\"/>\n",
       "        </clipPath>\n",
       "    </defs>\n",
       "  </svg>\n",
       "</div>\n",
       "\n",
       "        \n",
       "<table class=\"jp-RenderedHTMLCommon\" style=\"border-collapse: collapse;color: var(--jp-ui-font-color1);font-size: var(--jp-ui-font-size1);\">\n",
       "    <tr>\n",
       "        <td style=\"text-align: left\"><b>Python version:</b></td>\n",
       "        <td style=\"text-align: left\"><b>3.10.16</b></td>\n",
       "    </tr>\n",
       "    <tr>\n",
       "        <td style=\"text-align: left\"><b>Ray version:</b></td>\n",
       "        <td style=\"text-align: left\"><b> 2.33.0</b></td>\n",
       "    </tr>\n",
       "    <tr>\n",
       "        <td style=\"text-align: left\"><b>Vertex SDK version:</b></td>\n",
       "        <td style=\"text-align: left\"><b> 1.80.0</b></td>\n",
       "    </tr>\n",
       "    <tr>\n",
       "        <td style=\"text-align: left\"><b>Dashboard:</b></td>\n",
       "        <td style=\"text-align: left\"><b><a href=\"https://e8b73f504c907557-dot-us-central1.aiplatform-training.googleusercontent.com\" target=\"_blank\">e8b73f504c907557-dot-us-central1.aiplatform-training.googleusercontent.com</a></b></td>\n",
       "    </tr>\n",
       "    <tr>\n",
       "    <td style=\"text-align: left\"><b>Interactive Terminal Uri:</b></td>\n",
       "    <td style=\"text-align: left\"><b><a href=\"https://fe7820d66f7ca7e2-dot-us-central1.aiplatform-training.googleusercontent.com\" target=\"_blank\">fe7820d66f7ca7e2-dot-us-central1.aiplatform-training.googleusercontent.com</a></b></td>\n",
       "</tr>\n",
       "    <tr>\n",
       "        <td style=\"text-align: left\"><b>Cluster Name:</b></td>\n",
       "        <td style=\"text-align: left\"><b> ray33-cluster-20250216-192557</b></td>\n",
       "    </tr>\n",
       "</table>\n",
       "\n",
       "    </div>\n",
       "</div>\n"
      ],
      "text/plain": [
       "_VertexRayClientContext(dashboard_url='e8b73f504c907557-dot-us-central1.aiplatform-training.googleusercontent.com', python_version='3.10.16', ray_version='2.33.0', ray_commit='914af09c9807444b7d09ed6a80a552bf8d7bb133', _num_clients=1, _context_to_restore=<ray.util.client._ClientContext object at 0x7f48c0246380>, protocol_version=None)"
      ]
     },
     "execution_count": 25,
     "metadata": {},
     "output_type": "execute_result"
    },
    {
     "name": "stderr",
     "output_type": "stream",
     "text": [
      "\u001b[36m(load_data pid=2171, ip=10.127.0.100)\u001b[0m Starting execution of Dataset. Full logs are in /tmp/ray/session_2025-02-16_10-36-39_777647_11/logs/ray-data\n",
      "\u001b[36m(load_data pid=2171, ip=10.127.0.100)\u001b[0m Execution plan of Dataset: InputDataBuffer[Input] -> TaskPoolMapOperator[ReadCSV]\n",
      "\u001b[36m(load_data pid=2171, ip=10.127.0.100)\u001b[0m Starting execution of Dataset. Full logs are in /tmp/ray/session_2025-02-16_10-36-39_777647_11/logs/ray-data\n",
      "\u001b[36m(load_data pid=2171, ip=10.127.0.100)\u001b[0m Execution plan of Dataset: InputDataBuffer[Input] -> TaskPoolMapOperator[ReadCSV]\n",
      "\u001b[36m(load_data pid=2171, ip=10.127.0.100)\u001b[0m Starting execution of Dataset. Full logs are in /tmp/ray/session_2025-02-16_10-36-39_777647_11/logs/ray-data\n",
      "\u001b[36m(load_data pid=2171, ip=10.127.0.100)\u001b[0m Execution plan of Dataset: InputDataBuffer[Input] -> TaskPoolMapOperator[ReadCSV]\n"
     ]
    },
    {
     "name": "stdout",
     "output_type": "stream",
     "text": [
      "\u001b[36m(load_data pid=2171, ip=10.127.0.100)\u001b[0m Column         Type\n",
      "\u001b[36m(load_data pid=2171, ip=10.127.0.100)\u001b[0m ------         ----\n",
      "\u001b[36m(load_data pid=2171, ip=10.127.0.100)\u001b[0m Id             int64\n",
      "\u001b[36m(load_data pid=2171, ip=10.127.0.100)\u001b[0m SepalLengthCm  double\n",
      "\u001b[36m(load_data pid=2171, ip=10.127.0.100)\u001b[0m SepalWidthCm   double\n",
      "\u001b[36m(load_data pid=2171, ip=10.127.0.100)\u001b[0m PetalLengthCm  double\n",
      "\u001b[36m(load_data pid=2171, ip=10.127.0.100)\u001b[0m PetalWidthCm   double\n",
      "\u001b[36m(load_data pid=2171, ip=10.127.0.100)\u001b[0m Species        string\n"
     ]
    },
    {
     "name": "stderr",
     "output_type": "stream",
     "text": [
      "\u001b[36m(load_data pid=2171, ip=10.127.0.100)\u001b[0m Starting execution of Dataset. Full logs are in /tmp/ray/session_2025-02-16_10-36-39_777647_11/logs/ray-data\n",
      "\u001b[36m(load_data pid=2171, ip=10.127.0.100)\u001b[0m Execution plan of Dataset: InputDataBuffer[Input] -> TaskPoolMapOperator[ReadCSV]\n",
      "\u001b[36m(load_data pid=2171, ip=10.127.0.100)\u001b[0m Tip: Use `take_batch()` instead of `take() / show()` to return records in pandas or numpy batch format.\n",
      "\u001b[36m(load_data pid=2171, ip=10.127.0.100)\u001b[0m Starting execution of Dataset. Full logs are in /tmp/ray/session_2025-02-16_10-36-39_777647_11/logs/ray-data\n",
      "\u001b[36m(load_data pid=2171, ip=10.127.0.100)\u001b[0m Execution plan of Dataset: InputDataBuffer[Input] -> TaskPoolMapOperator[ReadCSV] -> LimitOperator[limit=1]\n"
     ]
    },
    {
     "name": "stdout",
     "output_type": "stream",
     "text": [
      "\u001b[36m(load_data pid=2171, ip=10.127.0.100)\u001b[0m Column         Type\n",
      "\u001b[36m(load_data pid=2171, ip=10.127.0.100)\u001b[0m ------         ----\n",
      "\u001b[36m(load_data pid=2171, ip=10.127.0.100)\u001b[0m Id             int64\n",
      "\u001b[36m(load_data pid=2171, ip=10.127.0.100)\u001b[0m SepalLengthCm  double\n",
      "\u001b[36m(load_data pid=2171, ip=10.127.0.100)\u001b[0m SepalWidthCm   double\n",
      "\u001b[36m(load_data pid=2171, ip=10.127.0.100)\u001b[0m PetalLengthCm  double\n",
      "\u001b[36m(load_data pid=2171, ip=10.127.0.100)\u001b[0m PetalWidthCm   double\n",
      "\u001b[36m(load_data pid=2171, ip=10.127.0.100)\u001b[0m Species        string\n",
      "\u001b[36m(load_data pid=2171, ip=10.127.0.100)\u001b[0m [{'Id': 1, 'SepalLengthCm': 5.1, 'SepalWidthCm': 3.5, 'PetalLengthCm': 1.4, 'PetalWidthCm': 0.2, 'Species': 'Iris-setosa'}]\n"
     ]
    },
    {
     "name": "stderr",
     "output_type": "stream",
     "text": [
      "\u001b[36m(load_data pid=2171, ip=10.127.0.100)\u001b[0m Starting execution of Dataset. Full logs are in /tmp/ray/session_2025-02-16_10-36-39_777647_11/logs/ray-data\n",
      "\u001b[36m(load_data pid=2171, ip=10.127.0.100)\u001b[0m Execution plan of Dataset: InputDataBuffer[Input] -> TaskPoolMapOperator[ReadCSV]\n",
      "\u001b[36m(load_data pid=2171, ip=10.127.0.100)\u001b[0m Starting execution of Dataset. Full logs are in /tmp/ray/session_2025-02-16_10-36-39_777647_11/logs/ray-data\n",
      "\u001b[36m(load_data pid=2171, ip=10.127.0.100)\u001b[0m Execution plan of Dataset: InputDataBuffer[Input] -> TaskPoolMapOperator[ReadCSV] -> LimitOperator[limit=1]\n"
     ]
    },
    {
     "name": "stdout",
     "output_type": "stream",
     "text": [
      "\u001b[36m(load_data pid=2171, ip=10.127.0.100)\u001b[0m Column         Type\n",
      "\u001b[36m(load_data pid=2171, ip=10.127.0.100)\u001b[0m ------         ----\n",
      "\u001b[36m(load_data pid=2171, ip=10.127.0.100)\u001b[0m Id             int64\n",
      "\u001b[36m(load_data pid=2171, ip=10.127.0.100)\u001b[0m SepalLengthCm  double\n",
      "\u001b[36m(load_data pid=2171, ip=10.127.0.100)\u001b[0m SepalWidthCm   double\n",
      "\u001b[36m(load_data pid=2171, ip=10.127.0.100)\u001b[0m PetalLengthCm  double\n",
      "\u001b[36m(load_data pid=2171, ip=10.127.0.100)\u001b[0m PetalWidthCm   double\n",
      "\u001b[36m(load_data pid=2171, ip=10.127.0.100)\u001b[0m Species        string\n",
      "\u001b[36m(load_data pid=2171, ip=10.127.0.100)\u001b[0m [{'Id': 1, 'SepalLengthCm': 5.1, 'SepalWidthCm': 3.5, 'PetalLengthCm': 1.4, 'PetalWidthCm': 0.2, 'Species': 'Iris-setosa'}]\n"
     ]
    },
    {
     "name": "stderr",
     "output_type": "stream",
     "text": [
      "\u001b[36m(transform_request pid=2171, ip=10.127.0.100)\u001b[0m Starting execution of Dataset. Full logs are in /tmp/ray/session_2025-02-16_10-36-39_777647_11/logs/ray-data\n",
      "\u001b[36m(transform_request pid=2171, ip=10.127.0.100)\u001b[0m Execution plan of Dataset: InputDataBuffer[Input] -> TaskPoolMapOperator[ReadCSV] -> TaskPoolMapOperator[MapBatches(RemoteFunction)]\n",
      "\u001b[36m(transform_request pid=2171, ip=10.127.0.100)\u001b[0m An exception was raised from a task of operator \"MapBatches(RemoteFunction)\". Dataset execution will now abort. To ignore this exception and continue, set DataContext.max_errored_blocks.\n",
      "\u001b[36m(transform_request pid=2171, ip=10.127.0.100)\u001b[0m Exception occurred in user code, with the abbreviated stack trace below. By default, the Ray Data internal stack trace is omitted from stdout, and only written to the Ray Data log files at /tmp/ray/session_2025-02-16_10-36-39_777647_11/logs/ray-data. To output the full stack trace to stdout, set `DataContext.log_internal_stack_trace_to_stdout` to True.\n",
      "\u001b[36m(save_data pid=2171, ip=10.127.0.100)\u001b[0m Starting execution of Dataset. Full logs are in /tmp/ray/session_2025-02-16_10-36-39_777647_11/logs/ray-data\n",
      "\u001b[36m(save_data pid=2171, ip=10.127.0.100)\u001b[0m Execution plan of Dataset: InputDataBuffer[Input] -> TaskPoolMapOperator[ReadCSV] -> TaskPoolMapOperator[Write]\n",
      "\u001b[36m(save_data pid=2171, ip=10.127.0.100)\u001b[0m Starting execution of Dataset. Full logs are in /tmp/ray/session_2025-02-16_10-36-39_777647_11/logs/ray-data\n",
      "\u001b[36m(save_data pid=2171, ip=10.127.0.100)\u001b[0m Execution plan of Dataset: InputDataBuffer[Input] -> TaskPoolMapOperator[ReadCSV] -> TaskPoolMapOperator[Write]\n",
      "\u001b[36m(save_data pid=2171, ip=10.127.0.100)\u001b[0m An exception was raised from a task of operator \"Write\". Dataset execution will now abort. To ignore this exception and continue, set DataContext.max_errored_blocks.\n",
      "\u001b[36m(save_data pid=2171, ip=10.127.0.100)\u001b[0m Exception occurred in Ray Data or Ray Core internal code. If you continue to see this error, please open an issue on the Ray project GitHub page with the full stack trace below: https://github.com/ray-project/ray/issues/new/choose\n",
      "\u001b[36m(save_data pid=2171, ip=10.127.0.100)\u001b[0m Full stack trace:\n",
      "\u001b[36m(save_data pid=2171, ip=10.127.0.100)\u001b[0m Traceback (most recent call last):\n",
      "\u001b[36m(save_data pid=2171, ip=10.127.0.100)\u001b[0m   File \"/opt/conda/lib/python3.10/site-packages/ray/data/exceptions.py\", line 49, in handle_trace\n",
      "\u001b[36m(save_data pid=2171, ip=10.127.0.100)\u001b[0m     return fn(*args, **kwargs)\n",
      "\u001b[36m(save_data pid=2171, ip=10.127.0.100)\u001b[0m   File \"/opt/conda/lib/python3.10/site-packages/ray/data/_internal/plan.py\", line 496, in execute\n",
      "\u001b[36m(save_data pid=2171, ip=10.127.0.100)\u001b[0m     blocks = execute_to_legacy_block_list(\n",
      "\u001b[36m(save_data pid=2171, ip=10.127.0.100)\u001b[0m   File \"/opt/conda/lib/python3.10/site-packages/ray/data/_internal/execution/legacy_compat.py\", line 123, in execute_to_legacy_block_list\n",
      "\u001b[36m(save_data pid=2171, ip=10.127.0.100)\u001b[0m     block_list = _bundles_to_block_list(bundles)\n",
      "\u001b[36m(save_data pid=2171, ip=10.127.0.100)\u001b[0m   File \"/opt/conda/lib/python3.10/site-packages/ray/data/_internal/execution/legacy_compat.py\", line 169, in _bundles_to_block_list\n",
      "\u001b[36m(save_data pid=2171, ip=10.127.0.100)\u001b[0m     for ref_bundle in bundles:\n",
      "\u001b[36m(save_data pid=2171, ip=10.127.0.100)\u001b[0m   File \"/opt/conda/lib/python3.10/site-packages/ray/data/_internal/execution/interfaces/executor.py\", line 37, in __next__\n",
      "\u001b[36m(save_data pid=2171, ip=10.127.0.100)\u001b[0m     return self.get_next()\n",
      "\u001b[36m(save_data pid=2171, ip=10.127.0.100)\u001b[0m   File \"/opt/conda/lib/python3.10/site-packages/ray/data/_internal/execution/streaming_executor.py\", line 145, in get_next\n",
      "\u001b[36m(save_data pid=2171, ip=10.127.0.100)\u001b[0m     item = self._outer._output_node.get_output_blocking(\n",
      "\u001b[36m(save_data pid=2171, ip=10.127.0.100)\u001b[0m   File \"/opt/conda/lib/python3.10/site-packages/ray/data/_internal/execution/streaming_executor_state.py\", line 284, in get_output_blocking\n",
      "\u001b[36m(save_data pid=2171, ip=10.127.0.100)\u001b[0m     raise self._exception\n",
      "\u001b[36m(save_data pid=2171, ip=10.127.0.100)\u001b[0m   File \"/opt/conda/lib/python3.10/site-packages/ray/data/_internal/execution/streaming_executor.py\", line 222, in run\n",
      "\u001b[36m(save_data pid=2171, ip=10.127.0.100)\u001b[0m     continue_sched = self._scheduling_loop_step(self._topology)\n",
      "\u001b[36m(save_data pid=2171, ip=10.127.0.100)\u001b[0m   File \"/opt/conda/lib/python3.10/site-packages/ray/data/_internal/execution/streaming_executor.py\", line 277, in _scheduling_loop_step\n",
      "\u001b[36m(save_data pid=2171, ip=10.127.0.100)\u001b[0m     num_errored_blocks = process_completed_tasks(\n",
      "\u001b[36m(save_data pid=2171, ip=10.127.0.100)\u001b[0m   File \"/opt/conda/lib/python3.10/site-packages/ray/data/_internal/execution/streaming_executor_state.py\", line 457, in process_completed_tasks\n",
      "\u001b[36m(save_data pid=2171, ip=10.127.0.100)\u001b[0m     raise e from None\n",
      "\u001b[36m(save_data pid=2171, ip=10.127.0.100)\u001b[0m   File \"/opt/conda/lib/python3.10/site-packages/ray/data/_internal/execution/streaming_executor_state.py\", line 424, in process_completed_tasks\n",
      "\u001b[36m(save_data pid=2171, ip=10.127.0.100)\u001b[0m     bytes_read = task.on_data_ready(\n",
      "\u001b[36m(save_data pid=2171, ip=10.127.0.100)\u001b[0m   File \"/opt/conda/lib/python3.10/site-packages/ray/data/_internal/execution/interfaces/physical_operator.py\", line 105, in on_data_ready\n",
      "\u001b[36m(save_data pid=2171, ip=10.127.0.100)\u001b[0m     raise ex from None\n",
      "\u001b[36m(save_data pid=2171, ip=10.127.0.100)\u001b[0m   File \"/opt/conda/lib/python3.10/site-packages/ray/data/_internal/execution/interfaces/physical_operator.py\", line 101, in on_data_ready\n",
      "\u001b[36m(save_data pid=2171, ip=10.127.0.100)\u001b[0m     ray.get(block_ref)\n",
      "\u001b[36m(save_data pid=2171, ip=10.127.0.100)\u001b[0m   File \"/opt/conda/lib/python3.10/site-packages/ray/_private/auto_init_hook.py\", line 21, in auto_init_wrapper\n",
      "\u001b[36m(save_data pid=2171, ip=10.127.0.100)\u001b[0m     return fn(*args, **kwargs)\n",
      "\u001b[36m(save_data pid=2171, ip=10.127.0.100)\u001b[0m   File \"/opt/conda/lib/python3.10/site-packages/ray/_private/client_mode_hook.py\", line 103, in wrapper\n",
      "\u001b[36m(save_data pid=2171, ip=10.127.0.100)\u001b[0m     return func(*args, **kwargs)\n",
      "\u001b[36m(save_data pid=2171, ip=10.127.0.100)\u001b[0m   File \"/opt/conda/lib/python3.10/site-packages/ray/_private/worker.py\", line 2659, in get\n",
      "\u001b[36m(save_data pid=2171, ip=10.127.0.100)\u001b[0m     values, debugger_breakpoint = worker.get_objects(object_refs, timeout=timeout)\n",
      "\u001b[36m(save_data pid=2171, ip=10.127.0.100)\u001b[0m   File \"/opt/conda/lib/python3.10/site-packages/ray/_private/worker.py\", line 871, in get_objects\n",
      "\u001b[36m(save_data pid=2171, ip=10.127.0.100)\u001b[0m     raise value.as_instanceof_cause()\n",
      "\u001b[36m(save_data pid=2171, ip=10.127.0.100)\u001b[0m ray.exceptions.RayTaskError(TypeError): \u001b[36mray::Write()\u001b[39m (pid=3196, ip=10.127.0.102)\n",
      "\u001b[36m(save_data pid=2171, ip=10.127.0.100)\u001b[0m     for b_out in map_transformer.apply_transform(iter(blocks), ctx):\n",
      "\u001b[36m(save_data pid=2171, ip=10.127.0.100)\u001b[0m   File \"/opt/conda/lib/python3.10/site-packages/ray/data/_internal/execution/operators/map_transformer.py\", line 253, in __call__\n",
      "\u001b[36m(save_data pid=2171, ip=10.127.0.100)\u001b[0m     yield from self._block_fn(input, ctx)\n",
      "\u001b[36m(save_data pid=2171, ip=10.127.0.100)\u001b[0m   File \"/opt/conda/lib/python3.10/site-packages/ray/data/_internal/planner/plan_write_op.py\", line 26, in fn\n",
      "\u001b[36m(save_data pid=2171, ip=10.127.0.100)\u001b[0m     write_result = datasink_or_legacy_datasource.write(blocks, ctx)\n",
      "\u001b[36m(save_data pid=2171, ip=10.127.0.100)\u001b[0m   File \"/opt/conda/lib/python3.10/site-packages/ray/data/datasource/file_datasink.py\", line 128, in write\n",
      "\u001b[36m(save_data pid=2171, ip=10.127.0.100)\u001b[0m     self.write_block(block_accessor, 0, ctx)\n",
      "\u001b[36m(save_data pid=2171, ip=10.127.0.100)\u001b[0m   File \"/opt/conda/lib/python3.10/site-packages/ray/data/datasource/file_datasink.py\", line 254, in write_block\n",
      "\u001b[36m(save_data pid=2171, ip=10.127.0.100)\u001b[0m     call_with_retry(\n",
      "\u001b[36m(save_data pid=2171, ip=10.127.0.100)\u001b[0m   File \"/opt/conda/lib/python3.10/site-packages/ray/data/_internal/util.py\", line 986, in call_with_retry\n",
      "\u001b[36m(save_data pid=2171, ip=10.127.0.100)\u001b[0m     raise e from None\n",
      "\u001b[36m(save_data pid=2171, ip=10.127.0.100)\u001b[0m   File \"/opt/conda/lib/python3.10/site-packages/ray/data/_internal/util.py\", line 973, in call_with_retry\n",
      "\u001b[36m(save_data pid=2171, ip=10.127.0.100)\u001b[0m     return f()\n",
      "\u001b[36m(save_data pid=2171, ip=10.127.0.100)\u001b[0m   File \"/opt/conda/lib/python3.10/site-packages/ray/data/datasource/file_datasink.py\", line 251, in write_block_to_path\n",
      "\u001b[36m(save_data pid=2171, ip=10.127.0.100)\u001b[0m     self.write_block_to_file(block, file)\n",
      "\u001b[36m(save_data pid=2171, ip=10.127.0.100)\u001b[0m   File \"/opt/conda/lib/python3.10/site-packages/ray/data/_internal/datasource/csv_datasink.py\", line 36, in write_block_to_file\n",
      "\u001b[36m(save_data pid=2171, ip=10.127.0.100)\u001b[0m     csv.write_csv(block.to_arrow(), file, write_options, **writer_args)\n",
      "\u001b[36m(save_data pid=2171, ip=10.127.0.100)\u001b[0m   File \"pyarrow/_csv.pyx\", line 1454, in pyarrow._csv.write_csv\n",
      "\u001b[36m(save_data pid=2171, ip=10.127.0.100)\u001b[0m TypeError: write_csv() got an unexpected keyword argument 'min_rows_per_file'\n",
      "\u001b[36m(save_data pid=2473, ip=10.127.0.100)\u001b[0m Starting execution of Dataset. Full logs are in /tmp/ray/session_2025-02-16_10-36-39_777647_11/logs/ray-data\n",
      "\u001b[36m(save_data pid=2473, ip=10.127.0.100)\u001b[0m Execution plan of Dataset: InputDataBuffer[Input] -> TaskPoolMapOperator[ReadCSV] -> TaskPoolMapOperator[Write]\n",
      "\u001b[36m(save_data pid=2473, ip=10.127.0.100)\u001b[0m Starting execution of Dataset. Full logs are in /tmp/ray/session_2025-02-16_10-36-39_777647_11/logs/ray-data\n",
      "\u001b[36m(save_data pid=2473, ip=10.127.0.100)\u001b[0m Execution plan of Dataset: InputDataBuffer[Input] -> TaskPoolMapOperator[ReadCSV] -> TaskPoolMapOperator[Write]\n"
     ]
    }
   ],
   "source": [
    "\n",
    "RAY_ADDRESS=f\"vertex_ray://projects/{PROJECT_NBR}/locations/{REGION}/persistentResources/{RAY_CLUSTER_NM}\"\n",
    "print(f\"RAY_ADDRESS:{RAY_ADDRESS}\")\n",
    "\n",
    "RUNTIME_ENV = {\n",
    "  \"pip\": [\n",
    "      \"google-cloud-aiplatform[ray]>=1.56.0\",\n",
    "      \"ray[data,train,tune,serve]>=2.33.0\",\n",
    "      \"datasets\",\n",
    "      \"evaluate\",\n",
    "      \"accelerate==0.18.0\",\n",
    "      \"transformers==4.26.0\",\n",
    "      \"torch>=1.12.0\",\n",
    "      \"deepspeed==0.12.3\",\n",
    "  ],\n",
    "}\n",
    "\n",
    "ray.init(address=RAY_ADDRESS,runtime_env=RUNTIME_ENV)"
   ]
  },
  {
   "cell_type": "code",
   "execution_count": null,
   "id": "737ffe97-f498-4efa-9866-613b8cb40e92",
   "metadata": {},
   "outputs": [],
   "source": []
  },
  {
   "cell_type": "markdown",
   "id": "277a09c6-f629-4d92-9547-0031f971d5c2",
   "metadata": {
    "tags": []
   },
   "source": [
    "### Basic Operation"
   ]
  },
  {
   "cell_type": "markdown",
   "id": "cbe63ff3-d0e9-4bee-a0e2-cfb34a542e1d",
   "metadata": {
    "tags": []
   },
   "source": [
    "#### Get data from GCS\n",
    "\n",
    "* https://docs.ray.io/en/latest/data/api/doc/ray.data.read_csv.html#ray.data.read_csv"
   ]
  },
  {
   "cell_type": "code",
   "execution_count": 48,
   "id": "06ccba7e-66c9-4aa9-b4f3-66e47e046160",
   "metadata": {
    "tags": []
   },
   "outputs": [],
   "source": [
    "\n",
    "@ray.remote\n",
    "def load_data():\n",
    "    \n",
    "    import ray\n",
    "    \n",
    "    ds = ray.data.read_csv(\"gs://sllm_checkpoints/data/Iris.csv\" )\n",
    "    print(ds.schema())\n",
    "    print(ds.take(1))"
   ]
  },
  {
   "cell_type": "code",
   "execution_count": 49,
   "id": "52733b92-a90d-4285-85b3-5cb1c374713b",
   "metadata": {
    "tags": []
   },
   "outputs": [],
   "source": [
    "ray.get(load_data.remote())"
   ]
  },
  {
   "cell_type": "markdown",
   "id": "79ae3266-5030-4061-b255-ef853a5b74c2",
   "metadata": {},
   "source": [
    "#### Different parse option"
   ]
  },
  {
   "cell_type": "code",
   "execution_count": null,
   "id": "52dd0834-33c0-4edc-bc8e-5836d4b89c02",
   "metadata": {},
   "outputs": [],
   "source": [
    "\n",
    "@ray.remote\n",
    "def load_data():\n",
    "    \n",
    "    from pyarrow import csv\n",
    "    \n",
    "    parse_options = csv.ParseOptions(delimiter=\"\\t\")\n",
    "    ds = ray.data.read_csv(\"gs://sllm_checkpoints/data/Iris.tsv\", parse_options=parse_options )\n",
    "    print(ds.schema())\n"
   ]
  },
  {
   "cell_type": "code",
   "execution_count": null,
   "id": "0756413d-b60e-4100-8759-53d07195b272",
   "metadata": {},
   "outputs": [],
   "source": [
    "ray.get(load_data.remote())"
   ]
  },
  {
   "cell_type": "code",
   "execution_count": null,
   "id": "0d640599-c8a2-46b2-833c-6c4084dae4c5",
   "metadata": {},
   "outputs": [],
   "source": []
  },
  {
   "cell_type": "code",
   "execution_count": 59,
   "id": "4397594c-b7fc-4056-8929-d8658100280b",
   "metadata": {
    "tags": []
   },
   "outputs": [],
   "source": [
    "# https://docs.ray.io/en/latest/data/api/doc/ray.data.Dataset.write_csv.html#ray.data.Dataset.write_csv\n",
    "\n",
    "@ray.remote\n",
    "def save_data():\n",
    "\n",
    "    import os\n",
    "    \n",
    "    ds = ray.data.read_csv(\"gs://sllm_checkpoints/data/Iris.csv\" )\n",
    "    ds.write_csv(\"gs://sllm_checkpoints/tmp_store\", num_rows_per_file = 1000)\n"
   ]
  },
  {
   "cell_type": "code",
   "execution_count": 60,
   "id": "aeabc661-9a95-4676-bf85-5240a9203f17",
   "metadata": {
    "tags": []
   },
   "outputs": [],
   "source": [
    "ray.get(save_data.remote())"
   ]
  },
  {
   "cell_type": "code",
   "execution_count": null,
   "id": "0f8b0a93-b95d-46ec-8154-2d41fe427111",
   "metadata": {},
   "outputs": [],
   "source": []
  },
  {
   "cell_type": "code",
   "execution_count": null,
   "id": "b89fbde8-7653-4ac5-9b38-ae43ed4b69da",
   "metadata": {},
   "outputs": [],
   "source": []
  },
  {
   "cell_type": "code",
   "execution_count": null,
   "id": "6f344d20-82ca-4dd0-8f02-abec33b246a2",
   "metadata": {},
   "outputs": [],
   "source": []
  },
  {
   "cell_type": "code",
   "execution_count": null,
   "id": "98c3e152-d44e-4756-b637-75a0ff91c50c",
   "metadata": {},
   "outputs": [],
   "source": []
  },
  {
   "cell_type": "code",
   "execution_count": null,
   "id": "4436f698-d5b1-4bf5-a78a-ecffd417d175",
   "metadata": {},
   "outputs": [],
   "source": []
  },
  {
   "cell_type": "code",
   "execution_count": null,
   "id": "71562406-e78a-490c-bfc2-c59da4148926",
   "metadata": {},
   "outputs": [],
   "source": []
  },
  {
   "cell_type": "code",
   "execution_count": null,
   "id": "b48f71b7-e40c-4ddd-8d5f-66cf52034bdd",
   "metadata": {},
   "outputs": [],
   "source": []
  },
  {
   "cell_type": "code",
   "execution_count": null,
   "id": "bda1bf62-8dc1-4ae0-a29d-f649d4955dae",
   "metadata": {},
   "outputs": [],
   "source": []
  },
  {
   "cell_type": "code",
   "execution_count": null,
   "id": "15935fef-47f3-4d73-abed-2a00e70c2384",
   "metadata": {},
   "outputs": [],
   "source": []
  },
  {
   "cell_type": "code",
   "execution_count": null,
   "id": "b936dd2a-7990-45a4-b456-1452de5c7b9f",
   "metadata": {},
   "outputs": [],
   "source": []
  },
  {
   "cell_type": "code",
   "execution_count": null,
   "id": "f6218ee2-0e6b-4305-a179-bdfc17371d73",
   "metadata": {},
   "outputs": [],
   "source": []
  },
  {
   "cell_type": "code",
   "execution_count": null,
   "id": "75b0f285-a37c-4c9c-b532-2dd6901b4e88",
   "metadata": {},
   "outputs": [],
   "source": []
  },
  {
   "cell_type": "code",
   "execution_count": null,
   "id": "0de1239f-4568-4172-92ce-6c443f67247a",
   "metadata": {},
   "outputs": [],
   "source": []
  },
  {
   "cell_type": "code",
   "execution_count": null,
   "id": "12be2145-1f5d-4b41-b382-161af58d7554",
   "metadata": {},
   "outputs": [],
   "source": []
  },
  {
   "cell_type": "code",
   "execution_count": null,
   "id": "b9d1869a-b500-4abc-bd88-82567844366f",
   "metadata": {},
   "outputs": [],
   "source": []
  },
  {
   "cell_type": "code",
   "execution_count": null,
   "id": "ed22645e-3d0b-4a61-89c2-7b3dbecf81f2",
   "metadata": {},
   "outputs": [],
   "source": []
  }
 ],
 "metadata": {
  "environment": {
   "kernel": "conda-base-py",
   "name": "workbench-notebooks.m127",
   "type": "gcloud",
   "uri": "us-docker.pkg.dev/deeplearning-platform-release/gcr.io/workbench-notebooks:m127"
  },
  "kernelspec": {
   "display_name": "Python 3 (ipykernel) (Local)",
   "language": "python",
   "name": "conda-base-py"
  },
  "language_info": {
   "codemirror_mode": {
    "name": "ipython",
    "version": 3
   },
   "file_extension": ".py",
   "mimetype": "text/x-python",
   "name": "python",
   "nbconvert_exporter": "python",
   "pygments_lexer": "ipython3",
   "version": "3.10.16"
  }
 },
 "nbformat": 4,
 "nbformat_minor": 5
}
