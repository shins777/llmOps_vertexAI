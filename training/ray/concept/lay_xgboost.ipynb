{
 "cells": [
  {
   "cell_type": "code",
   "execution_count": null,
   "id": "cc29f8f8-ea10-48dc-ae42-0d9097784a1a",
   "metadata": {},
   "outputs": [],
   "source": [
    "# Copyright  2024 Forusone\n",
    "#\n",
    "# Licensed under the Apache License, Version 2.0 (the \"License\");\n",
    "# you may not use this file except in compliance with the License.\n",
    "# You may obtain a copy of the License at\n",
    "#\n",
    "#     https://www.apache.org/licenses/LICENSE-2.0\n",
    "#\n",
    "# Unless required by applicable law or agreed to in writing, software\n",
    "# distributed under the License is distributed on an \"AS IS\" BASIS,\n",
    "# WITHOUT WARRANTIES OR CONDITIONS OF ANY KIND, either express or implied.\n",
    "# See the License for the specific language governing permissions and\n",
    "# limitations under the License."
   ]
  },
  {
   "cell_type": "markdown",
   "id": "e62bff67-6a76-4c6e-a12d-c0c7114bb11e",
   "metadata": {},
   "source": [
    "## Ray core operation examples"
   ]
  },
  {
   "cell_type": "markdown",
   "id": "1c90c385-2eb1-4a36-9ead-92149fda3663",
   "metadata": {},
   "source": [
    "### Configurations"
   ]
  },
  {
   "cell_type": "code",
   "execution_count": 1,
   "id": "e17cecad-9500-42e6-a7d8-dab12f2702cf",
   "metadata": {
    "tags": []
   },
   "outputs": [],
   "source": [
    "! pip install --user -q \"google-cloud-aiplatform[ray]>=1.56.0\" \\\n",
    "                        \"ray[data,train,tune,serve]>=2.9.3\" \\\n",
    "                        \"xgboost_ray\""
   ]
  },
  {
   "cell_type": "code",
   "execution_count": 2,
   "id": "8cfaf7ff-0a44-4af8-8aaf-962b4bce8163",
   "metadata": {
    "tags": []
   },
   "outputs": [],
   "source": [
    "# @title Define constants\n",
    "PROJECT_NBR = \"721521243942\"\n",
    "PROJECT_ID = \"ai-hangsik\"\n",
    "REGION=\"us-central1\"\n",
    "RAY_CLUSTER_NM = \"ray293-cluster-20250217-075541\""
   ]
  },
  {
   "cell_type": "code",
   "execution_count": 3,
   "id": "ef9a7e4f-38e9-44be-a4da-813979e887f0",
   "metadata": {
    "tags": []
   },
   "outputs": [],
   "source": [
    "from google.cloud import aiplatform\n",
    "\n",
    "aiplatform.init(project=PROJECT_ID, location=REGION)"
   ]
  },
  {
   "cell_type": "code",
   "execution_count": 4,
   "id": "39db2165-ae5d-4e49-9893-9663d0f816d1",
   "metadata": {
    "tags": []
   },
   "outputs": [],
   "source": [
    "from typing import Tuple\n",
    "\n",
    "from ray.runtime_env import RuntimeEnv\n",
    "from ray.air.config import RunConfig\n",
    "from ray.air import CheckpointConfig, ScalingConfig\n",
    "from ray.util.joblib import register_ray\n",
    "\n",
    "\n",
    "import ray\n",
    "from ray.data import Dataset, Preprocessor\n",
    "from ray.data.preprocessors import StandardScaler\n",
    "from ray.train.xgboost import XGBoostTrainer\n",
    "from ray.train import Result, ScalingConfig\n",
    "# import xgboost\n"
   ]
  },
  {
   "cell_type": "code",
   "execution_count": 5,
   "id": "052c2f99-f13c-4370-a233-aaf6808fdc2e",
   "metadata": {
    "tags": []
   },
   "outputs": [
    {
     "data": {
      "text/plain": [
       "'2.9.3'"
      ]
     },
     "execution_count": 5,
     "metadata": {},
     "output_type": "execute_result"
    }
   ],
   "source": [
    "ray.__version__"
   ]
  },
  {
   "cell_type": "markdown",
   "id": "b86dc36d-4b5e-49cb-8f60-4203ae30aaf2",
   "metadata": {},
   "source": [
    "### Connect to Ray on Vertex AI"
   ]
  },
  {
   "cell_type": "code",
   "execution_count": 6,
   "id": "356aef17-6fb0-4f05-8798-b591d3864b80",
   "metadata": {
    "tags": []
   },
   "outputs": [],
   "source": [
    "\n",
    "ray.shutdown()"
   ]
  },
  {
   "cell_type": "code",
   "execution_count": 8,
   "id": "ecc7a783-08d4-43a8-ad40-460631f9e4b6",
   "metadata": {
    "tags": []
   },
   "outputs": [
    {
     "name": "stdout",
     "output_type": "stream",
     "text": [
      "RAY_ADDRESS:vertex_ray://projects/721521243942/locations/us-central1/persistentResources/ray293-cluster-20250217-075541\n",
      "[Ray on Vertex AI]: Cluster State = State.RUNNING\n"
     ]
    },
    {
     "ename": "ConnectionError",
     "evalue": "ray client connection timeout",
     "output_type": "error",
     "traceback": [
      "\u001b[0;31m---------------------------------------------------------------------------\u001b[0m",
      "\u001b[0;31mConnectionError\u001b[0m                           Traceback (most recent call last)",
      "Cell \u001b[0;32mIn[8], line 20\u001b[0m\n\u001b[1;32m      2\u001b[0m \u001b[38;5;28mprint\u001b[39m(\u001b[38;5;124mf\u001b[39m\u001b[38;5;124m\"\u001b[39m\u001b[38;5;124mRAY_ADDRESS:\u001b[39m\u001b[38;5;132;01m{\u001b[39;00mRAY_ADDRESS\u001b[38;5;132;01m}\u001b[39;00m\u001b[38;5;124m\"\u001b[39m)\n\u001b[1;32m      4\u001b[0m RUNTIME_ENV \u001b[38;5;241m=\u001b[39m {\n\u001b[1;32m      5\u001b[0m   \u001b[38;5;124m\"\u001b[39m\u001b[38;5;124mpip\u001b[39m\u001b[38;5;124m\"\u001b[39m: [\n\u001b[1;32m      6\u001b[0m         \u001b[38;5;124m\"\u001b[39m\u001b[38;5;124mgoogle-cloud-aiplatform[ray]>=1.56.0\u001b[39m\u001b[38;5;124m\"\u001b[39m,\n\u001b[0;32m   (...)\u001b[0m\n\u001b[1;32m     17\u001b[0m   ],\n\u001b[1;32m     18\u001b[0m }\n\u001b[0;32m---> 20\u001b[0m \u001b[43mray\u001b[49m\u001b[38;5;241;43m.\u001b[39;49m\u001b[43minit\u001b[49m\u001b[43m(\u001b[49m\u001b[43maddress\u001b[49m\u001b[38;5;241;43m=\u001b[39;49m\u001b[43mRAY_ADDRESS\u001b[49m\u001b[43m,\u001b[49m\u001b[43mruntime_env\u001b[49m\u001b[38;5;241;43m=\u001b[39;49m\u001b[43mRUNTIME_ENV\u001b[49m\u001b[43m)\u001b[49m\n",
      "File \u001b[0;32m~/.local/lib/python3.10/site-packages/ray/_private/client_mode_hook.py:103\u001b[0m, in \u001b[0;36mclient_mode_hook.<locals>.wrapper\u001b[0;34m(*args, **kwargs)\u001b[0m\n\u001b[1;32m    101\u001b[0m     \u001b[38;5;28;01mif\u001b[39;00m func\u001b[38;5;241m.\u001b[39m\u001b[38;5;18m__name__\u001b[39m \u001b[38;5;241m!=\u001b[39m \u001b[38;5;124m\"\u001b[39m\u001b[38;5;124minit\u001b[39m\u001b[38;5;124m\"\u001b[39m \u001b[38;5;129;01mor\u001b[39;00m is_client_mode_enabled_by_default:\n\u001b[1;32m    102\u001b[0m         \u001b[38;5;28;01mreturn\u001b[39;00m \u001b[38;5;28mgetattr\u001b[39m(ray, func\u001b[38;5;241m.\u001b[39m\u001b[38;5;18m__name__\u001b[39m)(\u001b[38;5;241m*\u001b[39margs, \u001b[38;5;241m*\u001b[39m\u001b[38;5;241m*\u001b[39mkwargs)\n\u001b[0;32m--> 103\u001b[0m \u001b[38;5;28;01mreturn\u001b[39;00m \u001b[43mfunc\u001b[49m\u001b[43m(\u001b[49m\u001b[38;5;241;43m*\u001b[39;49m\u001b[43margs\u001b[49m\u001b[43m,\u001b[49m\u001b[43m \u001b[49m\u001b[38;5;241;43m*\u001b[39;49m\u001b[38;5;241;43m*\u001b[39;49m\u001b[43mkwargs\u001b[49m\u001b[43m)\u001b[49m\n",
      "File \u001b[0;32m~/.local/lib/python3.10/site-packages/ray/_private/worker.py:1430\u001b[0m, in \u001b[0;36minit\u001b[0;34m(address, num_cpus, num_gpus, resources, labels, object_store_memory, local_mode, ignore_reinit_error, include_dashboard, dashboard_host, dashboard_port, job_config, configure_logging, logging_level, logging_format, log_to_driver, namespace, runtime_env, storage, **kwargs)\u001b[0m\n\u001b[1;32m   1428\u001b[0m passed_kwargs\u001b[38;5;241m.\u001b[39mupdate(kwargs)\n\u001b[1;32m   1429\u001b[0m builder\u001b[38;5;241m.\u001b[39m_init_args(\u001b[38;5;241m*\u001b[39m\u001b[38;5;241m*\u001b[39mpassed_kwargs)\n\u001b[0;32m-> 1430\u001b[0m ctx \u001b[38;5;241m=\u001b[39m \u001b[43mbuilder\u001b[49m\u001b[38;5;241;43m.\u001b[39;49m\u001b[43mconnect\u001b[49m\u001b[43m(\u001b[49m\u001b[43m)\u001b[49m\n\u001b[1;32m   1431\u001b[0m \u001b[38;5;28;01mfrom\u001b[39;00m \u001b[38;5;21;01mray\u001b[39;00m\u001b[38;5;21;01m.\u001b[39;00m\u001b[38;5;21;01m_private\u001b[39;00m\u001b[38;5;21;01m.\u001b[39;00m\u001b[38;5;21;01musage\u001b[39;00m \u001b[38;5;28;01mimport\u001b[39;00m usage_lib\n\u001b[1;32m   1433\u001b[0m \u001b[38;5;28;01mif\u001b[39;00m passed_kwargs\u001b[38;5;241m.\u001b[39mget(\u001b[38;5;124m\"\u001b[39m\u001b[38;5;124mallow_multiple\u001b[39m\u001b[38;5;124m\"\u001b[39m) \u001b[38;5;129;01mis\u001b[39;00m \u001b[38;5;28;01mTrue\u001b[39;00m:\n",
      "File \u001b[0;32m~/.local/lib/python3.10/site-packages/google/cloud/aiplatform/vertex_ray/client_builder.py:190\u001b[0m, in \u001b[0;36mVertexRayClientBuilder.connect\u001b[0;34m(self)\u001b[0m\n\u001b[1;32m    185\u001b[0m     bearer_token \u001b[38;5;241m=\u001b[39m _validation_utils\u001b[38;5;241m.\u001b[39mget_bearer_token()\n\u001b[1;32m    186\u001b[0m     \u001b[38;5;28mself\u001b[39m\u001b[38;5;241m.\u001b[39m_metadata \u001b[38;5;241m=\u001b[39m [\n\u001b[1;32m    187\u001b[0m         (\u001b[38;5;124m\"\u001b[39m\u001b[38;5;124mauthorization\u001b[39m\u001b[38;5;124m\"\u001b[39m, \u001b[38;5;124m\"\u001b[39m\u001b[38;5;124mBearer \u001b[39m\u001b[38;5;132;01m{}\u001b[39;00m\u001b[38;5;124m\"\u001b[39m\u001b[38;5;241m.\u001b[39mformat(bearer_token)),\n\u001b[1;32m    188\u001b[0m         (\u001b[38;5;124m\"\u001b[39m\u001b[38;5;124mx-goog-user-project\u001b[39m\u001b[38;5;124m\"\u001b[39m, \u001b[38;5;124m\"\u001b[39m\u001b[38;5;132;01m{}\u001b[39;00m\u001b[38;5;124m\"\u001b[39m\u001b[38;5;241m.\u001b[39mformat(initializer\u001b[38;5;241m.\u001b[39mglobal_config\u001b[38;5;241m.\u001b[39mproject)),\n\u001b[1;32m    189\u001b[0m     ]\n\u001b[0;32m--> 190\u001b[0m ray_client_context \u001b[38;5;241m=\u001b[39m \u001b[38;5;28;43msuper\u001b[39;49m\u001b[43m(\u001b[49m\u001b[43m)\u001b[49m\u001b[38;5;241;43m.\u001b[39;49m\u001b[43mconnect\u001b[49m\u001b[43m(\u001b[49m\u001b[43m)\u001b[49m\n\u001b[1;32m    191\u001b[0m ray_head_uris \u001b[38;5;241m=\u001b[39m \u001b[38;5;28mself\u001b[39m\u001b[38;5;241m.\u001b[39mresponse\u001b[38;5;241m.\u001b[39mresource_runtime\u001b[38;5;241m.\u001b[39maccess_uris\n\u001b[1;32m    193\u001b[0m \u001b[38;5;66;03m# Valid resource name (reference public doc for public release):\u001b[39;00m\n\u001b[1;32m    194\u001b[0m \u001b[38;5;66;03m# \"projects/<project_num>/locations/<region>/persistentResources/<pr_id>\"\u001b[39;00m\n",
      "File \u001b[0;32m~/.local/lib/python3.10/site-packages/ray/client_builder.py:173\u001b[0m, in \u001b[0;36mClientBuilder.connect\u001b[0;34m(self)\u001b[0m\n\u001b[1;32m    170\u001b[0m \u001b[38;5;28;01mif\u001b[39;00m \u001b[38;5;28mself\u001b[39m\u001b[38;5;241m.\u001b[39m_allow_multiple_connections:\n\u001b[1;32m    171\u001b[0m     old_ray_cxt \u001b[38;5;241m=\u001b[39m ray\u001b[38;5;241m.\u001b[39mutil\u001b[38;5;241m.\u001b[39mclient\u001b[38;5;241m.\u001b[39mray\u001b[38;5;241m.\u001b[39mset_context(\u001b[38;5;28;01mNone\u001b[39;00m)\n\u001b[0;32m--> 173\u001b[0m client_info_dict \u001b[38;5;241m=\u001b[39m \u001b[43mray\u001b[49m\u001b[38;5;241;43m.\u001b[39;49m\u001b[43mutil\u001b[49m\u001b[38;5;241;43m.\u001b[39;49m\u001b[43mclient_connect\u001b[49m\u001b[38;5;241;43m.\u001b[39;49m\u001b[43mconnect\u001b[49m\u001b[43m(\u001b[49m\n\u001b[1;32m    174\u001b[0m \u001b[43m    \u001b[49m\u001b[38;5;28;43mself\u001b[39;49m\u001b[38;5;241;43m.\u001b[39;49m\u001b[43maddress\u001b[49m\u001b[43m,\u001b[49m\n\u001b[1;32m    175\u001b[0m \u001b[43m    \u001b[49m\u001b[43mjob_config\u001b[49m\u001b[38;5;241;43m=\u001b[39;49m\u001b[38;5;28;43mself\u001b[39;49m\u001b[38;5;241;43m.\u001b[39;49m\u001b[43m_job_config\u001b[49m\u001b[43m,\u001b[49m\n\u001b[1;32m    176\u001b[0m \u001b[43m    \u001b[49m\u001b[43m_credentials\u001b[49m\u001b[38;5;241;43m=\u001b[39;49m\u001b[38;5;28;43mself\u001b[39;49m\u001b[38;5;241;43m.\u001b[39;49m\u001b[43m_credentials\u001b[49m\u001b[43m,\u001b[49m\n\u001b[1;32m    177\u001b[0m \u001b[43m    \u001b[49m\u001b[43mray_init_kwargs\u001b[49m\u001b[38;5;241;43m=\u001b[39;49m\u001b[38;5;28;43mself\u001b[39;49m\u001b[38;5;241;43m.\u001b[39;49m\u001b[43m_remote_init_kwargs\u001b[49m\u001b[43m,\u001b[49m\n\u001b[1;32m    178\u001b[0m \u001b[43m    \u001b[49m\u001b[43mmetadata\u001b[49m\u001b[38;5;241;43m=\u001b[39;49m\u001b[38;5;28;43mself\u001b[39;49m\u001b[38;5;241;43m.\u001b[39;49m\u001b[43m_metadata\u001b[49m\u001b[43m,\u001b[49m\n\u001b[1;32m    179\u001b[0m \u001b[43m\u001b[49m\u001b[43m)\u001b[49m\n\u001b[1;32m    181\u001b[0m dashboard_url \u001b[38;5;241m=\u001b[39m ray\u001b[38;5;241m.\u001b[39mutil\u001b[38;5;241m.\u001b[39mclient\u001b[38;5;241m.\u001b[39mray\u001b[38;5;241m.\u001b[39m_get_dashboard_url()\n\u001b[1;32m    183\u001b[0m cxt \u001b[38;5;241m=\u001b[39m ClientContext(\n\u001b[1;32m    184\u001b[0m     dashboard_url\u001b[38;5;241m=\u001b[39mdashboard_url,\n\u001b[1;32m    185\u001b[0m     python_version\u001b[38;5;241m=\u001b[39mclient_info_dict[\u001b[38;5;124m\"\u001b[39m\u001b[38;5;124mpython_version\u001b[39m\u001b[38;5;124m\"\u001b[39m],\n\u001b[0;32m   (...)\u001b[0m\n\u001b[1;32m    190\u001b[0m     _context_to_restore\u001b[38;5;241m=\u001b[39mray\u001b[38;5;241m.\u001b[39mutil\u001b[38;5;241m.\u001b[39mclient\u001b[38;5;241m.\u001b[39mray\u001b[38;5;241m.\u001b[39mget_context(),\n\u001b[1;32m    191\u001b[0m )\n",
      "File \u001b[0;32m~/.local/lib/python3.10/site-packages/ray/util/client_connect.py:55\u001b[0m, in \u001b[0;36mconnect\u001b[0;34m(conn_str, secure, metadata, connection_retries, job_config, namespace, ignore_version, _credentials, ray_init_kwargs)\u001b[0m\n\u001b[1;32m     50\u001b[0m _explicitly_enable_client_mode()\n\u001b[1;32m     52\u001b[0m \u001b[38;5;66;03m# TODO(barakmich): https://github.com/ray-project/ray/issues/13274\u001b[39;00m\n\u001b[1;32m     53\u001b[0m \u001b[38;5;66;03m# for supporting things like cert_path, ca_path, etc and creating\u001b[39;00m\n\u001b[1;32m     54\u001b[0m \u001b[38;5;66;03m# the correct metadata\u001b[39;00m\n\u001b[0;32m---> 55\u001b[0m conn \u001b[38;5;241m=\u001b[39m \u001b[43mray\u001b[49m\u001b[38;5;241;43m.\u001b[39;49m\u001b[43mconnect\u001b[49m\u001b[43m(\u001b[49m\n\u001b[1;32m     56\u001b[0m \u001b[43m    \u001b[49m\u001b[43mconn_str\u001b[49m\u001b[43m,\u001b[49m\n\u001b[1;32m     57\u001b[0m \u001b[43m    \u001b[49m\u001b[43mjob_config\u001b[49m\u001b[38;5;241;43m=\u001b[39;49m\u001b[43mjob_config\u001b[49m\u001b[43m,\u001b[49m\n\u001b[1;32m     58\u001b[0m \u001b[43m    \u001b[49m\u001b[43msecure\u001b[49m\u001b[38;5;241;43m=\u001b[39;49m\u001b[43msecure\u001b[49m\u001b[43m,\u001b[49m\n\u001b[1;32m     59\u001b[0m \u001b[43m    \u001b[49m\u001b[43mmetadata\u001b[49m\u001b[38;5;241;43m=\u001b[39;49m\u001b[43mmetadata\u001b[49m\u001b[43m,\u001b[49m\n\u001b[1;32m     60\u001b[0m \u001b[43m    \u001b[49m\u001b[43mconnection_retries\u001b[49m\u001b[38;5;241;43m=\u001b[39;49m\u001b[43mconnection_retries\u001b[49m\u001b[43m,\u001b[49m\n\u001b[1;32m     61\u001b[0m \u001b[43m    \u001b[49m\u001b[43mnamespace\u001b[49m\u001b[38;5;241;43m=\u001b[39;49m\u001b[43mnamespace\u001b[49m\u001b[43m,\u001b[49m\n\u001b[1;32m     62\u001b[0m \u001b[43m    \u001b[49m\u001b[43mignore_version\u001b[49m\u001b[38;5;241;43m=\u001b[39;49m\u001b[43mignore_version\u001b[49m\u001b[43m,\u001b[49m\n\u001b[1;32m     63\u001b[0m \u001b[43m    \u001b[49m\u001b[43m_credentials\u001b[49m\u001b[38;5;241;43m=\u001b[39;49m\u001b[43m_credentials\u001b[49m\u001b[43m,\u001b[49m\n\u001b[1;32m     64\u001b[0m \u001b[43m    \u001b[49m\u001b[43mray_init_kwargs\u001b[49m\u001b[38;5;241;43m=\u001b[39;49m\u001b[43mray_init_kwargs\u001b[49m\u001b[43m,\u001b[49m\n\u001b[1;32m     65\u001b[0m \u001b[43m\u001b[49m\u001b[43m)\u001b[49m\n\u001b[1;32m     66\u001b[0m \u001b[38;5;28;01mreturn\u001b[39;00m conn\n",
      "File \u001b[0;32m~/.local/lib/python3.10/site-packages/ray/util/client/__init__.py:250\u001b[0m, in \u001b[0;36mRayAPIStub.connect\u001b[0;34m(self, *args, **kw_args)\u001b[0m\n\u001b[1;32m    248\u001b[0m \u001b[38;5;28;01mdef\u001b[39;00m \u001b[38;5;21mconnect\u001b[39m(\u001b[38;5;28mself\u001b[39m, \u001b[38;5;241m*\u001b[39margs, \u001b[38;5;241m*\u001b[39m\u001b[38;5;241m*\u001b[39mkw_args):\n\u001b[1;32m    249\u001b[0m     \u001b[38;5;28mself\u001b[39m\u001b[38;5;241m.\u001b[39mget_context()\u001b[38;5;241m.\u001b[39m_inside_client_test \u001b[38;5;241m=\u001b[39m \u001b[38;5;28mself\u001b[39m\u001b[38;5;241m.\u001b[39m_inside_client_test\n\u001b[0;32m--> 250\u001b[0m     conn \u001b[38;5;241m=\u001b[39m \u001b[38;5;28;43mself\u001b[39;49m\u001b[38;5;241;43m.\u001b[39;49m\u001b[43mget_context\u001b[49m\u001b[43m(\u001b[49m\u001b[43m)\u001b[49m\u001b[38;5;241;43m.\u001b[39;49m\u001b[43mconnect\u001b[49m\u001b[43m(\u001b[49m\u001b[38;5;241;43m*\u001b[39;49m\u001b[43margs\u001b[49m\u001b[43m,\u001b[49m\u001b[43m \u001b[49m\u001b[38;5;241;43m*\u001b[39;49m\u001b[38;5;241;43m*\u001b[39;49m\u001b[43mkw_args\u001b[49m\u001b[43m)\u001b[49m\n\u001b[1;32m    251\u001b[0m     \u001b[38;5;28;01mglobal\u001b[39;00m _lock, _all_contexts\n\u001b[1;32m    252\u001b[0m     \u001b[38;5;28;01mwith\u001b[39;00m _lock:\n",
      "File \u001b[0;32m~/.local/lib/python3.10/site-packages/ray/util/client/__init__.py:92\u001b[0m, in \u001b[0;36m_ClientContext.connect\u001b[0;34m(self, conn_str, job_config, secure, metadata, connection_retries, namespace, ignore_version, _credentials, ray_init_kwargs)\u001b[0m\n\u001b[1;32m     89\u001b[0m setup_logger(logging_level, logging_format)\n\u001b[1;32m     91\u001b[0m \u001b[38;5;28;01mtry\u001b[39;00m:\n\u001b[0;32m---> 92\u001b[0m     \u001b[38;5;28mself\u001b[39m\u001b[38;5;241m.\u001b[39mclient_worker \u001b[38;5;241m=\u001b[39m \u001b[43mWorker\u001b[49m\u001b[43m(\u001b[49m\n\u001b[1;32m     93\u001b[0m \u001b[43m        \u001b[49m\u001b[43mconn_str\u001b[49m\u001b[43m,\u001b[49m\n\u001b[1;32m     94\u001b[0m \u001b[43m        \u001b[49m\u001b[43msecure\u001b[49m\u001b[38;5;241;43m=\u001b[39;49m\u001b[43msecure\u001b[49m\u001b[43m,\u001b[49m\n\u001b[1;32m     95\u001b[0m \u001b[43m        \u001b[49m\u001b[43m_credentials\u001b[49m\u001b[38;5;241;43m=\u001b[39;49m\u001b[43m_credentials\u001b[49m\u001b[43m,\u001b[49m\n\u001b[1;32m     96\u001b[0m \u001b[43m        \u001b[49m\u001b[43mmetadata\u001b[49m\u001b[38;5;241;43m=\u001b[39;49m\u001b[43mmetadata\u001b[49m\u001b[43m,\u001b[49m\n\u001b[1;32m     97\u001b[0m \u001b[43m        \u001b[49m\u001b[43mconnection_retries\u001b[49m\u001b[38;5;241;43m=\u001b[39;49m\u001b[43mconnection_retries\u001b[49m\u001b[43m,\u001b[49m\n\u001b[1;32m     98\u001b[0m \u001b[43m    \u001b[49m\u001b[43m)\u001b[49m\n\u001b[1;32m     99\u001b[0m     \u001b[38;5;28mself\u001b[39m\u001b[38;5;241m.\u001b[39mapi\u001b[38;5;241m.\u001b[39mworker \u001b[38;5;241m=\u001b[39m \u001b[38;5;28mself\u001b[39m\u001b[38;5;241m.\u001b[39mclient_worker\n\u001b[1;32m    100\u001b[0m     \u001b[38;5;28mself\u001b[39m\u001b[38;5;241m.\u001b[39mclient_worker\u001b[38;5;241m.\u001b[39m_server_init(job_config, ray_init_kwargs)\n",
      "File \u001b[0;32m~/.local/lib/python3.10/site-packages/ray/util/client/worker.py:139\u001b[0m, in \u001b[0;36mWorker.__init__\u001b[0;34m(self, conn_str, secure, metadata, connection_retries, _credentials)\u001b[0m\n\u001b[1;32m    136\u001b[0m \u001b[38;5;66;03m# Set to True after initial connection succeeds\u001b[39;00m\n\u001b[1;32m    137\u001b[0m \u001b[38;5;28mself\u001b[39m\u001b[38;5;241m.\u001b[39m_has_connected \u001b[38;5;241m=\u001b[39m \u001b[38;5;28;01mFalse\u001b[39;00m\n\u001b[0;32m--> 139\u001b[0m \u001b[38;5;28;43mself\u001b[39;49m\u001b[38;5;241;43m.\u001b[39;49m\u001b[43m_connect_channel\u001b[49m\u001b[43m(\u001b[49m\u001b[43m)\u001b[49m\n\u001b[1;32m    140\u001b[0m \u001b[38;5;28mself\u001b[39m\u001b[38;5;241m.\u001b[39m_has_connected \u001b[38;5;241m=\u001b[39m \u001b[38;5;28;01mTrue\u001b[39;00m\n\u001b[1;32m    142\u001b[0m \u001b[38;5;66;03m# Has Ray been initialized on the server?\u001b[39;00m\n",
      "File \u001b[0;32m~/.local/lib/python3.10/site-packages/ray/util/client/worker.py:260\u001b[0m, in \u001b[0;36mWorker._connect_channel\u001b[0;34m(self, reconnecting)\u001b[0m\n\u001b[1;32m    252\u001b[0m \u001b[38;5;28;01mif\u001b[39;00m log_once(\u001b[38;5;124m\"\u001b[39m\u001b[38;5;124mray_client_security_groups\u001b[39m\u001b[38;5;124m\"\u001b[39m):\n\u001b[1;32m    253\u001b[0m     warnings\u001b[38;5;241m.\u001b[39mwarn(\n\u001b[1;32m    254\u001b[0m         \u001b[38;5;124m\"\u001b[39m\u001b[38;5;124mRay Client connection timed out. Ensure that \u001b[39m\u001b[38;5;124m\"\u001b[39m\n\u001b[1;32m    255\u001b[0m         \u001b[38;5;124m\"\u001b[39m\u001b[38;5;124mthe Ray Client port on the head node is reachable \u001b[39m\u001b[38;5;124m\"\u001b[39m\n\u001b[0;32m   (...)\u001b[0m\n\u001b[1;32m    258\u001b[0m         \u001b[38;5;124m\"\u001b[39m\u001b[38;5;124mmore information.\u001b[39m\u001b[38;5;124m\"\u001b[39m\n\u001b[1;32m    259\u001b[0m     )\n\u001b[0;32m--> 260\u001b[0m \u001b[38;5;28;01mraise\u001b[39;00m \u001b[38;5;167;01mConnectionError\u001b[39;00m(\u001b[38;5;124m\"\u001b[39m\u001b[38;5;124mray client connection timeout\u001b[39m\u001b[38;5;124m\"\u001b[39m)\n",
      "\u001b[0;31mConnectionError\u001b[0m: ray client connection timeout"
     ]
    }
   ],
   "source": [
    "RAY_ADDRESS=f\"vertex_ray://projects/{PROJECT_NBR}/locations/{REGION}/persistentResources/{RAY_CLUSTER_NM}\"\n",
    "print(f\"RAY_ADDRESS:{RAY_ADDRESS}\")\n",
    "\n",
    "RUNTIME_ENV = {\n",
    "  \"pip\": [\n",
    "        \"google-cloud-aiplatform[ray]>=1.56.0\",\n",
    "        \"ray[data]==2.9.3\",\n",
    "        \"ray[train]==2.9.3\",\n",
    "        \"ray[tune]==2.9.3\",\n",
    "        \"torch==2.1.2\",\n",
    "        \"torchvision==0.16.2\",\n",
    "        \"torchmetrics==1.2.1\",\n",
    "        \"setuptools==69.5.1\",\n",
    "        \"ipython\",\n",
    "        \"xgboost_ray\",\n",
    "        \n",
    "  ],\n",
    "}\n",
    "\n",
    "ray.init(address=RAY_ADDRESS,runtime_env=RUNTIME_ENV)"
   ]
  },
  {
   "cell_type": "markdown",
   "id": "d1559d5d-6d41-467d-a575-1179a85751ff",
   "metadata": {},
   "source": [
    "### Training"
   ]
  },
  {
   "cell_type": "code",
   "execution_count": 8,
   "id": "c43b659e-4e3a-4cc0-9352-712e0fa77fde",
   "metadata": {
    "tags": []
   },
   "outputs": [
    {
     "ename": "ModuleNotFoundError",
     "evalue": "No module named 'xgboost_ray'",
     "output_type": "error",
     "traceback": [
      "\u001b[0;31m---------------------------------------------------------------------------\u001b[0m",
      "\u001b[0;31mModuleNotFoundError\u001b[0m                       Traceback (most recent call last)",
      "Cell \u001b[0;32mIn[8], line 6\u001b[0m\n\u001b[1;32m      4\u001b[0m \u001b[38;5;28;01mfrom\u001b[39;00m \u001b[38;5;21;01mray\u001b[39;00m\u001b[38;5;21;01m.\u001b[39;00m\u001b[38;5;21;01mdata\u001b[39;00m \u001b[38;5;28;01mimport\u001b[39;00m Dataset, Preprocessor\n\u001b[1;32m      5\u001b[0m \u001b[38;5;28;01mfrom\u001b[39;00m \u001b[38;5;21;01mray\u001b[39;00m\u001b[38;5;21;01m.\u001b[39;00m\u001b[38;5;21;01mdata\u001b[39;00m\u001b[38;5;21;01m.\u001b[39;00m\u001b[38;5;21;01mpreprocessors\u001b[39;00m \u001b[38;5;28;01mimport\u001b[39;00m StandardScaler\n\u001b[0;32m----> 6\u001b[0m \u001b[38;5;28;01mfrom\u001b[39;00m \u001b[38;5;21;01mray\u001b[39;00m\u001b[38;5;21;01m.\u001b[39;00m\u001b[38;5;21;01mtrain\u001b[39;00m\u001b[38;5;21;01m.\u001b[39;00m\u001b[38;5;21;01mxgboost\u001b[39;00m \u001b[38;5;28;01mimport\u001b[39;00m XGBoostTrainer\n\u001b[1;32m      7\u001b[0m \u001b[38;5;28;01mfrom\u001b[39;00m \u001b[38;5;21;01mray\u001b[39;00m\u001b[38;5;21;01m.\u001b[39;00m\u001b[38;5;21;01mtrain\u001b[39;00m \u001b[38;5;28;01mimport\u001b[39;00m Result, ScalingConfig\n\u001b[1;32m      8\u001b[0m \u001b[38;5;28;01mimport\u001b[39;00m \u001b[38;5;21;01mxgboost\u001b[39;00m\n",
      "File \u001b[0;32m~/.local/lib/python3.10/site-packages/ray/train/xgboost/__init__.py:3\u001b[0m\n\u001b[1;32m      1\u001b[0m \u001b[38;5;28;01mfrom\u001b[39;00m \u001b[38;5;21;01mray\u001b[39;00m\u001b[38;5;21;01m.\u001b[39;00m\u001b[38;5;21;01mtrain\u001b[39;00m\u001b[38;5;21;01m.\u001b[39;00m\u001b[38;5;21;01mxgboost\u001b[39;00m\u001b[38;5;21;01m.\u001b[39;00m\u001b[38;5;21;01mxgboost_checkpoint\u001b[39;00m \u001b[38;5;28;01mimport\u001b[39;00m XGBoostCheckpoint\n\u001b[1;32m      2\u001b[0m \u001b[38;5;28;01mfrom\u001b[39;00m \u001b[38;5;21;01mray\u001b[39;00m\u001b[38;5;21;01m.\u001b[39;00m\u001b[38;5;21;01mtrain\u001b[39;00m\u001b[38;5;21;01m.\u001b[39;00m\u001b[38;5;21;01mxgboost\u001b[39;00m\u001b[38;5;21;01m.\u001b[39;00m\u001b[38;5;21;01mxgboost_predictor\u001b[39;00m \u001b[38;5;28;01mimport\u001b[39;00m XGBoostPredictor\n\u001b[0;32m----> 3\u001b[0m \u001b[38;5;28;01mfrom\u001b[39;00m \u001b[38;5;21;01mray\u001b[39;00m\u001b[38;5;21;01m.\u001b[39;00m\u001b[38;5;21;01mtrain\u001b[39;00m\u001b[38;5;21;01m.\u001b[39;00m\u001b[38;5;21;01mxgboost\u001b[39;00m\u001b[38;5;21;01m.\u001b[39;00m\u001b[38;5;21;01mxgboost_trainer\u001b[39;00m \u001b[38;5;28;01mimport\u001b[39;00m XGBoostTrainer\n\u001b[1;32m      5\u001b[0m __all__ \u001b[38;5;241m=\u001b[39m [\n\u001b[1;32m      6\u001b[0m     \u001b[38;5;124m\"\u001b[39m\u001b[38;5;124mXGBoostCheckpoint\u001b[39m\u001b[38;5;124m\"\u001b[39m,\n\u001b[1;32m      7\u001b[0m     \u001b[38;5;124m\"\u001b[39m\u001b[38;5;124mXGBoostPredictor\u001b[39m\u001b[38;5;124m\"\u001b[39m,\n\u001b[1;32m      8\u001b[0m     \u001b[38;5;124m\"\u001b[39m\u001b[38;5;124mXGBoostTrainer\u001b[39m\u001b[38;5;124m\"\u001b[39m,\n\u001b[1;32m      9\u001b[0m ]\n",
      "File \u001b[0;32m~/.local/lib/python3.10/site-packages/ray/train/xgboost/xgboost_trainer.py:5\u001b[0m\n\u001b[1;32m      2\u001b[0m \u001b[38;5;28;01mfrom\u001b[39;00m \u001b[38;5;21;01mtyping\u001b[39;00m \u001b[38;5;28;01mimport\u001b[39;00m Any, Dict\n\u001b[1;32m      4\u001b[0m \u001b[38;5;28;01mimport\u001b[39;00m \u001b[38;5;21;01mxgboost\u001b[39;00m\n\u001b[0;32m----> 5\u001b[0m \u001b[38;5;28;01mimport\u001b[39;00m \u001b[38;5;21;01mxgboost_ray\u001b[39;00m\n\u001b[1;32m      6\u001b[0m \u001b[38;5;28;01mfrom\u001b[39;00m \u001b[38;5;21;01mxgboost_ray\u001b[39;00m\u001b[38;5;21;01m.\u001b[39;00m\u001b[38;5;21;01mtune\u001b[39;00m \u001b[38;5;28;01mimport\u001b[39;00m TuneReportCheckpointCallback\n\u001b[1;32m      8\u001b[0m \u001b[38;5;28;01mfrom\u001b[39;00m \u001b[38;5;21;01mray\u001b[39;00m\u001b[38;5;21;01m.\u001b[39;00m\u001b[38;5;21;01mtrain\u001b[39;00m \u001b[38;5;28;01mimport\u001b[39;00m Checkpoint\n",
      "\u001b[0;31mModuleNotFoundError\u001b[0m: No module named 'xgboost_ray'"
     ]
    }
   ],
   "source": [
    "from typing import Tuple\n",
    "\n",
    "import ray\n",
    "from ray.data import Dataset, Preprocessor\n",
    "from ray.data.preprocessors import StandardScaler\n",
    "from ray.train.xgboost import XGBoostTrainer\n",
    "from ray.train import Result, ScalingConfig\n",
    "# import xgboost"
   ]
  },
  {
   "cell_type": "code",
   "execution_count": 9,
   "id": "2bf791b1-ef43-46fa-a154-d9cc4cfcf169",
   "metadata": {
    "tags": []
   },
   "outputs": [],
   "source": [
    "@ray.remote\n",
    "def train_xgboost(num_workers: int, use_gpu: bool = False) -> Result:\n",
    "    \n",
    "    dataset = ray.data.read_csv(\"s3://anonymous@air-example-data/breast_cancer.csv\")\n",
    "    train_dataset, valid_dataset = dataset.train_test_split(test_size=0.3)\n",
    "    test_dataset = valid_dataset.drop_columns([\"target\"])    \n",
    "    \n",
    "    # train_dataset, valid_dataset, _ = prepare_data()\n",
    "\n",
    "    # Scale some random columns\n",
    "    columns_to_scale = [\"mean radius\", \"mean texture\"]\n",
    "    preprocessor = StandardScaler(columns=columns_to_scale)\n",
    "    train_dataset = preprocessor.fit_transform(train_dataset)\n",
    "    valid_dataset = preprocessor.transform(valid_dataset)\n",
    "\n",
    "    # XGBoost specific params\n",
    "    params = {\n",
    "        \"tree_method\": \"approx\",\n",
    "        \"objective\": \"binary:logistic\",\n",
    "        \"eval_metric\": [\"logloss\", \"error\"],\n",
    "    }\n",
    "\n",
    "    trainer = XGBoostTrainer(\n",
    "        scaling_config=ScalingConfig(num_workers=num_workers, use_gpu=use_gpu),\n",
    "        label_column=\"target\",\n",
    "        params=params,\n",
    "        datasets={\"train\": train_dataset, \"valid\": valid_dataset},\n",
    "        num_boost_round=100,\n",
    "        metadata = {\"preprocessor_pkl\": preprocessor.serialize()}\n",
    "    )\n",
    "    result = trainer.fit()\n",
    "    print(result.metrics)\n",
    "\n",
    "    return result"
   ]
  },
  {
   "cell_type": "code",
   "execution_count": 10,
   "id": "f9bddf47-b3cb-474f-9784-7918a8e1b940",
   "metadata": {
    "tags": []
   },
   "outputs": [
    {
     "data": {
      "text/plain": [
       "ClientObjectRef(912e96ffd8909c19ffffffffffffffffffffffff0c00000001000000)"
      ]
     },
     "execution_count": 10,
     "metadata": {},
     "output_type": "execute_result"
    }
   ],
   "source": [
    "train_xgboost.remote(num_workers=2, use_gpu=False)\n",
    "\n",
    "\n",
    "# result = train_xgboost(num_workers=2, use_gpu=False)"
   ]
  },
  {
   "cell_type": "code",
   "execution_count": 13,
   "id": "46fc59ab-f402-4963-8927-ebde3ae95738",
   "metadata": {
    "tags": []
   },
   "outputs": [],
   "source": [
    "import pandas as pd\n",
    "from ray.train import Checkpoint\n",
    "\n",
    "# @ray.remote\n",
    "class Predict:\n",
    "\n",
    "    def __init__(self, checkpoint: Checkpoint):\n",
    "        self.model = XGBoostTrainer.get_model(checkpoint)\n",
    "        self.preprocessor = Preprocessor.deserialize(checkpoint.get_metadata()[\"preprocessor_pkl\"])\n",
    "\n",
    "    def __call__(self, batch: pd.DataFrame) -> pd.DataFrame:\n",
    "        preprocessed_batch = self.preprocessor.transform_batch(batch)\n",
    "        dmatrix = xgboost.DMatrix(preprocessed_batch)\n",
    "        return {\"predictions\": self.model.predict(dmatrix)}\n",
    "\n",
    "# @ray.remote\n",
    "def predict_xgboost(result: Result):\n",
    "    # _, _, test_dataset = prepare_data()\n",
    "\n",
    "    dataset = ray.data.read_csv(\"s3://anonymous@air-example-data/breast_cancer.csv\")\n",
    "    train_dataset, valid_dataset = dataset.train_test_split(test_size=0.3)\n",
    "    test_dataset = valid_dataset.drop_columns([\"target\"])        \n",
    "    \n",
    "    scores = test_dataset.map_batches(\n",
    "        Predict, \n",
    "        fn_constructor_args=[result.checkpoint], \n",
    "        concurrency=1, \n",
    "        batch_format=\"pandas\"\n",
    "    )\n",
    "    \n",
    "    predicted_labels = scores.map_batches(lambda df: (df > 0.5).astype(int), batch_format=\"pandas\")\n",
    "    print(f\"PREDICTED LABELS\")\n",
    "    predicted_labels.show()"
   ]
  },
  {
   "cell_type": "code",
   "execution_count": 19,
   "id": "d3dd74cf-d787-4bb0-a6b8-251fd13f172a",
   "metadata": {
    "tags": []
   },
   "outputs": [
    {
     "ename": "TypeError",
     "evalue": "Remote functions cannot be called directly. Instead of running '__main__.train_xgboost()', try '__main__.train_xgboost.remote()'.",
     "output_type": "error",
     "traceback": [
      "\u001b[0;31m---------------------------------------------------------------------------\u001b[0m",
      "\u001b[0;31mTypeError\u001b[0m                                 Traceback (most recent call last)",
      "Cell \u001b[0;32mIn[19], line 1\u001b[0m\n\u001b[0;32m----> 1\u001b[0m result \u001b[38;5;241m=\u001b[39m \u001b[43mtrain_xgboost\u001b[49m\u001b[43m(\u001b[49m\u001b[43mnum_workers\u001b[49m\u001b[38;5;241;43m=\u001b[39;49m\u001b[38;5;241;43m2\u001b[39;49m\u001b[43m,\u001b[49m\u001b[43m \u001b[49m\u001b[43muse_gpu\u001b[49m\u001b[38;5;241;43m=\u001b[39;49m\u001b[38;5;28;43;01mFalse\u001b[39;49;00m\u001b[43m)\u001b[49m\n",
      "File \u001b[0;32m~/.local/lib/python3.10/site-packages/ray/remote_function.py:144\u001b[0m, in \u001b[0;36mRemoteFunction.__call__\u001b[0;34m(self, *args, **kwargs)\u001b[0m\n\u001b[1;32m    143\u001b[0m \u001b[38;5;28;01mdef\u001b[39;00m \u001b[38;5;21m__call__\u001b[39m(\u001b[38;5;28mself\u001b[39m, \u001b[38;5;241m*\u001b[39margs, \u001b[38;5;241m*\u001b[39m\u001b[38;5;241m*\u001b[39mkwargs):\n\u001b[0;32m--> 144\u001b[0m     \u001b[38;5;28;01mraise\u001b[39;00m \u001b[38;5;167;01mTypeError\u001b[39;00m(\n\u001b[1;32m    145\u001b[0m         \u001b[38;5;124m\"\u001b[39m\u001b[38;5;124mRemote functions cannot be called directly. Instead \u001b[39m\u001b[38;5;124m\"\u001b[39m\n\u001b[1;32m    146\u001b[0m         \u001b[38;5;124mf\u001b[39m\u001b[38;5;124m\"\u001b[39m\u001b[38;5;124mof running \u001b[39m\u001b[38;5;124m'\u001b[39m\u001b[38;5;132;01m{\u001b[39;00m\u001b[38;5;28mself\u001b[39m\u001b[38;5;241m.\u001b[39m_function_name\u001b[38;5;132;01m}\u001b[39;00m\u001b[38;5;124m()\u001b[39m\u001b[38;5;124m'\u001b[39m\u001b[38;5;124m, \u001b[39m\u001b[38;5;124m\"\u001b[39m\n\u001b[1;32m    147\u001b[0m         \u001b[38;5;124mf\u001b[39m\u001b[38;5;124m\"\u001b[39m\u001b[38;5;124mtry \u001b[39m\u001b[38;5;124m'\u001b[39m\u001b[38;5;132;01m{\u001b[39;00m\u001b[38;5;28mself\u001b[39m\u001b[38;5;241m.\u001b[39m_function_name\u001b[38;5;132;01m}\u001b[39;00m\u001b[38;5;124m.remote()\u001b[39m\u001b[38;5;124m'\u001b[39m\u001b[38;5;124m.\u001b[39m\u001b[38;5;124m\"\u001b[39m\n\u001b[1;32m    148\u001b[0m     )\n",
      "\u001b[0;31mTypeError\u001b[0m: Remote functions cannot be called directly. Instead of running '__main__.train_xgboost()', try '__main__.train_xgboost.remote()'."
     ]
    }
   ],
   "source": []
  },
  {
   "cell_type": "code",
   "execution_count": null,
   "id": "96ebb0a9-e141-4da1-a999-221447f24be6",
   "metadata": {},
   "outputs": [],
   "source": []
  },
  {
   "cell_type": "code",
   "execution_count": null,
   "id": "92832fd9-4f42-4137-b008-610d498564db",
   "metadata": {},
   "outputs": [],
   "source": []
  },
  {
   "cell_type": "code",
   "execution_count": null,
   "id": "9262a77a-7142-4949-bb80-2889f17c1bf6",
   "metadata": {},
   "outputs": [],
   "source": []
  },
  {
   "cell_type": "code",
   "execution_count": null,
   "id": "2a2e98b9-1c8b-4809-b30c-48f26343fd38",
   "metadata": {},
   "outputs": [],
   "source": []
  },
  {
   "cell_type": "code",
   "execution_count": null,
   "id": "86303dbb-ba9e-448d-aeca-3697dfe266c1",
   "metadata": {},
   "outputs": [],
   "source": []
  },
  {
   "cell_type": "markdown",
   "id": "277a09c6-f629-4d92-9547-0031f971d5c2",
   "metadata": {
    "tags": []
   },
   "source": [
    "### Ray Basic concept"
   ]
  },
  {
   "cell_type": "markdown",
   "id": "6159defb-7ba4-4ec4-b440-19e60fef79de",
   "metadata": {
    "tags": []
   },
   "source": [
    "#### Basic Operation"
   ]
  },
  {
   "cell_type": "code",
   "execution_count": 9,
   "id": "06ccba7e-66c9-4aa9-b4f3-66e47e046160",
   "metadata": {
    "tags": []
   },
   "outputs": [
    {
     "name": "stdout",
     "output_type": "stream",
     "text": [
      "[0, 1, 4]\n"
     ]
    }
   ],
   "source": [
    "import time\n",
    "\n",
    "# Define the square task.\n",
    "@ray.remote\n",
    "def square(x):\n",
    "    time.sleep(3)\n",
    "    return x * x\n",
    "\n",
    "# Launch four parallel square tasks.\n",
    "futures = [square.remote(i) for i in range(3)]\n",
    "\n",
    "# Retrieve results.\n",
    "print(ray.get(futures))\n",
    "# -> [0, 1, 4,]"
   ]
  },
  {
   "cell_type": "markdown",
   "id": "9fb696e8-21a6-4bc0-8a12-b04e694a261c",
   "metadata": {},
   "source": [
    "#### Define actor and operate"
   ]
  },
  {
   "cell_type": "code",
   "execution_count": 10,
   "id": "0df0a136-d18d-44ac-9ece-cf89d382191d",
   "metadata": {
    "tags": []
   },
   "outputs": [
    {
     "name": "stdout",
     "output_type": "stream",
     "text": [
      "10\n"
     ]
    }
   ],
   "source": [
    "# Define the Counter actor.\n",
    "@ray.remote\n",
    "class Counter:\n",
    "    def __init__(self):\n",
    "        self.i = 0\n",
    "\n",
    "    def get(self):\n",
    "        return self.i\n",
    "\n",
    "    def increase(self, value):\n",
    "        self.i += value\n",
    "\n",
    "# Create a Counter actor.\n",
    "c = Counter.remote()\n",
    "\n",
    "# Submit calls to the actor. These calls run asynchronously but in\n",
    "# submission order on the remote actor process.\n",
    "for _ in range(10):\n",
    "    c.increase.remote(1)\n",
    "\n",
    "# Retrieve final actor state.\n",
    "print(ray.get(c.get.remote()))\n",
    "# -> 10"
   ]
  },
  {
   "cell_type": "markdown",
   "id": "dbd93ce9-76b4-4e0a-b890-1cfcbeb23d6e",
   "metadata": {},
   "source": [
    "#### Passing an Object"
   ]
  },
  {
   "cell_type": "code",
   "execution_count": 13,
   "id": "5d3006d3-a0f2-490d-b716-3f8e61a3bce4",
   "metadata": {
    "tags": []
   },
   "outputs": [
    {
     "name": "stdout",
     "output_type": "stream",
     "text": [
      "10000.0\n",
      "1000000.0\n"
     ]
    }
   ],
   "source": [
    "import numpy as np\n",
    "\n",
    "# Define a task that sums the values in a matrix.\n",
    "@ray.remote\n",
    "def sum_matrix(matrix):\n",
    "    return np.sum(matrix)\n",
    "\n",
    "# Call the task with a literal argument value.\n",
    "print(ray.get(sum_matrix.remote(np.ones((100, 100)))))\n",
    "# -> 10000.0\n",
    "\n",
    "# Put a large array into the object store.\n",
    "matrix_ref = ray.put(np.ones((1000, 1000)))\n",
    "\n",
    "# Call the task with the object reference as an argument.\n",
    "print(ray.get(sum_matrix.remote(matrix_ref)))\n",
    "# -> 1000000.0"
   ]
  },
  {
   "cell_type": "markdown",
   "id": "c2f86199-d906-41d6-8b8d-80cab9725ca4",
   "metadata": {},
   "source": [
    "### Tasks\n",
    "* https://docs.ray.io/en/latest/ray-core/tasks.html"
   ]
  },
  {
   "cell_type": "code",
   "execution_count": 11,
   "id": "e5b6dded-abaf-4cf0-a1f9-464b359781af",
   "metadata": {
    "tags": []
   },
   "outputs": [],
   "source": [
    "import ray\n",
    "import time\n",
    "\n",
    "\n",
    "# A regular Python function.\n",
    "def normal_function():\n",
    "    return 1\n",
    "\n",
    "\n",
    "# By adding the `@ray.remote` decorator, a regular Python function\n",
    "# becomes a Ray remote function.\n",
    "@ray.remote\n",
    "def my_function():\n",
    "    return 1\n",
    "\n",
    "\n",
    "# To invoke this remote function, use the `remote` method.\n",
    "# This will immediately return an object ref (a future) and then create\n",
    "# a task that will be executed on a worker process.\n",
    "obj_ref = my_function.remote()\n",
    "\n",
    "# The result can be retrieved with ``ray.get``.\n",
    "assert ray.get(obj_ref) == 1"
   ]
  },
  {
   "cell_type": "code",
   "execution_count": 20,
   "id": "75e73ccc-18ea-456d-9ff7-a96c91a4eece",
   "metadata": {
    "tags": []
   },
   "outputs": [],
   "source": [
    "@ray.remote\n",
    "def slow_function():\n",
    "    time.sleep(10)\n",
    "    return 1\n",
    "\n",
    "\n",
    "# Ray tasks are executed in parallel.\n",
    "# All computation is performed in the background, driven by Ray's internal event loop.\n",
    "for _ in range(4):\n",
    "    # This doesn't block.\n",
    "    slow_function.remote()"
   ]
  },
  {
   "cell_type": "markdown",
   "id": "d912ec4d-cdb3-4cd8-91e4-3b72b33adafb",
   "metadata": {},
   "source": [
    "#### Specifying required resources"
   ]
  },
  {
   "cell_type": "code",
   "execution_count": 12,
   "id": "e3084708-5b4d-4401-aa58-6d1193a3d39e",
   "metadata": {
    "tags": []
   },
   "outputs": [
    {
     "data": {
      "text/plain": [
       "ClientObjectRef(1e360ffa862f8fe3ffffffffffffffffffffffff0100000001000000)"
      ]
     },
     "execution_count": 12,
     "metadata": {},
     "output_type": "execute_result"
    }
   ],
   "source": [
    "# Specify required resources.\n",
    "@ray.remote(num_cpus=4, num_gpus=2)\n",
    "def my_function():\n",
    "    return 1\n",
    "\n",
    "# Override the default resource requirements.\n",
    "my_function.options(num_cpus=3).remote()"
   ]
  },
  {
   "cell_type": "markdown",
   "id": "d77d0e5b-2897-4c1c-b403-ed0202c89fde",
   "metadata": {},
   "source": [
    "#### Passing object refs to Ray taks\n",
    "\n",
    "* myfunction --> refs --> function with an argument --> refs."
   ]
  },
  {
   "cell_type": "code",
   "execution_count": 13,
   "id": "098a2c9a-3886-4cd8-aa13-1150bf0f3579",
   "metadata": {
    "tags": []
   },
   "outputs": [
    {
     "name": "stdout",
     "output_type": "stream",
     "text": [
      "1\n",
      "2\n"
     ]
    }
   ],
   "source": [
    "@ray.remote\n",
    "def my_function():\n",
    "    return 1\n",
    "\n",
    "@ray.remote\n",
    "def function_with_an_argument(value):\n",
    "    return value + 1\n",
    "\n",
    "obj_ref1 = my_function.remote()\n",
    "result1 = ray.get(obj_ref1)\n",
    "print(result1)\n",
    "\n",
    "# You can pass an object ref as an argument to another Ray task.\n",
    "obj_ref2 = function_with_an_argument.remote(obj_ref1)\n",
    "result2 = ray.get(obj_ref2)\n",
    "print(result2)"
   ]
  },
  {
   "cell_type": "markdown",
   "id": "02b10ca7-d62e-41d5-b26d-46fc0c0b5a5d",
   "metadata": {},
   "source": [
    "#### wait for the slow function."
   ]
  },
  {
   "cell_type": "code",
   "execution_count": 15,
   "id": "6b77d2ba-27ad-404a-82b0-fa40d8c6654d",
   "metadata": {
    "tags": []
   },
   "outputs": [
    {
     "name": "stdout",
     "output_type": "stream",
     "text": [
      "ready_refs:[ClientObjectRef(c76a79b2875a7251ffffffffffffffffffffffff0100000001000000)]\n",
      "remaining_refs:[ClientObjectRef(465c0fb8d6cb3cdcffffffffffffffffffffffff0100000001000000)]\n"
     ]
    }
   ],
   "source": [
    "@ray.remote\n",
    "def slow_function():\n",
    "    time.sleep(10)\n",
    "    return 1\n",
    "\n",
    "\n",
    "object_refs = [slow_function.remote() for _ in range(2)]\n",
    "# Return as soon as one of the tasks finished execution.\n",
    "ready_refs, remaining_refs = ray.wait(object_refs, num_returns=1, timeout=None)\n",
    "\n",
    "print(f\"ready_refs:{ready_refs}\")\n",
    "print(f\"remaining_refs:{remaining_refs}\")\n"
   ]
  },
  {
   "cell_type": "markdown",
   "id": "35ac4b6b-a424-4490-8a33-efffe7af6bb7",
   "metadata": {},
   "source": [
    "#### Multiple resturns"
   ]
  },
  {
   "cell_type": "code",
   "execution_count": 16,
   "id": "531bf926-ec26-45de-a58f-995cbce95a19",
   "metadata": {
    "tags": []
   },
   "outputs": [
    {
     "data": {
      "text/plain": [
       "(0, 1, 2)"
      ]
     },
     "execution_count": 16,
     "metadata": {},
     "output_type": "execute_result"
    }
   ],
   "source": [
    "# By default, a Ray task only returns a single Object Ref.\n",
    "@ray.remote\n",
    "def return_single():\n",
    "    return 0, 1, 2  # tuple return.\n",
    "\n",
    "\n",
    "object_ref = return_single.remote()\n",
    "assert ray.get(object_ref) == (0, 1, 2)\n",
    "\n",
    "\n",
    "# However, you can configure Ray tasks to return multiple Object Refs.\n",
    "@ray.remote(num_returns=3)\n",
    "def return_multiple():\n",
    "    return 0, 1, 2\n",
    "\n",
    "\n",
    "object_ref0, object_ref1, object_ref2 = return_multiple.remote()\n",
    "\n",
    "ray.get(object_ref0), ray.get(object_ref1), ray.get(object_ref2)"
   ]
  },
  {
   "cell_type": "markdown",
   "id": "7e79435f-732e-403b-91e3-899fd061ff93",
   "metadata": {},
   "source": [
    "### Actors"
   ]
  },
  {
   "cell_type": "markdown",
   "id": "87c12690-30fc-4b4a-88fd-6966a0aa0c3f",
   "metadata": {},
   "source": [
    "#### Actors basic"
   ]
  },
  {
   "cell_type": "code",
   "execution_count": 48,
   "id": "38ae686c-30c9-4cda-a5fd-6d95a85b1201",
   "metadata": {
    "tags": []
   },
   "outputs": [
    {
     "name": "stdout",
     "output_type": "stream",
     "text": [
      "30\n"
     ]
    }
   ],
   "source": [
    "import ray\n",
    "\n",
    "#@ray.remote(num_cpus=1, num_gpus=1) # specify the resources\n",
    "@ray.remote # specify the resources\n",
    "class Counter:\n",
    "    def __init__(self):\n",
    "        self.value = 20\n",
    "\n",
    "    def increment(self, num):\n",
    "        self.value = self.value + num\n",
    "        return self.value\n",
    "\n",
    "    def get_counter(self):\n",
    "        return self.value\n",
    "\n",
    "# Create an actor from this class.\n",
    "counter = Counter.remote()\n",
    "\n",
    "# Call the actor.\n",
    "obj_ref = counter.increment.remote(10)\n",
    "print(ray.get(obj_ref))\n",
    "\n"
   ]
  },
  {
   "cell_type": "markdown",
   "id": "98580dd5-eb81-4f04-b8ab-18504cb69c88",
   "metadata": {},
   "source": [
    "#### Multiple operations"
   ]
  },
  {
   "cell_type": "code",
   "execution_count": 52,
   "id": "445c989e-8f5c-47a3-b77e-7a257e813bf3",
   "metadata": {
    "tags": []
   },
   "outputs": [
    {
     "name": "stdout",
     "output_type": "stream",
     "text": [
      "[30, 30, 30, 30, 30, 30, 30, 30, 30, 30]\n"
     ]
    }
   ],
   "source": [
    "# Create ten Counter actors.\n",
    "counters = [Counter.remote() for _ in range(10)]\n",
    "\n",
    "# Increment each Counter once and get the results. These tasks all happen in parallel.\n",
    "results = ray.get([c.increment.remote(10) for c in counters])\n",
    "print(results)\n"
   ]
  },
  {
   "cell_type": "code",
   "execution_count": 53,
   "id": "26b08ad0-91f8-4f5a-ad1b-13fd70d9e99c",
   "metadata": {
    "tags": []
   },
   "outputs": [
    {
     "name": "stdout",
     "output_type": "stream",
     "text": [
      "[50, 70, 90, 110, 130, 150, 170, 190, 210, 230]\n"
     ]
    }
   ],
   "source": [
    "# Increment the first Counter five times. These tasks are executed serially and share state.\n",
    "results = ray.get([counters[0].increment.remote(20) for _ in range(10)])\n",
    "print(results)"
   ]
  },
  {
   "cell_type": "code",
   "execution_count": null,
   "id": "ed22645e-3d0b-4a61-89c2-7b3dbecf81f2",
   "metadata": {},
   "outputs": [],
   "source": []
  }
 ],
 "metadata": {
  "environment": {
   "kernel": "conda-base-py",
   "name": "workbench-notebooks.m127",
   "type": "gcloud",
   "uri": "us-docker.pkg.dev/deeplearning-platform-release/gcr.io/workbench-notebooks:m127"
  },
  "kernelspec": {
   "display_name": "Python 3 (ipykernel) (Local)",
   "language": "python",
   "name": "conda-base-py"
  },
  "language_info": {
   "codemirror_mode": {
    "name": "ipython",
    "version": 3
   },
   "file_extension": ".py",
   "mimetype": "text/x-python",
   "name": "python",
   "nbconvert_exporter": "python",
   "pygments_lexer": "ipython3",
   "version": "3.10.16"
  }
 },
 "nbformat": 4,
 "nbformat_minor": 5
}
