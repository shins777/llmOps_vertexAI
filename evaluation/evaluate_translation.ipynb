{
 "cells": [
  {
   "cell_type": "code",
   "execution_count": null,
   "metadata": {
    "id": "OsXAs2gcIpbC"
   },
   "outputs": [],
   "source": [
    "# Copyright 2024 Forusone\n",
    "#\n",
    "# Licensed under the Apache License, Version 2.0 (the \"License\");\n",
    "# you may not use this file except in compliance with the License.\n",
    "# You may obtain a copy of the License at\n",
    "#\n",
    "#     https://www.apache.org/licenses/LICENSE-2.0\n",
    "#\n",
    "# Unless required by applicable law or agreed to in writing, software\n",
    "# distributed under the License is distributed on an \"AS IS\" BASIS,\n",
    "# WITHOUT WARRANTIES OR CONDITIONS OF ANY KIND, either express or implied.\n",
    "# See the License for the specific language governing permissions and\n",
    "# limitations under the License."
   ]
  },
  {
   "cell_type": "markdown",
   "metadata": {
    "id": "5e_7VOHBer8D"
   },
   "source": [
    "# Evaluate a Translation Model\n",
    "* [Evaluate a Translation Model](https://colab.sandbox.google.com/github/GoogleCloudPlatform/generative-ai/blob/main/gemini/evaluation/evaluate_translation.ipynb#scrollTo=5e_7VOHBer8D)\n",
    "* In this tutorial, you will learn how to use the Vertex AI Python SDK for [Gen AI Evaluation Service](https://cloud.google.com/vertex-ai/generative-ai/docs/models/evaluation-overview) to measure the translation quality of your LLM responses using [BLEU](https://en.wikipedia.org/wiki/BLEU), [MetricX](https://github.com/google-research/metricx) and [COMET](https://unbabel.github.io/COMET/html/index.html)."
   ]
  },
  {
   "cell_type": "code",
   "execution_count": 1,
   "metadata": {
    "colab": {
     "base_uri": "https://localhost:8080/"
    },
    "executionInfo": {
     "elapsed": 30065,
     "status": "ok",
     "timestamp": 1736864988838,
     "user": {
      "displayName": "Hangsik Shin",
      "userId": "04632555686962088332"
     },
     "user_tz": -540
    },
    "id": "T-Cgoq37er8F",
    "outputId": "a00f6584-0c04-45fa-b0f7-33a807c838b4",
    "tags": []
   },
   "outputs": [
    {
     "name": "stdout",
     "output_type": "stream",
     "text": [
      "Note: you may need to restart the kernel to use updated packages.\n"
     ]
    }
   ],
   "source": [
    "# @title Install Vertex AI Python SDK\n",
    "%pip install --user --quiet google-cloud-aiplatform[evaluation]"
   ]
  },
  {
   "cell_type": "code",
   "execution_count": 2,
   "metadata": {
    "executionInfo": {
     "elapsed": 38,
     "status": "ok",
     "timestamp": 1736865057305,
     "user": {
      "displayName": "Hangsik Shin",
      "userId": "04632555686962088332"
     },
     "user_tz": -540
    },
    "id": "631CqlOmODlp",
    "tags": []
   },
   "outputs": [],
   "source": [
    "# @title Define constants\n",
    "\n",
    "PROJECT_ID=\"ai-hangsik\" # @param {type:\"string\"}\n",
    "LOCATION=\"us-central1\" # @param {type:\"string\"}\n",
    "EXPERIMENT_NAME = \"my-eval-task-experiment\"  # @param {type:\"string\"}"
   ]
  },
  {
   "cell_type": "code",
   "execution_count": 3,
   "metadata": {
    "executionInfo": {
     "elapsed": 14584,
     "status": "ok",
     "timestamp": 1736865003421,
     "user": {
      "displayName": "Hangsik Shin",
      "userId": "04632555686962088332"
     },
     "user_tz": -540
    },
    "id": "MgUI8ziHer8G",
    "tags": []
   },
   "outputs": [],
   "source": [
    "# @title GCP Authentication\n",
    "\n",
    "# Use OAuth to access the GCP environment.\n",
    "import sys\n",
    "if \"google.colab\" in sys.modules:\n",
    "    from google.colab import auth\n",
    "    auth.authenticate_user(project_id=PROJECT_ID)"
   ]
  },
  {
   "cell_type": "code",
   "execution_count": 12,
   "metadata": {
    "id": "trnUJVNwOMJ0",
    "tags": []
   },
   "outputs": [],
   "source": [
    "# @title Initialize Vertex AI SDK\n",
    "import vertexai\n",
    "\n",
    "vertexai.init(project=PROJECT_ID, location=LOCATION)"
   ]
  },
  {
   "cell_type": "markdown",
   "metadata": {
    "id": "dvhI92xhQTzk"
   },
   "source": [
    "### Import libraries"
   ]
  },
  {
   "cell_type": "code",
   "execution_count": 13,
   "metadata": {
    "executionInfo": {
     "elapsed": 12048,
     "status": "ok",
     "timestamp": 1736865024751,
     "user": {
      "displayName": "Hangsik Shin",
      "userId": "04632555686962088332"
     },
     "user_tz": -540
    },
    "id": "qP4ihOCkEBje",
    "tags": []
   },
   "outputs": [],
   "source": [
    "# General\n",
    "import pandas as pd\n",
    "pd.set_option('max_colwidth', 1000)\n",
    "\n",
    "# Main\n",
    "from vertexai import evaluation\n",
    "from vertexai.evaluation.metrics import pointwise_metric"
   ]
  },
  {
   "cell_type": "code",
   "execution_count": 14,
   "metadata": {
    "executionInfo": {
     "elapsed": 2,
     "status": "ok",
     "timestamp": 1736865024759,
     "user": {
      "displayName": "Hangsik Shin",
      "userId": "04632555686962088332"
     },
     "user_tz": -540
    },
    "id": "gT_OJBHfCg4Q",
    "tags": []
   },
   "outputs": [],
   "source": [
    "# @title Helper functions\n",
    "from IPython.display import Markdown, display\n",
    "\n",
    "\n",
    "def display_eval_result(eval_result, metrics=None, model_name=None, rows=0):\n",
    "    if model_name is not None:\n",
    "        display(Markdown(\"## Eval Result for %s\" % model_name))\n",
    "\n",
    "    \"\"\"Display the evaluation results.\"\"\"\n",
    "    summary_metrics, metrics_table = (\n",
    "        eval_result.summary_metrics,\n",
    "        eval_result.metrics_table,\n",
    "    )\n",
    "\n",
    "    metrics_df = pd.DataFrame.from_dict(summary_metrics, orient=\"index\").T\n",
    "    if metrics:\n",
    "        metrics_df = metrics_df.filter(\n",
    "            [\n",
    "                metric\n",
    "                for metric in metrics_df.columns\n",
    "                if any(selected_metric in metric for selected_metric in metrics)\n",
    "            ]\n",
    "        )\n",
    "        metrics_table = metrics_table.filter(\n",
    "            [\n",
    "                metric\n",
    "                for metric in metrics_table.columns\n",
    "                if any(selected_metric in metric for selected_metric in metrics)\n",
    "            ]\n",
    "        )\n",
    "\n",
    "    # Display the summary metrics\n",
    "    display(Markdown(\"### Summary Metrics\"))\n",
    "    display(metrics_df)\n",
    "    if rows > 0:\n",
    "        # Display samples from the metrics table\n",
    "        display(Markdown(\"### Row-based Metrics\"))\n",
    "        display(metrics_table.head(rows))"
   ]
  },
  {
   "cell_type": "markdown",
   "metadata": {
    "id": "jo7ahGbnnYfp"
   },
   "source": [
    "# Set up eval metrics for your data."
   ]
  },
  {
   "cell_type": "markdown",
   "metadata": {
    "id": "aG3kUfTmoAwb"
   },
   "source": [
    "You can evaluate the translation quality of your data generated from an LLM using:\n",
    "- [BLEU](https://en.wikipedia.org/wiki/BLEU)\n",
    "- [COMET](https://unbabel.github.io/COMET/html/index.html)\n",
    "- [MetricX](https://github.com/google-research/metricx)"
   ]
  },
  {
   "cell_type": "code",
   "execution_count": 19,
   "metadata": {
    "executionInfo": {
     "elapsed": 15,
     "status": "ok",
     "timestamp": 1736865024774,
     "user": {
      "displayName": "Hangsik Shin",
      "userId": "04632555686962088332"
     },
     "user_tz": -540
    },
    "id": "EGe_vlUvPVOM",
    "tags": []
   },
   "outputs": [],
   "source": [
    "metrics = [\n",
    "    # \"bleu\",\n",
    "    pointwise_metric.Comet(),\n",
    "    pointwise_metric.MetricX(),\n",
    "]"
   ]
  },
  {
   "cell_type": "markdown",
   "metadata": {
    "id": "xITUrMB_nbsg"
   },
   "source": [
    "# Prepare your dataset\n",
    "\n",
    "Evaluate stored generative AI model responses in an evaluation dataset."
   ]
  },
  {
   "cell_type": "code",
   "execution_count": 20,
   "metadata": {
    "executionInfo": {
     "elapsed": 1,
     "status": "ok",
     "timestamp": 1736865024776,
     "user": {
      "displayName": "Hangsik Shin",
      "userId": "04632555686962088332"
     },
     "user_tz": -540
    },
    "id": "XGY40wjrQWOc",
    "tags": []
   },
   "outputs": [],
   "source": [
    "sources = [\n",
    "    \"80명 탄 여객기, 강풍 등 악천후 속 눈 쌓인 활주로에 착륙하다가 사고\",\n",
    "    \"지난달 워싱턴 여객기-헬기 충돌 참사 등 최근 북미서 항공사고 잇달아\",\n",
    "]\n",
    "\n",
    "responses = [\n",
    "    \"The accident occurred while the passenger plane with 80 passengers on board was landing on a runway covered in strong winds and snow.\",\n",
    "    \"Aviation accidents continue in North America, including a passenger plane and helicopter crash in Washington last month.\",\n",
    "]\n",
    "\n",
    "references = [\n",
    "    \"Passenger plane carrying 80 people crashes while landing on snow-covered runway in severe weather including strong winds\",\n",
    "    \"A series of recent aviation accidents in North America, including the Washington plane-helicopter collision last month\",\n",
    "]\n",
    "\n",
    "eval_dataset = pd.DataFrame(\n",
    "    {\n",
    "        \"source\": sources,\n",
    "        \"response\": responses,\n",
    "        \"reference\": references,\n",
    "    }\n",
    ")"
   ]
  },
  {
   "cell_type": "markdown",
   "metadata": {
    "id": "ZJg5FdWfnhjz"
   },
   "source": [
    "# Run evaluation\n",
    "\n",
    "With the evaluation dataset and metrics defined, you can run evaluation for an `EvalTask` on different models and applications, and many other use cases."
   ]
  },
  {
   "cell_type": "code",
   "execution_count": 21,
   "metadata": {
    "colab": {
     "base_uri": "https://localhost:8080/",
     "height": 204
    },
    "executionInfo": {
     "elapsed": 12931,
     "status": "ok",
     "timestamp": 1736865072599,
     "user": {
      "displayName": "Hangsik Shin",
      "userId": "04632555686962088332"
     },
     "user_tz": -540
    },
    "id": "rOvo-LpsQTIj",
    "outputId": "177dea17-d54a-4662-f074-6ab8069e2707",
    "tags": []
   },
   "outputs": [
    {
     "data": {
      "text/html": [
       "\n",
       "        \n",
       "    <link rel=\"stylesheet\" href=\"https://fonts.googleapis.com/icon?family=Material+Icons\">\n",
       "    <style>\n",
       "      .view-vertex-resource,\n",
       "      .view-vertex-resource:hover,\n",
       "      .view-vertex-resource:visited {\n",
       "        position: relative;\n",
       "        display: inline-flex;\n",
       "        flex-direction: row;\n",
       "        height: 32px;\n",
       "        padding: 0 12px;\n",
       "          margin: 4px 18px;\n",
       "        gap: 4px;\n",
       "        border-radius: 4px;\n",
       "\n",
       "        align-items: center;\n",
       "        justify-content: center;\n",
       "        background-color: rgb(255, 255, 255);\n",
       "        color: rgb(51, 103, 214);\n",
       "\n",
       "        font-family: Roboto,\"Helvetica Neue\",sans-serif;\n",
       "        font-size: 13px;\n",
       "        font-weight: 500;\n",
       "        text-transform: uppercase;\n",
       "        text-decoration: none !important;\n",
       "\n",
       "        transition: box-shadow 280ms cubic-bezier(0.4, 0, 0.2, 1) 0s;\n",
       "        box-shadow: 0px 3px 1px -2px rgba(0,0,0,0.2), 0px 2px 2px 0px rgba(0,0,0,0.14), 0px 1px 5px 0px rgba(0,0,0,0.12);\n",
       "      }\n",
       "      .view-vertex-resource:active {\n",
       "        box-shadow: 0px 5px 5px -3px rgba(0,0,0,0.2),0px 8px 10px 1px rgba(0,0,0,0.14),0px 3px 14px 2px rgba(0,0,0,0.12);\n",
       "      }\n",
       "      .view-vertex-resource:active .view-vertex-ripple::before {\n",
       "        position: absolute;\n",
       "        top: 0;\n",
       "        bottom: 0;\n",
       "        left: 0;\n",
       "        right: 0;\n",
       "        border-radius: 4px;\n",
       "        pointer-events: none;\n",
       "\n",
       "        content: '';\n",
       "        background-color: rgb(51, 103, 214);\n",
       "        opacity: 0.12;\n",
       "      }\n",
       "      .view-vertex-icon {\n",
       "        font-size: 18px;\n",
       "      }\n",
       "    </style>\n",
       "  \n",
       "        <a class=\"view-vertex-resource\" id=\"view-vertex-resource-f68177ad-0010-426a-9b90-dcd4cdad7d07\" href=\"#view-view-vertex-resource-f68177ad-0010-426a-9b90-dcd4cdad7d07\">\n",
       "          <span class=\"material-icons view-vertex-icon\">science</span>\n",
       "          <span>View Experiment</span>\n",
       "        </a>\n",
       "        \n",
       "        <script>\n",
       "          (function () {\n",
       "            const link = document.getElementById('view-vertex-resource-f68177ad-0010-426a-9b90-dcd4cdad7d07');\n",
       "            link.addEventListener('click', (e) => {\n",
       "              if (window.google?.colab?.openUrl) {\n",
       "                window.google.colab.openUrl('https://console.cloud.google.com/vertex-ai/experiments/locations/us-central1/experiments/my-eval-task-experiment/runs?project=ai-hangsik');\n",
       "              } else {\n",
       "                window.open('https://console.cloud.google.com/vertex-ai/experiments/locations/us-central1/experiments/my-eval-task-experiment/runs?project=ai-hangsik', '_blank');\n",
       "              }\n",
       "              e.stopPropagation();\n",
       "              e.preventDefault();\n",
       "            });\n",
       "          })();\n",
       "        </script>\n",
       "    "
      ],
      "text/plain": [
       "<IPython.core.display.HTML object>"
      ]
     },
     "metadata": {},
     "output_type": "display_data"
    },
    {
     "name": "stdout",
     "output_type": "stream",
     "text": [
      "Associating projects/721521243942/locations/us-central1/metadataStores/default/contexts/my-eval-task-experiment-f3e95a84-75f8-4a47-a67a-acc85efd9397 to Experiment: my-eval-task-experiment\n"
     ]
    },
    {
     "data": {
      "text/html": [
       "\n",
       "        \n",
       "    <link rel=\"stylesheet\" href=\"https://fonts.googleapis.com/icon?family=Material+Icons\">\n",
       "    <style>\n",
       "      .view-vertex-resource,\n",
       "      .view-vertex-resource:hover,\n",
       "      .view-vertex-resource:visited {\n",
       "        position: relative;\n",
       "        display: inline-flex;\n",
       "        flex-direction: row;\n",
       "        height: 32px;\n",
       "        padding: 0 12px;\n",
       "          margin: 4px 18px;\n",
       "        gap: 4px;\n",
       "        border-radius: 4px;\n",
       "\n",
       "        align-items: center;\n",
       "        justify-content: center;\n",
       "        background-color: rgb(255, 255, 255);\n",
       "        color: rgb(51, 103, 214);\n",
       "\n",
       "        font-family: Roboto,\"Helvetica Neue\",sans-serif;\n",
       "        font-size: 13px;\n",
       "        font-weight: 500;\n",
       "        text-transform: uppercase;\n",
       "        text-decoration: none !important;\n",
       "\n",
       "        transition: box-shadow 280ms cubic-bezier(0.4, 0, 0.2, 1) 0s;\n",
       "        box-shadow: 0px 3px 1px -2px rgba(0,0,0,0.2), 0px 2px 2px 0px rgba(0,0,0,0.14), 0px 1px 5px 0px rgba(0,0,0,0.12);\n",
       "      }\n",
       "      .view-vertex-resource:active {\n",
       "        box-shadow: 0px 5px 5px -3px rgba(0,0,0,0.2),0px 8px 10px 1px rgba(0,0,0,0.14),0px 3px 14px 2px rgba(0,0,0,0.12);\n",
       "      }\n",
       "      .view-vertex-resource:active .view-vertex-ripple::before {\n",
       "        position: absolute;\n",
       "        top: 0;\n",
       "        bottom: 0;\n",
       "        left: 0;\n",
       "        right: 0;\n",
       "        border-radius: 4px;\n",
       "        pointer-events: none;\n",
       "\n",
       "        content: '';\n",
       "        background-color: rgb(51, 103, 214);\n",
       "        opacity: 0.12;\n",
       "      }\n",
       "      .view-vertex-icon {\n",
       "        font-size: 18px;\n",
       "      }\n",
       "    </style>\n",
       "  \n",
       "        <a class=\"view-vertex-resource\" id=\"view-vertex-resource-633c1909-d146-45f8-90ac-145660105981\" href=\"#view-view-vertex-resource-633c1909-d146-45f8-90ac-145660105981\">\n",
       "          <span class=\"material-icons view-vertex-icon\">science</span>\n",
       "          <span>View Experiment Run</span>\n",
       "        </a>\n",
       "        \n",
       "        <script>\n",
       "          (function () {\n",
       "            const link = document.getElementById('view-vertex-resource-633c1909-d146-45f8-90ac-145660105981');\n",
       "            link.addEventListener('click', (e) => {\n",
       "              if (window.google?.colab?.openUrl) {\n",
       "                window.google.colab.openUrl('https://console.cloud.google.com/vertex-ai/experiments/locations/us-central1/experiments/my-eval-task-experiment/runs/my-eval-task-experiment-f3e95a84-75f8-4a47-a67a-acc85efd9397?project=ai-hangsik');\n",
       "              } else {\n",
       "                window.open('https://console.cloud.google.com/vertex-ai/experiments/locations/us-central1/experiments/my-eval-task-experiment/runs/my-eval-task-experiment-f3e95a84-75f8-4a47-a67a-acc85efd9397?project=ai-hangsik', '_blank');\n",
       "              }\n",
       "              e.stopPropagation();\n",
       "              e.preventDefault();\n",
       "            });\n",
       "          })();\n",
       "        </script>\n",
       "    "
      ],
      "text/plain": [
       "<IPython.core.display.HTML object>"
      ]
     },
     "metadata": {},
     "output_type": "display_data"
    },
    {
     "name": "stdout",
     "output_type": "stream",
     "text": [
      "Computing metrics with a total of 4 Vertex Gen AI Evaluation Service API requests.\n"
     ]
    },
    {
     "name": "stderr",
     "output_type": "stream",
     "text": [
      "100%|██████████| 4/4 [00:07<00:00,  1.95s/it]"
     ]
    },
    {
     "name": "stdout",
     "output_type": "stream",
     "text": [
      "All 4 metric requests are successfully computed.\n",
      "Evaluation Took:7.8091191470157355 seconds\n"
     ]
    },
    {
     "name": "stderr",
     "output_type": "stream",
     "text": [
      "\n"
     ]
    },
    {
     "data": {
      "text/html": [
       "\n",
       "        \n",
       "    <link rel=\"stylesheet\" href=\"https://fonts.googleapis.com/icon?family=Material+Icons\">\n",
       "    <style>\n",
       "      .view-vertex-resource,\n",
       "      .view-vertex-resource:hover,\n",
       "      .view-vertex-resource:visited {\n",
       "        position: relative;\n",
       "        display: inline-flex;\n",
       "        flex-direction: row;\n",
       "        height: 32px;\n",
       "        padding: 0 12px;\n",
       "          margin: 4px 18px;\n",
       "        gap: 4px;\n",
       "        border-radius: 4px;\n",
       "\n",
       "        align-items: center;\n",
       "        justify-content: center;\n",
       "        background-color: rgb(255, 255, 255);\n",
       "        color: rgb(51, 103, 214);\n",
       "\n",
       "        font-family: Roboto,\"Helvetica Neue\",sans-serif;\n",
       "        font-size: 13px;\n",
       "        font-weight: 500;\n",
       "        text-transform: uppercase;\n",
       "        text-decoration: none !important;\n",
       "\n",
       "        transition: box-shadow 280ms cubic-bezier(0.4, 0, 0.2, 1) 0s;\n",
       "        box-shadow: 0px 3px 1px -2px rgba(0,0,0,0.2), 0px 2px 2px 0px rgba(0,0,0,0.14), 0px 1px 5px 0px rgba(0,0,0,0.12);\n",
       "      }\n",
       "      .view-vertex-resource:active {\n",
       "        box-shadow: 0px 5px 5px -3px rgba(0,0,0,0.2),0px 8px 10px 1px rgba(0,0,0,0.14),0px 3px 14px 2px rgba(0,0,0,0.12);\n",
       "      }\n",
       "      .view-vertex-resource:active .view-vertex-ripple::before {\n",
       "        position: absolute;\n",
       "        top: 0;\n",
       "        bottom: 0;\n",
       "        left: 0;\n",
       "        right: 0;\n",
       "        border-radius: 4px;\n",
       "        pointer-events: none;\n",
       "\n",
       "        content: '';\n",
       "        background-color: rgb(51, 103, 214);\n",
       "        opacity: 0.12;\n",
       "      }\n",
       "      .view-vertex-icon {\n",
       "        font-size: 18px;\n",
       "      }\n",
       "    </style>\n",
       "  \n",
       "        <a class=\"view-vertex-resource\" id=\"view-vertex-resource-a670f5a3-47b6-4cee-976a-39648427f030\" href=\"#view-view-vertex-resource-a670f5a3-47b6-4cee-976a-39648427f030\">\n",
       "          <span class=\"material-icons view-vertex-icon\">bar_chart</span>\n",
       "          <span>View evaluation results</span>\n",
       "        </a>\n",
       "        \n",
       "        <script>\n",
       "          (function () {\n",
       "            const link = document.getElementById('view-vertex-resource-a670f5a3-47b6-4cee-976a-39648427f030');\n",
       "            link.addEventListener('click', (e) => {\n",
       "              if (window.google?.colab?.openUrl) {\n",
       "                window.google.colab.openUrl('https://cloud.google.com/vertex-ai/generative-ai/docs/models/view-evaluation');\n",
       "              } else {\n",
       "                window.open('https://cloud.google.com/vertex-ai/generative-ai/docs/models/view-evaluation', '_blank');\n",
       "              }\n",
       "              e.stopPropagation();\n",
       "              e.preventDefault();\n",
       "            });\n",
       "          })();\n",
       "        </script>\n",
       "    "
      ],
      "text/plain": [
       "<IPython.core.display.HTML object>"
      ]
     },
     "metadata": {},
     "output_type": "display_data"
    }
   ],
   "source": [
    "eval_task = evaluation.EvalTask(\n",
    "    dataset=eval_dataset, metrics=metrics, experiment=EXPERIMENT_NAME\n",
    ")\n",
    "eval_result = eval_task.evaluate()"
   ]
  },
  {
   "cell_type": "markdown",
   "metadata": {
    "id": "GwnZMsXBnjS7"
   },
   "source": [
    "You can view the summary metrics and row-based metrics for each response in the `EvalResult`.\n"
   ]
  },
  {
   "cell_type": "code",
   "execution_count": 22,
   "metadata": {
    "colab": {
     "base_uri": "https://localhost:8080/",
     "height": 257
    },
    "executionInfo": {
     "elapsed": 129,
     "status": "ok",
     "timestamp": 1736865074412,
     "user": {
      "displayName": "Hangsik Shin",
      "userId": "04632555686962088332"
     },
     "user_tz": -540
    },
    "id": "2QOFq9YZROPr",
    "outputId": "8d528e40-0fff-4902-e6a2-916b8e8316ce",
    "tags": []
   },
   "outputs": [
    {
     "data": {
      "text/markdown": [
       "### Summary Metrics"
      ],
      "text/plain": [
       "<IPython.core.display.Markdown object>"
      ]
     },
     "metadata": {},
     "output_type": "display_data"
    },
    {
     "data": {
      "text/html": [
       "<div>\n",
       "<style scoped>\n",
       "    .dataframe tbody tr th:only-of-type {\n",
       "        vertical-align: middle;\n",
       "    }\n",
       "\n",
       "    .dataframe tbody tr th {\n",
       "        vertical-align: top;\n",
       "    }\n",
       "\n",
       "    .dataframe thead th {\n",
       "        text-align: right;\n",
       "    }\n",
       "</style>\n",
       "<table border=\"1\" class=\"dataframe\">\n",
       "  <thead>\n",
       "    <tr style=\"text-align: right;\">\n",
       "      <th></th>\n",
       "      <th>row_count</th>\n",
       "      <th>comet/mean</th>\n",
       "      <th>comet/std</th>\n",
       "      <th>metricx/mean</th>\n",
       "      <th>metricx/std</th>\n",
       "    </tr>\n",
       "  </thead>\n",
       "  <tbody>\n",
       "    <tr>\n",
       "      <th>0</th>\n",
       "      <td>2.0</td>\n",
       "      <td>0.865841</td>\n",
       "      <td>0.009575</td>\n",
       "      <td>3.087396</td>\n",
       "      <td>1.369784</td>\n",
       "    </tr>\n",
       "  </tbody>\n",
       "</table>\n",
       "</div>"
      ],
      "text/plain": [
       "   row_count  comet/mean  comet/std  metricx/mean  metricx/std\n",
       "0        2.0    0.865841   0.009575      3.087396     1.369784"
      ]
     },
     "metadata": {},
     "output_type": "display_data"
    },
    {
     "data": {
      "text/markdown": [
       "### Row-based Metrics"
      ],
      "text/plain": [
       "<IPython.core.display.Markdown object>"
      ]
     },
     "metadata": {},
     "output_type": "display_data"
    },
    {
     "data": {
      "text/html": [
       "<div>\n",
       "<style scoped>\n",
       "    .dataframe tbody tr th:only-of-type {\n",
       "        vertical-align: middle;\n",
       "    }\n",
       "\n",
       "    .dataframe tbody tr th {\n",
       "        vertical-align: top;\n",
       "    }\n",
       "\n",
       "    .dataframe thead th {\n",
       "        text-align: right;\n",
       "    }\n",
       "</style>\n",
       "<table border=\"1\" class=\"dataframe\">\n",
       "  <thead>\n",
       "    <tr style=\"text-align: right;\">\n",
       "      <th></th>\n",
       "      <th>source</th>\n",
       "      <th>response</th>\n",
       "      <th>reference</th>\n",
       "      <th>comet/score</th>\n",
       "      <th>metricx/score</th>\n",
       "    </tr>\n",
       "  </thead>\n",
       "  <tbody>\n",
       "    <tr>\n",
       "      <th>0</th>\n",
       "      <td>80명 탄 여객기, 강풍 등 악천후 속 눈 쌓인 활주로에 착륙하다가 사고</td>\n",
       "      <td>The accident occurred while the passenger plane with 80 passengers on board was landing on a runway covered in strong winds and snow.</td>\n",
       "      <td>Passenger plane carrying 80 people crashes while landing on snow-covered runway in severe weather including strong winds</td>\n",
       "      <td>0.859070</td>\n",
       "      <td>2.118812</td>\n",
       "    </tr>\n",
       "    <tr>\n",
       "      <th>1</th>\n",
       "      <td>지난달 워싱턴 여객기-헬기 충돌 참사 등 최근 북미서 항공사고 잇달아</td>\n",
       "      <td>Aviation accidents continue in North America, including a passenger plane and helicopter crash in Washington last month.</td>\n",
       "      <td>A series of recent aviation accidents in North America, including the Washington plane-helicopter collision last month</td>\n",
       "      <td>0.872612</td>\n",
       "      <td>4.055979</td>\n",
       "    </tr>\n",
       "  </tbody>\n",
       "</table>\n",
       "</div>"
      ],
      "text/plain": [
       "                                     source  \\\n",
       "0  80명 탄 여객기, 강풍 등 악천후 속 눈 쌓인 활주로에 착륙하다가 사고   \n",
       "1    지난달 워싱턴 여객기-헬기 충돌 참사 등 최근 북미서 항공사고 잇달아   \n",
       "\n",
       "                                                                                                                                response  \\\n",
       "0  The accident occurred while the passenger plane with 80 passengers on board was landing on a runway covered in strong winds and snow.   \n",
       "1               Aviation accidents continue in North America, including a passenger plane and helicopter crash in Washington last month.   \n",
       "\n",
       "                                                                                                                  reference  \\\n",
       "0  Passenger plane carrying 80 people crashes while landing on snow-covered runway in severe weather including strong winds   \n",
       "1    A series of recent aviation accidents in North America, including the Washington plane-helicopter collision last month   \n",
       "\n",
       "   comet/score  metricx/score  \n",
       "0     0.859070       2.118812  \n",
       "1     0.872612       4.055979  "
      ]
     },
     "metadata": {},
     "output_type": "display_data"
    }
   ],
   "source": [
    "display_eval_result(eval_result, rows=2)"
   ]
  },
  {
   "cell_type": "markdown",
   "metadata": {
    "id": "BLMKgL2OnCyt"
   },
   "source": [
    "# Clean up\n",
    "\n",
    "Delete ExperimentRun created by the evaluation."
   ]
  },
  {
   "cell_type": "code",
   "execution_count": 11,
   "metadata": {
    "id": "Dv8drshKnEf2",
    "tags": []
   },
   "outputs": [
    {
     "name": "stdout",
     "output_type": "stream",
     "text": [
      "Experiment run c9a3c1eb-6ce6-4f5a-859e-1869b921d6e0 skipped backing tensorboard run deletion.\n",
      "To delete backing tensorboard run, execute the following:\n",
      "tensorboard_run_artifact = aiplatform.metadata.artifact.Artifact(artifact_name=f\"my-eval-task-experiment-c9a3c1eb-6ce6-4f5a-859e-1869b921d6e0-tb-run\")\n",
      "tensorboard_run_resource = aiplatform.TensorboardRun(tensorboard_run_artifact.metadata[\"resourceName\"])\n",
      "tensorboard_run_resource.delete()\n",
      "tensorboard_run_artifact.delete()\n",
      "Deleting Context : projects/721521243942/locations/us-central1/metadataStores/default/contexts/my-eval-task-experiment-c9a3c1eb-6ce6-4f5a-859e-1869b921d6e0\n",
      "Context deleted. . Resource name: projects/721521243942/locations/us-central1/metadataStores/default/contexts/my-eval-task-experiment-c9a3c1eb-6ce6-4f5a-859e-1869b921d6e0\n",
      "Deleting Context resource: projects/721521243942/locations/us-central1/metadataStores/default/contexts/my-eval-task-experiment-c9a3c1eb-6ce6-4f5a-859e-1869b921d6e0\n",
      "Delete Context backing LRO: projects/721521243942/locations/us-central1/metadataStores/default/contexts/my-eval-task-experiment-c9a3c1eb-6ce6-4f5a-859e-1869b921d6e0/operations/761891086225375232\n",
      "Context resource projects/721521243942/locations/us-central1/metadataStores/default/contexts/my-eval-task-experiment-c9a3c1eb-6ce6-4f5a-859e-1869b921d6e0 deleted.\n"
     ]
    }
   ],
   "source": [
    "from google.cloud import aiplatform\n",
    "\n",
    "aiplatform.ExperimentRun(\n",
    "    run_name=eval_result.metadata[\"experiment_run\"],\n",
    "    experiment=eval_result.metadata[\"experiment\"],\n",
    ").delete()"
   ]
  },
  {
   "cell_type": "code",
   "execution_count": null,
   "metadata": {},
   "outputs": [],
   "source": []
  }
 ],
 "metadata": {
  "colab": {
   "provenance": [
    {
     "file_id": "https://github.com/GoogleCloudPlatform/generative-ai/blob/main/gemini/evaluation/evaluate_translation.ipynb",
     "timestamp": 1736864817214
    }
   ],
   "toc_visible": true
  },
  "environment": {
   "kernel": "conda-base-py",
   "name": "workbench-notebooks.m127",
   "type": "gcloud",
   "uri": "us-docker.pkg.dev/deeplearning-platform-release/gcr.io/workbench-notebooks:m127"
  },
  "kernelspec": {
   "display_name": "Python 3 (ipykernel) (Local)",
   "language": "python",
   "name": "conda-base-py"
  },
  "language_info": {
   "codemirror_mode": {
    "name": "ipython",
    "version": 3
   },
   "file_extension": ".py",
   "mimetype": "text/x-python",
   "name": "python",
   "nbconvert_exporter": "python",
   "pygments_lexer": "ipython3",
   "version": "3.10.16"
  }
 },
 "nbformat": 4,
 "nbformat_minor": 4
}
