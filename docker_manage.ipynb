{
 "cells": [
  {
   "cell_type": "code",
   "execution_count": null,
   "id": "056cdc65-8d5b-4087-90a8-9eb39b8ea65e",
   "metadata": {},
   "outputs": [],
   "source": [
    "# Copyright 2024 Forusone\n",
    "#\n",
    "# Licensed under the Apache License, Version 2.0 (the \"License\");\n",
    "# you may not use this file except in compliance with the License.\n",
    "# You may obtain a copy of the License at\n",
    "#\n",
    "#     https://www.apache.org/licenses/LICENSE-2.0\n",
    "#\n",
    "# Unless required by applicable law or agreed to in writing, software\n",
    "# distributed under the License is distributed on an \"AS IS\" BASIS,\n",
    "# WITHOUT WARRANTIES OR CONDITIONS OF ANY KIND, either express or implied.\n",
    "# See the License for the specific language governing permissions and\n",
    "# limitations under the License."
   ]
  },
  {
   "cell_type": "markdown",
   "id": "c96b11eb-26e2-490e-9d4b-bb295c4708a8",
   "metadata": {},
   "source": [
    "## Docker management"
   ]
  },
  {
   "cell_type": "code",
   "execution_count": 1,
   "id": "bf89de7a-b5ce-4e62-8934-3ce1c01b46a3",
   "metadata": {
    "scrolled": true
   },
   "outputs": [
    {
     "name": "stdout",
     "output_type": "stream",
     "text": [
      "/home/jupyter/llmOps_vertexAI\n"
     ]
    }
   ],
   "source": [
    "%cd /home/jupyter/llmOps_vertexAI/"
   ]
  },
  {
   "cell_type": "code",
   "execution_count": 2,
   "id": "5c4c5914-5a5c-494c-a684-0671e528e2c7",
   "metadata": {},
   "outputs": [
    {
     "name": "stdout",
     "output_type": "stream",
     "text": [
      "REPOSITORY                                                                                                      TAG       IMAGE ID       CREATED        SIZE\n",
      "us-central1-docker.pkg.dev/ai-hangsik/custom-container-repo/sklearn-fastapi-server                              latest    28e1a768aebd   6 hours ago    1.42GB\n",
      "us-docker.pkg.dev/deeplearning-platform-release/vertex-model-garden/vllm-inference.cu121.0-5.ubuntu2204.py310   latest    339732af3b9e   3 months ago   26.4GB\n"
     ]
    }
   ],
   "source": [
    "!docker images"
   ]
  },
  {
   "cell_type": "code",
   "execution_count": null,
   "id": "19fab780-0b4c-45ce-84e8-0513f4746211",
   "metadata": {},
   "outputs": [],
   "source": [
    "!docker rmi -f 545a407ea139"
   ]
  },
  {
   "cell_type": "code",
   "execution_count": 3,
   "id": "60cdf301-ee5b-4f24-be96-ee575b5cdca3",
   "metadata": {},
   "outputs": [
    {
     "name": "stdout",
     "output_type": "stream",
     "text": [
      "CONTAINER ID   IMAGE                                                                                                           COMMAND                  CREATED          STATUS                        PORTS                                                                       NAMES\n",
      "a25ff84f6625   us-docker.pkg.dev/deeplearning-platform-release/vertex-model-garden/vllm-inference.cu121.0-5.ubuntu2204.py310   \"./vertex/gcs_downlo…\"   3 minutes ago    Up 3 minutes                  6006/tcp, 7080/tcp, 8888/tcp, 0.0.0.0:49155->8080/tcp, :::49155->8080/tcp   kind_elgamal\n",
      "1ceb24b026e8   us-docker.pkg.dev/deeplearning-platform-release/vertex-model-garden/vllm-inference.cu121.0-5.ubuntu2204.py310   \"./vertex/gcs_downlo…\"   27 minutes ago   Exited (137) 3 minutes ago                                                                                stupefied_lalande\n",
      "ac8edb6d52c5   us-docker.pkg.dev/deeplearning-platform-release/vertex-model-garden/vllm-inference.cu121.0-5.ubuntu2204.py310   \"./vertex/gcs_downlo…\"   31 minutes ago   Exited (2) 29 minutes ago                                                                                 flamboyant_mccarthy\n",
      "bddc260c95e5   us-central1-docker.pkg.dev/ai-hangsik/custom-container-repo/sklearn-fastapi-server                              \"/app/entrypoint.sh\"     6 hours ago      Exited (137) 43 minutes ago                                                                               local-iris\n"
     ]
    }
   ],
   "source": [
    "!docker ps -a"
   ]
  },
  {
   "cell_type": "code",
   "execution_count": null,
   "id": "a3e0cd2b-38f4-476d-ba96-e37fcfc35706",
   "metadata": {},
   "outputs": [],
   "source": [
    "!docker logs bddc260c95e5"
   ]
  },
  {
   "cell_type": "code",
   "execution_count": null,
   "id": "ba424be6-0b27-4192-a437-67b86f1b5458",
   "metadata": {},
   "outputs": [],
   "source": [
    "!docker stop "
   ]
  },
  {
   "cell_type": "code",
   "execution_count": null,
   "id": "c75864f2-ab0e-439b-bbc8-998c9e7f57a9",
   "metadata": {},
   "outputs": [],
   "source": [
    "!docker rm local-iris"
   ]
  },
  {
   "cell_type": "code",
   "execution_count": null,
   "id": "3b968112-a4a5-42be-b4d6-55184b33874d",
   "metadata": {},
   "outputs": [],
   "source": [
    "!docker rmi -f $(docker images | grep \"^<none>\" | awk \"{print $3}\")"
   ]
  },
  {
   "cell_type": "code",
   "execution_count": null,
   "id": "cc7958e2-3445-45f3-be9a-1ff6ee976a3f",
   "metadata": {},
   "outputs": [],
   "source": []
  },
  {
   "cell_type": "code",
   "execution_count": null,
   "id": "eae28aa2-9584-4d9e-9288-25a1d7369395",
   "metadata": {},
   "outputs": [],
   "source": []
  },
  {
   "cell_type": "code",
   "execution_count": null,
   "id": "ab7bc3a2-2c31-4444-ad01-522d3e1f067d",
   "metadata": {},
   "outputs": [],
   "source": []
  }
 ],
 "metadata": {
  "environment": {
   "kernel": "conda-base-py",
   "name": "workbench-notebooks.m127",
   "type": "gcloud",
   "uri": "us-docker.pkg.dev/deeplearning-platform-release/gcr.io/workbench-notebooks:m127"
  },
  "kernelspec": {
   "display_name": "Python 3 (ipykernel)",
   "language": "python",
   "name": "conda-base-py"
  },
  "language_info": {
   "codemirror_mode": {
    "name": "ipython",
    "version": 3
   },
   "file_extension": ".py",
   "mimetype": "text/x-python",
   "name": "python",
   "nbconvert_exporter": "python",
   "pygments_lexer": "ipython3",
   "version": "3.10.16"
  }
 },
 "nbformat": 4,
 "nbformat_minor": 5
}
